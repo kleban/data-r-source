{
 "cells": [
  {
   "cell_type": "markdown",
   "metadata": {
    "cell_id": "e5cde04d81ef4f77b739f6cf4b089fba",
    "deepnote_cell_type": "text-cell-h1",
    "is_collapsed": false,
    "tags": []
   },
   "source": [
    "---\n",
    "\n",
    "author: Юрій Клебан\n",
    "\n",
    "---"
   ]
  },
  {
   "cell_type": "markdown",
   "metadata": {
    "cell_id": "dc5a69dc35bd4b36a183e5f00d181800",
    "deepnote_cell_height": 70,
    "deepnote_cell_type": "markdown",
    "tags": []
   },
   "source": [
    "# Робота з неіменованими та \"поганоіменованими\" даними"
   ]
  },
  {
   "cell_type": "markdown",
   "metadata": {
    "tags": []
   },
   "source": [
    "## Іменування даних"
   ]
  },
  {
   "cell_type": "markdown",
   "metadata": {
    "cell_id": "3748bb7299b24048800999fd31a1f303",
    "deepnote_cell_height": 249.15625,
    "deepnote_cell_type": "markdown",
    "tags": []
   },
   "source": [
    "Першим прикладом проблем у даних можна розгянути читання неіменованих даних, тобто стопці таблиці не мають заголовків у файлі.\n",
    "\n",
    "Створимо такий файл у блокноті і зчитаємо його:"
   ]
  },
  {
   "cell_type": "code",
   "execution_count": 3,
   "metadata": {
    "cell_id": "ba629ad1cff343a899fe45ae07c40b8d",
    "deepnote_cell_height": 99,
    "deepnote_cell_type": "code",
    "deepnote_output_heights": [
     null,
     219
    ],
    "deepnote_to_be_reexecuted": false,
    "execution_millis": 75,
    "execution_start": 1650389176553,
    "output_cleared": true,
    "source_hash": "af0c3da",
    "tags": [],
    "vscode": {
     "languageId": "r"
    }
   },
   "outputs": [
    {
     "data": {
      "text/html": [
       "<table class=\"dataframe\">\n",
       "<caption>A data.frame: 5 × 4</caption>\n",
       "<thead>\n",
       "\t<tr><th scope=col>X23</th><th scope=col>X185</th><th scope=col>X85.7</th><th scope=col>Male</th></tr>\n",
       "\t<tr><th scope=col>&lt;int&gt;</th><th scope=col>&lt;chr&gt;</th><th scope=col>&lt;dbl&gt;</th><th scope=col>&lt;chr&gt;</th></tr>\n",
       "</thead>\n",
       "<tbody>\n",
       "\t<tr><td>41</td><td>175 </td><td>68.3</td><td>M               </td></tr>\n",
       "\t<tr><td>11</td><td>142*</td><td>55.4</td><td>Female          </td></tr>\n",
       "\t<tr><td>12</td><td>NA  </td><td>48.2</td><td>Man             </td></tr>\n",
       "\t<tr><td>54</td><td>171 </td><td>  NA</td><td>Looks like a man</td></tr>\n",
       "\t<tr><td>32</td><td>168 </td><td>78.0</td><td>F               </td></tr>\n",
       "</tbody>\n",
       "</table>\n"
      ],
      "text/latex": [
       "A data.frame: 5 × 4\n",
       "\\begin{tabular}{llll}\n",
       " X23 & X185 & X85.7 & Male\\\\\n",
       " <int> & <chr> & <dbl> & <chr>\\\\\n",
       "\\hline\n",
       "\t 41 & 175  & 68.3 & M               \\\\\n",
       "\t 11 & 142* & 55.4 & Female          \\\\\n",
       "\t 12 & NA   & 48.2 & Man             \\\\\n",
       "\t 54 & 171  &   NA & Looks like a man\\\\\n",
       "\t 32 & 168  & 78.0 & F               \\\\\n",
       "\\end{tabular}\n"
      ],
      "text/markdown": [
       "\n",
       "A data.frame: 5 × 4\n",
       "\n",
       "| X23 &lt;int&gt; | X185 &lt;chr&gt; | X85.7 &lt;dbl&gt; | Male &lt;chr&gt; |\n",
       "|---|---|---|---|\n",
       "| 41 | 175  | 68.3 | M                |\n",
       "| 11 | 142* | 55.4 | Female           |\n",
       "| 12 | NA   | 48.2 | Man              |\n",
       "| 54 | 171  |   NA | Looks like a man |\n",
       "| 32 | 168  | 78.0 | F                |\n",
       "\n"
      ],
      "text/plain": [
       "  X23 X185 X85.7 Male            \n",
       "1 41  175  68.3  M               \n",
       "2 11  142* 55.4  Female          \n",
       "3 12  NA   48.2  Man             \n",
       "4 54  171    NA  Looks like a man\n",
       "5 32  168  78.0  F               "
      ]
     },
     "metadata": {},
     "output_type": "display_data"
    }
   ],
   "source": [
    "data <- read.csv(\"data/untitled.csv\")\n",
    "data"
   ]
  },
  {
   "cell_type": "markdown",
   "metadata": {
    "cell_id": "1646cda6ee244f21aea0672abb28a312",
    "deepnote_cell_height": 74.78125,
    "deepnote_cell_type": "markdown",
    "tags": []
   },
   "source": [
    "Зверніть увагу, що у якості стовпців взято перший рядок даних у додано `X` на початку. Зчитаємо дані із параметром, що вказує на відсутність заголовків:"
   ]
  },
  {
   "cell_type": "code",
   "execution_count": 4,
   "metadata": {
    "cell_id": "071784be9f9e4507b487a1ebd15ed904",
    "deepnote_cell_height": 429.375,
    "deepnote_cell_type": "code",
    "deepnote_output_heights": [
     null,
     248
    ],
    "deepnote_to_be_reexecuted": false,
    "execution_millis": 33,
    "execution_start": 1650389318247,
    "owner_user_id": "e217be60-8088-4d01-8fcf-08f2a3d75b6d",
    "source_hash": "d1f77be1",
    "tags": [],
    "vscode": {
     "languageId": "r"
    }
   },
   "outputs": [
    {
     "data": {
      "text/html": [
       "<table class=\"dataframe\">\n",
       "<caption>A data.frame: 6 × 4</caption>\n",
       "<thead>\n",
       "\t<tr><th scope=col>V1</th><th scope=col>V2</th><th scope=col>V3</th><th scope=col>V4</th></tr>\n",
       "\t<tr><th scope=col>&lt;int&gt;</th><th scope=col>&lt;chr&gt;</th><th scope=col>&lt;dbl&gt;</th><th scope=col>&lt;chr&gt;</th></tr>\n",
       "</thead>\n",
       "<tbody>\n",
       "\t<tr><td>23</td><td>185 </td><td>85.7</td><td>Male            </td></tr>\n",
       "\t<tr><td>41</td><td>175 </td><td>68.3</td><td>M               </td></tr>\n",
       "\t<tr><td>11</td><td>142*</td><td>55.4</td><td>Female          </td></tr>\n",
       "\t<tr><td>12</td><td>NA  </td><td>48.2</td><td>Man             </td></tr>\n",
       "\t<tr><td>54</td><td>171 </td><td>  NA</td><td>Looks like a man</td></tr>\n",
       "\t<tr><td>32</td><td>168 </td><td>78.0</td><td>F               </td></tr>\n",
       "</tbody>\n",
       "</table>\n"
      ],
      "text/latex": [
       "A data.frame: 6 × 4\n",
       "\\begin{tabular}{llll}\n",
       " V1 & V2 & V3 & V4\\\\\n",
       " <int> & <chr> & <dbl> & <chr>\\\\\n",
       "\\hline\n",
       "\t 23 & 185  & 85.7 & Male            \\\\\n",
       "\t 41 & 175  & 68.3 & M               \\\\\n",
       "\t 11 & 142* & 55.4 & Female          \\\\\n",
       "\t 12 & NA   & 48.2 & Man             \\\\\n",
       "\t 54 & 171  &   NA & Looks like a man\\\\\n",
       "\t 32 & 168  & 78.0 & F               \\\\\n",
       "\\end{tabular}\n"
      ],
      "text/markdown": [
       "\n",
       "A data.frame: 6 × 4\n",
       "\n",
       "| V1 &lt;int&gt; | V2 &lt;chr&gt; | V3 &lt;dbl&gt; | V4 &lt;chr&gt; |\n",
       "|---|---|---|---|\n",
       "| 23 | 185  | 85.7 | Male             |\n",
       "| 41 | 175  | 68.3 | M                |\n",
       "| 11 | 142* | 55.4 | Female           |\n",
       "| 12 | NA   | 48.2 | Man              |\n",
       "| 54 | 171  |   NA | Looks like a man |\n",
       "| 32 | 168  | 78.0 | F                |\n",
       "\n"
      ],
      "text/plain": [
       "  V1 V2   V3   V4              \n",
       "1 23 185  85.7 Male            \n",
       "2 41 175  68.3 M               \n",
       "3 11 142* 55.4 Female          \n",
       "4 12 NA   48.2 Man             \n",
       "5 54 171    NA Looks like a man\n",
       "6 32 168  78.0 F               "
      ]
     },
     "metadata": {},
     "output_type": "display_data"
    }
   ],
   "source": [
    "data <- read.csv(\"data/untitled.csv\", header = FALSE)\n",
    "data"
   ]
  },
  {
   "cell_type": "markdown",
   "metadata": {
    "cell_id": "72e9b920f1334b8b9f44571d538f0b50",
    "deepnote_cell_height": 74.78125,
    "deepnote_cell_type": "markdown",
    "tags": []
   },
   "source": [
    "Проблема іменування не вирішена, дані ми уже не втратили. Передамо одночасно з читанням інформацію про назви стовпців:"
   ]
  },
  {
   "cell_type": "code",
   "execution_count": 11,
   "metadata": {
    "cell_id": "b2f2910a77ec4776aa7d881a36d74863",
    "deepnote_cell_height": 465.375,
    "deepnote_cell_type": "code",
    "deepnote_output_heights": [
     null,
     248
    ],
    "deepnote_to_be_reexecuted": false,
    "execution_millis": 33,
    "execution_start": 1650389438672,
    "source_hash": "cba21c26",
    "tags": [],
    "vscode": {
     "languageId": "r"
    }
   },
   "outputs": [
    {
     "data": {
      "text/html": [
       "<table class=\"dataframe\">\n",
       "<caption>A data.frame: 6 × 4</caption>\n",
       "<thead>\n",
       "\t<tr><th scope=col>Age</th><th scope=col>Height</th><th scope=col>Weight</th><th scope=col>Gender</th></tr>\n",
       "\t<tr><th scope=col>&lt;int&gt;</th><th scope=col>&lt;chr&gt;</th><th scope=col>&lt;dbl&gt;</th><th scope=col>&lt;chr&gt;</th></tr>\n",
       "</thead>\n",
       "<tbody>\n",
       "\t<tr><td>23</td><td>185 </td><td>85.7</td><td>Male            </td></tr>\n",
       "\t<tr><td>41</td><td>175 </td><td>68.3</td><td>M               </td></tr>\n",
       "\t<tr><td>11</td><td>142*</td><td>55.4</td><td>Female          </td></tr>\n",
       "\t<tr><td>12</td><td>NA  </td><td>48.2</td><td>Man             </td></tr>\n",
       "\t<tr><td>54</td><td>171 </td><td>  NA</td><td>Looks like a man</td></tr>\n",
       "\t<tr><td>32</td><td>168 </td><td>78.0</td><td>F               </td></tr>\n",
       "</tbody>\n",
       "</table>\n"
      ],
      "text/latex": [
       "A data.frame: 6 × 4\n",
       "\\begin{tabular}{llll}\n",
       " Age & Height & Weight & Gender\\\\\n",
       " <int> & <chr> & <dbl> & <chr>\\\\\n",
       "\\hline\n",
       "\t 23 & 185  & 85.7 & Male            \\\\\n",
       "\t 41 & 175  & 68.3 & M               \\\\\n",
       "\t 11 & 142* & 55.4 & Female          \\\\\n",
       "\t 12 & NA   & 48.2 & Man             \\\\\n",
       "\t 54 & 171  &   NA & Looks like a man\\\\\n",
       "\t 32 & 168  & 78.0 & F               \\\\\n",
       "\\end{tabular}\n"
      ],
      "text/markdown": [
       "\n",
       "A data.frame: 6 × 4\n",
       "\n",
       "| Age &lt;int&gt; | Height &lt;chr&gt; | Weight &lt;dbl&gt; | Gender &lt;chr&gt; |\n",
       "|---|---|---|---|\n",
       "| 23 | 185  | 85.7 | Male             |\n",
       "| 41 | 175  | 68.3 | M                |\n",
       "| 11 | 142* | 55.4 | Female           |\n",
       "| 12 | NA   | 48.2 | Man              |\n",
       "| 54 | 171  |   NA | Looks like a man |\n",
       "| 32 | 168  | 78.0 | F                |\n",
       "\n"
      ],
      "text/plain": [
       "  Age Height Weight Gender          \n",
       "1 23  185    85.7   Male            \n",
       "2 41  175    68.3   M               \n",
       "3 11  142*   55.4   Female          \n",
       "4 12  NA     48.2   Man             \n",
       "5 54  171      NA   Looks like a man\n",
       "6 32  168    78.0   F               "
      ]
     },
     "metadata": {},
     "output_type": "display_data"
    }
   ],
   "source": [
    "data <- read.csv(\"data/untitled.csv\", \n",
    "            header = FALSE,\n",
    "            col.names = c(\"Age\",\"Height\", \"Weight\", \"Gender\"))\n",
    "data"
   ]
  },
  {
   "cell_type": "markdown",
   "metadata": {
    "cell_id": "7cab4727da4d4e8aa92af2b45669e9e8",
    "deepnote_cell_height": 52.390625,
    "deepnote_cell_type": "markdown",
    "tags": []
   },
   "source": [
    "Ще одним варіантом задання назв стовпців є використання функції `colnames()` як для усіх різом, так і для окремого:"
   ]
  },
  {
   "cell_type": "code",
   "execution_count": 13,
   "metadata": {
    "cell_id": "ec3c8040f0dd44b38271c5b8dc30edfc",
    "deepnote_cell_height": 678,
    "deepnote_cell_type": "code",
    "deepnote_output_heights": [
     248,
     248
    ],
    "deepnote_to_be_reexecuted": false,
    "execution_millis": 57,
    "execution_start": 1650389604515,
    "source_hash": "d1a601e",
    "tags": [],
    "vscode": {
     "languageId": "r"
    }
   },
   "outputs": [
    {
     "data": {
      "text/html": [
       "<table class=\"dataframe\">\n",
       "<caption>A data.frame: 6 × 4</caption>\n",
       "<thead>\n",
       "\t<tr><th scope=col>age</th><th scope=col>height</th><th scope=col>width</th><th scope=col>gender</th></tr>\n",
       "\t<tr><th scope=col>&lt;int&gt;</th><th scope=col>&lt;chr&gt;</th><th scope=col>&lt;dbl&gt;</th><th scope=col>&lt;chr&gt;</th></tr>\n",
       "</thead>\n",
       "<tbody>\n",
       "\t<tr><td>23</td><td>185 </td><td>85.7</td><td>Male            </td></tr>\n",
       "\t<tr><td>41</td><td>175 </td><td>68.3</td><td>M               </td></tr>\n",
       "\t<tr><td>11</td><td>142*</td><td>55.4</td><td>Female          </td></tr>\n",
       "\t<tr><td>12</td><td>NA  </td><td>48.2</td><td>Man             </td></tr>\n",
       "\t<tr><td>54</td><td>171 </td><td>  NA</td><td>Looks like a man</td></tr>\n",
       "\t<tr><td>32</td><td>168 </td><td>78.0</td><td>F               </td></tr>\n",
       "</tbody>\n",
       "</table>\n"
      ],
      "text/latex": [
       "A data.frame: 6 × 4\n",
       "\\begin{tabular}{llll}\n",
       " age & height & width & gender\\\\\n",
       " <int> & <chr> & <dbl> & <chr>\\\\\n",
       "\\hline\n",
       "\t 23 & 185  & 85.7 & Male            \\\\\n",
       "\t 41 & 175  & 68.3 & M               \\\\\n",
       "\t 11 & 142* & 55.4 & Female          \\\\\n",
       "\t 12 & NA   & 48.2 & Man             \\\\\n",
       "\t 54 & 171  &   NA & Looks like a man\\\\\n",
       "\t 32 & 168  & 78.0 & F               \\\\\n",
       "\\end{tabular}\n"
      ],
      "text/markdown": [
       "\n",
       "A data.frame: 6 × 4\n",
       "\n",
       "| age &lt;int&gt; | height &lt;chr&gt; | width &lt;dbl&gt; | gender &lt;chr&gt; |\n",
       "|---|---|---|---|\n",
       "| 23 | 185  | 85.7 | Male             |\n",
       "| 41 | 175  | 68.3 | M                |\n",
       "| 11 | 142* | 55.4 | Female           |\n",
       "| 12 | NA   | 48.2 | Man              |\n",
       "| 54 | 171  |   NA | Looks like a man |\n",
       "| 32 | 168  | 78.0 | F                |\n",
       "\n"
      ],
      "text/plain": [
       "  age height width gender          \n",
       "1 23  185    85.7  Male            \n",
       "2 41  175    68.3  M               \n",
       "3 11  142*   55.4  Female          \n",
       "4 12  NA     48.2  Man             \n",
       "5 54  171      NA  Looks like a man\n",
       "6 32  168    78.0  F               "
      ]
     },
     "metadata": {},
     "output_type": "display_data"
    },
    {
     "data": {
      "text/html": [
       "<table class=\"dataframe\">\n",
       "<caption>A data.frame: 6 × 4</caption>\n",
       "<thead>\n",
       "\t<tr><th scope=col>age</th><th scope=col>HEIGHT</th><th scope=col>width</th><th scope=col>gender</th></tr>\n",
       "\t<tr><th scope=col>&lt;int&gt;</th><th scope=col>&lt;chr&gt;</th><th scope=col>&lt;dbl&gt;</th><th scope=col>&lt;chr&gt;</th></tr>\n",
       "</thead>\n",
       "<tbody>\n",
       "\t<tr><td>23</td><td>185 </td><td>85.7</td><td>Male            </td></tr>\n",
       "\t<tr><td>41</td><td>175 </td><td>68.3</td><td>M               </td></tr>\n",
       "\t<tr><td>11</td><td>142*</td><td>55.4</td><td>Female          </td></tr>\n",
       "\t<tr><td>12</td><td>NA  </td><td>48.2</td><td>Man             </td></tr>\n",
       "\t<tr><td>54</td><td>171 </td><td>  NA</td><td>Looks like a man</td></tr>\n",
       "\t<tr><td>32</td><td>168 </td><td>78.0</td><td>F               </td></tr>\n",
       "</tbody>\n",
       "</table>\n"
      ],
      "text/latex": [
       "A data.frame: 6 × 4\n",
       "\\begin{tabular}{llll}\n",
       " age & HEIGHT & width & gender\\\\\n",
       " <int> & <chr> & <dbl> & <chr>\\\\\n",
       "\\hline\n",
       "\t 23 & 185  & 85.7 & Male            \\\\\n",
       "\t 41 & 175  & 68.3 & M               \\\\\n",
       "\t 11 & 142* & 55.4 & Female          \\\\\n",
       "\t 12 & NA   & 48.2 & Man             \\\\\n",
       "\t 54 & 171  &   NA & Looks like a man\\\\\n",
       "\t 32 & 168  & 78.0 & F               \\\\\n",
       "\\end{tabular}\n"
      ],
      "text/markdown": [
       "\n",
       "A data.frame: 6 × 4\n",
       "\n",
       "| age &lt;int&gt; | HEIGHT &lt;chr&gt; | width &lt;dbl&gt; | gender &lt;chr&gt; |\n",
       "|---|---|---|---|\n",
       "| 23 | 185  | 85.7 | Male             |\n",
       "| 41 | 175  | 68.3 | M                |\n",
       "| 11 | 142* | 55.4 | Female           |\n",
       "| 12 | NA   | 48.2 | Man              |\n",
       "| 54 | 171  |   NA | Looks like a man |\n",
       "| 32 | 168  | 78.0 | F                |\n",
       "\n"
      ],
      "text/plain": [
       "  age HEIGHT width gender          \n",
       "1 23  185    85.7  Male            \n",
       "2 41  175    68.3  M               \n",
       "3 11  142*   55.4  Female          \n",
       "4 12  NA     48.2  Man             \n",
       "5 54  171      NA  Looks like a man\n",
       "6 32  168    78.0  F               "
      ]
     },
     "metadata": {},
     "output_type": "display_data"
    }
   ],
   "source": [
    "colnames(data) <- c(\"age\", \"height\", \"width\", \"gender\")\n",
    "data\n",
    "colnames(data)[2] <- \"HEIGHT\"\n",
    "data"
   ]
  },
  {
   "cell_type": "markdown",
   "metadata": {
    "cell_id": "d4ee40db447f436d97e950579930dfae",
    "deepnote_cell_height": 52.390625,
    "deepnote_cell_type": "markdown",
    "tags": []
   },
   "source": [
    "Також змінювати назви стовпців можна за допомогою функції `rename()` з пакету `dplyr`:"
   ]
  },
  {
   "cell_type": "code",
   "execution_count": 15,
   "metadata": {
    "cell_id": "1c9ee90a85f24140a0a2b08f2e5d4f6d",
    "deepnote_cell_height": 927.4375,
    "deepnote_cell_type": "code",
    "deepnote_output_heights": [
     443.3125,
     40.375
    ],
    "deepnote_to_be_reexecuted": true,
    "execution_millis": 293,
    "execution_start": 1650393120222,
    "source_hash": "dcf4aa68",
    "tags": [],
    "vscode": {
     "languageId": "r"
    }
   },
   "outputs": [
    {
     "data": {
      "text/html": [
       "<table class=\"dataframe\">\n",
       "<caption>A data.frame: 6 × 4</caption>\n",
       "<thead>\n",
       "\t<tr><th scope=col>AGE</th><th scope=col>HEIGHT</th><th scope=col>width</th><th scope=col>gender</th></tr>\n",
       "\t<tr><th scope=col>&lt;int&gt;</th><th scope=col>&lt;chr&gt;</th><th scope=col>&lt;dbl&gt;</th><th scope=col>&lt;chr&gt;</th></tr>\n",
       "</thead>\n",
       "<tbody>\n",
       "\t<tr><td>23</td><td>185 </td><td>85.7</td><td>Male            </td></tr>\n",
       "\t<tr><td>41</td><td>175 </td><td>68.3</td><td>M               </td></tr>\n",
       "\t<tr><td>11</td><td>142*</td><td>55.4</td><td>Female          </td></tr>\n",
       "\t<tr><td>12</td><td>NA  </td><td>48.2</td><td>Man             </td></tr>\n",
       "\t<tr><td>54</td><td>171 </td><td>  NA</td><td>Looks like a man</td></tr>\n",
       "\t<tr><td>32</td><td>168 </td><td>78.0</td><td>F               </td></tr>\n",
       "</tbody>\n",
       "</table>\n"
      ],
      "text/latex": [
       "A data.frame: 6 × 4\n",
       "\\begin{tabular}{llll}\n",
       " AGE & HEIGHT & width & gender\\\\\n",
       " <int> & <chr> & <dbl> & <chr>\\\\\n",
       "\\hline\n",
       "\t 23 & 185  & 85.7 & Male            \\\\\n",
       "\t 41 & 175  & 68.3 & M               \\\\\n",
       "\t 11 & 142* & 55.4 & Female          \\\\\n",
       "\t 12 & NA   & 48.2 & Man             \\\\\n",
       "\t 54 & 171  &   NA & Looks like a man\\\\\n",
       "\t 32 & 168  & 78.0 & F               \\\\\n",
       "\\end{tabular}\n"
      ],
      "text/markdown": [
       "\n",
       "A data.frame: 6 × 4\n",
       "\n",
       "| AGE &lt;int&gt; | HEIGHT &lt;chr&gt; | width &lt;dbl&gt; | gender &lt;chr&gt; |\n",
       "|---|---|---|---|\n",
       "| 23 | 185  | 85.7 | Male             |\n",
       "| 41 | 175  | 68.3 | M                |\n",
       "| 11 | 142* | 55.4 | Female           |\n",
       "| 12 | NA   | 48.2 | Man              |\n",
       "| 54 | 171  |   NA | Looks like a man |\n",
       "| 32 | 168  | 78.0 | F                |\n",
       "\n"
      ],
      "text/plain": [
       "  AGE HEIGHT width gender          \n",
       "1 23  185    85.7  Male            \n",
       "2 41  175    68.3  M               \n",
       "3 11  142*   55.4  Female          \n",
       "4 12  NA     48.2  Man             \n",
       "5 54  171      NA  Looks like a man\n",
       "6 32  168    78.0  F               "
      ]
     },
     "metadata": {},
     "output_type": "display_data"
    }
   ],
   "source": [
    "library(dplyr)\n",
    "\n",
    "data <- data |> rename(AGE = age)\n",
    "data"
   ]
  },
  {
   "cell_type": "markdown",
   "metadata": {},
   "source": [
    "---"
   ]
  },
  {
   "cell_type": "markdown",
   "metadata": {
    "tags": []
   },
   "source": [
    "## Заміна назв стовпців data.frame <a class=\"anchor\" id=\"id22\">"
   ]
  },
  {
   "cell_type": "markdown",
   "metadata": {},
   "source": [
    "Зчитаємо файл, що містить інформацію про осіб, але уже має іменовані стовпці: "
   ]
  },
  {
   "cell_type": "code",
   "execution_count": 16,
   "metadata": {
    "cell_id": "42a2ae637a1444e2b072683d12de972a",
    "deepnote_cell_height": 66,
    "deepnote_cell_type": "code",
    "tags": [],
    "vscode": {
     "languageId": "r"
    }
   },
   "outputs": [
    {
     "data": {
      "text/html": [
       "<table class=\"dataframe\">\n",
       "<caption>A data.frame: 13 × 5</caption>\n",
       "<thead>\n",
       "\t<tr><th scope=col>Person.Age</th><th scope=col>Person__Height</th><th scope=col>person.Weight</th><th scope=col>Person.Gender</th><th scope=col>empty</th></tr>\n",
       "\t<tr><th scope=col>&lt;int&gt;</th><th scope=col>&lt;chr&gt;</th><th scope=col>&lt;dbl&gt;</th><th scope=col>&lt;chr&gt;</th><th scope=col>&lt;lgl&gt;</th></tr>\n",
       "</thead>\n",
       "<tbody>\n",
       "\t<tr><td>23</td><td>185 </td><td>  NA</td><td>Male  </td><td>NA</td></tr>\n",
       "\t<tr><td>41</td><td>175 </td><td>68.3</td><td>   M  </td><td>NA</td></tr>\n",
       "\t<tr><td>11</td><td>142*</td><td>55.4</td><td>Female</td><td>NA</td></tr>\n",
       "\t<tr><td>12</td><td>NA  </td><td>48.2</td><td>Man   </td><td>NA</td></tr>\n",
       "\t<tr><td>54</td><td>191 </td><td>  NA</td><td>female</td><td>NA</td></tr>\n",
       "\t<tr><td>32</td><td>168 </td><td>78.0</td><td>F     </td><td>NA</td></tr>\n",
       "\t<tr><td>22</td><td>NA  </td><td>54.0</td><td>male. </td><td>NA</td></tr>\n",
       "\t<tr><td>21</td><td>165 </td><td>  NA</td><td>m     </td><td>NA</td></tr>\n",
       "\t<tr><td>14</td><td>NA  </td><td>90.2</td><td>Man   </td><td>NA</td></tr>\n",
       "\t<tr><td>51</td><td>250 </td><td>  NA</td><td>female</td><td>NA</td></tr>\n",
       "\t<tr><td>41</td><td>20  </td><td>81.0</td><td>F     </td><td>NA</td></tr>\n",
       "\t<tr><td>66</td><td>NA  </td><td>59.0</td><td>male. </td><td>NA</td></tr>\n",
       "\t<tr><td>71</td><td>171 </td><td>  NA</td><td>m     </td><td>NA</td></tr>\n",
       "</tbody>\n",
       "</table>\n"
      ],
      "text/latex": [
       "A data.frame: 13 × 5\n",
       "\\begin{tabular}{lllll}\n",
       " Person.Age & Person\\_\\_Height & person.Weight & Person.Gender & empty\\\\\n",
       " <int> & <chr> & <dbl> & <chr> & <lgl>\\\\\n",
       "\\hline\n",
       "\t 23 & 185  &   NA & Male   & NA\\\\\n",
       "\t 41 & 175  & 68.3 &    M   & NA\\\\\n",
       "\t 11 & 142* & 55.4 & Female & NA\\\\\n",
       "\t 12 & NA   & 48.2 & Man    & NA\\\\\n",
       "\t 54 & 191  &   NA & female & NA\\\\\n",
       "\t 32 & 168  & 78.0 & F      & NA\\\\\n",
       "\t 22 & NA   & 54.0 & male.  & NA\\\\\n",
       "\t 21 & 165  &   NA & m      & NA\\\\\n",
       "\t 14 & NA   & 90.2 & Man    & NA\\\\\n",
       "\t 51 & 250  &   NA & female & NA\\\\\n",
       "\t 41 & 20   & 81.0 & F      & NA\\\\\n",
       "\t 66 & NA   & 59.0 & male.  & NA\\\\\n",
       "\t 71 & 171  &   NA & m      & NA\\\\\n",
       "\\end{tabular}\n"
      ],
      "text/markdown": [
       "\n",
       "A data.frame: 13 × 5\n",
       "\n",
       "| Person.Age &lt;int&gt; | Person__Height &lt;chr&gt; | person.Weight &lt;dbl&gt; | Person.Gender &lt;chr&gt; | empty &lt;lgl&gt; |\n",
       "|---|---|---|---|---|\n",
       "| 23 | 185  |   NA | Male   | NA |\n",
       "| 41 | 175  | 68.3 |    M   | NA |\n",
       "| 11 | 142* | 55.4 | Female | NA |\n",
       "| 12 | NA   | 48.2 | Man    | NA |\n",
       "| 54 | 191  |   NA | female | NA |\n",
       "| 32 | 168  | 78.0 | F      | NA |\n",
       "| 22 | NA   | 54.0 | male.  | NA |\n",
       "| 21 | 165  |   NA | m      | NA |\n",
       "| 14 | NA   | 90.2 | Man    | NA |\n",
       "| 51 | 250  |   NA | female | NA |\n",
       "| 41 | 20   | 81.0 | F      | NA |\n",
       "| 66 | NA   | 59.0 | male.  | NA |\n",
       "| 71 | 171  |   NA | m      | NA |\n",
       "\n"
      ],
      "text/plain": [
       "   Person.Age Person__Height person.Weight Person.Gender empty\n",
       "1  23         185              NA          Male          NA   \n",
       "2  41         175            68.3             M          NA   \n",
       "3  11         142*           55.4          Female        NA   \n",
       "4  12         NA             48.2          Man           NA   \n",
       "5  54         191              NA          female        NA   \n",
       "6  32         168            78.0          F             NA   \n",
       "7  22         NA             54.0          male.         NA   \n",
       "8  21         165              NA          m             NA   \n",
       "9  14         NA             90.2          Man           NA   \n",
       "10 51         250              NA          female        NA   \n",
       "11 41         20             81.0          F             NA   \n",
       "12 66         NA             59.0          male.         NA   \n",
       "13 71         171              NA          m             NA   "
      ]
     },
     "metadata": {},
     "output_type": "display_data"
    }
   ],
   "source": [
    "data <- read.csv(\"data/badtitled.csv\")\n",
    "data"
   ]
  },
  {
   "cell_type": "markdown",
   "metadata": {},
   "source": [
    "Швидко змінити назви стовпців та привести їх до однакового стилю можна за домогою бібліотеки `janitor`:"
   ]
  },
  {
   "cell_type": "code",
   "execution_count": 21,
   "metadata": {},
   "outputs": [],
   "source": [
    "#install.packages(\"janitor\")"
   ]
  },
  {
   "cell_type": "code",
   "execution_count": 22,
   "metadata": {},
   "outputs": [
    {
     "data": {
      "text/html": [
       "<style>\n",
       ".list-inline {list-style: none; margin:0; padding: 0}\n",
       ".list-inline>li {display: inline-block}\n",
       ".list-inline>li:not(:last-child)::after {content: \"\\00b7\"; padding: 0 .5ex}\n",
       "</style>\n",
       "<ol class=list-inline><li>'person_age'</li><li>'person_height'</li><li>'person_weight'</li><li>'person_gender'</li><li>'empty'</li></ol>\n"
      ],
      "text/latex": [
       "\\begin{enumerate*}\n",
       "\\item 'person\\_age'\n",
       "\\item 'person\\_height'\n",
       "\\item 'person\\_weight'\n",
       "\\item 'person\\_gender'\n",
       "\\item 'empty'\n",
       "\\end{enumerate*}\n"
      ],
      "text/markdown": [
       "1. 'person_age'\n",
       "2. 'person_height'\n",
       "3. 'person_weight'\n",
       "4. 'person_gender'\n",
       "5. 'empty'\n",
       "\n",
       "\n"
      ],
      "text/plain": [
       "[1] \"person_age\"    \"person_height\" \"person_weight\" \"person_gender\"\n",
       "[5] \"empty\"        "
      ]
     },
     "metadata": {},
     "output_type": "display_data"
    }
   ],
   "source": [
    "library(janitor)\n",
    "clean <- clean_names(data)\n",
    "colnames(clean)"
   ]
  },
  {
   "cell_type": "markdown",
   "metadata": {
    "cell_id": "c6c2c5f47ff44631ac51f21263f2a230",
    "deepnote_cell_height": 46,
    "deepnote_cell_type": "markdown",
    "tags": []
   },
   "source": [
    "---"
   ]
  },
  {
   "cell_type": "markdown",
   "metadata": {},
   "source": [
    "## Набори даних"
   ]
  },
  {
   "cell_type": "markdown",
   "metadata": {},
   "source": [
    "1. https://github.com/kleban/r-book-published/tree/main/datasets/untitled.csv\n",
    "2. https://github.com/kleban/r-book-published/tree/main/datasets/badtitled.csv\n",
    "3. https://github.com/kleban/r-book-published/tree/main/datasets/cleaned_titled.csv\n",
    "4. https://github.com/kleban/r-book-published/tree/main/datasets/cleaned_titled2.csv\n",
    "5. https://github.com/kleban/r-book-published/tree/main/datasets/river_eco.csv"
   ]
  },
  {
   "cell_type": "markdown",
   "metadata": {},
   "source": [
    "---"
   ]
  },
  {
   "cell_type": "markdown",
   "metadata": {
    "cell_id": "5972a3c0bc0b48d2a2b269a0b802d255",
    "deepnote_cell_type": "input-slider",
    "deepnote_slider_max_value": 10,
    "deepnote_slider_min_value": 0,
    "deepnote_slider_step": 1,
    "deepnote_variable_name": "input_1",
    "deepnote_variable_value": "8",
    "vscode": {
     "languageId": "r"
    }
   },
   "source": [
    "## Використані та додаткові джерела"
   ]
  },
  {
   "cell_type": "markdown",
   "metadata": {
    "cell_id": "d84d49babc6f4ecc8a3bb60f946c091e",
    "deepnote_cell_height": 94.78125,
    "deepnote_cell_type": "markdown",
    "tags": []
   },
   "source": [
    "1. [KPMG Virtual Internship](https://www.insidesherpa.com/virtual-internships/m7W4GMqeT3bh9Nb2c)\n",
    "2. [An introduction to data cleaning with R / Edwin de Jonge, Mark van der Loo, 2013](https://cran.r-project.org/doc/contrib/de_Jonge+van_der_Loo-Introduction_to_data_cleaning_with_R.pdf)\n",
    "3. [Anomaly Detection in R](datacamp.com/courses/anomaly-detection-in-r)\n",
    "4. [K-nearest Neighbor: The maths behind it, how it works and an example](https://medium.com/analytics-vidhya/k-nearest-neighbor-the-maths-behind-it-how-it-works-and-an-example-f1de1208546c)\n",
    "5. [Quantile. Wikipedia](https://en.wikipedia.org/wiki/Quantile)"
   ]
  }
 ],
 "metadata": {
  "deepnote": {},
  "deepnote_execution_queue": [],
  "deepnote_notebook_id": "98d3d2a2-2921-4f5d-a292-65d4b34cd357",
  "kernelspec": {
   "display_name": "R",
   "language": "R",
   "name": "ir"
  },
  "language_info": {
   "codemirror_mode": "r",
   "file_extension": ".r",
   "mimetype": "text/x-r-source",
   "name": "R",
   "pygments_lexer": "r",
   "version": "4.1.3"
  }
 },
 "nbformat": 4,
 "nbformat_minor": 4
}
