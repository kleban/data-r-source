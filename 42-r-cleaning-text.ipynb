{
 "cells": [
  {
   "cell_type": "markdown",
   "metadata": {
    "cell_id": "e5cde04d81ef4f77b739f6cf4b089fba",
    "deepnote_cell_type": "text-cell-h1",
    "is_collapsed": false,
    "tags": []
   },
   "source": [
    "---\n",
    "\n",
    "author: Юрій Клебан\n",
    "\n",
    "---"
   ]
  },
  {
   "cell_type": "markdown",
   "metadata": {
    "tags": []
   },
   "source": [
    "# Підготовка та очистка текстової інформації"
   ]
  },
  {
   "cell_type": "markdown",
   "metadata": {},
   "source": [
    "Зчитаємо інформацію про стать з попереднього прикладу:"
   ]
  },
  {
   "cell_type": "code",
   "execution_count": 3,
   "metadata": {},
   "outputs": [
    {
     "data": {
      "text/html": [
       "<style>\n",
       ".dl-inline {width: auto; margin:0; padding: 0}\n",
       ".dl-inline>dt, .dl-inline>dd {float: none; width: auto; display: inline-block}\n",
       ".dl-inline>dt::after {content: \":\\0020\"; padding-right: .5ex}\n",
       ".dl-inline>dt:not(:first-of-type) {padding-left: .5ex}\n",
       "</style><dl class=dl-inline><dt>gender1</dt><dd>'Male'</dd><dt>gender2</dt><dd><span style=white-space:pre-wrap>'   M'</span></dd><dt>gender3</dt><dd>'Female'</dd><dt>gender4</dt><dd>'Man'</dd><dt>gender5</dt><dd>'female'</dd><dt>gender6</dt><dd><span style=white-space:pre-wrap>'F    '</span></dd><dt>gender7</dt><dd>'male.'</dd><dt>gender8</dt><dd>'m'</dd><dt>gender9</dt><dd>'Man'</dd><dt>gender10</dt><dd>'female'</dd><dt>gender11</dt><dd><span style=white-space:pre-wrap>'F    '</span></dd><dt>gender12</dt><dd>'male.'</dd><dt>gender13</dt><dd>'m'</dd></dl>\n"
      ],
      "text/latex": [
       "\\begin{description*}\n",
       "\\item[gender1] 'Male'\n",
       "\\item[gender2] '   M'\n",
       "\\item[gender3] 'Female'\n",
       "\\item[gender4] 'Man'\n",
       "\\item[gender5] 'female'\n",
       "\\item[gender6] 'F    '\n",
       "\\item[gender7] 'male.'\n",
       "\\item[gender8] 'm'\n",
       "\\item[gender9] 'Man'\n",
       "\\item[gender10] 'female'\n",
       "\\item[gender11] 'F    '\n",
       "\\item[gender12] 'male.'\n",
       "\\item[gender13] 'm'\n",
       "\\end{description*}\n"
      ],
      "text/markdown": [
       "gender1\n",
       ":   'Male'gender2\n",
       ":   <span style=white-space:pre-wrap>'   M'</span>gender3\n",
       ":   'Female'gender4\n",
       ":   'Man'gender5\n",
       ":   'female'gender6\n",
       ":   <span style=white-space:pre-wrap>'F    '</span>gender7\n",
       ":   'male.'gender8\n",
       ":   'm'gender9\n",
       ":   'Man'gender10\n",
       ":   'female'gender11\n",
       ":   <span style=white-space:pre-wrap>'F    '</span>gender12\n",
       ":   'male.'gender13\n",
       ":   'm'\n",
       "\n"
      ],
      "text/plain": [
       " gender1  gender2  gender3  gender4  gender5  gender6  gender7  gender8 \n",
       "  \"Male\"   \"   M\" \"Female\"    \"Man\" \"female\"  \"F    \"  \"male.\"      \"m\" \n",
       " gender9 gender10 gender11 gender12 gender13 \n",
       "   \"Man\" \"female\"  \"F    \"  \"male.\"      \"m\" "
      ]
     },
     "metadata": {},
     "output_type": "display_data"
    }
   ],
   "source": [
    "library(janitor)\n",
    "data <- read.csv(\"data/badtitled.csv\")\n",
    "data <- clean_names(data)\n",
    "data <- as.data.frame(data$person_gender)\n",
    "colnames(data) <- c(\"gender\")\n",
    "unlist(data)"
   ]
  },
  {
   "cell_type": "markdown",
   "metadata": {},
   "source": [
    "Схоже, що ці дані насправді мають всього 2 записи, проте у базу даних їх вносили різні люди або вони були зібрані з різних джерел інформації. Це досить поширена проблема у роботі з даними. Особливо коли відбуваєть заміна людей на рочих місцях або перехід на інше програмне забезпечення."
   ]
  },
  {
   "cell_type": "markdown",
   "metadata": {},
   "source": [
    "Якщо це буде розглядатися як факторна змінна без будь-якої попередньої обробки, очевидно, що 8, а не 2 класи будуть збережені. Тому завдання полягає в тому, щоб автоматично розпізнавати наведені вище дані про те, чи відноситься кожен елемент до чоловічої чи жіночої статі. У статистичних контекстах класифікацію таких\n",
    "\"безладні\" текстові рядки в ряд фіксованих категорій часто називають кодуванням.\n",
    "\n",
    "Опишемо два взаємодоповнюючих підходи до кодування рядків: `нормалізація` (`string normalization`) рядків і аналіз схожості тексту (`approximate text matching`).\n",
    "\n",
    "Розглянемо наступні підходи до очистки текстових даних:\n",
    "\n",
    "    - Видалення пробілів на початку або в кінці\n",
    "    - Обрізання/збільшення рядків до певної ширини\n",
    "    – Перетворення у верхній/нижній регістр.\n",
    "    – Пошук рядків, що містять прості шаблони (підрядки).\n",
    "    – Апроксимація рядків на основі \"відстаней\"."
   ]
  },
  {
   "cell_type": "markdown",
   "metadata": {},
   "source": [
    "Робота з текстом у `R` здійснюється за допомогою пакету `stringr`."
   ]
  },
  {
   "cell_type": "markdown",
   "metadata": {},
   "source": [
    "**Видалення пробілів на початку або в кінці** здійснюється за допомогою функції `str_trim()`."
   ]
  },
  {
   "cell_type": "code",
   "execution_count": 5,
   "metadata": {},
   "outputs": [
    {
     "data": {
      "text/html": [
       "'ostroh academy'"
      ],
      "text/latex": [
       "'ostroh academy'"
      ],
      "text/markdown": [
       "'ostroh academy'"
      ],
      "text/plain": [
       "[1] \"ostroh academy\""
      ]
     },
     "metadata": {},
     "output_type": "display_data"
    },
    {
     "data": {
      "text/html": [
       "'ostroh academy '"
      ],
      "text/latex": [
       "'ostroh academy '"
      ],
      "text/markdown": [
       "'ostroh academy '"
      ],
      "text/plain": [
       "[1] \"ostroh academy \""
      ]
     },
     "metadata": {},
     "output_type": "display_data"
    },
    {
     "data": {
      "text/html": [
       "' ostroh academy'"
      ],
      "text/latex": [
       "' ostroh academy'"
      ],
      "text/markdown": [
       "' ostroh academy'"
      ],
      "text/plain": [
       "[1] \" ostroh academy\""
      ]
     },
     "metadata": {},
     "output_type": "display_data"
    }
   ],
   "source": [
    "library(stringr)\n",
    "str_trim(\" ostroh academy  \")\n",
    "str_trim(\" ostroh academy \", side = \"left\")\n",
    "str_trim(\" ostroh academy \", side = \"right\")"
   ]
  },
  {
   "cell_type": "markdown",
   "metadata": {},
   "source": [
    "**Обрізання/збільшення рядків до певної ширини** здійснюється за допомогою функції `str_pad()`."
   ]
  },
  {
   "cell_type": "code",
   "execution_count": 6,
   "metadata": {},
   "outputs": [
    {
     "data": {
      "text/html": [
       "'000057'"
      ],
      "text/latex": [
       "'000057'"
      ],
      "text/markdown": [
       "'000057'"
      ],
      "text/plain": [
       "[1] \"000057\""
      ]
     },
     "metadata": {},
     "output_type": "display_data"
    }
   ],
   "source": [
    "str_pad(57, width = 6, side = \"left\", pad = 0)"
   ]
  },
  {
   "cell_type": "code",
   "execution_count": 7,
   "metadata": {},
   "outputs": [
    {
     "data": {
      "text/html": [
       "'ostroh____'"
      ],
      "text/latex": [
       "'ostroh\\_\\_\\_\\_'"
      ],
      "text/markdown": [
       "'ostroh____'"
      ],
      "text/plain": [
       "[1] \"ostroh____\""
      ]
     },
     "metadata": {},
     "output_type": "display_data"
    }
   ],
   "source": [
    "str_pad(\"ostroh\", width = 10, side = \"right\", pad = \"_\")"
   ]
  },
  {
   "cell_type": "markdown",
   "metadata": {},
   "source": [
    "**Перетворення у верхній/нижній регістр**"
   ]
  },
  {
   "cell_type": "code",
   "execution_count": 8,
   "metadata": {},
   "outputs": [
    {
     "data": {
      "text/html": [
       "'OSTROH ACADEMY!'"
      ],
      "text/latex": [
       "'OSTROH ACADEMY!'"
      ],
      "text/markdown": [
       "'OSTROH ACADEMY!'"
      ],
      "text/plain": [
       "[1] \"OSTROH ACADEMY!\""
      ]
     },
     "metadata": {},
     "output_type": "display_data"
    },
    {
     "data": {
      "text/html": [
       "'ostroh academy!'"
      ],
      "text/latex": [
       "'ostroh academy!'"
      ],
      "text/markdown": [
       "'ostroh academy!'"
      ],
      "text/plain": [
       "[1] \"ostroh academy!\""
      ]
     },
     "metadata": {},
     "output_type": "display_data"
    }
   ],
   "source": [
    "text <- \"Ostroh Academy!\"\n",
    "toupper(text)\n",
    "tolower(text)"
   ]
  },
  {
   "cell_type": "markdown",
   "metadata": {},
   "source": [
    "**Пошук рядків, що містять прості шаблони (підрядки)**"
   ]
  },
  {
   "cell_type": "markdown",
   "metadata": {},
   "source": [
    "Скористаємося функцієя `grep()` та `grepl()` для пошуку підрядків у інформації про стать:"
   ]
  },
  {
   "cell_type": "code",
   "execution_count": 10,
   "metadata": {},
   "outputs": [
    {
     "name": "stderr",
     "output_type": "stream",
     "text": [
      "Your code contains a unicode char which cannot be displayed in your\n",
      "current locale and R will silently convert it to an escaped form when the\n",
      "R kernel executes this code. This can lead to subtle errors if you use\n",
      "such chars to do comparisons. For more information, please see\n",
      "https://github.com/IRkernel/repr/wiki/Problems-with-unicode-on-windows"
     ]
    },
    {
     "data": {
      "text/html": [
       "<style>\n",
       ".list-inline {list-style: none; margin:0; padding: 0}\n",
       ".list-inline>li {display: inline-block}\n",
       ".list-inline>li:not(:last-child)::after {content: \"\\00b7\"; padding: 0 .5ex}\n",
       "</style>\n",
       "<ol class=list-inline><li>FALSE</li><li>FALSE</li><li>TRUE</li><li>FALSE</li><li>TRUE</li><li>FALSE</li><li>TRUE</li><li>TRUE</li><li>FALSE</li><li>TRUE</li><li>FALSE</li><li>TRUE</li><li>TRUE</li></ol>\n"
      ],
      "text/latex": [
       "\\begin{enumerate*}\n",
       "\\item FALSE\n",
       "\\item FALSE\n",
       "\\item TRUE\n",
       "\\item FALSE\n",
       "\\item TRUE\n",
       "\\item FALSE\n",
       "\\item TRUE\n",
       "\\item TRUE\n",
       "\\item FALSE\n",
       "\\item TRUE\n",
       "\\item FALSE\n",
       "\\item TRUE\n",
       "\\item TRUE\n",
       "\\end{enumerate*}\n"
      ],
      "text/markdown": [
       "1. FALSE\n",
       "2. FALSE\n",
       "3. TRUE\n",
       "4. FALSE\n",
       "5. TRUE\n",
       "6. FALSE\n",
       "7. TRUE\n",
       "8. TRUE\n",
       "9. FALSE\n",
       "10. TRUE\n",
       "11. FALSE\n",
       "12. TRUE\n",
       "13. TRUE\n",
       "\n",
       "\n"
      ],
      "text/plain": [
       " [1] FALSE FALSE  TRUE FALSE  TRUE FALSE  TRUE  TRUE FALSE  TRUE FALSE  TRUE\n",
       "[13]  TRUE"
      ]
     },
     "metadata": {},
     "output_type": "display_data"
    },
    {
     "data": {
      "text/html": [
       "<style>\n",
       ".list-inline {list-style: none; margin:0; padding: 0}\n",
       ".list-inline>li {display: inline-block}\n",
       ".list-inline>li:not(:last-child)::after {content: \"\\00b7\"; padding: 0 .5ex}\n",
       "</style>\n",
       "<ol class=list-inline><li>3</li><li>5</li><li>7</li><li>8</li><li>10</li><li>12</li><li>13</li></ol>\n"
      ],
      "text/latex": [
       "\\begin{enumerate*}\n",
       "\\item 3\n",
       "\\item 5\n",
       "\\item 7\n",
       "\\item 8\n",
       "\\item 10\n",
       "\\item 12\n",
       "\\item 13\n",
       "\\end{enumerate*}\n"
      ],
      "text/markdown": [
       "1. 3\n",
       "2. 5\n",
       "3. 7\n",
       "4. 8\n",
       "5. 10\n",
       "6. 12\n",
       "7. 13\n",
       "\n",
       "\n"
      ],
      "text/plain": [
       "[1]  3  5  7  8 10 12 13"
      ]
     },
     "metadata": {},
     "output_type": "display_data"
    }
   ],
   "source": [
    "grepl(\"m\", data$gender) # Повертає TRUE/FALSE, якщо знахоить входження рядка\n",
    "grep(\"m\", data$gender) # Повертає номери рядків, по яких є входження"
   ]
  },
  {
   "cell_type": "code",
   "execution_count": 11,
   "metadata": {},
   "outputs": [
    {
     "name": "stderr",
     "output_type": "stream",
     "text": [
      "Your code contains a unicode char which cannot be displayed in your\n",
      "current locale and R will silently convert it to an escaped form when the\n",
      "R kernel executes this code. This can lead to subtle errors if you use\n",
      "such chars to do comparisons. For more information, please see\n",
      "https://github.com/IRkernel/repr/wiki/Problems-with-unicode-on-windows"
     ]
    },
    {
     "data": {
      "text/html": [
       "<style>\n",
       ".list-inline {list-style: none; margin:0; padding: 0}\n",
       ".list-inline>li {display: inline-block}\n",
       ".list-inline>li:not(:last-child)::after {content: \"\\00b7\"; padding: 0 .5ex}\n",
       "</style>\n",
       "<ol class=list-inline><li>TRUE</li><li>TRUE</li><li>TRUE</li><li>TRUE</li><li>TRUE</li><li>FALSE</li><li>TRUE</li><li>TRUE</li><li>TRUE</li><li>TRUE</li><li>FALSE</li><li>TRUE</li><li>TRUE</li></ol>\n"
      ],
      "text/latex": [
       "\\begin{enumerate*}\n",
       "\\item TRUE\n",
       "\\item TRUE\n",
       "\\item TRUE\n",
       "\\item TRUE\n",
       "\\item TRUE\n",
       "\\item FALSE\n",
       "\\item TRUE\n",
       "\\item TRUE\n",
       "\\item TRUE\n",
       "\\item TRUE\n",
       "\\item FALSE\n",
       "\\item TRUE\n",
       "\\item TRUE\n",
       "\\end{enumerate*}\n"
      ],
      "text/markdown": [
       "1. TRUE\n",
       "2. TRUE\n",
       "3. TRUE\n",
       "4. TRUE\n",
       "5. TRUE\n",
       "6. FALSE\n",
       "7. TRUE\n",
       "8. TRUE\n",
       "9. TRUE\n",
       "10. TRUE\n",
       "11. FALSE\n",
       "12. TRUE\n",
       "13. TRUE\n",
       "\n",
       "\n"
      ],
      "text/plain": [
       " [1]  TRUE  TRUE  TRUE  TRUE  TRUE FALSE  TRUE  TRUE  TRUE  TRUE FALSE  TRUE\n",
       "[13]  TRUE"
      ]
     },
     "metadata": {},
     "output_type": "display_data"
    },
    {
     "data": {
      "text/html": [
       "<style>\n",
       ".list-inline {list-style: none; margin:0; padding: 0}\n",
       ".list-inline>li {display: inline-block}\n",
       ".list-inline>li:not(:last-child)::after {content: \"\\00b7\"; padding: 0 .5ex}\n",
       "</style>\n",
       "<ol class=list-inline><li>TRUE</li><li>TRUE</li><li>TRUE</li><li>TRUE</li><li>TRUE</li><li>FALSE</li><li>TRUE</li><li>TRUE</li><li>TRUE</li><li>TRUE</li><li>FALSE</li><li>TRUE</li><li>TRUE</li></ol>\n"
      ],
      "text/latex": [
       "\\begin{enumerate*}\n",
       "\\item TRUE\n",
       "\\item TRUE\n",
       "\\item TRUE\n",
       "\\item TRUE\n",
       "\\item TRUE\n",
       "\\item FALSE\n",
       "\\item TRUE\n",
       "\\item TRUE\n",
       "\\item TRUE\n",
       "\\item TRUE\n",
       "\\item FALSE\n",
       "\\item TRUE\n",
       "\\item TRUE\n",
       "\\end{enumerate*}\n"
      ],
      "text/markdown": [
       "1. TRUE\n",
       "2. TRUE\n",
       "3. TRUE\n",
       "4. TRUE\n",
       "5. TRUE\n",
       "6. FALSE\n",
       "7. TRUE\n",
       "8. TRUE\n",
       "9. TRUE\n",
       "10. TRUE\n",
       "11. FALSE\n",
       "12. TRUE\n",
       "13. TRUE\n",
       "\n",
       "\n"
      ],
      "text/plain": [
       " [1]  TRUE  TRUE  TRUE  TRUE  TRUE FALSE  TRUE  TRUE  TRUE  TRUE FALSE  TRUE\n",
       "[13]  TRUE"
      ]
     },
     "metadata": {},
     "output_type": "display_data"
    }
   ],
   "source": [
    "grepl(\"m\", data$gender, ignore.case = TRUE) # не враховує регістр букв\n",
    "grepl(\"m\", tolower(data$gender))"
   ]
  },
  {
   "cell_type": "code",
   "execution_count": 12,
   "metadata": {},
   "outputs": [
    {
     "name": "stderr",
     "output_type": "stream",
     "text": [
      "Your code contains a unicode char which cannot be displayed in your\n",
      "current locale and R will silently convert it to an escaped form when the\n",
      "R kernel executes this code. This can lead to subtle errors if you use\n",
      "such chars to do comparisons. For more information, please see\n",
      "https://github.com/IRkernel/repr/wiki/Problems-with-unicode-on-windows"
     ]
    },
    {
     "data": {
      "text/html": [
       "<style>\n",
       ".list-inline {list-style: none; margin:0; padding: 0}\n",
       ".list-inline>li {display: inline-block}\n",
       ".list-inline>li:not(:last-child)::after {content: \"\\00b7\"; padding: 0 .5ex}\n",
       "</style>\n",
       "<ol class=list-inline><li>'Male'</li><li><span style=white-space:pre-wrap>'   M'</span></li><li>'Female'</li><li>'Man'</li><li>'female'</li><li><span style=white-space:pre-wrap>'F    '</span></li><li>'male.'</li><li>'m'</li><li>'Man'</li><li>'female'</li><li><span style=white-space:pre-wrap>'F    '</span></li><li>'male.'</li><li>'m'</li></ol>\n"
      ],
      "text/latex": [
       "\\begin{enumerate*}\n",
       "\\item 'Male'\n",
       "\\item '   M'\n",
       "\\item 'Female'\n",
       "\\item 'Man'\n",
       "\\item 'female'\n",
       "\\item 'F    '\n",
       "\\item 'male.'\n",
       "\\item 'm'\n",
       "\\item 'Man'\n",
       "\\item 'female'\n",
       "\\item 'F    '\n",
       "\\item 'male.'\n",
       "\\item 'm'\n",
       "\\end{enumerate*}\n"
      ],
      "text/markdown": [
       "1. 'Male'\n",
       "2. <span style=white-space:pre-wrap>'   M'</span>\n",
       "3. 'Female'\n",
       "4. 'Man'\n",
       "5. 'female'\n",
       "6. <span style=white-space:pre-wrap>'F    '</span>\n",
       "7. 'male.'\n",
       "8. 'm'\n",
       "9. 'Man'\n",
       "10. 'female'\n",
       "11. <span style=white-space:pre-wrap>'F    '</span>\n",
       "12. 'male.'\n",
       "13. 'm'\n",
       "\n",
       "\n"
      ],
      "text/plain": [
       " [1] \"Male\"   \"   M\"   \"Female\" \"Man\"    \"female\" \"F    \"  \"male.\"  \"m\"     \n",
       " [9] \"Man\"    \"female\" \"F    \"  \"male.\"  \"m\"     "
      ]
     },
     "metadata": {},
     "output_type": "display_data"
    },
    {
     "data": {
      "text/html": [
       "<style>\n",
       ".list-inline {list-style: none; margin:0; padding: 0}\n",
       ".list-inline>li {display: inline-block}\n",
       ".list-inline>li:not(:last-child)::after {content: \"\\00b7\"; padding: 0 .5ex}\n",
       "</style>\n",
       "<ol class=list-inline><li>TRUE</li><li>FALSE</li><li>FALSE</li><li>TRUE</li><li>FALSE</li><li>FALSE</li><li>TRUE</li><li>TRUE</li><li>TRUE</li><li>FALSE</li><li>FALSE</li><li>TRUE</li><li>TRUE</li></ol>\n"
      ],
      "text/latex": [
       "\\begin{enumerate*}\n",
       "\\item TRUE\n",
       "\\item FALSE\n",
       "\\item FALSE\n",
       "\\item TRUE\n",
       "\\item FALSE\n",
       "\\item FALSE\n",
       "\\item TRUE\n",
       "\\item TRUE\n",
       "\\item TRUE\n",
       "\\item FALSE\n",
       "\\item FALSE\n",
       "\\item TRUE\n",
       "\\item TRUE\n",
       "\\end{enumerate*}\n"
      ],
      "text/markdown": [
       "1. TRUE\n",
       "2. FALSE\n",
       "3. FALSE\n",
       "4. TRUE\n",
       "5. FALSE\n",
       "6. FALSE\n",
       "7. TRUE\n",
       "8. TRUE\n",
       "9. TRUE\n",
       "10. FALSE\n",
       "11. FALSE\n",
       "12. TRUE\n",
       "13. TRUE\n",
       "\n",
       "\n"
      ],
      "text/plain": [
       " [1]  TRUE FALSE FALSE  TRUE FALSE FALSE  TRUE  TRUE  TRUE FALSE FALSE  TRUE\n",
       "[13]  TRUE"
      ]
     },
     "metadata": {},
     "output_type": "display_data"
    }
   ],
   "source": [
    "data$gender\n",
    "grepl(\"^m\", data$gender, ignore.case = TRUE) # Показує усі збіги, що починаються з вказаної літери"
   ]
  },
  {
   "cell_type": "markdown",
   "metadata": {},
   "source": [
    "**Пошук \"відстані\" між ряжками** - це аналіз рядків на схожіть з визначенням рівня співпадінь."
   ]
  },
  {
   "cell_type": "code",
   "execution_count": 15,
   "metadata": {},
   "outputs": [
    {
     "data": {
      "text/html": [
       "<table class=\"dataframe\">\n",
       "<caption>A matrix: 1 × 1 of type dbl</caption>\n",
       "<tbody>\n",
       "\t<tr><td>0</td></tr>\n",
       "</tbody>\n",
       "</table>\n"
      ],
      "text/latex": [
       "A matrix: 1 × 1 of type dbl\n",
       "\\begin{tabular}{l}\n",
       "\t 0\\\\\n",
       "\\end{tabular}\n"
      ],
      "text/markdown": [
       "\n",
       "A matrix: 1 × 1 of type dbl\n",
       "\n",
       "| 0 |\n",
       "\n"
      ],
      "text/plain": [
       "     [,1]\n",
       "[1,] 0   "
      ]
     },
     "metadata": {},
     "output_type": "display_data"
    },
    {
     "data": {
      "text/html": [
       "<table class=\"dataframe\">\n",
       "<caption>A matrix: 1 × 1 of type dbl</caption>\n",
       "<tbody>\n",
       "\t<tr><td>2</td></tr>\n",
       "</tbody>\n",
       "</table>\n"
      ],
      "text/latex": [
       "A matrix: 1 × 1 of type dbl\n",
       "\\begin{tabular}{l}\n",
       "\t 2\\\\\n",
       "\\end{tabular}\n"
      ],
      "text/markdown": [
       "\n",
       "A matrix: 1 × 1 of type dbl\n",
       "\n",
       "| 2 |\n",
       "\n"
      ],
      "text/plain": [
       "     [,1]\n",
       "[1,] 2   "
      ]
     },
     "metadata": {},
     "output_type": "display_data"
    },
    {
     "data": {
      "text/html": [
       "<table class=\"dataframe\">\n",
       "<caption>A matrix: 1 × 1 of type dbl</caption>\n",
       "<tbody>\n",
       "\t<tr><td>4</td></tr>\n",
       "</tbody>\n",
       "</table>\n"
      ],
      "text/latex": [
       "A matrix: 1 × 1 of type dbl\n",
       "\\begin{tabular}{l}\n",
       "\t 4\\\\\n",
       "\\end{tabular}\n"
      ],
      "text/markdown": [
       "\n",
       "A matrix: 1 × 1 of type dbl\n",
       "\n",
       "| 4 |\n",
       "\n"
      ],
      "text/plain": [
       "     [,1]\n",
       "[1,] 4   "
      ]
     },
     "metadata": {},
     "output_type": "display_data"
    }
   ],
   "source": [
    "adist(\"ao\", \"ao\")\n",
    "adist(\"ao\", \"oa\")\n",
    "adist(\"ao\", \"45fb\")"
   ]
  },
  {
   "cell_type": "markdown",
   "metadata": {},
   "source": [
    "Давайте проаналізуємо інформацію про стать з точки зору схожості текстів:"
   ]
  },
  {
   "cell_type": "code",
   "execution_count": 18,
   "metadata": {},
   "outputs": [
    {
     "data": {
      "text/html": [
       "<table class=\"dataframe\">\n",
       "<caption>A matrix: 13 × 2 of type dbl</caption>\n",
       "<thead>\n",
       "\t<tr><th></th><th scope=col>male</th><th scope=col>female</th></tr>\n",
       "</thead>\n",
       "<tbody>\n",
       "\t<tr><th scope=row>Male</th><td>0</td><td>2</td></tr>\n",
       "\t<tr><th scope=row>   M</th><td>3</td><td>5</td></tr>\n",
       "\t<tr><th scope=row>Female</th><td>2</td><td>0</td></tr>\n",
       "\t<tr><th scope=row>Man</th><td>2</td><td>4</td></tr>\n",
       "\t<tr><th scope=row>female</th><td>2</td><td>0</td></tr>\n",
       "\t<tr><th scope=row>F    </th><td>4</td><td>5</td></tr>\n",
       "\t<tr><th scope=row>male.</th><td>1</td><td>3</td></tr>\n",
       "\t<tr><th scope=row>m</th><td>3</td><td>5</td></tr>\n",
       "\t<tr><th scope=row>Man</th><td>2</td><td>4</td></tr>\n",
       "\t<tr><th scope=row>female</th><td>2</td><td>0</td></tr>\n",
       "\t<tr><th scope=row>F    </th><td>4</td><td>5</td></tr>\n",
       "\t<tr><th scope=row>male.</th><td>1</td><td>3</td></tr>\n",
       "\t<tr><th scope=row>m</th><td>3</td><td>5</td></tr>\n",
       "</tbody>\n",
       "</table>\n"
      ],
      "text/latex": [
       "A matrix: 13 × 2 of type dbl\n",
       "\\begin{tabular}{r|ll}\n",
       "  & male & female\\\\\n",
       "\\hline\n",
       "\tMale & 0 & 2\\\\\n",
       "\t   M & 3 & 5\\\\\n",
       "\tFemale & 2 & 0\\\\\n",
       "\tMan & 2 & 4\\\\\n",
       "\tfemale & 2 & 0\\\\\n",
       "\tF     & 4 & 5\\\\\n",
       "\tmale. & 1 & 3\\\\\n",
       "\tm & 3 & 5\\\\\n",
       "\tMan & 2 & 4\\\\\n",
       "\tfemale & 2 & 0\\\\\n",
       "\tF     & 4 & 5\\\\\n",
       "\tmale. & 1 & 3\\\\\n",
       "\tm & 3 & 5\\\\\n",
       "\\end{tabular}\n"
      ],
      "text/markdown": [
       "\n",
       "A matrix: 13 × 2 of type dbl\n",
       "\n",
       "| <!--/--> | male | female |\n",
       "|---|---|---|\n",
       "| Male | 0 | 2 |\n",
       "|    M | 3 | 5 |\n",
       "| Female | 2 | 0 |\n",
       "| Man | 2 | 4 |\n",
       "| female | 2 | 0 |\n",
       "| F     | 4 | 5 |\n",
       "| male. | 1 | 3 |\n",
       "| m | 3 | 5 |\n",
       "| Man | 2 | 4 |\n",
       "| female | 2 | 0 |\n",
       "| F     | 4 | 5 |\n",
       "| male. | 1 | 3 |\n",
       "| m | 3 | 5 |\n",
       "\n"
      ],
      "text/plain": [
       "       male female\n",
       "Male   0    2     \n",
       "   M   3    5     \n",
       "Female 2    0     \n",
       "Man    2    4     \n",
       "female 2    0     \n",
       "F      4    5     \n",
       "male.  1    3     \n",
       "m      3    5     \n",
       "Man    2    4     \n",
       "female 2    0     \n",
       "F      4    5     \n",
       "male.  1    3     \n",
       "m      3    5     "
      ]
     },
     "metadata": {},
     "output_type": "display_data"
    }
   ],
   "source": [
    "m <- c(\"male\", \"female\")\n",
    "adj_m <- adist(data$gender, m)\n",
    "#adj_m <- adist(tolower(data$gender), m)\n",
    "#adj_m <- adist(str_trim(tolower(data$gender), side=\"both\"), m)\n",
    "colnames(adj_m) <- m \n",
    "rownames(adj_m) <- data$gender\n",
    "adj_m"
   ]
  },
  {
   "cell_type": "code",
   "execution_count": 23,
   "metadata": {},
   "outputs": [
    {
     "name": "stderr",
     "output_type": "stream",
     "text": [
      "Your code contains a unicode char which cannot be displayed in your\n",
      "current locale and R will silently convert it to an escaped form when the\n",
      "R kernel executes this code. This can lead to subtle errors if you use\n",
      "such chars to do comparisons. For more information, please see\n",
      "https://github.com/IRkernel/repr/wiki/Problems-with-unicode-on-windows"
     ]
    },
    {
     "data": {
      "text/html": [
       "<table class=\"dataframe\">\n",
       "<caption>A data.frame: 6 × 2</caption>\n",
       "<thead>\n",
       "\t<tr><th></th><th scope=col>male</th><th scope=col>female</th></tr>\n",
       "\t<tr><th></th><th scope=col>&lt;dbl&gt;</th><th scope=col>&lt;dbl&gt;</th></tr>\n",
       "</thead>\n",
       "<tbody>\n",
       "\t<tr><th scope=row>Male</th><td>0</td><td>2</td></tr>\n",
       "\t<tr><th scope=row>X...M</th><td>3</td><td>5</td></tr>\n",
       "\t<tr><th scope=row>Female</th><td>2</td><td>0</td></tr>\n",
       "\t<tr><th scope=row>Man</th><td>2</td><td>4</td></tr>\n",
       "\t<tr><th scope=row>F....</th><td>4</td><td>5</td></tr>\n",
       "\t<tr><th scope=row>male.</th><td>1</td><td>3</td></tr>\n",
       "</tbody>\n",
       "</table>\n"
      ],
      "text/latex": [
       "A data.frame: 6 × 2\n",
       "\\begin{tabular}{r|ll}\n",
       "  & male & female\\\\\n",
       "  & <dbl> & <dbl>\\\\\n",
       "\\hline\n",
       "\tMale & 0 & 2\\\\\n",
       "\tX...M & 3 & 5\\\\\n",
       "\tFemale & 2 & 0\\\\\n",
       "\tMan & 2 & 4\\\\\n",
       "\tF.... & 4 & 5\\\\\n",
       "\tmale. & 1 & 3\\\\\n",
       "\\end{tabular}\n"
      ],
      "text/markdown": [
       "\n",
       "A data.frame: 6 × 2\n",
       "\n",
       "| <!--/--> | male &lt;dbl&gt; | female &lt;dbl&gt; |\n",
       "|---|---|---|\n",
       "| Male | 0 | 2 |\n",
       "| X...M | 3 | 5 |\n",
       "| Female | 2 | 0 |\n",
       "| Man | 2 | 4 |\n",
       "| F.... | 4 | 5 |\n",
       "| male. | 1 | 3 |\n",
       "\n"
      ],
      "text/plain": [
       "       male female\n",
       "Male   0    2     \n",
       "X...M  3    5     \n",
       "Female 2    0     \n",
       "Man    2    4     \n",
       "F....  4    5     \n",
       "male.  1    3     "
      ]
     },
     "metadata": {},
     "output_type": "display_data"
    }
   ],
   "source": [
    "# Видалимо повтори\n",
    "adj_m |> as.data.frame() |> dplyr::distinct()"
   ]
  },
  {
   "cell_type": "markdown",
   "metadata": {},
   "source": [
    "Примінимо інформацію про відстані до \"нечистих\" даних про стать:"
   ]
  },
  {
   "cell_type": "code",
   "execution_count": 24,
   "metadata": {},
   "outputs": [
    {
     "name": "stderr",
     "output_type": "stream",
     "text": [
      "Your code contains a unicode char which cannot be displayed in your\n",
      "current locale and R will silently convert it to an escaped form when the\n",
      "R kernel executes this code. This can lead to subtle errors if you use\n",
      "such chars to do comparisons. For more information, please see\n",
      "https://github.com/IRkernel/repr/wiki/Problems-with-unicode-on-windows"
     ]
    },
    {
     "data": {
      "text/html": [
       "<style>\n",
       ".dl-inline {width: auto; margin:0; padding: 0}\n",
       ".dl-inline>dt, .dl-inline>dd {float: none; width: auto; display: inline-block}\n",
       ".dl-inline>dt::after {content: \":\\0020\"; padding-right: .5ex}\n",
       ".dl-inline>dt:not(:first-of-type) {padding-left: .5ex}\n",
       "</style><dl class=dl-inline><dt>Male</dt><dd>1</dd><dt><span style=white-space:pre-wrap>   M</span></dt><dd>1</dd><dt>Female</dt><dd>2</dd><dt>Man</dt><dd>1</dd><dt>female</dt><dd>2</dd><dt><span style=white-space:pre-wrap>F    </span></dt><dd>1</dd><dt>male.</dt><dd>1</dd><dt>m</dt><dd>1</dd><dt>Man</dt><dd>1</dd><dt>female</dt><dd>2</dd><dt><span style=white-space:pre-wrap>F    </span></dt><dd>1</dd><dt>male.</dt><dd>1</dd><dt>m</dt><dd>1</dd></dl>\n"
      ],
      "text/latex": [
       "\\begin{description*}\n",
       "\\item[Male] 1\n",
       "\\item[   M] 1\n",
       "\\item[Female] 2\n",
       "\\item[Man] 1\n",
       "\\item[female] 2\n",
       "\\item[F    ] 1\n",
       "\\item[male.] 1\n",
       "\\item[m] 1\n",
       "\\item[Man] 1\n",
       "\\item[female] 2\n",
       "\\item[F    ] 1\n",
       "\\item[male.] 1\n",
       "\\item[m] 1\n",
       "\\end{description*}\n"
      ],
      "text/markdown": [
       "Male\n",
       ":   1<span style=white-space:pre-wrap>   M</span>\n",
       ":   1Female\n",
       ":   2Man\n",
       ":   1female\n",
       ":   2<span style=white-space:pre-wrap>F    </span>\n",
       ":   1male.\n",
       ":   1m\n",
       ":   1Man\n",
       ":   1female\n",
       ":   2<span style=white-space:pre-wrap>F    </span>\n",
       ":   1male.\n",
       ":   1m\n",
       ":   1\n",
       "\n"
      ],
      "text/plain": [
       "  Male      M Female    Man female  F      male.      m    Man female  F     \n",
       "     1      1      2      1      2      1      1      1      1      2      1 \n",
       " male.      m \n",
       "     1      1 "
      ]
     },
     "metadata": {},
     "output_type": "display_data"
    }
   ],
   "source": [
    "nums <- apply(adj_m, 1, which.min) # Знайдемо найближчі значення\n",
    "nums"
   ]
  },
  {
   "cell_type": "code",
   "execution_count": 25,
   "metadata": {},
   "outputs": [
    {
     "name": "stderr",
     "output_type": "stream",
     "text": [
      "Your code contains a unicode char which cannot be displayed in your\n",
      "current locale and R will silently convert it to an escaped form when the\n",
      "R kernel executes this code. This can lead to subtle errors if you use\n",
      "such chars to do comparisons. For more information, please see\n",
      "https://github.com/IRkernel/repr/wiki/Problems-with-unicode-on-windows"
     ]
    },
    {
     "data": {
      "text/html": [
       "<table class=\"dataframe\">\n",
       "<caption>A data.frame: 13 × 2</caption>\n",
       "<thead>\n",
       "\t<tr><th scope=col>initial</th><th scope=col>coded</th></tr>\n",
       "\t<tr><th scope=col>&lt;chr&gt;</th><th scope=col>&lt;chr&gt;</th></tr>\n",
       "</thead>\n",
       "<tbody>\n",
       "\t<tr><td>Male  </td><td>male  </td></tr>\n",
       "\t<tr><td>   M  </td><td>male  </td></tr>\n",
       "\t<tr><td>Female</td><td>female</td></tr>\n",
       "\t<tr><td>Man   </td><td>male  </td></tr>\n",
       "\t<tr><td>female</td><td>female</td></tr>\n",
       "\t<tr><td>F     </td><td>male  </td></tr>\n",
       "\t<tr><td>male. </td><td>male  </td></tr>\n",
       "\t<tr><td>m     </td><td>male  </td></tr>\n",
       "\t<tr><td>Man   </td><td>male  </td></tr>\n",
       "\t<tr><td>female</td><td>female</td></tr>\n",
       "\t<tr><td>F     </td><td>male  </td></tr>\n",
       "\t<tr><td>male. </td><td>male  </td></tr>\n",
       "\t<tr><td>m     </td><td>male  </td></tr>\n",
       "</tbody>\n",
       "</table>\n"
      ],
      "text/latex": [
       "A data.frame: 13 × 2\n",
       "\\begin{tabular}{ll}\n",
       " initial & coded\\\\\n",
       " <chr> & <chr>\\\\\n",
       "\\hline\n",
       "\t Male   & male  \\\\\n",
       "\t    M   & male  \\\\\n",
       "\t Female & female\\\\\n",
       "\t Man    & male  \\\\\n",
       "\t female & female\\\\\n",
       "\t F      & male  \\\\\n",
       "\t male.  & male  \\\\\n",
       "\t m      & male  \\\\\n",
       "\t Man    & male  \\\\\n",
       "\t female & female\\\\\n",
       "\t F      & male  \\\\\n",
       "\t male.  & male  \\\\\n",
       "\t m      & male  \\\\\n",
       "\\end{tabular}\n"
      ],
      "text/markdown": [
       "\n",
       "A data.frame: 13 × 2\n",
       "\n",
       "| initial &lt;chr&gt; | coded &lt;chr&gt; |\n",
       "|---|---|\n",
       "| Male   | male   |\n",
       "|    M   | male   |\n",
       "| Female | female |\n",
       "| Man    | male   |\n",
       "| female | female |\n",
       "| F      | male   |\n",
       "| male.  | male   |\n",
       "| m      | male   |\n",
       "| Man    | male   |\n",
       "| female | female |\n",
       "| F      | male   |\n",
       "| male.  | male   |\n",
       "| m      | male   |\n",
       "\n"
      ],
      "text/plain": [
       "   initial coded \n",
       "1  Male    male  \n",
       "2     M    male  \n",
       "3  Female  female\n",
       "4  Man     male  \n",
       "5  female  female\n",
       "6  F       male  \n",
       "7  male.   male  \n",
       "8  m       male  \n",
       "9  Man     male  \n",
       "10 female  female\n",
       "11 F       male  \n",
       "12 male.   male  \n",
       "13 m       male  "
      ]
     },
     "metadata": {},
     "output_type": "display_data"
    }
   ],
   "source": [
    "data.frame(initial = data$gender, coded = m[nums]) # FFFFFFFFFFFFFF - проблема!"
   ]
  },
  {
   "cell_type": "markdown",
   "metadata": {},
   "source": [
    "Як альтернативу для знаходження відстаней між рядками можна використовувати функції з бібліотеки `stringdist`."
   ]
  },
  {
   "cell_type": "code",
   "execution_count": 27,
   "metadata": {},
   "outputs": [],
   "source": [
    "#install.packages(\"stringdist\")"
   ]
  },
  {
   "cell_type": "code",
   "execution_count": 28,
   "metadata": {},
   "outputs": [
    {
     "name": "stderr",
     "output_type": "stream",
     "text": [
      "Your code contains a unicode char which cannot be displayed in your\n",
      "current locale and R will silently convert it to an escaped form when the\n",
      "R kernel executes this code. This can lead to subtle errors if you use\n",
      "such chars to do comparisons. For more information, please see\n",
      "https://github.com/IRkernel/repr/wiki/Problems-with-unicode-on-windows"
     ]
    },
    {
     "data": {
      "text/html": [
       "<table class=\"dataframe\">\n",
       "<caption>A matrix: 1 × 1 of type dbl</caption>\n",
       "<tbody>\n",
       "\t<tr><td>2</td></tr>\n",
       "</tbody>\n",
       "</table>\n"
      ],
      "text/latex": [
       "A matrix: 1 × 1 of type dbl\n",
       "\\begin{tabular}{l}\n",
       "\t 2\\\\\n",
       "\\end{tabular}\n"
      ],
      "text/markdown": [
       "\n",
       "A matrix: 1 × 1 of type dbl\n",
       "\n",
       "| 2 |\n",
       "\n"
      ],
      "text/plain": [
       "     [,1]\n",
       "[1,] 2   "
      ]
     },
     "metadata": {},
     "output_type": "display_data"
    },
    {
     "data": {
      "text/html": [
       "1"
      ],
      "text/latex": [
       "1"
      ],
      "text/markdown": [
       "1"
      ],
      "text/plain": [
       "[1] 1"
      ]
     },
     "metadata": {},
     "output_type": "display_data"
    }
   ],
   "source": [
    "library(stringdist)\n",
    "adist(\"ao\", \"oa\")\n",
    "stringdist(\"oa\", \"ao\") # 1, а було 2"
   ]
  },
  {
   "cell_type": "markdown",
   "metadata": {},
   "source": [
    "Спробуємо \"очистити\" дані, які ми отримали з допомогою функції `amatch()`:"
   ]
  },
  {
   "cell_type": "code",
   "execution_count": 30,
   "metadata": {},
   "outputs": [
    {
     "name": "stderr",
     "output_type": "stream",
     "text": [
      "Your code contains a unicode char which cannot be displayed in your\n",
      "current locale and R will silently convert it to an escaped form when the\n",
      "R kernel executes this code. This can lead to subtle errors if you use\n",
      "such chars to do comparisons. For more information, please see\n",
      "https://github.com/IRkernel/repr/wiki/Problems-with-unicode-on-windows"
     ]
    },
    {
     "data": {
      "text/html": [
       "<style>\n",
       ".list-inline {list-style: none; margin:0; padding: 0}\n",
       ".list-inline>li {display: inline-block}\n",
       ".list-inline>li:not(:last-child)::after {content: \"\\00b7\"; padding: 0 .5ex}\n",
       "</style>\n",
       "<ol class=list-inline><li>1</li><li>1</li><li>2</li><li>1</li><li>2</li><li>&lt;NA&gt;</li><li>1</li><li>1</li><li>1</li><li>2</li><li>&lt;NA&gt;</li><li>1</li><li>1</li></ol>\n"
      ],
      "text/latex": [
       "\\begin{enumerate*}\n",
       "\\item 1\n",
       "\\item 1\n",
       "\\item 2\n",
       "\\item 1\n",
       "\\item 2\n",
       "\\item <NA>\n",
       "\\item 1\n",
       "\\item 1\n",
       "\\item 1\n",
       "\\item 2\n",
       "\\item <NA>\n",
       "\\item 1\n",
       "\\item 1\n",
       "\\end{enumerate*}\n"
      ],
      "text/markdown": [
       "1. 1\n",
       "2. 1\n",
       "3. 2\n",
       "4. 1\n",
       "5. 2\n",
       "6. &lt;NA&gt;\n",
       "7. 1\n",
       "8. 1\n",
       "9. 1\n",
       "10. 2\n",
       "11. &lt;NA&gt;\n",
       "12. 1\n",
       "13. 1\n",
       "\n",
       "\n"
      ],
      "text/plain": [
       " [1]  1  1  2  1  2 NA  1  1  1  2 NA  1  1"
      ]
     },
     "metadata": {},
     "output_type": "display_data"
    }
   ],
   "source": [
    "nums <- amatch(data$gender,  c(\"male\", \"female\"), maxDist = 4) # Знайдемо найближчі значення\n",
    "nums"
   ]
  },
  {
   "cell_type": "code",
   "execution_count": 31,
   "metadata": {},
   "outputs": [
    {
     "name": "stderr",
     "output_type": "stream",
     "text": [
      "Your code contains a unicode char which cannot be displayed in your\n",
      "current locale and R will silently convert it to an escaped form when the\n",
      "R kernel executes this code. This can lead to subtle errors if you use\n",
      "such chars to do comparisons. For more information, please see\n",
      "https://github.com/IRkernel/repr/wiki/Problems-with-unicode-on-windows"
     ]
    },
    {
     "data": {
      "text/html": [
       "<table class=\"dataframe\">\n",
       "<caption>A data.frame: 13 × 2</caption>\n",
       "<thead>\n",
       "\t<tr><th scope=col>initial</th><th scope=col>coded</th></tr>\n",
       "\t<tr><th scope=col>&lt;chr&gt;</th><th scope=col>&lt;chr&gt;</th></tr>\n",
       "</thead>\n",
       "<tbody>\n",
       "\t<tr><td>Male  </td><td>male  </td></tr>\n",
       "\t<tr><td>   M  </td><td>male  </td></tr>\n",
       "\t<tr><td>Female</td><td>female</td></tr>\n",
       "\t<tr><td>Man   </td><td>male  </td></tr>\n",
       "\t<tr><td>female</td><td>female</td></tr>\n",
       "\t<tr><td>F     </td><td>NA    </td></tr>\n",
       "\t<tr><td>male. </td><td>male  </td></tr>\n",
       "\t<tr><td>m     </td><td>male  </td></tr>\n",
       "\t<tr><td>Man   </td><td>male  </td></tr>\n",
       "\t<tr><td>female</td><td>female</td></tr>\n",
       "\t<tr><td>F     </td><td>NA    </td></tr>\n",
       "\t<tr><td>male. </td><td>male  </td></tr>\n",
       "\t<tr><td>m     </td><td>male  </td></tr>\n",
       "</tbody>\n",
       "</table>\n"
      ],
      "text/latex": [
       "A data.frame: 13 × 2\n",
       "\\begin{tabular}{ll}\n",
       " initial & coded\\\\\n",
       " <chr> & <chr>\\\\\n",
       "\\hline\n",
       "\t Male   & male  \\\\\n",
       "\t    M   & male  \\\\\n",
       "\t Female & female\\\\\n",
       "\t Man    & male  \\\\\n",
       "\t female & female\\\\\n",
       "\t F      & NA    \\\\\n",
       "\t male.  & male  \\\\\n",
       "\t m      & male  \\\\\n",
       "\t Man    & male  \\\\\n",
       "\t female & female\\\\\n",
       "\t F      & NA    \\\\\n",
       "\t male.  & male  \\\\\n",
       "\t m      & male  \\\\\n",
       "\\end{tabular}\n"
      ],
      "text/markdown": [
       "\n",
       "A data.frame: 13 × 2\n",
       "\n",
       "| initial &lt;chr&gt; | coded &lt;chr&gt; |\n",
       "|---|---|\n",
       "| Male   | male   |\n",
       "|    M   | male   |\n",
       "| Female | female |\n",
       "| Man    | male   |\n",
       "| female | female |\n",
       "| F      | NA     |\n",
       "| male.  | male   |\n",
       "| m      | male   |\n",
       "| Man    | male   |\n",
       "| female | female |\n",
       "| F      | NA     |\n",
       "| male.  | male   |\n",
       "| m      | male   |\n",
       "\n"
      ],
      "text/plain": [
       "   initial coded \n",
       "1  Male    male  \n",
       "2     M    male  \n",
       "3  Female  female\n",
       "4  Man     male  \n",
       "5  female  female\n",
       "6  F       NA    \n",
       "7  male.   male  \n",
       "8  m       male  \n",
       "9  Man     male  \n",
       "10 female  female\n",
       "11 F       NA    \n",
       "12 male.   male  \n",
       "13 m       male  "
      ]
     },
     "metadata": {},
     "output_type": "display_data"
    }
   ],
   "source": [
    "data.frame(initial = data$gender, coded = m[nums]) # FFFFFFFFFFFFFF - проблема!"
   ]
  },
  {
   "cell_type": "code",
   "execution_count": 34,
   "metadata": {},
   "outputs": [
    {
     "data": {
      "text/html": [
       "<table class=\"dataframe\">\n",
       "<caption>A data.frame: 13 × 1</caption>\n",
       "<thead>\n",
       "\t<tr><th scope=col>gender</th></tr>\n",
       "\t<tr><th scope=col>&lt;chr&gt;</th></tr>\n",
       "</thead>\n",
       "<tbody>\n",
       "\t<tr><td>Male  </td></tr>\n",
       "\t<tr><td>   M  </td></tr>\n",
       "\t<tr><td>Female</td></tr>\n",
       "\t<tr><td>Man   </td></tr>\n",
       "\t<tr><td>female</td></tr>\n",
       "\t<tr><td>female</td></tr>\n",
       "\t<tr><td>male. </td></tr>\n",
       "\t<tr><td>m     </td></tr>\n",
       "\t<tr><td>Man   </td></tr>\n",
       "\t<tr><td>female</td></tr>\n",
       "\t<tr><td>female</td></tr>\n",
       "\t<tr><td>male. </td></tr>\n",
       "\t<tr><td>m     </td></tr>\n",
       "</tbody>\n",
       "</table>\n"
      ],
      "text/latex": [
       "A data.frame: 13 × 1\n",
       "\\begin{tabular}{l}\n",
       " gender\\\\\n",
       " <chr>\\\\\n",
       "\\hline\n",
       "\t Male  \\\\\n",
       "\t    M  \\\\\n",
       "\t Female\\\\\n",
       "\t Man   \\\\\n",
       "\t female\\\\\n",
       "\t female\\\\\n",
       "\t male. \\\\\n",
       "\t m     \\\\\n",
       "\t Man   \\\\\n",
       "\t female\\\\\n",
       "\t female\\\\\n",
       "\t male. \\\\\n",
       "\t m     \\\\\n",
       "\\end{tabular}\n"
      ],
      "text/markdown": [
       "\n",
       "A data.frame: 13 × 1\n",
       "\n",
       "| gender &lt;chr&gt; |\n",
       "|---|\n",
       "| Male   |\n",
       "|    M   |\n",
       "| Female |\n",
       "| Man    |\n",
       "| female |\n",
       "| female |\n",
       "| male.  |\n",
       "| m      |\n",
       "| Man    |\n",
       "| female |\n",
       "| female |\n",
       "| male.  |\n",
       "| m      |\n",
       "\n"
      ],
      "text/plain": [
       "   gender\n",
       "1  Male  \n",
       "2     M  \n",
       "3  Female\n",
       "4  Man   \n",
       "5  female\n",
       "6  female\n",
       "7  male. \n",
       "8  m     \n",
       "9  Man   \n",
       "10 female\n",
       "11 female\n",
       "12 male. \n",
       "13 m     "
      ]
     },
     "metadata": {},
     "output_type": "display_data"
    },
    {
     "data": {
      "text/html": [
       "<table class=\"dataframe\">\n",
       "<caption>A data.frame: 13 × 1</caption>\n",
       "<thead>\n",
       "\t<tr><th scope=col>gender</th></tr>\n",
       "\t<tr><th scope=col>&lt;chr&gt;</th></tr>\n",
       "</thead>\n",
       "<tbody>\n",
       "\t<tr><td>Male  </td></tr>\n",
       "\t<tr><td>   M  </td></tr>\n",
       "\t<tr><td>Female</td></tr>\n",
       "\t<tr><td>Man   </td></tr>\n",
       "\t<tr><td>female</td></tr>\n",
       "\t<tr><td>female</td></tr>\n",
       "\t<tr><td>male. </td></tr>\n",
       "\t<tr><td>m     </td></tr>\n",
       "\t<tr><td>Man   </td></tr>\n",
       "\t<tr><td>female</td></tr>\n",
       "\t<tr><td>female</td></tr>\n",
       "\t<tr><td>male. </td></tr>\n",
       "\t<tr><td>m     </td></tr>\n",
       "</tbody>\n",
       "</table>\n"
      ],
      "text/latex": [
       "A data.frame: 13 × 1\n",
       "\\begin{tabular}{l}\n",
       " gender\\\\\n",
       " <chr>\\\\\n",
       "\\hline\n",
       "\t Male  \\\\\n",
       "\t    M  \\\\\n",
       "\t Female\\\\\n",
       "\t Man   \\\\\n",
       "\t female\\\\\n",
       "\t female\\\\\n",
       "\t male. \\\\\n",
       "\t m     \\\\\n",
       "\t Man   \\\\\n",
       "\t female\\\\\n",
       "\t female\\\\\n",
       "\t male. \\\\\n",
       "\t m     \\\\\n",
       "\\end{tabular}\n"
      ],
      "text/markdown": [
       "\n",
       "A data.frame: 13 × 1\n",
       "\n",
       "| gender &lt;chr&gt; |\n",
       "|---|\n",
       "| Male   |\n",
       "|    M   |\n",
       "| Female |\n",
       "| Man    |\n",
       "| female |\n",
       "| female |\n",
       "| male.  |\n",
       "| m      |\n",
       "| Man    |\n",
       "| female |\n",
       "| female |\n",
       "| male.  |\n",
       "| m      |\n",
       "\n"
      ],
      "text/plain": [
       "   gender\n",
       "1  Male  \n",
       "2     M  \n",
       "3  Female\n",
       "4  Man   \n",
       "5  female\n",
       "6  female\n",
       "7  male. \n",
       "8  m     \n",
       "9  Man   \n",
       "10 female\n",
       "11 female\n",
       "12 male. \n",
       "13 m     "
      ]
     },
     "metadata": {},
     "output_type": "display_data"
    },
    {
     "data": {
      "text/html": [
       "<table class=\"dataframe\">\n",
       "<caption>A data.frame: 13 × 2</caption>\n",
       "<thead>\n",
       "\t<tr><th scope=col>initial</th><th scope=col>coded</th></tr>\n",
       "\t<tr><th scope=col>&lt;chr&gt;</th><th scope=col>&lt;chr&gt;</th></tr>\n",
       "</thead>\n",
       "<tbody>\n",
       "\t<tr><td>Male  </td><td>male  </td></tr>\n",
       "\t<tr><td>   M  </td><td>male  </td></tr>\n",
       "\t<tr><td>Female</td><td>female</td></tr>\n",
       "\t<tr><td>Man   </td><td>male  </td></tr>\n",
       "\t<tr><td>female</td><td>female</td></tr>\n",
       "\t<tr><td>female</td><td>female</td></tr>\n",
       "\t<tr><td>male. </td><td>male  </td></tr>\n",
       "\t<tr><td>m     </td><td>male  </td></tr>\n",
       "\t<tr><td>Man   </td><td>male  </td></tr>\n",
       "\t<tr><td>female</td><td>female</td></tr>\n",
       "\t<tr><td>female</td><td>female</td></tr>\n",
       "\t<tr><td>male. </td><td>male  </td></tr>\n",
       "\t<tr><td>m     </td><td>male  </td></tr>\n",
       "</tbody>\n",
       "</table>\n"
      ],
      "text/latex": [
       "A data.frame: 13 × 2\n",
       "\\begin{tabular}{ll}\n",
       " initial & coded\\\\\n",
       " <chr> & <chr>\\\\\n",
       "\\hline\n",
       "\t Male   & male  \\\\\n",
       "\t    M   & male  \\\\\n",
       "\t Female & female\\\\\n",
       "\t Man    & male  \\\\\n",
       "\t female & female\\\\\n",
       "\t female & female\\\\\n",
       "\t male.  & male  \\\\\n",
       "\t m      & male  \\\\\n",
       "\t Man    & male  \\\\\n",
       "\t female & female\\\\\n",
       "\t female & female\\\\\n",
       "\t male.  & male  \\\\\n",
       "\t m      & male  \\\\\n",
       "\\end{tabular}\n"
      ],
      "text/markdown": [
       "\n",
       "A data.frame: 13 × 2\n",
       "\n",
       "| initial &lt;chr&gt; | coded &lt;chr&gt; |\n",
       "|---|---|\n",
       "| Male   | male   |\n",
       "|    M   | male   |\n",
       "| Female | female |\n",
       "| Man    | male   |\n",
       "| female | female |\n",
       "| female | female |\n",
       "| male.  | male   |\n",
       "| m      | male   |\n",
       "| Man    | male   |\n",
       "| female | female |\n",
       "| female | female |\n",
       "| male.  | male   |\n",
       "| m      | male   |\n",
       "\n"
      ],
      "text/plain": [
       "   initial coded \n",
       "1  Male    male  \n",
       "2     M    male  \n",
       "3  Female  female\n",
       "4  Man     male  \n",
       "5  female  female\n",
       "6  female  female\n",
       "7  male.   male  \n",
       "8  m       male  \n",
       "9  Man     male  \n",
       "10 female  female\n",
       "11 female  female\n",
       "12 male.   male  \n",
       "13 m       male  "
      ]
     },
     "metadata": {},
     "output_type": "display_data"
    }
   ],
   "source": [
    "library(dplyr)\n",
    "data <- data |> mutate(gender = ifelse(gender == \"F\", \"female\", gender)) # ????? # Space\n",
    "data\n",
    "data <- data |> mutate(gender = ifelse(str_trim(gender) == \"F\", \"female\", gender))\n",
    "data\n",
    "nums <- amatch(data$gender,  c(\"male\", \"female\"), maxDist = 4)\n",
    "data.frame(initial = data$gender, coded = m[nums]) "
   ]
  },
  {
   "cell_type": "markdown",
   "metadata": {},
   "source": [
    "Місія виконана! Замінимо та збережемо інформацію у файл для майбутніх експериментів по цій темі:"
   ]
  },
  {
   "cell_type": "code",
   "execution_count": 35,
   "metadata": {},
   "outputs": [
    {
     "data": {
      "text/html": [
       "<table class=\"dataframe\">\n",
       "<caption>A data.frame: 2 × 5</caption>\n",
       "<thead>\n",
       "\t<tr><th></th><th scope=col>person_age</th><th scope=col>person_height</th><th scope=col>person_weight</th><th scope=col>person_gender</th><th scope=col>empty</th></tr>\n",
       "\t<tr><th></th><th scope=col>&lt;int&gt;</th><th scope=col>&lt;chr&gt;</th><th scope=col>&lt;dbl&gt;</th><th scope=col>&lt;chr&gt;</th><th scope=col>&lt;lgl&gt;</th></tr>\n",
       "</thead>\n",
       "<tbody>\n",
       "\t<tr><th scope=row>1</th><td>23</td><td>185</td><td>  NA</td><td>Male</td><td>NA</td></tr>\n",
       "\t<tr><th scope=row>2</th><td>41</td><td>175</td><td>68.3</td><td>   M</td><td>NA</td></tr>\n",
       "</tbody>\n",
       "</table>\n"
      ],
      "text/latex": [
       "A data.frame: 2 × 5\n",
       "\\begin{tabular}{r|lllll}\n",
       "  & person\\_age & person\\_height & person\\_weight & person\\_gender & empty\\\\\n",
       "  & <int> & <chr> & <dbl> & <chr> & <lgl>\\\\\n",
       "\\hline\n",
       "\t1 & 23 & 185 &   NA & Male & NA\\\\\n",
       "\t2 & 41 & 175 & 68.3 &    M & NA\\\\\n",
       "\\end{tabular}\n"
      ],
      "text/markdown": [
       "\n",
       "A data.frame: 2 × 5\n",
       "\n",
       "| <!--/--> | person_age &lt;int&gt; | person_height &lt;chr&gt; | person_weight &lt;dbl&gt; | person_gender &lt;chr&gt; | empty &lt;lgl&gt; |\n",
       "|---|---|---|---|---|---|\n",
       "| 1 | 23 | 185 |   NA | Male | NA |\n",
       "| 2 | 41 | 175 | 68.3 |    M | NA |\n",
       "\n"
      ],
      "text/plain": [
       "  person_age person_height person_weight person_gender empty\n",
       "1 23         185             NA          Male          NA   \n",
       "2 41         175           68.3             M          NA   "
      ]
     },
     "metadata": {},
     "output_type": "display_data"
    }
   ],
   "source": [
    "data <- read.csv(\"data/badtitled.csv\")\n",
    "data <- clean_names(data)\n",
    "head(data, 2)"
   ]
  },
  {
   "cell_type": "code",
   "execution_count": 36,
   "metadata": {},
   "outputs": [
    {
     "data": {
      "text/html": [
       "<table class=\"dataframe\">\n",
       "<caption>A data.frame: 13 × 5</caption>\n",
       "<thead>\n",
       "\t<tr><th scope=col>person_age</th><th scope=col>person_height</th><th scope=col>person_weight</th><th scope=col>person_gender</th><th scope=col>empty</th></tr>\n",
       "\t<tr><th scope=col>&lt;int&gt;</th><th scope=col>&lt;chr&gt;</th><th scope=col>&lt;dbl&gt;</th><th scope=col>&lt;chr&gt;</th><th scope=col>&lt;lgl&gt;</th></tr>\n",
       "</thead>\n",
       "<tbody>\n",
       "\t<tr><td>23</td><td>185 </td><td>  NA</td><td>male  </td><td>NA</td></tr>\n",
       "\t<tr><td>41</td><td>175 </td><td>68.3</td><td>male  </td><td>NA</td></tr>\n",
       "\t<tr><td>11</td><td>142*</td><td>55.4</td><td>female</td><td>NA</td></tr>\n",
       "\t<tr><td>12</td><td>NA  </td><td>48.2</td><td>male  </td><td>NA</td></tr>\n",
       "\t<tr><td>54</td><td>191 </td><td>  NA</td><td>female</td><td>NA</td></tr>\n",
       "\t<tr><td>32</td><td>168 </td><td>78.0</td><td>female</td><td>NA</td></tr>\n",
       "\t<tr><td>22</td><td>NA  </td><td>54.0</td><td>male  </td><td>NA</td></tr>\n",
       "\t<tr><td>21</td><td>165 </td><td>  NA</td><td>male  </td><td>NA</td></tr>\n",
       "\t<tr><td>14</td><td>NA  </td><td>90.2</td><td>male  </td><td>NA</td></tr>\n",
       "\t<tr><td>51</td><td>250 </td><td>  NA</td><td>female</td><td>NA</td></tr>\n",
       "\t<tr><td>41</td><td>20  </td><td>81.0</td><td>female</td><td>NA</td></tr>\n",
       "\t<tr><td>66</td><td>NA  </td><td>59.0</td><td>male  </td><td>NA</td></tr>\n",
       "\t<tr><td>71</td><td>171 </td><td>  NA</td><td>male  </td><td>NA</td></tr>\n",
       "</tbody>\n",
       "</table>\n"
      ],
      "text/latex": [
       "A data.frame: 13 × 5\n",
       "\\begin{tabular}{lllll}\n",
       " person\\_age & person\\_height & person\\_weight & person\\_gender & empty\\\\\n",
       " <int> & <chr> & <dbl> & <chr> & <lgl>\\\\\n",
       "\\hline\n",
       "\t 23 & 185  &   NA & male   & NA\\\\\n",
       "\t 41 & 175  & 68.3 & male   & NA\\\\\n",
       "\t 11 & 142* & 55.4 & female & NA\\\\\n",
       "\t 12 & NA   & 48.2 & male   & NA\\\\\n",
       "\t 54 & 191  &   NA & female & NA\\\\\n",
       "\t 32 & 168  & 78.0 & female & NA\\\\\n",
       "\t 22 & NA   & 54.0 & male   & NA\\\\\n",
       "\t 21 & 165  &   NA & male   & NA\\\\\n",
       "\t 14 & NA   & 90.2 & male   & NA\\\\\n",
       "\t 51 & 250  &   NA & female & NA\\\\\n",
       "\t 41 & 20   & 81.0 & female & NA\\\\\n",
       "\t 66 & NA   & 59.0 & male   & NA\\\\\n",
       "\t 71 & 171  &   NA & male   & NA\\\\\n",
       "\\end{tabular}\n"
      ],
      "text/markdown": [
       "\n",
       "A data.frame: 13 × 5\n",
       "\n",
       "| person_age &lt;int&gt; | person_height &lt;chr&gt; | person_weight &lt;dbl&gt; | person_gender &lt;chr&gt; | empty &lt;lgl&gt; |\n",
       "|---|---|---|---|---|\n",
       "| 23 | 185  |   NA | male   | NA |\n",
       "| 41 | 175  | 68.3 | male   | NA |\n",
       "| 11 | 142* | 55.4 | female | NA |\n",
       "| 12 | NA   | 48.2 | male   | NA |\n",
       "| 54 | 191  |   NA | female | NA |\n",
       "| 32 | 168  | 78.0 | female | NA |\n",
       "| 22 | NA   | 54.0 | male   | NA |\n",
       "| 21 | 165  |   NA | male   | NA |\n",
       "| 14 | NA   | 90.2 | male   | NA |\n",
       "| 51 | 250  |   NA | female | NA |\n",
       "| 41 | 20   | 81.0 | female | NA |\n",
       "| 66 | NA   | 59.0 | male   | NA |\n",
       "| 71 | 171  |   NA | male   | NA |\n",
       "\n"
      ],
      "text/plain": [
       "   person_age person_height person_weight person_gender empty\n",
       "1  23         185             NA          male          NA   \n",
       "2  41         175           68.3          male          NA   \n",
       "3  11         142*          55.4          female        NA   \n",
       "4  12         NA            48.2          male          NA   \n",
       "5  54         191             NA          female        NA   \n",
       "6  32         168           78.0          female        NA   \n",
       "7  22         NA            54.0          male          NA   \n",
       "8  21         165             NA          male          NA   \n",
       "9  14         NA            90.2          male          NA   \n",
       "10 51         250             NA          female        NA   \n",
       "11 41         20            81.0          female        NA   \n",
       "12 66         NA            59.0          male          NA   \n",
       "13 71         171             NA          male          NA   "
      ]
     },
     "metadata": {},
     "output_type": "display_data"
    }
   ],
   "source": [
    "data <- data |> mutate(person_gender = ifelse(str_trim(person_gender) == \"F\", \"female\", person_gender))\n",
    "m <- c(\"male\", \"female\")\n",
    "nums <- amatch(data$person_gender, m, maxDist = 4)\n",
    "data <- data |> mutate(person_gender = m[nums])\n",
    "data"
   ]
  },
  {
   "cell_type": "markdown",
   "metadata": {},
   "source": [
    "Замінимо також висоту на числове значення, а не текст:"
   ]
  },
  {
   "cell_type": "code",
   "execution_count": 37,
   "metadata": {},
   "outputs": [
    {
     "data": {
      "text/html": [
       "<table class=\"dataframe\">\n",
       "<caption>A data.frame: 13 × 5</caption>\n",
       "<thead>\n",
       "\t<tr><th scope=col>person_age</th><th scope=col>person_height</th><th scope=col>person_weight</th><th scope=col>person_gender</th><th scope=col>empty</th></tr>\n",
       "\t<tr><th scope=col>&lt;int&gt;</th><th scope=col>&lt;chr&gt;</th><th scope=col>&lt;dbl&gt;</th><th scope=col>&lt;chr&gt;</th><th scope=col>&lt;lgl&gt;</th></tr>\n",
       "</thead>\n",
       "<tbody>\n",
       "\t<tr><td>23</td><td>185</td><td>  NA</td><td>male  </td><td>NA</td></tr>\n",
       "\t<tr><td>41</td><td>175</td><td>68.3</td><td>male  </td><td>NA</td></tr>\n",
       "\t<tr><td>11</td><td>142</td><td>55.4</td><td>female</td><td>NA</td></tr>\n",
       "\t<tr><td>12</td><td>NA </td><td>48.2</td><td>male  </td><td>NA</td></tr>\n",
       "\t<tr><td>54</td><td>191</td><td>  NA</td><td>female</td><td>NA</td></tr>\n",
       "\t<tr><td>32</td><td>168</td><td>78.0</td><td>female</td><td>NA</td></tr>\n",
       "\t<tr><td>22</td><td>NA </td><td>54.0</td><td>male  </td><td>NA</td></tr>\n",
       "\t<tr><td>21</td><td>165</td><td>  NA</td><td>male  </td><td>NA</td></tr>\n",
       "\t<tr><td>14</td><td>NA </td><td>90.2</td><td>male  </td><td>NA</td></tr>\n",
       "\t<tr><td>51</td><td>250</td><td>  NA</td><td>female</td><td>NA</td></tr>\n",
       "\t<tr><td>41</td><td>20 </td><td>81.0</td><td>female</td><td>NA</td></tr>\n",
       "\t<tr><td>66</td><td>NA </td><td>59.0</td><td>male  </td><td>NA</td></tr>\n",
       "\t<tr><td>71</td><td>171</td><td>  NA</td><td>male  </td><td>NA</td></tr>\n",
       "</tbody>\n",
       "</table>\n"
      ],
      "text/latex": [
       "A data.frame: 13 × 5\n",
       "\\begin{tabular}{lllll}\n",
       " person\\_age & person\\_height & person\\_weight & person\\_gender & empty\\\\\n",
       " <int> & <chr> & <dbl> & <chr> & <lgl>\\\\\n",
       "\\hline\n",
       "\t 23 & 185 &   NA & male   & NA\\\\\n",
       "\t 41 & 175 & 68.3 & male   & NA\\\\\n",
       "\t 11 & 142 & 55.4 & female & NA\\\\\n",
       "\t 12 & NA  & 48.2 & male   & NA\\\\\n",
       "\t 54 & 191 &   NA & female & NA\\\\\n",
       "\t 32 & 168 & 78.0 & female & NA\\\\\n",
       "\t 22 & NA  & 54.0 & male   & NA\\\\\n",
       "\t 21 & 165 &   NA & male   & NA\\\\\n",
       "\t 14 & NA  & 90.2 & male   & NA\\\\\n",
       "\t 51 & 250 &   NA & female & NA\\\\\n",
       "\t 41 & 20  & 81.0 & female & NA\\\\\n",
       "\t 66 & NA  & 59.0 & male   & NA\\\\\n",
       "\t 71 & 171 &   NA & male   & NA\\\\\n",
       "\\end{tabular}\n"
      ],
      "text/markdown": [
       "\n",
       "A data.frame: 13 × 5\n",
       "\n",
       "| person_age &lt;int&gt; | person_height &lt;chr&gt; | person_weight &lt;dbl&gt; | person_gender &lt;chr&gt; | empty &lt;lgl&gt; |\n",
       "|---|---|---|---|---|\n",
       "| 23 | 185 |   NA | male   | NA |\n",
       "| 41 | 175 | 68.3 | male   | NA |\n",
       "| 11 | 142 | 55.4 | female | NA |\n",
       "| 12 | NA  | 48.2 | male   | NA |\n",
       "| 54 | 191 |   NA | female | NA |\n",
       "| 32 | 168 | 78.0 | female | NA |\n",
       "| 22 | NA  | 54.0 | male   | NA |\n",
       "| 21 | 165 |   NA | male   | NA |\n",
       "| 14 | NA  | 90.2 | male   | NA |\n",
       "| 51 | 250 |   NA | female | NA |\n",
       "| 41 | 20  | 81.0 | female | NA |\n",
       "| 66 | NA  | 59.0 | male   | NA |\n",
       "| 71 | 171 |   NA | male   | NA |\n",
       "\n"
      ],
      "text/plain": [
       "   person_age person_height person_weight person_gender empty\n",
       "1  23         185             NA          male          NA   \n",
       "2  41         175           68.3          male          NA   \n",
       "3  11         142           55.4          female        NA   \n",
       "4  12         NA            48.2          male          NA   \n",
       "5  54         191             NA          female        NA   \n",
       "6  32         168           78.0          female        NA   \n",
       "7  22         NA            54.0          male          NA   \n",
       "8  21         165             NA          male          NA   \n",
       "9  14         NA            90.2          male          NA   \n",
       "10 51         250             NA          female        NA   \n",
       "11 41         20            81.0          female        NA   \n",
       "12 66         NA            59.0          male          NA   \n",
       "13 71         171             NA          male          NA   "
      ]
     },
     "metadata": {},
     "output_type": "display_data"
    }
   ],
   "source": [
    "data <- data |> \n",
    "    mutate(person_height = str_remove(data$person_height, pattern = \"[*]\"))\n",
    "data"
   ]
  },
  {
   "cell_type": "code",
   "execution_count": 38,
   "metadata": {},
   "outputs": [
    {
     "data": {
      "text/html": [
       "<table class=\"dataframe\">\n",
       "<caption>A data.frame: 13 × 5</caption>\n",
       "<thead>\n",
       "\t<tr><th scope=col>person_age</th><th scope=col>person_height</th><th scope=col>person_weight</th><th scope=col>person_gender</th><th scope=col>empty</th></tr>\n",
       "\t<tr><th scope=col>&lt;int&gt;</th><th scope=col>&lt;dbl&gt;</th><th scope=col>&lt;dbl&gt;</th><th scope=col>&lt;chr&gt;</th><th scope=col>&lt;lgl&gt;</th></tr>\n",
       "</thead>\n",
       "<tbody>\n",
       "\t<tr><td>23</td><td>185</td><td>  NA</td><td>male  </td><td>NA</td></tr>\n",
       "\t<tr><td>41</td><td>175</td><td>68.3</td><td>male  </td><td>NA</td></tr>\n",
       "\t<tr><td>11</td><td>142</td><td>55.4</td><td>female</td><td>NA</td></tr>\n",
       "\t<tr><td>12</td><td> NA</td><td>48.2</td><td>male  </td><td>NA</td></tr>\n",
       "\t<tr><td>54</td><td>191</td><td>  NA</td><td>female</td><td>NA</td></tr>\n",
       "\t<tr><td>32</td><td>168</td><td>78.0</td><td>female</td><td>NA</td></tr>\n",
       "\t<tr><td>22</td><td> NA</td><td>54.0</td><td>male  </td><td>NA</td></tr>\n",
       "\t<tr><td>21</td><td>165</td><td>  NA</td><td>male  </td><td>NA</td></tr>\n",
       "\t<tr><td>14</td><td> NA</td><td>90.2</td><td>male  </td><td>NA</td></tr>\n",
       "\t<tr><td>51</td><td>250</td><td>  NA</td><td>female</td><td>NA</td></tr>\n",
       "\t<tr><td>41</td><td> 20</td><td>81.0</td><td>female</td><td>NA</td></tr>\n",
       "\t<tr><td>66</td><td> NA</td><td>59.0</td><td>male  </td><td>NA</td></tr>\n",
       "\t<tr><td>71</td><td>171</td><td>  NA</td><td>male  </td><td>NA</td></tr>\n",
       "</tbody>\n",
       "</table>\n"
      ],
      "text/latex": [
       "A data.frame: 13 × 5\n",
       "\\begin{tabular}{lllll}\n",
       " person\\_age & person\\_height & person\\_weight & person\\_gender & empty\\\\\n",
       " <int> & <dbl> & <dbl> & <chr> & <lgl>\\\\\n",
       "\\hline\n",
       "\t 23 & 185 &   NA & male   & NA\\\\\n",
       "\t 41 & 175 & 68.3 & male   & NA\\\\\n",
       "\t 11 & 142 & 55.4 & female & NA\\\\\n",
       "\t 12 &  NA & 48.2 & male   & NA\\\\\n",
       "\t 54 & 191 &   NA & female & NA\\\\\n",
       "\t 32 & 168 & 78.0 & female & NA\\\\\n",
       "\t 22 &  NA & 54.0 & male   & NA\\\\\n",
       "\t 21 & 165 &   NA & male   & NA\\\\\n",
       "\t 14 &  NA & 90.2 & male   & NA\\\\\n",
       "\t 51 & 250 &   NA & female & NA\\\\\n",
       "\t 41 &  20 & 81.0 & female & NA\\\\\n",
       "\t 66 &  NA & 59.0 & male   & NA\\\\\n",
       "\t 71 & 171 &   NA & male   & NA\\\\\n",
       "\\end{tabular}\n"
      ],
      "text/markdown": [
       "\n",
       "A data.frame: 13 × 5\n",
       "\n",
       "| person_age &lt;int&gt; | person_height &lt;dbl&gt; | person_weight &lt;dbl&gt; | person_gender &lt;chr&gt; | empty &lt;lgl&gt; |\n",
       "|---|---|---|---|---|\n",
       "| 23 | 185 |   NA | male   | NA |\n",
       "| 41 | 175 | 68.3 | male   | NA |\n",
       "| 11 | 142 | 55.4 | female | NA |\n",
       "| 12 |  NA | 48.2 | male   | NA |\n",
       "| 54 | 191 |   NA | female | NA |\n",
       "| 32 | 168 | 78.0 | female | NA |\n",
       "| 22 |  NA | 54.0 | male   | NA |\n",
       "| 21 | 165 |   NA | male   | NA |\n",
       "| 14 |  NA | 90.2 | male   | NA |\n",
       "| 51 | 250 |   NA | female | NA |\n",
       "| 41 |  20 | 81.0 | female | NA |\n",
       "| 66 |  NA | 59.0 | male   | NA |\n",
       "| 71 | 171 |   NA | male   | NA |\n",
       "\n"
      ],
      "text/plain": [
       "   person_age person_height person_weight person_gender empty\n",
       "1  23         185             NA          male          NA   \n",
       "2  41         175           68.3          male          NA   \n",
       "3  11         142           55.4          female        NA   \n",
       "4  12          NA           48.2          male          NA   \n",
       "5  54         191             NA          female        NA   \n",
       "6  32         168           78.0          female        NA   \n",
       "7  22          NA           54.0          male          NA   \n",
       "8  21         165             NA          male          NA   \n",
       "9  14          NA           90.2          male          NA   \n",
       "10 51         250             NA          female        NA   \n",
       "11 41          20           81.0          female        NA   \n",
       "12 66          NA           59.0          male          NA   \n",
       "13 71         171             NA          male          NA   "
      ]
     },
     "metadata": {},
     "output_type": "display_data"
    }
   ],
   "source": [
    "data <- data |> mutate(person_height = as.numeric(person_height))\n",
    "data"
   ]
  },
  {
   "cell_type": "code",
   "execution_count": 39,
   "metadata": {},
   "outputs": [],
   "source": [
    "write.csv(data, file = \"data/cleaned_titled.csv\", row.names = F)"
   ]
  },
  {
   "cell_type": "markdown",
   "metadata": {},
   "source": [
    "---"
   ]
  },
  {
   "cell_type": "markdown",
   "metadata": {},
   "source": [
    "## Набори даних"
   ]
  },
  {
   "cell_type": "markdown",
   "metadata": {},
   "source": [
    "1. https://github.com/kleban/r-book-published/tree/main/datasets/untitled.csv\n",
    "2. https://github.com/kleban/r-book-published/tree/main/datasets/badtitled.csv\n",
    "3. https://github.com/kleban/r-book-published/tree/main/datasets/cleaned_titled.csv\n",
    "4. https://github.com/kleban/r-book-published/tree/main/datasets/cleaned_titled2.csv\n",
    "5. https://github.com/kleban/r-book-published/tree/main/datasets/river_eco.csv"
   ]
  },
  {
   "cell_type": "markdown",
   "metadata": {},
   "source": [
    "---"
   ]
  },
  {
   "cell_type": "markdown",
   "metadata": {
    "cell_id": "5972a3c0bc0b48d2a2b269a0b802d255",
    "deepnote_cell_type": "input-slider",
    "deepnote_slider_max_value": 10,
    "deepnote_slider_min_value": 0,
    "deepnote_slider_step": 1,
    "deepnote_variable_name": "input_1",
    "deepnote_variable_value": "8",
    "vscode": {
     "languageId": "r"
    }
   },
   "source": [
    "## Використані та додаткові джерела"
   ]
  },
  {
   "cell_type": "markdown",
   "metadata": {
    "cell_id": "d84d49babc6f4ecc8a3bb60f946c091e",
    "deepnote_cell_height": 94.78125,
    "deepnote_cell_type": "markdown",
    "tags": []
   },
   "source": [
    "1. [KPMG Virtual Internship](https://www.insidesherpa.com/virtual-internships/m7W4GMqeT3bh9Nb2c)\n",
    "2. [An introduction to data cleaning with R / Edwin de Jonge, Mark van der Loo, 2013](https://cran.r-project.org/doc/contrib/de_Jonge+van_der_Loo-Introduction_to_data_cleaning_with_R.pdf)\n",
    "3. [Anomaly Detection in R](datacamp.com/courses/anomaly-detection-in-r)\n",
    "4. [K-nearest Neighbor: The maths behind it, how it works and an example](https://medium.com/analytics-vidhya/k-nearest-neighbor-the-maths-behind-it-how-it-works-and-an-example-f1de1208546c)\n",
    "5. [Quantile. Wikipedia](https://en.wikipedia.org/wiki/Quantile)"
   ]
  }
 ],
 "metadata": {
  "deepnote": {},
  "deepnote_execution_queue": [],
  "deepnote_notebook_id": "98d3d2a2-2921-4f5d-a292-65d4b34cd357",
  "kernelspec": {
   "display_name": "R",
   "language": "R",
   "name": "ir"
  },
  "language_info": {
   "codemirror_mode": "r",
   "file_extension": ".r",
   "mimetype": "text/x-r-source",
   "name": "R",
   "pygments_lexer": "r",
   "version": "4.1.3"
  }
 },
 "nbformat": 4,
 "nbformat_minor": 4
}
