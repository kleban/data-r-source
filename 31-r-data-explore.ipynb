{
 "cells": [
  {
   "cell_type": "markdown",
   "id": "98a5853a-1190-4fac-8cd4-5da1462c2e88",
   "metadata": {},
   "source": [
    "---\n",
    "\n",
    "author: Юрій Клебан\n",
    "\n",
    "---"
   ]
  },
  {
   "cell_type": "markdown",
   "id": "61b6688f",
   "metadata": {},
   "source": [
    "# Exploring data with `dplyr`"
   ]
  },
  {
   "cell_type": "markdown",
   "id": "40db79f3",
   "metadata": {},
   "source": [
    "## Basic funtions and dataset explore"
   ]
  },
  {
   "cell_type": "markdown",
   "id": "1e476780",
   "metadata": {},
   "source": [
    "There are most popular functions in `dplyr` is listed in table."
   ]
  },
  {
   "cell_type": "markdown",
   "id": "acaf3c6f",
   "metadata": {},
   "source": [
    "|dplyr Function|Description\t| Equivalent SQL|\n",
    "|---|---|---|\n",
    "|select()\t|Selecting columns (variables)\t|SELECT|\n",
    "|filter()\t|Filter (subset) rows.\t|WHERE|\n",
    "|group_by()|\tGroup the data\t|GROUP BY|\n",
    "|summarise()|\tSummarise (or aggregate) data|\t-|\n",
    "|arrange()|\tSort the data\t|ORDER BY\n",
    "|join()|\tJoining data frames (tables)|\tJOIN|\n",
    "|mutate()\t|Creating New Variables|\tCOLUMN ALIAS|"
   ]
  },
  {
   "cell_type": "markdown",
   "id": "8175b589",
   "metadata": {},
   "source": [
    "For the next sample we are going to use `gapminder` dataset. [Go to gapminder dataset description](00_Datasets.ipynb#gapminder)"
   ]
  },
  {
   "cell_type": "markdown",
   "id": "7c67ca02",
   "metadata": {},
   "source": [
    "The `gapminder` data frame include six variables:\n",
    "\n",
    "\n",
    "|variable|meaning|\n",
    "|---|---|\n",
    "|country| - |\t\n",
    "|continent| - |\t\t\n",
    "|year| - |\t\n",
    "|lifeExp|\tlife expectancy at birth|\n",
    "|pop\t|total population|\n",
    "|gdpPercap|\tper-capita GDP|\n",
    "\n",
    "`Per-capita GDP` (Gross domestic product) is given in units of international dollars, `a hypothetical unit of currency that has the same purchasing power parity that the U.S. dollar had in the United States at a given point in time` – 2005, in this case."
   ]
  },
  {
   "cell_type": "markdown",
   "id": "511571df",
   "metadata": {},
   "source": [
    "The `gapminder` data frame is a special kind of data frame: a `tibble`. "
   ]
  },
  {
   "cell_type": "code",
   "execution_count": null,
   "id": "125c52a8",
   "metadata": {
    "vscode": {
     "languageId": "r"
    }
   },
   "outputs": [
    {
     "data": {
      "text/html": [
       "<style>\n",
       ".list-inline {list-style: none; margin:0; padding: 0}\n",
       ".list-inline>li {display: inline-block}\n",
       ".list-inline>li:not(:last-child)::after {content: \"\\00b7\"; padding: 0 .5ex}\n",
       "</style>\n",
       "<ol class=list-inline><li>'tbl_df'</li><li>'tbl'</li><li>'data.frame'</li></ol>\n"
      ],
      "text/latex": [
       "\\begin{enumerate*}\n",
       "\\item 'tbl\\_df'\n",
       "\\item 'tbl'\n",
       "\\item 'data.frame'\n",
       "\\end{enumerate*}\n"
      ],
      "text/markdown": [
       "1. 'tbl_df'\n",
       "2. 'tbl'\n",
       "3. 'data.frame'\n",
       "\n",
       "\n"
      ],
      "text/plain": [
       "[1] \"tbl_df\"     \"tbl\"        \"data.frame\""
      ]
     },
     "metadata": {},
     "output_type": "display_data"
    }
   ],
   "source": [
    "library(dplyr) # for demos\n",
    "#install.packages(\"gapminder\")\n",
    "library(gapminder)  # load package and dataset\n",
    "class(gapminder)"
   ]
  },
  {
   "cell_type": "markdown",
   "id": "5e94e915",
   "metadata": {},
   "source": [
    "Let's preview it with functions `str()`, `glimpse()`, `head()`, `tail()`, `summary()`."
   ]
  },
  {
   "cell_type": "code",
   "execution_count": null,
   "id": "d05dfa11",
   "metadata": {
    "scrolled": true,
    "vscode": {
     "languageId": "r"
    }
   },
   "outputs": [
    {
     "name": "stdout",
     "output_type": "stream",
     "text": [
      "tibble [1,704 x 6] (S3: tbl_df/tbl/data.frame)\n",
      " $ country  : Factor w/ 142 levels \"Afghanistan\",..: 1 1 1 1 1 1 1 1 1 1 ...\n",
      " $ continent: Factor w/ 5 levels \"Africa\",\"Americas\",..: 3 3 3 3 3 3 3 3 3 3 ...\n",
      " $ year     : int [1:1704] 1952 1957 1962 1967 1972 1977 1982 1987 1992 1997 ...\n",
      " $ lifeExp  : num [1:1704] 28.8 30.3 32 34 36.1 ...\n",
      " $ pop      : int [1:1704] 8425333 9240934 10267083 11537966 13079460 14880372 12881816 13867957 16317921 22227415 ...\n",
      " $ gdpPercap: num [1:1704] 779 821 853 836 740 ...\n"
     ]
    }
   ],
   "source": [
    "str(gapminder)"
   ]
  },
  {
   "cell_type": "code",
   "execution_count": null,
   "id": "26ffa02b",
   "metadata": {
    "vscode": {
     "languageId": "r"
    }
   },
   "outputs": [
    {
     "name": "stdout",
     "output_type": "stream",
     "text": [
      "Rows: 1,704\n",
      "Columns: 6\n",
      "$ country   \u001b[3m\u001b[90m<fct>\u001b[39m\u001b[23m \"Afghanistan\", \"Afghanistan\", \"Afghanistan\", \"Afghanistan\", ~\n",
      "$ continent \u001b[3m\u001b[90m<fct>\u001b[39m\u001b[23m Asia, Asia, Asia, Asia, Asia, Asia, Asia, Asia, Asia, Asia, ~\n",
      "$ year      \u001b[3m\u001b[90m<int>\u001b[39m\u001b[23m 1952, 1957, 1962, 1967, 1972, 1977, 1982, 1987, 1992, 1997, ~\n",
      "$ lifeExp   \u001b[3m\u001b[90m<dbl>\u001b[39m\u001b[23m 28.801, 30.332, 31.997, 34.020, 36.088, 38.438, 39.854, 40.8~\n",
      "$ pop       \u001b[3m\u001b[90m<int>\u001b[39m\u001b[23m 8425333, 9240934, 10267083, 11537966, 13079460, 14880372, 12~\n",
      "$ gdpPercap \u001b[3m\u001b[90m<dbl>\u001b[39m\u001b[23m 779.4453, 820.8530, 853.1007, 836.1971, 739.9811, 786.1134, ~\n"
     ]
    }
   ],
   "source": [
    "glimpse(gapminder)"
   ]
  },
  {
   "cell_type": "code",
   "execution_count": null,
   "id": "c7a358b2",
   "metadata": {
    "vscode": {
     "languageId": "r"
    }
   },
   "outputs": [
    {
     "data": {
      "text/html": [
       "<table class=\"dataframe\">\n",
       "<caption>A tibble: 6 × 6</caption>\n",
       "<thead>\n",
       "\t<tr><th scope=col>country</th><th scope=col>continent</th><th scope=col>year</th><th scope=col>lifeExp</th><th scope=col>pop</th><th scope=col>gdpPercap</th></tr>\n",
       "\t<tr><th scope=col>&lt;fct&gt;</th><th scope=col>&lt;fct&gt;</th><th scope=col>&lt;int&gt;</th><th scope=col>&lt;dbl&gt;</th><th scope=col>&lt;int&gt;</th><th scope=col>&lt;dbl&gt;</th></tr>\n",
       "</thead>\n",
       "<tbody>\n",
       "\t<tr><td>Afghanistan</td><td>Asia</td><td>1952</td><td>28.801</td><td> 8425333</td><td>779.4453</td></tr>\n",
       "\t<tr><td>Afghanistan</td><td>Asia</td><td>1957</td><td>30.332</td><td> 9240934</td><td>820.8530</td></tr>\n",
       "\t<tr><td>Afghanistan</td><td>Asia</td><td>1962</td><td>31.997</td><td>10267083</td><td>853.1007</td></tr>\n",
       "\t<tr><td>Afghanistan</td><td>Asia</td><td>1967</td><td>34.020</td><td>11537966</td><td>836.1971</td></tr>\n",
       "\t<tr><td>Afghanistan</td><td>Asia</td><td>1972</td><td>36.088</td><td>13079460</td><td>739.9811</td></tr>\n",
       "\t<tr><td>Afghanistan</td><td>Asia</td><td>1977</td><td>38.438</td><td>14880372</td><td>786.1134</td></tr>\n",
       "</tbody>\n",
       "</table>\n"
      ],
      "text/latex": [
       "A tibble: 6 × 6\n",
       "\\begin{tabular}{llllll}\n",
       " country & continent & year & lifeExp & pop & gdpPercap\\\\\n",
       " <fct> & <fct> & <int> & <dbl> & <int> & <dbl>\\\\\n",
       "\\hline\n",
       "\t Afghanistan & Asia & 1952 & 28.801 &  8425333 & 779.4453\\\\\n",
       "\t Afghanistan & Asia & 1957 & 30.332 &  9240934 & 820.8530\\\\\n",
       "\t Afghanistan & Asia & 1962 & 31.997 & 10267083 & 853.1007\\\\\n",
       "\t Afghanistan & Asia & 1967 & 34.020 & 11537966 & 836.1971\\\\\n",
       "\t Afghanistan & Asia & 1972 & 36.088 & 13079460 & 739.9811\\\\\n",
       "\t Afghanistan & Asia & 1977 & 38.438 & 14880372 & 786.1134\\\\\n",
       "\\end{tabular}\n"
      ],
      "text/markdown": [
       "\n",
       "A tibble: 6 × 6\n",
       "\n",
       "| country &lt;fct&gt; | continent &lt;fct&gt; | year &lt;int&gt; | lifeExp &lt;dbl&gt; | pop &lt;int&gt; | gdpPercap &lt;dbl&gt; |\n",
       "|---|---|---|---|---|---|\n",
       "| Afghanistan | Asia | 1952 | 28.801 |  8425333 | 779.4453 |\n",
       "| Afghanistan | Asia | 1957 | 30.332 |  9240934 | 820.8530 |\n",
       "| Afghanistan | Asia | 1962 | 31.997 | 10267083 | 853.1007 |\n",
       "| Afghanistan | Asia | 1967 | 34.020 | 11537966 | 836.1971 |\n",
       "| Afghanistan | Asia | 1972 | 36.088 | 13079460 | 739.9811 |\n",
       "| Afghanistan | Asia | 1977 | 38.438 | 14880372 | 786.1134 |\n",
       "\n"
      ],
      "text/plain": [
       "  country     continent year lifeExp pop      gdpPercap\n",
       "1 Afghanistan Asia      1952 28.801   8425333 779.4453 \n",
       "2 Afghanistan Asia      1957 30.332   9240934 820.8530 \n",
       "3 Afghanistan Asia      1962 31.997  10267083 853.1007 \n",
       "4 Afghanistan Asia      1967 34.020  11537966 836.1971 \n",
       "5 Afghanistan Asia      1972 36.088  13079460 739.9811 \n",
       "6 Afghanistan Asia      1977 38.438  14880372 786.1134 "
      ]
     },
     "metadata": {},
     "output_type": "display_data"
    }
   ],
   "source": [
    "head(gapminder) #shows first n-rows, 6 by default"
   ]
  },
  {
   "cell_type": "code",
   "execution_count": null,
   "id": "1ae762e4",
   "metadata": {
    "vscode": {
     "languageId": "r"
    }
   },
   "outputs": [
    {
     "data": {
      "text/html": [
       "<table class=\"dataframe\">\n",
       "<caption>A tibble: 6 × 6</caption>\n",
       "<thead>\n",
       "\t<tr><th scope=col>country</th><th scope=col>continent</th><th scope=col>year</th><th scope=col>lifeExp</th><th scope=col>pop</th><th scope=col>gdpPercap</th></tr>\n",
       "\t<tr><th scope=col>&lt;fct&gt;</th><th scope=col>&lt;fct&gt;</th><th scope=col>&lt;int&gt;</th><th scope=col>&lt;dbl&gt;</th><th scope=col>&lt;int&gt;</th><th scope=col>&lt;dbl&gt;</th></tr>\n",
       "</thead>\n",
       "<tbody>\n",
       "\t<tr><td>Zimbabwe</td><td>Africa</td><td>1982</td><td>60.363</td><td> 7636524</td><td>788.8550</td></tr>\n",
       "\t<tr><td>Zimbabwe</td><td>Africa</td><td>1987</td><td>62.351</td><td> 9216418</td><td>706.1573</td></tr>\n",
       "\t<tr><td>Zimbabwe</td><td>Africa</td><td>1992</td><td>60.377</td><td>10704340</td><td>693.4208</td></tr>\n",
       "\t<tr><td>Zimbabwe</td><td>Africa</td><td>1997</td><td>46.809</td><td>11404948</td><td>792.4500</td></tr>\n",
       "\t<tr><td>Zimbabwe</td><td>Africa</td><td>2002</td><td>39.989</td><td>11926563</td><td>672.0386</td></tr>\n",
       "\t<tr><td>Zimbabwe</td><td>Africa</td><td>2007</td><td>43.487</td><td>12311143</td><td>469.7093</td></tr>\n",
       "</tbody>\n",
       "</table>\n"
      ],
      "text/latex": [
       "A tibble: 6 × 6\n",
       "\\begin{tabular}{llllll}\n",
       " country & continent & year & lifeExp & pop & gdpPercap\\\\\n",
       " <fct> & <fct> & <int> & <dbl> & <int> & <dbl>\\\\\n",
       "\\hline\n",
       "\t Zimbabwe & Africa & 1982 & 60.363 &  7636524 & 788.8550\\\\\n",
       "\t Zimbabwe & Africa & 1987 & 62.351 &  9216418 & 706.1573\\\\\n",
       "\t Zimbabwe & Africa & 1992 & 60.377 & 10704340 & 693.4208\\\\\n",
       "\t Zimbabwe & Africa & 1997 & 46.809 & 11404948 & 792.4500\\\\\n",
       "\t Zimbabwe & Africa & 2002 & 39.989 & 11926563 & 672.0386\\\\\n",
       "\t Zimbabwe & Africa & 2007 & 43.487 & 12311143 & 469.7093\\\\\n",
       "\\end{tabular}\n"
      ],
      "text/markdown": [
       "\n",
       "A tibble: 6 × 6\n",
       "\n",
       "| country &lt;fct&gt; | continent &lt;fct&gt; | year &lt;int&gt; | lifeExp &lt;dbl&gt; | pop &lt;int&gt; | gdpPercap &lt;dbl&gt; |\n",
       "|---|---|---|---|---|---|\n",
       "| Zimbabwe | Africa | 1982 | 60.363 |  7636524 | 788.8550 |\n",
       "| Zimbabwe | Africa | 1987 | 62.351 |  9216418 | 706.1573 |\n",
       "| Zimbabwe | Africa | 1992 | 60.377 | 10704340 | 693.4208 |\n",
       "| Zimbabwe | Africa | 1997 | 46.809 | 11404948 | 792.4500 |\n",
       "| Zimbabwe | Africa | 2002 | 39.989 | 11926563 | 672.0386 |\n",
       "| Zimbabwe | Africa | 2007 | 43.487 | 12311143 | 469.7093 |\n",
       "\n"
      ],
      "text/plain": [
       "  country  continent year lifeExp pop      gdpPercap\n",
       "1 Zimbabwe Africa    1982 60.363   7636524 788.8550 \n",
       "2 Zimbabwe Africa    1987 62.351   9216418 706.1573 \n",
       "3 Zimbabwe Africa    1992 60.377  10704340 693.4208 \n",
       "4 Zimbabwe Africa    1997 46.809  11404948 792.4500 \n",
       "5 Zimbabwe Africa    2002 39.989  11926563 672.0386 \n",
       "6 Zimbabwe Africa    2007 43.487  12311143 469.7093 "
      ]
     },
     "metadata": {},
     "output_type": "display_data"
    }
   ],
   "source": [
    "tail(gapminder) #shows last n-rows, 6 by default"
   ]
  },
  {
   "cell_type": "code",
   "execution_count": null,
   "id": "61171b8f",
   "metadata": {
    "vscode": {
     "languageId": "r"
    }
   },
   "outputs": [
    {
     "data": {
      "text/plain": [
       "        country        continent        year         lifeExp     \n",
       " Afghanistan:  12   Africa  :624   Min.   :1952   Min.   :23.60  \n",
       " Albania    :  12   Americas:300   1st Qu.:1966   1st Qu.:48.20  \n",
       " Algeria    :  12   Asia    :396   Median :1980   Median :60.71  \n",
       " Angola     :  12   Europe  :360   Mean   :1980   Mean   :59.47  \n",
       " Argentina  :  12   Oceania : 24   3rd Qu.:1993   3rd Qu.:70.85  \n",
       " Australia  :  12                  Max.   :2007   Max.   :82.60  \n",
       " (Other)    :1632                                                \n",
       "      pop              gdpPercap       \n",
       " Min.   :6.001e+04   Min.   :   241.2  \n",
       " 1st Qu.:2.794e+06   1st Qu.:  1202.1  \n",
       " Median :7.024e+06   Median :  3531.8  \n",
       " Mean   :2.960e+07   Mean   :  7215.3  \n",
       " 3rd Qu.:1.959e+07   3rd Qu.:  9325.5  \n",
       " Max.   :1.319e+09   Max.   :113523.1  \n",
       "                                       "
      ]
     },
     "metadata": {},
     "output_type": "display_data"
    }
   ],
   "source": [
    "summary(gapminder)"
   ]
  },
  {
   "cell_type": "markdown",
   "id": "dbdb0345",
   "metadata": {},
   "source": [
    "## `filter()` function"
   ]
  },
  {
   "cell_type": "code",
   "execution_count": null,
   "id": "735af8df",
   "metadata": {
    "vscode": {
     "languageId": "r"
    }
   },
   "outputs": [
    {
     "data": {
      "text/html": [
       "<table class=\"dataframe\">\n",
       "<caption>A tibble: 12 × 6</caption>\n",
       "<thead>\n",
       "\t<tr><th scope=col>country</th><th scope=col>continent</th><th scope=col>year</th><th scope=col>lifeExp</th><th scope=col>pop</th><th scope=col>gdpPercap</th></tr>\n",
       "\t<tr><th scope=col>&lt;fct&gt;</th><th scope=col>&lt;fct&gt;</th><th scope=col>&lt;int&gt;</th><th scope=col>&lt;dbl&gt;</th><th scope=col>&lt;int&gt;</th><th scope=col>&lt;dbl&gt;</th></tr>\n",
       "</thead>\n",
       "<tbody>\n",
       "\t<tr><td>Austria</td><td>Europe</td><td>1952</td><td>66.800</td><td>6927772</td><td> 6137.076</td></tr>\n",
       "\t<tr><td>Austria</td><td>Europe</td><td>1957</td><td>67.480</td><td>6965860</td><td> 8842.598</td></tr>\n",
       "\t<tr><td>Austria</td><td>Europe</td><td>1962</td><td>69.540</td><td>7129864</td><td>10750.721</td></tr>\n",
       "\t<tr><td>Austria</td><td>Europe</td><td>1967</td><td>70.140</td><td>7376998</td><td>12834.602</td></tr>\n",
       "\t<tr><td>Austria</td><td>Europe</td><td>1972</td><td>70.630</td><td>7544201</td><td>16661.626</td></tr>\n",
       "\t<tr><td>Austria</td><td>Europe</td><td>1977</td><td>72.170</td><td>7568430</td><td>19749.422</td></tr>\n",
       "\t<tr><td>Austria</td><td>Europe</td><td>1982</td><td>73.180</td><td>7574613</td><td>21597.084</td></tr>\n",
       "\t<tr><td>Austria</td><td>Europe</td><td>1987</td><td>74.940</td><td>7578903</td><td>23687.826</td></tr>\n",
       "\t<tr><td>Austria</td><td>Europe</td><td>1992</td><td>76.040</td><td>7914969</td><td>27042.019</td></tr>\n",
       "\t<tr><td>Austria</td><td>Europe</td><td>1997</td><td>77.510</td><td>8069876</td><td>29095.921</td></tr>\n",
       "\t<tr><td>Austria</td><td>Europe</td><td>2002</td><td>78.980</td><td>8148312</td><td>32417.608</td></tr>\n",
       "\t<tr><td>Austria</td><td>Europe</td><td>2007</td><td>79.829</td><td>8199783</td><td>36126.493</td></tr>\n",
       "</tbody>\n",
       "</table>\n"
      ],
      "text/latex": [
       "A tibble: 12 × 6\n",
       "\\begin{tabular}{llllll}\n",
       " country & continent & year & lifeExp & pop & gdpPercap\\\\\n",
       " <fct> & <fct> & <int> & <dbl> & <int> & <dbl>\\\\\n",
       "\\hline\n",
       "\t Austria & Europe & 1952 & 66.800 & 6927772 &  6137.076\\\\\n",
       "\t Austria & Europe & 1957 & 67.480 & 6965860 &  8842.598\\\\\n",
       "\t Austria & Europe & 1962 & 69.540 & 7129864 & 10750.721\\\\\n",
       "\t Austria & Europe & 1967 & 70.140 & 7376998 & 12834.602\\\\\n",
       "\t Austria & Europe & 1972 & 70.630 & 7544201 & 16661.626\\\\\n",
       "\t Austria & Europe & 1977 & 72.170 & 7568430 & 19749.422\\\\\n",
       "\t Austria & Europe & 1982 & 73.180 & 7574613 & 21597.084\\\\\n",
       "\t Austria & Europe & 1987 & 74.940 & 7578903 & 23687.826\\\\\n",
       "\t Austria & Europe & 1992 & 76.040 & 7914969 & 27042.019\\\\\n",
       "\t Austria & Europe & 1997 & 77.510 & 8069876 & 29095.921\\\\\n",
       "\t Austria & Europe & 2002 & 78.980 & 8148312 & 32417.608\\\\\n",
       "\t Austria & Europe & 2007 & 79.829 & 8199783 & 36126.493\\\\\n",
       "\\end{tabular}\n"
      ],
      "text/markdown": [
       "\n",
       "A tibble: 12 × 6\n",
       "\n",
       "| country &lt;fct&gt; | continent &lt;fct&gt; | year &lt;int&gt; | lifeExp &lt;dbl&gt; | pop &lt;int&gt; | gdpPercap &lt;dbl&gt; |\n",
       "|---|---|---|---|---|---|\n",
       "| Austria | Europe | 1952 | 66.800 | 6927772 |  6137.076 |\n",
       "| Austria | Europe | 1957 | 67.480 | 6965860 |  8842.598 |\n",
       "| Austria | Europe | 1962 | 69.540 | 7129864 | 10750.721 |\n",
       "| Austria | Europe | 1967 | 70.140 | 7376998 | 12834.602 |\n",
       "| Austria | Europe | 1972 | 70.630 | 7544201 | 16661.626 |\n",
       "| Austria | Europe | 1977 | 72.170 | 7568430 | 19749.422 |\n",
       "| Austria | Europe | 1982 | 73.180 | 7574613 | 21597.084 |\n",
       "| Austria | Europe | 1987 | 74.940 | 7578903 | 23687.826 |\n",
       "| Austria | Europe | 1992 | 76.040 | 7914969 | 27042.019 |\n",
       "| Austria | Europe | 1997 | 77.510 | 8069876 | 29095.921 |\n",
       "| Austria | Europe | 2002 | 78.980 | 8148312 | 32417.608 |\n",
       "| Austria | Europe | 2007 | 79.829 | 8199783 | 36126.493 |\n",
       "\n"
      ],
      "text/plain": [
       "   country continent year lifeExp pop     gdpPercap\n",
       "1  Austria Europe    1952 66.800  6927772  6137.076\n",
       "2  Austria Europe    1957 67.480  6965860  8842.598\n",
       "3  Austria Europe    1962 69.540  7129864 10750.721\n",
       "4  Austria Europe    1967 70.140  7376998 12834.602\n",
       "5  Austria Europe    1972 70.630  7544201 16661.626\n",
       "6  Austria Europe    1977 72.170  7568430 19749.422\n",
       "7  Austria Europe    1982 73.180  7574613 21597.084\n",
       "8  Austria Europe    1987 74.940  7578903 23687.826\n",
       "9  Austria Europe    1992 76.040  7914969 27042.019\n",
       "10 Austria Europe    1997 77.510  8069876 29095.921\n",
       "11 Austria Europe    2002 78.980  8148312 32417.608\n",
       "12 Austria Europe    2007 79.829  8199783 36126.493"
      ]
     },
     "metadata": {},
     "output_type": "display_data"
    }
   ],
   "source": [
    "austria <- filter(gapminder, country == \"Austria\")\n",
    "austria"
   ]
  },
  {
   "cell_type": "markdown",
   "id": "87c68a65",
   "metadata": {},
   "source": [
    "`filter()` takes logical expressions and returns the rows for which all are TRUE."
   ]
  },
  {
   "cell_type": "code",
   "execution_count": null,
   "id": "55871f93",
   "metadata": {
    "vscode": {
     "languageId": "r"
    }
   },
   "outputs": [
    {
     "data": {
      "text/html": [
       "<table class=\"dataframe\">\n",
       "<caption>A tibble: 6 × 6</caption>\n",
       "<thead>\n",
       "\t<tr><th scope=col>country</th><th scope=col>continent</th><th scope=col>year</th><th scope=col>lifeExp</th><th scope=col>pop</th><th scope=col>gdpPercap</th></tr>\n",
       "\t<tr><th scope=col>&lt;fct&gt;</th><th scope=col>&lt;fct&gt;</th><th scope=col>&lt;int&gt;</th><th scope=col>&lt;dbl&gt;</th><th scope=col>&lt;int&gt;</th><th scope=col>&lt;dbl&gt;</th></tr>\n",
       "</thead>\n",
       "<tbody>\n",
       "\t<tr><td>Afghanistan </td><td>Asia  </td><td>1952</td><td>28.801</td><td>8425333</td><td> 779.4453</td></tr>\n",
       "\t<tr><td>Afghanistan </td><td>Asia  </td><td>1957</td><td>30.332</td><td>9240934</td><td> 820.8530</td></tr>\n",
       "\t<tr><td>Angola      </td><td>Africa</td><td>1952</td><td>30.015</td><td>4232095</td><td>3520.6103</td></tr>\n",
       "\t<tr><td>Gambia      </td><td>Africa</td><td>1952</td><td>30.000</td><td> 284320</td><td> 485.2307</td></tr>\n",
       "\t<tr><td>Rwanda      </td><td>Africa</td><td>1992</td><td>23.599</td><td>7290203</td><td> 737.0686</td></tr>\n",
       "\t<tr><td>Sierra Leone</td><td>Africa</td><td>1952</td><td>30.331</td><td>2143249</td><td> 879.7877</td></tr>\n",
       "</tbody>\n",
       "</table>\n"
      ],
      "text/latex": [
       "A tibble: 6 × 6\n",
       "\\begin{tabular}{llllll}\n",
       " country & continent & year & lifeExp & pop & gdpPercap\\\\\n",
       " <fct> & <fct> & <int> & <dbl> & <int> & <dbl>\\\\\n",
       "\\hline\n",
       "\t Afghanistan  & Asia   & 1952 & 28.801 & 8425333 &  779.4453\\\\\n",
       "\t Afghanistan  & Asia   & 1957 & 30.332 & 9240934 &  820.8530\\\\\n",
       "\t Angola       & Africa & 1952 & 30.015 & 4232095 & 3520.6103\\\\\n",
       "\t Gambia       & Africa & 1952 & 30.000 &  284320 &  485.2307\\\\\n",
       "\t Rwanda       & Africa & 1992 & 23.599 & 7290203 &  737.0686\\\\\n",
       "\t Sierra Leone & Africa & 1952 & 30.331 & 2143249 &  879.7877\\\\\n",
       "\\end{tabular}\n"
      ],
      "text/markdown": [
       "\n",
       "A tibble: 6 × 6\n",
       "\n",
       "| country &lt;fct&gt; | continent &lt;fct&gt; | year &lt;int&gt; | lifeExp &lt;dbl&gt; | pop &lt;int&gt; | gdpPercap &lt;dbl&gt; |\n",
       "|---|---|---|---|---|---|\n",
       "| Afghanistan  | Asia   | 1952 | 28.801 | 8425333 |  779.4453 |\n",
       "| Afghanistan  | Asia   | 1957 | 30.332 | 9240934 |  820.8530 |\n",
       "| Angola       | Africa | 1952 | 30.015 | 4232095 | 3520.6103 |\n",
       "| Gambia       | Africa | 1952 | 30.000 |  284320 |  485.2307 |\n",
       "| Rwanda       | Africa | 1992 | 23.599 | 7290203 |  737.0686 |\n",
       "| Sierra Leone | Africa | 1952 | 30.331 | 2143249 |  879.7877 |\n",
       "\n"
      ],
      "text/plain": [
       "  country      continent year lifeExp pop     gdpPercap\n",
       "1 Afghanistan  Asia      1952 28.801  8425333  779.4453\n",
       "2 Afghanistan  Asia      1957 30.332  9240934  820.8530\n",
       "3 Angola       Africa    1952 30.015  4232095 3520.6103\n",
       "4 Gambia       Africa    1952 30.000   284320  485.2307\n",
       "5 Rwanda       Africa    1992 23.599  7290203  737.0686\n",
       "6 Sierra Leone Africa    1952 30.331  2143249  879.7877"
      ]
     },
     "metadata": {},
     "output_type": "display_data"
    }
   ],
   "source": [
    "# task: select rows with lifeExp less than 31\n",
    "filter(gapminder, lifeExp < 31)"
   ]
  },
  {
   "cell_type": "code",
   "execution_count": null,
   "id": "fb3ff8c3",
   "metadata": {
    "vscode": {
     "languageId": "r"
    }
   },
   "outputs": [
    {
     "data": {
      "text/html": [
       "<table class=\"dataframe\">\n",
       "<caption>A tibble: 6 × 6</caption>\n",
       "<thead>\n",
       "\t<tr><th scope=col>country</th><th scope=col>continent</th><th scope=col>year</th><th scope=col>lifeExp</th><th scope=col>pop</th><th scope=col>gdpPercap</th></tr>\n",
       "\t<tr><th scope=col>&lt;fct&gt;</th><th scope=col>&lt;fct&gt;</th><th scope=col>&lt;int&gt;</th><th scope=col>&lt;dbl&gt;</th><th scope=col>&lt;int&gt;</th><th scope=col>&lt;dbl&gt;</th></tr>\n",
       "</thead>\n",
       "<tbody>\n",
       "\t<tr><td>Austria</td><td>Europe</td><td>1982</td><td>73.180</td><td>7574613</td><td>21597.08</td></tr>\n",
       "\t<tr><td>Austria</td><td>Europe</td><td>1987</td><td>74.940</td><td>7578903</td><td>23687.83</td></tr>\n",
       "\t<tr><td>Austria</td><td>Europe</td><td>1992</td><td>76.040</td><td>7914969</td><td>27042.02</td></tr>\n",
       "\t<tr><td>Austria</td><td>Europe</td><td>1997</td><td>77.510</td><td>8069876</td><td>29095.92</td></tr>\n",
       "\t<tr><td>Austria</td><td>Europe</td><td>2002</td><td>78.980</td><td>8148312</td><td>32417.61</td></tr>\n",
       "\t<tr><td>Austria</td><td>Europe</td><td>2007</td><td>79.829</td><td>8199783</td><td>36126.49</td></tr>\n",
       "</tbody>\n",
       "</table>\n"
      ],
      "text/latex": [
       "A tibble: 6 × 6\n",
       "\\begin{tabular}{llllll}\n",
       " country & continent & year & lifeExp & pop & gdpPercap\\\\\n",
       " <fct> & <fct> & <int> & <dbl> & <int> & <dbl>\\\\\n",
       "\\hline\n",
       "\t Austria & Europe & 1982 & 73.180 & 7574613 & 21597.08\\\\\n",
       "\t Austria & Europe & 1987 & 74.940 & 7578903 & 23687.83\\\\\n",
       "\t Austria & Europe & 1992 & 76.040 & 7914969 & 27042.02\\\\\n",
       "\t Austria & Europe & 1997 & 77.510 & 8069876 & 29095.92\\\\\n",
       "\t Austria & Europe & 2002 & 78.980 & 8148312 & 32417.61\\\\\n",
       "\t Austria & Europe & 2007 & 79.829 & 8199783 & 36126.49\\\\\n",
       "\\end{tabular}\n"
      ],
      "text/markdown": [
       "\n",
       "A tibble: 6 × 6\n",
       "\n",
       "| country &lt;fct&gt; | continent &lt;fct&gt; | year &lt;int&gt; | lifeExp &lt;dbl&gt; | pop &lt;int&gt; | gdpPercap &lt;dbl&gt; |\n",
       "|---|---|---|---|---|---|\n",
       "| Austria | Europe | 1982 | 73.180 | 7574613 | 21597.08 |\n",
       "| Austria | Europe | 1987 | 74.940 | 7578903 | 23687.83 |\n",
       "| Austria | Europe | 1992 | 76.040 | 7914969 | 27042.02 |\n",
       "| Austria | Europe | 1997 | 77.510 | 8069876 | 29095.92 |\n",
       "| Austria | Europe | 2002 | 78.980 | 8148312 | 32417.61 |\n",
       "| Austria | Europe | 2007 | 79.829 | 8199783 | 36126.49 |\n",
       "\n"
      ],
      "text/plain": [
       "  country continent year lifeExp pop     gdpPercap\n",
       "1 Austria Europe    1982 73.180  7574613 21597.08 \n",
       "2 Austria Europe    1987 74.940  7578903 23687.83 \n",
       "3 Austria Europe    1992 76.040  7914969 27042.02 \n",
       "4 Austria Europe    1997 77.510  8069876 29095.92 \n",
       "5 Austria Europe    2002 78.980  8148312 32417.61 \n",
       "6 Austria Europe    2007 79.829  8199783 36126.49 "
      ]
     },
     "metadata": {},
     "output_type": "display_data"
    }
   ],
   "source": [
    "# task: select Austria only and year after 1980\n",
    "filter(gapminder, country == \"Austria\", year > 1980)"
   ]
  },
  {
   "cell_type": "code",
   "execution_count": null,
   "id": "4899843c",
   "metadata": {
    "vscode": {
     "languageId": "r"
    }
   },
   "outputs": [
    {
     "data": {
      "text/html": [
       "<table class=\"dataframe\">\n",
       "<caption>A tibble: 24 × 6</caption>\n",
       "<thead>\n",
       "\t<tr><th scope=col>country</th><th scope=col>continent</th><th scope=col>year</th><th scope=col>lifeExp</th><th scope=col>pop</th><th scope=col>gdpPercap</th></tr>\n",
       "\t<tr><th scope=col>&lt;fct&gt;</th><th scope=col>&lt;fct&gt;</th><th scope=col>&lt;int&gt;</th><th scope=col>&lt;dbl&gt;</th><th scope=col>&lt;int&gt;</th><th scope=col>&lt;dbl&gt;</th></tr>\n",
       "</thead>\n",
       "<tbody>\n",
       "\t<tr><td>Austria</td><td>Europe</td><td>1952</td><td>66.800</td><td> 6927772</td><td> 6137.076</td></tr>\n",
       "\t<tr><td>Austria</td><td>Europe</td><td>1957</td><td>67.480</td><td> 6965860</td><td> 8842.598</td></tr>\n",
       "\t<tr><td>Austria</td><td>Europe</td><td>1962</td><td>69.540</td><td> 7129864</td><td>10750.721</td></tr>\n",
       "\t<tr><td>Austria</td><td>Europe</td><td>1967</td><td>70.140</td><td> 7376998</td><td>12834.602</td></tr>\n",
       "\t<tr><td>Austria</td><td>Europe</td><td>1972</td><td>70.630</td><td> 7544201</td><td>16661.626</td></tr>\n",
       "\t<tr><td>Austria</td><td>Europe</td><td>1977</td><td>72.170</td><td> 7568430</td><td>19749.422</td></tr>\n",
       "\t<tr><td>Austria</td><td>Europe</td><td>1982</td><td>73.180</td><td> 7574613</td><td>21597.084</td></tr>\n",
       "\t<tr><td>Austria</td><td>Europe</td><td>1987</td><td>74.940</td><td> 7578903</td><td>23687.826</td></tr>\n",
       "\t<tr><td>Austria</td><td>Europe</td><td>1992</td><td>76.040</td><td> 7914969</td><td>27042.019</td></tr>\n",
       "\t<tr><td>Austria</td><td>Europe</td><td>1997</td><td>77.510</td><td> 8069876</td><td>29095.921</td></tr>\n",
       "\t<tr><td>Austria</td><td>Europe</td><td>2002</td><td>78.980</td><td> 8148312</td><td>32417.608</td></tr>\n",
       "\t<tr><td>Austria</td><td>Europe</td><td>2007</td><td>79.829</td><td> 8199783</td><td>36126.493</td></tr>\n",
       "\t<tr><td>Belgium</td><td>Europe</td><td>1952</td><td>68.000</td><td> 8730405</td><td> 8343.105</td></tr>\n",
       "\t<tr><td>Belgium</td><td>Europe</td><td>1957</td><td>69.240</td><td> 8989111</td><td> 9714.961</td></tr>\n",
       "\t<tr><td>Belgium</td><td>Europe</td><td>1962</td><td>70.250</td><td> 9218400</td><td>10991.207</td></tr>\n",
       "\t<tr><td>Belgium</td><td>Europe</td><td>1967</td><td>70.940</td><td> 9556500</td><td>13149.041</td></tr>\n",
       "\t<tr><td>Belgium</td><td>Europe</td><td>1972</td><td>71.440</td><td> 9709100</td><td>16672.144</td></tr>\n",
       "\t<tr><td>Belgium</td><td>Europe</td><td>1977</td><td>72.800</td><td> 9821800</td><td>19117.974</td></tr>\n",
       "\t<tr><td>Belgium</td><td>Europe</td><td>1982</td><td>73.930</td><td> 9856303</td><td>20979.846</td></tr>\n",
       "\t<tr><td>Belgium</td><td>Europe</td><td>1987</td><td>75.350</td><td> 9870200</td><td>22525.563</td></tr>\n",
       "\t<tr><td>Belgium</td><td>Europe</td><td>1992</td><td>76.460</td><td>10045622</td><td>25575.571</td></tr>\n",
       "\t<tr><td>Belgium</td><td>Europe</td><td>1997</td><td>77.530</td><td>10199787</td><td>27561.197</td></tr>\n",
       "\t<tr><td>Belgium</td><td>Europe</td><td>2002</td><td>78.320</td><td>10311970</td><td>30485.884</td></tr>\n",
       "\t<tr><td>Belgium</td><td>Europe</td><td>2007</td><td>79.441</td><td>10392226</td><td>33692.605</td></tr>\n",
       "</tbody>\n",
       "</table>\n"
      ],
      "text/latex": [
       "A tibble: 24 × 6\n",
       "\\begin{tabular}{llllll}\n",
       " country & continent & year & lifeExp & pop & gdpPercap\\\\\n",
       " <fct> & <fct> & <int> & <dbl> & <int> & <dbl>\\\\\n",
       "\\hline\n",
       "\t Austria & Europe & 1952 & 66.800 &  6927772 &  6137.076\\\\\n",
       "\t Austria & Europe & 1957 & 67.480 &  6965860 &  8842.598\\\\\n",
       "\t Austria & Europe & 1962 & 69.540 &  7129864 & 10750.721\\\\\n",
       "\t Austria & Europe & 1967 & 70.140 &  7376998 & 12834.602\\\\\n",
       "\t Austria & Europe & 1972 & 70.630 &  7544201 & 16661.626\\\\\n",
       "\t Austria & Europe & 1977 & 72.170 &  7568430 & 19749.422\\\\\n",
       "\t Austria & Europe & 1982 & 73.180 &  7574613 & 21597.084\\\\\n",
       "\t Austria & Europe & 1987 & 74.940 &  7578903 & 23687.826\\\\\n",
       "\t Austria & Europe & 1992 & 76.040 &  7914969 & 27042.019\\\\\n",
       "\t Austria & Europe & 1997 & 77.510 &  8069876 & 29095.921\\\\\n",
       "\t Austria & Europe & 2002 & 78.980 &  8148312 & 32417.608\\\\\n",
       "\t Austria & Europe & 2007 & 79.829 &  8199783 & 36126.493\\\\\n",
       "\t Belgium & Europe & 1952 & 68.000 &  8730405 &  8343.105\\\\\n",
       "\t Belgium & Europe & 1957 & 69.240 &  8989111 &  9714.961\\\\\n",
       "\t Belgium & Europe & 1962 & 70.250 &  9218400 & 10991.207\\\\\n",
       "\t Belgium & Europe & 1967 & 70.940 &  9556500 & 13149.041\\\\\n",
       "\t Belgium & Europe & 1972 & 71.440 &  9709100 & 16672.144\\\\\n",
       "\t Belgium & Europe & 1977 & 72.800 &  9821800 & 19117.974\\\\\n",
       "\t Belgium & Europe & 1982 & 73.930 &  9856303 & 20979.846\\\\\n",
       "\t Belgium & Europe & 1987 & 75.350 &  9870200 & 22525.563\\\\\n",
       "\t Belgium & Europe & 1992 & 76.460 & 10045622 & 25575.571\\\\\n",
       "\t Belgium & Europe & 1997 & 77.530 & 10199787 & 27561.197\\\\\n",
       "\t Belgium & Europe & 2002 & 78.320 & 10311970 & 30485.884\\\\\n",
       "\t Belgium & Europe & 2007 & 79.441 & 10392226 & 33692.605\\\\\n",
       "\\end{tabular}\n"
      ],
      "text/markdown": [
       "\n",
       "A tibble: 24 × 6\n",
       "\n",
       "| country &lt;fct&gt; | continent &lt;fct&gt; | year &lt;int&gt; | lifeExp &lt;dbl&gt; | pop &lt;int&gt; | gdpPercap &lt;dbl&gt; |\n",
       "|---|---|---|---|---|---|\n",
       "| Austria | Europe | 1952 | 66.800 |  6927772 |  6137.076 |\n",
       "| Austria | Europe | 1957 | 67.480 |  6965860 |  8842.598 |\n",
       "| Austria | Europe | 1962 | 69.540 |  7129864 | 10750.721 |\n",
       "| Austria | Europe | 1967 | 70.140 |  7376998 | 12834.602 |\n",
       "| Austria | Europe | 1972 | 70.630 |  7544201 | 16661.626 |\n",
       "| Austria | Europe | 1977 | 72.170 |  7568430 | 19749.422 |\n",
       "| Austria | Europe | 1982 | 73.180 |  7574613 | 21597.084 |\n",
       "| Austria | Europe | 1987 | 74.940 |  7578903 | 23687.826 |\n",
       "| Austria | Europe | 1992 | 76.040 |  7914969 | 27042.019 |\n",
       "| Austria | Europe | 1997 | 77.510 |  8069876 | 29095.921 |\n",
       "| Austria | Europe | 2002 | 78.980 |  8148312 | 32417.608 |\n",
       "| Austria | Europe | 2007 | 79.829 |  8199783 | 36126.493 |\n",
       "| Belgium | Europe | 1952 | 68.000 |  8730405 |  8343.105 |\n",
       "| Belgium | Europe | 1957 | 69.240 |  8989111 |  9714.961 |\n",
       "| Belgium | Europe | 1962 | 70.250 |  9218400 | 10991.207 |\n",
       "| Belgium | Europe | 1967 | 70.940 |  9556500 | 13149.041 |\n",
       "| Belgium | Europe | 1972 | 71.440 |  9709100 | 16672.144 |\n",
       "| Belgium | Europe | 1977 | 72.800 |  9821800 | 19117.974 |\n",
       "| Belgium | Europe | 1982 | 73.930 |  9856303 | 20979.846 |\n",
       "| Belgium | Europe | 1987 | 75.350 |  9870200 | 22525.563 |\n",
       "| Belgium | Europe | 1992 | 76.460 | 10045622 | 25575.571 |\n",
       "| Belgium | Europe | 1997 | 77.530 | 10199787 | 27561.197 |\n",
       "| Belgium | Europe | 2002 | 78.320 | 10311970 | 30485.884 |\n",
       "| Belgium | Europe | 2007 | 79.441 | 10392226 | 33692.605 |\n",
       "\n"
      ],
      "text/plain": [
       "   country continent year lifeExp pop      gdpPercap\n",
       "1  Austria Europe    1952 66.800   6927772  6137.076\n",
       "2  Austria Europe    1957 67.480   6965860  8842.598\n",
       "3  Austria Europe    1962 69.540   7129864 10750.721\n",
       "4  Austria Europe    1967 70.140   7376998 12834.602\n",
       "5  Austria Europe    1972 70.630   7544201 16661.626\n",
       "6  Austria Europe    1977 72.170   7568430 19749.422\n",
       "7  Austria Europe    1982 73.180   7574613 21597.084\n",
       "8  Austria Europe    1987 74.940   7578903 23687.826\n",
       "9  Austria Europe    1992 76.040   7914969 27042.019\n",
       "10 Austria Europe    1997 77.510   8069876 29095.921\n",
       "11 Austria Europe    2002 78.980   8148312 32417.608\n",
       "12 Austria Europe    2007 79.829   8199783 36126.493\n",
       "13 Belgium Europe    1952 68.000   8730405  8343.105\n",
       "14 Belgium Europe    1957 69.240   8989111  9714.961\n",
       "15 Belgium Europe    1962 70.250   9218400 10991.207\n",
       "16 Belgium Europe    1967 70.940   9556500 13149.041\n",
       "17 Belgium Europe    1972 71.440   9709100 16672.144\n",
       "18 Belgium Europe    1977 72.800   9821800 19117.974\n",
       "19 Belgium Europe    1982 73.930   9856303 20979.846\n",
       "20 Belgium Europe    1987 75.350   9870200 22525.563\n",
       "21 Belgium Europe    1992 76.460  10045622 25575.571\n",
       "22 Belgium Europe    1997 77.530  10199787 27561.197\n",
       "23 Belgium Europe    2002 78.320  10311970 30485.884\n",
       "24 Belgium Europe    2007 79.441  10392226 33692.605"
      ]
     },
     "metadata": {},
     "output_type": "display_data"
    }
   ],
   "source": [
    "# task: select Austria and Belgium\n",
    "filter(gapminder, country %in% c(\"Austria\", \"Belgium\"))"
   ]
  },
  {
   "cell_type": "markdown",
   "id": "e9ea19a4",
   "metadata": {},
   "source": [
    "Lets rewrite initial code and record it to the variable/data.frame:"
   ]
  },
  {
   "cell_type": "markdown",
   "id": "d07423e3",
   "metadata": {},
   "source": [
    "## Pipe (`%>%`/`|>`) operator"
   ]
  },
  {
   "cell_type": "markdown",
   "id": "21c761d8",
   "metadata": {},
   "source": [
    "`%>%` is `pipe` operator. The pipe operator takes the thing on the left-hand-side and pipes it into the function call on the right-hand-side – literally, drops it in as the first argument.\n",
    "\n",
    "`head()` function without pipe and top 4 items:"
   ]
  },
  {
   "cell_type": "markdown",
   "id": "524fcf8b",
   "metadata": {},
   "source": [
    "> In R version before 4.1.0 `pipe` `%>%` operator is not a language build-in and you should install `magrittr` package:"
   ]
  },
  {
   "cell_type": "markdown",
   "id": "d01005ac-0f45-483f-80dc-6040427d92b1",
   "metadata": {},
   "source": [
    "> **Pipe opertor in R 4.1+ `|>`, using this is preferable**"
   ]
  },
  {
   "cell_type": "code",
   "execution_count": null,
   "id": "0e046121",
   "metadata": {
    "vscode": {
     "languageId": "r"
    }
   },
   "outputs": [],
   "source": [
    "#install.packages(\"magrittr\") # for pipe %>% operator\n",
    "library(magrittr)"
   ]
  },
  {
   "cell_type": "code",
   "execution_count": null,
   "id": "f199611f",
   "metadata": {
    "vscode": {
     "languageId": "r"
    }
   },
   "outputs": [
    {
     "data": {
      "text/html": [
       "<table class=\"dataframe\">\n",
       "<caption>A tibble: 4 × 6</caption>\n",
       "<thead>\n",
       "\t<tr><th scope=col>country</th><th scope=col>continent</th><th scope=col>year</th><th scope=col>lifeExp</th><th scope=col>pop</th><th scope=col>gdpPercap</th></tr>\n",
       "\t<tr><th scope=col>&lt;fct&gt;</th><th scope=col>&lt;fct&gt;</th><th scope=col>&lt;int&gt;</th><th scope=col>&lt;dbl&gt;</th><th scope=col>&lt;int&gt;</th><th scope=col>&lt;dbl&gt;</th></tr>\n",
       "</thead>\n",
       "<tbody>\n",
       "\t<tr><td>Afghanistan</td><td>Asia</td><td>1952</td><td>28.801</td><td> 8425333</td><td>779.4453</td></tr>\n",
       "\t<tr><td>Afghanistan</td><td>Asia</td><td>1957</td><td>30.332</td><td> 9240934</td><td>820.8530</td></tr>\n",
       "\t<tr><td>Afghanistan</td><td>Asia</td><td>1962</td><td>31.997</td><td>10267083</td><td>853.1007</td></tr>\n",
       "\t<tr><td>Afghanistan</td><td>Asia</td><td>1967</td><td>34.020</td><td>11537966</td><td>836.1971</td></tr>\n",
       "</tbody>\n",
       "</table>\n"
      ],
      "text/latex": [
       "A tibble: 4 × 6\n",
       "\\begin{tabular}{llllll}\n",
       " country & continent & year & lifeExp & pop & gdpPercap\\\\\n",
       " <fct> & <fct> & <int> & <dbl> & <int> & <dbl>\\\\\n",
       "\\hline\n",
       "\t Afghanistan & Asia & 1952 & 28.801 &  8425333 & 779.4453\\\\\n",
       "\t Afghanistan & Asia & 1957 & 30.332 &  9240934 & 820.8530\\\\\n",
       "\t Afghanistan & Asia & 1962 & 31.997 & 10267083 & 853.1007\\\\\n",
       "\t Afghanistan & Asia & 1967 & 34.020 & 11537966 & 836.1971\\\\\n",
       "\\end{tabular}\n"
      ],
      "text/markdown": [
       "\n",
       "A tibble: 4 × 6\n",
       "\n",
       "| country &lt;fct&gt; | continent &lt;fct&gt; | year &lt;int&gt; | lifeExp &lt;dbl&gt; | pop &lt;int&gt; | gdpPercap &lt;dbl&gt; |\n",
       "|---|---|---|---|---|---|\n",
       "| Afghanistan | Asia | 1952 | 28.801 |  8425333 | 779.4453 |\n",
       "| Afghanistan | Asia | 1957 | 30.332 |  9240934 | 820.8530 |\n",
       "| Afghanistan | Asia | 1962 | 31.997 | 10267083 | 853.1007 |\n",
       "| Afghanistan | Asia | 1967 | 34.020 | 11537966 | 836.1971 |\n",
       "\n"
      ],
      "text/plain": [
       "  country     continent year lifeExp pop      gdpPercap\n",
       "1 Afghanistan Asia      1952 28.801   8425333 779.4453 \n",
       "2 Afghanistan Asia      1957 30.332   9240934 820.8530 \n",
       "3 Afghanistan Asia      1962 31.997  10267083 853.1007 \n",
       "4 Afghanistan Asia      1967 34.020  11537966 836.1971 "
      ]
     },
     "metadata": {},
     "output_type": "display_data"
    }
   ],
   "source": [
    "head(gapminder, n = 4)"
   ]
  },
  {
   "cell_type": "markdown",
   "id": "96f74ca1",
   "metadata": {},
   "source": [
    "`head()` function with pipe and top 4 items:"
   ]
  },
  {
   "cell_type": "code",
   "execution_count": null,
   "id": "fcdf55c5",
   "metadata": {
    "vscode": {
     "languageId": "r"
    }
   },
   "outputs": [
    {
     "data": {
      "text/html": [
       "<table class=\"dataframe\">\n",
       "<caption>A tibble: 4 × 6</caption>\n",
       "<thead>\n",
       "\t<tr><th scope=col>country</th><th scope=col>continent</th><th scope=col>year</th><th scope=col>lifeExp</th><th scope=col>pop</th><th scope=col>gdpPercap</th></tr>\n",
       "\t<tr><th scope=col>&lt;fct&gt;</th><th scope=col>&lt;fct&gt;</th><th scope=col>&lt;int&gt;</th><th scope=col>&lt;dbl&gt;</th><th scope=col>&lt;int&gt;</th><th scope=col>&lt;dbl&gt;</th></tr>\n",
       "</thead>\n",
       "<tbody>\n",
       "\t<tr><td>Afghanistan</td><td>Asia</td><td>1952</td><td>28.801</td><td> 8425333</td><td>779.4453</td></tr>\n",
       "\t<tr><td>Afghanistan</td><td>Asia</td><td>1957</td><td>30.332</td><td> 9240934</td><td>820.8530</td></tr>\n",
       "\t<tr><td>Afghanistan</td><td>Asia</td><td>1962</td><td>31.997</td><td>10267083</td><td>853.1007</td></tr>\n",
       "\t<tr><td>Afghanistan</td><td>Asia</td><td>1967</td><td>34.020</td><td>11537966</td><td>836.1971</td></tr>\n",
       "</tbody>\n",
       "</table>\n"
      ],
      "text/latex": [
       "A tibble: 4 × 6\n",
       "\\begin{tabular}{llllll}\n",
       " country & continent & year & lifeExp & pop & gdpPercap\\\\\n",
       " <fct> & <fct> & <int> & <dbl> & <int> & <dbl>\\\\\n",
       "\\hline\n",
       "\t Afghanistan & Asia & 1952 & 28.801 &  8425333 & 779.4453\\\\\n",
       "\t Afghanistan & Asia & 1957 & 30.332 &  9240934 & 820.8530\\\\\n",
       "\t Afghanistan & Asia & 1962 & 31.997 & 10267083 & 853.1007\\\\\n",
       "\t Afghanistan & Asia & 1967 & 34.020 & 11537966 & 836.1971\\\\\n",
       "\\end{tabular}\n"
      ],
      "text/markdown": [
       "\n",
       "A tibble: 4 × 6\n",
       "\n",
       "| country &lt;fct&gt; | continent &lt;fct&gt; | year &lt;int&gt; | lifeExp &lt;dbl&gt; | pop &lt;int&gt; | gdpPercap &lt;dbl&gt; |\n",
       "|---|---|---|---|---|---|\n",
       "| Afghanistan | Asia | 1952 | 28.801 |  8425333 | 779.4453 |\n",
       "| Afghanistan | Asia | 1957 | 30.332 |  9240934 | 820.8530 |\n",
       "| Afghanistan | Asia | 1962 | 31.997 | 10267083 | 853.1007 |\n",
       "| Afghanistan | Asia | 1967 | 34.020 | 11537966 | 836.1971 |\n",
       "\n"
      ],
      "text/plain": [
       "  country     continent year lifeExp pop      gdpPercap\n",
       "1 Afghanistan Asia      1952 28.801   8425333 779.4453 \n",
       "2 Afghanistan Asia      1957 30.332   9240934 820.8530 \n",
       "3 Afghanistan Asia      1962 31.997  10267083 853.1007 \n",
       "4 Afghanistan Asia      1967 34.020  11537966 836.1971 "
      ]
     },
     "metadata": {},
     "output_type": "display_data"
    }
   ],
   "source": [
    "gapminder %>% head(4)"
   ]
  },
  {
   "cell_type": "markdown",
   "id": "3503df04",
   "metadata": {},
   "source": [
    "Output is the same. So, let's rewrire filtering for `Austria` with pipe:"
   ]
  },
  {
   "cell_type": "code",
   "execution_count": null,
   "id": "e8104b6f",
   "metadata": {
    "vscode": {
     "languageId": "r"
    }
   },
   "outputs": [
    {
     "data": {
      "text/html": [
       "<table class=\"dataframe\">\n",
       "<caption>A tibble: 12 × 6</caption>\n",
       "<thead>\n",
       "\t<tr><th scope=col>country</th><th scope=col>continent</th><th scope=col>year</th><th scope=col>lifeExp</th><th scope=col>pop</th><th scope=col>gdpPercap</th></tr>\n",
       "\t<tr><th scope=col>&lt;fct&gt;</th><th scope=col>&lt;fct&gt;</th><th scope=col>&lt;int&gt;</th><th scope=col>&lt;dbl&gt;</th><th scope=col>&lt;int&gt;</th><th scope=col>&lt;dbl&gt;</th></tr>\n",
       "</thead>\n",
       "<tbody>\n",
       "\t<tr><td>Austria</td><td>Europe</td><td>1952</td><td>66.800</td><td>6927772</td><td> 6137.076</td></tr>\n",
       "\t<tr><td>Austria</td><td>Europe</td><td>1957</td><td>67.480</td><td>6965860</td><td> 8842.598</td></tr>\n",
       "\t<tr><td>Austria</td><td>Europe</td><td>1962</td><td>69.540</td><td>7129864</td><td>10750.721</td></tr>\n",
       "\t<tr><td>Austria</td><td>Europe</td><td>1967</td><td>70.140</td><td>7376998</td><td>12834.602</td></tr>\n",
       "\t<tr><td>Austria</td><td>Europe</td><td>1972</td><td>70.630</td><td>7544201</td><td>16661.626</td></tr>\n",
       "\t<tr><td>Austria</td><td>Europe</td><td>1977</td><td>72.170</td><td>7568430</td><td>19749.422</td></tr>\n",
       "\t<tr><td>Austria</td><td>Europe</td><td>1982</td><td>73.180</td><td>7574613</td><td>21597.084</td></tr>\n",
       "\t<tr><td>Austria</td><td>Europe</td><td>1987</td><td>74.940</td><td>7578903</td><td>23687.826</td></tr>\n",
       "\t<tr><td>Austria</td><td>Europe</td><td>1992</td><td>76.040</td><td>7914969</td><td>27042.019</td></tr>\n",
       "\t<tr><td>Austria</td><td>Europe</td><td>1997</td><td>77.510</td><td>8069876</td><td>29095.921</td></tr>\n",
       "\t<tr><td>Austria</td><td>Europe</td><td>2002</td><td>78.980</td><td>8148312</td><td>32417.608</td></tr>\n",
       "\t<tr><td>Austria</td><td>Europe</td><td>2007</td><td>79.829</td><td>8199783</td><td>36126.493</td></tr>\n",
       "</tbody>\n",
       "</table>\n"
      ],
      "text/latex": [
       "A tibble: 12 × 6\n",
       "\\begin{tabular}{llllll}\n",
       " country & continent & year & lifeExp & pop & gdpPercap\\\\\n",
       " <fct> & <fct> & <int> & <dbl> & <int> & <dbl>\\\\\n",
       "\\hline\n",
       "\t Austria & Europe & 1952 & 66.800 & 6927772 &  6137.076\\\\\n",
       "\t Austria & Europe & 1957 & 67.480 & 6965860 &  8842.598\\\\\n",
       "\t Austria & Europe & 1962 & 69.540 & 7129864 & 10750.721\\\\\n",
       "\t Austria & Europe & 1967 & 70.140 & 7376998 & 12834.602\\\\\n",
       "\t Austria & Europe & 1972 & 70.630 & 7544201 & 16661.626\\\\\n",
       "\t Austria & Europe & 1977 & 72.170 & 7568430 & 19749.422\\\\\n",
       "\t Austria & Europe & 1982 & 73.180 & 7574613 & 21597.084\\\\\n",
       "\t Austria & Europe & 1987 & 74.940 & 7578903 & 23687.826\\\\\n",
       "\t Austria & Europe & 1992 & 76.040 & 7914969 & 27042.019\\\\\n",
       "\t Austria & Europe & 1997 & 77.510 & 8069876 & 29095.921\\\\\n",
       "\t Austria & Europe & 2002 & 78.980 & 8148312 & 32417.608\\\\\n",
       "\t Austria & Europe & 2007 & 79.829 & 8199783 & 36126.493\\\\\n",
       "\\end{tabular}\n"
      ],
      "text/markdown": [
       "\n",
       "A tibble: 12 × 6\n",
       "\n",
       "| country &lt;fct&gt; | continent &lt;fct&gt; | year &lt;int&gt; | lifeExp &lt;dbl&gt; | pop &lt;int&gt; | gdpPercap &lt;dbl&gt; |\n",
       "|---|---|---|---|---|---|\n",
       "| Austria | Europe | 1952 | 66.800 | 6927772 |  6137.076 |\n",
       "| Austria | Europe | 1957 | 67.480 | 6965860 |  8842.598 |\n",
       "| Austria | Europe | 1962 | 69.540 | 7129864 | 10750.721 |\n",
       "| Austria | Europe | 1967 | 70.140 | 7376998 | 12834.602 |\n",
       "| Austria | Europe | 1972 | 70.630 | 7544201 | 16661.626 |\n",
       "| Austria | Europe | 1977 | 72.170 | 7568430 | 19749.422 |\n",
       "| Austria | Europe | 1982 | 73.180 | 7574613 | 21597.084 |\n",
       "| Austria | Europe | 1987 | 74.940 | 7578903 | 23687.826 |\n",
       "| Austria | Europe | 1992 | 76.040 | 7914969 | 27042.019 |\n",
       "| Austria | Europe | 1997 | 77.510 | 8069876 | 29095.921 |\n",
       "| Austria | Europe | 2002 | 78.980 | 8148312 | 32417.608 |\n",
       "| Austria | Europe | 2007 | 79.829 | 8199783 | 36126.493 |\n",
       "\n"
      ],
      "text/plain": [
       "   country continent year lifeExp pop     gdpPercap\n",
       "1  Austria Europe    1952 66.800  6927772  6137.076\n",
       "2  Austria Europe    1957 67.480  6965860  8842.598\n",
       "3  Austria Europe    1962 69.540  7129864 10750.721\n",
       "4  Austria Europe    1967 70.140  7376998 12834.602\n",
       "5  Austria Europe    1972 70.630  7544201 16661.626\n",
       "6  Austria Europe    1977 72.170  7568430 19749.422\n",
       "7  Austria Europe    1982 73.180  7574613 21597.084\n",
       "8  Austria Europe    1987 74.940  7578903 23687.826\n",
       "9  Austria Europe    1992 76.040  7914969 27042.019\n",
       "10 Austria Europe    1997 77.510  8069876 29095.921\n",
       "11 Austria Europe    2002 78.980  8148312 32417.608\n",
       "12 Austria Europe    2007 79.829  8199783 36126.493"
      ]
     },
     "metadata": {},
     "output_type": "display_data"
    }
   ],
   "source": [
    "austria <- gapminder |> filter(country == \"Austria\")\n",
    "austria"
   ]
  },
  {
   "cell_type": "code",
   "execution_count": null,
   "id": "2b1acb6a",
   "metadata": {
    "vscode": {
     "languageId": "r"
    }
   },
   "outputs": [
    {
     "data": {
      "text/html": [
       "<table class=\"dataframe\">\n",
       "<caption>A tibble: 2 × 6</caption>\n",
       "<thead>\n",
       "\t<tr><th scope=col>country</th><th scope=col>continent</th><th scope=col>year</th><th scope=col>lifeExp</th><th scope=col>pop</th><th scope=col>gdpPercap</th></tr>\n",
       "\t<tr><th scope=col>&lt;fct&gt;</th><th scope=col>&lt;fct&gt;</th><th scope=col>&lt;int&gt;</th><th scope=col>&lt;dbl&gt;</th><th scope=col>&lt;int&gt;</th><th scope=col>&lt;dbl&gt;</th></tr>\n",
       "</thead>\n",
       "<tbody>\n",
       "\t<tr><td>Austria</td><td>Europe</td><td>2002</td><td>78.980</td><td>8148312</td><td>32417.61</td></tr>\n",
       "\t<tr><td>Austria</td><td>Europe</td><td>2007</td><td>79.829</td><td>8199783</td><td>36126.49</td></tr>\n",
       "</tbody>\n",
       "</table>\n"
      ],
      "text/latex": [
       "A tibble: 2 × 6\n",
       "\\begin{tabular}{llllll}\n",
       " country & continent & year & lifeExp & pop & gdpPercap\\\\\n",
       " <fct> & <fct> & <int> & <dbl> & <int> & <dbl>\\\\\n",
       "\\hline\n",
       "\t Austria & Europe & 2002 & 78.980 & 8148312 & 32417.61\\\\\n",
       "\t Austria & Europe & 2007 & 79.829 & 8199783 & 36126.49\\\\\n",
       "\\end{tabular}\n"
      ],
      "text/markdown": [
       "\n",
       "A tibble: 2 × 6\n",
       "\n",
       "| country &lt;fct&gt; | continent &lt;fct&gt; | year &lt;int&gt; | lifeExp &lt;dbl&gt; | pop &lt;int&gt; | gdpPercap &lt;dbl&gt; |\n",
       "|---|---|---|---|---|---|\n",
       "| Austria | Europe | 2002 | 78.980 | 8148312 | 32417.61 |\n",
       "| Austria | Europe | 2007 | 79.829 | 8199783 | 36126.49 |\n",
       "\n"
      ],
      "text/plain": [
       "  country continent year lifeExp pop     gdpPercap\n",
       "1 Austria Europe    2002 78.980  8148312 32417.61 \n",
       "2 Austria Europe    2007 79.829  8199783 36126.49 "
      ]
     },
     "metadata": {},
     "output_type": "display_data"
    }
   ],
   "source": [
    "# add more conditions in filter\n",
    "austria <- gapminder |> filter(country == \"Austria\", year > 2000)\n",
    "austria"
   ]
  },
  {
   "cell_type": "markdown",
   "id": "5e8f3ee0",
   "metadata": {},
   "source": [
    "---"
   ]
  },
  {
   "cell_type": "markdown",
   "id": "10ff15f6",
   "metadata": {},
   "source": [
    "## `select()` function"
   ]
  },
  {
   "cell_type": "markdown",
   "id": "af3e3ec9",
   "metadata": {},
   "source": [
    "Use `select()` to subset the data on variables/columns by `names` or `index`. You also can define order of columns with `select()`."
   ]
  },
  {
   "cell_type": "code",
   "execution_count": null,
   "id": "4d8e74f2",
   "metadata": {
    "vscode": {
     "languageId": "r"
    }
   },
   "outputs": [
    {
     "data": {
      "text/html": [
       "<table class=\"dataframe\">\n",
       "<caption>A tibble: 10 × 3</caption>\n",
       "<thead>\n",
       "\t<tr><th scope=col>year</th><th scope=col>country</th><th scope=col>pop</th></tr>\n",
       "\t<tr><th scope=col>&lt;int&gt;</th><th scope=col>&lt;fct&gt;</th><th scope=col>&lt;int&gt;</th></tr>\n",
       "</thead>\n",
       "<tbody>\n",
       "\t<tr><td>1952</td><td>Afghanistan</td><td> 8425333</td></tr>\n",
       "\t<tr><td>1957</td><td>Afghanistan</td><td> 9240934</td></tr>\n",
       "\t<tr><td>1962</td><td>Afghanistan</td><td>10267083</td></tr>\n",
       "\t<tr><td>1967</td><td>Afghanistan</td><td>11537966</td></tr>\n",
       "\t<tr><td>1972</td><td>Afghanistan</td><td>13079460</td></tr>\n",
       "\t<tr><td>1977</td><td>Afghanistan</td><td>14880372</td></tr>\n",
       "\t<tr><td>1982</td><td>Afghanistan</td><td>12881816</td></tr>\n",
       "\t<tr><td>1987</td><td>Afghanistan</td><td>13867957</td></tr>\n",
       "\t<tr><td>1992</td><td>Afghanistan</td><td>16317921</td></tr>\n",
       "\t<tr><td>1997</td><td>Afghanistan</td><td>22227415</td></tr>\n",
       "</tbody>\n",
       "</table>\n"
      ],
      "text/latex": [
       "A tibble: 10 × 3\n",
       "\\begin{tabular}{lll}\n",
       " year & country & pop\\\\\n",
       " <int> & <fct> & <int>\\\\\n",
       "\\hline\n",
       "\t 1952 & Afghanistan &  8425333\\\\\n",
       "\t 1957 & Afghanistan &  9240934\\\\\n",
       "\t 1962 & Afghanistan & 10267083\\\\\n",
       "\t 1967 & Afghanistan & 11537966\\\\\n",
       "\t 1972 & Afghanistan & 13079460\\\\\n",
       "\t 1977 & Afghanistan & 14880372\\\\\n",
       "\t 1982 & Afghanistan & 12881816\\\\\n",
       "\t 1987 & Afghanistan & 13867957\\\\\n",
       "\t 1992 & Afghanistan & 16317921\\\\\n",
       "\t 1997 & Afghanistan & 22227415\\\\\n",
       "\\end{tabular}\n"
      ],
      "text/markdown": [
       "\n",
       "A tibble: 10 × 3\n",
       "\n",
       "| year &lt;int&gt; | country &lt;fct&gt; | pop &lt;int&gt; |\n",
       "|---|---|---|\n",
       "| 1952 | Afghanistan |  8425333 |\n",
       "| 1957 | Afghanistan |  9240934 |\n",
       "| 1962 | Afghanistan | 10267083 |\n",
       "| 1967 | Afghanistan | 11537966 |\n",
       "| 1972 | Afghanistan | 13079460 |\n",
       "| 1977 | Afghanistan | 14880372 |\n",
       "| 1982 | Afghanistan | 12881816 |\n",
       "| 1987 | Afghanistan | 13867957 |\n",
       "| 1992 | Afghanistan | 16317921 |\n",
       "| 1997 | Afghanistan | 22227415 |\n",
       "\n"
      ],
      "text/plain": [
       "   year country     pop     \n",
       "1  1952 Afghanistan  8425333\n",
       "2  1957 Afghanistan  9240934\n",
       "3  1962 Afghanistan 10267083\n",
       "4  1967 Afghanistan 11537966\n",
       "5  1972 Afghanistan 13079460\n",
       "6  1977 Afghanistan 14880372\n",
       "7  1982 Afghanistan 12881816\n",
       "8  1987 Afghanistan 13867957\n",
       "9  1992 Afghanistan 16317921\n",
       "10 1997 Afghanistan 22227415"
      ]
     },
     "metadata": {},
     "output_type": "display_data"
    }
   ],
   "source": [
    "gapminder |> \n",
    "select(year, country, pop) |>\n",
    "slice(1: 10)"
   ]
  },
  {
   "cell_type": "markdown",
   "id": "9de97bfe",
   "metadata": {},
   "source": [
    "Lets combine few functions with `pipe` (`%>%`):"
   ]
  },
  {
   "cell_type": "markdown",
   "id": "576fef4c",
   "metadata": {},
   "source": [
    "Finally, lest extend our filtering:"
   ]
  },
  {
   "cell_type": "code",
   "execution_count": null,
   "id": "2336666b",
   "metadata": {
    "vscode": {
     "languageId": "r"
    }
   },
   "outputs": [
    {
     "data": {
      "text/html": [
       "<table class=\"dataframe\">\n",
       "<caption>A tibble: 12 × 3</caption>\n",
       "<thead>\n",
       "\t<tr><th scope=col>year</th><th scope=col>pop</th><th scope=col>lifeExp</th></tr>\n",
       "\t<tr><th scope=col>&lt;int&gt;</th><th scope=col>&lt;int&gt;</th><th scope=col>&lt;dbl&gt;</th></tr>\n",
       "</thead>\n",
       "<tbody>\n",
       "\t<tr><td>1952</td><td>6927772</td><td>66.800</td></tr>\n",
       "\t<tr><td>1957</td><td>6965860</td><td>67.480</td></tr>\n",
       "\t<tr><td>1962</td><td>7129864</td><td>69.540</td></tr>\n",
       "\t<tr><td>1967</td><td>7376998</td><td>70.140</td></tr>\n",
       "\t<tr><td>1972</td><td>7544201</td><td>70.630</td></tr>\n",
       "\t<tr><td>1977</td><td>7568430</td><td>72.170</td></tr>\n",
       "\t<tr><td>1982</td><td>7574613</td><td>73.180</td></tr>\n",
       "\t<tr><td>1987</td><td>7578903</td><td>74.940</td></tr>\n",
       "\t<tr><td>1992</td><td>7914969</td><td>76.040</td></tr>\n",
       "\t<tr><td>1997</td><td>8069876</td><td>77.510</td></tr>\n",
       "\t<tr><td>2002</td><td>8148312</td><td>78.980</td></tr>\n",
       "\t<tr><td>2007</td><td>8199783</td><td>79.829</td></tr>\n",
       "</tbody>\n",
       "</table>\n"
      ],
      "text/latex": [
       "A tibble: 12 × 3\n",
       "\\begin{tabular}{lll}\n",
       " year & pop & lifeExp\\\\\n",
       " <int> & <int> & <dbl>\\\\\n",
       "\\hline\n",
       "\t 1952 & 6927772 & 66.800\\\\\n",
       "\t 1957 & 6965860 & 67.480\\\\\n",
       "\t 1962 & 7129864 & 69.540\\\\\n",
       "\t 1967 & 7376998 & 70.140\\\\\n",
       "\t 1972 & 7544201 & 70.630\\\\\n",
       "\t 1977 & 7568430 & 72.170\\\\\n",
       "\t 1982 & 7574613 & 73.180\\\\\n",
       "\t 1987 & 7578903 & 74.940\\\\\n",
       "\t 1992 & 7914969 & 76.040\\\\\n",
       "\t 1997 & 8069876 & 77.510\\\\\n",
       "\t 2002 & 8148312 & 78.980\\\\\n",
       "\t 2007 & 8199783 & 79.829\\\\\n",
       "\\end{tabular}\n"
      ],
      "text/markdown": [
       "\n",
       "A tibble: 12 × 3\n",
       "\n",
       "| year &lt;int&gt; | pop &lt;int&gt; | lifeExp &lt;dbl&gt; |\n",
       "|---|---|---|\n",
       "| 1952 | 6927772 | 66.800 |\n",
       "| 1957 | 6965860 | 67.480 |\n",
       "| 1962 | 7129864 | 69.540 |\n",
       "| 1967 | 7376998 | 70.140 |\n",
       "| 1972 | 7544201 | 70.630 |\n",
       "| 1977 | 7568430 | 72.170 |\n",
       "| 1982 | 7574613 | 73.180 |\n",
       "| 1987 | 7578903 | 74.940 |\n",
       "| 1992 | 7914969 | 76.040 |\n",
       "| 1997 | 8069876 | 77.510 |\n",
       "| 2002 | 8148312 | 78.980 |\n",
       "| 2007 | 8199783 | 79.829 |\n",
       "\n"
      ],
      "text/plain": [
       "   year pop     lifeExp\n",
       "1  1952 6927772 66.800 \n",
       "2  1957 6965860 67.480 \n",
       "3  1962 7129864 69.540 \n",
       "4  1967 7376998 70.140 \n",
       "5  1972 7544201 70.630 \n",
       "6  1977 7568430 72.170 \n",
       "7  1982 7574613 73.180 \n",
       "8  1987 7578903 74.940 \n",
       "9  1992 7914969 76.040 \n",
       "10 1997 8069876 77.510 \n",
       "11 2002 8148312 78.980 \n",
       "12 2007 8199783 79.829 "
      ]
     },
     "metadata": {},
     "output_type": "display_data"
    },
    {
     "data": {
      "text/html": [
       "<table class=\"dataframe\">\n",
       "<caption>A tibble: 12 × 3</caption>\n",
       "<thead>\n",
       "\t<tr><th scope=col>year</th><th scope=col>pop</th><th scope=col>lifeExp</th></tr>\n",
       "\t<tr><th scope=col>&lt;int&gt;</th><th scope=col>&lt;int&gt;</th><th scope=col>&lt;dbl&gt;</th></tr>\n",
       "</thead>\n",
       "<tbody>\n",
       "\t<tr><td>1952</td><td>6927772</td><td>66.800</td></tr>\n",
       "\t<tr><td>1957</td><td>6965860</td><td>67.480</td></tr>\n",
       "\t<tr><td>1962</td><td>7129864</td><td>69.540</td></tr>\n",
       "\t<tr><td>1967</td><td>7376998</td><td>70.140</td></tr>\n",
       "\t<tr><td>1972</td><td>7544201</td><td>70.630</td></tr>\n",
       "\t<tr><td>1977</td><td>7568430</td><td>72.170</td></tr>\n",
       "\t<tr><td>1982</td><td>7574613</td><td>73.180</td></tr>\n",
       "\t<tr><td>1987</td><td>7578903</td><td>74.940</td></tr>\n",
       "\t<tr><td>1992</td><td>7914969</td><td>76.040</td></tr>\n",
       "\t<tr><td>1997</td><td>8069876</td><td>77.510</td></tr>\n",
       "\t<tr><td>2002</td><td>8148312</td><td>78.980</td></tr>\n",
       "\t<tr><td>2007</td><td>8199783</td><td>79.829</td></tr>\n",
       "</tbody>\n",
       "</table>\n"
      ],
      "text/latex": [
       "A tibble: 12 × 3\n",
       "\\begin{tabular}{lll}\n",
       " year & pop & lifeExp\\\\\n",
       " <int> & <int> & <dbl>\\\\\n",
       "\\hline\n",
       "\t 1952 & 6927772 & 66.800\\\\\n",
       "\t 1957 & 6965860 & 67.480\\\\\n",
       "\t 1962 & 7129864 & 69.540\\\\\n",
       "\t 1967 & 7376998 & 70.140\\\\\n",
       "\t 1972 & 7544201 & 70.630\\\\\n",
       "\t 1977 & 7568430 & 72.170\\\\\n",
       "\t 1982 & 7574613 & 73.180\\\\\n",
       "\t 1987 & 7578903 & 74.940\\\\\n",
       "\t 1992 & 7914969 & 76.040\\\\\n",
       "\t 1997 & 8069876 & 77.510\\\\\n",
       "\t 2002 & 8148312 & 78.980\\\\\n",
       "\t 2007 & 8199783 & 79.829\\\\\n",
       "\\end{tabular}\n"
      ],
      "text/markdown": [
       "\n",
       "A tibble: 12 × 3\n",
       "\n",
       "| year &lt;int&gt; | pop &lt;int&gt; | lifeExp &lt;dbl&gt; |\n",
       "|---|---|---|\n",
       "| 1952 | 6927772 | 66.800 |\n",
       "| 1957 | 6965860 | 67.480 |\n",
       "| 1962 | 7129864 | 69.540 |\n",
       "| 1967 | 7376998 | 70.140 |\n",
       "| 1972 | 7544201 | 70.630 |\n",
       "| 1977 | 7568430 | 72.170 |\n",
       "| 1982 | 7574613 | 73.180 |\n",
       "| 1987 | 7578903 | 74.940 |\n",
       "| 1992 | 7914969 | 76.040 |\n",
       "| 1997 | 8069876 | 77.510 |\n",
       "| 2002 | 8148312 | 78.980 |\n",
       "| 2007 | 8199783 | 79.829 |\n",
       "\n"
      ],
      "text/plain": [
       "   year pop     lifeExp\n",
       "1  1952 6927772 66.800 \n",
       "2  1957 6965860 67.480 \n",
       "3  1962 7129864 69.540 \n",
       "4  1967 7376998 70.140 \n",
       "5  1972 7544201 70.630 \n",
       "6  1977 7568430 72.170 \n",
       "7  1982 7574613 73.180 \n",
       "8  1987 7578903 74.940 \n",
       "9  1992 7914969 76.040 \n",
       "10 1997 8069876 77.510 \n",
       "11 2002 8148312 78.980 \n",
       "12 2007 8199783 79.829 "
      ]
     },
     "metadata": {},
     "output_type": "display_data"
    }
   ],
   "source": [
    "# compare dplyr syntax with base R call\n",
    "gapminder[gapminder$country == \"Austria\", c(\"year\", \"pop\", \"lifeExp\")]\n",
    "\n",
    "gapminder |> \n",
    "    filter(country == \"Austria\") |>\n",
    "    select(year, pop, lifeExp)"
   ]
  },
  {
   "cell_type": "markdown",
   "id": "00d8ab00",
   "metadata": {},
   "source": [
    "You can remove some columns using `minus`(operator) and add few filter conditions:"
   ]
  },
  {
   "cell_type": "code",
   "execution_count": null,
   "id": "b9162dd9",
   "metadata": {
    "vscode": {
     "languageId": "r"
    }
   },
   "outputs": [
    {
     "data": {
      "text/html": [
       "<table class=\"dataframe\">\n",
       "<caption>A tibble: 2 × 4</caption>\n",
       "<thead>\n",
       "\t<tr><th scope=col>country</th><th scope=col>year</th><th scope=col>lifeExp</th><th scope=col>pop</th></tr>\n",
       "\t<tr><th scope=col>&lt;fct&gt;</th><th scope=col>&lt;int&gt;</th><th scope=col>&lt;dbl&gt;</th><th scope=col>&lt;int&gt;</th></tr>\n",
       "</thead>\n",
       "<tbody>\n",
       "\t<tr><td>Austria</td><td>2002</td><td>78.980</td><td>8148312</td></tr>\n",
       "\t<tr><td>Austria</td><td>2007</td><td>79.829</td><td>8199783</td></tr>\n",
       "</tbody>\n",
       "</table>\n"
      ],
      "text/latex": [
       "A tibble: 2 × 4\n",
       "\\begin{tabular}{llll}\n",
       " country & year & lifeExp & pop\\\\\n",
       " <fct> & <int> & <dbl> & <int>\\\\\n",
       "\\hline\n",
       "\t Austria & 2002 & 78.980 & 8148312\\\\\n",
       "\t Austria & 2007 & 79.829 & 8199783\\\\\n",
       "\\end{tabular}\n"
      ],
      "text/markdown": [
       "\n",
       "A tibble: 2 × 4\n",
       "\n",
       "| country &lt;fct&gt; | year &lt;int&gt; | lifeExp &lt;dbl&gt; | pop &lt;int&gt; |\n",
       "|---|---|---|---|\n",
       "| Austria | 2002 | 78.980 | 8148312 |\n",
       "| Austria | 2007 | 79.829 | 8199783 |\n",
       "\n"
      ],
      "text/plain": [
       "  country year lifeExp pop    \n",
       "1 Austria 2002 78.980  8148312\n",
       "2 Austria 2007 79.829  8199783"
      ]
     },
     "metadata": {},
     "output_type": "display_data"
    }
   ],
   "source": [
    "austria <- gapminder |> \n",
    "                filter(country == \"Austria\", year > 2000) |>\n",
    "                select(-continent, -gdpPercap) |>\n",
    "                head()\n",
    "austria"
   ]
  },
  {
   "cell_type": "markdown",
   "id": "4db5f6ad",
   "metadata": {},
   "source": [
    "You can insert different conditions about columns you need to `select`. "
   ]
  },
  {
   "cell_type": "code",
   "execution_count": null,
   "id": "fc64c708",
   "metadata": {
    "vscode": {
     "languageId": "r"
    }
   },
   "outputs": [
    {
     "data": {
      "text/html": [
       "<table class=\"dataframe\">\n",
       "<caption>A tibble: 5 × 2</caption>\n",
       "<thead>\n",
       "\t<tr><th scope=col>country</th><th scope=col>continent</th></tr>\n",
       "\t<tr><th scope=col>&lt;fct&gt;</th><th scope=col>&lt;fct&gt;</th></tr>\n",
       "</thead>\n",
       "<tbody>\n",
       "\t<tr><td>Afghanistan</td><td>Asia</td></tr>\n",
       "\t<tr><td>Afghanistan</td><td>Asia</td></tr>\n",
       "\t<tr><td>Afghanistan</td><td>Asia</td></tr>\n",
       "\t<tr><td>Afghanistan</td><td>Asia</td></tr>\n",
       "\t<tr><td>Afghanistan</td><td>Asia</td></tr>\n",
       "</tbody>\n",
       "</table>\n"
      ],
      "text/latex": [
       "A tibble: 5 × 2\n",
       "\\begin{tabular}{ll}\n",
       " country & continent\\\\\n",
       " <fct> & <fct>\\\\\n",
       "\\hline\n",
       "\t Afghanistan & Asia\\\\\n",
       "\t Afghanistan & Asia\\\\\n",
       "\t Afghanistan & Asia\\\\\n",
       "\t Afghanistan & Asia\\\\\n",
       "\t Afghanistan & Asia\\\\\n",
       "\\end{tabular}\n"
      ],
      "text/markdown": [
       "\n",
       "A tibble: 5 × 2\n",
       "\n",
       "| country &lt;fct&gt; | continent &lt;fct&gt; |\n",
       "|---|---|\n",
       "| Afghanistan | Asia |\n",
       "| Afghanistan | Asia |\n",
       "| Afghanistan | Asia |\n",
       "| Afghanistan | Asia |\n",
       "| Afghanistan | Asia |\n",
       "\n"
      ],
      "text/plain": [
       "  country     continent\n",
       "1 Afghanistan Asia     \n",
       "2 Afghanistan Asia     \n",
       "3 Afghanistan Asia     \n",
       "4 Afghanistan Asia     \n",
       "5 Afghanistan Asia     "
      ]
     },
     "metadata": {},
     "output_type": "display_data"
    }
   ],
   "source": [
    "gapminder |>\n",
    "    select(!where(is.numeric)) |>  # its 1704 records, because of repeating some records\n",
    "    slice(1:5)"
   ]
  },
  {
   "cell_type": "markdown",
   "id": "c821ef8c",
   "metadata": {},
   "source": [
    "Let's output all unique pairs `continent -> country` with `distinct()` function:"
   ]
  },
  {
   "cell_type": "code",
   "execution_count": null,
   "id": "3ca3faed",
   "metadata": {
    "vscode": {
     "languageId": "r"
    }
   },
   "outputs": [
    {
     "data": {
      "text/html": [
       "<table class=\"dataframe\">\n",
       "<caption>A tibble: 142 × 1</caption>\n",
       "<thead>\n",
       "\t<tr><th scope=col>country</th></tr>\n",
       "\t<tr><th scope=col>&lt;fct&gt;</th></tr>\n",
       "</thead>\n",
       "<tbody>\n",
       "\t<tr><td>Afghanistan             </td></tr>\n",
       "\t<tr><td>Albania                 </td></tr>\n",
       "\t<tr><td>Algeria                 </td></tr>\n",
       "\t<tr><td>Angola                  </td></tr>\n",
       "\t<tr><td>Argentina               </td></tr>\n",
       "\t<tr><td>Australia               </td></tr>\n",
       "\t<tr><td>Austria                 </td></tr>\n",
       "\t<tr><td>Bahrain                 </td></tr>\n",
       "\t<tr><td>Bangladesh              </td></tr>\n",
       "\t<tr><td>Belgium                 </td></tr>\n",
       "\t<tr><td>Benin                   </td></tr>\n",
       "\t<tr><td>Bolivia                 </td></tr>\n",
       "\t<tr><td>Bosnia and Herzegovina  </td></tr>\n",
       "\t<tr><td>Botswana                </td></tr>\n",
       "\t<tr><td>Brazil                  </td></tr>\n",
       "\t<tr><td>Bulgaria                </td></tr>\n",
       "\t<tr><td>Burkina Faso            </td></tr>\n",
       "\t<tr><td>Burundi                 </td></tr>\n",
       "\t<tr><td>Cambodia                </td></tr>\n",
       "\t<tr><td>Cameroon                </td></tr>\n",
       "\t<tr><td>Canada                  </td></tr>\n",
       "\t<tr><td>Central African Republic</td></tr>\n",
       "\t<tr><td>Chad                    </td></tr>\n",
       "\t<tr><td>Chile                   </td></tr>\n",
       "\t<tr><td>China                   </td></tr>\n",
       "\t<tr><td>Colombia                </td></tr>\n",
       "\t<tr><td>Comoros                 </td></tr>\n",
       "\t<tr><td>Congo, Dem. Rep.        </td></tr>\n",
       "\t<tr><td>Congo, Rep.             </td></tr>\n",
       "\t<tr><td>Costa Rica              </td></tr>\n",
       "\t<tr><td>⋮</td></tr>\n",
       "\t<tr><td>Sierra Leone       </td></tr>\n",
       "\t<tr><td>Singapore          </td></tr>\n",
       "\t<tr><td>Slovak Republic    </td></tr>\n",
       "\t<tr><td>Slovenia           </td></tr>\n",
       "\t<tr><td>Somalia            </td></tr>\n",
       "\t<tr><td>South Africa       </td></tr>\n",
       "\t<tr><td>Spain              </td></tr>\n",
       "\t<tr><td>Sri Lanka          </td></tr>\n",
       "\t<tr><td>Sudan              </td></tr>\n",
       "\t<tr><td>Swaziland          </td></tr>\n",
       "\t<tr><td>Sweden             </td></tr>\n",
       "\t<tr><td>Switzerland        </td></tr>\n",
       "\t<tr><td>Syria              </td></tr>\n",
       "\t<tr><td>Taiwan             </td></tr>\n",
       "\t<tr><td>Tanzania           </td></tr>\n",
       "\t<tr><td>Thailand           </td></tr>\n",
       "\t<tr><td>Togo               </td></tr>\n",
       "\t<tr><td>Trinidad and Tobago</td></tr>\n",
       "\t<tr><td>Tunisia            </td></tr>\n",
       "\t<tr><td>Turkey             </td></tr>\n",
       "\t<tr><td>Uganda             </td></tr>\n",
       "\t<tr><td>United Kingdom     </td></tr>\n",
       "\t<tr><td>United States      </td></tr>\n",
       "\t<tr><td>Uruguay            </td></tr>\n",
       "\t<tr><td>Venezuela          </td></tr>\n",
       "\t<tr><td>Vietnam            </td></tr>\n",
       "\t<tr><td>West Bank and Gaza </td></tr>\n",
       "\t<tr><td>Yemen, Rep.        </td></tr>\n",
       "\t<tr><td>Zambia             </td></tr>\n",
       "\t<tr><td>Zimbabwe           </td></tr>\n",
       "</tbody>\n",
       "</table>\n"
      ],
      "text/latex": [
       "A tibble: 142 × 1\n",
       "\\begin{tabular}{l}\n",
       " country\\\\\n",
       " <fct>\\\\\n",
       "\\hline\n",
       "\t Afghanistan             \\\\\n",
       "\t Albania                 \\\\\n",
       "\t Algeria                 \\\\\n",
       "\t Angola                  \\\\\n",
       "\t Argentina               \\\\\n",
       "\t Australia               \\\\\n",
       "\t Austria                 \\\\\n",
       "\t Bahrain                 \\\\\n",
       "\t Bangladesh              \\\\\n",
       "\t Belgium                 \\\\\n",
       "\t Benin                   \\\\\n",
       "\t Bolivia                 \\\\\n",
       "\t Bosnia and Herzegovina  \\\\\n",
       "\t Botswana                \\\\\n",
       "\t Brazil                  \\\\\n",
       "\t Bulgaria                \\\\\n",
       "\t Burkina Faso            \\\\\n",
       "\t Burundi                 \\\\\n",
       "\t Cambodia                \\\\\n",
       "\t Cameroon                \\\\\n",
       "\t Canada                  \\\\\n",
       "\t Central African Republic\\\\\n",
       "\t Chad                    \\\\\n",
       "\t Chile                   \\\\\n",
       "\t China                   \\\\\n",
       "\t Colombia                \\\\\n",
       "\t Comoros                 \\\\\n",
       "\t Congo, Dem. Rep.        \\\\\n",
       "\t Congo, Rep.             \\\\\n",
       "\t Costa Rica              \\\\\n",
       "\t ⋮\\\\\n",
       "\t Sierra Leone       \\\\\n",
       "\t Singapore          \\\\\n",
       "\t Slovak Republic    \\\\\n",
       "\t Slovenia           \\\\\n",
       "\t Somalia            \\\\\n",
       "\t South Africa       \\\\\n",
       "\t Spain              \\\\\n",
       "\t Sri Lanka          \\\\\n",
       "\t Sudan              \\\\\n",
       "\t Swaziland          \\\\\n",
       "\t Sweden             \\\\\n",
       "\t Switzerland        \\\\\n",
       "\t Syria              \\\\\n",
       "\t Taiwan             \\\\\n",
       "\t Tanzania           \\\\\n",
       "\t Thailand           \\\\\n",
       "\t Togo               \\\\\n",
       "\t Trinidad and Tobago\\\\\n",
       "\t Tunisia            \\\\\n",
       "\t Turkey             \\\\\n",
       "\t Uganda             \\\\\n",
       "\t United Kingdom     \\\\\n",
       "\t United States      \\\\\n",
       "\t Uruguay            \\\\\n",
       "\t Venezuela          \\\\\n",
       "\t Vietnam            \\\\\n",
       "\t West Bank and Gaza \\\\\n",
       "\t Yemen, Rep.        \\\\\n",
       "\t Zambia             \\\\\n",
       "\t Zimbabwe           \\\\\n",
       "\\end{tabular}\n"
      ],
      "text/markdown": [
       "\n",
       "A tibble: 142 × 1\n",
       "\n",
       "| country &lt;fct&gt; |\n",
       "|---|\n",
       "| Afghanistan              |\n",
       "| Albania                  |\n",
       "| Algeria                  |\n",
       "| Angola                   |\n",
       "| Argentina                |\n",
       "| Australia                |\n",
       "| Austria                  |\n",
       "| Bahrain                  |\n",
       "| Bangladesh               |\n",
       "| Belgium                  |\n",
       "| Benin                    |\n",
       "| Bolivia                  |\n",
       "| Bosnia and Herzegovina   |\n",
       "| Botswana                 |\n",
       "| Brazil                   |\n",
       "| Bulgaria                 |\n",
       "| Burkina Faso             |\n",
       "| Burundi                  |\n",
       "| Cambodia                 |\n",
       "| Cameroon                 |\n",
       "| Canada                   |\n",
       "| Central African Republic |\n",
       "| Chad                     |\n",
       "| Chile                    |\n",
       "| China                    |\n",
       "| Colombia                 |\n",
       "| Comoros                  |\n",
       "| Congo, Dem. Rep.         |\n",
       "| Congo, Rep.              |\n",
       "| Costa Rica               |\n",
       "| ⋮ |\n",
       "| Sierra Leone        |\n",
       "| Singapore           |\n",
       "| Slovak Republic     |\n",
       "| Slovenia            |\n",
       "| Somalia             |\n",
       "| South Africa        |\n",
       "| Spain               |\n",
       "| Sri Lanka           |\n",
       "| Sudan               |\n",
       "| Swaziland           |\n",
       "| Sweden              |\n",
       "| Switzerland         |\n",
       "| Syria               |\n",
       "| Taiwan              |\n",
       "| Tanzania            |\n",
       "| Thailand            |\n",
       "| Togo                |\n",
       "| Trinidad and Tobago |\n",
       "| Tunisia             |\n",
       "| Turkey              |\n",
       "| Uganda              |\n",
       "| United Kingdom      |\n",
       "| United States       |\n",
       "| Uruguay             |\n",
       "| Venezuela           |\n",
       "| Vietnam             |\n",
       "| West Bank and Gaza  |\n",
       "| Yemen, Rep.         |\n",
       "| Zambia              |\n",
       "| Zimbabwe            |\n",
       "\n"
      ],
      "text/plain": [
       "    country                 \n",
       "1   Afghanistan             \n",
       "2   Albania                 \n",
       "3   Algeria                 \n",
       "4   Angola                  \n",
       "5   Argentina               \n",
       "6   Australia               \n",
       "7   Austria                 \n",
       "8   Bahrain                 \n",
       "9   Bangladesh              \n",
       "10  Belgium                 \n",
       "11  Benin                   \n",
       "12  Bolivia                 \n",
       "13  Bosnia and Herzegovina  \n",
       "14  Botswana                \n",
       "15  Brazil                  \n",
       "16  Bulgaria                \n",
       "17  Burkina Faso            \n",
       "18  Burundi                 \n",
       "19  Cambodia                \n",
       "20  Cameroon                \n",
       "21  Canada                  \n",
       "22  Central African Republic\n",
       "23  Chad                    \n",
       "24  Chile                   \n",
       "25  China                   \n",
       "26  Colombia                \n",
       "27  Comoros                 \n",
       "28  Congo, Dem. Rep.        \n",
       "29  Congo, Rep.             \n",
       "30  Costa Rica              \n",
       "<U+22EE>   <U+22EE>                \n",
       "113 Sierra Leone            \n",
       "114 Singapore               \n",
       "115 Slovak Republic         \n",
       "116 Slovenia                \n",
       "117 Somalia                 \n",
       "118 South Africa            \n",
       "119 Spain                   \n",
       "120 Sri Lanka               \n",
       "121 Sudan                   \n",
       "122 Swaziland               \n",
       "123 Sweden                  \n",
       "124 Switzerland             \n",
       "125 Syria                   \n",
       "126 Taiwan                  \n",
       "127 Tanzania                \n",
       "128 Thailand                \n",
       "129 Togo                    \n",
       "130 Trinidad and Tobago     \n",
       "131 Tunisia                 \n",
       "132 Turkey                  \n",
       "133 Uganda                  \n",
       "134 United Kingdom          \n",
       "135 United States           \n",
       "136 Uruguay                 \n",
       "137 Venezuela               \n",
       "138 Vietnam                 \n",
       "139 West Bank and Gaza      \n",
       "140 Yemen, Rep.             \n",
       "141 Zambia                  \n",
       "142 Zimbabwe                "
      ]
     },
     "metadata": {},
     "output_type": "display_data"
    }
   ],
   "source": [
    "gapminder |>\n",
    "    select(country) |>\n",
    "    distinct() # its 142 records now"
   ]
  },
  {
   "cell_type": "markdown",
   "id": "27215fc5",
   "metadata": {},
   "source": [
    "---"
   ]
  },
  {
   "cell_type": "markdown",
   "id": "701d9111",
   "metadata": {},
   "source": [
    "## Selecting random $N$ rows"
   ]
  },
  {
   "cell_type": "markdown",
   "id": "e5c3c313",
   "metadata": {},
   "source": [
    "The `sample_n()` function selects random rows from a data frame"
   ]
  },
  {
   "cell_type": "code",
   "execution_count": 31,
   "id": "8b08e3c5",
   "metadata": {
    "vscode": {
     "languageId": "r"
    }
   },
   "outputs": [
    {
     "data": {
      "text/html": [
       "<table class=\"dataframe\">\n",
       "<caption>A tibble: 5 × 6</caption>\n",
       "<thead>\n",
       "\t<tr><th scope=col>country</th><th scope=col>continent</th><th scope=col>year</th><th scope=col>lifeExp</th><th scope=col>pop</th><th scope=col>gdpPercap</th></tr>\n",
       "\t<tr><th scope=col>&lt;fct&gt;</th><th scope=col>&lt;fct&gt;</th><th scope=col>&lt;int&gt;</th><th scope=col>&lt;dbl&gt;</th><th scope=col>&lt;int&gt;</th><th scope=col>&lt;dbl&gt;</th></tr>\n",
       "</thead>\n",
       "<tbody>\n",
       "\t<tr><td>Norway                  </td><td>Europe  </td><td>1967</td><td>74.080</td><td>3786019</td><td>16361.8765</td></tr>\n",
       "\t<tr><td>Central African Republic</td><td>Africa  </td><td>2002</td><td>43.308</td><td>4048013</td><td>  738.6906</td></tr>\n",
       "\t<tr><td>Uruguay                 </td><td>Americas</td><td>2007</td><td>76.384</td><td>3447496</td><td>10611.4630</td></tr>\n",
       "\t<tr><td>Togo                    </td><td>Africa  </td><td>1997</td><td>58.390</td><td>4320890</td><td>  982.2869</td></tr>\n",
       "\t<tr><td>Paraguay                </td><td>Americas</td><td>2002</td><td>70.755</td><td>5884491</td><td> 3783.6742</td></tr>\n",
       "</tbody>\n",
       "</table>\n"
      ],
      "text/latex": [
       "A tibble: 5 × 6\n",
       "\\begin{tabular}{llllll}\n",
       " country & continent & year & lifeExp & pop & gdpPercap\\\\\n",
       " <fct> & <fct> & <int> & <dbl> & <int> & <dbl>\\\\\n",
       "\\hline\n",
       "\t Norway                   & Europe   & 1967 & 74.080 & 3786019 & 16361.8765\\\\\n",
       "\t Central African Republic & Africa   & 2002 & 43.308 & 4048013 &   738.6906\\\\\n",
       "\t Uruguay                  & Americas & 2007 & 76.384 & 3447496 & 10611.4630\\\\\n",
       "\t Togo                     & Africa   & 1997 & 58.390 & 4320890 &   982.2869\\\\\n",
       "\t Paraguay                 & Americas & 2002 & 70.755 & 5884491 &  3783.6742\\\\\n",
       "\\end{tabular}\n"
      ],
      "text/markdown": [
       "\n",
       "A tibble: 5 × 6\n",
       "\n",
       "| country &lt;fct&gt; | continent &lt;fct&gt; | year &lt;int&gt; | lifeExp &lt;dbl&gt; | pop &lt;int&gt; | gdpPercap &lt;dbl&gt; |\n",
       "|---|---|---|---|---|---|\n",
       "| Norway                   | Europe   | 1967 | 74.080 | 3786019 | 16361.8765 |\n",
       "| Central African Republic | Africa   | 2002 | 43.308 | 4048013 |   738.6906 |\n",
       "| Uruguay                  | Americas | 2007 | 76.384 | 3447496 | 10611.4630 |\n",
       "| Togo                     | Africa   | 1997 | 58.390 | 4320890 |   982.2869 |\n",
       "| Paraguay                 | Americas | 2002 | 70.755 | 5884491 |  3783.6742 |\n",
       "\n"
      ],
      "text/plain": [
       "  country                  continent year lifeExp pop     gdpPercap \n",
       "1 Norway                   Europe    1967 74.080  3786019 16361.8765\n",
       "2 Central African Republic Africa    2002 43.308  4048013   738.6906\n",
       "3 Uruguay                  Americas  2007 76.384  3447496 10611.4630\n",
       "4 Togo                     Africa    1997 58.390  4320890   982.2869\n",
       "5 Paraguay                 Americas  2002 70.755  5884491  3783.6742"
      ]
     },
     "metadata": {},
     "output_type": "display_data"
    }
   ],
   "source": [
    "gapminder |> sample_n(5)"
   ]
  },
  {
   "cell_type": "markdown",
   "id": "f956316e",
   "metadata": {},
   "source": [
    "If you want make `pseudo-random generation` reprodusable use `set.seed()`. Seed is start point of random generation. Different seeds give different output."
   ]
  },
  {
   "cell_type": "code",
   "execution_count": 32,
   "id": "a99842ab",
   "metadata": {
    "vscode": {
     "languageId": "r"
    }
   },
   "outputs": [],
   "source": [
    "set.seed(2023) # example, seed = 2023"
   ]
  },
  {
   "cell_type": "markdown",
   "id": "7808b67f",
   "metadata": {},
   "source": [
    "The `sample_frac()` function selects random fraction rows from a data frame.\n",
    "Let's select $1\\%$ of data"
   ]
  },
  {
   "cell_type": "code",
   "execution_count": 34,
   "id": "7cc90832",
   "metadata": {
    "vscode": {
     "languageId": "r"
    }
   },
   "outputs": [
    {
     "data": {
      "text/html": [
       "<table class=\"dataframe\">\n",
       "<caption>A tibble: 170 × 6</caption>\n",
       "<thead>\n",
       "\t<tr><th scope=col>country</th><th scope=col>continent</th><th scope=col>year</th><th scope=col>lifeExp</th><th scope=col>pop</th><th scope=col>gdpPercap</th></tr>\n",
       "\t<tr><th scope=col>&lt;fct&gt;</th><th scope=col>&lt;fct&gt;</th><th scope=col>&lt;int&gt;</th><th scope=col>&lt;dbl&gt;</th><th scope=col>&lt;int&gt;</th><th scope=col>&lt;dbl&gt;</th></tr>\n",
       "</thead>\n",
       "<tbody>\n",
       "\t<tr><td>Switzerland          </td><td>Europe  </td><td>2007</td><td>81.701</td><td> 7554661</td><td> 37506.4191</td></tr>\n",
       "\t<tr><td>Djibouti             </td><td>Africa  </td><td>2002</td><td>53.373</td><td>  447416</td><td>  1908.2609</td></tr>\n",
       "\t<tr><td>Slovenia             </td><td>Europe  </td><td>1972</td><td>69.820</td><td> 1694510</td><td> 12383.4862</td></tr>\n",
       "\t<tr><td>Sao Tome and Principe</td><td>Africa  </td><td>1997</td><td>63.306</td><td>  145608</td><td>  1339.0760</td></tr>\n",
       "\t<tr><td>Turkey               </td><td>Europe  </td><td>1987</td><td>63.108</td><td>52881328</td><td>  5089.0437</td></tr>\n",
       "\t<tr><td>Lebanon              </td><td>Asia    </td><td>1957</td><td>59.489</td><td> 1647412</td><td>  6089.7869</td></tr>\n",
       "\t<tr><td>Eritrea              </td><td>Africa  </td><td>1972</td><td>44.142</td><td> 2260187</td><td>   514.3242</td></tr>\n",
       "\t<tr><td>Philippines          </td><td>Asia    </td><td>1972</td><td>58.065</td><td>40850141</td><td>  1989.3741</td></tr>\n",
       "\t<tr><td>Tunisia              </td><td>Africa  </td><td>1972</td><td>55.602</td><td> 5303507</td><td>  2753.2860</td></tr>\n",
       "\t<tr><td>Uganda               </td><td>Africa  </td><td>1952</td><td>39.978</td><td> 5824797</td><td>   734.7535</td></tr>\n",
       "\t<tr><td>Oman                 </td><td>Asia    </td><td>1972</td><td>52.143</td><td>  829050</td><td> 10618.0385</td></tr>\n",
       "\t<tr><td>Australia            </td><td>Oceania </td><td>2007</td><td>81.235</td><td>20434176</td><td> 34435.3674</td></tr>\n",
       "\t<tr><td>Mali                 </td><td>Africa  </td><td>2002</td><td>51.818</td><td>10580176</td><td>   951.4098</td></tr>\n",
       "\t<tr><td>Equatorial Guinea    </td><td>Africa  </td><td>1957</td><td>35.983</td><td>  232922</td><td>   426.0964</td></tr>\n",
       "\t<tr><td>South Africa         </td><td>Africa  </td><td>1982</td><td>58.161</td><td>31140029</td><td>  8568.2662</td></tr>\n",
       "\t<tr><td>Burundi              </td><td>Africa  </td><td>1962</td><td>42.045</td><td> 2961915</td><td>   355.2032</td></tr>\n",
       "\t<tr><td>Angola               </td><td>Africa  </td><td>1992</td><td>40.647</td><td> 8735988</td><td>  2627.8457</td></tr>\n",
       "\t<tr><td>Yemen, Rep.          </td><td>Asia    </td><td>1952</td><td>32.548</td><td> 4963829</td><td>   781.7176</td></tr>\n",
       "\t<tr><td>Croatia              </td><td>Europe  </td><td>2007</td><td>75.748</td><td> 4493312</td><td> 14619.2227</td></tr>\n",
       "\t<tr><td>Oman                 </td><td>Asia    </td><td>1992</td><td>71.197</td><td> 1915208</td><td> 18616.7069</td></tr>\n",
       "\t<tr><td>Thailand             </td><td>Asia    </td><td>1962</td><td>56.061</td><td>29263397</td><td>  1002.1992</td></tr>\n",
       "\t<tr><td>Comoros              </td><td>Africa  </td><td>1952</td><td>40.715</td><td>  153936</td><td>  1102.9909</td></tr>\n",
       "\t<tr><td>Eritrea              </td><td>Africa  </td><td>1957</td><td>38.047</td><td> 1542611</td><td>   344.1619</td></tr>\n",
       "\t<tr><td>Zambia               </td><td>Africa  </td><td>2002</td><td>39.193</td><td>10595811</td><td>  1071.6139</td></tr>\n",
       "\t<tr><td>Cote d'Ivoire        </td><td>Africa  </td><td>1987</td><td>54.655</td><td>10761098</td><td>  2156.9561</td></tr>\n",
       "\t<tr><td>South Africa         </td><td>Africa  </td><td>1957</td><td>47.985</td><td>16151549</td><td>  5487.1042</td></tr>\n",
       "\t<tr><td>Paraguay             </td><td>Americas</td><td>1957</td><td>63.196</td><td> 1770902</td><td>  2046.1547</td></tr>\n",
       "\t<tr><td>Kuwait               </td><td>Asia    </td><td>1952</td><td>55.565</td><td>  160000</td><td>108382.3529</td></tr>\n",
       "\t<tr><td>Brazil               </td><td>Americas</td><td>1952</td><td>50.917</td><td>56602560</td><td>  2108.9444</td></tr>\n",
       "\t<tr><td>Canada               </td><td>Americas</td><td>1957</td><td>69.960</td><td>17010154</td><td> 12489.9501</td></tr>\n",
       "\t<tr><td>⋮</td><td>⋮</td><td>⋮</td><td>⋮</td><td>⋮</td><td>⋮</td></tr>\n",
       "\t<tr><td>Swaziland            </td><td>Africa  </td><td>1997</td><td>54.289</td><td> 1054486</td><td> 3876.7685</td></tr>\n",
       "\t<tr><td>Myanmar              </td><td>Asia    </td><td>2002</td><td>59.908</td><td>45598081</td><td>  611.0000</td></tr>\n",
       "\t<tr><td>Sao Tome and Principe</td><td>Africa  </td><td>1987</td><td>61.728</td><td>  110812</td><td> 1516.5255</td></tr>\n",
       "\t<tr><td>Ghana                </td><td>Africa  </td><td>1977</td><td>51.756</td><td>10538093</td><td>  993.2240</td></tr>\n",
       "\t<tr><td>Guinea-Bissau        </td><td>Africa  </td><td>1997</td><td>44.873</td><td> 1193708</td><td>  796.6645</td></tr>\n",
       "\t<tr><td>Guinea               </td><td>Africa  </td><td>1992</td><td>48.576</td><td> 6990574</td><td>  794.3484</td></tr>\n",
       "\t<tr><td>Haiti                </td><td>Americas</td><td>1957</td><td>40.696</td><td> 3507701</td><td> 1726.8879</td></tr>\n",
       "\t<tr><td>Sao Tome and Principe</td><td>Africa  </td><td>2007</td><td>65.528</td><td>  199579</td><td> 1598.4351</td></tr>\n",
       "\t<tr><td>Comoros              </td><td>Africa  </td><td>1997</td><td>60.660</td><td>  527982</td><td> 1173.6182</td></tr>\n",
       "\t<tr><td>Equatorial Guinea    </td><td>Africa  </td><td>1972</td><td>40.516</td><td>  277603</td><td>  672.4123</td></tr>\n",
       "\t<tr><td>Oman                 </td><td>Asia    </td><td>1982</td><td>62.728</td><td> 1301048</td><td>12954.7910</td></tr>\n",
       "\t<tr><td>Namibia              </td><td>Africa  </td><td>1977</td><td>56.437</td><td>  977026</td><td> 3876.4860</td></tr>\n",
       "\t<tr><td>Congo, Dem. Rep.     </td><td>Africa  </td><td>1952</td><td>39.143</td><td>14100005</td><td>  780.5423</td></tr>\n",
       "\t<tr><td>Hong Kong, China     </td><td>Asia    </td><td>1977</td><td>73.600</td><td> 4583700</td><td>11186.1413</td></tr>\n",
       "\t<tr><td>Bolivia              </td><td>Americas</td><td>1997</td><td>62.050</td><td> 7693188</td><td> 3326.1432</td></tr>\n",
       "\t<tr><td>Panama               </td><td>Americas</td><td>2002</td><td>74.712</td><td> 2990875</td><td> 7356.0319</td></tr>\n",
       "\t<tr><td>Nigeria              </td><td>Africa  </td><td>1952</td><td>36.324</td><td>33119096</td><td> 1077.2819</td></tr>\n",
       "\t<tr><td>Malaysia             </td><td>Asia    </td><td>2007</td><td>74.241</td><td>24821286</td><td>12451.6558</td></tr>\n",
       "\t<tr><td>Japan                </td><td>Asia    </td><td>1952</td><td>63.030</td><td>86459025</td><td> 3216.9563</td></tr>\n",
       "\t<tr><td>Albania              </td><td>Europe  </td><td>1967</td><td>66.220</td><td> 1984060</td><td> 2760.1969</td></tr>\n",
       "\t<tr><td>Portugal             </td><td>Europe  </td><td>1997</td><td>75.970</td><td>10156415</td><td>17641.0316</td></tr>\n",
       "\t<tr><td>Uruguay              </td><td>Americas</td><td>1952</td><td>66.071</td><td> 2252965</td><td> 5716.7667</td></tr>\n",
       "\t<tr><td>Afghanistan          </td><td>Asia    </td><td>1972</td><td>36.088</td><td>13079460</td><td>  739.9811</td></tr>\n",
       "\t<tr><td>Syria                </td><td>Asia    </td><td>1987</td><td>66.974</td><td>11242847</td><td> 3116.7743</td></tr>\n",
       "\t<tr><td>Libya                </td><td>Africa  </td><td>2002</td><td>72.737</td><td> 5368585</td><td> 9534.6775</td></tr>\n",
       "\t<tr><td>Mauritania           </td><td>Africa  </td><td>1962</td><td>44.248</td><td> 1146757</td><td> 1055.8960</td></tr>\n",
       "\t<tr><td>Trinidad and Tobago  </td><td>Americas</td><td>1992</td><td>69.862</td><td> 1183669</td><td> 7370.9909</td></tr>\n",
       "\t<tr><td>Netherlands          </td><td>Europe  </td><td>1962</td><td>73.230</td><td>11805689</td><td>12790.8496</td></tr>\n",
       "\t<tr><td>Reunion              </td><td>Africa  </td><td>2007</td><td>76.442</td><td>  798094</td><td> 7670.1226</td></tr>\n",
       "\t<tr><td>Honduras             </td><td>Americas</td><td>1957</td><td>44.665</td><td> 1770390</td><td> 2220.4877</td></tr>\n",
       "</tbody>\n",
       "</table>\n"
      ],
      "text/latex": [
       "A tibble: 170 × 6\n",
       "\\begin{tabular}{llllll}\n",
       " country & continent & year & lifeExp & pop & gdpPercap\\\\\n",
       " <fct> & <fct> & <int> & <dbl> & <int> & <dbl>\\\\\n",
       "\\hline\n",
       "\t Switzerland           & Europe   & 2007 & 81.701 &  7554661 &  37506.4191\\\\\n",
       "\t Djibouti              & Africa   & 2002 & 53.373 &   447416 &   1908.2609\\\\\n",
       "\t Slovenia              & Europe   & 1972 & 69.820 &  1694510 &  12383.4862\\\\\n",
       "\t Sao Tome and Principe & Africa   & 1997 & 63.306 &   145608 &   1339.0760\\\\\n",
       "\t Turkey                & Europe   & 1987 & 63.108 & 52881328 &   5089.0437\\\\\n",
       "\t Lebanon               & Asia     & 1957 & 59.489 &  1647412 &   6089.7869\\\\\n",
       "\t Eritrea               & Africa   & 1972 & 44.142 &  2260187 &    514.3242\\\\\n",
       "\t Philippines           & Asia     & 1972 & 58.065 & 40850141 &   1989.3741\\\\\n",
       "\t Tunisia               & Africa   & 1972 & 55.602 &  5303507 &   2753.2860\\\\\n",
       "\t Uganda                & Africa   & 1952 & 39.978 &  5824797 &    734.7535\\\\\n",
       "\t Oman                  & Asia     & 1972 & 52.143 &   829050 &  10618.0385\\\\\n",
       "\t Australia             & Oceania  & 2007 & 81.235 & 20434176 &  34435.3674\\\\\n",
       "\t Mali                  & Africa   & 2002 & 51.818 & 10580176 &    951.4098\\\\\n",
       "\t Equatorial Guinea     & Africa   & 1957 & 35.983 &   232922 &    426.0964\\\\\n",
       "\t South Africa          & Africa   & 1982 & 58.161 & 31140029 &   8568.2662\\\\\n",
       "\t Burundi               & Africa   & 1962 & 42.045 &  2961915 &    355.2032\\\\\n",
       "\t Angola                & Africa   & 1992 & 40.647 &  8735988 &   2627.8457\\\\\n",
       "\t Yemen, Rep.           & Asia     & 1952 & 32.548 &  4963829 &    781.7176\\\\\n",
       "\t Croatia               & Europe   & 2007 & 75.748 &  4493312 &  14619.2227\\\\\n",
       "\t Oman                  & Asia     & 1992 & 71.197 &  1915208 &  18616.7069\\\\\n",
       "\t Thailand              & Asia     & 1962 & 56.061 & 29263397 &   1002.1992\\\\\n",
       "\t Comoros               & Africa   & 1952 & 40.715 &   153936 &   1102.9909\\\\\n",
       "\t Eritrea               & Africa   & 1957 & 38.047 &  1542611 &    344.1619\\\\\n",
       "\t Zambia                & Africa   & 2002 & 39.193 & 10595811 &   1071.6139\\\\\n",
       "\t Cote d'Ivoire         & Africa   & 1987 & 54.655 & 10761098 &   2156.9561\\\\\n",
       "\t South Africa          & Africa   & 1957 & 47.985 & 16151549 &   5487.1042\\\\\n",
       "\t Paraguay              & Americas & 1957 & 63.196 &  1770902 &   2046.1547\\\\\n",
       "\t Kuwait                & Asia     & 1952 & 55.565 &   160000 & 108382.3529\\\\\n",
       "\t Brazil                & Americas & 1952 & 50.917 & 56602560 &   2108.9444\\\\\n",
       "\t Canada                & Americas & 1957 & 69.960 & 17010154 &  12489.9501\\\\\n",
       "\t ⋮ & ⋮ & ⋮ & ⋮ & ⋮ & ⋮\\\\\n",
       "\t Swaziland             & Africa   & 1997 & 54.289 &  1054486 &  3876.7685\\\\\n",
       "\t Myanmar               & Asia     & 2002 & 59.908 & 45598081 &   611.0000\\\\\n",
       "\t Sao Tome and Principe & Africa   & 1987 & 61.728 &   110812 &  1516.5255\\\\\n",
       "\t Ghana                 & Africa   & 1977 & 51.756 & 10538093 &   993.2240\\\\\n",
       "\t Guinea-Bissau         & Africa   & 1997 & 44.873 &  1193708 &   796.6645\\\\\n",
       "\t Guinea                & Africa   & 1992 & 48.576 &  6990574 &   794.3484\\\\\n",
       "\t Haiti                 & Americas & 1957 & 40.696 &  3507701 &  1726.8879\\\\\n",
       "\t Sao Tome and Principe & Africa   & 2007 & 65.528 &   199579 &  1598.4351\\\\\n",
       "\t Comoros               & Africa   & 1997 & 60.660 &   527982 &  1173.6182\\\\\n",
       "\t Equatorial Guinea     & Africa   & 1972 & 40.516 &   277603 &   672.4123\\\\\n",
       "\t Oman                  & Asia     & 1982 & 62.728 &  1301048 & 12954.7910\\\\\n",
       "\t Namibia               & Africa   & 1977 & 56.437 &   977026 &  3876.4860\\\\\n",
       "\t Congo, Dem. Rep.      & Africa   & 1952 & 39.143 & 14100005 &   780.5423\\\\\n",
       "\t Hong Kong, China      & Asia     & 1977 & 73.600 &  4583700 & 11186.1413\\\\\n",
       "\t Bolivia               & Americas & 1997 & 62.050 &  7693188 &  3326.1432\\\\\n",
       "\t Panama                & Americas & 2002 & 74.712 &  2990875 &  7356.0319\\\\\n",
       "\t Nigeria               & Africa   & 1952 & 36.324 & 33119096 &  1077.2819\\\\\n",
       "\t Malaysia              & Asia     & 2007 & 74.241 & 24821286 & 12451.6558\\\\\n",
       "\t Japan                 & Asia     & 1952 & 63.030 & 86459025 &  3216.9563\\\\\n",
       "\t Albania               & Europe   & 1967 & 66.220 &  1984060 &  2760.1969\\\\\n",
       "\t Portugal              & Europe   & 1997 & 75.970 & 10156415 & 17641.0316\\\\\n",
       "\t Uruguay               & Americas & 1952 & 66.071 &  2252965 &  5716.7667\\\\\n",
       "\t Afghanistan           & Asia     & 1972 & 36.088 & 13079460 &   739.9811\\\\\n",
       "\t Syria                 & Asia     & 1987 & 66.974 & 11242847 &  3116.7743\\\\\n",
       "\t Libya                 & Africa   & 2002 & 72.737 &  5368585 &  9534.6775\\\\\n",
       "\t Mauritania            & Africa   & 1962 & 44.248 &  1146757 &  1055.8960\\\\\n",
       "\t Trinidad and Tobago   & Americas & 1992 & 69.862 &  1183669 &  7370.9909\\\\\n",
       "\t Netherlands           & Europe   & 1962 & 73.230 & 11805689 & 12790.8496\\\\\n",
       "\t Reunion               & Africa   & 2007 & 76.442 &   798094 &  7670.1226\\\\\n",
       "\t Honduras              & Americas & 1957 & 44.665 &  1770390 &  2220.4877\\\\\n",
       "\\end{tabular}\n"
      ],
      "text/markdown": [
       "\n",
       "A tibble: 170 × 6\n",
       "\n",
       "| country &lt;fct&gt; | continent &lt;fct&gt; | year &lt;int&gt; | lifeExp &lt;dbl&gt; | pop &lt;int&gt; | gdpPercap &lt;dbl&gt; |\n",
       "|---|---|---|---|---|---|\n",
       "| Switzerland           | Europe   | 2007 | 81.701 |  7554661 |  37506.4191 |\n",
       "| Djibouti              | Africa   | 2002 | 53.373 |   447416 |   1908.2609 |\n",
       "| Slovenia              | Europe   | 1972 | 69.820 |  1694510 |  12383.4862 |\n",
       "| Sao Tome and Principe | Africa   | 1997 | 63.306 |   145608 |   1339.0760 |\n",
       "| Turkey                | Europe   | 1987 | 63.108 | 52881328 |   5089.0437 |\n",
       "| Lebanon               | Asia     | 1957 | 59.489 |  1647412 |   6089.7869 |\n",
       "| Eritrea               | Africa   | 1972 | 44.142 |  2260187 |    514.3242 |\n",
       "| Philippines           | Asia     | 1972 | 58.065 | 40850141 |   1989.3741 |\n",
       "| Tunisia               | Africa   | 1972 | 55.602 |  5303507 |   2753.2860 |\n",
       "| Uganda                | Africa   | 1952 | 39.978 |  5824797 |    734.7535 |\n",
       "| Oman                  | Asia     | 1972 | 52.143 |   829050 |  10618.0385 |\n",
       "| Australia             | Oceania  | 2007 | 81.235 | 20434176 |  34435.3674 |\n",
       "| Mali                  | Africa   | 2002 | 51.818 | 10580176 |    951.4098 |\n",
       "| Equatorial Guinea     | Africa   | 1957 | 35.983 |   232922 |    426.0964 |\n",
       "| South Africa          | Africa   | 1982 | 58.161 | 31140029 |   8568.2662 |\n",
       "| Burundi               | Africa   | 1962 | 42.045 |  2961915 |    355.2032 |\n",
       "| Angola                | Africa   | 1992 | 40.647 |  8735988 |   2627.8457 |\n",
       "| Yemen, Rep.           | Asia     | 1952 | 32.548 |  4963829 |    781.7176 |\n",
       "| Croatia               | Europe   | 2007 | 75.748 |  4493312 |  14619.2227 |\n",
       "| Oman                  | Asia     | 1992 | 71.197 |  1915208 |  18616.7069 |\n",
       "| Thailand              | Asia     | 1962 | 56.061 | 29263397 |   1002.1992 |\n",
       "| Comoros               | Africa   | 1952 | 40.715 |   153936 |   1102.9909 |\n",
       "| Eritrea               | Africa   | 1957 | 38.047 |  1542611 |    344.1619 |\n",
       "| Zambia                | Africa   | 2002 | 39.193 | 10595811 |   1071.6139 |\n",
       "| Cote d'Ivoire         | Africa   | 1987 | 54.655 | 10761098 |   2156.9561 |\n",
       "| South Africa          | Africa   | 1957 | 47.985 | 16151549 |   5487.1042 |\n",
       "| Paraguay              | Americas | 1957 | 63.196 |  1770902 |   2046.1547 |\n",
       "| Kuwait                | Asia     | 1952 | 55.565 |   160000 | 108382.3529 |\n",
       "| Brazil                | Americas | 1952 | 50.917 | 56602560 |   2108.9444 |\n",
       "| Canada                | Americas | 1957 | 69.960 | 17010154 |  12489.9501 |\n",
       "| ⋮ | ⋮ | ⋮ | ⋮ | ⋮ | ⋮ |\n",
       "| Swaziland             | Africa   | 1997 | 54.289 |  1054486 |  3876.7685 |\n",
       "| Myanmar               | Asia     | 2002 | 59.908 | 45598081 |   611.0000 |\n",
       "| Sao Tome and Principe | Africa   | 1987 | 61.728 |   110812 |  1516.5255 |\n",
       "| Ghana                 | Africa   | 1977 | 51.756 | 10538093 |   993.2240 |\n",
       "| Guinea-Bissau         | Africa   | 1997 | 44.873 |  1193708 |   796.6645 |\n",
       "| Guinea                | Africa   | 1992 | 48.576 |  6990574 |   794.3484 |\n",
       "| Haiti                 | Americas | 1957 | 40.696 |  3507701 |  1726.8879 |\n",
       "| Sao Tome and Principe | Africa   | 2007 | 65.528 |   199579 |  1598.4351 |\n",
       "| Comoros               | Africa   | 1997 | 60.660 |   527982 |  1173.6182 |\n",
       "| Equatorial Guinea     | Africa   | 1972 | 40.516 |   277603 |   672.4123 |\n",
       "| Oman                  | Asia     | 1982 | 62.728 |  1301048 | 12954.7910 |\n",
       "| Namibia               | Africa   | 1977 | 56.437 |   977026 |  3876.4860 |\n",
       "| Congo, Dem. Rep.      | Africa   | 1952 | 39.143 | 14100005 |   780.5423 |\n",
       "| Hong Kong, China      | Asia     | 1977 | 73.600 |  4583700 | 11186.1413 |\n",
       "| Bolivia               | Americas | 1997 | 62.050 |  7693188 |  3326.1432 |\n",
       "| Panama                | Americas | 2002 | 74.712 |  2990875 |  7356.0319 |\n",
       "| Nigeria               | Africa   | 1952 | 36.324 | 33119096 |  1077.2819 |\n",
       "| Malaysia              | Asia     | 2007 | 74.241 | 24821286 | 12451.6558 |\n",
       "| Japan                 | Asia     | 1952 | 63.030 | 86459025 |  3216.9563 |\n",
       "| Albania               | Europe   | 1967 | 66.220 |  1984060 |  2760.1969 |\n",
       "| Portugal              | Europe   | 1997 | 75.970 | 10156415 | 17641.0316 |\n",
       "| Uruguay               | Americas | 1952 | 66.071 |  2252965 |  5716.7667 |\n",
       "| Afghanistan           | Asia     | 1972 | 36.088 | 13079460 |   739.9811 |\n",
       "| Syria                 | Asia     | 1987 | 66.974 | 11242847 |  3116.7743 |\n",
       "| Libya                 | Africa   | 2002 | 72.737 |  5368585 |  9534.6775 |\n",
       "| Mauritania            | Africa   | 1962 | 44.248 |  1146757 |  1055.8960 |\n",
       "| Trinidad and Tobago   | Americas | 1992 | 69.862 |  1183669 |  7370.9909 |\n",
       "| Netherlands           | Europe   | 1962 | 73.230 | 11805689 | 12790.8496 |\n",
       "| Reunion               | Africa   | 2007 | 76.442 |   798094 |  7670.1226 |\n",
       "| Honduras              | Americas | 1957 | 44.665 |  1770390 |  2220.4877 |\n",
       "\n"
      ],
      "text/plain": [
       "    country               continent year lifeExp pop      gdpPercap  \n",
       "1   Switzerland           Europe    2007 81.701   7554661  37506.4191\n",
       "2   Djibouti              Africa    2002 53.373    447416   1908.2609\n",
       "3   Slovenia              Europe    1972 69.820   1694510  12383.4862\n",
       "4   Sao Tome and Principe Africa    1997 63.306    145608   1339.0760\n",
       "5   Turkey                Europe    1987 63.108  52881328   5089.0437\n",
       "6   Lebanon               Asia      1957 59.489   1647412   6089.7869\n",
       "7   Eritrea               Africa    1972 44.142   2260187    514.3242\n",
       "8   Philippines           Asia      1972 58.065  40850141   1989.3741\n",
       "9   Tunisia               Africa    1972 55.602   5303507   2753.2860\n",
       "10  Uganda                Africa    1952 39.978   5824797    734.7535\n",
       "11  Oman                  Asia      1972 52.143    829050  10618.0385\n",
       "12  Australia             Oceania   2007 81.235  20434176  34435.3674\n",
       "13  Mali                  Africa    2002 51.818  10580176    951.4098\n",
       "14  Equatorial Guinea     Africa    1957 35.983    232922    426.0964\n",
       "15  South Africa          Africa    1982 58.161  31140029   8568.2662\n",
       "16  Burundi               Africa    1962 42.045   2961915    355.2032\n",
       "17  Angola                Africa    1992 40.647   8735988   2627.8457\n",
       "18  Yemen, Rep.           Asia      1952 32.548   4963829    781.7176\n",
       "19  Croatia               Europe    2007 75.748   4493312  14619.2227\n",
       "20  Oman                  Asia      1992 71.197   1915208  18616.7069\n",
       "21  Thailand              Asia      1962 56.061  29263397   1002.1992\n",
       "22  Comoros               Africa    1952 40.715    153936   1102.9909\n",
       "23  Eritrea               Africa    1957 38.047   1542611    344.1619\n",
       "24  Zambia                Africa    2002 39.193  10595811   1071.6139\n",
       "25  Cote d'Ivoire         Africa    1987 54.655  10761098   2156.9561\n",
       "26  South Africa          Africa    1957 47.985  16151549   5487.1042\n",
       "27  Paraguay              Americas  1957 63.196   1770902   2046.1547\n",
       "28  Kuwait                Asia      1952 55.565    160000 108382.3529\n",
       "29  Brazil                Americas  1952 50.917  56602560   2108.9444\n",
       "30  Canada                Americas  1957 69.960  17010154  12489.9501\n",
       "<U+22EE>   <U+22EE>              <U+22EE>  <U+22EE> <U+22EE> <U+22EE> <U+22EE>   \n",
       "141 Swaziland             Africa    1997 54.289   1054486  3876.7685 \n",
       "142 Myanmar               Asia      2002 59.908  45598081   611.0000 \n",
       "143 Sao Tome and Principe Africa    1987 61.728    110812  1516.5255 \n",
       "144 Ghana                 Africa    1977 51.756  10538093   993.2240 \n",
       "145 Guinea-Bissau         Africa    1997 44.873   1193708   796.6645 \n",
       "146 Guinea                Africa    1992 48.576   6990574   794.3484 \n",
       "147 Haiti                 Americas  1957 40.696   3507701  1726.8879 \n",
       "148 Sao Tome and Principe Africa    2007 65.528    199579  1598.4351 \n",
       "149 Comoros               Africa    1997 60.660    527982  1173.6182 \n",
       "150 Equatorial Guinea     Africa    1972 40.516    277603   672.4123 \n",
       "151 Oman                  Asia      1982 62.728   1301048 12954.7910 \n",
       "152 Namibia               Africa    1977 56.437    977026  3876.4860 \n",
       "153 Congo, Dem. Rep.      Africa    1952 39.143  14100005   780.5423 \n",
       "154 Hong Kong, China      Asia      1977 73.600   4583700 11186.1413 \n",
       "155 Bolivia               Americas  1997 62.050   7693188  3326.1432 \n",
       "156 Panama                Americas  2002 74.712   2990875  7356.0319 \n",
       "157 Nigeria               Africa    1952 36.324  33119096  1077.2819 \n",
       "158 Malaysia              Asia      2007 74.241  24821286 12451.6558 \n",
       "159 Japan                 Asia      1952 63.030  86459025  3216.9563 \n",
       "160 Albania               Europe    1967 66.220   1984060  2760.1969 \n",
       "161 Portugal              Europe    1997 75.970  10156415 17641.0316 \n",
       "162 Uruguay               Americas  1952 66.071   2252965  5716.7667 \n",
       "163 Afghanistan           Asia      1972 36.088  13079460   739.9811 \n",
       "164 Syria                 Asia      1987 66.974  11242847  3116.7743 \n",
       "165 Libya                 Africa    2002 72.737   5368585  9534.6775 \n",
       "166 Mauritania            Africa    1962 44.248   1146757  1055.8960 \n",
       "167 Trinidad and Tobago   Americas  1992 69.862   1183669  7370.9909 \n",
       "168 Netherlands           Europe    1962 73.230  11805689 12790.8496 \n",
       "169 Reunion               Africa    2007 76.442    798094  7670.1226 \n",
       "170 Honduras              Americas  1957 44.665   1770390  2220.4877 "
      ]
     },
     "metadata": {},
     "output_type": "display_data"
    }
   ],
   "source": [
    "set.seed(2023) # output not changing, uncomment it \n",
    "gapminder %>% sample_frac(0.1)"
   ]
  },
  {
   "cell_type": "markdown",
   "id": "2dedf36a-acbd-44e0-b7a4-dce7e3a3d6a4",
   "metadata": {},
   "source": [
    "---"
   ]
  },
  {
   "cell_type": "markdown",
   "id": "9592bda1",
   "metadata": {},
   "source": [
    "## Refences"
   ]
  },
  {
   "cell_type": "markdown",
   "id": "ae226f5e",
   "metadata": {},
   "source": [
    "1. [dplyr: A Grammar of Data Manipulation](https://cran.r-project.org/web/packages/dplyr/index.html) on https://cran.r-project.org/.\n",
    "2. [Data Transformation with splyr::cheat sheet](https://github.com/rstudio/cheatsheets/blob/master/data-transformation.pdf).\n",
    "3. [DPLYR TUTORIAL : DATA MANIPULATION (50 EXAMPLES)](https://www.listendata.com/2016/08/dplyr-tutorial.html) by Deepanshu Bhalla.\n",
    "5. [Dplyr Intro](https://stat545.com/dplyr-intro.html) by Stat 545.\n",
    "6.[R Dplyr Tutorial: Data Manipulation(Join) & Cleaning(Spread)](https://www.guru99.com/r-dplyr-tutorial.html). Introduction to Data Analysis\n",
    "7. [Loan Default Prediction. Beginners data set for financial analytics Kaggle](https://www.kaggle.com/kmldas/loan-default-prediction)"
   ]
  }
 ],
 "metadata": {
  "kernelspec": {
   "display_name": "R",
   "language": "R",
   "name": "ir"
  },
  "language_info": {
   "codemirror_mode": "r",
   "file_extension": ".r",
   "mimetype": "text/x-r-source",
   "name": "R",
   "pygments_lexer": "r",
   "version": "4.1.3"
  }
 },
 "nbformat": 4,
 "nbformat_minor": 5
}
