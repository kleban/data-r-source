{
 "cells": [
  {
   "cell_type": "markdown",
   "id": "98a5853a-1190-4fac-8cd4-5da1462c2e88",
   "metadata": {},
   "source": [
    "---\n",
    "\n",
    "author: Юрій Клебан\n",
    "\n",
    "---"
   ]
  },
  {
   "cell_type": "markdown",
   "id": "45318bbc",
   "metadata": {},
   "source": [
    "# `Join()`-ing data"
   ]
  },
  {
   "cell_type": "markdown",
   "id": "4c63f4e2-5c06-4962-9b8c-b6dbb6c3c8f6",
   "metadata": {},
   "source": [
    "Before start load packages"
   ]
  },
  {
   "cell_type": "code",
   "execution_count": 2,
   "id": "4c9a28ab-9102-4b94-96eb-cd2543ebf4d9",
   "metadata": {},
   "outputs": [],
   "source": [
    "library(dplyr) # for demos\n",
    "#install.packages(\"gapminder\")\n",
    "library(gapminder)  # load package and dataset"
   ]
  },
  {
   "cell_type": "markdown",
   "id": "60f5798d-f7fb-4353-8282-dfa210a7525e",
   "metadata": {},
   "source": [
    "## Join types"
   ]
  },
  {
   "cell_type": "markdown",
   "id": "11eb3392-f26c-4b48-9bf1-9a15d1297916",
   "metadata": {},
   "source": [
    "Lets check join operations as set opretations"
   ]
  },
  {
   "cell_type": "markdown",
   "id": "2f956fc5-385f-453e-9a53-df58a9dd4ffc",
   "metadata": {},
   "source": [
    "![](img/da-dplyr/Joins_Diagram.png)"
   ]
  },
  {
   "cell_type": "markdown",
   "id": "7b9d4295-472c-4a20-a377-f7705ba55f23",
   "metadata": {},
   "source": [
    "Joins on table are look like this:"
   ]
  },
  {
   "cell_type": "markdown",
   "id": "8d15b150-4cc4-413c-9ac6-69dc1ecc4be3",
   "metadata": {},
   "source": [
    "![](img/da-dplyr/sqljoin1.jpg)"
   ]
  },
  {
   "cell_type": "markdown",
   "id": "bbf03df2-2b16-41e2-9f0f-0d2f0c6ff5f2",
   "metadata": {},
   "source": [
    "---"
   ]
  },
  {
   "cell_type": "markdown",
   "id": "bfe77a4a-6db9-497c-b4e1-d665d6572586",
   "metadata": {},
   "source": [
    "![](img/da-dplyr/sqljoin2.jpg)"
   ]
  },
  {
   "cell_type": "markdown",
   "id": "3980c255-c7c3-4f4e-a4d7-889b9b5e1d26",
   "metadata": {},
   "source": [
    "---"
   ]
  },
  {
   "cell_type": "markdown",
   "id": "8bc6abc5-cf4a-4978-bd94-84737de4d8e2",
   "metadata": {},
   "source": [
    "![](img/da-dplyr/sqljoin3.png)"
   ]
  },
  {
   "cell_type": "markdown",
   "id": "589b3909-df50-40e9-8c12-bdeae17423aa",
   "metadata": {},
   "source": [
    "Source: https://marcus116.blogspot.com/2019/07/cheatsheets-sql-join-cheat-sheets.html"
   ]
  },
  {
   "cell_type": "markdown",
   "id": "505a03d6-092b-4728-8518-e60c08c3ce6c",
   "metadata": {},
   "source": [
    "---"
   ]
  },
  {
   "cell_type": "markdown",
   "id": "bc738aba-c7b2-4532-b141-a81459c5060f",
   "metadata": {},
   "source": [
    "## `Join` functions"
   ]
  },
  {
   "cell_type": "markdown",
   "id": "8f814d68",
   "metadata": {},
   "source": [
    "To solve previous problem you can use set of `join()`-functions. `left_join()` can solve our previous example:"
   ]
  },
  {
   "cell_type": "code",
   "execution_count": 11,
   "id": "be2e8a18-a0a3-4947-a272-6ccf023069fd",
   "metadata": {},
   "outputs": [
    {
     "data": {
      "text/html": [
       "<table class=\"dataframe\">\n",
       "<caption>A tibble: 5 × 4</caption>\n",
       "<thead>\n",
       "\t<tr><th scope=col>continent</th><th scope=col>year</th><th scope=col>lifeExpAvg</th><th scope=col>countriesCount</th></tr>\n",
       "\t<tr><th scope=col>&lt;fct&gt;</th><th scope=col>&lt;int&gt;</th><th scope=col>&lt;dbl&gt;</th><th scope=col>&lt;int&gt;</th></tr>\n",
       "</thead>\n",
       "<tbody>\n",
       "\t<tr><td>Africa  </td><td>2002</td><td>53.32523</td><td>52</td></tr>\n",
       "\t<tr><td>Americas</td><td>2002</td><td>72.42204</td><td>25</td></tr>\n",
       "\t<tr><td>Asia    </td><td>2002</td><td>69.23388</td><td>33</td></tr>\n",
       "\t<tr><td>Europe  </td><td>2002</td><td>76.70060</td><td>30</td></tr>\n",
       "\t<tr><td>Oceania </td><td>2002</td><td>79.74000</td><td> 2</td></tr>\n",
       "</tbody>\n",
       "</table>\n"
      ],
      "text/latex": [
       "A tibble: 5 × 4\n",
       "\\begin{tabular}{llll}\n",
       " continent & year & lifeExpAvg & countriesCount\\\\\n",
       " <fct> & <int> & <dbl> & <int>\\\\\n",
       "\\hline\n",
       "\t Africa   & 2002 & 53.32523 & 52\\\\\n",
       "\t Americas & 2002 & 72.42204 & 25\\\\\n",
       "\t Asia     & 2002 & 69.23388 & 33\\\\\n",
       "\t Europe   & 2002 & 76.70060 & 30\\\\\n",
       "\t Oceania  & 2002 & 79.74000 &  2\\\\\n",
       "\\end{tabular}\n"
      ],
      "text/markdown": [
       "\n",
       "A tibble: 5 × 4\n",
       "\n",
       "| continent &lt;fct&gt; | year &lt;int&gt; | lifeExpAvg &lt;dbl&gt; | countriesCount &lt;int&gt; |\n",
       "|---|---|---|---|\n",
       "| Africa   | 2002 | 53.32523 | 52 |\n",
       "| Americas | 2002 | 72.42204 | 25 |\n",
       "| Asia     | 2002 | 69.23388 | 33 |\n",
       "| Europe   | 2002 | 76.70060 | 30 |\n",
       "| Oceania  | 2002 | 79.74000 |  2 |\n",
       "\n"
      ],
      "text/plain": [
       "  continent year lifeExpAvg countriesCount\n",
       "1 Africa    2002 53.32523   52            \n",
       "2 Americas  2002 72.42204   25            \n",
       "3 Asia      2002 69.23388   33            \n",
       "4 Europe    2002 76.70060   30            \n",
       "5 Oceania   2002 79.74000    2            "
      ]
     },
     "metadata": {},
     "output_type": "display_data"
    }
   ],
   "source": [
    "d2002 <- gapminder %>%\n",
    "            filter(year == 2002) %>% # year\n",
    "            group_by(continent, year) %>% # grouping condition\n",
    "            summarise(\n",
    "                lifeExpAvg = mean(lifeExp),\n",
    "                countriesCount = n(), # n() count of rows in group \n",
    "                .groups = 'drop'\n",
    "            )\n",
    "d2002 |> head()"
   ]
  },
  {
   "cell_type": "code",
   "execution_count": 18,
   "id": "7ae52ab5-c1ee-417a-a4da-415c73183857",
   "metadata": {},
   "outputs": [
    {
     "data": {
      "text/html": [
       "<table class=\"dataframe\">\n",
       "<caption>A tibble: 5 × 3</caption>\n",
       "<thead>\n",
       "\t<tr><th scope=col>continent</th><th scope=col>totalPop</th><th scope=col>year</th></tr>\n",
       "\t<tr><th scope=col>&lt;fct&gt;</th><th scope=col>&lt;dbl&gt;</th><th scope=col>&lt;int&gt;</th></tr>\n",
       "</thead>\n",
       "<tbody>\n",
       "\t<tr><td>Africa  </td><td> 833723916</td><td>2002</td></tr>\n",
       "\t<tr><td>Americas</td><td> 849772762</td><td>2002</td></tr>\n",
       "\t<tr><td>Asia    </td><td>3601802203</td><td>2002</td></tr>\n",
       "\t<tr><td>Europe  </td><td> 578223869</td><td>2002</td></tr>\n",
       "\t<tr><td>Oceania </td><td>  23454829</td><td>2002</td></tr>\n",
       "</tbody>\n",
       "</table>\n"
      ],
      "text/latex": [
       "A tibble: 5 × 3\n",
       "\\begin{tabular}{lll}\n",
       " continent & totalPop & year\\\\\n",
       " <fct> & <dbl> & <int>\\\\\n",
       "\\hline\n",
       "\t Africa   &  833723916 & 2002\\\\\n",
       "\t Americas &  849772762 & 2002\\\\\n",
       "\t Asia     & 3601802203 & 2002\\\\\n",
       "\t Europe   &  578223869 & 2002\\\\\n",
       "\t Oceania  &   23454829 & 2002\\\\\n",
       "\\end{tabular}\n"
      ],
      "text/markdown": [
       "\n",
       "A tibble: 5 × 3\n",
       "\n",
       "| continent &lt;fct&gt; | totalPop &lt;dbl&gt; | year &lt;int&gt; |\n",
       "|---|---|---|\n",
       "| Africa   |  833723916 | 2002 |\n",
       "| Americas |  849772762 | 2002 |\n",
       "| Asia     | 3601802203 | 2002 |\n",
       "| Europe   |  578223869 | 2002 |\n",
       "| Oceania  |   23454829 | 2002 |\n",
       "\n"
      ],
      "text/plain": [
       "  continent totalPop   year\n",
       "1 Africa     833723916 2002\n",
       "2 Americas   849772762 2002\n",
       "3 Asia      3601802203 2002\n",
       "4 Europe     578223869 2002\n",
       "5 Oceania     23454829 2002"
      ]
     },
     "metadata": {},
     "output_type": "display_data"
    }
   ],
   "source": [
    "grouped_data2002pop <- gapminder %>%\n",
    "    filter(year == 2002) %>% # year\n",
    "    group_by(continent) %>% # grouping condition\n",
    "    summarise(totalPop = sum(pop),\n",
    "             year = min(year))\n",
    "\n",
    "grouped_data2002pop |> head()"
   ]
  },
  {
   "cell_type": "code",
   "execution_count": 19,
   "id": "7826cb94",
   "metadata": {
    "vscode": {
     "languageId": "r"
    }
   },
   "outputs": [
    {
     "data": {
      "text/html": [
       "<table class=\"dataframe\">\n",
       "<caption>A tibble: 5 × 6</caption>\n",
       "<thead>\n",
       "\t<tr><th scope=col>continent</th><th scope=col>year.x</th><th scope=col>lifeExpAvg</th><th scope=col>countriesCount</th><th scope=col>totalPop</th><th scope=col>year.y</th></tr>\n",
       "\t<tr><th scope=col>&lt;fct&gt;</th><th scope=col>&lt;int&gt;</th><th scope=col>&lt;dbl&gt;</th><th scope=col>&lt;int&gt;</th><th scope=col>&lt;dbl&gt;</th><th scope=col>&lt;int&gt;</th></tr>\n",
       "</thead>\n",
       "<tbody>\n",
       "\t<tr><td>Africa  </td><td>2002</td><td>53.32523</td><td>52</td><td> 833723916</td><td>2002</td></tr>\n",
       "\t<tr><td>Americas</td><td>2002</td><td>72.42204</td><td>25</td><td> 849772762</td><td>2002</td></tr>\n",
       "\t<tr><td>Asia    </td><td>2002</td><td>69.23388</td><td>33</td><td>3601802203</td><td>2002</td></tr>\n",
       "\t<tr><td>Europe  </td><td>2002</td><td>76.70060</td><td>30</td><td> 578223869</td><td>2002</td></tr>\n",
       "\t<tr><td>Oceania </td><td>2002</td><td>79.74000</td><td> 2</td><td>  23454829</td><td>2002</td></tr>\n",
       "</tbody>\n",
       "</table>\n"
      ],
      "text/latex": [
       "A tibble: 5 × 6\n",
       "\\begin{tabular}{llllll}\n",
       " continent & year.x & lifeExpAvg & countriesCount & totalPop & year.y\\\\\n",
       " <fct> & <int> & <dbl> & <int> & <dbl> & <int>\\\\\n",
       "\\hline\n",
       "\t Africa   & 2002 & 53.32523 & 52 &  833723916 & 2002\\\\\n",
       "\t Americas & 2002 & 72.42204 & 25 &  849772762 & 2002\\\\\n",
       "\t Asia     & 2002 & 69.23388 & 33 & 3601802203 & 2002\\\\\n",
       "\t Europe   & 2002 & 76.70060 & 30 &  578223869 & 2002\\\\\n",
       "\t Oceania  & 2002 & 79.74000 &  2 &   23454829 & 2002\\\\\n",
       "\\end{tabular}\n"
      ],
      "text/markdown": [
       "\n",
       "A tibble: 5 × 6\n",
       "\n",
       "| continent &lt;fct&gt; | year.x &lt;int&gt; | lifeExpAvg &lt;dbl&gt; | countriesCount &lt;int&gt; | totalPop &lt;dbl&gt; | year.y &lt;int&gt; |\n",
       "|---|---|---|---|---|---|\n",
       "| Africa   | 2002 | 53.32523 | 52 |  833723916 | 2002 |\n",
       "| Americas | 2002 | 72.42204 | 25 |  849772762 | 2002 |\n",
       "| Asia     | 2002 | 69.23388 | 33 | 3601802203 | 2002 |\n",
       "| Europe   | 2002 | 76.70060 | 30 |  578223869 | 2002 |\n",
       "| Oceania  | 2002 | 79.74000 |  2 |   23454829 | 2002 |\n",
       "\n"
      ],
      "text/plain": [
       "  continent year.x lifeExpAvg countriesCount totalPop   year.y\n",
       "1 Africa    2002   53.32523   52              833723916 2002  \n",
       "2 Americas  2002   72.42204   25              849772762 2002  \n",
       "3 Asia      2002   69.23388   33             3601802203 2002  \n",
       "4 Europe    2002   76.70060   30              578223869 2002  \n",
       "5 Oceania   2002   79.74000    2               23454829 2002  "
      ]
     },
     "metadata": {},
     "output_type": "display_data"
    }
   ],
   "source": [
    "grouped_data2002pop <- grouped_data2002pop %>% \n",
    "    arrange(totalPop)\n",
    "\n",
    "grouped_data <- d2002 %>% \n",
    "    left_join(grouped_data2002pop, by = \"continent\")\n",
    "grouped_data\n",
    "\n",
    "# but we have duplicated year"
   ]
  },
  {
   "cell_type": "code",
   "execution_count": 20,
   "id": "2a7ffed3",
   "metadata": {
    "vscode": {
     "languageId": "r"
    }
   },
   "outputs": [
    {
     "data": {
      "text/html": [
       "<table class=\"dataframe\">\n",
       "<caption>A tibble: 5 × 5</caption>\n",
       "<thead>\n",
       "\t<tr><th scope=col>continent</th><th scope=col>year</th><th scope=col>lifeExpAvg</th><th scope=col>countriesCount</th><th scope=col>totalPop</th></tr>\n",
       "\t<tr><th scope=col>&lt;fct&gt;</th><th scope=col>&lt;int&gt;</th><th scope=col>&lt;dbl&gt;</th><th scope=col>&lt;int&gt;</th><th scope=col>&lt;dbl&gt;</th></tr>\n",
       "</thead>\n",
       "<tbody>\n",
       "\t<tr><td>Africa  </td><td>2002</td><td>53.32523</td><td>52</td><td> 833723916</td></tr>\n",
       "\t<tr><td>Americas</td><td>2002</td><td>72.42204</td><td>25</td><td> 849772762</td></tr>\n",
       "\t<tr><td>Asia    </td><td>2002</td><td>69.23388</td><td>33</td><td>3601802203</td></tr>\n",
       "\t<tr><td>Europe  </td><td>2002</td><td>76.70060</td><td>30</td><td> 578223869</td></tr>\n",
       "\t<tr><td>Oceania </td><td>2002</td><td>79.74000</td><td> 2</td><td>  23454829</td></tr>\n",
       "</tbody>\n",
       "</table>\n"
      ],
      "text/latex": [
       "A tibble: 5 × 5\n",
       "\\begin{tabular}{lllll}\n",
       " continent & year & lifeExpAvg & countriesCount & totalPop\\\\\n",
       " <fct> & <int> & <dbl> & <int> & <dbl>\\\\\n",
       "\\hline\n",
       "\t Africa   & 2002 & 53.32523 & 52 &  833723916\\\\\n",
       "\t Americas & 2002 & 72.42204 & 25 &  849772762\\\\\n",
       "\t Asia     & 2002 & 69.23388 & 33 & 3601802203\\\\\n",
       "\t Europe   & 2002 & 76.70060 & 30 &  578223869\\\\\n",
       "\t Oceania  & 2002 & 79.74000 &  2 &   23454829\\\\\n",
       "\\end{tabular}\n"
      ],
      "text/markdown": [
       "\n",
       "A tibble: 5 × 5\n",
       "\n",
       "| continent &lt;fct&gt; | year &lt;int&gt; | lifeExpAvg &lt;dbl&gt; | countriesCount &lt;int&gt; | totalPop &lt;dbl&gt; |\n",
       "|---|---|---|---|---|\n",
       "| Africa   | 2002 | 53.32523 | 52 |  833723916 |\n",
       "| Americas | 2002 | 72.42204 | 25 |  849772762 |\n",
       "| Asia     | 2002 | 69.23388 | 33 | 3601802203 |\n",
       "| Europe   | 2002 | 76.70060 | 30 |  578223869 |\n",
       "| Oceania  | 2002 | 79.74000 |  2 |   23454829 |\n",
       "\n"
      ],
      "text/plain": [
       "  continent year lifeExpAvg countriesCount totalPop  \n",
       "1 Africa    2002 53.32523   52              833723916\n",
       "2 Americas  2002 72.42204   25              849772762\n",
       "3 Asia      2002 69.23388   33             3601802203\n",
       "4 Europe    2002 76.70060   30              578223869\n",
       "5 Oceania   2002 79.74000    2               23454829"
      ]
     },
     "metadata": {},
     "output_type": "display_data"
    }
   ],
   "source": [
    "grouped_data2002pop <- grouped_data2002pop %>% \n",
    "    arrange(totalPop)\n",
    "\n",
    "grouped_data <- d2002 %>% \n",
    "    left_join(grouped_data2002pop, by = c(\"continent\", \"year\"))\n",
    "grouped_data\n",
    "\n",
    "#ok"
   ]
  },
  {
   "cell_type": "markdown",
   "id": "f4c3a805",
   "metadata": {},
   "source": [
    "Let's make a different data sets for testing `join()` fucntions:"
   ]
  },
  {
   "cell_type": "code",
   "execution_count": 182,
   "id": "f290a6ee",
   "metadata": {
    "vscode": {
     "languageId": "r"
    }
   },
   "outputs": [
    {
     "data": {
      "text/html": [
       "<table class=\"dataframe\">\n",
       "<caption>A data.frame: 5 × 2</caption>\n",
       "<thead>\n",
       "\t<tr><th scope=col>Letter</th><th scope=col>Value</th></tr>\n",
       "\t<tr><th scope=col>&lt;chr&gt;</th><th scope=col>&lt;int&gt;</th></tr>\n",
       "</thead>\n",
       "<tbody>\n",
       "\t<tr><td>A</td><td>1</td></tr>\n",
       "\t<tr><td>B</td><td>2</td></tr>\n",
       "\t<tr><td>C</td><td>3</td></tr>\n",
       "\t<tr><td>D</td><td>4</td></tr>\n",
       "\t<tr><td>E</td><td>5</td></tr>\n",
       "</tbody>\n",
       "</table>\n"
      ],
      "text/latex": [
       "A data.frame: 5 × 2\n",
       "\\begin{tabular}{ll}\n",
       " Letter & Value\\\\\n",
       " <chr> & <int>\\\\\n",
       "\\hline\n",
       "\t A & 1\\\\\n",
       "\t B & 2\\\\\n",
       "\t C & 3\\\\\n",
       "\t D & 4\\\\\n",
       "\t E & 5\\\\\n",
       "\\end{tabular}\n"
      ],
      "text/markdown": [
       "\n",
       "A data.frame: 5 × 2\n",
       "\n",
       "| Letter &lt;chr&gt; | Value &lt;int&gt; |\n",
       "|---|---|\n",
       "| A | 1 |\n",
       "| B | 2 |\n",
       "| C | 3 |\n",
       "| D | 4 |\n",
       "| E | 5 |\n",
       "\n"
      ],
      "text/plain": [
       "  Letter Value\n",
       "1 A      1    \n",
       "2 B      2    \n",
       "3 C      3    \n",
       "4 D      4    \n",
       "5 E      5    "
      ]
     },
     "metadata": {},
     "output_type": "display_data"
    },
    {
     "data": {
      "text/html": [
       "<table class=\"dataframe\">\n",
       "<caption>A data.frame: 5 × 2</caption>\n",
       "<thead>\n",
       "\t<tr><th scope=col>Letter</th><th scope=col>Value</th></tr>\n",
       "\t<tr><th scope=col>&lt;chr&gt;</th><th scope=col>&lt;dbl&gt;</th></tr>\n",
       "</thead>\n",
       "<tbody>\n",
       "\t<tr><td>A</td><td>12</td></tr>\n",
       "\t<tr><td>B</td><td> 7</td></tr>\n",
       "\t<tr><td>C</td><td> 4</td></tr>\n",
       "\t<tr><td>D</td><td> 1</td></tr>\n",
       "\t<tr><td>F</td><td> 5</td></tr>\n",
       "</tbody>\n",
       "</table>\n"
      ],
      "text/latex": [
       "A data.frame: 5 × 2\n",
       "\\begin{tabular}{ll}\n",
       " Letter & Value\\\\\n",
       " <chr> & <dbl>\\\\\n",
       "\\hline\n",
       "\t A & 12\\\\\n",
       "\t B &  7\\\\\n",
       "\t C &  4\\\\\n",
       "\t D &  1\\\\\n",
       "\t F &  5\\\\\n",
       "\\end{tabular}\n"
      ],
      "text/markdown": [
       "\n",
       "A data.frame: 5 × 2\n",
       "\n",
       "| Letter &lt;chr&gt; | Value &lt;dbl&gt; |\n",
       "|---|---|\n",
       "| A | 12 |\n",
       "| B |  7 |\n",
       "| C |  4 |\n",
       "| D |  1 |\n",
       "| F |  5 |\n",
       "\n"
      ],
      "text/plain": [
       "  Letter Value\n",
       "1 A      12   \n",
       "2 B       7   \n",
       "3 C       4   \n",
       "4 D       1   \n",
       "5 F       5   "
      ]
     },
     "metadata": {},
     "output_type": "display_data"
    }
   ],
   "source": [
    "first_df <- data.frame(Letter = c(\"A\", \"B\", \"C\", \"D\", \"E\"),\n",
    "                      Value = c(1:5))\n",
    "\n",
    "second_df <- data.frame(Letter = c(\"A\", \"B\", \"C\", \"D\", \"F\"),\n",
    "                      Value = c(12, 7, 4, 1, 5))\n",
    "first_df\n",
    "second_df "
   ]
  },
  {
   "cell_type": "markdown",
   "id": "d050a8b1",
   "metadata": {},
   "source": [
    "You can see that the last row `Letter` is different in dataframes. `left_join()` test is next."
   ]
  },
  {
   "cell_type": "code",
   "execution_count": 183,
   "id": "f706d67e",
   "metadata": {
    "vscode": {
     "languageId": "r"
    }
   },
   "outputs": [
    {
     "data": {
      "text/html": [
       "<table class=\"dataframe\">\n",
       "<caption>A data.frame: 5 × 3</caption>\n",
       "<thead>\n",
       "\t<tr><th scope=col>Letter</th><th scope=col>Value.x</th><th scope=col>Value.y</th></tr>\n",
       "\t<tr><th scope=col>&lt;chr&gt;</th><th scope=col>&lt;int&gt;</th><th scope=col>&lt;dbl&gt;</th></tr>\n",
       "</thead>\n",
       "<tbody>\n",
       "\t<tr><td>A</td><td>1</td><td>12</td></tr>\n",
       "\t<tr><td>B</td><td>2</td><td> 7</td></tr>\n",
       "\t<tr><td>C</td><td>3</td><td> 4</td></tr>\n",
       "\t<tr><td>D</td><td>4</td><td> 1</td></tr>\n",
       "\t<tr><td>E</td><td>5</td><td>NA</td></tr>\n",
       "</tbody>\n",
       "</table>\n"
      ],
      "text/latex": [
       "A data.frame: 5 × 3\n",
       "\\begin{tabular}{lll}\n",
       " Letter & Value.x & Value.y\\\\\n",
       " <chr> & <int> & <dbl>\\\\\n",
       "\\hline\n",
       "\t A & 1 & 12\\\\\n",
       "\t B & 2 &  7\\\\\n",
       "\t C & 3 &  4\\\\\n",
       "\t D & 4 &  1\\\\\n",
       "\t E & 5 & NA\\\\\n",
       "\\end{tabular}\n"
      ],
      "text/markdown": [
       "\n",
       "A data.frame: 5 × 3\n",
       "\n",
       "| Letter &lt;chr&gt; | Value.x &lt;int&gt; | Value.y &lt;dbl&gt; |\n",
       "|---|---|---|\n",
       "| A | 1 | 12 |\n",
       "| B | 2 |  7 |\n",
       "| C | 3 |  4 |\n",
       "| D | 4 |  1 |\n",
       "| E | 5 | NA |\n",
       "\n"
      ],
      "text/plain": [
       "  Letter Value.x Value.y\n",
       "1 A      1       12     \n",
       "2 B      2        7     \n",
       "3 C      3        4     \n",
       "4 D      4        1     \n",
       "5 E      5       NA     "
      ]
     },
     "metadata": {},
     "output_type": "display_data"
    }
   ],
   "source": [
    "first_df %>% \n",
    "    left_join(second_df, by = \"Letter\")\n",
    "# there is no F letter, becouse first_db joined only known first_df Letters."
   ]
  },
  {
   "cell_type": "code",
   "execution_count": 184,
   "id": "432e45a9",
   "metadata": {
    "vscode": {
     "languageId": "r"
    }
   },
   "outputs": [
    {
     "data": {
      "text/html": [
       "<table class=\"dataframe\">\n",
       "<caption>A data.frame: 5 × 3</caption>\n",
       "<thead>\n",
       "\t<tr><th scope=col>Letter</th><th scope=col>Value.x</th><th scope=col>Value.y</th></tr>\n",
       "\t<tr><th scope=col>&lt;chr&gt;</th><th scope=col>&lt;int&gt;</th><th scope=col>&lt;dbl&gt;</th></tr>\n",
       "</thead>\n",
       "<tbody>\n",
       "\t<tr><td>A</td><td> 1</td><td>12</td></tr>\n",
       "\t<tr><td>B</td><td> 2</td><td> 7</td></tr>\n",
       "\t<tr><td>C</td><td> 3</td><td> 4</td></tr>\n",
       "\t<tr><td>D</td><td> 4</td><td> 1</td></tr>\n",
       "\t<tr><td>F</td><td>NA</td><td> 5</td></tr>\n",
       "</tbody>\n",
       "</table>\n"
      ],
      "text/latex": [
       "A data.frame: 5 × 3\n",
       "\\begin{tabular}{lll}\n",
       " Letter & Value.x & Value.y\\\\\n",
       " <chr> & <int> & <dbl>\\\\\n",
       "\\hline\n",
       "\t A &  1 & 12\\\\\n",
       "\t B &  2 &  7\\\\\n",
       "\t C &  3 &  4\\\\\n",
       "\t D &  4 &  1\\\\\n",
       "\t F & NA &  5\\\\\n",
       "\\end{tabular}\n"
      ],
      "text/markdown": [
       "\n",
       "A data.frame: 5 × 3\n",
       "\n",
       "| Letter &lt;chr&gt; | Value.x &lt;int&gt; | Value.y &lt;dbl&gt; |\n",
       "|---|---|---|\n",
       "| A |  1 | 12 |\n",
       "| B |  2 |  7 |\n",
       "| C |  3 |  4 |\n",
       "| D |  4 |  1 |\n",
       "| F | NA |  5 |\n",
       "\n"
      ],
      "text/plain": [
       "  Letter Value.x Value.y\n",
       "1 A       1      12     \n",
       "2 B       2       7     \n",
       "3 C       3       4     \n",
       "4 D       4       1     \n",
       "5 F      NA       5     "
      ]
     },
     "metadata": {},
     "output_type": "display_data"
    }
   ],
   "source": [
    "first_df %>% \n",
    "    right_join(second_df, by = \"Letter\")\n",
    "# right_join! there is no E letter, becouse first_db joined only known second_df Letters."
   ]
  },
  {
   "cell_type": "code",
   "execution_count": 185,
   "id": "d6ed8223",
   "metadata": {
    "vscode": {
     "languageId": "r"
    }
   },
   "outputs": [
    {
     "data": {
      "text/html": [
       "<table class=\"dataframe\">\n",
       "<caption>A data.frame: 4 × 3</caption>\n",
       "<thead>\n",
       "\t<tr><th scope=col>Letter</th><th scope=col>Value.x</th><th scope=col>Value.y</th></tr>\n",
       "\t<tr><th scope=col>&lt;chr&gt;</th><th scope=col>&lt;int&gt;</th><th scope=col>&lt;dbl&gt;</th></tr>\n",
       "</thead>\n",
       "<tbody>\n",
       "\t<tr><td>A</td><td>1</td><td>12</td></tr>\n",
       "\t<tr><td>B</td><td>2</td><td> 7</td></tr>\n",
       "\t<tr><td>C</td><td>3</td><td> 4</td></tr>\n",
       "\t<tr><td>D</td><td>4</td><td> 1</td></tr>\n",
       "</tbody>\n",
       "</table>\n"
      ],
      "text/latex": [
       "A data.frame: 4 × 3\n",
       "\\begin{tabular}{lll}\n",
       " Letter & Value.x & Value.y\\\\\n",
       " <chr> & <int> & <dbl>\\\\\n",
       "\\hline\n",
       "\t A & 1 & 12\\\\\n",
       "\t B & 2 &  7\\\\\n",
       "\t C & 3 &  4\\\\\n",
       "\t D & 4 &  1\\\\\n",
       "\\end{tabular}\n"
      ],
      "text/markdown": [
       "\n",
       "A data.frame: 4 × 3\n",
       "\n",
       "| Letter &lt;chr&gt; | Value.x &lt;int&gt; | Value.y &lt;dbl&gt; |\n",
       "|---|---|---|\n",
       "| A | 1 | 12 |\n",
       "| B | 2 |  7 |\n",
       "| C | 3 |  4 |\n",
       "| D | 4 |  1 |\n",
       "\n"
      ],
      "text/plain": [
       "  Letter Value.x Value.y\n",
       "1 A      1       12     \n",
       "2 B      2        7     \n",
       "3 C      3        4     \n",
       "4 D      4        1     "
      ]
     },
     "metadata": {},
     "output_type": "display_data"
    }
   ],
   "source": [
    "first_df %>% \n",
    "    inner_join(second_df, by = \"Letter\")\n",
    "# inner_join! there is no E and F Letters, \n",
    "# only known both first_df and second_df are left here."
   ]
  },
  {
   "cell_type": "code",
   "execution_count": 186,
   "id": "78da6481",
   "metadata": {
    "vscode": {
     "languageId": "r"
    }
   },
   "outputs": [
    {
     "data": {
      "text/html": [
       "<table class=\"dataframe\">\n",
       "<caption>A data.frame: 6 × 3</caption>\n",
       "<thead>\n",
       "\t<tr><th scope=col>Letter</th><th scope=col>Value.x</th><th scope=col>Value.y</th></tr>\n",
       "\t<tr><th scope=col>&lt;chr&gt;</th><th scope=col>&lt;int&gt;</th><th scope=col>&lt;dbl&gt;</th></tr>\n",
       "</thead>\n",
       "<tbody>\n",
       "\t<tr><td>A</td><td> 1</td><td>12</td></tr>\n",
       "\t<tr><td>B</td><td> 2</td><td> 7</td></tr>\n",
       "\t<tr><td>C</td><td> 3</td><td> 4</td></tr>\n",
       "\t<tr><td>D</td><td> 4</td><td> 1</td></tr>\n",
       "\t<tr><td>E</td><td> 5</td><td>NA</td></tr>\n",
       "\t<tr><td>F</td><td>NA</td><td> 5</td></tr>\n",
       "</tbody>\n",
       "</table>\n"
      ],
      "text/latex": [
       "A data.frame: 6 × 3\n",
       "\\begin{tabular}{lll}\n",
       " Letter & Value.x & Value.y\\\\\n",
       " <chr> & <int> & <dbl>\\\\\n",
       "\\hline\n",
       "\t A &  1 & 12\\\\\n",
       "\t B &  2 &  7\\\\\n",
       "\t C &  3 &  4\\\\\n",
       "\t D &  4 &  1\\\\\n",
       "\t E &  5 & NA\\\\\n",
       "\t F & NA &  5\\\\\n",
       "\\end{tabular}\n"
      ],
      "text/markdown": [
       "\n",
       "A data.frame: 6 × 3\n",
       "\n",
       "| Letter &lt;chr&gt; | Value.x &lt;int&gt; | Value.y &lt;dbl&gt; |\n",
       "|---|---|---|\n",
       "| A |  1 | 12 |\n",
       "| B |  2 |  7 |\n",
       "| C |  3 |  4 |\n",
       "| D |  4 |  1 |\n",
       "| E |  5 | NA |\n",
       "| F | NA |  5 |\n",
       "\n"
      ],
      "text/plain": [
       "  Letter Value.x Value.y\n",
       "1 A       1      12     \n",
       "2 B       2       7     \n",
       "3 C       3       4     \n",
       "4 D       4       1     \n",
       "5 E       5      NA     \n",
       "6 F      NA       5     "
      ]
     },
     "metadata": {},
     "output_type": "display_data"
    }
   ],
   "source": [
    "first_df %>% \n",
    "    full_join(second_df, by = \"Letter\")\n",
    "# all are here, but unknown values replaced by NA, it's ok."
   ]
  },
  {
   "cell_type": "markdown",
   "id": "558d30b2",
   "metadata": {},
   "source": [
    "Short description of reviewed functions:\n",
    "\n",
    "|Function|Objectives|Arguments|Multiple keys|\n",
    "|---|---|---|---|\n",
    "|`left_join()`|Merge two datasets. Keep all observations from the origin table|\tdata, origin, destination, by = \"ID\" |\torigin, destination, by = c(\"ID\", \"ID2\")|\n",
    "|`right_join()`|Merge two datasets. Keep all observations from the destination table\t|data, origin, destination, by = \"ID\"\t|origin, destination, by = c(\"ID\", \"ID2\")|\n",
    "|`inner_join()`|Merge two datasets. Excludes all unmatched rows\t|data, origin, destination, by = \"ID\"|\torigin, destination, by = c(\"ID\", \"ID2\")|\n",
    "|`full_join()`|Merge two datasets. Keeps all observations|\tdata, origin, destination, by = \"ID\"\t|origin, destination, by = c(\"ID\", \"ID2\")|"
   ]
  },
  {
   "cell_type": "markdown",
   "id": "ecdfcfd8",
   "metadata": {},
   "source": [
    "---"
   ]
  },
  {
   "cell_type": "markdown",
   "id": "9592bda1",
   "metadata": {},
   "source": [
    "## Refences"
   ]
  },
  {
   "cell_type": "markdown",
   "id": "ae226f5e",
   "metadata": {},
   "source": [
    "1. [dplyr: A Grammar of Data Manipulation](https://cran.r-project.org/web/packages/dplyr/index.html) on https://cran.r-project.org/.\n",
    "2. [Data Transformation with splyr::cheat sheet](https://github.com/rstudio/cheatsheets/blob/master/data-transformation.pdf).\n",
    "3. [DPLYR TUTORIAL : DATA MANIPULATION (50 EXAMPLES)](https://www.listendata.com/2016/08/dplyr-tutorial.html) by Deepanshu Bhalla.\n",
    "5. [Dplyr Intro](https://stat545.com/dplyr-intro.html) by Stat 545.\n",
    "6.[R Dplyr Tutorial: Data Manipulation(Join) & Cleaning(Spread)](https://www.guru99.com/r-dplyr-tutorial.html). Introduction to Data Analysis\n",
    "7. [Loan Default Prediction. Beginners data set for financial analytics Kaggle](https://www.kaggle.com/kmldas/loan-default-prediction)"
   ]
  }
 ],
 "metadata": {
  "kernelspec": {
   "display_name": "R",
   "language": "R",
   "name": "ir"
  },
  "language_info": {
   "codemirror_mode": "r",
   "file_extension": ".r",
   "mimetype": "text/x-r-source",
   "name": "R",
   "pygments_lexer": "r",
   "version": "4.1.3"
  }
 },
 "nbformat": 4,
 "nbformat_minor": 5
}
