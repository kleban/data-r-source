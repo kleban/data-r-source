{
 "cells": [
  {
   "cell_type": "markdown",
   "id": "98a5853a-1190-4fac-8cd4-5da1462c2e88",
   "metadata": {},
   "source": [
    "---\n",
    "\n",
    "author: Юрій Клебан\n",
    "\n",
    "---"
   ]
  },
  {
   "cell_type": "markdown",
   "id": "45318bbc",
   "metadata": {},
   "source": [
    "# Wide-to-long tables"
   ]
  },
  {
   "cell_type": "markdown",
   "id": "4c63f4e2-5c06-4962-9b8c-b6dbb6c3c8f6",
   "metadata": {},
   "source": [
    "Before start load packages"
   ]
  },
  {
   "cell_type": "code",
   "execution_count": 5,
   "id": "4c9a28ab-9102-4b94-96eb-cd2543ebf4d9",
   "metadata": {},
   "outputs": [],
   "source": [
    "library(tidyr)"
   ]
  },
  {
   "cell_type": "markdown",
   "id": "5b2bffd6",
   "metadata": {},
   "source": [
    "Some times your data is not in tidy format. Peole can collect data year by year in each column. It's problem to use such data for feature engeniering and building prediction models. Let's generate such data sample (quaterly salary of some people)."
   ]
  },
  {
   "cell_type": "code",
   "execution_count": 6,
   "id": "ee9431db",
   "metadata": {
    "vscode": {
     "languageId": "r"
    }
   },
   "outputs": [
    {
     "data": {
      "text/html": [
       "<table class=\"dataframe\">\n",
       "<caption>A data.frame: 5 × 5</caption>\n",
       "<thead>\n",
       "\t<tr><th scope=col>Name</th><th scope=col>q1_2021</th><th scope=col>q2_2021</th><th scope=col>q3_2021</th><th scope=col>q4_2021</th></tr>\n",
       "\t<tr><th scope=col>&lt;chr&gt;</th><th scope=col>&lt;dbl&gt;</th><th scope=col>&lt;dbl&gt;</th><th scope=col>&lt;dbl&gt;</th><th scope=col>&lt;dbl&gt;</th></tr>\n",
       "</thead>\n",
       "<tbody>\n",
       "\t<tr><td>Nick</td><td>12442</td><td>13442</td><td>15482</td><td>14511</td></tr>\n",
       "\t<tr><td>Jake</td><td>22131</td><td>22871</td><td>22031</td><td>20031</td></tr>\n",
       "\t<tr><td>Anna</td><td>21343</td><td>20343</td><td>22456</td><td>21741</td></tr>\n",
       "\t<tr><td>Jane</td><td>22111</td><td>22222</td><td>22444</td><td>22333</td></tr>\n",
       "\t<tr><td>Dina</td><td>14123</td><td>14456</td><td>14533</td><td>14511</td></tr>\n",
       "</tbody>\n",
       "</table>\n"
      ],
      "text/latex": [
       "A data.frame: 5 × 5\n",
       "\\begin{tabular}{lllll}\n",
       " Name & q1\\_2021 & q2\\_2021 & q3\\_2021 & q4\\_2021\\\\\n",
       " <chr> & <dbl> & <dbl> & <dbl> & <dbl>\\\\\n",
       "\\hline\n",
       "\t Nick & 12442 & 13442 & 15482 & 14511\\\\\n",
       "\t Jake & 22131 & 22871 & 22031 & 20031\\\\\n",
       "\t Anna & 21343 & 20343 & 22456 & 21741\\\\\n",
       "\t Jane & 22111 & 22222 & 22444 & 22333\\\\\n",
       "\t Dina & 14123 & 14456 & 14533 & 14511\\\\\n",
       "\\end{tabular}\n"
      ],
      "text/markdown": [
       "\n",
       "A data.frame: 5 × 5\n",
       "\n",
       "| Name &lt;chr&gt; | q1_2021 &lt;dbl&gt; | q2_2021 &lt;dbl&gt; | q3_2021 &lt;dbl&gt; | q4_2021 &lt;dbl&gt; |\n",
       "|---|---|---|---|---|\n",
       "| Nick | 12442 | 13442 | 15482 | 14511 |\n",
       "| Jake | 22131 | 22871 | 22031 | 20031 |\n",
       "| Anna | 21343 | 20343 | 22456 | 21741 |\n",
       "| Jane | 22111 | 22222 | 22444 | 22333 |\n",
       "| Dina | 14123 | 14456 | 14533 | 14511 |\n",
       "\n"
      ],
      "text/plain": [
       "  Name q1_2021 q2_2021 q3_2021 q4_2021\n",
       "1 Nick 12442   13442   15482   14511  \n",
       "2 Jake 22131   22871   22031   20031  \n",
       "3 Anna 21343   20343   22456   21741  \n",
       "4 Jane 22111   22222   22444   22333  \n",
       "5 Dina 14123   14456   14533   14511  "
      ]
     },
     "metadata": {},
     "output_type": "display_data"
    }
   ],
   "source": [
    "not_good_data <- data.frame(Name = c(\"Nick\", \"Jake\", \"Anna\", \"Jane\", \"Dina\"),\n",
    "                           q1_2021 = c(12442, 22131, 21343, 22111, 14123),\n",
    "                           q2_2021 = c(13442, 22871, 20343, 22222, 14456),\n",
    "                           q3_2021 = c(15482, 22031, 22456, 22444, 14533),\n",
    "                           q4_2021 = c(14511, 20031, 21741, 22333, 14511))\n",
    "not_good_data"
   ]
  },
  {
   "cell_type": "code",
   "execution_count": 7,
   "id": "537aa6ac",
   "metadata": {
    "vscode": {
     "languageId": "r"
    }
   },
   "outputs": [
    {
     "data": {
      "text/html": [
       "<table class=\"dataframe\">\n",
       "<caption>A data.frame: 20 × 3</caption>\n",
       "<thead>\n",
       "\t<tr><th scope=col>Name</th><th scope=col>quater</th><th scope=col>salary</th></tr>\n",
       "\t<tr><th scope=col>&lt;chr&gt;</th><th scope=col>&lt;chr&gt;</th><th scope=col>&lt;dbl&gt;</th></tr>\n",
       "</thead>\n",
       "<tbody>\n",
       "\t<tr><td>Nick</td><td>q1_2021</td><td>12442</td></tr>\n",
       "\t<tr><td>Jake</td><td>q1_2021</td><td>22131</td></tr>\n",
       "\t<tr><td>Anna</td><td>q1_2021</td><td>21343</td></tr>\n",
       "\t<tr><td>Jane</td><td>q1_2021</td><td>22111</td></tr>\n",
       "\t<tr><td>Dina</td><td>q1_2021</td><td>14123</td></tr>\n",
       "\t<tr><td>Nick</td><td>q2_2021</td><td>13442</td></tr>\n",
       "\t<tr><td>Jake</td><td>q2_2021</td><td>22871</td></tr>\n",
       "\t<tr><td>Anna</td><td>q2_2021</td><td>20343</td></tr>\n",
       "\t<tr><td>Jane</td><td>q2_2021</td><td>22222</td></tr>\n",
       "\t<tr><td>Dina</td><td>q2_2021</td><td>14456</td></tr>\n",
       "\t<tr><td>Nick</td><td>q3_2021</td><td>15482</td></tr>\n",
       "\t<tr><td>Jake</td><td>q3_2021</td><td>22031</td></tr>\n",
       "\t<tr><td>Anna</td><td>q3_2021</td><td>22456</td></tr>\n",
       "\t<tr><td>Jane</td><td>q3_2021</td><td>22444</td></tr>\n",
       "\t<tr><td>Dina</td><td>q3_2021</td><td>14533</td></tr>\n",
       "\t<tr><td>Nick</td><td>q4_2021</td><td>14511</td></tr>\n",
       "\t<tr><td>Jake</td><td>q4_2021</td><td>20031</td></tr>\n",
       "\t<tr><td>Anna</td><td>q4_2021</td><td>21741</td></tr>\n",
       "\t<tr><td>Jane</td><td>q4_2021</td><td>22333</td></tr>\n",
       "\t<tr><td>Dina</td><td>q4_2021</td><td>14511</td></tr>\n",
       "</tbody>\n",
       "</table>\n"
      ],
      "text/latex": [
       "A data.frame: 20 × 3\n",
       "\\begin{tabular}{lll}\n",
       " Name & quater & salary\\\\\n",
       " <chr> & <chr> & <dbl>\\\\\n",
       "\\hline\n",
       "\t Nick & q1\\_2021 & 12442\\\\\n",
       "\t Jake & q1\\_2021 & 22131\\\\\n",
       "\t Anna & q1\\_2021 & 21343\\\\\n",
       "\t Jane & q1\\_2021 & 22111\\\\\n",
       "\t Dina & q1\\_2021 & 14123\\\\\n",
       "\t Nick & q2\\_2021 & 13442\\\\\n",
       "\t Jake & q2\\_2021 & 22871\\\\\n",
       "\t Anna & q2\\_2021 & 20343\\\\\n",
       "\t Jane & q2\\_2021 & 22222\\\\\n",
       "\t Dina & q2\\_2021 & 14456\\\\\n",
       "\t Nick & q3\\_2021 & 15482\\\\\n",
       "\t Jake & q3\\_2021 & 22031\\\\\n",
       "\t Anna & q3\\_2021 & 22456\\\\\n",
       "\t Jane & q3\\_2021 & 22444\\\\\n",
       "\t Dina & q3\\_2021 & 14533\\\\\n",
       "\t Nick & q4\\_2021 & 14511\\\\\n",
       "\t Jake & q4\\_2021 & 20031\\\\\n",
       "\t Anna & q4\\_2021 & 21741\\\\\n",
       "\t Jane & q4\\_2021 & 22333\\\\\n",
       "\t Dina & q4\\_2021 & 14511\\\\\n",
       "\\end{tabular}\n"
      ],
      "text/markdown": [
       "\n",
       "A data.frame: 20 × 3\n",
       "\n",
       "| Name &lt;chr&gt; | quater &lt;chr&gt; | salary &lt;dbl&gt; |\n",
       "|---|---|---|\n",
       "| Nick | q1_2021 | 12442 |\n",
       "| Jake | q1_2021 | 22131 |\n",
       "| Anna | q1_2021 | 21343 |\n",
       "| Jane | q1_2021 | 22111 |\n",
       "| Dina | q1_2021 | 14123 |\n",
       "| Nick | q2_2021 | 13442 |\n",
       "| Jake | q2_2021 | 22871 |\n",
       "| Anna | q2_2021 | 20343 |\n",
       "| Jane | q2_2021 | 22222 |\n",
       "| Dina | q2_2021 | 14456 |\n",
       "| Nick | q3_2021 | 15482 |\n",
       "| Jake | q3_2021 | 22031 |\n",
       "| Anna | q3_2021 | 22456 |\n",
       "| Jane | q3_2021 | 22444 |\n",
       "| Dina | q3_2021 | 14533 |\n",
       "| Nick | q4_2021 | 14511 |\n",
       "| Jake | q4_2021 | 20031 |\n",
       "| Anna | q4_2021 | 21741 |\n",
       "| Jane | q4_2021 | 22333 |\n",
       "| Dina | q4_2021 | 14511 |\n",
       "\n"
      ],
      "text/plain": [
       "   Name quater  salary\n",
       "1  Nick q1_2021 12442 \n",
       "2  Jake q1_2021 22131 \n",
       "3  Anna q1_2021 21343 \n",
       "4  Jane q1_2021 22111 \n",
       "5  Dina q1_2021 14123 \n",
       "6  Nick q2_2021 13442 \n",
       "7  Jake q2_2021 22871 \n",
       "8  Anna q2_2021 20343 \n",
       "9  Jane q2_2021 22222 \n",
       "10 Dina q2_2021 14456 \n",
       "11 Nick q3_2021 15482 \n",
       "12 Jake q3_2021 22031 \n",
       "13 Anna q3_2021 22456 \n",
       "14 Jane q3_2021 22444 \n",
       "15 Dina q3_2021 14533 \n",
       "16 Nick q4_2021 14511 \n",
       "17 Jake q4_2021 20031 \n",
       "18 Anna q4_2021 21741 \n",
       "19 Jane q4_2021 22333 \n",
       "20 Dina q4_2021 14511 "
      ]
     },
     "metadata": {},
     "output_type": "display_data"
    }
   ],
   "source": [
    "better_data <- not_good_data %>%\n",
    "                gather(quater, salary, 2:5)\n",
    "                # gather(quater, salary, q1_2021:q4_2021) possible code too\n",
    "better_data"
   ]
  },
  {
   "cell_type": "markdown",
   "id": "53cd7b4a",
   "metadata": {},
   "source": [
    "To make our data tidier `separate()` can split quater column into 2 (`quater` and `year`):"
   ]
  },
  {
   "cell_type": "code",
   "execution_count": 8,
   "id": "962bf5bb",
   "metadata": {
    "vscode": {
     "languageId": "r"
    }
   },
   "outputs": [
    {
     "data": {
      "text/html": [
       "<table class=\"dataframe\">\n",
       "<caption>A data.frame: 10 × 4</caption>\n",
       "<thead>\n",
       "\t<tr><th></th><th scope=col>Name</th><th scope=col>quater</th><th scope=col>year</th><th scope=col>salary</th></tr>\n",
       "\t<tr><th></th><th scope=col>&lt;chr&gt;</th><th scope=col>&lt;int&gt;</th><th scope=col>&lt;int&gt;</th><th scope=col>&lt;dbl&gt;</th></tr>\n",
       "</thead>\n",
       "<tbody>\n",
       "\t<tr><th scope=row>1</th><td>Nick</td><td>1</td><td>2021</td><td>12442</td></tr>\n",
       "\t<tr><th scope=row>2</th><td>Jake</td><td>1</td><td>2021</td><td>22131</td></tr>\n",
       "\t<tr><th scope=row>3</th><td>Anna</td><td>1</td><td>2021</td><td>21343</td></tr>\n",
       "\t<tr><th scope=row>4</th><td>Jane</td><td>1</td><td>2021</td><td>22111</td></tr>\n",
       "\t<tr><th scope=row>5</th><td>Dina</td><td>1</td><td>2021</td><td>14123</td></tr>\n",
       "\t<tr><th scope=row>6</th><td>Nick</td><td>2</td><td>2021</td><td>13442</td></tr>\n",
       "\t<tr><th scope=row>7</th><td>Jake</td><td>2</td><td>2021</td><td>22871</td></tr>\n",
       "\t<tr><th scope=row>8</th><td>Anna</td><td>2</td><td>2021</td><td>20343</td></tr>\n",
       "\t<tr><th scope=row>9</th><td>Jane</td><td>2</td><td>2021</td><td>22222</td></tr>\n",
       "\t<tr><th scope=row>10</th><td>Dina</td><td>2</td><td>2021</td><td>14456</td></tr>\n",
       "</tbody>\n",
       "</table>\n"
      ],
      "text/latex": [
       "A data.frame: 10 × 4\n",
       "\\begin{tabular}{r|llll}\n",
       "  & Name & quater & year & salary\\\\\n",
       "  & <chr> & <int> & <int> & <dbl>\\\\\n",
       "\\hline\n",
       "\t1 & Nick & 1 & 2021 & 12442\\\\\n",
       "\t2 & Jake & 1 & 2021 & 22131\\\\\n",
       "\t3 & Anna & 1 & 2021 & 21343\\\\\n",
       "\t4 & Jane & 1 & 2021 & 22111\\\\\n",
       "\t5 & Dina & 1 & 2021 & 14123\\\\\n",
       "\t6 & Nick & 2 & 2021 & 13442\\\\\n",
       "\t7 & Jake & 2 & 2021 & 22871\\\\\n",
       "\t8 & Anna & 2 & 2021 & 20343\\\\\n",
       "\t9 & Jane & 2 & 2021 & 22222\\\\\n",
       "\t10 & Dina & 2 & 2021 & 14456\\\\\n",
       "\\end{tabular}\n"
      ],
      "text/markdown": [
       "\n",
       "A data.frame: 10 × 4\n",
       "\n",
       "| <!--/--> | Name &lt;chr&gt; | quater &lt;int&gt; | year &lt;int&gt; | salary &lt;dbl&gt; |\n",
       "|---|---|---|---|---|\n",
       "| 1 | Nick | 1 | 2021 | 12442 |\n",
       "| 2 | Jake | 1 | 2021 | 22131 |\n",
       "| 3 | Anna | 1 | 2021 | 21343 |\n",
       "| 4 | Jane | 1 | 2021 | 22111 |\n",
       "| 5 | Dina | 1 | 2021 | 14123 |\n",
       "| 6 | Nick | 2 | 2021 | 13442 |\n",
       "| 7 | Jake | 2 | 2021 | 22871 |\n",
       "| 8 | Anna | 2 | 2021 | 20343 |\n",
       "| 9 | Jane | 2 | 2021 | 22222 |\n",
       "| 10 | Dina | 2 | 2021 | 14456 |\n",
       "\n"
      ],
      "text/plain": [
       "   Name quater year salary\n",
       "1  Nick 1      2021 12442 \n",
       "2  Jake 1      2021 22131 \n",
       "3  Anna 1      2021 21343 \n",
       "4  Jane 1      2021 22111 \n",
       "5  Dina 1      2021 14123 \n",
       "6  Nick 2      2021 13442 \n",
       "7  Jake 2      2021 22871 \n",
       "8  Anna 2      2021 20343 \n",
       "9  Jane 2      2021 22222 \n",
       "10 Dina 2      2021 14456 "
      ]
     },
     "metadata": {},
     "output_type": "display_data"
    }
   ],
   "source": [
    "best_data <- better_data %>%\n",
    "    separate(quater, c(\"quater\", \"year\"), sep = \"_\") %>% # separate\n",
    "    mutate(year = as.integer(year), # convert year to integer\n",
    "           quater = substr(better_data$quater, 2,2), # trim `q` from start\n",
    "           quater = as.integer(quater), # convert quater to integer\n",
    "          ) %>%\n",
    "    head(10)\n",
    "best_data"
   ]
  },
  {
   "cell_type": "markdown",
   "id": "a55e4b66",
   "metadata": {},
   "source": [
    "The `unite()` function concanates two columns into one:"
   ]
  },
  {
   "cell_type": "code",
   "execution_count": 9,
   "id": "975f28d0",
   "metadata": {
    "vscode": {
     "languageId": "r"
    }
   },
   "outputs": [
    {
     "data": {
      "text/html": [
       "<table class=\"dataframe\">\n",
       "<caption>A data.frame: 10 × 3</caption>\n",
       "<thead>\n",
       "\t<tr><th></th><th scope=col>Name</th><th scope=col>Qt</th><th scope=col>salary</th></tr>\n",
       "\t<tr><th></th><th scope=col>&lt;chr&gt;</th><th scope=col>&lt;chr&gt;</th><th scope=col>&lt;dbl&gt;</th></tr>\n",
       "</thead>\n",
       "<tbody>\n",
       "\t<tr><th scope=row>1</th><td>Nick</td><td>1#2021</td><td>12442</td></tr>\n",
       "\t<tr><th scope=row>2</th><td>Jake</td><td>1#2021</td><td>22131</td></tr>\n",
       "\t<tr><th scope=row>3</th><td>Anna</td><td>1#2021</td><td>21343</td></tr>\n",
       "\t<tr><th scope=row>4</th><td>Jane</td><td>1#2021</td><td>22111</td></tr>\n",
       "\t<tr><th scope=row>5</th><td>Dina</td><td>1#2021</td><td>14123</td></tr>\n",
       "\t<tr><th scope=row>6</th><td>Nick</td><td>2#2021</td><td>13442</td></tr>\n",
       "\t<tr><th scope=row>7</th><td>Jake</td><td>2#2021</td><td>22871</td></tr>\n",
       "\t<tr><th scope=row>8</th><td>Anna</td><td>2#2021</td><td>20343</td></tr>\n",
       "\t<tr><th scope=row>9</th><td>Jane</td><td>2#2021</td><td>22222</td></tr>\n",
       "\t<tr><th scope=row>10</th><td>Dina</td><td>2#2021</td><td>14456</td></tr>\n",
       "</tbody>\n",
       "</table>\n"
      ],
      "text/latex": [
       "A data.frame: 10 × 3\n",
       "\\begin{tabular}{r|lll}\n",
       "  & Name & Qt & salary\\\\\n",
       "  & <chr> & <chr> & <dbl>\\\\\n",
       "\\hline\n",
       "\t1 & Nick & 1\\#2021 & 12442\\\\\n",
       "\t2 & Jake & 1\\#2021 & 22131\\\\\n",
       "\t3 & Anna & 1\\#2021 & 21343\\\\\n",
       "\t4 & Jane & 1\\#2021 & 22111\\\\\n",
       "\t5 & Dina & 1\\#2021 & 14123\\\\\n",
       "\t6 & Nick & 2\\#2021 & 13442\\\\\n",
       "\t7 & Jake & 2\\#2021 & 22871\\\\\n",
       "\t8 & Anna & 2\\#2021 & 20343\\\\\n",
       "\t9 & Jane & 2\\#2021 & 22222\\\\\n",
       "\t10 & Dina & 2\\#2021 & 14456\\\\\n",
       "\\end{tabular}\n"
      ],
      "text/markdown": [
       "\n",
       "A data.frame: 10 × 3\n",
       "\n",
       "| <!--/--> | Name &lt;chr&gt; | Qt &lt;chr&gt; | salary &lt;dbl&gt; |\n",
       "|---|---|---|---|\n",
       "| 1 | Nick | 1#2021 | 12442 |\n",
       "| 2 | Jake | 1#2021 | 22131 |\n",
       "| 3 | Anna | 1#2021 | 21343 |\n",
       "| 4 | Jane | 1#2021 | 22111 |\n",
       "| 5 | Dina | 1#2021 | 14123 |\n",
       "| 6 | Nick | 2#2021 | 13442 |\n",
       "| 7 | Jake | 2#2021 | 22871 |\n",
       "| 8 | Anna | 2#2021 | 20343 |\n",
       "| 9 | Jane | 2#2021 | 22222 |\n",
       "| 10 | Dina | 2#2021 | 14456 |\n",
       "\n"
      ],
      "text/plain": [
       "   Name Qt     salary\n",
       "1  Nick 1#2021 12442 \n",
       "2  Jake 1#2021 22131 \n",
       "3  Anna 1#2021 21343 \n",
       "4  Jane 1#2021 22111 \n",
       "5  Dina 1#2021 14123 \n",
       "6  Nick 2#2021 13442 \n",
       "7  Jake 2#2021 22871 \n",
       "8  Anna 2#2021 20343 \n",
       "9  Jane 2#2021 22222 \n",
       "10 Dina 2#2021 14456 "
      ]
     },
     "metadata": {},
     "output_type": "display_data"
    }
   ],
   "source": [
    "united_data <- best_data %>%\n",
    "                unite(Qt, quater, year, sep = \"#\")\n",
    "united_data"
   ]
  },
  {
   "cell_type": "code",
   "execution_count": 10,
   "id": "4cfef661",
   "metadata": {
    "vscode": {
     "languageId": "r"
    }
   },
   "outputs": [
    {
     "data": {
      "text/html": [
       "<table class=\"dataframe\">\n",
       "<caption>A data.frame: 10 × 5</caption>\n",
       "<thead>\n",
       "\t<tr><th></th><th scope=col>Name</th><th scope=col>Qt</th><th scope=col>quater</th><th scope=col>year</th><th scope=col>salary</th></tr>\n",
       "\t<tr><th></th><th scope=col>&lt;chr&gt;</th><th scope=col>&lt;chr&gt;</th><th scope=col>&lt;int&gt;</th><th scope=col>&lt;int&gt;</th><th scope=col>&lt;dbl&gt;</th></tr>\n",
       "</thead>\n",
       "<tbody>\n",
       "\t<tr><th scope=row>1</th><td>Nick</td><td>1#2021</td><td>1</td><td>2021</td><td>12442</td></tr>\n",
       "\t<tr><th scope=row>2</th><td>Jake</td><td>1#2021</td><td>1</td><td>2021</td><td>22131</td></tr>\n",
       "\t<tr><th scope=row>3</th><td>Anna</td><td>1#2021</td><td>1</td><td>2021</td><td>21343</td></tr>\n",
       "\t<tr><th scope=row>4</th><td>Jane</td><td>1#2021</td><td>1</td><td>2021</td><td>22111</td></tr>\n",
       "\t<tr><th scope=row>5</th><td>Dina</td><td>1#2021</td><td>1</td><td>2021</td><td>14123</td></tr>\n",
       "\t<tr><th scope=row>6</th><td>Nick</td><td>2#2021</td><td>2</td><td>2021</td><td>13442</td></tr>\n",
       "\t<tr><th scope=row>7</th><td>Jake</td><td>2#2021</td><td>2</td><td>2021</td><td>22871</td></tr>\n",
       "\t<tr><th scope=row>8</th><td>Anna</td><td>2#2021</td><td>2</td><td>2021</td><td>20343</td></tr>\n",
       "\t<tr><th scope=row>9</th><td>Jane</td><td>2#2021</td><td>2</td><td>2021</td><td>22222</td></tr>\n",
       "\t<tr><th scope=row>10</th><td>Dina</td><td>2#2021</td><td>2</td><td>2021</td><td>14456</td></tr>\n",
       "</tbody>\n",
       "</table>\n"
      ],
      "text/latex": [
       "A data.frame: 10 × 5\n",
       "\\begin{tabular}{r|lllll}\n",
       "  & Name & Qt & quater & year & salary\\\\\n",
       "  & <chr> & <chr> & <int> & <int> & <dbl>\\\\\n",
       "\\hline\n",
       "\t1 & Nick & 1\\#2021 & 1 & 2021 & 12442\\\\\n",
       "\t2 & Jake & 1\\#2021 & 1 & 2021 & 22131\\\\\n",
       "\t3 & Anna & 1\\#2021 & 1 & 2021 & 21343\\\\\n",
       "\t4 & Jane & 1\\#2021 & 1 & 2021 & 22111\\\\\n",
       "\t5 & Dina & 1\\#2021 & 1 & 2021 & 14123\\\\\n",
       "\t6 & Nick & 2\\#2021 & 2 & 2021 & 13442\\\\\n",
       "\t7 & Jake & 2\\#2021 & 2 & 2021 & 22871\\\\\n",
       "\t8 & Anna & 2\\#2021 & 2 & 2021 & 20343\\\\\n",
       "\t9 & Jane & 2\\#2021 & 2 & 2021 & 22222\\\\\n",
       "\t10 & Dina & 2\\#2021 & 2 & 2021 & 14456\\\\\n",
       "\\end{tabular}\n"
      ],
      "text/markdown": [
       "\n",
       "A data.frame: 10 × 5\n",
       "\n",
       "| <!--/--> | Name &lt;chr&gt; | Qt &lt;chr&gt; | quater &lt;int&gt; | year &lt;int&gt; | salary &lt;dbl&gt; |\n",
       "|---|---|---|---|---|---|\n",
       "| 1 | Nick | 1#2021 | 1 | 2021 | 12442 |\n",
       "| 2 | Jake | 1#2021 | 1 | 2021 | 22131 |\n",
       "| 3 | Anna | 1#2021 | 1 | 2021 | 21343 |\n",
       "| 4 | Jane | 1#2021 | 1 | 2021 | 22111 |\n",
       "| 5 | Dina | 1#2021 | 1 | 2021 | 14123 |\n",
       "| 6 | Nick | 2#2021 | 2 | 2021 | 13442 |\n",
       "| 7 | Jake | 2#2021 | 2 | 2021 | 22871 |\n",
       "| 8 | Anna | 2#2021 | 2 | 2021 | 20343 |\n",
       "| 9 | Jane | 2#2021 | 2 | 2021 | 22222 |\n",
       "| 10 | Dina | 2#2021 | 2 | 2021 | 14456 |\n",
       "\n"
      ],
      "text/plain": [
       "   Name Qt     quater year salary\n",
       "1  Nick 1#2021 1      2021 12442 \n",
       "2  Jake 1#2021 1      2021 22131 \n",
       "3  Anna 1#2021 1      2021 21343 \n",
       "4  Jane 1#2021 1      2021 22111 \n",
       "5  Dina 1#2021 1      2021 14123 \n",
       "6  Nick 2#2021 2      2021 13442 \n",
       "7  Jake 2#2021 2      2021 22871 \n",
       "8  Anna 2#2021 2      2021 20343 \n",
       "9  Jane 2#2021 2      2021 22222 \n",
       "10 Dina 2#2021 2      2021 14456 "
      ]
     },
     "metadata": {},
     "output_type": "display_data"
    }
   ],
   "source": [
    "# if dont want remove old columns use remove param\n",
    "united_data <- best_data %>%\n",
    "                unite(Qt, quater, year, sep = \"#\", remove = F)\n",
    "united_data"
   ]
  },
  {
   "cell_type": "markdown",
   "id": "623852f3",
   "metadata": {},
   "source": [
    "If you need to make table like initial use `spread()` function:"
   ]
  },
  {
   "cell_type": "code",
   "execution_count": 11,
   "id": "a40dbe74",
   "metadata": {
    "vscode": {
     "languageId": "r"
    }
   },
   "outputs": [
    {
     "data": {
      "text/html": [
       "<table class=\"dataframe\">\n",
       "<caption>A data.frame: 5 × 5</caption>\n",
       "<thead>\n",
       "\t<tr><th scope=col>Name</th><th scope=col>q1_2021</th><th scope=col>q2_2021</th><th scope=col>q3_2021</th><th scope=col>q4_2021</th></tr>\n",
       "\t<tr><th scope=col>&lt;chr&gt;</th><th scope=col>&lt;dbl&gt;</th><th scope=col>&lt;dbl&gt;</th><th scope=col>&lt;dbl&gt;</th><th scope=col>&lt;dbl&gt;</th></tr>\n",
       "</thead>\n",
       "<tbody>\n",
       "\t<tr><td>Anna</td><td>21343</td><td>20343</td><td>22456</td><td>21741</td></tr>\n",
       "\t<tr><td>Dina</td><td>14123</td><td>14456</td><td>14533</td><td>14511</td></tr>\n",
       "\t<tr><td>Jake</td><td>22131</td><td>22871</td><td>22031</td><td>20031</td></tr>\n",
       "\t<tr><td>Jane</td><td>22111</td><td>22222</td><td>22444</td><td>22333</td></tr>\n",
       "\t<tr><td>Nick</td><td>12442</td><td>13442</td><td>15482</td><td>14511</td></tr>\n",
       "</tbody>\n",
       "</table>\n"
      ],
      "text/latex": [
       "A data.frame: 5 × 5\n",
       "\\begin{tabular}{lllll}\n",
       " Name & q1\\_2021 & q2\\_2021 & q3\\_2021 & q4\\_2021\\\\\n",
       " <chr> & <dbl> & <dbl> & <dbl> & <dbl>\\\\\n",
       "\\hline\n",
       "\t Anna & 21343 & 20343 & 22456 & 21741\\\\\n",
       "\t Dina & 14123 & 14456 & 14533 & 14511\\\\\n",
       "\t Jake & 22131 & 22871 & 22031 & 20031\\\\\n",
       "\t Jane & 22111 & 22222 & 22444 & 22333\\\\\n",
       "\t Nick & 12442 & 13442 & 15482 & 14511\\\\\n",
       "\\end{tabular}\n"
      ],
      "text/markdown": [
       "\n",
       "A data.frame: 5 × 5\n",
       "\n",
       "| Name &lt;chr&gt; | q1_2021 &lt;dbl&gt; | q2_2021 &lt;dbl&gt; | q3_2021 &lt;dbl&gt; | q4_2021 &lt;dbl&gt; |\n",
       "|---|---|---|---|---|\n",
       "| Anna | 21343 | 20343 | 22456 | 21741 |\n",
       "| Dina | 14123 | 14456 | 14533 | 14511 |\n",
       "| Jake | 22131 | 22871 | 22031 | 20031 |\n",
       "| Jane | 22111 | 22222 | 22444 | 22333 |\n",
       "| Nick | 12442 | 13442 | 15482 | 14511 |\n",
       "\n"
      ],
      "text/plain": [
       "  Name q1_2021 q2_2021 q3_2021 q4_2021\n",
       "1 Anna 21343   20343   22456   21741  \n",
       "2 Dina 14123   14456   14533   14511  \n",
       "3 Jake 22131   22871   22031   20031  \n",
       "4 Jane 22111   22222   22444   22333  \n",
       "5 Nick 12442   13442   15482   14511  "
      ]
     },
     "metadata": {},
     "output_type": "display_data"
    }
   ],
   "source": [
    "not_good_data2 <- better_data %>%\n",
    "                    spread(quater, salary)\n",
    "not_good_data2"
   ]
  },
  {
   "cell_type": "markdown",
   "id": "c90b6712",
   "metadata": {},
   "source": [
    "Let's try to `spread()` feild `pop` of `gapminder` by year:"
   ]
  },
  {
   "cell_type": "code",
   "execution_count": 13,
   "id": "eda7f433-5a0f-464a-89df-aba4a78c742f",
   "metadata": {},
   "outputs": [],
   "source": [
    "library(gapminder)"
   ]
  },
  {
   "cell_type": "code",
   "execution_count": 14,
   "id": "060dc2cc",
   "metadata": {
    "vscode": {
     "languageId": "r"
    }
   },
   "outputs": [
    {
     "data": {
      "text/html": [
       "<table class=\"dataframe\">\n",
       "<caption>A tibble: 6 × 13</caption>\n",
       "<thead>\n",
       "\t<tr><th scope=col>country</th><th scope=col>1952</th><th scope=col>1957</th><th scope=col>1962</th><th scope=col>1967</th><th scope=col>1972</th><th scope=col>1977</th><th scope=col>1982</th><th scope=col>1987</th><th scope=col>1992</th><th scope=col>1997</th><th scope=col>2002</th><th scope=col>2007</th></tr>\n",
       "\t<tr><th scope=col>&lt;fct&gt;</th><th scope=col>&lt;int&gt;</th><th scope=col>&lt;int&gt;</th><th scope=col>&lt;int&gt;</th><th scope=col>&lt;int&gt;</th><th scope=col>&lt;int&gt;</th><th scope=col>&lt;int&gt;</th><th scope=col>&lt;int&gt;</th><th scope=col>&lt;int&gt;</th><th scope=col>&lt;int&gt;</th><th scope=col>&lt;int&gt;</th><th scope=col>&lt;int&gt;</th><th scope=col>&lt;int&gt;</th></tr>\n",
       "</thead>\n",
       "<tbody>\n",
       "\t<tr><td>Afghanistan</td><td> 8425333</td><td> 9240934</td><td>10267083</td><td>11537966</td><td>13079460</td><td>14880372</td><td>12881816</td><td>13867957</td><td>16317921</td><td>22227415</td><td>25268405</td><td>31889923</td></tr>\n",
       "\t<tr><td>Albania    </td><td> 1282697</td><td> 1476505</td><td> 1728137</td><td> 1984060</td><td> 2263554</td><td> 2509048</td><td> 2780097</td><td> 3075321</td><td> 3326498</td><td> 3428038</td><td> 3508512</td><td> 3600523</td></tr>\n",
       "\t<tr><td>Algeria    </td><td> 9279525</td><td>10270856</td><td>11000948</td><td>12760499</td><td>14760787</td><td>17152804</td><td>20033753</td><td>23254956</td><td>26298373</td><td>29072015</td><td>31287142</td><td>33333216</td></tr>\n",
       "\t<tr><td>Angola     </td><td> 4232095</td><td> 4561361</td><td> 4826015</td><td> 5247469</td><td> 5894858</td><td> 6162675</td><td> 7016384</td><td> 7874230</td><td> 8735988</td><td> 9875024</td><td>10866106</td><td>12420476</td></tr>\n",
       "\t<tr><td>Argentina  </td><td>17876956</td><td>19610538</td><td>21283783</td><td>22934225</td><td>24779799</td><td>26983828</td><td>29341374</td><td>31620918</td><td>33958947</td><td>36203463</td><td>38331121</td><td>40301927</td></tr>\n",
       "\t<tr><td>Australia  </td><td> 8691212</td><td> 9712569</td><td>10794968</td><td>11872264</td><td>13177000</td><td>14074100</td><td>15184200</td><td>16257249</td><td>17481977</td><td>18565243</td><td>19546792</td><td>20434176</td></tr>\n",
       "</tbody>\n",
       "</table>\n"
      ],
      "text/latex": [
       "A tibble: 6 × 13\n",
       "\\begin{tabular}{lllllllllllll}\n",
       " country & 1952 & 1957 & 1962 & 1967 & 1972 & 1977 & 1982 & 1987 & 1992 & 1997 & 2002 & 2007\\\\\n",
       " <fct> & <int> & <int> & <int> & <int> & <int> & <int> & <int> & <int> & <int> & <int> & <int> & <int>\\\\\n",
       "\\hline\n",
       "\t Afghanistan &  8425333 &  9240934 & 10267083 & 11537966 & 13079460 & 14880372 & 12881816 & 13867957 & 16317921 & 22227415 & 25268405 & 31889923\\\\\n",
       "\t Albania     &  1282697 &  1476505 &  1728137 &  1984060 &  2263554 &  2509048 &  2780097 &  3075321 &  3326498 &  3428038 &  3508512 &  3600523\\\\\n",
       "\t Algeria     &  9279525 & 10270856 & 11000948 & 12760499 & 14760787 & 17152804 & 20033753 & 23254956 & 26298373 & 29072015 & 31287142 & 33333216\\\\\n",
       "\t Angola      &  4232095 &  4561361 &  4826015 &  5247469 &  5894858 &  6162675 &  7016384 &  7874230 &  8735988 &  9875024 & 10866106 & 12420476\\\\\n",
       "\t Argentina   & 17876956 & 19610538 & 21283783 & 22934225 & 24779799 & 26983828 & 29341374 & 31620918 & 33958947 & 36203463 & 38331121 & 40301927\\\\\n",
       "\t Australia   &  8691212 &  9712569 & 10794968 & 11872264 & 13177000 & 14074100 & 15184200 & 16257249 & 17481977 & 18565243 & 19546792 & 20434176\\\\\n",
       "\\end{tabular}\n"
      ],
      "text/markdown": [
       "\n",
       "A tibble: 6 × 13\n",
       "\n",
       "| country &lt;fct&gt; | 1952 &lt;int&gt; | 1957 &lt;int&gt; | 1962 &lt;int&gt; | 1967 &lt;int&gt; | 1972 &lt;int&gt; | 1977 &lt;int&gt; | 1982 &lt;int&gt; | 1987 &lt;int&gt; | 1992 &lt;int&gt; | 1997 &lt;int&gt; | 2002 &lt;int&gt; | 2007 &lt;int&gt; |\n",
       "|---|---|---|---|---|---|---|---|---|---|---|---|---|\n",
       "| Afghanistan |  8425333 |  9240934 | 10267083 | 11537966 | 13079460 | 14880372 | 12881816 | 13867957 | 16317921 | 22227415 | 25268405 | 31889923 |\n",
       "| Albania     |  1282697 |  1476505 |  1728137 |  1984060 |  2263554 |  2509048 |  2780097 |  3075321 |  3326498 |  3428038 |  3508512 |  3600523 |\n",
       "| Algeria     |  9279525 | 10270856 | 11000948 | 12760499 | 14760787 | 17152804 | 20033753 | 23254956 | 26298373 | 29072015 | 31287142 | 33333216 |\n",
       "| Angola      |  4232095 |  4561361 |  4826015 |  5247469 |  5894858 |  6162675 |  7016384 |  7874230 |  8735988 |  9875024 | 10866106 | 12420476 |\n",
       "| Argentina   | 17876956 | 19610538 | 21283783 | 22934225 | 24779799 | 26983828 | 29341374 | 31620918 | 33958947 | 36203463 | 38331121 | 40301927 |\n",
       "| Australia   |  8691212 |  9712569 | 10794968 | 11872264 | 13177000 | 14074100 | 15184200 | 16257249 | 17481977 | 18565243 | 19546792 | 20434176 |\n",
       "\n"
      ],
      "text/plain": [
       "  country     1952     1957     1962     1967     1972     1977     1982    \n",
       "1 Afghanistan  8425333  9240934 10267083 11537966 13079460 14880372 12881816\n",
       "2 Albania      1282697  1476505  1728137  1984060  2263554  2509048  2780097\n",
       "3 Algeria      9279525 10270856 11000948 12760499 14760787 17152804 20033753\n",
       "4 Angola       4232095  4561361  4826015  5247469  5894858  6162675  7016384\n",
       "5 Argentina   17876956 19610538 21283783 22934225 24779799 26983828 29341374\n",
       "6 Australia    8691212  9712569 10794968 11872264 13177000 14074100 15184200\n",
       "  1987     1992     1997     2002     2007    \n",
       "1 13867957 16317921 22227415 25268405 31889923\n",
       "2  3075321  3326498  3428038  3508512  3600523\n",
       "3 23254956 26298373 29072015 31287142 33333216\n",
       "4  7874230  8735988  9875024 10866106 12420476\n",
       "5 31620918 33958947 36203463 38331121 40301927\n",
       "6 16257249 17481977 18565243 19546792 20434176"
      ]
     },
     "metadata": {},
     "output_type": "display_data"
    }
   ],
   "source": [
    "gapminder %>% select(country, pop, year) %>%\n",
    "                spread(year, pop) %>%\n",
    "                head() # for shorter code\n",
    "\n",
    "# now you can easy send data to your director in excel :)"
   ]
  },
  {
   "cell_type": "markdown",
   "id": "49734693",
   "metadata": {},
   "source": [
    "Functions table:\n",
    "\n",
    "|Function|Objectives|Arguments|\n",
    "|---|---|---|\n",
    "|`gather()`|Transform the data from wide to long|(data, key, value, na.rm = FALSE)|\n",
    "|`spread()`|Transform the data from long to wide|(data, key, value)|\n",
    "|`separate()`|Split one variables into two|(data, col, into, sep= \"\", remove = TRUE)|\n",
    "|`unite()`|Unite two variables into one|(data, col, conc ,sep= \"\", remove = TRUE)|"
   ]
  },
  {
   "cell_type": "markdown",
   "id": "f8de5135",
   "metadata": {},
   "source": [
    "---"
   ]
  },
  {
   "cell_type": "markdown",
   "id": "9592bda1",
   "metadata": {},
   "source": [
    "## Refences"
   ]
  },
  {
   "cell_type": "markdown",
   "id": "ae226f5e",
   "metadata": {},
   "source": [
    "1. [dplyr: A Grammar of Data Manipulation](https://cran.r-project.org/web/packages/dplyr/index.html) on https://cran.r-project.org/.\n",
    "2. [Data Transformation with splyr::cheat sheet](https://github.com/rstudio/cheatsheets/blob/master/data-transformation.pdf).\n",
    "3. [DPLYR TUTORIAL : DATA MANIPULATION (50 EXAMPLES)](https://www.listendata.com/2016/08/dplyr-tutorial.html) by Deepanshu Bhalla.\n",
    "5. [Dplyr Intro](https://stat545.com/dplyr-intro.html) by Stat 545.\n",
    "6.[R Dplyr Tutorial: Data Manipulation(Join) & Cleaning(Spread)](https://www.guru99.com/r-dplyr-tutorial.html). Introduction to Data Analysis\n",
    "7. [Loan Default Prediction. Beginners data set for financial analytics Kaggle](https://www.kaggle.com/kmldas/loan-default-prediction)"
   ]
  }
 ],
 "metadata": {
  "kernelspec": {
   "display_name": "R",
   "language": "R",
   "name": "ir"
  },
  "language_info": {
   "codemirror_mode": "r",
   "file_extension": ".r",
   "mimetype": "text/x-r-source",
   "name": "R",
   "pygments_lexer": "r",
   "version": "4.1.3"
  }
 },
 "nbformat": 4,
 "nbformat_minor": 5
}
