{
 "cells": [
  {
   "cell_type": "markdown",
   "id": "cd5752bb-bb6a-4cac-aafb-0d24f88f0589",
   "metadata": {},
   "source": [
    "---\n",
    "author: \"Юрій Клебан\"\n",
    "---"
   ]
  },
  {
   "cell_type": "markdown",
   "id": "c2414ff5",
   "metadata": {},
   "source": [
    "# CSV"
   ]
  },
  {
   "cell_type": "markdown",
   "id": "bfbdc29e-9921-4c08-994f-c1578b304e34",
   "metadata": {},
   "source": [
    "---"
   ]
  },
  {
   "cell_type": "markdown",
   "id": "698a3007-b996-4d72-9057-29d633da76f1",
   "metadata": {},
   "source": [
    "You need this packages for code execution:"
   ]
  },
  {
   "cell_type": "code",
   "execution_count": 1,
   "id": "d7c1f74f-e061-4f0c-9908-905ab7713267",
   "metadata": {},
   "outputs": [],
   "source": [
    "# install.packages(\"readr\")"
   ]
  },
  {
   "cell_type": "code",
   "execution_count": 79,
   "id": "13b036d6-61db-434e-b97d-bd419e7ba620",
   "metadata": {},
   "outputs": [],
   "source": [
    "invisible(Sys.setlocale(\"LC_ALL\", \"Ukrainian\"))\n",
    "invisible(options(warn=-1))"
   ]
  },
  {
   "cell_type": "markdown",
   "id": "c7ced297",
   "metadata": {},
   "source": [
    "---"
   ]
  },
  {
   "cell_type": "markdown",
   "id": "06d272fc",
   "metadata": {
    "tags": []
   },
   "source": [
    "## What is CSV (Comma Separated Values)?\n"
   ]
  },
  {
   "cell_type": "markdown",
   "id": "e1d4f620",
   "metadata": {},
   "source": [
    "`CSV` - comma separated values."
   ]
  },
  {
   "cell_type": "code",
   "execution_count": 80,
   "id": "40fa3165",
   "metadata": {},
   "outputs": [
    {
     "data": {
      "text/html": [
       "'E:/Repos/Season 2022/r-book/_book/docs/data-analysis-en'"
      ],
      "text/latex": [
       "'E:/Repos/Season 2022/r-book/\\_book/docs/data-analysis-en'"
      ],
      "text/markdown": [
       "'E:/Repos/Season 2022/r-book/_book/docs/data-analysis-en'"
      ],
      "text/plain": [
       "[1] \"E:/Repos/Season 2022/r-book/_book/docs/data-analysis-en\""
      ]
     },
     "metadata": {},
     "output_type": "display_data"
    }
   ],
   "source": [
    "# lets check current working directory to write correct files path\n",
    "getwd()"
   ]
  },
  {
   "cell_type": "markdown",
   "id": "f3547d6f",
   "metadata": {},
   "source": [
    "You can use `/` or `\\\\` for writing correct path in R. For example:"
   ]
  },
  {
   "cell_type": "code",
   "execution_count": 81,
   "id": "4f31749a",
   "metadata": {},
   "outputs": [],
   "source": [
    "path = \"d:/projects/file.csv\"\n",
    "path = \"d:\\\\projects\\\\file.csv\""
   ]
  },
  {
   "cell_type": "markdown",
   "id": "5bb015de",
   "metadata": {},
   "source": [
    "To combine path use `paste()` or `paste0()` functions"
   ]
  },
  {
   "cell_type": "code",
   "execution_count": 82,
   "id": "ac03ce77",
   "metadata": {},
   "outputs": [
    {
     "data": {
      "text/html": [
       "'E:/Repos/Season 2022/r-book/_book/docs/data-analysis-en'"
      ],
      "text/latex": [
       "'E:/Repos/Season 2022/r-book/\\_book/docs/data-analysis-en'"
      ],
      "text/markdown": [
       "'E:/Repos/Season 2022/r-book/_book/docs/data-analysis-en'"
      ],
      "text/plain": [
       "[1] \"E:/Repos/Season 2022/r-book/_book/docs/data-analysis-en\""
      ]
     },
     "metadata": {},
     "output_type": "display_data"
    }
   ],
   "source": [
    "work_dir = getwd()\n",
    "work_dir "
   ]
  },
  {
   "cell_type": "code",
   "execution_count": 83,
   "id": "2fc57102",
   "metadata": {},
   "outputs": [
    {
     "data": {
      "text/html": [
       "'E:/Repos/Season 2022/r-book/_book/docs/data-analysis-en/temp_file.csv'"
      ],
      "text/latex": [
       "'E:/Repos/Season 2022/r-book/\\_book/docs/data-analysis-en/temp\\_file.csv'"
      ],
      "text/markdown": [
       "'E:/Repos/Season 2022/r-book/_book/docs/data-analysis-en/temp_file.csv'"
      ],
      "text/plain": [
       "[1] \"E:/Repos/Season 2022/r-book/_book/docs/data-analysis-en/temp_file.csv\""
      ]
     },
     "metadata": {},
     "output_type": "display_data"
    }
   ],
   "source": [
    "file_name = \"temp_file.csv\"\n",
    "file_path = paste0(work_dir, \"/\", file_name)\n",
    "file_path"
   ]
  },
  {
   "cell_type": "code",
   "execution_count": 84,
   "id": "f530d601",
   "metadata": {},
   "outputs": [
    {
     "data": {
      "text/html": [
       "'E:/Repos/Season 2022/r-book/_book/docs/data-analysis-en/temp_file.csv'"
      ],
      "text/latex": [
       "'E:/Repos/Season 2022/r-book/\\_book/docs/data-analysis-en/temp\\_file.csv'"
      ],
      "text/markdown": [
       "'E:/Repos/Season 2022/r-book/_book/docs/data-analysis-en/temp_file.csv'"
      ],
      "text/plain": [
       "[1] \"E:/Repos/Season 2022/r-book/_book/docs/data-analysis-en/temp_file.csv\""
      ]
     },
     "metadata": {},
     "output_type": "display_data"
    }
   ],
   "source": [
    "file_path = paste(work_dir, file_name, sep = \"/\")\n",
    "file_path"
   ]
  },
  {
   "cell_type": "markdown",
   "id": "11232534",
   "metadata": {},
   "source": [
    "## Sample dataset description"
   ]
  },
  {
   "cell_type": "markdown",
   "id": "d507a339",
   "metadata": {},
   "source": [
    "Information about dataset from [kaggle.com](kaggle.com).\n",
    "Original file located at url: [https://www.kaggle.com/radmirzosimov/telecom-users-dataset](https://www.kaggle.com/radmirzosimov/telecom-users-dataset)."
   ]
  },
  {
   "cell_type": "markdown",
   "id": "74c2439e",
   "metadata": {},
   "source": [
    "Any business wants to maximize the number of customers. To achieve this goal, it is important not only to try to attract new ones, but also to retain existing ones. Retaining a client will cost the company less than attracting a new one. In addition, a new client may be weakly interested in business services and it will be difficult to work with him, while old clients already have the necessary data on interaction with the service.\n",
    "\n",
    "Accordingly, predicting the churn, we can react in time and try to keep the client who wants to leave. Based on the data about the services that the client uses, we can make him a special offer, trying to change his decision to leave the operator. This will make the task of retention easier to implement than the task of attracting new users, about which we do not know anything yet.\n",
    "\n",
    "You are provided with a dataset from a telecommunications company. The data contains information about almost six thousand users, their demographic characteristics, the services they use, the duration of using the operator's services, the method of payment, and the amount of payment.\n",
    "\n",
    "The task is to analyze the data and predict the churn of users (to identify people who will and will not renew their contract). The work should include the following mandatory items:\n",
    "\n",
    "1. Description of the data (with the calculation of basic statistics);\n",
    "2. Research of dependencies and formulation of hypotheses;\n",
    "3. Building models for predicting the outflow (with justification for the choice of a particular model) 4. based on tested hypotheses and identified relationships;\n",
    "5. Comparison of the quality of the obtained models.\n",
    "\n",
    "**Fields description:**\n",
    "\n",
    "- [x] `customerID` - customer id\n",
    "- [x] `gender` - client gender (male / female)\n",
    "- [x] `SeniorCitizen` - is the client retired (1, 0)\n",
    "- [x] `Partner` - is the client married (Yes, No)\n",
    "- [x] `tenure` - how many months a person has been a client of the company\n",
    "- [x] `PhoneService` - is the telephone service connected (Yes, No)\n",
    "- [x] `MultipleLines` - are multiple phone lines connected (Yes, No, No phone service)\n",
    "- [x] `InternetService` - client's Internet service provider (DSL, Fiber optic, No)\n",
    "- [x] `OnlineSecurity` - is the online security service connected (Yes, No, No internet service)\n",
    "- [x] `OnlineBackup` - is the online backup service activated (Yes, No, No internet service)\n",
    "- [x] `DeviceProtection` - does the client have equipment insurance (Yes, No, No internet service)\n",
    "- [x] `TechSupport` - is the technical support service connected (Yes, No, No internet service)\n",
    "- [x] `StreamingTV` - is the streaming TV service connected (Yes, No, No internet service)\n",
    "- [x] `StreamingMovies` - is the streaming cinema service activated (Yes, No, No internet service)\n",
    "- [x] `Contract` - type of customer contract (Month-to-month, One year, Two year)\n",
    "- [x] `PaperlessBilling` - whether the client uses paperless billing (Yes, No)\n",
    "- [x] `PaymentMethod` - payment method (Electronic check, Mailed check, Bank transfer (automatic), Credit card (automatic))\n",
    "- [x] `MonthlyCharges` - current monthly payment\n",
    "- [x] `TotalCharges` - the total amount that the client paid for the services for the entire time\n",
    "- [x] `Churn - whether` there was a churn (Yes or No)\n"
   ]
  },
  {
   "cell_type": "markdown",
   "id": "9c9d1eac-6c3a-434e-846c-d1351478a382",
   "metadata": {},
   "source": [
    "## Reading"
   ]
  },
  {
   "cell_type": "markdown",
   "id": "99974c7f",
   "metadata": {},
   "source": [
    "Thare are few methods for reading/writing csv in `base` package:"
   ]
  },
  {
   "cell_type": "markdown",
   "id": "be0055ff",
   "metadata": {},
   "source": [
    "- [x] `read.csv()`, `write.csv` - default data separator is `,`, decimal is separator `.`.\n",
    "- [x] `read.csv2()`, `write.csv2` - default data separator is `;`, decimal is separator `,`."
   ]
  },
  {
   "cell_type": "markdown",
   "id": "64df9857",
   "metadata": {},
   "source": [
    "Before using any new function check it usage information with `help(function_name)` or `?function_name`, example: **`?read.csv`**."
   ]
  },
  {
   "cell_type": "markdown",
   "id": "8932fdb0",
   "metadata": {},
   "source": [
    "You can read (current data set has NA values as example, there are no NA in original datase):"
   ]
  },
  {
   "cell_type": "code",
   "execution_count": 85,
   "id": "f5540799",
   "metadata": {},
   "outputs": [
    {
     "name": "stdout",
     "output_type": "stream",
     "text": [
      "'data.frame':\t5986 obs. of  22 variables:\n",
      " $ X               : int  1869 4528 6344 6739 432 2215 5260 6001 1480 5137 ...\n",
      " $ customerID      : chr  \"7010-BRBUU\" \"9688-YGXVR\" \"9286-DOJGF\" \"6994-KERXL\" ...\n",
      " $ gender          : chr  \"Male\" \"Female\" \"Female\" \"Male\" ...\n",
      " $ SeniorCitizen   : int  0 0 1 0 0 0 0 0 0 1 ...\n",
      " $ Partner         : chr  \"Yes\" \"No\" \"Yes\" \"No\" ...\n",
      " $ Dependents      : chr  \"Yes\" \"No\" \"No\" \"No\" ...\n",
      " $ tenure          : int  72 44 38 4 2 70 33 1 39 55 ...\n",
      " $ PhoneService    : chr  \"Yes\" \"Yes\" \"Yes\" \"Yes\" ...\n",
      " $ MultipleLines   : chr  \"Yes\" \"No\" \"Yes\" \"No\" ...\n",
      " $ InternetService : chr  \"No\" \"Fiber optic\" \"Fiber optic\" \"DSL\" ...\n",
      " $ OnlineSecurity  : chr  \"No internet service\" \"No\" \"No\" \"No\" ...\n",
      " $ OnlineBackup    : chr  \"No internet service\" \"Yes\" \"No\" \"No\" ...\n",
      " $ DeviceProtection: chr  \"No internet service\" \"Yes\" \"No\" \"No\" ...\n",
      " $ TechSupport     : chr  \"No internet service\" \"No\" \"No\" \"No\" ...\n",
      " $ StreamingTV     : chr  \"No internet service\" \"Yes\" \"No\" \"No\" ...\n",
      " $ StreamingMovies : chr  \"No internet service\" \"No\" \"No\" \"Yes\" ...\n",
      " $ Contract        : chr  \"Two year\" \"Month-to-month\" \"Month-to-month\" \"Month-to-month\" ...\n",
      " $ PaperlessBilling: chr  \"No\" \"Yes\" \"Yes\" \"Yes\" ...\n",
      " $ PaymentMethod   : chr  \"Credit card (automatic)\" \"Credit card (automatic)\" \"Bank transfer (automatic)\" \"Electronic check\" ...\n",
      " $ MonthlyCharges  : chr  \"24.1\" \"88.15\" \"74.95\" \"55.9\" ...\n",
      " $ TotalCharges    : num  1735 3973 2870 238 120 ...\n",
      " $ Churn           : chr  \"No\" \"No\" \"Yes\" \"No\" ...\n"
     ]
    }
   ],
   "source": [
    "data <- read.csv(\"../../data/telecom_users.csv\") # default reading\n",
    "str(data)"
   ]
  },
  {
   "cell_type": "code",
   "execution_count": 86,
   "id": "cc88882a",
   "metadata": {},
   "outputs": [],
   "source": [
    "data <- read.csv(\"../../data/telecom_users.csv\",\n",
    "                  sep = \",\", # comma not only possibel separator\n",
    "                  dec = \".\", # decimal separator can be different\n",
    "                  na.strings = c(\"\", \"NA\", \"NULL\")) # you can define NA values"
   ]
  },
  {
   "cell_type": "code",
   "execution_count": 87,
   "id": "dde8cb71",
   "metadata": {},
   "outputs": [
    {
     "name": "stdout",
     "output_type": "stream",
     "text": [
      "'data.frame':\t5986 obs. of  22 variables:\n",
      " $ X               : int  1869 4528 6344 6739 432 2215 5260 6001 1480 5137 ...\n",
      " $ customerID      : chr  \"7010-BRBUU\" \"9688-YGXVR\" \"9286-DOJGF\" \"6994-KERXL\" ...\n",
      " $ gender          : chr  \"Male\" \"Female\" \"Female\" \"Male\" ...\n",
      " $ SeniorCitizen   : int  0 0 1 0 0 0 0 0 0 1 ...\n",
      " $ Partner         : chr  \"Yes\" \"No\" \"Yes\" \"No\" ...\n",
      " $ Dependents      : chr  \"Yes\" \"No\" \"No\" \"No\" ...\n",
      " $ tenure          : int  72 44 38 4 2 70 33 1 39 55 ...\n",
      " $ PhoneService    : chr  \"Yes\" \"Yes\" \"Yes\" \"Yes\" ...\n",
      " $ MultipleLines   : chr  \"Yes\" \"No\" \"Yes\" \"No\" ...\n",
      " $ InternetService : chr  \"No\" \"Fiber optic\" \"Fiber optic\" \"DSL\" ...\n",
      " $ OnlineSecurity  : chr  \"No internet service\" \"No\" \"No\" \"No\" ...\n",
      " $ OnlineBackup    : chr  \"No internet service\" \"Yes\" \"No\" \"No\" ...\n",
      " $ DeviceProtection: chr  \"No internet service\" \"Yes\" \"No\" \"No\" ...\n",
      " $ TechSupport     : chr  \"No internet service\" \"No\" \"No\" \"No\" ...\n",
      " $ StreamingTV     : chr  \"No internet service\" \"Yes\" \"No\" \"No\" ...\n",
      " $ StreamingMovies : chr  \"No internet service\" \"No\" \"No\" \"Yes\" ...\n",
      " $ Contract        : chr  \"Two year\" \"Month-to-month\" \"Month-to-month\" \"Month-to-month\" ...\n",
      " $ PaperlessBilling: chr  \"No\" \"Yes\" \"Yes\" \"Yes\" ...\n",
      " $ PaymentMethod   : chr  \"Credit card (automatic)\" \"Credit card (automatic)\" \"Bank transfer (automatic)\" \"Electronic check\" ...\n",
      " $ MonthlyCharges  : num  24.1 88.2 75 55.9 53.5 ...\n",
      " $ TotalCharges    : num  1735 3973 2870 238 120 ...\n",
      " $ Churn           : chr  \"No\" \"No\" \"Yes\" \"No\" ...\n"
     ]
    }
   ],
   "source": [
    "str(data) # chack data structure / types/ values"
   ]
  },
  {
   "cell_type": "code",
   "execution_count": 88,
   "id": "9d3d097d",
   "metadata": {},
   "outputs": [
    {
     "data": {
      "text/html": [
       "<table class=\"dataframe\">\n",
       "<caption>A data.frame: 2 × 22</caption>\n",
       "<thead>\n",
       "\t<tr><th></th><th scope=col>X</th><th scope=col>customerID</th><th scope=col>gender</th><th scope=col>SeniorCitizen</th><th scope=col>Partner</th><th scope=col>Dependents</th><th scope=col>tenure</th><th scope=col>PhoneService</th><th scope=col>MultipleLines</th><th scope=col>InternetService</th><th scope=col>...</th><th scope=col>DeviceProtection</th><th scope=col>TechSupport</th><th scope=col>StreamingTV</th><th scope=col>StreamingMovies</th><th scope=col>Contract</th><th scope=col>PaperlessBilling</th><th scope=col>PaymentMethod</th><th scope=col>MonthlyCharges</th><th scope=col>TotalCharges</th><th scope=col>Churn</th></tr>\n",
       "\t<tr><th></th><th scope=col>&lt;int&gt;</th><th scope=col>&lt;chr&gt;</th><th scope=col>&lt;chr&gt;</th><th scope=col>&lt;int&gt;</th><th scope=col>&lt;chr&gt;</th><th scope=col>&lt;chr&gt;</th><th scope=col>&lt;int&gt;</th><th scope=col>&lt;chr&gt;</th><th scope=col>&lt;chr&gt;</th><th scope=col>&lt;chr&gt;</th><th scope=col>...</th><th scope=col>&lt;chr&gt;</th><th scope=col>&lt;chr&gt;</th><th scope=col>&lt;chr&gt;</th><th scope=col>&lt;chr&gt;</th><th scope=col>&lt;chr&gt;</th><th scope=col>&lt;chr&gt;</th><th scope=col>&lt;chr&gt;</th><th scope=col>&lt;dbl&gt;</th><th scope=col>&lt;dbl&gt;</th><th scope=col>&lt;chr&gt;</th></tr>\n",
       "</thead>\n",
       "<tbody>\n",
       "\t<tr><th scope=row>1</th><td>1869</td><td>7010-BRBUU</td><td>Male  </td><td>0</td><td>Yes</td><td>Yes</td><td>72</td><td>Yes</td><td>Yes</td><td>No         </td><td>...</td><td>No internet service</td><td>No internet service</td><td>No internet service</td><td>No internet service</td><td>Two year      </td><td>No </td><td>Credit card (automatic)</td><td>24.10</td><td>1734.65</td><td>No</td></tr>\n",
       "\t<tr><th scope=row>2</th><td>4528</td><td>9688-YGXVR</td><td>Female</td><td>0</td><td>No </td><td>No </td><td>44</td><td>Yes</td><td>No </td><td>Fiber optic</td><td>...</td><td>Yes                </td><td>No                 </td><td>Yes                </td><td>No                 </td><td>Month-to-month</td><td>Yes</td><td>Credit card (automatic)</td><td>88.15</td><td>3973.20</td><td>No</td></tr>\n",
       "</tbody>\n",
       "</table>\n"
      ],
      "text/latex": [
       "A data.frame: 2 × 22\n",
       "\\begin{tabular}{r|lllllllllllllllllllll}\n",
       "  & X & customerID & gender & SeniorCitizen & Partner & Dependents & tenure & PhoneService & MultipleLines & InternetService & ... & DeviceProtection & TechSupport & StreamingTV & StreamingMovies & Contract & PaperlessBilling & PaymentMethod & MonthlyCharges & TotalCharges & Churn\\\\\n",
       "  & <int> & <chr> & <chr> & <int> & <chr> & <chr> & <int> & <chr> & <chr> & <chr> & ... & <chr> & <chr> & <chr> & <chr> & <chr> & <chr> & <chr> & <dbl> & <dbl> & <chr>\\\\\n",
       "\\hline\n",
       "\t1 & 1869 & 7010-BRBUU & Male   & 0 & Yes & Yes & 72 & Yes & Yes & No          & ... & No internet service & No internet service & No internet service & No internet service & Two year       & No  & Credit card (automatic) & 24.10 & 1734.65 & No\\\\\n",
       "\t2 & 4528 & 9688-YGXVR & Female & 0 & No  & No  & 44 & Yes & No  & Fiber optic & ... & Yes                 & No                  & Yes                 & No                  & Month-to-month & Yes & Credit card (automatic) & 88.15 & 3973.20 & No\\\\\n",
       "\\end{tabular}\n"
      ],
      "text/markdown": [
       "\n",
       "A data.frame: 2 × 22\n",
       "\n",
       "| <!--/--> | X &lt;int&gt; | customerID &lt;chr&gt; | gender &lt;chr&gt; | SeniorCitizen &lt;int&gt; | Partner &lt;chr&gt; | Dependents &lt;chr&gt; | tenure &lt;int&gt; | PhoneService &lt;chr&gt; | MultipleLines &lt;chr&gt; | InternetService &lt;chr&gt; | ... ... | DeviceProtection &lt;chr&gt; | TechSupport &lt;chr&gt; | StreamingTV &lt;chr&gt; | StreamingMovies &lt;chr&gt; | Contract &lt;chr&gt; | PaperlessBilling &lt;chr&gt; | PaymentMethod &lt;chr&gt; | MonthlyCharges &lt;dbl&gt; | TotalCharges &lt;dbl&gt; | Churn &lt;chr&gt; |\n",
       "|---|---|---|---|---|---|---|---|---|---|---|---|---|---|---|---|---|---|---|---|---|---|\n",
       "| 1 | 1869 | 7010-BRBUU | Male   | 0 | Yes | Yes | 72 | Yes | Yes | No          | ... | No internet service | No internet service | No internet service | No internet service | Two year       | No  | Credit card (automatic) | 24.10 | 1734.65 | No |\n",
       "| 2 | 4528 | 9688-YGXVR | Female | 0 | No  | No  | 44 | Yes | No  | Fiber optic | ... | Yes                 | No                  | Yes                 | No                  | Month-to-month | Yes | Credit card (automatic) | 88.15 | 3973.20 | No |\n",
       "\n"
      ],
      "text/plain": [
       "  X    customerID gender SeniorCitizen Partner Dependents tenure PhoneService\n",
       "1 1869 7010-BRBUU Male   0             Yes     Yes        72     Yes         \n",
       "2 4528 9688-YGXVR Female 0             No      No         44     Yes         \n",
       "  MultipleLines InternetService ... DeviceProtection    TechSupport        \n",
       "1 Yes           No              ... No internet service No internet service\n",
       "2 No            Fiber optic     ... Yes                 No                 \n",
       "  StreamingTV         StreamingMovies     Contract       PaperlessBilling\n",
       "1 No internet service No internet service Two year       No              \n",
       "2 Yes                 No                  Month-to-month Yes             \n",
       "  PaymentMethod           MonthlyCharges TotalCharges Churn\n",
       "1 Credit card (automatic) 24.10          1734.65      No   \n",
       "2 Credit card (automatic) 88.15          3973.20      No   "
      ]
     },
     "metadata": {},
     "output_type": "display_data"
    }
   ],
   "source": [
    "head(data, 2) # top 6 rows, use n = X, for viewing top X lines"
   ]
  },
  {
   "cell_type": "code",
   "execution_count": 89,
   "id": "0cf93220",
   "metadata": {},
   "outputs": [
    {
     "data": {
      "text/html": [
       "TRUE"
      ],
      "text/latex": [
       "TRUE"
      ],
      "text/markdown": [
       "TRUE"
      ],
      "text/plain": [
       "[1] TRUE"
      ]
     },
     "metadata": {},
     "output_type": "display_data"
    }
   ],
   "source": [
    "is.data.frame(data) # if data is data.frame"
   ]
  },
  {
   "cell_type": "code",
   "execution_count": 90,
   "id": "b7cc1409",
   "metadata": {},
   "outputs": [
    {
     "data": {
      "text/html": [
       "TRUE"
      ],
      "text/latex": [
       "TRUE"
      ],
      "text/markdown": [
       "TRUE"
      ],
      "text/plain": [
       "[1] TRUE"
      ]
     },
     "metadata": {},
     "output_type": "display_data"
    }
   ],
   "source": [
    "anyNA(data) # if dataframe contains any NA values"
   ]
  },
  {
   "cell_type": "code",
   "execution_count": 91,
   "id": "b47801cd",
   "metadata": {},
   "outputs": [
    {
     "data": {
      "text/html": [
       "<dl>\n",
       "\t<dt>$X</dt>\n",
       "\t\t<dd>FALSE</dd>\n",
       "\t<dt>$customerID</dt>\n",
       "\t\t<dd>FALSE</dd>\n",
       "\t<dt>$gender</dt>\n",
       "\t\t<dd>FALSE</dd>\n",
       "\t<dt>$SeniorCitizen</dt>\n",
       "\t\t<dd>FALSE</dd>\n",
       "\t<dt>$Partner</dt>\n",
       "\t\t<dd>FALSE</dd>\n",
       "\t<dt>$Dependents</dt>\n",
       "\t\t<dd>FALSE</dd>\n",
       "\t<dt>$tenure</dt>\n",
       "\t\t<dd>FALSE</dd>\n",
       "\t<dt>$PhoneService</dt>\n",
       "\t\t<dd>FALSE</dd>\n",
       "\t<dt>$MultipleLines</dt>\n",
       "\t\t<dd>FALSE</dd>\n",
       "\t<dt>$InternetService</dt>\n",
       "\t\t<dd>FALSE</dd>\n",
       "\t<dt>$OnlineSecurity</dt>\n",
       "\t\t<dd>FALSE</dd>\n",
       "\t<dt>$OnlineBackup</dt>\n",
       "\t\t<dd>FALSE</dd>\n",
       "\t<dt>$DeviceProtection</dt>\n",
       "\t\t<dd>FALSE</dd>\n",
       "\t<dt>$TechSupport</dt>\n",
       "\t\t<dd>FALSE</dd>\n",
       "\t<dt>$StreamingTV</dt>\n",
       "\t\t<dd>FALSE</dd>\n",
       "\t<dt>$StreamingMovies</dt>\n",
       "\t\t<dd>FALSE</dd>\n",
       "\t<dt>$Contract</dt>\n",
       "\t\t<dd>FALSE</dd>\n",
       "\t<dt>$PaperlessBilling</dt>\n",
       "\t\t<dd>FALSE</dd>\n",
       "\t<dt>$PaymentMethod</dt>\n",
       "\t\t<dd>FALSE</dd>\n",
       "\t<dt>$MonthlyCharges</dt>\n",
       "\t\t<dd>TRUE</dd>\n",
       "\t<dt>$TotalCharges</dt>\n",
       "\t\t<dd>TRUE</dd>\n",
       "\t<dt>$Churn</dt>\n",
       "\t\t<dd>FALSE</dd>\n",
       "</dl>\n"
      ],
      "text/latex": [
       "\\begin{description}\n",
       "\\item[\\$X] FALSE\n",
       "\\item[\\$customerID] FALSE\n",
       "\\item[\\$gender] FALSE\n",
       "\\item[\\$SeniorCitizen] FALSE\n",
       "\\item[\\$Partner] FALSE\n",
       "\\item[\\$Dependents] FALSE\n",
       "\\item[\\$tenure] FALSE\n",
       "\\item[\\$PhoneService] FALSE\n",
       "\\item[\\$MultipleLines] FALSE\n",
       "\\item[\\$InternetService] FALSE\n",
       "\\item[\\$OnlineSecurity] FALSE\n",
       "\\item[\\$OnlineBackup] FALSE\n",
       "\\item[\\$DeviceProtection] FALSE\n",
       "\\item[\\$TechSupport] FALSE\n",
       "\\item[\\$StreamingTV] FALSE\n",
       "\\item[\\$StreamingMovies] FALSE\n",
       "\\item[\\$Contract] FALSE\n",
       "\\item[\\$PaperlessBilling] FALSE\n",
       "\\item[\\$PaymentMethod] FALSE\n",
       "\\item[\\$MonthlyCharges] TRUE\n",
       "\\item[\\$TotalCharges] TRUE\n",
       "\\item[\\$Churn] FALSE\n",
       "\\end{description}\n"
      ],
      "text/markdown": [
       "$X\n",
       ":   FALSE\n",
       "$customerID\n",
       ":   FALSE\n",
       "$gender\n",
       ":   FALSE\n",
       "$SeniorCitizen\n",
       ":   FALSE\n",
       "$Partner\n",
       ":   FALSE\n",
       "$Dependents\n",
       ":   FALSE\n",
       "$tenure\n",
       ":   FALSE\n",
       "$PhoneService\n",
       ":   FALSE\n",
       "$MultipleLines\n",
       ":   FALSE\n",
       "$InternetService\n",
       ":   FALSE\n",
       "$OnlineSecurity\n",
       ":   FALSE\n",
       "$OnlineBackup\n",
       ":   FALSE\n",
       "$DeviceProtection\n",
       ":   FALSE\n",
       "$TechSupport\n",
       ":   FALSE\n",
       "$StreamingTV\n",
       ":   FALSE\n",
       "$StreamingMovies\n",
       ":   FALSE\n",
       "$Contract\n",
       ":   FALSE\n",
       "$PaperlessBilling\n",
       ":   FALSE\n",
       "$PaymentMethod\n",
       ":   FALSE\n",
       "$MonthlyCharges\n",
       ":   TRUE\n",
       "$TotalCharges\n",
       ":   TRUE\n",
       "$Churn\n",
       ":   FALSE\n",
       "\n",
       "\n"
      ],
      "text/plain": [
       "$X\n",
       "[1] FALSE\n",
       "\n",
       "$customerID\n",
       "[1] FALSE\n",
       "\n",
       "$gender\n",
       "[1] FALSE\n",
       "\n",
       "$SeniorCitizen\n",
       "[1] FALSE\n",
       "\n",
       "$Partner\n",
       "[1] FALSE\n",
       "\n",
       "$Dependents\n",
       "[1] FALSE\n",
       "\n",
       "$tenure\n",
       "[1] FALSE\n",
       "\n",
       "$PhoneService\n",
       "[1] FALSE\n",
       "\n",
       "$MultipleLines\n",
       "[1] FALSE\n",
       "\n",
       "$InternetService\n",
       "[1] FALSE\n",
       "\n",
       "$OnlineSecurity\n",
       "[1] FALSE\n",
       "\n",
       "$OnlineBackup\n",
       "[1] FALSE\n",
       "\n",
       "$DeviceProtection\n",
       "[1] FALSE\n",
       "\n",
       "$TechSupport\n",
       "[1] FALSE\n",
       "\n",
       "$StreamingTV\n",
       "[1] FALSE\n",
       "\n",
       "$StreamingMovies\n",
       "[1] FALSE\n",
       "\n",
       "$Contract\n",
       "[1] FALSE\n",
       "\n",
       "$PaperlessBilling\n",
       "[1] FALSE\n",
       "\n",
       "$PaymentMethod\n",
       "[1] FALSE\n",
       "\n",
       "$MonthlyCharges\n",
       "[1] TRUE\n",
       "\n",
       "$TotalCharges\n",
       "[1] TRUE\n",
       "\n",
       "$Churn\n",
       "[1] FALSE\n"
      ]
     },
     "metadata": {},
     "output_type": "display_data"
    }
   ],
   "source": [
    "lapply(data, anyNA)\n",
    "#lapply(, any) #check NA by 2nd dimension - columns"
   ]
  },
  {
   "cell_type": "markdown",
   "id": "851e1308",
   "metadata": {},
   "source": [
    "Check `MonthlyCharges: TRUE` and `TotalCharges: TRUE`. These columns has NA-values."
   ]
  },
  {
   "cell_type": "markdown",
   "id": "ea64b553",
   "metadata": {},
   "source": [
    "Let's replace them with `mean`: "
   ]
  },
  {
   "cell_type": "code",
   "execution_count": 92,
   "id": "8102282d",
   "metadata": {},
   "outputs": [],
   "source": [
    "data[is.na(data$TotalCharges), \"TotalCharges\"] <- mean(data$TotalCharges, na.rm = T)\n",
    "data[is.na(data$MonthlyCharges), \"MonthlyCharges\"] <- mean(data$MonthlyCharges, na.rm = T)"
   ]
  },
  {
   "cell_type": "code",
   "execution_count": 93,
   "id": "dbb70d6e",
   "metadata": {},
   "outputs": [
    {
     "data": {
      "text/html": [
       "FALSE"
      ],
      "text/latex": [
       "FALSE"
      ],
      "text/markdown": [
       "FALSE"
      ],
      "text/plain": [
       "[1] FALSE"
      ]
     },
     "metadata": {},
     "output_type": "display_data"
    }
   ],
   "source": [
    "any(is.na(data)) # check for NA"
   ]
  },
  {
   "cell_type": "markdown",
   "id": "a0638653",
   "metadata": {},
   "source": [
    "You can write data with `write.csv()`, `write.csv2()` from `base` package."
   ]
  },
  {
   "cell_type": "code",
   "execution_count": 2,
   "id": "9f5b3392",
   "metadata": {},
   "outputs": [
    {
     "ename": "ERROR",
     "evalue": "Error in as.data.frame.default(x[[i]], optional = TRUE): cannot coerce class '\"function\"' to a data.frame\n",
     "output_type": "error",
     "traceback": [
      "Error in as.data.frame.default(x[[i]], optional = TRUE): cannot coerce class '\"function\"' to a data.frame\nTraceback:\n",
      "1. write.csv(data, file = \"../../data/cleaned_data.csv\", row.names = F)",
      "2. eval.parent(Call)",
      "3. eval(expr, p)",
      "4. eval(expr, p)",
      "5. utils::write.table(data, file = \"../../data/cleaned_data.csv\", \n .     row.names = F, col.names = TRUE, sep = \",\", dec = \".\", qmethod = \"double\")",
      "6. data.frame(x)",
      "7. as.data.frame(x[[i]], optional = TRUE)",
      "8. as.data.frame.default(x[[i]], optional = TRUE)",
      "9. stop(gettextf(\"cannot coerce class %s to a data.frame\", sQuote(deparse(class(x))[1L])), \n .     domain = NA)"
     ]
    }
   ],
   "source": [
    "write.csv(data, file = \"../../data/cleaned_data.csv\", row.names = F)\n",
    "# by default row.names = TRUE and file will contain first column with row numbers 1,2, ..., N"
   ]
  },
  {
   "cell_type": "markdown",
   "id": "2d4025c9-8af0-40d7-8105-7da4111d86ee",
   "metadata": {},
   "source": [
    "## `readr` package"
   ]
  },
  {
   "cell_type": "markdown",
   "id": "17fe3109",
   "metadata": {},
   "source": [
    "One more useful package is `readr`. Examples of using:"
   ]
  },
  {
   "cell_type": "code",
   "execution_count": 95,
   "id": "bf5cf558",
   "metadata": {},
   "outputs": [],
   "source": [
    "# library(readr)\n",
    "# data <- read_csv(file = \"../../data/telecom_users.csv\")\n",
    "# data <- read_csv2(file = \"../../data/telecom_users.csv\")`"
   ]
  },
  {
   "cell_type": "markdown",
   "id": "44b4185e",
   "metadata": {},
   "source": [
    "---"
   ]
  },
  {
   "cell_type": "markdown",
   "id": "a136ea00-b865-4ab3-8c14-148ecb23601d",
   "metadata": {},
   "source": [
    "## Набори даних"
   ]
  },
  {
   "cell_type": "markdown",
   "id": "a2203039-029b-4de2-a70e-b36feba50c05",
   "metadata": {},
   "source": [
    "1. https://github.com/kleban/r-book-published/tree/main/datasets/telecom_users.csv\n",
    "2. https://github.com/kleban/r-book-published/tree/main/datasets/telecom_sers.xlsx\n",
    "3. https://github.com/kleban/r-book-published/tree/main/datasets/Default_Fin.csv\n",
    "4. https://github.com/kleban/r-book-published/tree/main/datasets/employes.xml"
   ]
  },
  {
   "cell_type": "markdown",
   "id": "3c4e296e-7434-454a-ab2e-a3fe95f4de05",
   "metadata": {},
   "source": [
    "---"
   ]
  },
  {
   "cell_type": "markdown",
   "id": "e5f6def2",
   "metadata": {},
   "source": [
    "## References"
   ]
  },
  {
   "cell_type": "markdown",
   "id": "c158f38a",
   "metadata": {},
   "source": [
    "1. [SQLite in R. Datacamp](https://www.datacamp.com/community/tutorials/sqlite-in-r)\n",
    "2. [Tidyverse googlesheets4 0.2.0](https://www.tidyverse.org/blog/2020/05/googlesheets4-0-2-0/)\n",
    "<!-- 3. [Telecom users dataset. Practice classification with a telco dataset.Kaggle](https://www.kaggle.com/radmirzosimov/telecom-users-dataset) -->\n",
    "4. [Binanace spot Api Docs](https://github.com/binance/binance-spot-api-docs/blob/master/rest-api.md#klinecandlestick-data)\n",
    "5. [Web Scraping in R: rvest Tutorial](https://www.datacamp.com/community/tutorials/r-web-scraping-rvest) by Arvid Kingl"
   ]
  },
  {
   "cell_type": "markdown",
   "id": "8c519f77-7135-4c7f-8e5e-5b0b369c390e",
   "metadata": {},
   "source": []
  }
 ],
 "metadata": {
  "kernelspec": {
   "display_name": "R",
   "language": "R",
   "name": "ir"
  },
  "language_info": {
   "codemirror_mode": "r",
   "file_extension": ".r",
   "mimetype": "text/x-r-source",
   "name": "R",
   "pygments_lexer": "r",
   "version": "4.1.3"
  }
 },
 "nbformat": 4,
 "nbformat_minor": 5
}
