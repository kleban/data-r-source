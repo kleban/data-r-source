{
 "cells": [
  {
   "cell_type": "markdown",
   "id": "98a5853a-1190-4fac-8cd4-5da1462c2e88",
   "metadata": {},
   "source": [
    "---\n",
    "\n",
    "author: Юрій Клебан\n",
    "\n",
    "---"
   ]
  },
  {
   "cell_type": "markdown",
   "id": "45318bbc",
   "metadata": {},
   "source": [
    "# Create new variables with **`mutate()`**"
   ]
  },
  {
   "cell_type": "markdown",
   "id": "4c63f4e2-5c06-4962-9b8c-b6dbb6c3c8f6",
   "metadata": {},
   "source": [
    "Before start load packages"
   ]
  },
  {
   "cell_type": "code",
   "execution_count": 3,
   "id": "4c9a28ab-9102-4b94-96eb-cd2543ebf4d9",
   "metadata": {},
   "outputs": [],
   "source": [
    "library(dplyr) # for demos\n",
    "#install.packages(\"gapminder\")\n",
    "library(gapminder)  # load package and dataset"
   ]
  },
  {
   "cell_type": "markdown",
   "id": "836d2b56",
   "metadata": {},
   "source": [
    "`mutate(.data, …)` compute new column(s). \n",
    "Lets compute new column for `gapminder`\n",
    "\n",
    "$gdpTotal = gdpPercap * pop / 1000000$.\n"
   ]
  },
  {
   "cell_type": "code",
   "execution_count": 4,
   "id": "525ac7f0",
   "metadata": {
    "vscode": {
     "languageId": "r"
    }
   },
   "outputs": [
    {
     "data": {
      "text/html": [
       "<table class=\"dataframe\">\n",
       "<caption>A tibble: 10 × 7</caption>\n",
       "<thead>\n",
       "\t<tr><th scope=col>country</th><th scope=col>continent</th><th scope=col>year</th><th scope=col>lifeExp</th><th scope=col>pop</th><th scope=col>gdpPercap</th><th scope=col>gdpTotal</th></tr>\n",
       "\t<tr><th scope=col>&lt;fct&gt;</th><th scope=col>&lt;fct&gt;</th><th scope=col>&lt;int&gt;</th><th scope=col>&lt;dbl&gt;</th><th scope=col>&lt;int&gt;</th><th scope=col>&lt;dbl&gt;</th><th scope=col>&lt;dbl&gt;</th></tr>\n",
       "</thead>\n",
       "<tbody>\n",
       "\t<tr><td>Afghanistan</td><td>Asia</td><td>1952</td><td>28.801</td><td> 8425333</td><td>779.4453</td><td> 6567086330</td></tr>\n",
       "\t<tr><td>Afghanistan</td><td>Asia</td><td>1957</td><td>30.332</td><td> 9240934</td><td>820.8530</td><td> 7585448670</td></tr>\n",
       "\t<tr><td>Afghanistan</td><td>Asia</td><td>1962</td><td>31.997</td><td>10267083</td><td>853.1007</td><td> 8758855797</td></tr>\n",
       "\t<tr><td>Afghanistan</td><td>Asia</td><td>1967</td><td>34.020</td><td>11537966</td><td>836.1971</td><td> 9648014150</td></tr>\n",
       "\t<tr><td>Afghanistan</td><td>Asia</td><td>1972</td><td>36.088</td><td>13079460</td><td>739.9811</td><td> 9678553274</td></tr>\n",
       "\t<tr><td>Afghanistan</td><td>Asia</td><td>1977</td><td>38.438</td><td>14880372</td><td>786.1134</td><td>11697659231</td></tr>\n",
       "\t<tr><td>Afghanistan</td><td>Asia</td><td>1982</td><td>39.854</td><td>12881816</td><td>978.0114</td><td>12598563401</td></tr>\n",
       "\t<tr><td>Afghanistan</td><td>Asia</td><td>1987</td><td>40.822</td><td>13867957</td><td>852.3959</td><td>11820990309</td></tr>\n",
       "\t<tr><td>Afghanistan</td><td>Asia</td><td>1992</td><td>41.674</td><td>16317921</td><td>649.3414</td><td>10595901589</td></tr>\n",
       "\t<tr><td>Afghanistan</td><td>Asia</td><td>1997</td><td>41.763</td><td>22227415</td><td>635.3414</td><td>14121995875</td></tr>\n",
       "</tbody>\n",
       "</table>\n"
      ],
      "text/latex": [
       "A tibble: 10 × 7\n",
       "\\begin{tabular}{lllllll}\n",
       " country & continent & year & lifeExp & pop & gdpPercap & gdpTotal\\\\\n",
       " <fct> & <fct> & <int> & <dbl> & <int> & <dbl> & <dbl>\\\\\n",
       "\\hline\n",
       "\t Afghanistan & Asia & 1952 & 28.801 &  8425333 & 779.4453 &  6567086330\\\\\n",
       "\t Afghanistan & Asia & 1957 & 30.332 &  9240934 & 820.8530 &  7585448670\\\\\n",
       "\t Afghanistan & Asia & 1962 & 31.997 & 10267083 & 853.1007 &  8758855797\\\\\n",
       "\t Afghanistan & Asia & 1967 & 34.020 & 11537966 & 836.1971 &  9648014150\\\\\n",
       "\t Afghanistan & Asia & 1972 & 36.088 & 13079460 & 739.9811 &  9678553274\\\\\n",
       "\t Afghanistan & Asia & 1977 & 38.438 & 14880372 & 786.1134 & 11697659231\\\\\n",
       "\t Afghanistan & Asia & 1982 & 39.854 & 12881816 & 978.0114 & 12598563401\\\\\n",
       "\t Afghanistan & Asia & 1987 & 40.822 & 13867957 & 852.3959 & 11820990309\\\\\n",
       "\t Afghanistan & Asia & 1992 & 41.674 & 16317921 & 649.3414 & 10595901589\\\\\n",
       "\t Afghanistan & Asia & 1997 & 41.763 & 22227415 & 635.3414 & 14121995875\\\\\n",
       "\\end{tabular}\n"
      ],
      "text/markdown": [
       "\n",
       "A tibble: 10 × 7\n",
       "\n",
       "| country &lt;fct&gt; | continent &lt;fct&gt; | year &lt;int&gt; | lifeExp &lt;dbl&gt; | pop &lt;int&gt; | gdpPercap &lt;dbl&gt; | gdpTotal &lt;dbl&gt; |\n",
       "|---|---|---|---|---|---|---|\n",
       "| Afghanistan | Asia | 1952 | 28.801 |  8425333 | 779.4453 |  6567086330 |\n",
       "| Afghanistan | Asia | 1957 | 30.332 |  9240934 | 820.8530 |  7585448670 |\n",
       "| Afghanistan | Asia | 1962 | 31.997 | 10267083 | 853.1007 |  8758855797 |\n",
       "| Afghanistan | Asia | 1967 | 34.020 | 11537966 | 836.1971 |  9648014150 |\n",
       "| Afghanistan | Asia | 1972 | 36.088 | 13079460 | 739.9811 |  9678553274 |\n",
       "| Afghanistan | Asia | 1977 | 38.438 | 14880372 | 786.1134 | 11697659231 |\n",
       "| Afghanistan | Asia | 1982 | 39.854 | 12881816 | 978.0114 | 12598563401 |\n",
       "| Afghanistan | Asia | 1987 | 40.822 | 13867957 | 852.3959 | 11820990309 |\n",
       "| Afghanistan | Asia | 1992 | 41.674 | 16317921 | 649.3414 | 10595901589 |\n",
       "| Afghanistan | Asia | 1997 | 41.763 | 22227415 | 635.3414 | 14121995875 |\n",
       "\n"
      ],
      "text/plain": [
       "   country     continent year lifeExp pop      gdpPercap gdpTotal   \n",
       "1  Afghanistan Asia      1952 28.801   8425333 779.4453   6567086330\n",
       "2  Afghanistan Asia      1957 30.332   9240934 820.8530   7585448670\n",
       "3  Afghanistan Asia      1962 31.997  10267083 853.1007   8758855797\n",
       "4  Afghanistan Asia      1967 34.020  11537966 836.1971   9648014150\n",
       "5  Afghanistan Asia      1972 36.088  13079460 739.9811   9678553274\n",
       "6  Afghanistan Asia      1977 38.438  14880372 786.1134  11697659231\n",
       "7  Afghanistan Asia      1982 39.854  12881816 978.0114  12598563401\n",
       "8  Afghanistan Asia      1987 40.822  13867957 852.3959  11820990309\n",
       "9  Afghanistan Asia      1992 41.674  16317921 649.3414  10595901589\n",
       "10 Afghanistan Asia      1997 41.763  22227415 635.3414  14121995875"
      ]
     },
     "metadata": {},
     "output_type": "display_data"
    }
   ],
   "source": [
    "gapminder |> \n",
    "    mutate(gdpTotal = gdpPercap * pop) |>\n",
    "    head(10)"
   ]
  },
  {
   "cell_type": "markdown",
   "id": "13ec3900",
   "metadata": {},
   "source": [
    "`transmute(.data, …)` compute new column(s), drop others."
   ]
  },
  {
   "cell_type": "code",
   "execution_count": 5,
   "id": "a7b641a5",
   "metadata": {
    "vscode": {
     "languageId": "r"
    }
   },
   "outputs": [
    {
     "data": {
      "text/html": [
       "<table class=\"dataframe\">\n",
       "<caption>A tibble: 10 × 1</caption>\n",
       "<thead>\n",
       "\t<tr><th scope=col>gdpTotal</th></tr>\n",
       "\t<tr><th scope=col>&lt;dbl&gt;</th></tr>\n",
       "</thead>\n",
       "<tbody>\n",
       "\t<tr><td> 6567086330</td></tr>\n",
       "\t<tr><td> 7585448670</td></tr>\n",
       "\t<tr><td> 8758855797</td></tr>\n",
       "\t<tr><td> 9648014150</td></tr>\n",
       "\t<tr><td> 9678553274</td></tr>\n",
       "\t<tr><td>11697659231</td></tr>\n",
       "\t<tr><td>12598563401</td></tr>\n",
       "\t<tr><td>11820990309</td></tr>\n",
       "\t<tr><td>10595901589</td></tr>\n",
       "\t<tr><td>14121995875</td></tr>\n",
       "</tbody>\n",
       "</table>\n"
      ],
      "text/latex": [
       "A tibble: 10 × 1\n",
       "\\begin{tabular}{l}\n",
       " gdpTotal\\\\\n",
       " <dbl>\\\\\n",
       "\\hline\n",
       "\t  6567086330\\\\\n",
       "\t  7585448670\\\\\n",
       "\t  8758855797\\\\\n",
       "\t  9648014150\\\\\n",
       "\t  9678553274\\\\\n",
       "\t 11697659231\\\\\n",
       "\t 12598563401\\\\\n",
       "\t 11820990309\\\\\n",
       "\t 10595901589\\\\\n",
       "\t 14121995875\\\\\n",
       "\\end{tabular}\n"
      ],
      "text/markdown": [
       "\n",
       "A tibble: 10 × 1\n",
       "\n",
       "| gdpTotal &lt;dbl&gt; |\n",
       "|---|\n",
       "|  6567086330 |\n",
       "|  7585448670 |\n",
       "|  8758855797 |\n",
       "|  9648014150 |\n",
       "|  9678553274 |\n",
       "| 11697659231 |\n",
       "| 12598563401 |\n",
       "| 11820990309 |\n",
       "| 10595901589 |\n",
       "| 14121995875 |\n",
       "\n"
      ],
      "text/plain": [
       "   gdpTotal   \n",
       "1   6567086330\n",
       "2   7585448670\n",
       "3   8758855797\n",
       "4   9648014150\n",
       "5   9678553274\n",
       "6  11697659231\n",
       "7  12598563401\n",
       "8  11820990309\n",
       "9  10595901589\n",
       "10 14121995875"
      ]
     },
     "metadata": {},
     "output_type": "display_data"
    }
   ],
   "source": [
    "gapminder |>\n",
    "    transmute(gdpTotal = gdpPercap * pop) |>\n",
    "    head(10)"
   ]
  },
  {
   "cell_type": "markdown",
   "id": "029b3560",
   "metadata": {},
   "source": [
    "You can `mutate` many columns at once:"
   ]
  },
  {
   "cell_type": "code",
   "execution_count": 6,
   "id": "33f91f87",
   "metadata": {
    "scrolled": true,
    "vscode": {
     "languageId": "r"
    }
   },
   "outputs": [
    {
     "data": {
      "text/html": [
       "<table class=\"dataframe\">\n",
       "<caption>A tibble: 10 × 9</caption>\n",
       "<thead>\n",
       "\t<tr><th scope=col>country</th><th scope=col>continent</th><th scope=col>year</th><th scope=col>lifeExp</th><th scope=col>pop</th><th scope=col>gdpPercap</th><th scope=col>gdpTotal</th><th scope=col>countryUpper</th><th scope=col>lifeExpRounded</th></tr>\n",
       "\t<tr><th scope=col>&lt;fct&gt;</th><th scope=col>&lt;fct&gt;</th><th scope=col>&lt;int&gt;</th><th scope=col>&lt;dbl&gt;</th><th scope=col>&lt;int&gt;</th><th scope=col>&lt;dbl&gt;</th><th scope=col>&lt;dbl&gt;</th><th scope=col>&lt;chr&gt;</th><th scope=col>&lt;dbl&gt;</th></tr>\n",
       "</thead>\n",
       "<tbody>\n",
       "\t<tr><td>Afghanistan</td><td>Asia</td><td>1952</td><td>28.801</td><td> 8425333</td><td>779.4453</td><td> 6567086330</td><td>AFGHANISTAN</td><td>29</td></tr>\n",
       "\t<tr><td>Afghanistan</td><td>Asia</td><td>1957</td><td>30.332</td><td> 9240934</td><td>820.8530</td><td> 7585448670</td><td>AFGHANISTAN</td><td>30</td></tr>\n",
       "\t<tr><td>Afghanistan</td><td>Asia</td><td>1962</td><td>31.997</td><td>10267083</td><td>853.1007</td><td> 8758855797</td><td>AFGHANISTAN</td><td>32</td></tr>\n",
       "\t<tr><td>Afghanistan</td><td>Asia</td><td>1967</td><td>34.020</td><td>11537966</td><td>836.1971</td><td> 9648014150</td><td>AFGHANISTAN</td><td>34</td></tr>\n",
       "\t<tr><td>Afghanistan</td><td>Asia</td><td>1972</td><td>36.088</td><td>13079460</td><td>739.9811</td><td> 9678553274</td><td>AFGHANISTAN</td><td>36</td></tr>\n",
       "\t<tr><td>Afghanistan</td><td>Asia</td><td>1977</td><td>38.438</td><td>14880372</td><td>786.1134</td><td>11697659231</td><td>AFGHANISTAN</td><td>38</td></tr>\n",
       "\t<tr><td>Afghanistan</td><td>Asia</td><td>1982</td><td>39.854</td><td>12881816</td><td>978.0114</td><td>12598563401</td><td>AFGHANISTAN</td><td>40</td></tr>\n",
       "\t<tr><td>Afghanistan</td><td>Asia</td><td>1987</td><td>40.822</td><td>13867957</td><td>852.3959</td><td>11820990309</td><td>AFGHANISTAN</td><td>41</td></tr>\n",
       "\t<tr><td>Afghanistan</td><td>Asia</td><td>1992</td><td>41.674</td><td>16317921</td><td>649.3414</td><td>10595901589</td><td>AFGHANISTAN</td><td>42</td></tr>\n",
       "\t<tr><td>Afghanistan</td><td>Asia</td><td>1997</td><td>41.763</td><td>22227415</td><td>635.3414</td><td>14121995875</td><td>AFGHANISTAN</td><td>42</td></tr>\n",
       "</tbody>\n",
       "</table>\n"
      ],
      "text/latex": [
       "A tibble: 10 × 9\n",
       "\\begin{tabular}{lllllllll}\n",
       " country & continent & year & lifeExp & pop & gdpPercap & gdpTotal & countryUpper & lifeExpRounded\\\\\n",
       " <fct> & <fct> & <int> & <dbl> & <int> & <dbl> & <dbl> & <chr> & <dbl>\\\\\n",
       "\\hline\n",
       "\t Afghanistan & Asia & 1952 & 28.801 &  8425333 & 779.4453 &  6567086330 & AFGHANISTAN & 29\\\\\n",
       "\t Afghanistan & Asia & 1957 & 30.332 &  9240934 & 820.8530 &  7585448670 & AFGHANISTAN & 30\\\\\n",
       "\t Afghanistan & Asia & 1962 & 31.997 & 10267083 & 853.1007 &  8758855797 & AFGHANISTAN & 32\\\\\n",
       "\t Afghanistan & Asia & 1967 & 34.020 & 11537966 & 836.1971 &  9648014150 & AFGHANISTAN & 34\\\\\n",
       "\t Afghanistan & Asia & 1972 & 36.088 & 13079460 & 739.9811 &  9678553274 & AFGHANISTAN & 36\\\\\n",
       "\t Afghanistan & Asia & 1977 & 38.438 & 14880372 & 786.1134 & 11697659231 & AFGHANISTAN & 38\\\\\n",
       "\t Afghanistan & Asia & 1982 & 39.854 & 12881816 & 978.0114 & 12598563401 & AFGHANISTAN & 40\\\\\n",
       "\t Afghanistan & Asia & 1987 & 40.822 & 13867957 & 852.3959 & 11820990309 & AFGHANISTAN & 41\\\\\n",
       "\t Afghanistan & Asia & 1992 & 41.674 & 16317921 & 649.3414 & 10595901589 & AFGHANISTAN & 42\\\\\n",
       "\t Afghanistan & Asia & 1997 & 41.763 & 22227415 & 635.3414 & 14121995875 & AFGHANISTAN & 42\\\\\n",
       "\\end{tabular}\n"
      ],
      "text/markdown": [
       "\n",
       "A tibble: 10 × 9\n",
       "\n",
       "| country &lt;fct&gt; | continent &lt;fct&gt; | year &lt;int&gt; | lifeExp &lt;dbl&gt; | pop &lt;int&gt; | gdpPercap &lt;dbl&gt; | gdpTotal &lt;dbl&gt; | countryUpper &lt;chr&gt; | lifeExpRounded &lt;dbl&gt; |\n",
       "|---|---|---|---|---|---|---|---|---|\n",
       "| Afghanistan | Asia | 1952 | 28.801 |  8425333 | 779.4453 |  6567086330 | AFGHANISTAN | 29 |\n",
       "| Afghanistan | Asia | 1957 | 30.332 |  9240934 | 820.8530 |  7585448670 | AFGHANISTAN | 30 |\n",
       "| Afghanistan | Asia | 1962 | 31.997 | 10267083 | 853.1007 |  8758855797 | AFGHANISTAN | 32 |\n",
       "| Afghanistan | Asia | 1967 | 34.020 | 11537966 | 836.1971 |  9648014150 | AFGHANISTAN | 34 |\n",
       "| Afghanistan | Asia | 1972 | 36.088 | 13079460 | 739.9811 |  9678553274 | AFGHANISTAN | 36 |\n",
       "| Afghanistan | Asia | 1977 | 38.438 | 14880372 | 786.1134 | 11697659231 | AFGHANISTAN | 38 |\n",
       "| Afghanistan | Asia | 1982 | 39.854 | 12881816 | 978.0114 | 12598563401 | AFGHANISTAN | 40 |\n",
       "| Afghanistan | Asia | 1987 | 40.822 | 13867957 | 852.3959 | 11820990309 | AFGHANISTAN | 41 |\n",
       "| Afghanistan | Asia | 1992 | 41.674 | 16317921 | 649.3414 | 10595901589 | AFGHANISTAN | 42 |\n",
       "| Afghanistan | Asia | 1997 | 41.763 | 22227415 | 635.3414 | 14121995875 | AFGHANISTAN | 42 |\n",
       "\n"
      ],
      "text/plain": [
       "   country     continent year lifeExp pop      gdpPercap gdpTotal   \n",
       "1  Afghanistan Asia      1952 28.801   8425333 779.4453   6567086330\n",
       "2  Afghanistan Asia      1957 30.332   9240934 820.8530   7585448670\n",
       "3  Afghanistan Asia      1962 31.997  10267083 853.1007   8758855797\n",
       "4  Afghanistan Asia      1967 34.020  11537966 836.1971   9648014150\n",
       "5  Afghanistan Asia      1972 36.088  13079460 739.9811   9678553274\n",
       "6  Afghanistan Asia      1977 38.438  14880372 786.1134  11697659231\n",
       "7  Afghanistan Asia      1982 39.854  12881816 978.0114  12598563401\n",
       "8  Afghanistan Asia      1987 40.822  13867957 852.3959  11820990309\n",
       "9  Afghanistan Asia      1992 41.674  16317921 649.3414  10595901589\n",
       "10 Afghanistan Asia      1997 41.763  22227415 635.3414  14121995875\n",
       "   countryUpper lifeExpRounded\n",
       "1  AFGHANISTAN  29            \n",
       "2  AFGHANISTAN  30            \n",
       "3  AFGHANISTAN  32            \n",
       "4  AFGHANISTAN  34            \n",
       "5  AFGHANISTAN  36            \n",
       "6  AFGHANISTAN  38            \n",
       "7  AFGHANISTAN  40            \n",
       "8  AFGHANISTAN  41            \n",
       "9  AFGHANISTAN  42            \n",
       "10 AFGHANISTAN  42            "
      ]
     },
     "metadata": {},
     "output_type": "display_data"
    }
   ],
   "source": [
    "gapminder |>\n",
    "    mutate(gdpTotal = gdpPercap * pop,\n",
    "           countryUpper = toupper(country), # uppercase country\n",
    "           lifeExpRounded = round(lifeExp)) |>\n",
    "    head(10)"
   ]
  },
  {
   "cell_type": "markdown",
   "id": "975ae088",
   "metadata": {},
   "source": [
    "You also can edit existing column (let's change `continent Europe` to `EU` in dataframe):"
   ]
  },
  {
   "cell_type": "code",
   "execution_count": 9,
   "id": "05ea5162",
   "metadata": {
    "vscode": {
     "languageId": "r"
    }
   },
   "outputs": [
    {
     "data": {
      "text/html": [
       "<table class=\"dataframe\">\n",
       "<caption>A tibble: 6 × 6</caption>\n",
       "<thead>\n",
       "\t<tr><th scope=col>country</th><th scope=col>continent</th><th scope=col>year</th><th scope=col>lifeExp</th><th scope=col>pop</th><th scope=col>gdpPercap</th></tr>\n",
       "\t<tr><th scope=col>&lt;fct&gt;</th><th scope=col>&lt;fct&gt;</th><th scope=col>&lt;int&gt;</th><th scope=col>&lt;dbl&gt;</th><th scope=col>&lt;int&gt;</th><th scope=col>&lt;dbl&gt;</th></tr>\n",
       "</thead>\n",
       "<tbody>\n",
       "\t<tr><td>Afghanistan</td><td>Asia    </td><td>2002</td><td>42.129</td><td>25268405</td><td>  726.7341</td></tr>\n",
       "\t<tr><td>Albania    </td><td>Europe  </td><td>2002</td><td>75.651</td><td> 3508512</td><td> 4604.2117</td></tr>\n",
       "\t<tr><td>Algeria    </td><td>Africa  </td><td>2002</td><td>70.994</td><td>31287142</td><td> 5288.0404</td></tr>\n",
       "\t<tr><td>Angola     </td><td>Africa  </td><td>2002</td><td>41.003</td><td>10866106</td><td> 2773.2873</td></tr>\n",
       "\t<tr><td>Argentina  </td><td>Americas</td><td>2002</td><td>74.340</td><td>38331121</td><td> 8797.6407</td></tr>\n",
       "\t<tr><td>Australia  </td><td>Oceania </td><td>2002</td><td>80.370</td><td>19546792</td><td>30687.7547</td></tr>\n",
       "</tbody>\n",
       "</table>\n"
      ],
      "text/latex": [
       "A tibble: 6 × 6\n",
       "\\begin{tabular}{llllll}\n",
       " country & continent & year & lifeExp & pop & gdpPercap\\\\\n",
       " <fct> & <fct> & <int> & <dbl> & <int> & <dbl>\\\\\n",
       "\\hline\n",
       "\t Afghanistan & Asia     & 2002 & 42.129 & 25268405 &   726.7341\\\\\n",
       "\t Albania     & Europe   & 2002 & 75.651 &  3508512 &  4604.2117\\\\\n",
       "\t Algeria     & Africa   & 2002 & 70.994 & 31287142 &  5288.0404\\\\\n",
       "\t Angola      & Africa   & 2002 & 41.003 & 10866106 &  2773.2873\\\\\n",
       "\t Argentina   & Americas & 2002 & 74.340 & 38331121 &  8797.6407\\\\\n",
       "\t Australia   & Oceania  & 2002 & 80.370 & 19546792 & 30687.7547\\\\\n",
       "\\end{tabular}\n"
      ],
      "text/markdown": [
       "\n",
       "A tibble: 6 × 6\n",
       "\n",
       "| country &lt;fct&gt; | continent &lt;fct&gt; | year &lt;int&gt; | lifeExp &lt;dbl&gt; | pop &lt;int&gt; | gdpPercap &lt;dbl&gt; |\n",
       "|---|---|---|---|---|---|\n",
       "| Afghanistan | Asia     | 2002 | 42.129 | 25268405 |   726.7341 |\n",
       "| Albania     | Europe   | 2002 | 75.651 |  3508512 |  4604.2117 |\n",
       "| Algeria     | Africa   | 2002 | 70.994 | 31287142 |  5288.0404 |\n",
       "| Angola      | Africa   | 2002 | 41.003 | 10866106 |  2773.2873 |\n",
       "| Argentina   | Americas | 2002 | 74.340 | 38331121 |  8797.6407 |\n",
       "| Australia   | Oceania  | 2002 | 80.370 | 19546792 | 30687.7547 |\n",
       "\n"
      ],
      "text/plain": [
       "  country     continent year lifeExp pop      gdpPercap \n",
       "1 Afghanistan Asia      2002 42.129  25268405   726.7341\n",
       "2 Albania     Europe    2002 75.651   3508512  4604.2117\n",
       "3 Algeria     Africa    2002 70.994  31287142  5288.0404\n",
       "4 Angola      Africa    2002 41.003  10866106  2773.2873\n",
       "5 Argentina   Americas  2002 74.340  38331121  8797.6407\n",
       "6 Australia   Oceania   2002 80.370  19546792 30687.7547"
      ]
     },
     "metadata": {},
     "output_type": "display_data"
    },
    {
     "data": {
      "text/html": [
       "<table class=\"dataframe\">\n",
       "<caption>A tibble: 142 × 6</caption>\n",
       "<thead>\n",
       "\t<tr><th scope=col>country</th><th scope=col>continent</th><th scope=col>year</th><th scope=col>lifeExp</th><th scope=col>pop</th><th scope=col>gdpPercap</th></tr>\n",
       "\t<tr><th scope=col>&lt;fct&gt;</th><th scope=col>&lt;chr&gt;</th><th scope=col>&lt;int&gt;</th><th scope=col>&lt;dbl&gt;</th><th scope=col>&lt;int&gt;</th><th scope=col>&lt;dbl&gt;</th></tr>\n",
       "</thead>\n",
       "<tbody>\n",
       "\t<tr><td>Afghanistan             </td><td>Asia    </td><td>2002</td><td>42.129</td><td>  25268405</td><td>  726.7341</td></tr>\n",
       "\t<tr><td>Albania                 </td><td>EU      </td><td>2002</td><td>75.651</td><td>   3508512</td><td> 4604.2117</td></tr>\n",
       "\t<tr><td>Algeria                 </td><td>Africa  </td><td>2002</td><td>70.994</td><td>  31287142</td><td> 5288.0404</td></tr>\n",
       "\t<tr><td>Angola                  </td><td>Africa  </td><td>2002</td><td>41.003</td><td>  10866106</td><td> 2773.2873</td></tr>\n",
       "\t<tr><td>Argentina               </td><td>Americas</td><td>2002</td><td>74.340</td><td>  38331121</td><td> 8797.6407</td></tr>\n",
       "\t<tr><td>Australia               </td><td>Oceania </td><td>2002</td><td>80.370</td><td>  19546792</td><td>30687.7547</td></tr>\n",
       "\t<tr><td>Austria                 </td><td>EU      </td><td>2002</td><td>78.980</td><td>   8148312</td><td>32417.6077</td></tr>\n",
       "\t<tr><td>Bahrain                 </td><td>Asia    </td><td>2002</td><td>74.795</td><td>    656397</td><td>23403.5593</td></tr>\n",
       "\t<tr><td>Bangladesh              </td><td>Asia    </td><td>2002</td><td>62.013</td><td> 135656790</td><td> 1136.3904</td></tr>\n",
       "\t<tr><td>Belgium                 </td><td>EU      </td><td>2002</td><td>78.320</td><td>  10311970</td><td>30485.8838</td></tr>\n",
       "\t<tr><td>Benin                   </td><td>Africa  </td><td>2002</td><td>54.406</td><td>   7026113</td><td> 1372.8779</td></tr>\n",
       "\t<tr><td>Bolivia                 </td><td>Americas</td><td>2002</td><td>63.883</td><td>   8445134</td><td> 3413.2627</td></tr>\n",
       "\t<tr><td>Bosnia and Herzegovina  </td><td>EU      </td><td>2002</td><td>74.090</td><td>   4165416</td><td> 6018.9752</td></tr>\n",
       "\t<tr><td>Botswana                </td><td>Africa  </td><td>2002</td><td>46.634</td><td>   1630347</td><td>11003.6051</td></tr>\n",
       "\t<tr><td>Brazil                  </td><td>Americas</td><td>2002</td><td>71.006</td><td> 179914212</td><td> 8131.2128</td></tr>\n",
       "\t<tr><td>Bulgaria                </td><td>EU      </td><td>2002</td><td>72.140</td><td>   7661799</td><td> 7696.7777</td></tr>\n",
       "\t<tr><td>Burkina Faso            </td><td>Africa  </td><td>2002</td><td>50.650</td><td>  12251209</td><td> 1037.6452</td></tr>\n",
       "\t<tr><td>Burundi                 </td><td>Africa  </td><td>2002</td><td>47.360</td><td>   7021078</td><td>  446.4035</td></tr>\n",
       "\t<tr><td>Cambodia                </td><td>Asia    </td><td>2002</td><td>56.752</td><td>  12926707</td><td>  896.2260</td></tr>\n",
       "\t<tr><td>Cameroon                </td><td>Africa  </td><td>2002</td><td>49.856</td><td>  15929988</td><td> 1934.0114</td></tr>\n",
       "\t<tr><td>Canada                  </td><td>Americas</td><td>2002</td><td>79.770</td><td>  31902268</td><td>33328.9651</td></tr>\n",
       "\t<tr><td>Central African Republic</td><td>Africa  </td><td>2002</td><td>43.308</td><td>   4048013</td><td>  738.6906</td></tr>\n",
       "\t<tr><td>Chad                    </td><td>Africa  </td><td>2002</td><td>50.525</td><td>   8835739</td><td> 1156.1819</td></tr>\n",
       "\t<tr><td>Chile                   </td><td>Americas</td><td>2002</td><td>77.860</td><td>  15497046</td><td>10778.7838</td></tr>\n",
       "\t<tr><td>China                   </td><td>Asia    </td><td>2002</td><td>72.028</td><td>1280400000</td><td> 3119.2809</td></tr>\n",
       "\t<tr><td>Colombia                </td><td>Americas</td><td>2002</td><td>71.682</td><td>  41008227</td><td> 5755.2600</td></tr>\n",
       "\t<tr><td>Comoros                 </td><td>Africa  </td><td>2002</td><td>62.974</td><td>    614382</td><td> 1075.8116</td></tr>\n",
       "\t<tr><td>Congo, Dem. Rep.        </td><td>Africa  </td><td>2002</td><td>44.966</td><td>  55379852</td><td>  241.1659</td></tr>\n",
       "\t<tr><td>Congo, Rep.             </td><td>Africa  </td><td>2002</td><td>52.970</td><td>   3328795</td><td> 3484.0620</td></tr>\n",
       "\t<tr><td>Costa Rica              </td><td>Americas</td><td>2002</td><td>78.123</td><td>   3834934</td><td> 7723.4472</td></tr>\n",
       "\t<tr><td>⋮</td><td>⋮</td><td>⋮</td><td>⋮</td><td>⋮</td><td>⋮</td></tr>\n",
       "\t<tr><td>Sierra Leone       </td><td>Africa  </td><td>2002</td><td>41.012</td><td>  5359092</td><td>  699.4897</td></tr>\n",
       "\t<tr><td>Singapore          </td><td>Asia    </td><td>2002</td><td>78.770</td><td>  4197776</td><td>36023.1054</td></tr>\n",
       "\t<tr><td>Slovak Republic    </td><td>EU      </td><td>2002</td><td>73.800</td><td>  5410052</td><td>13638.7784</td></tr>\n",
       "\t<tr><td>Slovenia           </td><td>EU      </td><td>2002</td><td>76.660</td><td>  2011497</td><td>20660.0194</td></tr>\n",
       "\t<tr><td>Somalia            </td><td>Africa  </td><td>2002</td><td>45.936</td><td>  7753310</td><td>  882.0818</td></tr>\n",
       "\t<tr><td>South Africa       </td><td>Africa  </td><td>2002</td><td>53.365</td><td> 44433622</td><td> 7710.9464</td></tr>\n",
       "\t<tr><td>Spain              </td><td>EU      </td><td>2002</td><td>79.780</td><td> 40152517</td><td>24835.4717</td></tr>\n",
       "\t<tr><td>Sri Lanka          </td><td>Asia    </td><td>2002</td><td>70.815</td><td> 19576783</td><td> 3015.3788</td></tr>\n",
       "\t<tr><td>Sudan              </td><td>Africa  </td><td>2002</td><td>56.369</td><td> 37090298</td><td> 1993.3983</td></tr>\n",
       "\t<tr><td>Swaziland          </td><td>Africa  </td><td>2002</td><td>43.869</td><td>  1130269</td><td> 4128.1169</td></tr>\n",
       "\t<tr><td>Sweden             </td><td>EU      </td><td>2002</td><td>80.040</td><td>  8954175</td><td>29341.6309</td></tr>\n",
       "\t<tr><td>Switzerland        </td><td>EU      </td><td>2002</td><td>80.620</td><td>  7361757</td><td>34480.9577</td></tr>\n",
       "\t<tr><td>Syria              </td><td>Asia    </td><td>2002</td><td>73.053</td><td> 17155814</td><td> 4090.9253</td></tr>\n",
       "\t<tr><td>Taiwan             </td><td>Asia    </td><td>2002</td><td>76.990</td><td> 22454239</td><td>23235.4233</td></tr>\n",
       "\t<tr><td>Tanzania           </td><td>Africa  </td><td>2002</td><td>49.651</td><td> 34593779</td><td>  899.0742</td></tr>\n",
       "\t<tr><td>Thailand           </td><td>Asia    </td><td>2002</td><td>68.564</td><td> 62806748</td><td> 5913.1875</td></tr>\n",
       "\t<tr><td>Togo               </td><td>Africa  </td><td>2002</td><td>57.561</td><td>  4977378</td><td>  886.2206</td></tr>\n",
       "\t<tr><td>Trinidad and Tobago</td><td>Americas</td><td>2002</td><td>68.976</td><td>  1101832</td><td>11460.6002</td></tr>\n",
       "\t<tr><td>Tunisia            </td><td>Africa  </td><td>2002</td><td>73.042</td><td>  9770575</td><td> 5722.8957</td></tr>\n",
       "\t<tr><td>Turkey             </td><td>EU      </td><td>2002</td><td>70.845</td><td> 67308928</td><td> 6508.0857</td></tr>\n",
       "\t<tr><td>Uganda             </td><td>Africa  </td><td>2002</td><td>47.813</td><td> 24739869</td><td>  927.7210</td></tr>\n",
       "\t<tr><td>United Kingdom     </td><td>EU      </td><td>2002</td><td>78.471</td><td> 59912431</td><td>29478.9992</td></tr>\n",
       "\t<tr><td>United States      </td><td>Americas</td><td>2002</td><td>77.310</td><td>287675526</td><td>39097.0995</td></tr>\n",
       "\t<tr><td>Uruguay            </td><td>Americas</td><td>2002</td><td>75.307</td><td>  3363085</td><td> 7727.0020</td></tr>\n",
       "\t<tr><td>Venezuela          </td><td>Americas</td><td>2002</td><td>72.766</td><td> 24287670</td><td> 8605.0478</td></tr>\n",
       "\t<tr><td>Vietnam            </td><td>Asia    </td><td>2002</td><td>73.017</td><td> 80908147</td><td> 1764.4567</td></tr>\n",
       "\t<tr><td>West Bank and Gaza </td><td>Asia    </td><td>2002</td><td>72.370</td><td>  3389578</td><td> 4515.4876</td></tr>\n",
       "\t<tr><td>Yemen, Rep.        </td><td>Asia    </td><td>2002</td><td>60.308</td><td> 18701257</td><td> 2234.8208</td></tr>\n",
       "\t<tr><td>Zambia             </td><td>Africa  </td><td>2002</td><td>39.193</td><td> 10595811</td><td> 1071.6139</td></tr>\n",
       "\t<tr><td>Zimbabwe           </td><td>Africa  </td><td>2002</td><td>39.989</td><td> 11926563</td><td>  672.0386</td></tr>\n",
       "</tbody>\n",
       "</table>\n"
      ],
      "text/latex": [
       "A tibble: 142 × 6\n",
       "\\begin{tabular}{llllll}\n",
       " country & continent & year & lifeExp & pop & gdpPercap\\\\\n",
       " <fct> & <chr> & <int> & <dbl> & <int> & <dbl>\\\\\n",
       "\\hline\n",
       "\t Afghanistan              & Asia     & 2002 & 42.129 &   25268405 &   726.7341\\\\\n",
       "\t Albania                  & EU       & 2002 & 75.651 &    3508512 &  4604.2117\\\\\n",
       "\t Algeria                  & Africa   & 2002 & 70.994 &   31287142 &  5288.0404\\\\\n",
       "\t Angola                   & Africa   & 2002 & 41.003 &   10866106 &  2773.2873\\\\\n",
       "\t Argentina                & Americas & 2002 & 74.340 &   38331121 &  8797.6407\\\\\n",
       "\t Australia                & Oceania  & 2002 & 80.370 &   19546792 & 30687.7547\\\\\n",
       "\t Austria                  & EU       & 2002 & 78.980 &    8148312 & 32417.6077\\\\\n",
       "\t Bahrain                  & Asia     & 2002 & 74.795 &     656397 & 23403.5593\\\\\n",
       "\t Bangladesh               & Asia     & 2002 & 62.013 &  135656790 &  1136.3904\\\\\n",
       "\t Belgium                  & EU       & 2002 & 78.320 &   10311970 & 30485.8838\\\\\n",
       "\t Benin                    & Africa   & 2002 & 54.406 &    7026113 &  1372.8779\\\\\n",
       "\t Bolivia                  & Americas & 2002 & 63.883 &    8445134 &  3413.2627\\\\\n",
       "\t Bosnia and Herzegovina   & EU       & 2002 & 74.090 &    4165416 &  6018.9752\\\\\n",
       "\t Botswana                 & Africa   & 2002 & 46.634 &    1630347 & 11003.6051\\\\\n",
       "\t Brazil                   & Americas & 2002 & 71.006 &  179914212 &  8131.2128\\\\\n",
       "\t Bulgaria                 & EU       & 2002 & 72.140 &    7661799 &  7696.7777\\\\\n",
       "\t Burkina Faso             & Africa   & 2002 & 50.650 &   12251209 &  1037.6452\\\\\n",
       "\t Burundi                  & Africa   & 2002 & 47.360 &    7021078 &   446.4035\\\\\n",
       "\t Cambodia                 & Asia     & 2002 & 56.752 &   12926707 &   896.2260\\\\\n",
       "\t Cameroon                 & Africa   & 2002 & 49.856 &   15929988 &  1934.0114\\\\\n",
       "\t Canada                   & Americas & 2002 & 79.770 &   31902268 & 33328.9651\\\\\n",
       "\t Central African Republic & Africa   & 2002 & 43.308 &    4048013 &   738.6906\\\\\n",
       "\t Chad                     & Africa   & 2002 & 50.525 &    8835739 &  1156.1819\\\\\n",
       "\t Chile                    & Americas & 2002 & 77.860 &   15497046 & 10778.7838\\\\\n",
       "\t China                    & Asia     & 2002 & 72.028 & 1280400000 &  3119.2809\\\\\n",
       "\t Colombia                 & Americas & 2002 & 71.682 &   41008227 &  5755.2600\\\\\n",
       "\t Comoros                  & Africa   & 2002 & 62.974 &     614382 &  1075.8116\\\\\n",
       "\t Congo, Dem. Rep.         & Africa   & 2002 & 44.966 &   55379852 &   241.1659\\\\\n",
       "\t Congo, Rep.              & Africa   & 2002 & 52.970 &    3328795 &  3484.0620\\\\\n",
       "\t Costa Rica               & Americas & 2002 & 78.123 &    3834934 &  7723.4472\\\\\n",
       "\t ⋮ & ⋮ & ⋮ & ⋮ & ⋮ & ⋮\\\\\n",
       "\t Sierra Leone        & Africa   & 2002 & 41.012 &   5359092 &   699.4897\\\\\n",
       "\t Singapore           & Asia     & 2002 & 78.770 &   4197776 & 36023.1054\\\\\n",
       "\t Slovak Republic     & EU       & 2002 & 73.800 &   5410052 & 13638.7784\\\\\n",
       "\t Slovenia            & EU       & 2002 & 76.660 &   2011497 & 20660.0194\\\\\n",
       "\t Somalia             & Africa   & 2002 & 45.936 &   7753310 &   882.0818\\\\\n",
       "\t South Africa        & Africa   & 2002 & 53.365 &  44433622 &  7710.9464\\\\\n",
       "\t Spain               & EU       & 2002 & 79.780 &  40152517 & 24835.4717\\\\\n",
       "\t Sri Lanka           & Asia     & 2002 & 70.815 &  19576783 &  3015.3788\\\\\n",
       "\t Sudan               & Africa   & 2002 & 56.369 &  37090298 &  1993.3983\\\\\n",
       "\t Swaziland           & Africa   & 2002 & 43.869 &   1130269 &  4128.1169\\\\\n",
       "\t Sweden              & EU       & 2002 & 80.040 &   8954175 & 29341.6309\\\\\n",
       "\t Switzerland         & EU       & 2002 & 80.620 &   7361757 & 34480.9577\\\\\n",
       "\t Syria               & Asia     & 2002 & 73.053 &  17155814 &  4090.9253\\\\\n",
       "\t Taiwan              & Asia     & 2002 & 76.990 &  22454239 & 23235.4233\\\\\n",
       "\t Tanzania            & Africa   & 2002 & 49.651 &  34593779 &   899.0742\\\\\n",
       "\t Thailand            & Asia     & 2002 & 68.564 &  62806748 &  5913.1875\\\\\n",
       "\t Togo                & Africa   & 2002 & 57.561 &   4977378 &   886.2206\\\\\n",
       "\t Trinidad and Tobago & Americas & 2002 & 68.976 &   1101832 & 11460.6002\\\\\n",
       "\t Tunisia             & Africa   & 2002 & 73.042 &   9770575 &  5722.8957\\\\\n",
       "\t Turkey              & EU       & 2002 & 70.845 &  67308928 &  6508.0857\\\\\n",
       "\t Uganda              & Africa   & 2002 & 47.813 &  24739869 &   927.7210\\\\\n",
       "\t United Kingdom      & EU       & 2002 & 78.471 &  59912431 & 29478.9992\\\\\n",
       "\t United States       & Americas & 2002 & 77.310 & 287675526 & 39097.0995\\\\\n",
       "\t Uruguay             & Americas & 2002 & 75.307 &   3363085 &  7727.0020\\\\\n",
       "\t Venezuela           & Americas & 2002 & 72.766 &  24287670 &  8605.0478\\\\\n",
       "\t Vietnam             & Asia     & 2002 & 73.017 &  80908147 &  1764.4567\\\\\n",
       "\t West Bank and Gaza  & Asia     & 2002 & 72.370 &   3389578 &  4515.4876\\\\\n",
       "\t Yemen, Rep.         & Asia     & 2002 & 60.308 &  18701257 &  2234.8208\\\\\n",
       "\t Zambia              & Africa   & 2002 & 39.193 &  10595811 &  1071.6139\\\\\n",
       "\t Zimbabwe            & Africa   & 2002 & 39.989 &  11926563 &   672.0386\\\\\n",
       "\\end{tabular}\n"
      ],
      "text/markdown": [
       "\n",
       "A tibble: 142 × 6\n",
       "\n",
       "| country &lt;fct&gt; | continent &lt;chr&gt; | year &lt;int&gt; | lifeExp &lt;dbl&gt; | pop &lt;int&gt; | gdpPercap &lt;dbl&gt; |\n",
       "|---|---|---|---|---|---|\n",
       "| Afghanistan              | Asia     | 2002 | 42.129 |   25268405 |   726.7341 |\n",
       "| Albania                  | EU       | 2002 | 75.651 |    3508512 |  4604.2117 |\n",
       "| Algeria                  | Africa   | 2002 | 70.994 |   31287142 |  5288.0404 |\n",
       "| Angola                   | Africa   | 2002 | 41.003 |   10866106 |  2773.2873 |\n",
       "| Argentina                | Americas | 2002 | 74.340 |   38331121 |  8797.6407 |\n",
       "| Australia                | Oceania  | 2002 | 80.370 |   19546792 | 30687.7547 |\n",
       "| Austria                  | EU       | 2002 | 78.980 |    8148312 | 32417.6077 |\n",
       "| Bahrain                  | Asia     | 2002 | 74.795 |     656397 | 23403.5593 |\n",
       "| Bangladesh               | Asia     | 2002 | 62.013 |  135656790 |  1136.3904 |\n",
       "| Belgium                  | EU       | 2002 | 78.320 |   10311970 | 30485.8838 |\n",
       "| Benin                    | Africa   | 2002 | 54.406 |    7026113 |  1372.8779 |\n",
       "| Bolivia                  | Americas | 2002 | 63.883 |    8445134 |  3413.2627 |\n",
       "| Bosnia and Herzegovina   | EU       | 2002 | 74.090 |    4165416 |  6018.9752 |\n",
       "| Botswana                 | Africa   | 2002 | 46.634 |    1630347 | 11003.6051 |\n",
       "| Brazil                   | Americas | 2002 | 71.006 |  179914212 |  8131.2128 |\n",
       "| Bulgaria                 | EU       | 2002 | 72.140 |    7661799 |  7696.7777 |\n",
       "| Burkina Faso             | Africa   | 2002 | 50.650 |   12251209 |  1037.6452 |\n",
       "| Burundi                  | Africa   | 2002 | 47.360 |    7021078 |   446.4035 |\n",
       "| Cambodia                 | Asia     | 2002 | 56.752 |   12926707 |   896.2260 |\n",
       "| Cameroon                 | Africa   | 2002 | 49.856 |   15929988 |  1934.0114 |\n",
       "| Canada                   | Americas | 2002 | 79.770 |   31902268 | 33328.9651 |\n",
       "| Central African Republic | Africa   | 2002 | 43.308 |    4048013 |   738.6906 |\n",
       "| Chad                     | Africa   | 2002 | 50.525 |    8835739 |  1156.1819 |\n",
       "| Chile                    | Americas | 2002 | 77.860 |   15497046 | 10778.7838 |\n",
       "| China                    | Asia     | 2002 | 72.028 | 1280400000 |  3119.2809 |\n",
       "| Colombia                 | Americas | 2002 | 71.682 |   41008227 |  5755.2600 |\n",
       "| Comoros                  | Africa   | 2002 | 62.974 |     614382 |  1075.8116 |\n",
       "| Congo, Dem. Rep.         | Africa   | 2002 | 44.966 |   55379852 |   241.1659 |\n",
       "| Congo, Rep.              | Africa   | 2002 | 52.970 |    3328795 |  3484.0620 |\n",
       "| Costa Rica               | Americas | 2002 | 78.123 |    3834934 |  7723.4472 |\n",
       "| ⋮ | ⋮ | ⋮ | ⋮ | ⋮ | ⋮ |\n",
       "| Sierra Leone        | Africa   | 2002 | 41.012 |   5359092 |   699.4897 |\n",
       "| Singapore           | Asia     | 2002 | 78.770 |   4197776 | 36023.1054 |\n",
       "| Slovak Republic     | EU       | 2002 | 73.800 |   5410052 | 13638.7784 |\n",
       "| Slovenia            | EU       | 2002 | 76.660 |   2011497 | 20660.0194 |\n",
       "| Somalia             | Africa   | 2002 | 45.936 |   7753310 |   882.0818 |\n",
       "| South Africa        | Africa   | 2002 | 53.365 |  44433622 |  7710.9464 |\n",
       "| Spain               | EU       | 2002 | 79.780 |  40152517 | 24835.4717 |\n",
       "| Sri Lanka           | Asia     | 2002 | 70.815 |  19576783 |  3015.3788 |\n",
       "| Sudan               | Africa   | 2002 | 56.369 |  37090298 |  1993.3983 |\n",
       "| Swaziland           | Africa   | 2002 | 43.869 |   1130269 |  4128.1169 |\n",
       "| Sweden              | EU       | 2002 | 80.040 |   8954175 | 29341.6309 |\n",
       "| Switzerland         | EU       | 2002 | 80.620 |   7361757 | 34480.9577 |\n",
       "| Syria               | Asia     | 2002 | 73.053 |  17155814 |  4090.9253 |\n",
       "| Taiwan              | Asia     | 2002 | 76.990 |  22454239 | 23235.4233 |\n",
       "| Tanzania            | Africa   | 2002 | 49.651 |  34593779 |   899.0742 |\n",
       "| Thailand            | Asia     | 2002 | 68.564 |  62806748 |  5913.1875 |\n",
       "| Togo                | Africa   | 2002 | 57.561 |   4977378 |   886.2206 |\n",
       "| Trinidad and Tobago | Americas | 2002 | 68.976 |   1101832 | 11460.6002 |\n",
       "| Tunisia             | Africa   | 2002 | 73.042 |   9770575 |  5722.8957 |\n",
       "| Turkey              | EU       | 2002 | 70.845 |  67308928 |  6508.0857 |\n",
       "| Uganda              | Africa   | 2002 | 47.813 |  24739869 |   927.7210 |\n",
       "| United Kingdom      | EU       | 2002 | 78.471 |  59912431 | 29478.9992 |\n",
       "| United States       | Americas | 2002 | 77.310 | 287675526 | 39097.0995 |\n",
       "| Uruguay             | Americas | 2002 | 75.307 |   3363085 |  7727.0020 |\n",
       "| Venezuela           | Americas | 2002 | 72.766 |  24287670 |  8605.0478 |\n",
       "| Vietnam             | Asia     | 2002 | 73.017 |  80908147 |  1764.4567 |\n",
       "| West Bank and Gaza  | Asia     | 2002 | 72.370 |   3389578 |  4515.4876 |\n",
       "| Yemen, Rep.         | Asia     | 2002 | 60.308 |  18701257 |  2234.8208 |\n",
       "| Zambia              | Africa   | 2002 | 39.193 |  10595811 |  1071.6139 |\n",
       "| Zimbabwe            | Africa   | 2002 | 39.989 |  11926563 |   672.0386 |\n",
       "\n"
      ],
      "text/plain": [
       "    country                  continent year lifeExp pop        gdpPercap \n",
       "1   Afghanistan              Asia      2002 42.129    25268405   726.7341\n",
       "2   Albania                  EU        2002 75.651     3508512  4604.2117\n",
       "3   Algeria                  Africa    2002 70.994    31287142  5288.0404\n",
       "4   Angola                   Africa    2002 41.003    10866106  2773.2873\n",
       "5   Argentina                Americas  2002 74.340    38331121  8797.6407\n",
       "6   Australia                Oceania   2002 80.370    19546792 30687.7547\n",
       "7   Austria                  EU        2002 78.980     8148312 32417.6077\n",
       "8   Bahrain                  Asia      2002 74.795      656397 23403.5593\n",
       "9   Bangladesh               Asia      2002 62.013   135656790  1136.3904\n",
       "10  Belgium                  EU        2002 78.320    10311970 30485.8838\n",
       "11  Benin                    Africa    2002 54.406     7026113  1372.8779\n",
       "12  Bolivia                  Americas  2002 63.883     8445134  3413.2627\n",
       "13  Bosnia and Herzegovina   EU        2002 74.090     4165416  6018.9752\n",
       "14  Botswana                 Africa    2002 46.634     1630347 11003.6051\n",
       "15  Brazil                   Americas  2002 71.006   179914212  8131.2128\n",
       "16  Bulgaria                 EU        2002 72.140     7661799  7696.7777\n",
       "17  Burkina Faso             Africa    2002 50.650    12251209  1037.6452\n",
       "18  Burundi                  Africa    2002 47.360     7021078   446.4035\n",
       "19  Cambodia                 Asia      2002 56.752    12926707   896.2260\n",
       "20  Cameroon                 Africa    2002 49.856    15929988  1934.0114\n",
       "21  Canada                   Americas  2002 79.770    31902268 33328.9651\n",
       "22  Central African Republic Africa    2002 43.308     4048013   738.6906\n",
       "23  Chad                     Africa    2002 50.525     8835739  1156.1819\n",
       "24  Chile                    Americas  2002 77.860    15497046 10778.7838\n",
       "25  China                    Asia      2002 72.028  1280400000  3119.2809\n",
       "26  Colombia                 Americas  2002 71.682    41008227  5755.2600\n",
       "27  Comoros                  Africa    2002 62.974      614382  1075.8116\n",
       "28  Congo, Dem. Rep.         Africa    2002 44.966    55379852   241.1659\n",
       "29  Congo, Rep.              Africa    2002 52.970     3328795  3484.0620\n",
       "30  Costa Rica               Americas  2002 78.123     3834934  7723.4472\n",
       "<U+22EE>   <U+22EE>                 <U+22EE>  <U+22EE> <U+22EE> <U+22EE>   <U+22EE>  \n",
       "113 Sierra Leone             Africa    2002 41.012    5359092    699.4897\n",
       "114 Singapore                Asia      2002 78.770    4197776  36023.1054\n",
       "115 Slovak Republic          EU        2002 73.800    5410052  13638.7784\n",
       "116 Slovenia                 EU        2002 76.660    2011497  20660.0194\n",
       "117 Somalia                  Africa    2002 45.936    7753310    882.0818\n",
       "118 South Africa             Africa    2002 53.365   44433622   7710.9464\n",
       "119 Spain                    EU        2002 79.780   40152517  24835.4717\n",
       "120 Sri Lanka                Asia      2002 70.815   19576783   3015.3788\n",
       "121 Sudan                    Africa    2002 56.369   37090298   1993.3983\n",
       "122 Swaziland                Africa    2002 43.869    1130269   4128.1169\n",
       "123 Sweden                   EU        2002 80.040    8954175  29341.6309\n",
       "124 Switzerland              EU        2002 80.620    7361757  34480.9577\n",
       "125 Syria                    Asia      2002 73.053   17155814   4090.9253\n",
       "126 Taiwan                   Asia      2002 76.990   22454239  23235.4233\n",
       "127 Tanzania                 Africa    2002 49.651   34593779    899.0742\n",
       "128 Thailand                 Asia      2002 68.564   62806748   5913.1875\n",
       "129 Togo                     Africa    2002 57.561    4977378    886.2206\n",
       "130 Trinidad and Tobago      Americas  2002 68.976    1101832  11460.6002\n",
       "131 Tunisia                  Africa    2002 73.042    9770575   5722.8957\n",
       "132 Turkey                   EU        2002 70.845   67308928   6508.0857\n",
       "133 Uganda                   Africa    2002 47.813   24739869    927.7210\n",
       "134 United Kingdom           EU        2002 78.471   59912431  29478.9992\n",
       "135 United States            Americas  2002 77.310  287675526  39097.0995\n",
       "136 Uruguay                  Americas  2002 75.307    3363085   7727.0020\n",
       "137 Venezuela                Americas  2002 72.766   24287670   8605.0478\n",
       "138 Vietnam                  Asia      2002 73.017   80908147   1764.4567\n",
       "139 West Bank and Gaza       Asia      2002 72.370    3389578   4515.4876\n",
       "140 Yemen, Rep.              Asia      2002 60.308   18701257   2234.8208\n",
       "141 Zambia                   Africa    2002 39.193   10595811   1071.6139\n",
       "142 Zimbabwe                 Africa    2002 39.989   11926563    672.0386"
      ]
     },
     "metadata": {},
     "output_type": "display_data"
    }
   ],
   "source": [
    "data2002 <- gapminder |> filter(year == 2002) \n",
    "head(data2002)\n",
    "\n",
    "data2002 |>\n",
    "    mutate(continent = as.character(continent), # convert factor -> character \n",
    "           continent = ifelse(continent == \"Europe\", \"EU\", continent))"
   ]
  },
  {
   "cell_type": "markdown",
   "id": "f8de5135",
   "metadata": {},
   "source": [
    "---"
   ]
  },
  {
   "cell_type": "markdown",
   "id": "9592bda1",
   "metadata": {},
   "source": [
    "## Refences"
   ]
  },
  {
   "cell_type": "markdown",
   "id": "ae226f5e",
   "metadata": {},
   "source": [
    "1. [dplyr: A Grammar of Data Manipulation](https://cran.r-project.org/web/packages/dplyr/index.html) on https://cran.r-project.org/.\n",
    "2. [Data Transformation with splyr::cheat sheet](https://github.com/rstudio/cheatsheets/blob/master/data-transformation.pdf).\n",
    "3. [DPLYR TUTORIAL : DATA MANIPULATION (50 EXAMPLES)](https://www.listendata.com/2016/08/dplyr-tutorial.html) by Deepanshu Bhalla.\n",
    "5. [Dplyr Intro](https://stat545.com/dplyr-intro.html) by Stat 545.\n",
    "6.[R Dplyr Tutorial: Data Manipulation(Join) & Cleaning(Spread)](https://www.guru99.com/r-dplyr-tutorial.html). Introduction to Data Analysis\n",
    "7. [Loan Default Prediction. Beginners data set for financial analytics Kaggle](https://www.kaggle.com/kmldas/loan-default-prediction)"
   ]
  }
 ],
 "metadata": {
  "kernelspec": {
   "display_name": "R",
   "language": "R",
   "name": "ir"
  },
  "language_info": {
   "codemirror_mode": "r",
   "file_extension": ".r",
   "mimetype": "text/x-r-source",
   "name": "R",
   "pygments_lexer": "r",
   "version": "4.1.3"
  }
 },
 "nbformat": 4,
 "nbformat_minor": 5
}
