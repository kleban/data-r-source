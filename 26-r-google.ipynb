{
 "cells": [
  {
   "cell_type": "markdown",
   "id": "a52998a0-8436-45d1-80a8-69ae7854d73b",
   "metadata": {},
   "source": [
    "---\n",
    "author: \"Юрій Клебан\"\n",
    "---"
   ]
  },
  {
   "cell_type": "markdown",
   "id": "4c6cd358",
   "metadata": {},
   "source": [
    "# Google Services"
   ]
  },
  {
   "cell_type": "markdown",
   "id": "c2e341bb",
   "metadata": {},
   "source": [
    "## Google Spreadsheets"
   ]
  },
  {
   "cell_type": "markdown",
   "id": "6b40e3a7",
   "metadata": {},
   "source": [
    "> THIS CHAPTER IS UNDER CONSTRUCTION / Working with Google Spreadsheets need account authorization."
   ]
  },
  {
   "cell_type": "markdown",
   "id": "67bb8e04",
   "metadata": {},
   "source": [
    "googlesheets4 is a package to work with Google Sheets from R. "
   ]
  },
  {
   "cell_type": "code",
   "execution_count": 127,
   "id": "6f3bd5c5",
   "metadata": {},
   "outputs": [],
   "source": [
    "#install.packages(\"googlesheets4\")\n",
    "library(googlesheets4)"
   ]
  },
  {
   "cell_type": "markdown",
   "id": "1d8183af",
   "metadata": {},
   "source": [
    "You can read google documents after authentification on google service. There is sample code:\n",
    "\n",
    "```\n",
    "read_sheet(\"https://docs.google.com/spreadsheets/d/1U6Cf_qEOhiR9AZqTqS3mbMF3zt2db48ZP5v3rkrAEJY/edit#gid=780868077\")\n",
    "gs4_deauth()\n",
    "```"
   ]
  },
  {
   "cell_type": "markdown",
   "id": "81584d58",
   "metadata": {},
   "source": [
    "Let's read sample dataset `gapminder`. It detailed described in next paragraph."
   ]
  },
  {
   "cell_type": "code",
   "execution_count": 128,
   "id": "dd148f72",
   "metadata": {},
   "outputs": [],
   "source": [
    "# gs4_example(\"gapminder\")"
   ]
  },
  {
   "cell_type": "markdown",
   "id": "5ed2cdf5-2a32-4e26-b827-216c7bcb1c07",
   "metadata": {},
   "source": [
    "---"
   ]
  },
  {
   "cell_type": "markdown",
   "id": "f4ec09ca",
   "metadata": {},
   "source": [
    "## Google Search Trends"
   ]
  },
  {
   "cell_type": "markdown",
   "id": "b02a0f92",
   "metadata": {},
   "source": [
    "**`Google Trends`** is a service for analyzing search requests by many filters like `region` (continent, country, locality), `period` (year, month), `information category` (business, education, hobby, healthcare), `information type` (news, shopping, video, images) https://trends.google.com/trends/"
   ]
  },
  {
   "cell_type": "code",
   "execution_count": 129,
   "id": "484f78e2",
   "metadata": {},
   "outputs": [],
   "source": [
    "# install.packages('gtrendsR')\n",
    "# install.packages('ggplot2')\n",
    "library(gtrendsR) # loading package for Google Trends queries\n",
    "library(ggplot2)"
   ]
  },
  {
   "cell_type": "markdown",
   "id": "71522538",
   "metadata": {},
   "source": [
    "Let's configure out google trends query params"
   ]
  },
  {
   "cell_type": "code",
   "execution_count": 130,
   "id": "73f63252",
   "metadata": {},
   "outputs": [],
   "source": [
    "keywords = c(\"Bitcoin\", \"FC Barcelona\") # search keywords\n",
    "country = c('AT') # search region from https://support.google.com/business/answer/6270107?hl=en\n",
    "time = (\"2021-01-01 2021-06-01\") # period\n",
    "channel = 'web' # search channel: google search ('news' - google news, 'images' - google images)"
   ]
  },
  {
   "cell_type": "code",
   "execution_count": 131,
   "id": "4583db46",
   "metadata": {},
   "outputs": [],
   "source": [
    "# query\n",
    "trends = gtrends(keywords, gprop = channel, geo = country, time = time, tz = \"UTC\")"
   ]
  },
  {
   "cell_type": "code",
   "execution_count": 132,
   "id": "59a1c513",
   "metadata": {},
   "outputs": [
    {
     "data": {
      "text/html": [
       "<table class=\"dataframe\">\n",
       "<caption>A data.frame: 6 × 7</caption>\n",
       "<thead>\n",
       "\t<tr><th></th><th scope=col>date</th><th scope=col>hits</th><th scope=col>keyword</th><th scope=col>geo</th><th scope=col>time</th><th scope=col>gprop</th><th scope=col>category</th></tr>\n",
       "\t<tr><th></th><th scope=col>&lt;dttm&gt;</th><th scope=col>&lt;chr&gt;</th><th scope=col>&lt;chr&gt;</th><th scope=col>&lt;chr&gt;</th><th scope=col>&lt;chr&gt;</th><th scope=col>&lt;chr&gt;</th><th scope=col>&lt;int&gt;</th></tr>\n",
       "</thead>\n",
       "<tbody>\n",
       "\t<tr><th scope=row>1</th><td>2021-01-01</td><td>36</td><td>Bitcoin</td><td>AT</td><td>2021-01-01 2021-06-01</td><td>web</td><td>0</td></tr>\n",
       "\t<tr><th scope=row>2</th><td>2021-01-02</td><td>67</td><td>Bitcoin</td><td>AT</td><td>2021-01-01 2021-06-01</td><td>web</td><td>0</td></tr>\n",
       "\t<tr><th scope=row>3</th><td>2021-01-03</td><td>74</td><td>Bitcoin</td><td>AT</td><td>2021-01-01 2021-06-01</td><td>web</td><td>0</td></tr>\n",
       "\t<tr><th scope=row>4</th><td>2021-01-04</td><td>57</td><td>Bitcoin</td><td>AT</td><td>2021-01-01 2021-06-01</td><td>web</td><td>0</td></tr>\n",
       "\t<tr><th scope=row>5</th><td>2021-01-05</td><td>53</td><td>Bitcoin</td><td>AT</td><td>2021-01-01 2021-06-01</td><td>web</td><td>0</td></tr>\n",
       "\t<tr><th scope=row>6</th><td>2021-01-06</td><td>66</td><td>Bitcoin</td><td>AT</td><td>2021-01-01 2021-06-01</td><td>web</td><td>0</td></tr>\n",
       "</tbody>\n",
       "</table>\n"
      ],
      "text/latex": [
       "A data.frame: 6 × 7\n",
       "\\begin{tabular}{r|lllllll}\n",
       "  & date & hits & keyword & geo & time & gprop & category\\\\\n",
       "  & <dttm> & <chr> & <chr> & <chr> & <chr> & <chr> & <int>\\\\\n",
       "\\hline\n",
       "\t1 & 2021-01-01 & 36 & Bitcoin & AT & 2021-01-01 2021-06-01 & web & 0\\\\\n",
       "\t2 & 2021-01-02 & 67 & Bitcoin & AT & 2021-01-01 2021-06-01 & web & 0\\\\\n",
       "\t3 & 2021-01-03 & 74 & Bitcoin & AT & 2021-01-01 2021-06-01 & web & 0\\\\\n",
       "\t4 & 2021-01-04 & 57 & Bitcoin & AT & 2021-01-01 2021-06-01 & web & 0\\\\\n",
       "\t5 & 2021-01-05 & 53 & Bitcoin & AT & 2021-01-01 2021-06-01 & web & 0\\\\\n",
       "\t6 & 2021-01-06 & 66 & Bitcoin & AT & 2021-01-01 2021-06-01 & web & 0\\\\\n",
       "\\end{tabular}\n"
      ],
      "text/markdown": [
       "\n",
       "A data.frame: 6 × 7\n",
       "\n",
       "| <!--/--> | date &lt;dttm&gt; | hits &lt;chr&gt; | keyword &lt;chr&gt; | geo &lt;chr&gt; | time &lt;chr&gt; | gprop &lt;chr&gt; | category &lt;int&gt; |\n",
       "|---|---|---|---|---|---|---|---|\n",
       "| 1 | 2021-01-01 | 36 | Bitcoin | AT | 2021-01-01 2021-06-01 | web | 0 |\n",
       "| 2 | 2021-01-02 | 67 | Bitcoin | AT | 2021-01-01 2021-06-01 | web | 0 |\n",
       "| 3 | 2021-01-03 | 74 | Bitcoin | AT | 2021-01-01 2021-06-01 | web | 0 |\n",
       "| 4 | 2021-01-04 | 57 | Bitcoin | AT | 2021-01-01 2021-06-01 | web | 0 |\n",
       "| 5 | 2021-01-05 | 53 | Bitcoin | AT | 2021-01-01 2021-06-01 | web | 0 |\n",
       "| 6 | 2021-01-06 | 66 | Bitcoin | AT | 2021-01-01 2021-06-01 | web | 0 |\n",
       "\n"
      ],
      "text/plain": [
       "  date       hits keyword geo time                  gprop category\n",
       "1 2021-01-01 36   Bitcoin AT  2021-01-01 2021-06-01 web   0       \n",
       "2 2021-01-02 67   Bitcoin AT  2021-01-01 2021-06-01 web   0       \n",
       "3 2021-01-03 74   Bitcoin AT  2021-01-01 2021-06-01 web   0       \n",
       "4 2021-01-04 57   Bitcoin AT  2021-01-01 2021-06-01 web   0       \n",
       "5 2021-01-05 53   Bitcoin AT  2021-01-01 2021-06-01 web   0       \n",
       "6 2021-01-06 66   Bitcoin AT  2021-01-01 2021-06-01 web   0       "
      ]
     },
     "metadata": {},
     "output_type": "display_data"
    }
   ],
   "source": [
    "time_trend = trends$interest_over_time\n",
    "head(time_trend)"
   ]
  },
  {
   "cell_type": "code",
   "execution_count": 133,
   "id": "3be82f04",
   "metadata": {},
   "outputs": [
    {
     "data": {
      "image/png": "[encoded data removed]",
      "text/plain": [
       "plot without title"
      ]
     },
     "metadata": {
      "image/png": {
       "height": 420,
       "width": 420
      }
     },
     "output_type": "display_data"
    }
   ],
   "source": [
    "plot <- ggplot(data=time_trend, aes(x=date, y=hits, group=keyword, col=keyword)) +\n",
    "  geom_line() +\n",
    "  xlab('Time') + \n",
    "  ylab('Relative Interest') + \n",
    "  theme(legend.title = element_blank(), legend.position=\"bottom\", legend.text=element_text(size=15)) + \n",
    "  ggtitle(\"Google Search Volume\")  \n",
    "\n",
    "plot"
   ]
  },
  {
   "cell_type": "markdown",
   "id": "a136ea00-b865-4ab3-8c14-148ecb23601d",
   "metadata": {},
   "source": [
    "## Набори даних"
   ]
  },
  {
   "cell_type": "markdown",
   "id": "a2203039-029b-4de2-a70e-b36feba50c05",
   "metadata": {},
   "source": [
    "1. https://github.com/kleban/r-book-published/tree/main/datasets/telecom_users.csv\n",
    "2. https://github.com/kleban/r-book-published/tree/main/datasets/telecom_sers.xlsx\n",
    "3. https://github.com/kleban/r-book-published/tree/main/datasets/Default_Fin.csv\n",
    "4. https://github.com/kleban/r-book-published/tree/main/datasets/employes.xml"
   ]
  },
  {
   "cell_type": "markdown",
   "id": "3c4e296e-7434-454a-ab2e-a3fe95f4de05",
   "metadata": {},
   "source": [
    "---"
   ]
  },
  {
   "cell_type": "markdown",
   "id": "e5f6def2",
   "metadata": {},
   "source": [
    "## References"
   ]
  },
  {
   "cell_type": "markdown",
   "id": "c158f38a",
   "metadata": {},
   "source": [
    "1. [SQLite in R. Datacamp](https://www.datacamp.com/community/tutorials/sqlite-in-r)\n",
    "2. [Tidyverse googlesheets4 0.2.0](https://www.tidyverse.org/blog/2020/05/googlesheets4-0-2-0/)\n",
    "<!-- 3. [Telecom users dataset. Practice classification with a telco dataset.Kaggle](https://www.kaggle.com/radmirzosimov/telecom-users-dataset) -->\n",
    "4. [Binanace spot Api Docs](https://github.com/binance/binance-spot-api-docs/blob/master/rest-api.md#klinecandlestick-data)\n",
    "5. [Web Scraping in R: rvest Tutorial](https://www.datacamp.com/community/tutorials/r-web-scraping-rvest) by Arvid Kingl"
   ]
  }
 ],
 "metadata": {
  "kernelspec": {
   "display_name": "R",
   "language": "R",
   "name": "ir"
  },
  "language_info": {
   "codemirror_mode": "r",
   "file_extension": ".r",
   "mimetype": "text/x-r-source",
   "name": "R",
   "pygments_lexer": "r",
   "version": "4.1.3"
  }
 },
 "nbformat": 4,
 "nbformat_minor": 5
}
