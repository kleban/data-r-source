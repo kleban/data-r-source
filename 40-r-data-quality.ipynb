{
 "cells": [
  {
   "cell_type": "markdown",
   "metadata": {
    "cell_id": "e5cde04d81ef4f77b739f6cf4b089fba",
    "deepnote_cell_type": "text-cell-h1",
    "is_collapsed": false,
    "tags": []
   },
   "source": [
    "---\n",
    "\n",
    "author: Юрій Клебан\n",
    "\n",
    "---"
   ]
  },
  {
   "cell_type": "markdown",
   "metadata": {
    "tags": []
   },
   "source": [
    "# Оцінки якості даних"
   ]
  },
  {
   "cell_type": "markdown",
   "metadata": {},
   "source": [
    "Матеріали розділу описують інформацію про виміри оцінки якості даних, підходи до визначення та обробки пропущених значень, а також розглядаються способи боротьби зі статистичними викидами."
   ]
  },
  {
   "cell_type": "markdown",
   "metadata": {
    "cell_id": "19e55e18971e4bc78f9f81a32c374d57",
    "deepnote_cell_height": 111.171875,
    "deepnote_cell_type": "markdown",
    "tags": []
   },
   "source": [
    "## Що таке валідація даних?\n",
    "\n",
    "Валідація даних відноситься до процесу забезпечення точності та якості даних. Він реалізується шляхом вбудовування кількох перевірок у систему або звітування для забезпечення логічної узгодженості введених і збережених даних."
   ]
  },
  {
   "cell_type": "markdown",
   "metadata": {},
   "source": [
    "---"
   ]
  },
  {
   "cell_type": "markdown",
   "metadata": {
    "cell_id": "5bd187bd9ef94f12a395ed5732fae376",
    "deepnote_cell_height": 97.171875,
    "deepnote_cell_type": "markdown",
    "tags": []
   },
   "source": [
    "Якість даних залежить від очищення та коригування даних, які відсутні, некоректні, недійсні або нечитабельні. Для забезпечення достовірності даних важливо зрозуміти ключові аспекти якості даних, щоб оцінити, наскільки дані погані/хороші."
   ]
  },
  {
   "cell_type": "markdown",
   "metadata": {
    "cell_id": "f2ef488bc6ec40f6b242e6d96ac2202e",
    "deepnote_cell_height": 97.171875,
    "deepnote_cell_type": "markdown",
    "tags": []
   },
   "source": [
    "На перший погляд, очевидно, що перетворення даних до якісних полягає в очищенні поганих даних – даних, які відсутні, неправильні або якимось чином недійсні. Але щоб переконатися, що дані заслуговують довіри, важливо розуміти ключові виміри якості даних, щоб оцінити, наскільки дані є «поганими»."
   ]
  },
  {
   "cell_type": "markdown",
   "metadata": {
    "cell_id": "08ade24efa324c3d98a12fbe560da19a",
    "deepnote_cell_height": 313.90625,
    "deepnote_cell_type": "markdown",
    "tags": []
   },
   "source": [
    "Окремі компанії мають внутрішні документи, що визначають виміри оцінки якості даних та порядок його проведення - `Data Validation Framework` або `Data Quality Framework`.\n",
    "\n",
    "Коли говорять про якість даних, то мається на увазі їх оцінка у кількох вимірах. Розглянемо коротко ці виміри:\n",
    "\n",
    "- [x] Правильність / `Accuracy`\n",
    "- [x] Повнота / `Completeness`\n",
    "- [x] Узгодженість / `Consistency`\n",
    "- [x] Відповідність / `Conformity`\n",
    "- [x] Цілісність / `Integrity`\n",
    "- [x] Своєчасність / `Timeliness`\n",
    "- [x] Унікальність / `Uniqueness`\n"
   ]
  },
  {
   "cell_type": "markdown",
   "metadata": {
    "cell_id": "9601bc07f5d2479fab665bb21e70a1bd",
    "deepnote_cell_height": 46,
    "deepnote_cell_type": "markdown",
    "tags": []
   },
   "source": [
    "---"
   ]
  },
  {
   "cell_type": "markdown",
   "metadata": {
    "cell_id": "b51c187d5c6b41d2b7674dcfeaa26583",
    "deepnote_cell_height": 377.90625,
    "deepnote_cell_type": "markdown",
    "tags": []
   },
   "source": [
    "## Правильність / (Accuracy)\n",
    "\n",
    "**Правильність** — це ступінь, до якого дані правильно відображають реальний об’єкт АБО описувану подію. \n",
    "\n",
    "Приклади:\n",
    "- [x] Реальною вартістю є ціна продажу одиниці товару.\n",
    "- [x] Адреса співробітника в `базі даних співробітників` є справжньою адресою.\n",
    "\n",
    "Запитання, які ви можете задати собі: \n",
    "\n",
    "- [x] Чи об’єкти даних точно представляють значення «реального світу», які вони повинні моделювати? _Наприклад, чи правильно вказувати вік у сотнях тисяч років?_\n",
    "- [x] Чи присутнє неправильне написання назв товарів чи осіб, адрес і навіть несвоєчасних чи неактуальних даних? \n",
    "\n",
    "Ці проблеми можуть вплинути на результатати аналітичних звітів, наприклад, неправильні середні значення певних показників."
   ]
  },
  {
   "cell_type": "markdown",
   "metadata": {
    "cell_id": "d679692467344e6e9ec92c766ac72a96",
    "deepnote_cell_height": 46,
    "deepnote_cell_type": "markdown",
    "tags": []
   },
   "source": [
    "---"
   ]
  },
  {
   "cell_type": "markdown",
   "metadata": {
    "cell_id": "f08ca939cb464024866f772a78f2293f",
    "deepnote_cell_height": 319.125,
    "deepnote_cell_type": "markdown",
    "tags": []
   },
   "source": [
    "## Повнота / (Completeness)\n",
    "\n",
    "Повнота визначається як очікувана всебічність. Дані можуть бути повними, навіть якщо додаткові дані відсутні. Поки дані відповідають очікуванням, вони вважаються повними.\n",
    "\n",
    "Наприклад, ім’я та прізвище замовника є обов'язковими, але прізвище необов’язково; тому запис можна вважати повним, навіть якщо прізвища не існує.\n",
    "\n",
    "Питання, які ви можете задати собі: \n",
    "\n",
    "- [x] Чи доступна вся необхідна інформація? \n",
    "- [x] Чи мають якісь дані відсутні елементи? \n",
    "- [x] Або вони перебувають у непридатному для роботи вигляді?\n"
   ]
  },
  {
   "cell_type": "markdown",
   "metadata": {
    "cell_id": "e1bac1f0a54f4764b20c2c46980b2f70",
    "deepnote_cell_height": 46,
    "deepnote_cell_type": "markdown",
    "tags": []
   },
   "source": [
    "---"
   ]
  },
  {
   "cell_type": "markdown",
   "metadata": {
    "cell_id": "22e706adf1dd43419d3d1e3864eb0ade",
    "deepnote_cell_height": 336.125,
    "deepnote_cell_type": "markdown",
    "tags": []
   },
   "source": [
    "## Узгодженість / Consistency\n",
    "\n",
    "**Узгодженість** означає, що дані в усіх системах/таблицях відображають однакову інформацію та синхронізовані між собою.  \n",
    "\n",
    "Приклади:\n",
    "- [x] Статус бізнес-підрозділу \"закритий\", але є продажі для цього підрозділу.\n",
    "- [x] Статус працівника \"звільнено\", але статус випалати заробіної плати містить суму відмінну від 0 за той самий період.\n",
    "- [x] Зафіксовано, що клієнт має у банку депозити, але у даних про депозити записи по клієнту відсутні.\n",
    "\n",
    "Запитання, які ви можете поставити собі: \n",
    "\n",
    "- [x] Чи однакові значення даних у наборах даних? \n",
    "- [x] Чи існують якісь різні випадки, коли однакові екземпляри даних надають суперечливу інформацію?"
   ]
  },
  {
   "cell_type": "markdown",
   "metadata": {
    "cell_id": "9530a1734488479ca642820fac551674",
    "deepnote_cell_height": 46,
    "deepnote_cell_type": "markdown",
    "tags": []
   },
   "source": [
    "---"
   ]
  },
  {
   "cell_type": "markdown",
   "metadata": {
    "cell_id": "dd7b37aa4fc742a8984171997182460b",
    "deepnote_cell_height": 257.34375,
    "deepnote_cell_type": "markdown",
    "tags": []
   },
   "source": [
    "## Відповідність / Conformity\n",
    "\n",
    "**Відповідність** означає, що дані відповідають набору стандартних визначень даних, як-от тип даних, розмір і формат. Наприклад, дата народження клієнта у форматі `dd/mm/yyyy` або відстань у км числом `100`, а не записом `100км`.\n",
    "\n",
    "Запитання, які ви можете задати собі: \n",
    "- [x] Чи відповідають значення даних зазначеним форматам? \n",
    "- [x] Якщо так, то чи всі значення даних відповідають цим форматам?\n",
    "\n",
    "Важливо підтримувати відповідність конкретним форматам."
   ]
  },
  {
   "cell_type": "markdown",
   "metadata": {
    "cell_id": "d0c4cca95bf6439981778c13f8d64fb1",
    "deepnote_cell_height": 46,
    "deepnote_cell_type": "markdown",
    "tags": []
   },
   "source": [
    "---"
   ]
  },
  {
   "cell_type": "markdown",
   "metadata": {
    "cell_id": "976ecfff028b441da11aaa81535f5add",
    "deepnote_cell_height": 290.734375,
    "deepnote_cell_type": "markdown",
    "tags": []
   },
   "source": [
    "## Цілісність / Integrity\n",
    "\n",
    "**Цілісність** означає достовірність даних у взаємозв’язках і гарантує, що всі дані в базі даних можна відстежити та з’єднати з іншими даними.\n",
    "\n",
    "Наприклад, у базі даних клієнтів має бути дійсний клієнт, адреси та відношення/зв'язки між ними. Якщо є дані про зв’язок адреси без клієнта, то ці дані недійсні й вважаються загубленим записом.\n",
    "\n",
    "Запитайте себе: \n",
    "- [x] Чи є якісь дані без важливих зв’язків?\n",
    "\n",
    "Неможливість пов’язати записи разом може призвести до дублювання у ваших системах."
   ]
  },
  {
   "cell_type": "markdown",
   "metadata": {
    "cell_id": "29300cda7cdf4a03a39f9828d8918bea",
    "deepnote_cell_height": 46,
    "deepnote_cell_type": "markdown",
    "tags": []
   },
   "source": [
    "---"
   ]
  },
  {
   "cell_type": "markdown",
   "metadata": {
    "cell_id": "ccd98fbc4b5e4b85a08b2610439199e3",
    "deepnote_cell_height": 341.515625,
    "deepnote_cell_type": "markdown",
    "tags": []
   },
   "source": [
    "## Своєчасність / Timeliness\n",
    "\n",
    "**Своєчасність** показує, чи є інформація доступною, коли вона очікується та потрібна. Своєчасність даних дуже важлива. \n",
    "\n",
    "Це відображається в:\n",
    "- [x] Компанії, які зобов’язані публікувати свої квартальні результати протягом певного періоду часу\n",
    "- [x] Обслуговування клієнтів надає клієнтам актуальну інформацію\n",
    "- [x] Кредитна система перевіряє активність рахунку кредитної картки в режимі реального часу\n",
    "\n",
    "Своєчасність залежить від очікувань користувача. Доступність даних в Інтернеті може знадобитися для системи розподілу номерів у сфері готельного бізнесу.\n",
    "\n",
    "Як бачите, якість даних є важливим питанням, яке слід враховувати, починаючи від етапу визначення цілей проекту, аж до впровадження, обслуговування та використання готово рішення у виробничі процесі підприємства."
   ]
  },
  {
   "cell_type": "markdown",
   "metadata": {},
   "source": [
    "---"
   ]
  },
  {
   "cell_type": "markdown",
   "metadata": {},
   "source": [
    "## Набори даних"
   ]
  },
  {
   "cell_type": "markdown",
   "metadata": {},
   "source": [
    "1. https://github.com/kleban/r-book-published/tree/main/datasets/untitled.csv\n",
    "2. https://github.com/kleban/r-book-published/tree/main/datasets/badtitled.csv\n",
    "3. https://github.com/kleban/r-book-published/tree/main/datasets/cleaned_titled.csv\n",
    "4. https://github.com/kleban/r-book-published/tree/main/datasets/cleaned_titled2.csv\n",
    "5. https://github.com/kleban/r-book-published/tree/main/datasets/river_eco.csv"
   ]
  },
  {
   "cell_type": "markdown",
   "metadata": {},
   "source": [
    "---"
   ]
  },
  {
   "cell_type": "markdown",
   "metadata": {
    "cell_id": "5972a3c0bc0b48d2a2b269a0b802d255",
    "deepnote_cell_type": "input-slider",
    "deepnote_slider_max_value": 10,
    "deepnote_slider_min_value": 0,
    "deepnote_slider_step": 1,
    "deepnote_variable_name": "input_1",
    "deepnote_variable_value": "8",
    "vscode": {
     "languageId": "r"
    }
   },
   "source": [
    "## Використані та додаткові джерела"
   ]
  },
  {
   "cell_type": "markdown",
   "metadata": {
    "cell_id": "d84d49babc6f4ecc8a3bb60f946c091e",
    "deepnote_cell_height": 94.78125,
    "deepnote_cell_type": "markdown",
    "tags": []
   },
   "source": [
    "1. [KPMG Virtual Internship](https://www.insidesherpa.com/virtual-internships/m7W4GMqeT3bh9Nb2c)\n",
    "2. [An introduction to data cleaning with R / Edwin de Jonge, Mark van der Loo, 2013](https://cran.r-project.org/doc/contrib/de_Jonge+van_der_Loo-Introduction_to_data_cleaning_with_R.pdf)\n",
    "3. [Anomaly Detection in R](datacamp.com/courses/anomaly-detection-in-r)\n",
    "4. [K-nearest Neighbor: The maths behind it, how it works and an example](https://medium.com/analytics-vidhya/k-nearest-neighbor-the-maths-behind-it-how-it-works-and-an-example-f1de1208546c)\n",
    "5. [Quantile. Wikipedia](https://en.wikipedia.org/wiki/Quantile)"
   ]
  }
 ],
 "metadata": {
  "deepnote": {},
  "deepnote_execution_queue": [],
  "deepnote_notebook_id": "98d3d2a2-2921-4f5d-a292-65d4b34cd357",
  "kernelspec": {
   "display_name": "R",
   "language": "R",
   "name": "ir"
  },
  "language_info": {
   "codemirror_mode": "r",
   "file_extension": ".r",
   "mimetype": "text/x-r-source",
   "name": "R",
   "pygments_lexer": "r",
   "version": "4.1.3"
  }
 },
 "nbformat": 4,
 "nbformat_minor": 4
}
