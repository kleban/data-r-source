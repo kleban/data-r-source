{
 "cells": [
  {
   "cell_type": "markdown",
   "metadata": {
    "cell_id": "e5cde04d81ef4f77b739f6cf4b089fba",
    "deepnote_cell_type": "text-cell-h1",
    "is_collapsed": false,
    "tags": []
   },
   "source": [
    "---\n",
    "\n",
    "author: Юрій Клебан\n",
    "\n",
    "---"
   ]
  },
  {
   "cell_type": "markdown",
   "metadata": {},
   "source": [
    "# Аналіз та обробка статистичних викидів у даних"
   ]
  },
  {
   "cell_type": "markdown",
   "metadata": {},
   "source": [
    "**Виявлення аномалій** — це сукупність методів, призначених для виявлення незвичайних точок даних."
   ]
  },
  {
   "cell_type": "markdown",
   "metadata": {},
   "source": [
    "**Аномалія** - точка даних або набір точок даних, які не мають таку саму структуру та поведінку, що й інші дані."
   ]
  },
  {
   "cell_type": "markdown",
   "metadata": {},
   "source": [
    "Аномалії у даних можуть мати різну природу та по різному себе проявляти:\n",
    "\n",
    "- [x] Точкова аномалія\n",
    "    * Єдина точка даних\n",
    "    * Незвично в порівнянні з іншими даними\n",
    "    \n",
    "Приклад: одна добова висока температура 41°С серед ряду звичайних весняних днів"
   ]
  },
  {
   "cell_type": "code",
   "execution_count": 97,
   "metadata": {},
   "outputs": [
    {
     "data": {
      "image/png": "[encoded data removed]",
      "text/plain": [
       "plot without title"
      ]
     },
     "metadata": {
      "image/png": {
       "height": 420,
       "width": 420
      }
     },
     "output_type": "display_data"
    }
   ],
   "source": [
    "temp <- c(15, 17, 19, 12, 30, 41, 17, 20)\n",
    "boxplot(temp, ylab = \"Celcium\")"
   ]
  },
  {
   "cell_type": "markdown",
   "metadata": {},
   "source": [
    "- [x] Колективна аномалія\n",
    "    * Аномальна колекція екземплярів даних\n",
    "    * Незвично, якщо розглядати разом"
   ]
  },
  {
   "cell_type": "markdown",
   "metadata": {},
   "source": [
    "Опишемо набір даних, до використовуватиметься надалі для прикладів.\n",
    "\n",
    "`river_eco` - це data.frame, що містить такі три стовпці:\n",
    "- [x] `index` - цілі числа, що описують порядок спостережень нітратів;\n",
    "- [x] `nitrate` - місячні концентрації розчинених нітратів у річці;\n",
    "- [x] `month` - змінна, що містить місяць для кожного спостереження нітратів\n",
    "\n",
    "Нам потрібно дослідити стовпець `nitrate`, щоб оцінити наявність точкових аномалій у даних."
   ]
  },
  {
   "cell_type": "code",
   "execution_count": 21,
   "metadata": {},
   "outputs": [
    {
     "data": {
      "text/html": [
       "<table class=\"dataframe\">\n",
       "<caption>A data.frame: 6 × 3</caption>\n",
       "<thead>\n",
       "\t<tr><th></th><th scope=col>index</th><th scope=col>nitrate</th><th scope=col>months</th></tr>\n",
       "\t<tr><th></th><th scope=col>&lt;int&gt;</th><th scope=col>&lt;dbl&gt;</th><th scope=col>&lt;chr&gt;</th></tr>\n",
       "</thead>\n",
       "<tbody>\n",
       "\t<tr><th scope=row>1</th><td>1</td><td>1.581</td><td>January </td></tr>\n",
       "\t<tr><th scope=row>2</th><td>2</td><td>1.323</td><td>February</td></tr>\n",
       "\t<tr><th scope=row>3</th><td>3</td><td>1.140</td><td>March   </td></tr>\n",
       "\t<tr><th scope=row>4</th><td>4</td><td>1.245</td><td>April   </td></tr>\n",
       "\t<tr><th scope=row>5</th><td>5</td><td>1.072</td><td>May     </td></tr>\n",
       "\t<tr><th scope=row>6</th><td>6</td><td>1.483</td><td>June    </td></tr>\n",
       "</tbody>\n",
       "</table>\n"
      ],
      "text/latex": [
       "A data.frame: 6 × 3\n",
       "\\begin{tabular}{r|lll}\n",
       "  & index & nitrate & months\\\\\n",
       "  & <int> & <dbl> & <chr>\\\\\n",
       "\\hline\n",
       "\t1 & 1 & 1.581 & January \\\\\n",
       "\t2 & 2 & 1.323 & February\\\\\n",
       "\t3 & 3 & 1.140 & March   \\\\\n",
       "\t4 & 4 & 1.245 & April   \\\\\n",
       "\t5 & 5 & 1.072 & May     \\\\\n",
       "\t6 & 6 & 1.483 & June    \\\\\n",
       "\\end{tabular}\n"
      ],
      "text/markdown": [
       "\n",
       "A data.frame: 6 × 3\n",
       "\n",
       "| <!--/--> | index &lt;int&gt; | nitrate &lt;dbl&gt; | months &lt;chr&gt; |\n",
       "|---|---|---|---|\n",
       "| 1 | 1 | 1.581 | January  |\n",
       "| 2 | 2 | 1.323 | February |\n",
       "| 3 | 3 | 1.140 | March    |\n",
       "| 4 | 4 | 1.245 | April    |\n",
       "| 5 | 5 | 1.072 | May      |\n",
       "| 6 | 6 | 1.483 | June     |\n",
       "\n"
      ],
      "text/plain": [
       "  index nitrate months  \n",
       "1 1     1.581   January \n",
       "2 2     1.323   February\n",
       "3 3     1.140   March   \n",
       "4 4     1.245   April   \n",
       "5 5     1.072   May     \n",
       "6 6     1.483   June    "
      ]
     },
     "metadata": {},
     "output_type": "display_data"
    }
   ],
   "source": [
    "river_data <- read.csv(\"data/river_eco.csv\")\n",
    "head(river_data)"
   ]
  },
  {
   "cell_type": "code",
   "execution_count": 22,
   "metadata": {},
   "outputs": [
    {
     "data": {
      "text/html": [
       "<table class=\"dataframe\">\n",
       "<caption>A data.frame: 6 × 3</caption>\n",
       "<thead>\n",
       "\t<tr><th></th><th scope=col>index</th><th scope=col>nitrate</th><th scope=col>months</th></tr>\n",
       "\t<tr><th></th><th scope=col>&lt;int&gt;</th><th scope=col>&lt;dbl&gt;</th><th scope=col>&lt;fct&gt;</th></tr>\n",
       "</thead>\n",
       "<tbody>\n",
       "\t<tr><th scope=row>1</th><td>1</td><td>1.581</td><td>January </td></tr>\n",
       "\t<tr><th scope=row>2</th><td>2</td><td>1.323</td><td>February</td></tr>\n",
       "\t<tr><th scope=row>3</th><td>3</td><td>1.140</td><td>March   </td></tr>\n",
       "\t<tr><th scope=row>4</th><td>4</td><td>1.245</td><td>April   </td></tr>\n",
       "\t<tr><th scope=row>5</th><td>5</td><td>1.072</td><td>May     </td></tr>\n",
       "\t<tr><th scope=row>6</th><td>6</td><td>1.483</td><td>June    </td></tr>\n",
       "</tbody>\n",
       "</table>\n"
      ],
      "text/latex": [
       "A data.frame: 6 × 3\n",
       "\\begin{tabular}{r|lll}\n",
       "  & index & nitrate & months\\\\\n",
       "  & <int> & <dbl> & <fct>\\\\\n",
       "\\hline\n",
       "\t1 & 1 & 1.581 & January \\\\\n",
       "\t2 & 2 & 1.323 & February\\\\\n",
       "\t3 & 3 & 1.140 & March   \\\\\n",
       "\t4 & 4 & 1.245 & April   \\\\\n",
       "\t5 & 5 & 1.072 & May     \\\\\n",
       "\t6 & 6 & 1.483 & June    \\\\\n",
       "\\end{tabular}\n"
      ],
      "text/markdown": [
       "\n",
       "A data.frame: 6 × 3\n",
       "\n",
       "| <!--/--> | index &lt;int&gt; | nitrate &lt;dbl&gt; | months &lt;fct&gt; |\n",
       "|---|---|---|---|\n",
       "| 1 | 1 | 1.581 | January  |\n",
       "| 2 | 2 | 1.323 | February |\n",
       "| 3 | 3 | 1.140 | March    |\n",
       "| 4 | 4 | 1.245 | April    |\n",
       "| 5 | 5 | 1.072 | May      |\n",
       "| 6 | 6 | 1.483 | June     |\n",
       "\n"
      ],
      "text/plain": [
       "  index nitrate months  \n",
       "1 1     1.581   January \n",
       "2 2     1.323   February\n",
       "3 3     1.140   March   \n",
       "4 4     1.245   April   \n",
       "5 5     1.072   May     \n",
       "6 6     1.483   June    "
      ]
     },
     "metadata": {},
     "output_type": "display_data"
    }
   ],
   "source": [
    "m_levels <- river_data$months[1:12]\n",
    "river_data <- river_data |>\n",
    "    mutate(months = factor(months, levels = m_levels))\n",
    "head(river_data)"
   ]
  },
  {
   "cell_type": "markdown",
   "metadata": {},
   "source": [
    "Переглянемо описову статистику показника нітрати:"
   ]
  },
  {
   "cell_type": "code",
   "execution_count": 23,
   "metadata": {},
   "outputs": [
    {
     "data": {
      "text/plain": [
       "   Min. 1st Qu.  Median    Mean 3rd Qu.    Max. \n",
       " 0.5920  0.9485  1.0680  1.0649  1.1700  1.8970 "
      ]
     },
     "metadata": {},
     "output_type": "display_data"
    }
   ],
   "source": [
    "summary(river_data$nitrate)"
   ]
  },
  {
   "cell_type": "markdown",
   "metadata": {},
   "source": [
    "Як видно, медіана та середнє відрізняються не дуже.\n",
    "\n",
    "Далі перевіримо наявність викидів у даних за допомогою `boxplot`:"
   ]
  },
  {
   "cell_type": "code",
   "execution_count": 24,
   "metadata": {},
   "outputs": [
    {
     "name": "stderr",
     "output_type": "stream",
     "text": [
      "Your code contains a unicode char which cannot be displayed in your\n",
      "current locale and R will silently convert it to an escaped form when the\n",
      "R kernel executes this code. This can lead to subtle errors if you use\n",
      "such chars to do comparisons. For more information, please see\n",
      "https://github.com/IRkernel/repr/wiki/Problems-with-unicode-on-windows"
     ]
    },
    {
     "data": {
      "image/png": "[encoded data removed]",
      "text/plain": [
       "plot without title"
      ]
     },
     "metadata": {
      "image/png": {
       "height": 420,
       "width": 420
      }
     },
     "output_type": "display_data"
    }
   ],
   "source": [
    "boxplot(river_data$nitrate)\n",
    "# Додамо лінії 1 та 3 квантилів\n",
    "abline(h=quantile(river_data$nitrate,0.25),col=\"red\",lty=2)\n",
    "abline(h=quantile(river_data$nitrate,0.75),col=\"red\",lty=2)"
   ]
  },
  {
   "cell_type": "markdown",
   "metadata": {},
   "source": [
    "Також виведемо номери рядків спостереженнь, що є викидами:"
   ]
  },
  {
   "cell_type": "code",
   "execution_count": 25,
   "metadata": {},
   "outputs": [
    {
     "data": {
      "text/html": [
       "<style>\n",
       ".list-inline {list-style: none; margin:0; padding: 0}\n",
       ".list-inline>li {display: inline-block}\n",
       ".list-inline>li:not(:last-child)::after {content: \"\\00b7\"; padding: 0 .5ex}\n",
       "</style>\n",
       "<ol class=list-inline><li>1.581</li><li>1.643</li><li>1.533</li><li>1.517</li><li>1.897</li><li>0.592</li></ol>\n"
      ],
      "text/latex": [
       "\\begin{enumerate*}\n",
       "\\item 1.581\n",
       "\\item 1.643\n",
       "\\item 1.533\n",
       "\\item 1.517\n",
       "\\item 1.897\n",
       "\\item 0.592\n",
       "\\end{enumerate*}\n"
      ],
      "text/markdown": [
       "1. 1.581\n",
       "2. 1.643\n",
       "3. 1.533\n",
       "4. 1.517\n",
       "5. 1.897\n",
       "6. 0.592\n",
       "\n",
       "\n"
      ],
      "text/plain": [
       "[1] 1.581 1.643 1.533 1.517 1.897 0.592"
      ]
     },
     "metadata": {},
     "output_type": "display_data"
    }
   ],
   "source": [
    "boxplot.stats(river_data$nitrate)$out"
   ]
  },
  {
   "cell_type": "code",
   "execution_count": 26,
   "metadata": {},
   "outputs": [
    {
     "data": {
      "image/png": "[encoded data removed]",
      "text/plain": [
       "Plot with title \"Histogram of river_data$nitrate\""
      ]
     },
     "metadata": {
      "image/png": {
       "height": 420,
       "width": 420
      }
     },
     "output_type": "display_data"
    }
   ],
   "source": [
    "hist(river_data$nitrate, xlab = \"Nitrate concentration\", breaks = 40)"
   ]
  },
  {
   "cell_type": "code",
   "execution_count": 27,
   "metadata": {},
   "outputs": [
    {
     "data": {
      "image/png": "[encoded data removed]",
      "text/plain": [
       "plot without title"
      ]
     },
     "metadata": {
      "image/png": {
       "height": 420,
       "width": 420
      }
     },
     "output_type": "display_data"
    }
   ],
   "source": [
    "plot(nitrate ~ index, data = river_data, type = \"o\")"
   ]
  },
  {
   "cell_type": "code",
   "execution_count": 28,
   "metadata": {},
   "outputs": [
    {
     "name": "stderr",
     "output_type": "stream",
     "text": [
      "Your code contains a unicode char which cannot be displayed in your\n",
      "current locale and R will silently convert it to an escaped form when the\n",
      "R kernel executes this code. This can lead to subtle errors if you use\n",
      "such chars to do comparisons. For more information, please see\n",
      "https://github.com/IRkernel/repr/wiki/Problems-with-unicode-on-windows"
     ]
    },
    {
     "data": {
      "text/html": [
       "<table class=\"dataframe\">\n",
       "<caption>A tibble: 12 × 2</caption>\n",
       "<thead>\n",
       "\t<tr><th scope=col>months</th><th scope=col>mean</th></tr>\n",
       "\t<tr><th scope=col>&lt;fct&gt;</th><th scope=col>&lt;dbl&gt;</th></tr>\n",
       "</thead>\n",
       "<tbody>\n",
       "\t<tr><td>January  </td><td>1.2163600</td></tr>\n",
       "\t<tr><td>February </td><td>1.1838400</td></tr>\n",
       "\t<tr><td>March    </td><td>1.1050400</td></tr>\n",
       "\t<tr><td>April    </td><td>1.0166250</td></tr>\n",
       "\t<tr><td>May      </td><td>0.9978333</td></tr>\n",
       "\t<tr><td>June     </td><td>0.9792083</td></tr>\n",
       "\t<tr><td>July     </td><td>0.9810417</td></tr>\n",
       "\t<tr><td>August   </td><td>0.9380833</td></tr>\n",
       "\t<tr><td>September</td><td>0.9885833</td></tr>\n",
       "\t<tr><td>October  </td><td>1.0360000</td></tr>\n",
       "\t<tr><td>November </td><td>1.0962500</td></tr>\n",
       "\t<tr><td>December </td><td>1.2264167</td></tr>\n",
       "</tbody>\n",
       "</table>\n"
      ],
      "text/latex": [
       "A tibble: 12 × 2\n",
       "\\begin{tabular}{ll}\n",
       " months & mean\\\\\n",
       " <fct> & <dbl>\\\\\n",
       "\\hline\n",
       "\t January   & 1.2163600\\\\\n",
       "\t February  & 1.1838400\\\\\n",
       "\t March     & 1.1050400\\\\\n",
       "\t April     & 1.0166250\\\\\n",
       "\t May       & 0.9978333\\\\\n",
       "\t June      & 0.9792083\\\\\n",
       "\t July      & 0.9810417\\\\\n",
       "\t August    & 0.9380833\\\\\n",
       "\t September & 0.9885833\\\\\n",
       "\t October   & 1.0360000\\\\\n",
       "\t November  & 1.0962500\\\\\n",
       "\t December  & 1.2264167\\\\\n",
       "\\end{tabular}\n"
      ],
      "text/markdown": [
       "\n",
       "A tibble: 12 × 2\n",
       "\n",
       "| months &lt;fct&gt; | mean &lt;dbl&gt; |\n",
       "|---|---|\n",
       "| January   | 1.2163600 |\n",
       "| February  | 1.1838400 |\n",
       "| March     | 1.1050400 |\n",
       "| April     | 1.0166250 |\n",
       "| May       | 0.9978333 |\n",
       "| June      | 0.9792083 |\n",
       "| July      | 0.9810417 |\n",
       "| August    | 0.9380833 |\n",
       "| September | 0.9885833 |\n",
       "| October   | 1.0360000 |\n",
       "| November  | 1.0962500 |\n",
       "| December  | 1.2264167 |\n",
       "\n"
      ],
      "text/plain": [
       "   months    mean     \n",
       "1  January   1.2163600\n",
       "2  February  1.1838400\n",
       "3  March     1.1050400\n",
       "4  April     1.0166250\n",
       "5  May       0.9978333\n",
       "6  June      0.9792083\n",
       "7  July      0.9810417\n",
       "8  August    0.9380833\n",
       "9  September 0.9885833\n",
       "10 October   1.0360000\n",
       "11 November  1.0962500\n",
       "12 December  1.2264167"
      ]
     },
     "metadata": {},
     "output_type": "display_data"
    }
   ],
   "source": [
    "# Середньомісячний вміст нітратів у річці\n",
    "river_grouped <- river_data |> group_by(months) |> summarise(mean = mean(nitrate))\n",
    "river_grouped "
   ]
  },
  {
   "cell_type": "code",
   "execution_count": 29,
   "metadata": {},
   "outputs": [
    {
     "data": {
      "image/png": "[encoded data removed]",
      "text/plain": [
       "plot without title"
      ]
     },
     "metadata": {
      "image/png": {
       "height": 420,
       "width": 420
      }
     },
     "output_type": "display_data"
    }
   ],
   "source": [
    "plot(river_grouped$mean, type = \"o\", xlab = \"Month\", ylab = \"Monthly mean\")"
   ]
  },
  {
   "cell_type": "code",
   "execution_count": 30,
   "metadata": {},
   "outputs": [
    {
     "data": {
      "image/png": "[encoded data removed]",
      "text/plain": [
       "plot without title"
      ]
     },
     "metadata": {
      "image/png": {
       "height": 420,
       "width": 420
      }
     },
     "output_type": "display_data"
    }
   ],
   "source": [
    "library(dplyr)\n",
    "boxplot(nitrate ~ months, data = river_data)"
   ]
  },
  {
   "cell_type": "markdown",
   "metadata": {},
   "source": [
    "Між Q1 та Q3 зосереджено 50% усіх спостережень. Персентиль відображає кількість спостережень, що зосереджені з ним включно.\n",
    "Нижче розміщено більше інформації для ознайомлення з інформацією про квантилі.\n",
    "\n",
    "[Quantile. Wikipedia](https://en.wikipedia.org/wiki/Quantile)"
   ]
  },
  {
   "cell_type": "markdown",
   "metadata": {},
   "source": [
    "![](img/da-data-cleaning/quantiles.png)\n",
    "\n",
    "Джерело: https://en.wikipedia.org/wiki/Interquartile_range"
   ]
  },
  {
   "cell_type": "markdown",
   "metadata": {},
   "source": [
    "![](img/da-data-cleaning/quantiles2.png)\n",
    "\n",
    "Джерело: https://makemeanalyst.com/explore-your-data-range-interquartile-range-and-box-plot/"
   ]
  },
  {
   "cell_type": "markdown",
   "metadata": {},
   "source": [
    "Визначивши викиди у даних з ними можна здійснити кілька операцій:\n",
    "\n",
    "1. Заміна на деякі значення (impute)\n",
    "2. Заміна на границі квантилей"
   ]
  },
  {
   "cell_type": "code",
   "execution_count": 31,
   "metadata": {},
   "outputs": [
    {
     "data": {
      "text/html": [
       "<strong>2.5%:</strong> 0.75475"
      ],
      "text/latex": [
       "\\textbf{2.5\\textbackslash{}\\%:} 0.75475"
      ],
      "text/markdown": [
       "**2.5%:** 0.75475"
      ],
      "text/plain": [
       "   2.5% \n",
       "0.75475 "
      ]
     },
     "metadata": {},
     "output_type": "display_data"
    },
    {
     "data": {
      "text/html": [
       "<strong>97.5%:</strong> 1.4095"
      ],
      "text/latex": [
       "\\textbf{97.5\\textbackslash{}\\%:} 1.4095"
      ],
      "text/markdown": [
       "**97.5%:** 1.4095"
      ],
      "text/plain": [
       " 97.5% \n",
       "1.4095 "
      ]
     },
     "metadata": {},
     "output_type": "display_data"
    }
   ],
   "source": [
    "lower_bound <- quantile(river_data$nitrate, 0.025)\n",
    "lower_bound\n",
    "\n",
    "upper_bound <- quantile(river_data$nitrate, 0.975)\n",
    "upper_bound"
   ]
  },
  {
   "cell_type": "code",
   "execution_count": 32,
   "metadata": {},
   "outputs": [
    {
     "data": {
      "text/html": [
       "<style>\n",
       ".list-inline {list-style: none; margin:0; padding: 0}\n",
       ".list-inline>li {display: inline-block}\n",
       ".list-inline>li:not(:last-child)::after {content: \"\\00b7\"; padding: 0 .5ex}\n",
       "</style>\n",
       "<ol class=list-inline><li>1</li><li>6</li><li>36</li><li>53</li><li>104</li><li>119</li><li>121</li><li>156</li><li>159</li><li>167</li><li>199</li><li>200</li><li>269</li><li>270</li><li>281</li><li>282</li></ol>\n"
      ],
      "text/latex": [
       "\\begin{enumerate*}\n",
       "\\item 1\n",
       "\\item 6\n",
       "\\item 36\n",
       "\\item 53\n",
       "\\item 104\n",
       "\\item 119\n",
       "\\item 121\n",
       "\\item 156\n",
       "\\item 159\n",
       "\\item 167\n",
       "\\item 199\n",
       "\\item 200\n",
       "\\item 269\n",
       "\\item 270\n",
       "\\item 281\n",
       "\\item 282\n",
       "\\end{enumerate*}\n"
      ],
      "text/markdown": [
       "1. 1\n",
       "2. 6\n",
       "3. 36\n",
       "4. 53\n",
       "5. 104\n",
       "6. 119\n",
       "7. 121\n",
       "8. 156\n",
       "9. 159\n",
       "10. 167\n",
       "11. 199\n",
       "12. 200\n",
       "13. 269\n",
       "14. 270\n",
       "15. 281\n",
       "16. 282\n",
       "\n",
       "\n"
      ],
      "text/plain": [
       " [1]   1   6  36  53 104 119 121 156 159 167 199 200 269 270 281 282"
      ]
     },
     "metadata": {},
     "output_type": "display_data"
    }
   ],
   "source": [
    "outlier_index <- which(river_data$nitrate < lower_bound | river_data$nitrate > upper_bound)\n",
    "outlier_index"
   ]
  },
  {
   "cell_type": "code",
   "execution_count": 33,
   "metadata": {},
   "outputs": [
    {
     "data": {
      "text/html": [
       "<table class=\"dataframe\">\n",
       "<caption>A data.frame: 16 × 3</caption>\n",
       "<thead>\n",
       "\t<tr><th></th><th scope=col>index</th><th scope=col>nitrate</th><th scope=col>months</th></tr>\n",
       "\t<tr><th></th><th scope=col>&lt;int&gt;</th><th scope=col>&lt;dbl&gt;</th><th scope=col>&lt;fct&gt;</th></tr>\n",
       "</thead>\n",
       "<tbody>\n",
       "\t<tr><th scope=row>1</th><td>  1</td><td>1.581</td><td>January </td></tr>\n",
       "\t<tr><th scope=row>6</th><td>  6</td><td>1.483</td><td>June    </td></tr>\n",
       "\t<tr><th scope=row>36</th><td> 36</td><td>1.643</td><td>December</td></tr>\n",
       "\t<tr><th scope=row>53</th><td> 53</td><td>1.533</td><td>May     </td></tr>\n",
       "\t<tr><th scope=row>104</th><td>104</td><td>0.671</td><td>August  </td></tr>\n",
       "\t<tr><th scope=row>119</th><td>119</td><td>1.517</td><td>November</td></tr>\n",
       "\t<tr><th scope=row>121</th><td>121</td><td>1.414</td><td>January </td></tr>\n",
       "\t<tr><th scope=row>156</th><td>156</td><td>1.897</td><td>December</td></tr>\n",
       "\t<tr><th scope=row>159</th><td>159</td><td>1.414</td><td>March   </td></tr>\n",
       "\t<tr><th scope=row>167</th><td>167</td><td>0.671</td><td>November</td></tr>\n",
       "\t<tr><th scope=row>199</th><td>199</td><td>0.748</td><td>July    </td></tr>\n",
       "\t<tr><th scope=row>200</th><td>200</td><td>0.592</td><td>August  </td></tr>\n",
       "\t<tr><th scope=row>269</th><td>269</td><td>0.700</td><td>May     </td></tr>\n",
       "\t<tr><th scope=row>270</th><td>270</td><td>0.673</td><td>June    </td></tr>\n",
       "\t<tr><th scope=row>281</th><td>281</td><td>0.730</td><td>May     </td></tr>\n",
       "\t<tr><th scope=row>282</th><td>282</td><td>0.693</td><td>June    </td></tr>\n",
       "</tbody>\n",
       "</table>\n"
      ],
      "text/latex": [
       "A data.frame: 16 × 3\n",
       "\\begin{tabular}{r|lll}\n",
       "  & index & nitrate & months\\\\\n",
       "  & <int> & <dbl> & <fct>\\\\\n",
       "\\hline\n",
       "\t1 &   1 & 1.581 & January \\\\\n",
       "\t6 &   6 & 1.483 & June    \\\\\n",
       "\t36 &  36 & 1.643 & December\\\\\n",
       "\t53 &  53 & 1.533 & May     \\\\\n",
       "\t104 & 104 & 0.671 & August  \\\\\n",
       "\t119 & 119 & 1.517 & November\\\\\n",
       "\t121 & 121 & 1.414 & January \\\\\n",
       "\t156 & 156 & 1.897 & December\\\\\n",
       "\t159 & 159 & 1.414 & March   \\\\\n",
       "\t167 & 167 & 0.671 & November\\\\\n",
       "\t199 & 199 & 0.748 & July    \\\\\n",
       "\t200 & 200 & 0.592 & August  \\\\\n",
       "\t269 & 269 & 0.700 & May     \\\\\n",
       "\t270 & 270 & 0.673 & June    \\\\\n",
       "\t281 & 281 & 0.730 & May     \\\\\n",
       "\t282 & 282 & 0.693 & June    \\\\\n",
       "\\end{tabular}\n"
      ],
      "text/markdown": [
       "\n",
       "A data.frame: 16 × 3\n",
       "\n",
       "| <!--/--> | index &lt;int&gt; | nitrate &lt;dbl&gt; | months &lt;fct&gt; |\n",
       "|---|---|---|---|\n",
       "| 1 |   1 | 1.581 | January  |\n",
       "| 6 |   6 | 1.483 | June     |\n",
       "| 36 |  36 | 1.643 | December |\n",
       "| 53 |  53 | 1.533 | May      |\n",
       "| 104 | 104 | 0.671 | August   |\n",
       "| 119 | 119 | 1.517 | November |\n",
       "| 121 | 121 | 1.414 | January  |\n",
       "| 156 | 156 | 1.897 | December |\n",
       "| 159 | 159 | 1.414 | March    |\n",
       "| 167 | 167 | 0.671 | November |\n",
       "| 199 | 199 | 0.748 | July     |\n",
       "| 200 | 200 | 0.592 | August   |\n",
       "| 269 | 269 | 0.700 | May      |\n",
       "| 270 | 270 | 0.673 | June     |\n",
       "| 281 | 281 | 0.730 | May      |\n",
       "| 282 | 282 | 0.693 | June     |\n",
       "\n"
      ],
      "text/plain": [
       "    index nitrate months  \n",
       "1     1   1.581   January \n",
       "6     6   1.483   June    \n",
       "36   36   1.643   December\n",
       "53   53   1.533   May     \n",
       "104 104   0.671   August  \n",
       "119 119   1.517   November\n",
       "121 121   1.414   January \n",
       "156 156   1.897   December\n",
       "159 159   1.414   March   \n",
       "167 167   0.671   November\n",
       "199 199   0.748   July    \n",
       "200 200   0.592   August  \n",
       "269 269   0.700   May     \n",
       "270 270   0.673   June    \n",
       "281 281   0.730   May     \n",
       "282 282   0.693   June    "
      ]
     },
     "metadata": {},
     "output_type": "display_data"
    }
   ],
   "source": [
    "river_data[outlier_index, ]"
   ]
  },
  {
   "cell_type": "markdown",
   "metadata": {},
   "source": [
    "Таким чином, усі значення вище та нище деякого показника можемо замінити на потрібні нам значення, наприклад, середні за поточний місяць."
   ]
  },
  {
   "cell_type": "markdown",
   "metadata": {},
   "source": [
    "Здійснимо заміну значень у наборі даних на основі квантилей:"
   ]
  },
  {
   "cell_type": "code",
   "execution_count": 34,
   "metadata": {},
   "outputs": [
    {
     "data": {
      "text/html": [
       "<style>\n",
       ".dl-inline {width: auto; margin:0; padding: 0}\n",
       ".dl-inline>dt, .dl-inline>dd {float: none; width: auto; display: inline-block}\n",
       ".dl-inline>dt::after {content: \":\\0020\"; padding-right: .5ex}\n",
       ".dl-inline>dt:not(:first-of-type) {padding-left: .5ex}\n",
       "</style><dl class=dl-inline><dt>5%</dt><dd>0.805</dd><dt>95%</dt><dd>1.3325</dd></dl>\n"
      ],
      "text/latex": [
       "\\begin{description*}\n",
       "\\item[5\\textbackslash{}\\%] 0.805\n",
       "\\item[95\\textbackslash{}\\%] 1.3325\n",
       "\\end{description*}\n"
      ],
      "text/markdown": [
       "5%\n",
       ":   0.80595%\n",
       ":   1.3325\n",
       "\n"
      ],
      "text/plain": [
       "    5%    95% \n",
       "0.8050 1.3325 "
      ]
     },
     "metadata": {},
     "output_type": "display_data"
    }
   ],
   "source": [
    "river_data$nitrate_upd <- river_data$nitrate\n",
    "qnt <- quantile(river_data$nitrate_upd, probs=c(.05, .95), na.rm = T)\n",
    "H <- 1.5 * IQR(qnt[1], na.rm = T)\n",
    "river_data$nitrate_upd[river_data$nitrate_upd < (qnt[1] - H)] <- qnt[1]\n",
    "river_data$nitrate_upd[river_data$nitrate_upd > (qnt[2] + H)] <- qnt[2]\n",
    "\n",
    "qnt"
   ]
  },
  {
   "cell_type": "code",
   "execution_count": 35,
   "metadata": {},
   "outputs": [
    {
     "data": {
      "image/png": "[encoded data removed]",
      "text/plain": [
       "plot without title"
      ]
     },
     "metadata": {
      "image/png": {
       "height": 420,
       "width": 420
      }
     },
     "output_type": "display_data"
    }
   ],
   "source": [
    "boxplot(river_data$nitrate_upd)"
   ]
  },
  {
   "cell_type": "code",
   "execution_count": 36,
   "metadata": {},
   "outputs": [
    {
     "data": {
      "image/png": "[encoded data removed]",
      "text/plain": [
       "plot without title"
      ]
     },
     "metadata": {
      "image/png": {
       "height": 420,
       "width": 420
      }
     },
     "output_type": "display_data"
    }
   ],
   "source": [
    "boxplot(nitrate_upd ~ months, data = river_data)"
   ]
  },
  {
   "cell_type": "code",
   "execution_count": 37,
   "metadata": {},
   "outputs": [
    {
     "data": {
      "image/png": "[encoded data removed]",
      "text/plain": [
       "plot without title"
      ]
     },
     "metadata": {
      "image/png": {
       "height": 420,
       "width": 420
      }
     },
     "output_type": "display_data"
    }
   ],
   "source": [
    "plot(nitrate_upd ~ index, data = river_data, type = \"o\")"
   ]
  },
  {
   "cell_type": "markdown",
   "metadata": {},
   "source": [
    "---"
   ]
  },
  {
   "cell_type": "markdown",
   "metadata": {
    "cell_id": "470abd1375b74c2b89de37f62e6ce843",
    "deepnote_cell_height": 70,
    "deepnote_cell_type": "markdown",
    "tags": []
   },
   "source": [
    "## Додаткові прийоми очистки даних <a class=\"anchor\" id=\"id5\"></a>"
   ]
  },
  {
   "cell_type": "markdown",
   "metadata": {
    "cell_id": "71d1897e5d994371a9335c0183908ac4",
    "deepnote_cell_height": 52.390625,
    "deepnote_cell_type": "markdown",
    "deepnote_to_be_reexecuted": false,
    "execution_millis": 62,
    "execution_start": 1650391978491,
    "source_hash": "dff7fae3",
    "tags": []
   },
   "source": [
    "### Видалення дублікатів"
   ]
  },
  {
   "cell_type": "code",
   "execution_count": 114,
   "metadata": {
    "cell_id": "d490e9a9360c42ae987076ffe6c2a38c",
    "deepnote_cell_height": 66,
    "deepnote_cell_type": "code",
    "tags": [],
    "vscode": {
     "languageId": "r"
    }
   },
   "outputs": [
    {
     "data": {
      "text/html": [
       "<table class=\"dataframe\">\n",
       "<caption>A data.frame: 7 × 2</caption>\n",
       "<thead>\n",
       "\t<tr><th scope=col>X</th><th scope=col>Y</th></tr>\n",
       "\t<tr><th scope=col>&lt;dbl&gt;</th><th scope=col>&lt;chr&gt;</th></tr>\n",
       "</thead>\n",
       "<tbody>\n",
       "\t<tr><td>1</td><td>A</td></tr>\n",
       "\t<tr><td>1</td><td>B</td></tr>\n",
       "\t<tr><td>2</td><td>C</td></tr>\n",
       "\t<tr><td>1</td><td>A</td></tr>\n",
       "\t<tr><td>3</td><td>B</td></tr>\n",
       "\t<tr><td>2</td><td>C</td></tr>\n",
       "\t<tr><td>1</td><td>A</td></tr>\n",
       "</tbody>\n",
       "</table>\n"
      ],
      "text/latex": [
       "A data.frame: 7 × 2\n",
       "\\begin{tabular}{ll}\n",
       " X & Y\\\\\n",
       " <dbl> & <chr>\\\\\n",
       "\\hline\n",
       "\t 1 & A\\\\\n",
       "\t 1 & B\\\\\n",
       "\t 2 & C\\\\\n",
       "\t 1 & A\\\\\n",
       "\t 3 & B\\\\\n",
       "\t 2 & C\\\\\n",
       "\t 1 & A\\\\\n",
       "\\end{tabular}\n"
      ],
      "text/markdown": [
       "\n",
       "A data.frame: 7 × 2\n",
       "\n",
       "| X &lt;dbl&gt; | Y &lt;chr&gt; |\n",
       "|---|---|\n",
       "| 1 | A |\n",
       "| 1 | B |\n",
       "| 2 | C |\n",
       "| 1 | A |\n",
       "| 3 | B |\n",
       "| 2 | C |\n",
       "| 1 | A |\n",
       "\n"
      ],
      "text/plain": [
       "  X Y\n",
       "1 1 A\n",
       "2 1 B\n",
       "3 2 C\n",
       "4 1 A\n",
       "5 3 B\n",
       "6 2 C\n",
       "7 1 A"
      ]
     },
     "metadata": {},
     "output_type": "display_data"
    }
   ],
   "source": [
    "df <- data.frame(X = c(1,1,2,1,3,2,1), Y = c(\"A\", \"B\", \"C\", \"A\", \"B\", \"C\", \"A\"))\n",
    "df"
   ]
  },
  {
   "cell_type": "code",
   "execution_count": 115,
   "metadata": {
    "cell_id": "788b0f22678d41c19a949ffa6ce2751d",
    "deepnote_cell_height": 200.5625,
    "deepnote_cell_type": "code",
    "deepnote_to_be_reexecuted": false,
    "execution_millis": 80,
    "execution_start": 1650383560355,
    "source_hash": "45cbf634",
    "tags": [],
    "vscode": {
     "languageId": "r"
    }
   },
   "outputs": [
    {
     "data": {
      "text/html": [
       "<table class=\"dataframe\">\n",
       "<caption>A data.frame: 4 × 2</caption>\n",
       "<thead>\n",
       "\t<tr><th scope=col>X</th><th scope=col>Y</th></tr>\n",
       "\t<tr><th scope=col>&lt;dbl&gt;</th><th scope=col>&lt;chr&gt;</th></tr>\n",
       "</thead>\n",
       "<tbody>\n",
       "\t<tr><td>1</td><td>A</td></tr>\n",
       "\t<tr><td>1</td><td>B</td></tr>\n",
       "\t<tr><td>2</td><td>C</td></tr>\n",
       "\t<tr><td>3</td><td>B</td></tr>\n",
       "</tbody>\n",
       "</table>\n"
      ],
      "text/latex": [
       "A data.frame: 4 × 2\n",
       "\\begin{tabular}{ll}\n",
       " X & Y\\\\\n",
       " <dbl> & <chr>\\\\\n",
       "\\hline\n",
       "\t 1 & A\\\\\n",
       "\t 1 & B\\\\\n",
       "\t 2 & C\\\\\n",
       "\t 3 & B\\\\\n",
       "\\end{tabular}\n"
      ],
      "text/markdown": [
       "\n",
       "A data.frame: 4 × 2\n",
       "\n",
       "| X &lt;dbl&gt; | Y &lt;chr&gt; |\n",
       "|---|---|\n",
       "| 1 | A |\n",
       "| 1 | B |\n",
       "| 2 | C |\n",
       "| 3 | B |\n",
       "\n"
      ],
      "text/plain": [
       "  X Y\n",
       "1 1 A\n",
       "2 1 B\n",
       "3 2 C\n",
       "4 3 B"
      ]
     },
     "metadata": {},
     "output_type": "display_data"
    }
   ],
   "source": [
    "df |> distinct()"
   ]
  },
  {
   "cell_type": "markdown",
   "metadata": {
    "cell_id": "db1cdfce7d1343cc8e4b0d6fb16d2d87",
    "deepnote_cell_type": "text-cell-p",
    "is_collapsed": false,
    "tags": []
   },
   "source": [
    "---"
   ]
  },
  {
   "cell_type": "markdown",
   "metadata": {},
   "source": [
    "## Набори даних"
   ]
  },
  {
   "cell_type": "markdown",
   "metadata": {},
   "source": [
    "1. https://github.com/kleban/r-book-published/tree/main/datasets/untitled.csv\n",
    "2. https://github.com/kleban/r-book-published/tree/main/datasets/badtitled.csv\n",
    "3. https://github.com/kleban/r-book-published/tree/main/datasets/cleaned_titled.csv\n",
    "4. https://github.com/kleban/r-book-published/tree/main/datasets/cleaned_titled2.csv\n",
    "5. https://github.com/kleban/r-book-published/tree/main/datasets/river_eco.csv"
   ]
  },
  {
   "cell_type": "markdown",
   "metadata": {},
   "source": [
    "---"
   ]
  },
  {
   "cell_type": "markdown",
   "metadata": {
    "cell_id": "5972a3c0bc0b48d2a2b269a0b802d255",
    "deepnote_cell_type": "input-slider",
    "deepnote_slider_max_value": 10,
    "deepnote_slider_min_value": 0,
    "deepnote_slider_step": 1,
    "deepnote_variable_name": "input_1",
    "deepnote_variable_value": "8",
    "vscode": {
     "languageId": "r"
    }
   },
   "source": [
    "## Використані та додаткові джерела"
   ]
  },
  {
   "cell_type": "markdown",
   "metadata": {
    "cell_id": "d84d49babc6f4ecc8a3bb60f946c091e",
    "deepnote_cell_height": 94.78125,
    "deepnote_cell_type": "markdown",
    "tags": []
   },
   "source": [
    "1. [KPMG Virtual Internship](https://www.insidesherpa.com/virtual-internships/m7W4GMqeT3bh9Nb2c)\n",
    "2. [An introduction to data cleaning with R / Edwin de Jonge, Mark van der Loo, 2013](https://cran.r-project.org/doc/contrib/de_Jonge+van_der_Loo-Introduction_to_data_cleaning_with_R.pdf)\n",
    "3. [Anomaly Detection in R](datacamp.com/courses/anomaly-detection-in-r)\n",
    "4. [K-nearest Neighbor: The maths behind it, how it works and an example](https://medium.com/analytics-vidhya/k-nearest-neighbor-the-maths-behind-it-how-it-works-and-an-example-f1de1208546c)\n",
    "5. [Quantile. Wikipedia](https://en.wikipedia.org/wiki/Quantile)"
   ]
  }
 ],
 "metadata": {
  "deepnote": {},
  "deepnote_execution_queue": [],
  "deepnote_notebook_id": "98d3d2a2-2921-4f5d-a292-65d4b34cd357",
  "kernelspec": {
   "display_name": "R",
   "language": "R",
   "name": "ir"
  },
  "language_info": {
   "codemirror_mode": "r",
   "file_extension": ".r",
   "mimetype": "text/x-r-source",
   "name": "R",
   "pygments_lexer": "r",
   "version": "4.1.3"
  }
 },
 "nbformat": 4,
 "nbformat_minor": 4
}
