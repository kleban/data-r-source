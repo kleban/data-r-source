{
 "cells": [
  {
   "cell_type": "markdown",
   "metadata": {
    "cell_id": "e5cde04d81ef4f77b739f6cf4b089fba",
    "deepnote_cell_type": "text-cell-h1",
    "is_collapsed": false,
    "tags": []
   },
   "source": [
    "---\n",
    "\n",
    "author: Юрій Клебан\n",
    "\n",
    "---"
   ]
  },
  {
   "cell_type": "markdown",
   "metadata": {
    "cell_id": "34b805351ec8496188f8e4e5129177d2",
    "deepnote_cell_height": 70,
    "deepnote_cell_type": "markdown",
    "tags": []
   },
   "source": [
    "# Заміна пропусків у даних (Missing Value Imputation)"
   ]
  },
  {
   "cell_type": "markdown",
   "metadata": {},
   "source": [
    "Дані реального світу часто мають відсутні значення. Дані можуть мати відсутні значення з ряду причин, таких як спостереження, які не були записані, пошкодження даних, неспівставність форматів даних тощо."
   ]
  },
  {
   "cell_type": "markdown",
   "metadata": {},
   "source": [
    "**Проблема**\n",
    "- [x] Обробка відсутніх даних важлива, оскільки багато алгоритмів машинного навчання або програм для візуалізації та аналізу даних не підтримують дані з відсутніми значеннями.\n",
    "\n",
    "**Рішення**\n",
    "\n",
    "- [x] Видалити рядки з відсутніми даними з набору даних.\n",
    "- [x] Замінити відсутні значення середніми/медіанними значеннями.\n",
    "\n",
    "**Примітка**\n",
    "\n",
    "- [x] Використовуйте бізнес-логіку/знання для окремого підходу до кожної змінної(наприклад, вік особи, що брала кредит не варто замінювати на 0)\n",
    "- [x] У разі малого розміру вибірки або великої частки спостережень із відсутніми значеннями бажано замінювати, а не видаляти"
   ]
  },
  {
   "cell_type": "markdown",
   "metadata": {},
   "source": [
    "Некоректна інформація в даних може бути записана різними способами, наприклад у датасеті ці дані можуть бутьу визначені як `NA` `<NA>` `NULL` `undefinded` `Undefined`. Перед обробкою таких даних усі невизначені записи варто конвертувати у `NA`."
   ]
  },
  {
   "cell_type": "markdown",
   "metadata": {
    "cell_id": "7201f5ae0c63461cb80c44db0218c3e3",
    "deepnote_cell_height": 52.390625,
    "deepnote_cell_type": "markdown",
    "tags": []
   },
   "source": [
    "Щоб переглянути список усіх стовпців, що мають пропуски даних можна скористатися наступним кодом:"
   ]
  },
  {
   "cell_type": "code",
   "execution_count": 3,
   "metadata": {
    "cell_id": "2edff2f1ee974e58963d8a42523f1a1f",
    "deepnote_cell_height": 162.1875,
    "deepnote_cell_type": "code",
    "deepnote_to_be_reexecuted": false,
    "execution_millis": 19,
    "execution_start": 1650392273243,
    "source_hash": "8a50abf2",
    "tags": [],
    "vscode": {
     "languageId": "r"
    }
   },
   "outputs": [
    {
     "name": "stdout",
     "output_type": "stream",
     "text": [
      "Rows: 13\n",
      "Columns: 5\n",
      "$ person_age    \u001b[3m\u001b[90m<int>\u001b[39m\u001b[23m 23, 41, 11, 12, 54, 32, 22, 21, 14, 51, 41, 66, 71\n",
      "$ person_height \u001b[3m\u001b[90m<int>\u001b[39m\u001b[23m 185, 175, 142, NA, 191, 168, NA, 165, NA, 250, 20, NA, 1~\n",
      "$ person_weight \u001b[3m\u001b[90m<dbl>\u001b[39m\u001b[23m NA, 68.3, 55.4, 48.2, NA, 78.0, 54.0, NA, 90.2, NA, 81.0~\n",
      "$ person_gender \u001b[3m\u001b[90m<chr>\u001b[39m\u001b[23m \"male\", \"male\", \"female\", \"male\", \"female\", \"female\", \"m~\n",
      "$ empty         \u001b[3m\u001b[90m<lgl>\u001b[39m\u001b[23m NA, NA, NA, NA, NA, NA, NA, NA, NA, NA, NA, NA, NA\n"
     ]
    }
   ],
   "source": [
    "library(dplyr)\n",
    "data <- data <- read.csv(\"data/cleaned_titled.csv\", na.strings = c(\"<NA>\", \"NA\", \"null\", \"undefined\", \"NULL\", \"\"))\n",
    "glimpse(data)"
   ]
  },
  {
   "cell_type": "markdown",
   "metadata": {
    "tags": []
   },
   "source": [
    "## Перевірка наявності пропусків у даних"
   ]
  },
  {
   "cell_type": "markdown",
   "metadata": {},
   "source": [
    "Пакет **MICE (Multivariate Imputation via Chained Equations)**"
   ]
  },
  {
   "cell_type": "code",
   "execution_count": 7,
   "metadata": {},
   "outputs": [
    {
     "data": {
      "text/html": [
       "<table class=\"dataframe\">\n",
       "<caption>A matrix: 4 × 6 of type dbl</caption>\n",
       "<thead>\n",
       "\t<tr><th></th><th scope=col>person_age</th><th scope=col>person_gender</th><th scope=col>person_height</th><th scope=col>person_weight</th><th scope=col>empty</th><th scope=col></th></tr>\n",
       "</thead>\n",
       "<tbody>\n",
       "\t<tr><th scope=row>4</th><td>1</td><td>1</td><td>1</td><td>1</td><td> 0</td><td> 1</td></tr>\n",
       "\t<tr><th scope=row>5</th><td>1</td><td>1</td><td>1</td><td>0</td><td> 0</td><td> 2</td></tr>\n",
       "\t<tr><th scope=row>4</th><td>1</td><td>1</td><td>0</td><td>1</td><td> 0</td><td> 2</td></tr>\n",
       "\t<tr><th scope=row></th><td>0</td><td>0</td><td>4</td><td>5</td><td>13</td><td>22</td></tr>\n",
       "</tbody>\n",
       "</table>\n"
      ],
      "text/latex": [
       "A matrix: 4 × 6 of type dbl\n",
       "\\begin{tabular}{r|llllll}\n",
       "  & person\\_age & person\\_gender & person\\_height & person\\_weight & empty & \\\\\n",
       "\\hline\n",
       "\t4 & 1 & 1 & 1 & 1 &  0 &  1\\\\\n",
       "\t5 & 1 & 1 & 1 & 0 &  0 &  2\\\\\n",
       "\t4 & 1 & 1 & 0 & 1 &  0 &  2\\\\\n",
       "\t & 0 & 0 & 4 & 5 & 13 & 22\\\\\n",
       "\\end{tabular}\n"
      ],
      "text/markdown": [
       "\n",
       "A matrix: 4 × 6 of type dbl\n",
       "\n",
       "| <!--/--> | person_age | person_gender | person_height | person_weight | empty | <!----> |\n",
       "|---|---|---|---|---|---|---|\n",
       "| 4 | 1 | 1 | 1 | 1 |  0 |  1 |\n",
       "| 5 | 1 | 1 | 1 | 0 |  0 |  2 |\n",
       "| 4 | 1 | 1 | 0 | 1 |  0 |  2 |\n",
       "| <!----> | 0 | 0 | 4 | 5 | 13 | 22 |\n",
       "\n"
      ],
      "text/plain": [
       "  person_age person_gender person_height person_weight empty   \n",
       "4 1          1             1             1              0     1\n",
       "5 1          1             1             0              0     2\n",
       "4 1          1             0             1              0     2\n",
       "  0          0             4             5             13    22"
      ]
     },
     "metadata": {},
     "output_type": "display_data"
    },
    {
     "data": {
      "image/png": "[encoded data removed]",
      "text/plain": [
       "plot without title"
      ]
     },
     "metadata": {
      "image/png": {
       "height": 420,
       "width": 420
      }
     },
     "output_type": "display_data"
    }
   ],
   "source": [
    "library(mice)\n",
    "md.pattern(data)"
   ]
  },
  {
   "cell_type": "code",
   "execution_count": 10,
   "metadata": {},
   "outputs": [],
   "source": [
    "#install.packages(\"VIM\")"
   ]
  },
  {
   "cell_type": "code",
   "execution_count": 13,
   "metadata": {},
   "outputs": [
    {
     "name": "stdout",
     "output_type": "stream",
     "text": [
      "\n",
      " Variables sorted by number of missings: \n",
      "      Variable     Count\n",
      "         empty 1.0000000\n",
      " person_weight 0.3846154\n",
      " person_height 0.3076923\n",
      "    person_age 0.0000000\n",
      " person_gender 0.0000000\n"
     ]
    },
    {
     "data": {
      "text/plain": [
       "\n",
       " Missings in variables:\n",
       "      Variable Count\n",
       " person_height     4\n",
       " person_weight     5\n",
       "         empty    13"
      ]
     },
     "metadata": {},
     "output_type": "display_data"
    },
    {
     "data": {
      "image/png": "[encoded data removed]",
      "text/plain": [
       "plot without title"
      ]
     },
     "metadata": {
      "image/png": {
       "height": 420,
       "width": 420
      }
     },
     "output_type": "display_data"
    }
   ],
   "source": [
    "library(VIM)\n",
    "mice_plot <- aggr(data, \n",
    "                  col=c('navyblue','yellow'),\n",
    "                  numbers=TRUE, \n",
    "                  sortVars=TRUE,\n",
    "                  labels=names(data), \n",
    "                  cex.axis=.7,\n",
    "                  gap=3, \n",
    "                  ylab=c(\"Missing data\",\"Pattern\"))\n",
    "mice_plot"
   ]
  },
  {
   "cell_type": "code",
   "execution_count": 15,
   "metadata": {},
   "outputs": [],
   "source": [
    "#install.packages(\"Amalia\")"
   ]
  },
  {
   "cell_type": "code",
   "execution_count": 17,
   "metadata": {},
   "outputs": [
    {
     "data": {
      "image/png": "[encoded data removed]",
      "text/plain": [
       "Plot with title \"Missingness Map\""
      ]
     },
     "metadata": {
      "image/png": {
       "height": 420,
       "width": 420
      }
     },
     "output_type": "display_data"
    }
   ],
   "source": [
    "library(Amelia)\n",
    "Amelia::missmap(data)"
   ]
  },
  {
   "cell_type": "markdown",
   "metadata": {},
   "source": [
    "Також можна скористатися альтернативними макетами: `missForest`, `mi`."
   ]
  },
  {
   "cell_type": "markdown",
   "metadata": {
    "tags": []
   },
   "source": [
    "---"
   ]
  },
  {
   "cell_type": "markdown",
   "metadata": {
    "cell_id": "355abb4549ad4fd0883245c822525ab9",
    "deepnote_cell_height": 62,
    "deepnote_cell_type": "markdown",
    "tags": []
   },
   "source": [
    "## Видалення пустих рядків та сповпців у `data.frame`"
   ]
  },
  {
   "cell_type": "markdown",
   "metadata": {
    "cell_id": "2867918b04e3488c871000bb1a14b0c5",
    "deepnote_cell_height": 52.390625,
    "deepnote_cell_type": "markdown",
    "tags": []
   },
   "source": [
    "Переглянемо стовпці, що містять пропуски:"
   ]
  },
  {
   "cell_type": "code",
   "execution_count": 18,
   "metadata": {},
   "outputs": [
    {
     "name": "stderr",
     "output_type": "stream",
     "text": [
      "Your code contains a unicode char which cannot be displayed in your\n",
      "current locale and R will silently convert it to an escaped form when the\n",
      "R kernel executes this code. This can lead to subtle errors if you use\n",
      "such chars to do comparisons. For more information, please see\n",
      "https://github.com/IRkernel/repr/wiki/Problems-with-unicode-on-windows"
     ]
    },
    {
     "data": {
      "text/html": [
       "<style>\n",
       ".list-inline {list-style: none; margin:0; padding: 0}\n",
       ".list-inline>li {display: inline-block}\n",
       ".list-inline>li:not(:last-child)::after {content: \"\\00b7\"; padding: 0 .5ex}\n",
       "</style>\n",
       "<ol class=list-inline><li>'person_height'</li><li>'person_weight'</li><li>'empty'</li></ol>\n"
      ],
      "text/latex": [
       "\\begin{enumerate*}\n",
       "\\item 'person\\_height'\n",
       "\\item 'person\\_weight'\n",
       "\\item 'empty'\n",
       "\\end{enumerate*}\n"
      ],
      "text/markdown": [
       "1. 'person_height'\n",
       "2. 'person_weight'\n",
       "3. 'empty'\n",
       "\n",
       "\n"
      ],
      "text/plain": [
       "[1] \"person_height\" \"person_weight\" \"empty\"        "
      ]
     },
     "metadata": {},
     "output_type": "display_data"
    }
   ],
   "source": [
    "# Переглянемо список стовпців з пропусками\n",
    "colnames(data)[apply(data, 2, anyNA)]"
   ]
  },
  {
   "cell_type": "markdown",
   "metadata": {},
   "source": [
    "Функція `complete.cases` повертає логічні значення"
   ]
  },
  {
   "cell_type": "code",
   "execution_count": 19,
   "metadata": {},
   "outputs": [
    {
     "name": "stderr",
     "output_type": "stream",
     "text": [
      "Your code contains a unicode char which cannot be displayed in your\n",
      "current locale and R will silently convert it to an escaped form when the\n",
      "R kernel executes this code. This can lead to subtle errors if you use\n",
      "such chars to do comparisons. For more information, please see\n",
      "https://github.com/IRkernel/repr/wiki/Problems-with-unicode-on-windows"
     ]
    },
    {
     "data": {
      "text/html": [
       "<style>\n",
       ".list-inline {list-style: none; margin:0; padding: 0}\n",
       ".list-inline>li {display: inline-block}\n",
       ".list-inline>li:not(:last-child)::after {content: \"\\00b7\"; padding: 0 .5ex}\n",
       "</style>\n",
       "<ol class=list-inline><li>FALSE</li><li>FALSE</li><li>FALSE</li><li>FALSE</li><li>FALSE</li><li>FALSE</li><li>FALSE</li><li>FALSE</li><li>FALSE</li><li>FALSE</li><li>FALSE</li><li>FALSE</li><li>FALSE</li></ol>\n"
      ],
      "text/latex": [
       "\\begin{enumerate*}\n",
       "\\item FALSE\n",
       "\\item FALSE\n",
       "\\item FALSE\n",
       "\\item FALSE\n",
       "\\item FALSE\n",
       "\\item FALSE\n",
       "\\item FALSE\n",
       "\\item FALSE\n",
       "\\item FALSE\n",
       "\\item FALSE\n",
       "\\item FALSE\n",
       "\\item FALSE\n",
       "\\item FALSE\n",
       "\\end{enumerate*}\n"
      ],
      "text/markdown": [
       "1. FALSE\n",
       "2. FALSE\n",
       "3. FALSE\n",
       "4. FALSE\n",
       "5. FALSE\n",
       "6. FALSE\n",
       "7. FALSE\n",
       "8. FALSE\n",
       "9. FALSE\n",
       "10. FALSE\n",
       "11. FALSE\n",
       "12. FALSE\n",
       "13. FALSE\n",
       "\n",
       "\n"
      ],
      "text/plain": [
       " [1] FALSE FALSE FALSE FALSE FALSE FALSE FALSE FALSE FALSE FALSE FALSE FALSE\n",
       "[13] FALSE"
      ]
     },
     "metadata": {},
     "output_type": "display_data"
    }
   ],
   "source": [
    "complete.cases(data) # бо є стовпець Empty"
   ]
  },
  {
   "cell_type": "markdown",
   "metadata": {},
   "source": [
    "Також видаляти стовпці та рядки з `data.frame` можна за допомогою пакету `janitor`."
   ]
  },
  {
   "cell_type": "code",
   "execution_count": 22,
   "metadata": {},
   "outputs": [
    {
     "name": "stderr",
     "output_type": "stream",
     "text": [
      "Your code contains a unicode char which cannot be displayed in your\n",
      "current locale and R will silently convert it to an escaped form when the\n",
      "R kernel executes this code. This can lead to subtle errors if you use\n",
      "such chars to do comparisons. For more information, please see\n",
      "https://github.com/IRkernel/repr/wiki/Problems-with-unicode-on-windowsNo empty rows to remove.\n",
      "\n",
      "Removing 1 empty columns of 5 columns total (Removed: empty).\n",
      "\n"
     ]
    },
    {
     "data": {
      "text/html": [
       "<table class=\"dataframe\">\n",
       "<caption>A data.frame: 13 × 4</caption>\n",
       "<thead>\n",
       "\t<tr><th></th><th scope=col>person_age</th><th scope=col>person_height</th><th scope=col>person_weight</th><th scope=col>person_gender</th></tr>\n",
       "\t<tr><th></th><th scope=col>&lt;int&gt;</th><th scope=col>&lt;int&gt;</th><th scope=col>&lt;dbl&gt;</th><th scope=col>&lt;chr&gt;</th></tr>\n",
       "</thead>\n",
       "<tbody>\n",
       "\t<tr><th scope=row>1</th><td>23</td><td>185</td><td>  NA</td><td>male  </td></tr>\n",
       "\t<tr><th scope=row>2</th><td>41</td><td>175</td><td>68.3</td><td>male  </td></tr>\n",
       "\t<tr><th scope=row>3</th><td>11</td><td>142</td><td>55.4</td><td>female</td></tr>\n",
       "\t<tr><th scope=row>4</th><td>12</td><td> NA</td><td>48.2</td><td>male  </td></tr>\n",
       "\t<tr><th scope=row>5</th><td>54</td><td>191</td><td>  NA</td><td>female</td></tr>\n",
       "\t<tr><th scope=row>6</th><td>32</td><td>168</td><td>78.0</td><td>female</td></tr>\n",
       "\t<tr><th scope=row>7</th><td>22</td><td> NA</td><td>54.0</td><td>male  </td></tr>\n",
       "\t<tr><th scope=row>8</th><td>21</td><td>165</td><td>  NA</td><td>male  </td></tr>\n",
       "\t<tr><th scope=row>9</th><td>14</td><td> NA</td><td>90.2</td><td>male  </td></tr>\n",
       "\t<tr><th scope=row>10</th><td>51</td><td>250</td><td>  NA</td><td>female</td></tr>\n",
       "\t<tr><th scope=row>11</th><td>41</td><td> 20</td><td>81.0</td><td>female</td></tr>\n",
       "\t<tr><th scope=row>12</th><td>66</td><td> NA</td><td>59.0</td><td>male  </td></tr>\n",
       "\t<tr><th scope=row>13</th><td>71</td><td>171</td><td>  NA</td><td>male  </td></tr>\n",
       "</tbody>\n",
       "</table>\n"
      ],
      "text/latex": [
       "A data.frame: 13 × 4\n",
       "\\begin{tabular}{r|llll}\n",
       "  & person\\_age & person\\_height & person\\_weight & person\\_gender\\\\\n",
       "  & <int> & <int> & <dbl> & <chr>\\\\\n",
       "\\hline\n",
       "\t1 & 23 & 185 &   NA & male  \\\\\n",
       "\t2 & 41 & 175 & 68.3 & male  \\\\\n",
       "\t3 & 11 & 142 & 55.4 & female\\\\\n",
       "\t4 & 12 &  NA & 48.2 & male  \\\\\n",
       "\t5 & 54 & 191 &   NA & female\\\\\n",
       "\t6 & 32 & 168 & 78.0 & female\\\\\n",
       "\t7 & 22 &  NA & 54.0 & male  \\\\\n",
       "\t8 & 21 & 165 &   NA & male  \\\\\n",
       "\t9 & 14 &  NA & 90.2 & male  \\\\\n",
       "\t10 & 51 & 250 &   NA & female\\\\\n",
       "\t11 & 41 &  20 & 81.0 & female\\\\\n",
       "\t12 & 66 &  NA & 59.0 & male  \\\\\n",
       "\t13 & 71 & 171 &   NA & male  \\\\\n",
       "\\end{tabular}\n"
      ],
      "text/markdown": [
       "\n",
       "A data.frame: 13 × 4\n",
       "\n",
       "| <!--/--> | person_age &lt;int&gt; | person_height &lt;int&gt; | person_weight &lt;dbl&gt; | person_gender &lt;chr&gt; |\n",
       "|---|---|---|---|---|\n",
       "| 1 | 23 | 185 |   NA | male   |\n",
       "| 2 | 41 | 175 | 68.3 | male   |\n",
       "| 3 | 11 | 142 | 55.4 | female |\n",
       "| 4 | 12 |  NA | 48.2 | male   |\n",
       "| 5 | 54 | 191 |   NA | female |\n",
       "| 6 | 32 | 168 | 78.0 | female |\n",
       "| 7 | 22 |  NA | 54.0 | male   |\n",
       "| 8 | 21 | 165 |   NA | male   |\n",
       "| 9 | 14 |  NA | 90.2 | male   |\n",
       "| 10 | 51 | 250 |   NA | female |\n",
       "| 11 | 41 |  20 | 81.0 | female |\n",
       "| 12 | 66 |  NA | 59.0 | male   |\n",
       "| 13 | 71 | 171 |   NA | male   |\n",
       "\n"
      ],
      "text/plain": [
       "   person_age person_height person_weight person_gender\n",
       "1  23         185             NA          male         \n",
       "2  41         175           68.3          male         \n",
       "3  11         142           55.4          female       \n",
       "4  12          NA           48.2          male         \n",
       "5  54         191             NA          female       \n",
       "6  32         168           78.0          female       \n",
       "7  22          NA           54.0          male         \n",
       "8  21         165             NA          male         \n",
       "9  14          NA           90.2          male         \n",
       "10 51         250             NA          female       \n",
       "11 41          20           81.0          female       \n",
       "12 66          NA           59.0          male         \n",
       "13 71         171             NA          male         "
      ]
     },
     "metadata": {},
     "output_type": "display_data"
    }
   ],
   "source": [
    "library(janitor)\n",
    "data_cleaned <- remove_empty(data, which = c(\"rows\",\"cols\"), quiet = FALSE)\n",
    "data_cleaned\n",
    "# Видаляємо повністю пусті"
   ]
  },
  {
   "cell_type": "code",
   "execution_count": 23,
   "metadata": {},
   "outputs": [],
   "source": [
    "write.csv(data_cleaned, file = \"data/cleaned_titled2.csv\", row.names = F)"
   ]
  },
  {
   "cell_type": "markdown",
   "metadata": {},
   "source": [
    "Як бачимо, колонка `empty` була видалена."
   ]
  },
  {
   "cell_type": "markdown",
   "metadata": {},
   "source": [
    "Щоб переглянути усі записи, що не мають пропусків скористаємося функцією `na.omit()`:"
   ]
  },
  {
   "cell_type": "code",
   "execution_count": 24,
   "metadata": {
    "cell_id": "e9b832b9949e4b75b374e5c5db2c1da3",
    "deepnote_cell_height": 214.125,
    "deepnote_cell_type": "code",
    "deepnote_output_heights": [
     117.125
    ],
    "deepnote_to_be_reexecuted": false,
    "execution_millis": 43,
    "execution_start": 1650392276674,
    "source_hash": "2a6c7a77",
    "tags": [],
    "vscode": {
     "languageId": "r"
    }
   },
   "outputs": [
    {
     "data": {
      "text/html": [
       "<table class=\"dataframe\">\n",
       "<caption>A data.frame: 4 × 4</caption>\n",
       "<thead>\n",
       "\t<tr><th></th><th scope=col>person_age</th><th scope=col>person_height</th><th scope=col>person_weight</th><th scope=col>person_gender</th></tr>\n",
       "\t<tr><th></th><th scope=col>&lt;int&gt;</th><th scope=col>&lt;int&gt;</th><th scope=col>&lt;dbl&gt;</th><th scope=col>&lt;chr&gt;</th></tr>\n",
       "</thead>\n",
       "<tbody>\n",
       "\t<tr><th scope=row>2</th><td>41</td><td>175</td><td>68.3</td><td>male  </td></tr>\n",
       "\t<tr><th scope=row>3</th><td>11</td><td>142</td><td>55.4</td><td>female</td></tr>\n",
       "\t<tr><th scope=row>6</th><td>32</td><td>168</td><td>78.0</td><td>female</td></tr>\n",
       "\t<tr><th scope=row>11</th><td>41</td><td> 20</td><td>81.0</td><td>female</td></tr>\n",
       "</tbody>\n",
       "</table>\n"
      ],
      "text/latex": [
       "A data.frame: 4 × 4\n",
       "\\begin{tabular}{r|llll}\n",
       "  & person\\_age & person\\_height & person\\_weight & person\\_gender\\\\\n",
       "  & <int> & <int> & <dbl> & <chr>\\\\\n",
       "\\hline\n",
       "\t2 & 41 & 175 & 68.3 & male  \\\\\n",
       "\t3 & 11 & 142 & 55.4 & female\\\\\n",
       "\t6 & 32 & 168 & 78.0 & female\\\\\n",
       "\t11 & 41 &  20 & 81.0 & female\\\\\n",
       "\\end{tabular}\n"
      ],
      "text/markdown": [
       "\n",
       "A data.frame: 4 × 4\n",
       "\n",
       "| <!--/--> | person_age &lt;int&gt; | person_height &lt;int&gt; | person_weight &lt;dbl&gt; | person_gender &lt;chr&gt; |\n",
       "|---|---|---|---|---|\n",
       "| 2 | 41 | 175 | 68.3 | male   |\n",
       "| 3 | 11 | 142 | 55.4 | female |\n",
       "| 6 | 32 | 168 | 78.0 | female |\n",
       "| 11 | 41 |  20 | 81.0 | female |\n",
       "\n"
      ],
      "text/plain": [
       "   person_age person_height person_weight person_gender\n",
       "2  41         175           68.3          male         \n",
       "3  11         142           55.4          female       \n",
       "6  32         168           78.0          female       \n",
       "11 41          20           81.0          female       "
      ]
     },
     "metadata": {},
     "output_type": "display_data"
    }
   ],
   "source": [
    "na.omit(data_cleaned)"
   ]
  },
  {
   "cell_type": "markdown",
   "metadata": {},
   "source": [
    "Таким чином пропущені значення будуть видалені з датасети, якщо інформацію переприсвоїти `data <- na.omit(data)`"
   ]
  },
  {
   "cell_type": "markdown",
   "metadata": {},
   "source": [
    "---"
   ]
  },
  {
   "cell_type": "markdown",
   "metadata": {
    "cell_id": "9777081173ac45a4afed753369574a73",
    "deepnote_cell_height": 62,
    "deepnote_cell_type": "markdown",
    "tags": []
   },
   "source": [
    "## Заміна пропусків у `data.frame`"
   ]
  },
  {
   "cell_type": "markdown",
   "metadata": {},
   "source": [
    "Існує ряд підходів, що використовуються для заміни пропущених значень у датасеті:"
   ]
  },
  {
   "cell_type": "markdown",
   "metadata": {},
   "source": [
    "**Заміна на 0**\n",
    "* Вставте пропущені значення нулем\n",
    "\n",
    "**Заміна на медіану/середнє значення**\n",
    "* Для числових змінних - середнє або медіана, мінімум, максимум\n",
    "* Для категоріальних змінних - мода (бувають випадки, коли моду доцільно використовувати і для числових)\n",
    "\n",
    "**Сегментна заміна**\n",
    "* Визначення сегментів\n",
    "* Обчислення середнього/медіани/моди для сегментів\n",
    "* Замінити значення по сегментах\n",
    "* Наприклад, ми можемо сказати, що кількість опадів майже не змінюється для міст у певній області України, у такому випадку ми можемо для усіх міст з пропусками записати значення середнє по регіону.\n",
    "\n",
    "**Інтелектуальна заміна** (Частковий випадок сегментної заміни)\n",
    "* Заміна значень з використанням методів машинного навчання"
   ]
  },
  {
   "cell_type": "markdown",
   "metadata": {
    "cell_id": "2f609256c7c243829f66c3f3f23b4219",
    "deepnote_cell_height": 54,
    "deepnote_cell_type": "markdown",
    "tags": []
   },
   "source": [
    "### Заміна пропусків на нуль (0)"
   ]
  },
  {
   "cell_type": "code",
   "execution_count": 25,
   "metadata": {
    "cell_id": "1d5ff061612940d393a9da09a412e850",
    "deepnote_cell_height": 66,
    "deepnote_cell_type": "code",
    "tags": [],
    "vscode": {
     "languageId": "r"
    }
   },
   "outputs": [
    {
     "data": {
      "text/html": [
       "<table class=\"dataframe\">\n",
       "<caption>A data.frame: 13 × 4</caption>\n",
       "<thead>\n",
       "\t<tr><th scope=col>person_age</th><th scope=col>person_height</th><th scope=col>person_weight</th><th scope=col>person_gender</th></tr>\n",
       "\t<tr><th scope=col>&lt;int&gt;</th><th scope=col>&lt;int&gt;</th><th scope=col>&lt;dbl&gt;</th><th scope=col>&lt;chr&gt;</th></tr>\n",
       "</thead>\n",
       "<tbody>\n",
       "\t<tr><td>23</td><td>185</td><td>  NA</td><td>male  </td></tr>\n",
       "\t<tr><td>41</td><td>175</td><td>68.3</td><td>male  </td></tr>\n",
       "\t<tr><td>11</td><td>142</td><td>55.4</td><td>female</td></tr>\n",
       "\t<tr><td>12</td><td> NA</td><td>48.2</td><td>male  </td></tr>\n",
       "\t<tr><td>54</td><td>191</td><td>  NA</td><td>female</td></tr>\n",
       "\t<tr><td>32</td><td>168</td><td>78.0</td><td>female</td></tr>\n",
       "\t<tr><td>22</td><td> NA</td><td>54.0</td><td>male  </td></tr>\n",
       "\t<tr><td>21</td><td>165</td><td>  NA</td><td>male  </td></tr>\n",
       "\t<tr><td>14</td><td> NA</td><td>90.2</td><td>male  </td></tr>\n",
       "\t<tr><td>51</td><td>250</td><td>  NA</td><td>female</td></tr>\n",
       "\t<tr><td>41</td><td> 20</td><td>81.0</td><td>female</td></tr>\n",
       "\t<tr><td>66</td><td> NA</td><td>59.0</td><td>male  </td></tr>\n",
       "\t<tr><td>71</td><td>171</td><td>  NA</td><td>male  </td></tr>\n",
       "</tbody>\n",
       "</table>\n"
      ],
      "text/latex": [
       "A data.frame: 13 × 4\n",
       "\\begin{tabular}{llll}\n",
       " person\\_age & person\\_height & person\\_weight & person\\_gender\\\\\n",
       " <int> & <int> & <dbl> & <chr>\\\\\n",
       "\\hline\n",
       "\t 23 & 185 &   NA & male  \\\\\n",
       "\t 41 & 175 & 68.3 & male  \\\\\n",
       "\t 11 & 142 & 55.4 & female\\\\\n",
       "\t 12 &  NA & 48.2 & male  \\\\\n",
       "\t 54 & 191 &   NA & female\\\\\n",
       "\t 32 & 168 & 78.0 & female\\\\\n",
       "\t 22 &  NA & 54.0 & male  \\\\\n",
       "\t 21 & 165 &   NA & male  \\\\\n",
       "\t 14 &  NA & 90.2 & male  \\\\\n",
       "\t 51 & 250 &   NA & female\\\\\n",
       "\t 41 &  20 & 81.0 & female\\\\\n",
       "\t 66 &  NA & 59.0 & male  \\\\\n",
       "\t 71 & 171 &   NA & male  \\\\\n",
       "\\end{tabular}\n"
      ],
      "text/markdown": [
       "\n",
       "A data.frame: 13 × 4\n",
       "\n",
       "| person_age &lt;int&gt; | person_height &lt;int&gt; | person_weight &lt;dbl&gt; | person_gender &lt;chr&gt; |\n",
       "|---|---|---|---|\n",
       "| 23 | 185 |   NA | male   |\n",
       "| 41 | 175 | 68.3 | male   |\n",
       "| 11 | 142 | 55.4 | female |\n",
       "| 12 |  NA | 48.2 | male   |\n",
       "| 54 | 191 |   NA | female |\n",
       "| 32 | 168 | 78.0 | female |\n",
       "| 22 |  NA | 54.0 | male   |\n",
       "| 21 | 165 |   NA | male   |\n",
       "| 14 |  NA | 90.2 | male   |\n",
       "| 51 | 250 |   NA | female |\n",
       "| 41 |  20 | 81.0 | female |\n",
       "| 66 |  NA | 59.0 | male   |\n",
       "| 71 | 171 |   NA | male   |\n",
       "\n"
      ],
      "text/plain": [
       "   person_age person_height person_weight person_gender\n",
       "1  23         185             NA          male         \n",
       "2  41         175           68.3          male         \n",
       "3  11         142           55.4          female       \n",
       "4  12          NA           48.2          male         \n",
       "5  54         191             NA          female       \n",
       "6  32         168           78.0          female       \n",
       "7  22          NA           54.0          male         \n",
       "8  21         165             NA          male         \n",
       "9  14          NA           90.2          male         \n",
       "10 51         250             NA          female       \n",
       "11 41          20           81.0          female       \n",
       "12 66          NA           59.0          male         \n",
       "13 71         171             NA          male         "
      ]
     },
     "metadata": {},
     "output_type": "display_data"
    }
   ],
   "source": [
    "data <- read.csv(\"data/cleaned_titled2.csv\")\n",
    "data"
   ]
  },
  {
   "cell_type": "markdown",
   "metadata": {},
   "source": [
    "Замінимо інформацію про вагу з пропусками на `0`:"
   ]
  },
  {
   "cell_type": "code",
   "execution_count": 26,
   "metadata": {
    "cell_id": "959cf61d7db74bc1a7ce5f3ec778368f",
    "deepnote_cell_height": 66,
    "deepnote_cell_type": "code",
    "tags": [],
    "vscode": {
     "languageId": "r"
    }
   },
   "outputs": [
    {
     "data": {
      "text/html": [
       "<table class=\"dataframe\">\n",
       "<caption>A data.frame: 13 × 4</caption>\n",
       "<thead>\n",
       "\t<tr><th scope=col>person_age</th><th scope=col>person_height</th><th scope=col>person_weight</th><th scope=col>person_gender</th></tr>\n",
       "\t<tr><th scope=col>&lt;int&gt;</th><th scope=col>&lt;int&gt;</th><th scope=col>&lt;dbl&gt;</th><th scope=col>&lt;chr&gt;</th></tr>\n",
       "</thead>\n",
       "<tbody>\n",
       "\t<tr><td>23</td><td>185</td><td> 0.0</td><td>male  </td></tr>\n",
       "\t<tr><td>41</td><td>175</td><td>68.3</td><td>male  </td></tr>\n",
       "\t<tr><td>11</td><td>142</td><td>55.4</td><td>female</td></tr>\n",
       "\t<tr><td>12</td><td> NA</td><td>48.2</td><td>male  </td></tr>\n",
       "\t<tr><td>54</td><td>191</td><td> 0.0</td><td>female</td></tr>\n",
       "\t<tr><td>32</td><td>168</td><td>78.0</td><td>female</td></tr>\n",
       "\t<tr><td>22</td><td> NA</td><td>54.0</td><td>male  </td></tr>\n",
       "\t<tr><td>21</td><td>165</td><td> 0.0</td><td>male  </td></tr>\n",
       "\t<tr><td>14</td><td> NA</td><td>90.2</td><td>male  </td></tr>\n",
       "\t<tr><td>51</td><td>250</td><td> 0.0</td><td>female</td></tr>\n",
       "\t<tr><td>41</td><td> 20</td><td>81.0</td><td>female</td></tr>\n",
       "\t<tr><td>66</td><td> NA</td><td>59.0</td><td>male  </td></tr>\n",
       "\t<tr><td>71</td><td>171</td><td> 0.0</td><td>male  </td></tr>\n",
       "</tbody>\n",
       "</table>\n"
      ],
      "text/latex": [
       "A data.frame: 13 × 4\n",
       "\\begin{tabular}{llll}\n",
       " person\\_age & person\\_height & person\\_weight & person\\_gender\\\\\n",
       " <int> & <int> & <dbl> & <chr>\\\\\n",
       "\\hline\n",
       "\t 23 & 185 &  0.0 & male  \\\\\n",
       "\t 41 & 175 & 68.3 & male  \\\\\n",
       "\t 11 & 142 & 55.4 & female\\\\\n",
       "\t 12 &  NA & 48.2 & male  \\\\\n",
       "\t 54 & 191 &  0.0 & female\\\\\n",
       "\t 32 & 168 & 78.0 & female\\\\\n",
       "\t 22 &  NA & 54.0 & male  \\\\\n",
       "\t 21 & 165 &  0.0 & male  \\\\\n",
       "\t 14 &  NA & 90.2 & male  \\\\\n",
       "\t 51 & 250 &  0.0 & female\\\\\n",
       "\t 41 &  20 & 81.0 & female\\\\\n",
       "\t 66 &  NA & 59.0 & male  \\\\\n",
       "\t 71 & 171 &  0.0 & male  \\\\\n",
       "\\end{tabular}\n"
      ],
      "text/markdown": [
       "\n",
       "A data.frame: 13 × 4\n",
       "\n",
       "| person_age &lt;int&gt; | person_height &lt;int&gt; | person_weight &lt;dbl&gt; | person_gender &lt;chr&gt; |\n",
       "|---|---|---|---|\n",
       "| 23 | 185 |  0.0 | male   |\n",
       "| 41 | 175 | 68.3 | male   |\n",
       "| 11 | 142 | 55.4 | female |\n",
       "| 12 |  NA | 48.2 | male   |\n",
       "| 54 | 191 |  0.0 | female |\n",
       "| 32 | 168 | 78.0 | female |\n",
       "| 22 |  NA | 54.0 | male   |\n",
       "| 21 | 165 |  0.0 | male   |\n",
       "| 14 |  NA | 90.2 | male   |\n",
       "| 51 | 250 |  0.0 | female |\n",
       "| 41 |  20 | 81.0 | female |\n",
       "| 66 |  NA | 59.0 | male   |\n",
       "| 71 | 171 |  0.0 | male   |\n",
       "\n"
      ],
      "text/plain": [
       "   person_age person_height person_weight person_gender\n",
       "1  23         185            0.0          male         \n",
       "2  41         175           68.3          male         \n",
       "3  11         142           55.4          female       \n",
       "4  12          NA           48.2          male         \n",
       "5  54         191            0.0          female       \n",
       "6  32         168           78.0          female       \n",
       "7  22          NA           54.0          male         \n",
       "8  21         165            0.0          male         \n",
       "9  14          NA           90.2          male         \n",
       "10 51         250            0.0          female       \n",
       "11 41          20           81.0          female       \n",
       "12 66          NA           59.0          male         \n",
       "13 71         171            0.0          male         "
      ]
     },
     "metadata": {},
     "output_type": "display_data"
    }
   ],
   "source": [
    "data_w0 <- data |> \n",
    "    mutate(person_weight = ifelse(is.na(person_weight), 0, person_weight))\n",
    "data_w0"
   ]
  },
  {
   "cell_type": "code",
   "execution_count": 27,
   "metadata": {},
   "outputs": [
    {
     "name": "stderr",
     "output_type": "stream",
     "text": [
      "Your code contains a unicode char which cannot be displayed in your\n",
      "current locale and R will silently convert it to an escaped form when the\n",
      "R kernel executes this code. This can lead to subtle errors if you use\n",
      "such chars to do comparisons. For more information, please see\n",
      "https://github.com/IRkernel/repr/wiki/Problems-with-unicode-on-windows"
     ]
    },
    {
     "data": {
      "text/html": [
       "<table class=\"dataframe\">\n",
       "<caption>A data.frame: 13 × 4</caption>\n",
       "<thead>\n",
       "\t<tr><th scope=col>person_age</th><th scope=col>person_height</th><th scope=col>person_weight</th><th scope=col>person_gender</th></tr>\n",
       "\t<tr><th scope=col>&lt;int&gt;</th><th scope=col>&lt;int&gt;</th><th scope=col>&lt;dbl&gt;</th><th scope=col>&lt;chr&gt;</th></tr>\n",
       "</thead>\n",
       "<tbody>\n",
       "\t<tr><td>23</td><td>185</td><td> 0.0</td><td>male  </td></tr>\n",
       "\t<tr><td>41</td><td>175</td><td>68.3</td><td>male  </td></tr>\n",
       "\t<tr><td>11</td><td>142</td><td>55.4</td><td>female</td></tr>\n",
       "\t<tr><td>12</td><td> NA</td><td>48.2</td><td>male  </td></tr>\n",
       "\t<tr><td>54</td><td>191</td><td> 0.0</td><td>female</td></tr>\n",
       "\t<tr><td>32</td><td>168</td><td>78.0</td><td>female</td></tr>\n",
       "\t<tr><td>22</td><td> NA</td><td>54.0</td><td>male  </td></tr>\n",
       "\t<tr><td>21</td><td>165</td><td> 0.0</td><td>male  </td></tr>\n",
       "\t<tr><td>14</td><td> NA</td><td>90.2</td><td>male  </td></tr>\n",
       "\t<tr><td>51</td><td>250</td><td> 0.0</td><td>female</td></tr>\n",
       "\t<tr><td>41</td><td> 20</td><td>81.0</td><td>female</td></tr>\n",
       "\t<tr><td>66</td><td> NA</td><td>59.0</td><td>male  </td></tr>\n",
       "\t<tr><td>71</td><td>171</td><td> 0.0</td><td>male  </td></tr>\n",
       "</tbody>\n",
       "</table>\n"
      ],
      "text/latex": [
       "A data.frame: 13 × 4\n",
       "\\begin{tabular}{llll}\n",
       " person\\_age & person\\_height & person\\_weight & person\\_gender\\\\\n",
       " <int> & <int> & <dbl> & <chr>\\\\\n",
       "\\hline\n",
       "\t 23 & 185 &  0.0 & male  \\\\\n",
       "\t 41 & 175 & 68.3 & male  \\\\\n",
       "\t 11 & 142 & 55.4 & female\\\\\n",
       "\t 12 &  NA & 48.2 & male  \\\\\n",
       "\t 54 & 191 &  0.0 & female\\\\\n",
       "\t 32 & 168 & 78.0 & female\\\\\n",
       "\t 22 &  NA & 54.0 & male  \\\\\n",
       "\t 21 & 165 &  0.0 & male  \\\\\n",
       "\t 14 &  NA & 90.2 & male  \\\\\n",
       "\t 51 & 250 &  0.0 & female\\\\\n",
       "\t 41 &  20 & 81.0 & female\\\\\n",
       "\t 66 &  NA & 59.0 & male  \\\\\n",
       "\t 71 & 171 &  0.0 & male  \\\\\n",
       "\\end{tabular}\n"
      ],
      "text/markdown": [
       "\n",
       "A data.frame: 13 × 4\n",
       "\n",
       "| person_age &lt;int&gt; | person_height &lt;int&gt; | person_weight &lt;dbl&gt; | person_gender &lt;chr&gt; |\n",
       "|---|---|---|---|\n",
       "| 23 | 185 |  0.0 | male   |\n",
       "| 41 | 175 | 68.3 | male   |\n",
       "| 11 | 142 | 55.4 | female |\n",
       "| 12 |  NA | 48.2 | male   |\n",
       "| 54 | 191 |  0.0 | female |\n",
       "| 32 | 168 | 78.0 | female |\n",
       "| 22 |  NA | 54.0 | male   |\n",
       "| 21 | 165 |  0.0 | male   |\n",
       "| 14 |  NA | 90.2 | male   |\n",
       "| 51 | 250 |  0.0 | female |\n",
       "| 41 |  20 | 81.0 | female |\n",
       "| 66 |  NA | 59.0 | male   |\n",
       "| 71 | 171 |  0.0 | male   |\n",
       "\n"
      ],
      "text/plain": [
       "   person_age person_height person_weight person_gender\n",
       "1  23         185            0.0          male         \n",
       "2  41         175           68.3          male         \n",
       "3  11         142           55.4          female       \n",
       "4  12          NA           48.2          male         \n",
       "5  54         191            0.0          female       \n",
       "6  32         168           78.0          female       \n",
       "7  22          NA           54.0          male         \n",
       "8  21         165            0.0          male         \n",
       "9  14          NA           90.2          male         \n",
       "10 51         250            0.0          female       \n",
       "11 41          20           81.0          female       \n",
       "12 66          NA           59.0          male         \n",
       "13 71         171            0.0          male         "
      ]
     },
     "metadata": {},
     "output_type": "display_data"
    }
   ],
   "source": [
    "# Без dplyr\n",
    "data_w0 <- data\n",
    "data_w0[is.na(data_w0$person_weight), \"person_weight\"] <- 0\n",
    "data_w0"
   ]
  },
  {
   "cell_type": "markdown",
   "metadata": {},
   "source": [
    "Зробити заміну для усіх числових стовпців:"
   ]
  },
  {
   "cell_type": "code",
   "execution_count": 28,
   "metadata": {},
   "outputs": [
    {
     "data": {
      "text/html": [
       "<table class=\"dataframe\">\n",
       "<caption>A data.frame: 13 × 4</caption>\n",
       "<thead>\n",
       "\t<tr><th scope=col>person_age</th><th scope=col>person_height</th><th scope=col>person_weight</th><th scope=col>person_gender</th></tr>\n",
       "\t<tr><th scope=col>&lt;int&gt;</th><th scope=col>&lt;int&gt;</th><th scope=col>&lt;dbl&gt;</th><th scope=col>&lt;chr&gt;</th></tr>\n",
       "</thead>\n",
       "<tbody>\n",
       "\t<tr><td>23</td><td>185</td><td> 0.0</td><td>male  </td></tr>\n",
       "\t<tr><td>41</td><td>175</td><td>68.3</td><td>male  </td></tr>\n",
       "\t<tr><td>11</td><td>142</td><td>55.4</td><td>female</td></tr>\n",
       "\t<tr><td>12</td><td>  0</td><td>48.2</td><td>male  </td></tr>\n",
       "\t<tr><td>54</td><td>191</td><td> 0.0</td><td>female</td></tr>\n",
       "\t<tr><td>32</td><td>168</td><td>78.0</td><td>female</td></tr>\n",
       "\t<tr><td>22</td><td>  0</td><td>54.0</td><td>male  </td></tr>\n",
       "\t<tr><td>21</td><td>165</td><td> 0.0</td><td>male  </td></tr>\n",
       "\t<tr><td>14</td><td>  0</td><td>90.2</td><td>male  </td></tr>\n",
       "\t<tr><td>51</td><td>250</td><td> 0.0</td><td>female</td></tr>\n",
       "\t<tr><td>41</td><td> 20</td><td>81.0</td><td>female</td></tr>\n",
       "\t<tr><td>66</td><td>  0</td><td>59.0</td><td>male  </td></tr>\n",
       "\t<tr><td>71</td><td>171</td><td> 0.0</td><td>male  </td></tr>\n",
       "</tbody>\n",
       "</table>\n"
      ],
      "text/latex": [
       "A data.frame: 13 × 4\n",
       "\\begin{tabular}{llll}\n",
       " person\\_age & person\\_height & person\\_weight & person\\_gender\\\\\n",
       " <int> & <int> & <dbl> & <chr>\\\\\n",
       "\\hline\n",
       "\t 23 & 185 &  0.0 & male  \\\\\n",
       "\t 41 & 175 & 68.3 & male  \\\\\n",
       "\t 11 & 142 & 55.4 & female\\\\\n",
       "\t 12 &   0 & 48.2 & male  \\\\\n",
       "\t 54 & 191 &  0.0 & female\\\\\n",
       "\t 32 & 168 & 78.0 & female\\\\\n",
       "\t 22 &   0 & 54.0 & male  \\\\\n",
       "\t 21 & 165 &  0.0 & male  \\\\\n",
       "\t 14 &   0 & 90.2 & male  \\\\\n",
       "\t 51 & 250 &  0.0 & female\\\\\n",
       "\t 41 &  20 & 81.0 & female\\\\\n",
       "\t 66 &   0 & 59.0 & male  \\\\\n",
       "\t 71 & 171 &  0.0 & male  \\\\\n",
       "\\end{tabular}\n"
      ],
      "text/markdown": [
       "\n",
       "A data.frame: 13 × 4\n",
       "\n",
       "| person_age &lt;int&gt; | person_height &lt;int&gt; | person_weight &lt;dbl&gt; | person_gender &lt;chr&gt; |\n",
       "|---|---|---|---|\n",
       "| 23 | 185 |  0.0 | male   |\n",
       "| 41 | 175 | 68.3 | male   |\n",
       "| 11 | 142 | 55.4 | female |\n",
       "| 12 |   0 | 48.2 | male   |\n",
       "| 54 | 191 |  0.0 | female |\n",
       "| 32 | 168 | 78.0 | female |\n",
       "| 22 |   0 | 54.0 | male   |\n",
       "| 21 | 165 |  0.0 | male   |\n",
       "| 14 |   0 | 90.2 | male   |\n",
       "| 51 | 250 |  0.0 | female |\n",
       "| 41 |  20 | 81.0 | female |\n",
       "| 66 |   0 | 59.0 | male   |\n",
       "| 71 | 171 |  0.0 | male   |\n",
       "\n"
      ],
      "text/plain": [
       "   person_age person_height person_weight person_gender\n",
       "1  23         185            0.0          male         \n",
       "2  41         175           68.3          male         \n",
       "3  11         142           55.4          female       \n",
       "4  12           0           48.2          male         \n",
       "5  54         191            0.0          female       \n",
       "6  32         168           78.0          female       \n",
       "7  22           0           54.0          male         \n",
       "8  21         165            0.0          male         \n",
       "9  14           0           90.2          male         \n",
       "10 51         250            0.0          female       \n",
       "11 41          20           81.0          female       \n",
       "12 66           0           59.0          male         \n",
       "13 71         171            0.0          male         "
      ]
     },
     "metadata": {},
     "output_type": "display_data"
    }
   ],
   "source": [
    "library(tidyr) # for replace_na()\n",
    "data_all <- data |> \n",
    "    mutate_if(is.numeric , replace_na, replace = 0)\n",
    "data_all"
   ]
  },
  {
   "cell_type": "markdown",
   "metadata": {},
   "source": [
    "---"
   ]
  },
  {
   "cell_type": "markdown",
   "metadata": {},
   "source": [
    "## Числова заміна пропусків"
   ]
  },
  {
   "cell_type": "markdown",
   "metadata": {},
   "source": [
    "Заміна на константи або обчислені значення є стандарним підходом. Так, наприклад, заміна певного значення на середнє матиме вигляд:"
   ]
  },
  {
   "cell_type": "code",
   "execution_count": 29,
   "metadata": {},
   "outputs": [
    {
     "data": {
      "text/html": [
       "<table class=\"dataframe\">\n",
       "<caption>A data.frame: 13 × 4</caption>\n",
       "<thead>\n",
       "\t<tr><th scope=col>person_age</th><th scope=col>person_height</th><th scope=col>person_weight</th><th scope=col>person_gender</th></tr>\n",
       "\t<tr><th scope=col>&lt;int&gt;</th><th scope=col>&lt;int&gt;</th><th scope=col>&lt;dbl&gt;</th><th scope=col>&lt;chr&gt;</th></tr>\n",
       "</thead>\n",
       "<tbody>\n",
       "\t<tr><td>23</td><td>185</td><td>66.7625</td><td>male  </td></tr>\n",
       "\t<tr><td>41</td><td>175</td><td>68.3000</td><td>male  </td></tr>\n",
       "\t<tr><td>11</td><td>142</td><td>55.4000</td><td>female</td></tr>\n",
       "\t<tr><td>12</td><td> NA</td><td>48.2000</td><td>male  </td></tr>\n",
       "\t<tr><td>54</td><td>191</td><td>66.7625</td><td>female</td></tr>\n",
       "\t<tr><td>32</td><td>168</td><td>78.0000</td><td>female</td></tr>\n",
       "\t<tr><td>22</td><td> NA</td><td>54.0000</td><td>male  </td></tr>\n",
       "\t<tr><td>21</td><td>165</td><td>66.7625</td><td>male  </td></tr>\n",
       "\t<tr><td>14</td><td> NA</td><td>90.2000</td><td>male  </td></tr>\n",
       "\t<tr><td>51</td><td>250</td><td>66.7625</td><td>female</td></tr>\n",
       "\t<tr><td>41</td><td> 20</td><td>81.0000</td><td>female</td></tr>\n",
       "\t<tr><td>66</td><td> NA</td><td>59.0000</td><td>male  </td></tr>\n",
       "\t<tr><td>71</td><td>171</td><td>66.7625</td><td>male  </td></tr>\n",
       "</tbody>\n",
       "</table>\n"
      ],
      "text/latex": [
       "A data.frame: 13 × 4\n",
       "\\begin{tabular}{llll}\n",
       " person\\_age & person\\_height & person\\_weight & person\\_gender\\\\\n",
       " <int> & <int> & <dbl> & <chr>\\\\\n",
       "\\hline\n",
       "\t 23 & 185 & 66.7625 & male  \\\\\n",
       "\t 41 & 175 & 68.3000 & male  \\\\\n",
       "\t 11 & 142 & 55.4000 & female\\\\\n",
       "\t 12 &  NA & 48.2000 & male  \\\\\n",
       "\t 54 & 191 & 66.7625 & female\\\\\n",
       "\t 32 & 168 & 78.0000 & female\\\\\n",
       "\t 22 &  NA & 54.0000 & male  \\\\\n",
       "\t 21 & 165 & 66.7625 & male  \\\\\n",
       "\t 14 &  NA & 90.2000 & male  \\\\\n",
       "\t 51 & 250 & 66.7625 & female\\\\\n",
       "\t 41 &  20 & 81.0000 & female\\\\\n",
       "\t 66 &  NA & 59.0000 & male  \\\\\n",
       "\t 71 & 171 & 66.7625 & male  \\\\\n",
       "\\end{tabular}\n"
      ],
      "text/markdown": [
       "\n",
       "A data.frame: 13 × 4\n",
       "\n",
       "| person_age &lt;int&gt; | person_height &lt;int&gt; | person_weight &lt;dbl&gt; | person_gender &lt;chr&gt; |\n",
       "|---|---|---|---|\n",
       "| 23 | 185 | 66.7625 | male   |\n",
       "| 41 | 175 | 68.3000 | male   |\n",
       "| 11 | 142 | 55.4000 | female |\n",
       "| 12 |  NA | 48.2000 | male   |\n",
       "| 54 | 191 | 66.7625 | female |\n",
       "| 32 | 168 | 78.0000 | female |\n",
       "| 22 |  NA | 54.0000 | male   |\n",
       "| 21 | 165 | 66.7625 | male   |\n",
       "| 14 |  NA | 90.2000 | male   |\n",
       "| 51 | 250 | 66.7625 | female |\n",
       "| 41 |  20 | 81.0000 | female |\n",
       "| 66 |  NA | 59.0000 | male   |\n",
       "| 71 | 171 | 66.7625 | male   |\n",
       "\n"
      ],
      "text/plain": [
       "   person_age person_height person_weight person_gender\n",
       "1  23         185           66.7625       male         \n",
       "2  41         175           68.3000       male         \n",
       "3  11         142           55.4000       female       \n",
       "4  12          NA           48.2000       male         \n",
       "5  54         191           66.7625       female       \n",
       "6  32         168           78.0000       female       \n",
       "7  22          NA           54.0000       male         \n",
       "8  21         165           66.7625       male         \n",
       "9  14          NA           90.2000       male         \n",
       "10 51         250           66.7625       female       \n",
       "11 41          20           81.0000       female       \n",
       "12 66          NA           59.0000       male         \n",
       "13 71         171           66.7625       male         "
      ]
     },
     "metadata": {},
     "output_type": "display_data"
    }
   ],
   "source": [
    "data_m <- data |> \n",
    "    mutate(person_weight = ifelse(is.na(person_weight), mean(data$person_weight, na.rm = T), person_weight))\n",
    "data_m"
   ]
  },
  {
   "cell_type": "markdown",
   "metadata": {},
   "source": [
    "Заміна на min, max, median не відрізняється."
   ]
  },
  {
   "cell_type": "markdown",
   "metadata": {},
   "source": [
    "Якщо виникає потреба замінити, наприклад, усі значення на медіану у всіх стовпцях за один прохід можна скористатися функцією `mutate_if()`:"
   ]
  },
  {
   "cell_type": "code",
   "execution_count": 30,
   "metadata": {},
   "outputs": [
    {
     "data": {
      "text/html": [
       "<table class=\"dataframe\">\n",
       "<caption>A data.frame: 13 × 4</caption>\n",
       "<thead>\n",
       "\t<tr><th scope=col>person_age</th><th scope=col>person_height</th><th scope=col>person_weight</th><th scope=col>person_gender</th></tr>\n",
       "\t<tr><th scope=col>&lt;int&gt;</th><th scope=col>&lt;int&gt;</th><th scope=col>&lt;dbl&gt;</th><th scope=col>&lt;chr&gt;</th></tr>\n",
       "</thead>\n",
       "<tbody>\n",
       "\t<tr><td>23</td><td>185</td><td>63.65</td><td>male  </td></tr>\n",
       "\t<tr><td>41</td><td>175</td><td>68.30</td><td>male  </td></tr>\n",
       "\t<tr><td>11</td><td>142</td><td>55.40</td><td>female</td></tr>\n",
       "\t<tr><td>12</td><td>171</td><td>48.20</td><td>male  </td></tr>\n",
       "\t<tr><td>54</td><td>191</td><td>63.65</td><td>female</td></tr>\n",
       "\t<tr><td>32</td><td>168</td><td>78.00</td><td>female</td></tr>\n",
       "\t<tr><td>22</td><td>171</td><td>54.00</td><td>male  </td></tr>\n",
       "\t<tr><td>21</td><td>165</td><td>63.65</td><td>male  </td></tr>\n",
       "\t<tr><td>14</td><td>171</td><td>90.20</td><td>male  </td></tr>\n",
       "\t<tr><td>51</td><td>250</td><td>63.65</td><td>female</td></tr>\n",
       "\t<tr><td>41</td><td> 20</td><td>81.00</td><td>female</td></tr>\n",
       "\t<tr><td>66</td><td>171</td><td>59.00</td><td>male  </td></tr>\n",
       "\t<tr><td>71</td><td>171</td><td>63.65</td><td>male  </td></tr>\n",
       "</tbody>\n",
       "</table>\n"
      ],
      "text/latex": [
       "A data.frame: 13 × 4\n",
       "\\begin{tabular}{llll}\n",
       " person\\_age & person\\_height & person\\_weight & person\\_gender\\\\\n",
       " <int> & <int> & <dbl> & <chr>\\\\\n",
       "\\hline\n",
       "\t 23 & 185 & 63.65 & male  \\\\\n",
       "\t 41 & 175 & 68.30 & male  \\\\\n",
       "\t 11 & 142 & 55.40 & female\\\\\n",
       "\t 12 & 171 & 48.20 & male  \\\\\n",
       "\t 54 & 191 & 63.65 & female\\\\\n",
       "\t 32 & 168 & 78.00 & female\\\\\n",
       "\t 22 & 171 & 54.00 & male  \\\\\n",
       "\t 21 & 165 & 63.65 & male  \\\\\n",
       "\t 14 & 171 & 90.20 & male  \\\\\n",
       "\t 51 & 250 & 63.65 & female\\\\\n",
       "\t 41 &  20 & 81.00 & female\\\\\n",
       "\t 66 & 171 & 59.00 & male  \\\\\n",
       "\t 71 & 171 & 63.65 & male  \\\\\n",
       "\\end{tabular}\n"
      ],
      "text/markdown": [
       "\n",
       "A data.frame: 13 × 4\n",
       "\n",
       "| person_age &lt;int&gt; | person_height &lt;int&gt; | person_weight &lt;dbl&gt; | person_gender &lt;chr&gt; |\n",
       "|---|---|---|---|\n",
       "| 23 | 185 | 63.65 | male   |\n",
       "| 41 | 175 | 68.30 | male   |\n",
       "| 11 | 142 | 55.40 | female |\n",
       "| 12 | 171 | 48.20 | male   |\n",
       "| 54 | 191 | 63.65 | female |\n",
       "| 32 | 168 | 78.00 | female |\n",
       "| 22 | 171 | 54.00 | male   |\n",
       "| 21 | 165 | 63.65 | male   |\n",
       "| 14 | 171 | 90.20 | male   |\n",
       "| 51 | 250 | 63.65 | female |\n",
       "| 41 |  20 | 81.00 | female |\n",
       "| 66 | 171 | 59.00 | male   |\n",
       "| 71 | 171 | 63.65 | male   |\n",
       "\n"
      ],
      "text/plain": [
       "   person_age person_height person_weight person_gender\n",
       "1  23         185           63.65         male         \n",
       "2  41         175           68.30         male         \n",
       "3  11         142           55.40         female       \n",
       "4  12         171           48.20         male         \n",
       "5  54         191           63.65         female       \n",
       "6  32         168           78.00         female       \n",
       "7  22         171           54.00         male         \n",
       "8  21         165           63.65         male         \n",
       "9  14         171           90.20         male         \n",
       "10 51         250           63.65         female       \n",
       "11 41          20           81.00         female       \n",
       "12 66         171           59.00         male         \n",
       "13 71         171           63.65         male         "
      ]
     },
     "metadata": {},
     "output_type": "display_data"
    }
   ],
   "source": [
    "data_all <- data |> \n",
    "    mutate_if(is.numeric, function(x) ifelse(is.na(x), median(x, na.rm = T), x))\n",
    "data_all"
   ]
  },
  {
   "cell_type": "markdown",
   "metadata": {},
   "source": [
    "Розглянемо кілька бібліотек для перевірки даних на наявність пропусків..."
   ]
  },
  {
   "cell_type": "markdown",
   "metadata": {},
   "source": [
    "Ще одним із варіантів заміни значень може бути використання бібліотеки `Hmisc`:"
   ]
  },
  {
   "cell_type": "code",
   "execution_count": 35,
   "metadata": {},
   "outputs": [],
   "source": [
    "#install.packages(\"Hmisc\")"
   ]
  },
  {
   "cell_type": "code",
   "execution_count": 37,
   "metadata": {},
   "outputs": [
    {
     "name": "stderr",
     "output_type": "stream",
     "text": [
      "Your code contains a unicode char which cannot be displayed in your\n",
      "current locale and R will silently convert it to an escaped form when the\n",
      "R kernel executes this code. This can lead to subtle errors if you use\n",
      "such chars to do comparisons. For more information, please see\n",
      "https://github.com/IRkernel/repr/wiki/Problems-with-unicode-on-windows"
     ]
    },
    {
     "data": {
      "text/html": [
       "<table class=\"dataframe\">\n",
       "<caption>A data.frame: 13 × 4</caption>\n",
       "<thead>\n",
       "\t<tr><th scope=col>person_age</th><th scope=col>person_height</th><th scope=col>person_weight</th><th scope=col>person_gender</th></tr>\n",
       "\t<tr><th scope=col>&lt;int&gt;</th><th scope=col>&lt;int&gt;</th><th scope=col>&lt;impute&gt;</th><th scope=col>&lt;chr&gt;</th></tr>\n",
       "</thead>\n",
       "<tbody>\n",
       "\t<tr><td>23</td><td>185</td><td>66.7625</td><td>male  </td></tr>\n",
       "\t<tr><td>41</td><td>175</td><td>68.3000</td><td>male  </td></tr>\n",
       "\t<tr><td>11</td><td>142</td><td>55.4000</td><td>female</td></tr>\n",
       "\t<tr><td>12</td><td> NA</td><td>48.2000</td><td>male  </td></tr>\n",
       "\t<tr><td>54</td><td>191</td><td>66.7625</td><td>female</td></tr>\n",
       "\t<tr><td>32</td><td>168</td><td>78.0000</td><td>female</td></tr>\n",
       "\t<tr><td>22</td><td> NA</td><td>54.0000</td><td>male  </td></tr>\n",
       "\t<tr><td>21</td><td>165</td><td>66.7625</td><td>male  </td></tr>\n",
       "\t<tr><td>14</td><td> NA</td><td>90.2000</td><td>male  </td></tr>\n",
       "\t<tr><td>51</td><td>250</td><td>66.7625</td><td>female</td></tr>\n",
       "\t<tr><td>41</td><td> 20</td><td>81.0000</td><td>female</td></tr>\n",
       "\t<tr><td>66</td><td> NA</td><td>59.0000</td><td>male  </td></tr>\n",
       "\t<tr><td>71</td><td>171</td><td>66.7625</td><td>male  </td></tr>\n",
       "</tbody>\n",
       "</table>\n"
      ],
      "text/latex": [
       "A data.frame: 13 × 4\n",
       "\\begin{tabular}{llll}\n",
       " person\\_age & person\\_height & person\\_weight & person\\_gender\\\\\n",
       " <int> & <int> & <impute> & <chr>\\\\\n",
       "\\hline\n",
       "\t 23 & 185 & 66.7625 & male  \\\\\n",
       "\t 41 & 175 & 68.3000 & male  \\\\\n",
       "\t 11 & 142 & 55.4000 & female\\\\\n",
       "\t 12 &  NA & 48.2000 & male  \\\\\n",
       "\t 54 & 191 & 66.7625 & female\\\\\n",
       "\t 32 & 168 & 78.0000 & female\\\\\n",
       "\t 22 &  NA & 54.0000 & male  \\\\\n",
       "\t 21 & 165 & 66.7625 & male  \\\\\n",
       "\t 14 &  NA & 90.2000 & male  \\\\\n",
       "\t 51 & 250 & 66.7625 & female\\\\\n",
       "\t 41 &  20 & 81.0000 & female\\\\\n",
       "\t 66 &  NA & 59.0000 & male  \\\\\n",
       "\t 71 & 171 & 66.7625 & male  \\\\\n",
       "\\end{tabular}\n"
      ],
      "text/markdown": [
       "\n",
       "A data.frame: 13 × 4\n",
       "\n",
       "| person_age &lt;int&gt; | person_height &lt;int&gt; | person_weight &lt;impute&gt; | person_gender &lt;chr&gt; |\n",
       "|---|---|---|---|\n",
       "| 23 | 185 | 66.7625 | male   |\n",
       "| 41 | 175 | 68.3000 | male   |\n",
       "| 11 | 142 | 55.4000 | female |\n",
       "| 12 |  NA | 48.2000 | male   |\n",
       "| 54 | 191 | 66.7625 | female |\n",
       "| 32 | 168 | 78.0000 | female |\n",
       "| 22 |  NA | 54.0000 | male   |\n",
       "| 21 | 165 | 66.7625 | male   |\n",
       "| 14 |  NA | 90.2000 | male   |\n",
       "| 51 | 250 | 66.7625 | female |\n",
       "| 41 |  20 | 81.0000 | female |\n",
       "| 66 |  NA | 59.0000 | male   |\n",
       "| 71 | 171 | 66.7625 | male   |\n",
       "\n"
      ],
      "text/plain": [
       "   person_age person_height person_weight person_gender\n",
       "1  23         185           66.7625       male         \n",
       "2  41         175           68.3000       male         \n",
       "3  11         142           55.4000       female       \n",
       "4  12          NA           48.2000       male         \n",
       "5  54         191           66.7625       female       \n",
       "6  32         168           78.0000       female       \n",
       "7  22          NA           54.0000       male         \n",
       "8  21         165           66.7625       male         \n",
       "9  14          NA           90.2000       male         \n",
       "10 51         250           66.7625       female       \n",
       "11 41          20           81.0000       female       \n",
       "12 66          NA           59.0000       male         \n",
       "13 71         171           66.7625       male         "
      ]
     },
     "metadata": {},
     "output_type": "display_data"
    }
   ],
   "source": [
    "library(Hmisc)\n",
    "data_wm <- data |> \n",
    "    mutate(person_weight = impute(data$person_weight, fun = mean)) # mean imputation\n",
    "# Аналогічно можна замінити на min,max, median чи інші функції\n",
    "data_wm \n",
    "# * Значення із * - замінені"
   ]
  },
  {
   "cell_type": "markdown",
   "metadata": {},
   "source": [
    "---"
   ]
  },
  {
   "cell_type": "markdown",
   "metadata": {},
   "source": [
    "#### Hot deck imputation (як перекласти???)"
   ]
  },
  {
   "cell_type": "markdown",
   "metadata": {},
   "source": [
    "Метод `Hot deck imputation` передбачає, що пропущені значення обчислюються шляхом копіювання значень із подібних записів у тому ж наборі даних.\n",
    "\n",
    "Основне питання при `Hot deck imputation` полягає в тому, як вибрати значення заміни. Одним із поширених підходів є випадковий відбір:"
   ]
  },
  {
   "cell_type": "code",
   "execution_count": 40,
   "metadata": {},
   "outputs": [
    {
     "data": {
      "text/html": [
       "<table class=\"dataframe\">\n",
       "<caption>A data.frame: 13 × 4</caption>\n",
       "<thead>\n",
       "\t<tr><th scope=col>person_age</th><th scope=col>person_height</th><th scope=col>person_weight</th><th scope=col>person_gender</th></tr>\n",
       "\t<tr><th scope=col>&lt;int&gt;</th><th scope=col>&lt;int&gt;</th><th scope=col>&lt;impute&gt;</th><th scope=col>&lt;chr&gt;</th></tr>\n",
       "</thead>\n",
       "<tbody>\n",
       "\t<tr><td>23</td><td>185</td><td>59.0</td><td>male  </td></tr>\n",
       "\t<tr><td>41</td><td>175</td><td>68.3</td><td>male  </td></tr>\n",
       "\t<tr><td>11</td><td>142</td><td>55.4</td><td>female</td></tr>\n",
       "\t<tr><td>12</td><td> NA</td><td>48.2</td><td>male  </td></tr>\n",
       "\t<tr><td>54</td><td>191</td><td>55.4</td><td>female</td></tr>\n",
       "\t<tr><td>32</td><td>168</td><td>78.0</td><td>female</td></tr>\n",
       "\t<tr><td>22</td><td> NA</td><td>54.0</td><td>male  </td></tr>\n",
       "\t<tr><td>21</td><td>165</td><td>54.0</td><td>male  </td></tr>\n",
       "\t<tr><td>14</td><td> NA</td><td>90.2</td><td>male  </td></tr>\n",
       "\t<tr><td>51</td><td>250</td><td>90.2</td><td>female</td></tr>\n",
       "\t<tr><td>41</td><td> 20</td><td>81.0</td><td>female</td></tr>\n",
       "\t<tr><td>66</td><td> NA</td><td>59.0</td><td>male  </td></tr>\n",
       "\t<tr><td>71</td><td>171</td><td>54.0</td><td>male  </td></tr>\n",
       "</tbody>\n",
       "</table>\n"
      ],
      "text/latex": [
       "A data.frame: 13 × 4\n",
       "\\begin{tabular}{llll}\n",
       " person\\_age & person\\_height & person\\_weight & person\\_gender\\\\\n",
       " <int> & <int> & <impute> & <chr>\\\\\n",
       "\\hline\n",
       "\t 23 & 185 & 59.0 & male  \\\\\n",
       "\t 41 & 175 & 68.3 & male  \\\\\n",
       "\t 11 & 142 & 55.4 & female\\\\\n",
       "\t 12 &  NA & 48.2 & male  \\\\\n",
       "\t 54 & 191 & 55.4 & female\\\\\n",
       "\t 32 & 168 & 78.0 & female\\\\\n",
       "\t 22 &  NA & 54.0 & male  \\\\\n",
       "\t 21 & 165 & 54.0 & male  \\\\\n",
       "\t 14 &  NA & 90.2 & male  \\\\\n",
       "\t 51 & 250 & 90.2 & female\\\\\n",
       "\t 41 &  20 & 81.0 & female\\\\\n",
       "\t 66 &  NA & 59.0 & male  \\\\\n",
       "\t 71 & 171 & 54.0 & male  \\\\\n",
       "\\end{tabular}\n"
      ],
      "text/markdown": [
       "\n",
       "A data.frame: 13 × 4\n",
       "\n",
       "| person_age &lt;int&gt; | person_height &lt;int&gt; | person_weight &lt;impute&gt; | person_gender &lt;chr&gt; |\n",
       "|---|---|---|---|\n",
       "| 23 | 185 | 59.0 | male   |\n",
       "| 41 | 175 | 68.3 | male   |\n",
       "| 11 | 142 | 55.4 | female |\n",
       "| 12 |  NA | 48.2 | male   |\n",
       "| 54 | 191 | 55.4 | female |\n",
       "| 32 | 168 | 78.0 | female |\n",
       "| 22 |  NA | 54.0 | male   |\n",
       "| 21 | 165 | 54.0 | male   |\n",
       "| 14 |  NA | 90.2 | male   |\n",
       "| 51 | 250 | 90.2 | female |\n",
       "| 41 |  20 | 81.0 | female |\n",
       "| 66 |  NA | 59.0 | male   |\n",
       "| 71 | 171 | 54.0 | male   |\n",
       "\n"
      ],
      "text/plain": [
       "   person_age person_height person_weight person_gender\n",
       "1  23         185           59.0          male         \n",
       "2  41         175           68.3          male         \n",
       "3  11         142           55.4          female       \n",
       "4  12          NA           48.2          male         \n",
       "5  54         191           55.4          female       \n",
       "6  32         168           78.0          female       \n",
       "7  22          NA           54.0          male         \n",
       "8  21         165           54.0          male         \n",
       "9  14          NA           90.2          male         \n",
       "10 51         250           90.2          female       \n",
       "11 41          20           81.0          female       \n",
       "12 66          NA           59.0          male         \n",
       "13 71         171           54.0          male         "
      ]
     },
     "metadata": {},
     "output_type": "display_data"
    }
   ],
   "source": [
    "# set.seed(1)\n",
    "data_hot <- data |> \n",
    "    mutate(person_weight = impute(data$person_weight, \"random\")) \n",
    "data_hot "
   ]
  },
  {
   "cell_type": "markdown",
   "metadata": {},
   "source": [
    "Вихідне значення залежить від значення `seed`."
   ]
  },
  {
   "cell_type": "markdown",
   "metadata": {},
   "source": [
    "---"
   ]
  },
  {
   "cell_type": "markdown",
   "metadata": {},
   "source": [
    "## Сегментна заміна пропусків"
   ]
  },
  {
   "cell_type": "markdown",
   "metadata": {},
   "source": [
    "Заміна по сегментах часто дозволяє будувати точніші математичні моделі, адже групові середні краще описують явища і процеси, ніж загальні для всієї вибірки."
   ]
  },
  {
   "cell_type": "markdown",
   "metadata": {},
   "source": [
    "Знайдемо середні значення ваги за статтю та використаємо ці значення для заміни пропусків у даних."
   ]
  },
  {
   "cell_type": "code",
   "execution_count": 41,
   "metadata": {},
   "outputs": [
    {
     "data": {
      "text/html": [
       "<table class=\"dataframe\">\n",
       "<caption>A grouped_df: 13 × 4</caption>\n",
       "<thead>\n",
       "\t<tr><th scope=col>person_age</th><th scope=col>person_height</th><th scope=col>person_weight</th><th scope=col>person_gender</th></tr>\n",
       "\t<tr><th scope=col>&lt;int&gt;</th><th scope=col>&lt;int&gt;</th><th scope=col>&lt;dbl&gt;</th><th scope=col>&lt;chr&gt;</th></tr>\n",
       "</thead>\n",
       "<tbody>\n",
       "\t<tr><td>23</td><td>185</td><td>63.94000</td><td>male  </td></tr>\n",
       "\t<tr><td>41</td><td>175</td><td>68.30000</td><td>male  </td></tr>\n",
       "\t<tr><td>11</td><td>142</td><td>55.40000</td><td>female</td></tr>\n",
       "\t<tr><td>12</td><td> NA</td><td>48.20000</td><td>male  </td></tr>\n",
       "\t<tr><td>54</td><td>191</td><td>71.46667</td><td>female</td></tr>\n",
       "\t<tr><td>32</td><td>168</td><td>78.00000</td><td>female</td></tr>\n",
       "\t<tr><td>22</td><td> NA</td><td>54.00000</td><td>male  </td></tr>\n",
       "\t<tr><td>21</td><td>165</td><td>63.94000</td><td>male  </td></tr>\n",
       "\t<tr><td>14</td><td> NA</td><td>90.20000</td><td>male  </td></tr>\n",
       "\t<tr><td>51</td><td>250</td><td>71.46667</td><td>female</td></tr>\n",
       "\t<tr><td>41</td><td> 20</td><td>81.00000</td><td>female</td></tr>\n",
       "\t<tr><td>66</td><td> NA</td><td>59.00000</td><td>male  </td></tr>\n",
       "\t<tr><td>71</td><td>171</td><td>63.94000</td><td>male  </td></tr>\n",
       "</tbody>\n",
       "</table>\n"
      ],
      "text/latex": [
       "A grouped\\_df: 13 × 4\n",
       "\\begin{tabular}{llll}\n",
       " person\\_age & person\\_height & person\\_weight & person\\_gender\\\\\n",
       " <int> & <int> & <dbl> & <chr>\\\\\n",
       "\\hline\n",
       "\t 23 & 185 & 63.94000 & male  \\\\\n",
       "\t 41 & 175 & 68.30000 & male  \\\\\n",
       "\t 11 & 142 & 55.40000 & female\\\\\n",
       "\t 12 &  NA & 48.20000 & male  \\\\\n",
       "\t 54 & 191 & 71.46667 & female\\\\\n",
       "\t 32 & 168 & 78.00000 & female\\\\\n",
       "\t 22 &  NA & 54.00000 & male  \\\\\n",
       "\t 21 & 165 & 63.94000 & male  \\\\\n",
       "\t 14 &  NA & 90.20000 & male  \\\\\n",
       "\t 51 & 250 & 71.46667 & female\\\\\n",
       "\t 41 &  20 & 81.00000 & female\\\\\n",
       "\t 66 &  NA & 59.00000 & male  \\\\\n",
       "\t 71 & 171 & 63.94000 & male  \\\\\n",
       "\\end{tabular}\n"
      ],
      "text/markdown": [
       "\n",
       "A grouped_df: 13 × 4\n",
       "\n",
       "| person_age &lt;int&gt; | person_height &lt;int&gt; | person_weight &lt;dbl&gt; | person_gender &lt;chr&gt; |\n",
       "|---|---|---|---|\n",
       "| 23 | 185 | 63.94000 | male   |\n",
       "| 41 | 175 | 68.30000 | male   |\n",
       "| 11 | 142 | 55.40000 | female |\n",
       "| 12 |  NA | 48.20000 | male   |\n",
       "| 54 | 191 | 71.46667 | female |\n",
       "| 32 | 168 | 78.00000 | female |\n",
       "| 22 |  NA | 54.00000 | male   |\n",
       "| 21 | 165 | 63.94000 | male   |\n",
       "| 14 |  NA | 90.20000 | male   |\n",
       "| 51 | 250 | 71.46667 | female |\n",
       "| 41 |  20 | 81.00000 | female |\n",
       "| 66 |  NA | 59.00000 | male   |\n",
       "| 71 | 171 | 63.94000 | male   |\n",
       "\n"
      ],
      "text/plain": [
       "   person_age person_height person_weight person_gender\n",
       "1  23         185           63.94000      male         \n",
       "2  41         175           68.30000      male         \n",
       "3  11         142           55.40000      female       \n",
       "4  12          NA           48.20000      male         \n",
       "5  54         191           71.46667      female       \n",
       "6  32         168           78.00000      female       \n",
       "7  22          NA           54.00000      male         \n",
       "8  21         165           63.94000      male         \n",
       "9  14          NA           90.20000      male         \n",
       "10 51         250           71.46667      female       \n",
       "11 41          20           81.00000      female       \n",
       "12 66          NA           59.00000      male         \n",
       "13 71         171           63.94000      male         "
      ]
     },
     "metadata": {},
     "output_type": "display_data"
    }
   ],
   "source": [
    "data_sgm <- data |> \n",
    "                group_by(person_gender) |>\n",
    "                mutate(person_weight = replace_na(person_weight, mean(person_weight, na.rm = TRUE)))\n",
    "data_sgm"
   ]
  },
  {
   "cell_type": "markdown",
   "metadata": {},
   "source": [
    "Також можна здійснити заміну значень по усіх стовпцях датасету за один раз. Проте не варто такий підхід використовувати постійно, а враховувати бізнес-логіку процесів, що вивчаються."
   ]
  },
  {
   "cell_type": "code",
   "execution_count": 42,
   "metadata": {},
   "outputs": [
    {
     "data": {
      "text/html": [
       "<table class=\"dataframe\">\n",
       "<caption>A grouped_df: 13 × 4</caption>\n",
       "<thead>\n",
       "\t<tr><th scope=col>person_age</th><th scope=col>person_height</th><th scope=col>person_weight</th><th scope=col>person_gender</th></tr>\n",
       "\t<tr><th scope=col>&lt;int&gt;</th><th scope=col>&lt;int&gt;</th><th scope=col>&lt;dbl&gt;</th><th scope=col>&lt;chr&gt;</th></tr>\n",
       "</thead>\n",
       "<tbody>\n",
       "\t<tr><td>23</td><td>185</td><td>48.2</td><td>male  </td></tr>\n",
       "\t<tr><td>41</td><td>175</td><td>68.3</td><td>male  </td></tr>\n",
       "\t<tr><td>11</td><td>142</td><td>55.4</td><td>female</td></tr>\n",
       "\t<tr><td>12</td><td>165</td><td>48.2</td><td>male  </td></tr>\n",
       "\t<tr><td>54</td><td>191</td><td>55.4</td><td>female</td></tr>\n",
       "\t<tr><td>32</td><td>168</td><td>78.0</td><td>female</td></tr>\n",
       "\t<tr><td>22</td><td>165</td><td>54.0</td><td>male  </td></tr>\n",
       "\t<tr><td>21</td><td>165</td><td>48.2</td><td>male  </td></tr>\n",
       "\t<tr><td>14</td><td>165</td><td>90.2</td><td>male  </td></tr>\n",
       "\t<tr><td>51</td><td>250</td><td>55.4</td><td>female</td></tr>\n",
       "\t<tr><td>41</td><td> 20</td><td>81.0</td><td>female</td></tr>\n",
       "\t<tr><td>66</td><td>165</td><td>59.0</td><td>male  </td></tr>\n",
       "\t<tr><td>71</td><td>171</td><td>48.2</td><td>male  </td></tr>\n",
       "</tbody>\n",
       "</table>\n"
      ],
      "text/latex": [
       "A grouped\\_df: 13 × 4\n",
       "\\begin{tabular}{llll}\n",
       " person\\_age & person\\_height & person\\_weight & person\\_gender\\\\\n",
       " <int> & <int> & <dbl> & <chr>\\\\\n",
       "\\hline\n",
       "\t 23 & 185 & 48.2 & male  \\\\\n",
       "\t 41 & 175 & 68.3 & male  \\\\\n",
       "\t 11 & 142 & 55.4 & female\\\\\n",
       "\t 12 & 165 & 48.2 & male  \\\\\n",
       "\t 54 & 191 & 55.4 & female\\\\\n",
       "\t 32 & 168 & 78.0 & female\\\\\n",
       "\t 22 & 165 & 54.0 & male  \\\\\n",
       "\t 21 & 165 & 48.2 & male  \\\\\n",
       "\t 14 & 165 & 90.2 & male  \\\\\n",
       "\t 51 & 250 & 55.4 & female\\\\\n",
       "\t 41 &  20 & 81.0 & female\\\\\n",
       "\t 66 & 165 & 59.0 & male  \\\\\n",
       "\t 71 & 171 & 48.2 & male  \\\\\n",
       "\\end{tabular}\n"
      ],
      "text/markdown": [
       "\n",
       "A grouped_df: 13 × 4\n",
       "\n",
       "| person_age &lt;int&gt; | person_height &lt;int&gt; | person_weight &lt;dbl&gt; | person_gender &lt;chr&gt; |\n",
       "|---|---|---|---|\n",
       "| 23 | 185 | 48.2 | male   |\n",
       "| 41 | 175 | 68.3 | male   |\n",
       "| 11 | 142 | 55.4 | female |\n",
       "| 12 | 165 | 48.2 | male   |\n",
       "| 54 | 191 | 55.4 | female |\n",
       "| 32 | 168 | 78.0 | female |\n",
       "| 22 | 165 | 54.0 | male   |\n",
       "| 21 | 165 | 48.2 | male   |\n",
       "| 14 | 165 | 90.2 | male   |\n",
       "| 51 | 250 | 55.4 | female |\n",
       "| 41 |  20 | 81.0 | female |\n",
       "| 66 | 165 | 59.0 | male   |\n",
       "| 71 | 171 | 48.2 | male   |\n",
       "\n"
      ],
      "text/plain": [
       "   person_age person_height person_weight person_gender\n",
       "1  23         185           48.2          male         \n",
       "2  41         175           68.3          male         \n",
       "3  11         142           55.4          female       \n",
       "4  12         165           48.2          male         \n",
       "5  54         191           55.4          female       \n",
       "6  32         168           78.0          female       \n",
       "7  22         165           54.0          male         \n",
       "8  21         165           48.2          male         \n",
       "9  14         165           90.2          male         \n",
       "10 51         250           55.4          female       \n",
       "11 41          20           81.0          female       \n",
       "12 66         165           59.0          male         \n",
       "13 71         171           48.2          male         "
      ]
     },
     "metadata": {},
     "output_type": "display_data"
    }
   ],
   "source": [
    "data_sgm2 <- data %>% \n",
    "  group_by(person_gender) %>% \n",
    "    mutate(\n",
    "      across(everything(), ~replace_na(.x, min(.x, na.rm = TRUE)))\n",
    "    )\n",
    "data_sgm2"
   ]
  },
  {
   "cell_type": "markdown",
   "metadata": {},
   "source": [
    "Якщо ж є потреба замінювати по окремих стовпцях, то їх можна вказати замість `everything()`: `across(c(\"person_height\", \"person_weight\"), ~replace_na(.x, min(.x, na.rm = TRUE)))`."
   ]
  },
  {
   "cell_type": "markdown",
   "metadata": {},
   "source": [
    "Іншим варіантом може бути вказання номерів колонок: `across(c(1,3), ~replace_na(.x, min(.x, na.rm = TRUE)))`"
   ]
  },
  {
   "cell_type": "markdown",
   "metadata": {},
   "source": [
    "---"
   ]
  },
  {
   "cell_type": "markdown",
   "metadata": {},
   "source": [
    "## Інтелектуальні методи заміни"
   ]
  },
  {
   "cell_type": "markdown",
   "metadata": {},
   "source": [
    "Теоретично інтелектуальні методи заміни пропусків є найкращими, адже враховують математичні залежності у даних."
   ]
  },
  {
   "cell_type": "markdown",
   "metadata": {},
   "source": [
    "https://medium.com/swlh/k-nearest-neighbor-ca2593d7a3c4"
   ]
  },
  {
   "cell_type": "code",
   "execution_count": 44,
   "metadata": {},
   "outputs": [
    {
     "data": {
      "text/html": [
       "<table class=\"dataframe\">\n",
       "<caption>A data.frame: 13 × 8</caption>\n",
       "<thead>\n",
       "\t<tr><th scope=col>person_age</th><th scope=col>person_height</th><th scope=col>person_weight</th><th scope=col>person_gender</th><th scope=col>person_age_imp</th><th scope=col>person_height_imp</th><th scope=col>person_weight_imp</th><th scope=col>person_gender_imp</th></tr>\n",
       "\t<tr><th scope=col>&lt;int&gt;</th><th scope=col>&lt;int&gt;</th><th scope=col>&lt;dbl&gt;</th><th scope=col>&lt;chr&gt;</th><th scope=col>&lt;lgl&gt;</th><th scope=col>&lt;lgl&gt;</th><th scope=col>&lt;lgl&gt;</th><th scope=col>&lt;lgl&gt;</th></tr>\n",
       "</thead>\n",
       "<tbody>\n",
       "\t<tr><td>23</td><td>185</td><td>59.0</td><td>male  </td><td>FALSE</td><td>FALSE</td><td> TRUE</td><td>FALSE</td></tr>\n",
       "\t<tr><td>41</td><td>175</td><td>68.3</td><td>male  </td><td>FALSE</td><td>FALSE</td><td>FALSE</td><td>FALSE</td></tr>\n",
       "\t<tr><td>11</td><td>142</td><td>55.4</td><td>female</td><td>FALSE</td><td>FALSE</td><td>FALSE</td><td>FALSE</td></tr>\n",
       "\t<tr><td>12</td><td>168</td><td>48.2</td><td>male  </td><td>FALSE</td><td> TRUE</td><td>FALSE</td><td>FALSE</td></tr>\n",
       "\t<tr><td>54</td><td>191</td><td>68.3</td><td>female</td><td>FALSE</td><td>FALSE</td><td> TRUE</td><td>FALSE</td></tr>\n",
       "\t<tr><td>32</td><td>168</td><td>78.0</td><td>female</td><td>FALSE</td><td>FALSE</td><td>FALSE</td><td>FALSE</td></tr>\n",
       "\t<tr><td>22</td><td>168</td><td>54.0</td><td>male  </td><td>FALSE</td><td> TRUE</td><td>FALSE</td><td>FALSE</td></tr>\n",
       "\t<tr><td>21</td><td>165</td><td>59.0</td><td>male  </td><td>FALSE</td><td>FALSE</td><td> TRUE</td><td>FALSE</td></tr>\n",
       "\t<tr><td>14</td><td>168</td><td>90.2</td><td>male  </td><td>FALSE</td><td> TRUE</td><td>FALSE</td><td>FALSE</td></tr>\n",
       "\t<tr><td>51</td><td>250</td><td>68.3</td><td>female</td><td>FALSE</td><td>FALSE</td><td> TRUE</td><td>FALSE</td></tr>\n",
       "\t<tr><td>41</td><td> 20</td><td>81.0</td><td>female</td><td>FALSE</td><td>FALSE</td><td>FALSE</td><td>FALSE</td></tr>\n",
       "\t<tr><td>66</td><td>168</td><td>59.0</td><td>male  </td><td>FALSE</td><td> TRUE</td><td>FALSE</td><td>FALSE</td></tr>\n",
       "\t<tr><td>71</td><td>171</td><td>59.0</td><td>male  </td><td>FALSE</td><td>FALSE</td><td> TRUE</td><td>FALSE</td></tr>\n",
       "</tbody>\n",
       "</table>\n"
      ],
      "text/latex": [
       "A data.frame: 13 × 8\n",
       "\\begin{tabular}{llllllll}\n",
       " person\\_age & person\\_height & person\\_weight & person\\_gender & person\\_age\\_imp & person\\_height\\_imp & person\\_weight\\_imp & person\\_gender\\_imp\\\\\n",
       " <int> & <int> & <dbl> & <chr> & <lgl> & <lgl> & <lgl> & <lgl>\\\\\n",
       "\\hline\n",
       "\t 23 & 185 & 59.0 & male   & FALSE & FALSE &  TRUE & FALSE\\\\\n",
       "\t 41 & 175 & 68.3 & male   & FALSE & FALSE & FALSE & FALSE\\\\\n",
       "\t 11 & 142 & 55.4 & female & FALSE & FALSE & FALSE & FALSE\\\\\n",
       "\t 12 & 168 & 48.2 & male   & FALSE &  TRUE & FALSE & FALSE\\\\\n",
       "\t 54 & 191 & 68.3 & female & FALSE & FALSE &  TRUE & FALSE\\\\\n",
       "\t 32 & 168 & 78.0 & female & FALSE & FALSE & FALSE & FALSE\\\\\n",
       "\t 22 & 168 & 54.0 & male   & FALSE &  TRUE & FALSE & FALSE\\\\\n",
       "\t 21 & 165 & 59.0 & male   & FALSE & FALSE &  TRUE & FALSE\\\\\n",
       "\t 14 & 168 & 90.2 & male   & FALSE &  TRUE & FALSE & FALSE\\\\\n",
       "\t 51 & 250 & 68.3 & female & FALSE & FALSE &  TRUE & FALSE\\\\\n",
       "\t 41 &  20 & 81.0 & female & FALSE & FALSE & FALSE & FALSE\\\\\n",
       "\t 66 & 168 & 59.0 & male   & FALSE &  TRUE & FALSE & FALSE\\\\\n",
       "\t 71 & 171 & 59.0 & male   & FALSE & FALSE &  TRUE & FALSE\\\\\n",
       "\\end{tabular}\n"
      ],
      "text/markdown": [
       "\n",
       "A data.frame: 13 × 8\n",
       "\n",
       "| person_age &lt;int&gt; | person_height &lt;int&gt; | person_weight &lt;dbl&gt; | person_gender &lt;chr&gt; | person_age_imp &lt;lgl&gt; | person_height_imp &lt;lgl&gt; | person_weight_imp &lt;lgl&gt; | person_gender_imp &lt;lgl&gt; |\n",
       "|---|---|---|---|---|---|---|---|\n",
       "| 23 | 185 | 59.0 | male   | FALSE | FALSE |  TRUE | FALSE |\n",
       "| 41 | 175 | 68.3 | male   | FALSE | FALSE | FALSE | FALSE |\n",
       "| 11 | 142 | 55.4 | female | FALSE | FALSE | FALSE | FALSE |\n",
       "| 12 | 168 | 48.2 | male   | FALSE |  TRUE | FALSE | FALSE |\n",
       "| 54 | 191 | 68.3 | female | FALSE | FALSE |  TRUE | FALSE |\n",
       "| 32 | 168 | 78.0 | female | FALSE | FALSE | FALSE | FALSE |\n",
       "| 22 | 168 | 54.0 | male   | FALSE |  TRUE | FALSE | FALSE |\n",
       "| 21 | 165 | 59.0 | male   | FALSE | FALSE |  TRUE | FALSE |\n",
       "| 14 | 168 | 90.2 | male   | FALSE |  TRUE | FALSE | FALSE |\n",
       "| 51 | 250 | 68.3 | female | FALSE | FALSE |  TRUE | FALSE |\n",
       "| 41 |  20 | 81.0 | female | FALSE | FALSE | FALSE | FALSE |\n",
       "| 66 | 168 | 59.0 | male   | FALSE |  TRUE | FALSE | FALSE |\n",
       "| 71 | 171 | 59.0 | male   | FALSE | FALSE |  TRUE | FALSE |\n",
       "\n"
      ],
      "text/plain": [
       "   person_age person_height person_weight person_gender person_age_imp\n",
       "1  23         185           59.0          male          FALSE         \n",
       "2  41         175           68.3          male          FALSE         \n",
       "3  11         142           55.4          female        FALSE         \n",
       "4  12         168           48.2          male          FALSE         \n",
       "5  54         191           68.3          female        FALSE         \n",
       "6  32         168           78.0          female        FALSE         \n",
       "7  22         168           54.0          male          FALSE         \n",
       "8  21         165           59.0          male          FALSE         \n",
       "9  14         168           90.2          male          FALSE         \n",
       "10 51         250           68.3          female        FALSE         \n",
       "11 41          20           81.0          female        FALSE         \n",
       "12 66         168           59.0          male          FALSE         \n",
       "13 71         171           59.0          male          FALSE         \n",
       "   person_height_imp person_weight_imp person_gender_imp\n",
       "1  FALSE              TRUE             FALSE            \n",
       "2  FALSE             FALSE             FALSE            \n",
       "3  FALSE             FALSE             FALSE            \n",
       "4   TRUE             FALSE             FALSE            \n",
       "5  FALSE              TRUE             FALSE            \n",
       "6  FALSE             FALSE             FALSE            \n",
       "7   TRUE             FALSE             FALSE            \n",
       "8  FALSE              TRUE             FALSE            \n",
       "9   TRUE             FALSE             FALSE            \n",
       "10 FALSE              TRUE             FALSE            \n",
       "11 FALSE             FALSE             FALSE            \n",
       "12  TRUE             FALSE             FALSE            \n",
       "13 FALSE              TRUE             FALSE            "
      ]
     },
     "metadata": {},
     "output_type": "display_data"
    }
   ],
   "source": [
    "library(VIM)\n",
    "data_knn <- kNN(data)\n",
    "data_knn"
   ]
  },
  {
   "cell_type": "markdown",
   "metadata": {},
   "source": [
    "Ще одним схожим методом заміни пропусків може бути здійснення прогнозів на основі регресії чи складніших математичних методів пропусків."
   ]
  },
  {
   "cell_type": "markdown",
   "metadata": {},
   "source": [
    "---"
   ]
  },
  {
   "cell_type": "markdown",
   "metadata": {},
   "source": [
    "## Набори даних"
   ]
  },
  {
   "cell_type": "markdown",
   "metadata": {},
   "source": [
    "1. https://github.com/kleban/r-book-published/tree/main/datasets/untitled.csv\n",
    "2. https://github.com/kleban/r-book-published/tree/main/datasets/badtitled.csv\n",
    "3. https://github.com/kleban/r-book-published/tree/main/datasets/cleaned_titled.csv\n",
    "4. https://github.com/kleban/r-book-published/tree/main/datasets/cleaned_titled2.csv\n",
    "5. https://github.com/kleban/r-book-published/tree/main/datasets/river_eco.csv"
   ]
  },
  {
   "cell_type": "markdown",
   "metadata": {},
   "source": [
    "---"
   ]
  },
  {
   "cell_type": "markdown",
   "metadata": {
    "cell_id": "5972a3c0bc0b48d2a2b269a0b802d255",
    "deepnote_cell_type": "input-slider",
    "deepnote_slider_max_value": 10,
    "deepnote_slider_min_value": 0,
    "deepnote_slider_step": 1,
    "deepnote_variable_name": "input_1",
    "deepnote_variable_value": "8",
    "vscode": {
     "languageId": "r"
    }
   },
   "source": [
    "## Використані та додаткові джерела"
   ]
  },
  {
   "cell_type": "markdown",
   "metadata": {
    "cell_id": "d84d49babc6f4ecc8a3bb60f946c091e",
    "deepnote_cell_height": 94.78125,
    "deepnote_cell_type": "markdown",
    "tags": []
   },
   "source": [
    "1. [KPMG Virtual Internship](https://www.insidesherpa.com/virtual-internships/m7W4GMqeT3bh9Nb2c)\n",
    "2. [An introduction to data cleaning with R / Edwin de Jonge, Mark van der Loo, 2013](https://cran.r-project.org/doc/contrib/de_Jonge+van_der_Loo-Introduction_to_data_cleaning_with_R.pdf)\n",
    "3. [Anomaly Detection in R](datacamp.com/courses/anomaly-detection-in-r)\n",
    "4. [K-nearest Neighbor: The maths behind it, how it works and an example](https://medium.com/analytics-vidhya/k-nearest-neighbor-the-maths-behind-it-how-it-works-and-an-example-f1de1208546c)\n",
    "5. [Quantile. Wikipedia](https://en.wikipedia.org/wiki/Quantile)"
   ]
  }
 ],
 "metadata": {
  "deepnote": {},
  "deepnote_execution_queue": [],
  "deepnote_notebook_id": "98d3d2a2-2921-4f5d-a292-65d4b34cd357",
  "kernelspec": {
   "display_name": "R",
   "language": "R",
   "name": "ir"
  },
  "language_info": {
   "codemirror_mode": "r",
   "file_extension": ".r",
   "mimetype": "text/x-r-source",
   "name": "R",
   "pygments_lexer": "r",
   "version": "4.1.3"
  }
 },
 "nbformat": 4,
 "nbformat_minor": 4
}
