{
 "cells": [
  {
   "cell_type": "markdown",
   "id": "98a5853a-1190-4fac-8cd4-5da1462c2e88",
   "metadata": {},
   "source": [
    "---\n",
    "\n",
    "author: Юрій Клебан\n",
    "\n",
    "---"
   ]
  },
  {
   "cell_type": "markdown",
   "id": "45318bbc",
   "metadata": {},
   "source": [
    "# Renaming columns with **`rename()`**"
   ]
  },
  {
   "cell_type": "markdown",
   "id": "4c63f4e2-5c06-4962-9b8c-b6dbb6c3c8f6",
   "metadata": {},
   "source": [
    "Before start load packages"
   ]
  },
  {
   "cell_type": "code",
   "execution_count": 2,
   "id": "4c9a28ab-9102-4b94-96eb-cd2543ebf4d9",
   "metadata": {},
   "outputs": [],
   "source": [
    "library(dplyr) # for demos\n",
    "#install.packages(\"gapminder\")\n",
    "library(gapminder)  # load package and dataset"
   ]
  },
  {
   "cell_type": "markdown",
   "id": "c321e07c",
   "metadata": {},
   "source": [
    "`rename(.data, …)` rename columns.\n",
    "Let's rename column `pop` to poulation:"
   ]
  },
  {
   "cell_type": "code",
   "execution_count": 4,
   "id": "df58542c",
   "metadata": {
    "vscode": {
     "languageId": "r"
    }
   },
   "outputs": [
    {
     "data": {
      "text/html": [
       "<table class=\"dataframe\">\n",
       "<caption>A tibble: 10 × 6</caption>\n",
       "<thead>\n",
       "\t<tr><th scope=col>country</th><th scope=col>continent</th><th scope=col>year</th><th scope=col>lifeExp</th><th scope=col>population</th><th scope=col>gdpPercap</th></tr>\n",
       "\t<tr><th scope=col>&lt;fct&gt;</th><th scope=col>&lt;fct&gt;</th><th scope=col>&lt;int&gt;</th><th scope=col>&lt;dbl&gt;</th><th scope=col>&lt;int&gt;</th><th scope=col>&lt;dbl&gt;</th></tr>\n",
       "</thead>\n",
       "<tbody>\n",
       "\t<tr><td>Afghanistan</td><td>Asia</td><td>1952</td><td>28.801</td><td> 8425333</td><td>779.4453</td></tr>\n",
       "\t<tr><td>Afghanistan</td><td>Asia</td><td>1957</td><td>30.332</td><td> 9240934</td><td>820.8530</td></tr>\n",
       "\t<tr><td>Afghanistan</td><td>Asia</td><td>1962</td><td>31.997</td><td>10267083</td><td>853.1007</td></tr>\n",
       "\t<tr><td>Afghanistan</td><td>Asia</td><td>1967</td><td>34.020</td><td>11537966</td><td>836.1971</td></tr>\n",
       "\t<tr><td>Afghanistan</td><td>Asia</td><td>1972</td><td>36.088</td><td>13079460</td><td>739.9811</td></tr>\n",
       "\t<tr><td>Afghanistan</td><td>Asia</td><td>1977</td><td>38.438</td><td>14880372</td><td>786.1134</td></tr>\n",
       "\t<tr><td>Afghanistan</td><td>Asia</td><td>1982</td><td>39.854</td><td>12881816</td><td>978.0114</td></tr>\n",
       "\t<tr><td>Afghanistan</td><td>Asia</td><td>1987</td><td>40.822</td><td>13867957</td><td>852.3959</td></tr>\n",
       "\t<tr><td>Afghanistan</td><td>Asia</td><td>1992</td><td>41.674</td><td>16317921</td><td>649.3414</td></tr>\n",
       "\t<tr><td>Afghanistan</td><td>Asia</td><td>1997</td><td>41.763</td><td>22227415</td><td>635.3414</td></tr>\n",
       "</tbody>\n",
       "</table>\n"
      ],
      "text/latex": [
       "A tibble: 10 × 6\n",
       "\\begin{tabular}{llllll}\n",
       " country & continent & year & lifeExp & population & gdpPercap\\\\\n",
       " <fct> & <fct> & <int> & <dbl> & <int> & <dbl>\\\\\n",
       "\\hline\n",
       "\t Afghanistan & Asia & 1952 & 28.801 &  8425333 & 779.4453\\\\\n",
       "\t Afghanistan & Asia & 1957 & 30.332 &  9240934 & 820.8530\\\\\n",
       "\t Afghanistan & Asia & 1962 & 31.997 & 10267083 & 853.1007\\\\\n",
       "\t Afghanistan & Asia & 1967 & 34.020 & 11537966 & 836.1971\\\\\n",
       "\t Afghanistan & Asia & 1972 & 36.088 & 13079460 & 739.9811\\\\\n",
       "\t Afghanistan & Asia & 1977 & 38.438 & 14880372 & 786.1134\\\\\n",
       "\t Afghanistan & Asia & 1982 & 39.854 & 12881816 & 978.0114\\\\\n",
       "\t Afghanistan & Asia & 1987 & 40.822 & 13867957 & 852.3959\\\\\n",
       "\t Afghanistan & Asia & 1992 & 41.674 & 16317921 & 649.3414\\\\\n",
       "\t Afghanistan & Asia & 1997 & 41.763 & 22227415 & 635.3414\\\\\n",
       "\\end{tabular}\n"
      ],
      "text/markdown": [
       "\n",
       "A tibble: 10 × 6\n",
       "\n",
       "| country &lt;fct&gt; | continent &lt;fct&gt; | year &lt;int&gt; | lifeExp &lt;dbl&gt; | population &lt;int&gt; | gdpPercap &lt;dbl&gt; |\n",
       "|---|---|---|---|---|---|\n",
       "| Afghanistan | Asia | 1952 | 28.801 |  8425333 | 779.4453 |\n",
       "| Afghanistan | Asia | 1957 | 30.332 |  9240934 | 820.8530 |\n",
       "| Afghanistan | Asia | 1962 | 31.997 | 10267083 | 853.1007 |\n",
       "| Afghanistan | Asia | 1967 | 34.020 | 11537966 | 836.1971 |\n",
       "| Afghanistan | Asia | 1972 | 36.088 | 13079460 | 739.9811 |\n",
       "| Afghanistan | Asia | 1977 | 38.438 | 14880372 | 786.1134 |\n",
       "| Afghanistan | Asia | 1982 | 39.854 | 12881816 | 978.0114 |\n",
       "| Afghanistan | Asia | 1987 | 40.822 | 13867957 | 852.3959 |\n",
       "| Afghanistan | Asia | 1992 | 41.674 | 16317921 | 649.3414 |\n",
       "| Afghanistan | Asia | 1997 | 41.763 | 22227415 | 635.3414 |\n",
       "\n"
      ],
      "text/plain": [
       "   country     continent year lifeExp population gdpPercap\n",
       "1  Afghanistan Asia      1952 28.801   8425333   779.4453 \n",
       "2  Afghanistan Asia      1957 30.332   9240934   820.8530 \n",
       "3  Afghanistan Asia      1962 31.997  10267083   853.1007 \n",
       "4  Afghanistan Asia      1967 34.020  11537966   836.1971 \n",
       "5  Afghanistan Asia      1972 36.088  13079460   739.9811 \n",
       "6  Afghanistan Asia      1977 38.438  14880372   786.1134 \n",
       "7  Afghanistan Asia      1982 39.854  12881816   978.0114 \n",
       "8  Afghanistan Asia      1987 40.822  13867957   852.3959 \n",
       "9  Afghanistan Asia      1992 41.674  16317921   649.3414 \n",
       "10 Afghanistan Asia      1997 41.763  22227415   635.3414 "
      ]
     },
     "metadata": {},
     "output_type": "display_data"
    }
   ],
   "source": [
    "gapminder |>\n",
    "    rename(population = pop) |>\n",
    "    head(10)"
   ]
  },
  {
   "cell_type": "markdown",
   "id": "b023d45c-f820-47fb-a522-4a91e0f6dfa2",
   "metadata": {},
   "source": [
    "Also check functions `rename_if` and `rename_at`."
   ]
  },
  {
   "cell_type": "markdown",
   "id": "04556bd9-5280-4239-8654-d205cc4deb4d",
   "metadata": {},
   "source": [
    "---"
   ]
  },
  {
   "cell_type": "markdown",
   "id": "9592bda1",
   "metadata": {},
   "source": [
    "## Refences"
   ]
  },
  {
   "cell_type": "markdown",
   "id": "ae226f5e",
   "metadata": {},
   "source": [
    "1. [dplyr: A Grammar of Data Manipulation](https://cran.r-project.org/web/packages/dplyr/index.html) on https://cran.r-project.org/.\n",
    "2. [Data Transformation with splyr::cheat sheet](https://github.com/rstudio/cheatsheets/blob/master/data-transformation.pdf).\n",
    "3. [DPLYR TUTORIAL : DATA MANIPULATION (50 EXAMPLES)](https://www.listendata.com/2016/08/dplyr-tutorial.html) by Deepanshu Bhalla.\n",
    "5. [Dplyr Intro](https://stat545.com/dplyr-intro.html) by Stat 545.\n",
    "6.[R Dplyr Tutorial: Data Manipulation(Join) & Cleaning(Spread)](https://www.guru99.com/r-dplyr-tutorial.html). Introduction to Data Analysis\n",
    "7. [Loan Default Prediction. Beginners data set for financial analytics Kaggle](https://www.kaggle.com/kmldas/loan-default-prediction)"
   ]
  }
 ],
 "metadata": {
  "kernelspec": {
   "display_name": "R",
   "language": "R",
   "name": "ir"
  },
  "language_info": {
   "codemirror_mode": "r",
   "file_extension": ".r",
   "mimetype": "text/x-r-source",
   "name": "R",
   "pygments_lexer": "r",
   "version": "4.1.3"
  }
 },
 "nbformat": 4,
 "nbformat_minor": 5
}
