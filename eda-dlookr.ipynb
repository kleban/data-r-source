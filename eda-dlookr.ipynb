{
 "cells": [
  {
   "cell_type": "markdown",
   "id": "59d3c1a1-7ed7-4cfa-8337-778f0338ac2a",
   "metadata": {},
   "source": [
    "## EDA з dlookR"
   ]
  },
  {
   "cell_type": "markdown",
   "id": "06742ed6-4bd1-4407-ba01-3c61b1d054b6",
   "metadata": {},
   "source": [
    "---"
   ]
  },
  {
   "cell_type": "markdown",
   "id": "399fea71-ab4c-4b3d-81a0-516644e334d2",
   "metadata": {},
   "source": [
    "https://rpubs.com/linggaajiandika/EDA"
   ]
  },
  {
   "cell_type": "markdown",
   "id": "093db0ca-49ff-484e-a2b2-284fd601a59a",
   "metadata": {},
   "source": [
    "## 00. Introduction\n",
    "Exploratory Data Analysis (EDA) is the first step in data analysis process developed by “John Tukey” in the 1970s. In statistics, exploratory data analysis is an approach to analyzing data sets to summarize their main characteristics, often with visual methods.\n",
    "\n",
    "> note: some processed data is skipped or ignored like cbind or selecting variable because it’s not the focus of this tutorial\n",
    "\n",
    "## 01. Load Package"
   ]
  },
  {
   "cell_type": "code",
   "execution_count": 6,
   "id": "92016559-1ef0-46fe-89d6-d813b2642a98",
   "metadata": {},
   "outputs": [],
   "source": [
    "#install.packages(\"dlookr\")"
   ]
  },
  {
   "cell_type": "code",
   "execution_count": 7,
   "id": "f1518097-c443-4346-92df-234c6ae8d6fc",
   "metadata": {},
   "outputs": [],
   "source": [
    "library(dplyr) #A Grammar of Data Manipulation\n",
    "library(tibble) #modern take on data frames.\n",
    "library(dlookr) #Tools for Data Diagnosis, Exploration, Transformation (main library)"
   ]
  },
  {
   "cell_type": "markdown",
   "id": "dd9f3d2e-1836-438f-bb77-c8b6cc94aeb9",
   "metadata": {},
   "source": [
    "## 02. Load Dataset\n",
    "he dataste used is airquality which is already available in R, the airquality dataset is daily air quality measurements in New York, May to September 1973."
   ]
  },
  {
   "cell_type": "code",
   "execution_count": 5,
   "id": "462d71a1-39db-48a9-b20e-9dd053986ccf",
   "metadata": {},
   "outputs": [
    {
     "data": {
      "text/html": [
       "<table class=\"dataframe\">\n",
       "<caption>A data.frame: 6 × 6</caption>\n",
       "<thead>\n",
       "\t<tr><th></th><th scope=col>Ozone</th><th scope=col>Solar.R</th><th scope=col>Wind</th><th scope=col>Temp</th><th scope=col>Month</th><th scope=col>Day</th></tr>\n",
       "\t<tr><th></th><th scope=col>&lt;int&gt;</th><th scope=col>&lt;int&gt;</th><th scope=col>&lt;dbl&gt;</th><th scope=col>&lt;int&gt;</th><th scope=col>&lt;int&gt;</th><th scope=col>&lt;int&gt;</th></tr>\n",
       "</thead>\n",
       "<tbody>\n",
       "\t<tr><th scope=row>1</th><td>41</td><td>190</td><td> 7.4</td><td>67</td><td>5</td><td>1</td></tr>\n",
       "\t<tr><th scope=row>2</th><td>36</td><td>118</td><td> 8.0</td><td>72</td><td>5</td><td>2</td></tr>\n",
       "\t<tr><th scope=row>3</th><td>12</td><td>149</td><td>12.6</td><td>74</td><td>5</td><td>3</td></tr>\n",
       "\t<tr><th scope=row>4</th><td>18</td><td>313</td><td>11.5</td><td>62</td><td>5</td><td>4</td></tr>\n",
       "\t<tr><th scope=row>5</th><td>NA</td><td> NA</td><td>14.3</td><td>56</td><td>5</td><td>5</td></tr>\n",
       "\t<tr><th scope=row>6</th><td>28</td><td> NA</td><td>14.9</td><td>66</td><td>5</td><td>6</td></tr>\n",
       "</tbody>\n",
       "</table>\n"
      ],
      "text/latex": [
       "A data.frame: 6 × 6\n",
       "\\begin{tabular}{r|llllll}\n",
       "  & Ozone & Solar.R & Wind & Temp & Month & Day\\\\\n",
       "  & <int> & <int> & <dbl> & <int> & <int> & <int>\\\\\n",
       "\\hline\n",
       "\t1 & 41 & 190 &  7.4 & 67 & 5 & 1\\\\\n",
       "\t2 & 36 & 118 &  8.0 & 72 & 5 & 2\\\\\n",
       "\t3 & 12 & 149 & 12.6 & 74 & 5 & 3\\\\\n",
       "\t4 & 18 & 313 & 11.5 & 62 & 5 & 4\\\\\n",
       "\t5 & NA &  NA & 14.3 & 56 & 5 & 5\\\\\n",
       "\t6 & 28 &  NA & 14.9 & 66 & 5 & 6\\\\\n",
       "\\end{tabular}\n"
      ],
      "text/markdown": [
       "\n",
       "A data.frame: 6 × 6\n",
       "\n",
       "| <!--/--> | Ozone &lt;int&gt; | Solar.R &lt;int&gt; | Wind &lt;dbl&gt; | Temp &lt;int&gt; | Month &lt;int&gt; | Day &lt;int&gt; |\n",
       "|---|---|---|---|---|---|---|\n",
       "| 1 | 41 | 190 |  7.4 | 67 | 5 | 1 |\n",
       "| 2 | 36 | 118 |  8.0 | 72 | 5 | 2 |\n",
       "| 3 | 12 | 149 | 12.6 | 74 | 5 | 3 |\n",
       "| 4 | 18 | 313 | 11.5 | 62 | 5 | 4 |\n",
       "| 5 | NA |  NA | 14.3 | 56 | 5 | 5 |\n",
       "| 6 | 28 |  NA | 14.9 | 66 | 5 | 6 |\n",
       "\n"
      ],
      "text/plain": [
       "  Ozone Solar.R Wind Temp Month Day\n",
       "1 41    190      7.4 67   5     1  \n",
       "2 36    118      8.0 72   5     2  \n",
       "3 12    149     12.6 74   5     3  \n",
       "4 18    313     11.5 62   5     4  \n",
       "5 NA     NA     14.3 56   5     5  \n",
       "6 28     NA     14.9 66   5     6  "
      ]
     },
     "metadata": {},
     "output_type": "display_data"
    }
   ],
   "source": [
    "# View Data\n",
    "head(airquality)"
   ]
  },
  {
   "cell_type": "markdown",
   "id": "aeadd481-6dc2-4fee-b34f-e4ba8475ba12",
   "metadata": {},
   "source": [
    "## 03. Data Diagnosis\n",
    "The first step is diagnosis from simple data\n",
    "\n",
    "### 3.1 General Data Diagnosis"
   ]
  },
  {
   "cell_type": "code",
   "execution_count": 8,
   "id": "c51436d6-b3c4-46f5-8c84-355f7a6b38be",
   "metadata": {},
   "outputs": [
    {
     "data": {
      "text/html": [
       "<table class=\"dataframe\">\n",
       "<caption>A tibble: 6 × 6</caption>\n",
       "<thead>\n",
       "\t<tr><th scope=col>variables</th><th scope=col>types</th><th scope=col>missing_count</th><th scope=col>missing_percent</th><th scope=col>unique_count</th><th scope=col>unique_rate</th></tr>\n",
       "\t<tr><th scope=col>&lt;chr&gt;</th><th scope=col>&lt;chr&gt;</th><th scope=col>&lt;int&gt;</th><th scope=col>&lt;dbl&gt;</th><th scope=col>&lt;int&gt;</th><th scope=col>&lt;dbl&gt;</th></tr>\n",
       "</thead>\n",
       "<tbody>\n",
       "\t<tr><td>Ozone  </td><td>integer</td><td>37</td><td>24.183007</td><td> 68</td><td>0.44444444</td></tr>\n",
       "\t<tr><td>Solar.R</td><td>integer</td><td> 7</td><td> 4.575163</td><td>118</td><td>0.77124183</td></tr>\n",
       "\t<tr><td>Wind   </td><td>numeric</td><td> 0</td><td> 0.000000</td><td> 31</td><td>0.20261438</td></tr>\n",
       "\t<tr><td>Temp   </td><td>integer</td><td> 0</td><td> 0.000000</td><td> 40</td><td>0.26143791</td></tr>\n",
       "\t<tr><td>Month  </td><td>integer</td><td> 0</td><td> 0.000000</td><td>  5</td><td>0.03267974</td></tr>\n",
       "\t<tr><td>Day    </td><td>integer</td><td> 0</td><td> 0.000000</td><td> 31</td><td>0.20261438</td></tr>\n",
       "</tbody>\n",
       "</table>\n"
      ],
      "text/latex": [
       "A tibble: 6 × 6\n",
       "\\begin{tabular}{llllll}\n",
       " variables & types & missing\\_count & missing\\_percent & unique\\_count & unique\\_rate\\\\\n",
       " <chr> & <chr> & <int> & <dbl> & <int> & <dbl>\\\\\n",
       "\\hline\n",
       "\t Ozone   & integer & 37 & 24.183007 &  68 & 0.44444444\\\\\n",
       "\t Solar.R & integer &  7 &  4.575163 & 118 & 0.77124183\\\\\n",
       "\t Wind    & numeric &  0 &  0.000000 &  31 & 0.20261438\\\\\n",
       "\t Temp    & integer &  0 &  0.000000 &  40 & 0.26143791\\\\\n",
       "\t Month   & integer &  0 &  0.000000 &   5 & 0.03267974\\\\\n",
       "\t Day     & integer &  0 &  0.000000 &  31 & 0.20261438\\\\\n",
       "\\end{tabular}\n"
      ],
      "text/markdown": [
       "\n",
       "A tibble: 6 × 6\n",
       "\n",
       "| variables &lt;chr&gt; | types &lt;chr&gt; | missing_count &lt;int&gt; | missing_percent &lt;dbl&gt; | unique_count &lt;int&gt; | unique_rate &lt;dbl&gt; |\n",
       "|---|---|---|---|---|---|\n",
       "| Ozone   | integer | 37 | 24.183007 |  68 | 0.44444444 |\n",
       "| Solar.R | integer |  7 |  4.575163 | 118 | 0.77124183 |\n",
       "| Wind    | numeric |  0 |  0.000000 |  31 | 0.20261438 |\n",
       "| Temp    | integer |  0 |  0.000000 |  40 | 0.26143791 |\n",
       "| Month   | integer |  0 |  0.000000 |   5 | 0.03267974 |\n",
       "| Day     | integer |  0 |  0.000000 |  31 | 0.20261438 |\n",
       "\n"
      ],
      "text/plain": [
       "        variables types   missing_count missing_percent unique_count\n",
       "Ozone   Ozone     integer 37            24.183007        68         \n",
       "Solar.R Solar.R   integer  7             4.575163       118         \n",
       "Wind    Wind      numeric  0             0.000000        31         \n",
       "Temp    Temp      integer  0             0.000000        40         \n",
       "Month   Month     integer  0             0.000000         5         \n",
       "Day     Day       integer  0             0.000000        31         \n",
       "        unique_rate\n",
       "Ozone   0.44444444 \n",
       "Solar.R 0.77124183 \n",
       "Wind    0.20261438 \n",
       "Temp    0.26143791 \n",
       "Month   0.03267974 \n",
       "Day     0.20261438 "
      ]
     },
     "metadata": {},
     "output_type": "display_data"
    }
   ],
   "source": [
    "diagnose(airquality)"
   ]
  },
  {
   "cell_type": "markdown",
   "id": "06d2c8a8-3615-4db4-8415-53f5bb7e24cd",
   "metadata": {},
   "source": [
    "- `variables` : variable names\n",
    "- `types` : the data type of the variables\n",
    "- `missing_count` : number of missing values\n",
    "- `missing_percent` : percentage of missing values\n",
    "- `unique_count` : number of unique values\n",
    "- `unique_rate` : rate of unique value. unique_count / number of observation"
   ]
  },
  {
   "cell_type": "markdown",
   "id": "e17c36f6-1285-46ca-a1cf-19f052040196",
   "metadata": {},
   "source": [
    "### 3.2 Diagnose Numeric Variable\n",
    "Only Numeric Variable"
   ]
  },
  {
   "cell_type": "code",
   "execution_count": 10,
   "id": "8d568519-7dd6-44cb-a975-01147dc04949",
   "metadata": {},
   "outputs": [
    {
     "data": {
      "text/html": [
       "<table class=\"dataframe\">\n",
       "<caption>A data.frame: 6 × 10</caption>\n",
       "<thead>\n",
       "\t<tr><th scope=col>variables</th><th scope=col>min</th><th scope=col>Q1</th><th scope=col>mean</th><th scope=col>median</th><th scope=col>Q3</th><th scope=col>max</th><th scope=col>zero</th><th scope=col>minus</th><th scope=col>outlier</th></tr>\n",
       "\t<tr><th scope=col>&lt;chr&gt;</th><th scope=col>&lt;dbl&gt;</th><th scope=col>&lt;dbl&gt;</th><th scope=col>&lt;dbl&gt;</th><th scope=col>&lt;dbl&gt;</th><th scope=col>&lt;dbl&gt;</th><th scope=col>&lt;dbl&gt;</th><th scope=col>&lt;int&gt;</th><th scope=col>&lt;int&gt;</th><th scope=col>&lt;int&gt;</th></tr>\n",
       "</thead>\n",
       "<tbody>\n",
       "\t<tr><td>Ozone  </td><td> 1.0</td><td> 18.00</td><td> 42.129310</td><td> 31.5</td><td> 63.25</td><td>168.0</td><td>0</td><td>0</td><td>2</td></tr>\n",
       "\t<tr><td>Solar.R</td><td> 7.0</td><td>115.75</td><td>185.931507</td><td>205.0</td><td>258.75</td><td>334.0</td><td>0</td><td>0</td><td>0</td></tr>\n",
       "\t<tr><td>Wind   </td><td> 1.7</td><td>  7.40</td><td>  9.957516</td><td>  9.7</td><td> 11.50</td><td> 20.7</td><td>0</td><td>0</td><td>3</td></tr>\n",
       "\t<tr><td>Temp   </td><td>56.0</td><td> 72.00</td><td> 77.882353</td><td> 79.0</td><td> 85.00</td><td> 97.0</td><td>0</td><td>0</td><td>0</td></tr>\n",
       "\t<tr><td>Month  </td><td> 5.0</td><td>  6.00</td><td>  6.993464</td><td>  7.0</td><td>  8.00</td><td>  9.0</td><td>0</td><td>0</td><td>0</td></tr>\n",
       "\t<tr><td>Day    </td><td> 1.0</td><td>  8.00</td><td> 15.803922</td><td> 16.0</td><td> 23.00</td><td> 31.0</td><td>0</td><td>0</td><td>0</td></tr>\n",
       "</tbody>\n",
       "</table>\n"
      ],
      "text/latex": [
       "A data.frame: 6 × 10\n",
       "\\begin{tabular}{llllllllll}\n",
       " variables & min & Q1 & mean & median & Q3 & max & zero & minus & outlier\\\\\n",
       " <chr> & <dbl> & <dbl> & <dbl> & <dbl> & <dbl> & <dbl> & <int> & <int> & <int>\\\\\n",
       "\\hline\n",
       "\t Ozone   &  1.0 &  18.00 &  42.129310 &  31.5 &  63.25 & 168.0 & 0 & 0 & 2\\\\\n",
       "\t Solar.R &  7.0 & 115.75 & 185.931507 & 205.0 & 258.75 & 334.0 & 0 & 0 & 0\\\\\n",
       "\t Wind    &  1.7 &   7.40 &   9.957516 &   9.7 &  11.50 &  20.7 & 0 & 0 & 3\\\\\n",
       "\t Temp    & 56.0 &  72.00 &  77.882353 &  79.0 &  85.00 &  97.0 & 0 & 0 & 0\\\\\n",
       "\t Month   &  5.0 &   6.00 &   6.993464 &   7.0 &   8.00 &   9.0 & 0 & 0 & 0\\\\\n",
       "\t Day     &  1.0 &   8.00 &  15.803922 &  16.0 &  23.00 &  31.0 & 0 & 0 & 0\\\\\n",
       "\\end{tabular}\n"
      ],
      "text/markdown": [
       "\n",
       "A data.frame: 6 × 10\n",
       "\n",
       "| variables &lt;chr&gt; | min &lt;dbl&gt; | Q1 &lt;dbl&gt; | mean &lt;dbl&gt; | median &lt;dbl&gt; | Q3 &lt;dbl&gt; | max &lt;dbl&gt; | zero &lt;int&gt; | minus &lt;int&gt; | outlier &lt;int&gt; |\n",
       "|---|---|---|---|---|---|---|---|---|---|\n",
       "| Ozone   |  1.0 |  18.00 |  42.129310 |  31.5 |  63.25 | 168.0 | 0 | 0 | 2 |\n",
       "| Solar.R |  7.0 | 115.75 | 185.931507 | 205.0 | 258.75 | 334.0 | 0 | 0 | 0 |\n",
       "| Wind    |  1.7 |   7.40 |   9.957516 |   9.7 |  11.50 |  20.7 | 0 | 0 | 3 |\n",
       "| Temp    | 56.0 |  72.00 |  77.882353 |  79.0 |  85.00 |  97.0 | 0 | 0 | 0 |\n",
       "| Month   |  5.0 |   6.00 |   6.993464 |   7.0 |   8.00 |   9.0 | 0 | 0 | 0 |\n",
       "| Day     |  1.0 |   8.00 |  15.803922 |  16.0 |  23.00 |  31.0 | 0 | 0 | 0 |\n",
       "\n"
      ],
      "text/plain": [
       "  variables min  Q1     mean       median Q3     max   zero minus outlier\n",
       "1 Ozone      1.0  18.00  42.129310  31.5   63.25 168.0 0    0     2      \n",
       "2 Solar.R    7.0 115.75 185.931507 205.0  258.75 334.0 0    0     0      \n",
       "3 Wind       1.7   7.40   9.957516   9.7   11.50  20.7 0    0     3      \n",
       "4 Temp      56.0  72.00  77.882353  79.0   85.00  97.0 0    0     0      \n",
       "5 Month      5.0   6.00   6.993464   7.0    8.00   9.0 0    0     0      \n",
       "6 Day        1.0   8.00  15.803922  16.0   23.00  31.0 0    0     0      "
      ]
     },
     "metadata": {},
     "output_type": "display_data"
    }
   ],
   "source": [
    "diagnose_numeric(airquality)"
   ]
  },
  {
   "cell_type": "code",
   "execution_count": 12,
   "id": "ca2f6141-a087-409e-8a5c-85a48d97e5e8",
   "metadata": {},
   "outputs": [],
   "source": [
    "#diagnose_web_report(airquality)"
   ]
  }
 ],
 "metadata": {
  "kernelspec": {
   "display_name": "R",
   "language": "R",
   "name": "ir"
  },
  "language_info": {
   "codemirror_mode": "r",
   "file_extension": ".r",
   "mimetype": "text/x-r-source",
   "name": "R",
   "pygments_lexer": "r",
   "version": "4.4.1"
  }
 },
 "nbformat": 4,
 "nbformat_minor": 5
}
