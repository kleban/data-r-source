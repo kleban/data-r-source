{
 "cells": [
  {
   "cell_type": "markdown",
   "id": "98a5853a-1190-4fac-8cd4-5da1462c2e88",
   "metadata": {},
   "source": [
    "---\n",
    "\n",
    "author: Юрій Клебан\n",
    "\n",
    "---"
   ]
  },
  {
   "cell_type": "markdown",
   "id": "45318bbc",
   "metadata": {},
   "source": [
    "# Sorting with  **`arrange()`**"
   ]
  },
  {
   "cell_type": "markdown",
   "id": "4c63f4e2-5c06-4962-9b8c-b6dbb6c3c8f6",
   "metadata": {},
   "source": [
    "Before start load packages"
   ]
  },
  {
   "cell_type": "code",
   "execution_count": 2,
   "id": "4c9a28ab-9102-4b94-96eb-cd2543ebf4d9",
   "metadata": {},
   "outputs": [],
   "source": [
    "library(dplyr) # for demos\n",
    "#install.packages(\"gapminder\")\n",
    "library(gapminder)  # load package and dataset"
   ]
  },
  {
   "cell_type": "markdown",
   "id": "54b415b2",
   "metadata": {},
   "source": [
    "`arrange(.data, …)` function order rows by values of a column or columns (low to high)You can use with `desc()` to order from high to low. \n",
    "\n",
    "For example, we need to select top 10 countries in 2002  by lifeExp variable."
   ]
  },
  {
   "cell_type": "code",
   "execution_count": 3,
   "id": "9a2f273e",
   "metadata": {
    "vscode": {
     "languageId": "r"
    }
   },
   "outputs": [
    {
     "data": {
      "text/html": [
       "<table class=\"dataframe\">\n",
       "<caption>A tibble: 10 × 6</caption>\n",
       "<thead>\n",
       "\t<tr><th scope=col>country</th><th scope=col>continent</th><th scope=col>year</th><th scope=col>lifeExp</th><th scope=col>pop</th><th scope=col>gdpPercap</th></tr>\n",
       "\t<tr><th scope=col>&lt;fct&gt;</th><th scope=col>&lt;fct&gt;</th><th scope=col>&lt;int&gt;</th><th scope=col>&lt;dbl&gt;</th><th scope=col>&lt;int&gt;</th><th scope=col>&lt;dbl&gt;</th></tr>\n",
       "</thead>\n",
       "<tbody>\n",
       "\t<tr><td>Australia       </td><td>Oceania </td><td>2002</td><td>80.370</td><td> 19546792</td><td>30687.75</td></tr>\n",
       "\t<tr><td>Canada          </td><td>Americas</td><td>2002</td><td>79.770</td><td> 31902268</td><td>33328.97</td></tr>\n",
       "\t<tr><td>Hong Kong, China</td><td>Asia    </td><td>2002</td><td>81.495</td><td>  6762476</td><td>30209.02</td></tr>\n",
       "\t<tr><td>Iceland         </td><td>Europe  </td><td>2002</td><td>80.500</td><td>   288030</td><td>31163.20</td></tr>\n",
       "\t<tr><td>Israel          </td><td>Asia    </td><td>2002</td><td>79.696</td><td>  6029529</td><td>21905.60</td></tr>\n",
       "\t<tr><td>Italy           </td><td>Europe  </td><td>2002</td><td>80.240</td><td> 57926999</td><td>27968.10</td></tr>\n",
       "\t<tr><td>Japan           </td><td>Asia    </td><td>2002</td><td>82.000</td><td>127065841</td><td>28604.59</td></tr>\n",
       "\t<tr><td>Spain           </td><td>Europe  </td><td>2002</td><td>79.780</td><td> 40152517</td><td>24835.47</td></tr>\n",
       "\t<tr><td>Sweden          </td><td>Europe  </td><td>2002</td><td>80.040</td><td>  8954175</td><td>29341.63</td></tr>\n",
       "\t<tr><td>Switzerland     </td><td>Europe  </td><td>2002</td><td>80.620</td><td>  7361757</td><td>34480.96</td></tr>\n",
       "</tbody>\n",
       "</table>\n"
      ],
      "text/latex": [
       "A tibble: 10 × 6\n",
       "\\begin{tabular}{llllll}\n",
       " country & continent & year & lifeExp & pop & gdpPercap\\\\\n",
       " <fct> & <fct> & <int> & <dbl> & <int> & <dbl>\\\\\n",
       "\\hline\n",
       "\t Australia        & Oceania  & 2002 & 80.370 &  19546792 & 30687.75\\\\\n",
       "\t Canada           & Americas & 2002 & 79.770 &  31902268 & 33328.97\\\\\n",
       "\t Hong Kong, China & Asia     & 2002 & 81.495 &   6762476 & 30209.02\\\\\n",
       "\t Iceland          & Europe   & 2002 & 80.500 &    288030 & 31163.20\\\\\n",
       "\t Israel           & Asia     & 2002 & 79.696 &   6029529 & 21905.60\\\\\n",
       "\t Italy            & Europe   & 2002 & 80.240 &  57926999 & 27968.10\\\\\n",
       "\t Japan            & Asia     & 2002 & 82.000 & 127065841 & 28604.59\\\\\n",
       "\t Spain            & Europe   & 2002 & 79.780 &  40152517 & 24835.47\\\\\n",
       "\t Sweden           & Europe   & 2002 & 80.040 &   8954175 & 29341.63\\\\\n",
       "\t Switzerland      & Europe   & 2002 & 80.620 &   7361757 & 34480.96\\\\\n",
       "\\end{tabular}\n"
      ],
      "text/markdown": [
       "\n",
       "A tibble: 10 × 6\n",
       "\n",
       "| country &lt;fct&gt; | continent &lt;fct&gt; | year &lt;int&gt; | lifeExp &lt;dbl&gt; | pop &lt;int&gt; | gdpPercap &lt;dbl&gt; |\n",
       "|---|---|---|---|---|---|\n",
       "| Australia        | Oceania  | 2002 | 80.370 |  19546792 | 30687.75 |\n",
       "| Canada           | Americas | 2002 | 79.770 |  31902268 | 33328.97 |\n",
       "| Hong Kong, China | Asia     | 2002 | 81.495 |   6762476 | 30209.02 |\n",
       "| Iceland          | Europe   | 2002 | 80.500 |    288030 | 31163.20 |\n",
       "| Israel           | Asia     | 2002 | 79.696 |   6029529 | 21905.60 |\n",
       "| Italy            | Europe   | 2002 | 80.240 |  57926999 | 27968.10 |\n",
       "| Japan            | Asia     | 2002 | 82.000 | 127065841 | 28604.59 |\n",
       "| Spain            | Europe   | 2002 | 79.780 |  40152517 | 24835.47 |\n",
       "| Sweden           | Europe   | 2002 | 80.040 |   8954175 | 29341.63 |\n",
       "| Switzerland      | Europe   | 2002 | 80.620 |   7361757 | 34480.96 |\n",
       "\n"
      ],
      "text/plain": [
       "   country          continent year lifeExp pop       gdpPercap\n",
       "1  Australia        Oceania   2002 80.370   19546792 30687.75 \n",
       "2  Canada           Americas  2002 79.770   31902268 33328.97 \n",
       "3  Hong Kong, China Asia      2002 81.495    6762476 30209.02 \n",
       "4  Iceland          Europe    2002 80.500     288030 31163.20 \n",
       "5  Israel           Asia      2002 79.696    6029529 21905.60 \n",
       "6  Italy            Europe    2002 80.240   57926999 27968.10 \n",
       "7  Japan            Asia      2002 82.000  127065841 28604.59 \n",
       "8  Spain            Europe    2002 79.780   40152517 24835.47 \n",
       "9  Sweden           Europe    2002 80.040    8954175 29341.63 \n",
       "10 Switzerland      Europe    2002 80.620    7361757 34480.96 "
      ]
     },
     "metadata": {},
     "output_type": "display_data"
    }
   ],
   "source": [
    "data2002 <- gapminder |>  \n",
    "                filter(year == 2002) |>\n",
    "                top_n(10, lifeExp) # select top 10 by lifeExp value\n",
    "data2002"
   ]
  },
  {
   "cell_type": "code",
   "execution_count": 8,
   "id": "86736fe0",
   "metadata": {
    "vscode": {
     "languageId": "r"
    }
   },
   "outputs": [
    {
     "data": {
      "text/html": [
       "<table class=\"dataframe\">\n",
       "<caption>A tibble: 6 × 6</caption>\n",
       "<thead>\n",
       "\t<tr><th scope=col>country</th><th scope=col>continent</th><th scope=col>year</th><th scope=col>lifeExp</th><th scope=col>pop</th><th scope=col>gdpPercap</th></tr>\n",
       "\t<tr><th scope=col>&lt;fct&gt;</th><th scope=col>&lt;fct&gt;</th><th scope=col>&lt;int&gt;</th><th scope=col>&lt;dbl&gt;</th><th scope=col>&lt;int&gt;</th><th scope=col>&lt;dbl&gt;</th></tr>\n",
       "</thead>\n",
       "<tbody>\n",
       "\t<tr><td>Iceland         </td><td>Europe </td><td>2002</td><td>80.500</td><td>  288030</td><td>31163.20</td></tr>\n",
       "\t<tr><td>Israel          </td><td>Asia   </td><td>2002</td><td>79.696</td><td> 6029529</td><td>21905.60</td></tr>\n",
       "\t<tr><td>Hong Kong, China</td><td>Asia   </td><td>2002</td><td>81.495</td><td> 6762476</td><td>30209.02</td></tr>\n",
       "\t<tr><td>Switzerland     </td><td>Europe </td><td>2002</td><td>80.620</td><td> 7361757</td><td>34480.96</td></tr>\n",
       "\t<tr><td>Sweden          </td><td>Europe </td><td>2002</td><td>80.040</td><td> 8954175</td><td>29341.63</td></tr>\n",
       "\t<tr><td>Australia       </td><td>Oceania</td><td>2002</td><td>80.370</td><td>19546792</td><td>30687.75</td></tr>\n",
       "</tbody>\n",
       "</table>\n"
      ],
      "text/latex": [
       "A tibble: 6 × 6\n",
       "\\begin{tabular}{llllll}\n",
       " country & continent & year & lifeExp & pop & gdpPercap\\\\\n",
       " <fct> & <fct> & <int> & <dbl> & <int> & <dbl>\\\\\n",
       "\\hline\n",
       "\t Iceland          & Europe  & 2002 & 80.500 &   288030 & 31163.20\\\\\n",
       "\t Israel           & Asia    & 2002 & 79.696 &  6029529 & 21905.60\\\\\n",
       "\t Hong Kong, China & Asia    & 2002 & 81.495 &  6762476 & 30209.02\\\\\n",
       "\t Switzerland      & Europe  & 2002 & 80.620 &  7361757 & 34480.96\\\\\n",
       "\t Sweden           & Europe  & 2002 & 80.040 &  8954175 & 29341.63\\\\\n",
       "\t Australia        & Oceania & 2002 & 80.370 & 19546792 & 30687.75\\\\\n",
       "\\end{tabular}\n"
      ],
      "text/markdown": [
       "\n",
       "A tibble: 6 × 6\n",
       "\n",
       "| country &lt;fct&gt; | continent &lt;fct&gt; | year &lt;int&gt; | lifeExp &lt;dbl&gt; | pop &lt;int&gt; | gdpPercap &lt;dbl&gt; |\n",
       "|---|---|---|---|---|---|\n",
       "| Iceland          | Europe  | 2002 | 80.500 |   288030 | 31163.20 |\n",
       "| Israel           | Asia    | 2002 | 79.696 |  6029529 | 21905.60 |\n",
       "| Hong Kong, China | Asia    | 2002 | 81.495 |  6762476 | 30209.02 |\n",
       "| Switzerland      | Europe  | 2002 | 80.620 |  7361757 | 34480.96 |\n",
       "| Sweden           | Europe  | 2002 | 80.040 |  8954175 | 29341.63 |\n",
       "| Australia        | Oceania | 2002 | 80.370 | 19546792 | 30687.75 |\n",
       "\n"
      ],
      "text/plain": [
       "  country          continent year lifeExp pop      gdpPercap\n",
       "1 Iceland          Europe    2002 80.500    288030 31163.20 \n",
       "2 Israel           Asia      2002 79.696   6029529 21905.60 \n",
       "3 Hong Kong, China Asia      2002 81.495   6762476 30209.02 \n",
       "4 Switzerland      Europe    2002 80.620   7361757 34480.96 \n",
       "5 Sweden           Europe    2002 80.040   8954175 29341.63 \n",
       "6 Australia        Oceania   2002 80.370  19546792 30687.75 "
      ]
     },
     "metadata": {},
     "output_type": "display_data"
    }
   ],
   "source": [
    "# sort by pop\n",
    "t <- data2002 |> arrange(pop) # you can use 1 or more sorting params like arrange(pop, year)\n",
    "head(t)"
   ]
  },
  {
   "cell_type": "code",
   "execution_count": 10,
   "id": "b4df8b32-a351-4684-8533-3b871828f81c",
   "metadata": {},
   "outputs": [
    {
     "data": {
      "text/html": [
       "<table class=\"dataframe\">\n",
       "<caption>A tibble: 6 × 6</caption>\n",
       "<thead>\n",
       "\t<tr><th scope=col>country</th><th scope=col>continent</th><th scope=col>year</th><th scope=col>lifeExp</th><th scope=col>pop</th><th scope=col>gdpPercap</th></tr>\n",
       "\t<tr><th scope=col>&lt;fct&gt;</th><th scope=col>&lt;fct&gt;</th><th scope=col>&lt;int&gt;</th><th scope=col>&lt;dbl&gt;</th><th scope=col>&lt;int&gt;</th><th scope=col>&lt;dbl&gt;</th></tr>\n",
       "</thead>\n",
       "<tbody>\n",
       "\t<tr><td>Japan    </td><td>Asia    </td><td>2002</td><td>82.00</td><td>127065841</td><td>28604.59</td></tr>\n",
       "\t<tr><td>Italy    </td><td>Europe  </td><td>2002</td><td>80.24</td><td> 57926999</td><td>27968.10</td></tr>\n",
       "\t<tr><td>Spain    </td><td>Europe  </td><td>2002</td><td>79.78</td><td> 40152517</td><td>24835.47</td></tr>\n",
       "\t<tr><td>Canada   </td><td>Americas</td><td>2002</td><td>79.77</td><td> 31902268</td><td>33328.97</td></tr>\n",
       "\t<tr><td>Australia</td><td>Oceania </td><td>2002</td><td>80.37</td><td> 19546792</td><td>30687.75</td></tr>\n",
       "\t<tr><td>Sweden   </td><td>Europe  </td><td>2002</td><td>80.04</td><td>  8954175</td><td>29341.63</td></tr>\n",
       "</tbody>\n",
       "</table>\n"
      ],
      "text/latex": [
       "A tibble: 6 × 6\n",
       "\\begin{tabular}{llllll}\n",
       " country & continent & year & lifeExp & pop & gdpPercap\\\\\n",
       " <fct> & <fct> & <int> & <dbl> & <int> & <dbl>\\\\\n",
       "\\hline\n",
       "\t Japan     & Asia     & 2002 & 82.00 & 127065841 & 28604.59\\\\\n",
       "\t Italy     & Europe   & 2002 & 80.24 &  57926999 & 27968.10\\\\\n",
       "\t Spain     & Europe   & 2002 & 79.78 &  40152517 & 24835.47\\\\\n",
       "\t Canada    & Americas & 2002 & 79.77 &  31902268 & 33328.97\\\\\n",
       "\t Australia & Oceania  & 2002 & 80.37 &  19546792 & 30687.75\\\\\n",
       "\t Sweden    & Europe   & 2002 & 80.04 &   8954175 & 29341.63\\\\\n",
       "\\end{tabular}\n"
      ],
      "text/markdown": [
       "\n",
       "A tibble: 6 × 6\n",
       "\n",
       "| country &lt;fct&gt; | continent &lt;fct&gt; | year &lt;int&gt; | lifeExp &lt;dbl&gt; | pop &lt;int&gt; | gdpPercap &lt;dbl&gt; |\n",
       "|---|---|---|---|---|---|\n",
       "| Japan     | Asia     | 2002 | 82.00 | 127065841 | 28604.59 |\n",
       "| Italy     | Europe   | 2002 | 80.24 |  57926999 | 27968.10 |\n",
       "| Spain     | Europe   | 2002 | 79.78 |  40152517 | 24835.47 |\n",
       "| Canada    | Americas | 2002 | 79.77 |  31902268 | 33328.97 |\n",
       "| Australia | Oceania  | 2002 | 80.37 |  19546792 | 30687.75 |\n",
       "| Sweden    | Europe   | 2002 | 80.04 |   8954175 | 29341.63 |\n",
       "\n"
      ],
      "text/plain": [
       "  country   continent year lifeExp pop       gdpPercap\n",
       "1 Japan     Asia      2002 82.00   127065841 28604.59 \n",
       "2 Italy     Europe    2002 80.24    57926999 27968.10 \n",
       "3 Spain     Europe    2002 79.78    40152517 24835.47 \n",
       "4 Canada    Americas  2002 79.77    31902268 33328.97 \n",
       "5 Australia Oceania   2002 80.37    19546792 30687.75 \n",
       "6 Sweden    Europe    2002 80.04     8954175 29341.63 "
      ]
     },
     "metadata": {},
     "output_type": "display_data"
    }
   ],
   "source": [
    "# sort by pop descending\n",
    "t <- data2002 |> arrange(desc(pop))\n",
    "head(t)"
   ]
  },
  {
   "cell_type": "markdown",
   "id": "f8de5135",
   "metadata": {},
   "source": [
    "---"
   ]
  },
  {
   "cell_type": "markdown",
   "id": "9592bda1",
   "metadata": {},
   "source": [
    "## Refences"
   ]
  },
  {
   "cell_type": "markdown",
   "id": "ae226f5e",
   "metadata": {},
   "source": [
    "1. [dplyr: A Grammar of Data Manipulation](https://cran.r-project.org/web/packages/dplyr/index.html) on https://cran.r-project.org/.\n",
    "2. [Data Transformation with splyr::cheat sheet](https://github.com/rstudio/cheatsheets/blob/master/data-transformation.pdf).\n",
    "3. [DPLYR TUTORIAL : DATA MANIPULATION (50 EXAMPLES)](https://www.listendata.com/2016/08/dplyr-tutorial.html) by Deepanshu Bhalla.\n",
    "5. [Dplyr Intro](https://stat545.com/dplyr-intro.html) by Stat 545.\n",
    "6.[R Dplyr Tutorial: Data Manipulation(Join) & Cleaning(Spread)](https://www.guru99.com/r-dplyr-tutorial.html). Introduction to Data Analysis\n",
    "7. [Loan Default Prediction. Beginners data set for financial analytics Kaggle](https://www.kaggle.com/kmldas/loan-default-prediction)"
   ]
  }
 ],
 "metadata": {
  "kernelspec": {
   "display_name": "R",
   "language": "R",
   "name": "ir"
  },
  "language_info": {
   "codemirror_mode": "r",
   "file_extension": ".r",
   "mimetype": "text/x-r-source",
   "name": "R",
   "pygments_lexer": "r",
   "version": "4.1.3"
  }
 },
 "nbformat": 4,
 "nbformat_minor": 5
}
