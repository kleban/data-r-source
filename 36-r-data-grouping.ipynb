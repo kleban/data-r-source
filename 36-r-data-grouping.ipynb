{
 "cells": [
  {
   "cell_type": "markdown",
   "id": "98a5853a-1190-4fac-8cd4-5da1462c2e88",
   "metadata": {},
   "source": [
    "---\n",
    "\n",
    "author: Юрій Клебан\n",
    "\n",
    "---"
   ]
  },
  {
   "cell_type": "markdown",
   "id": "45318bbc",
   "metadata": {},
   "source": [
    "# Grouping columns with **`dplyr`**"
   ]
  },
  {
   "cell_type": "markdown",
   "id": "4c63f4e2-5c06-4962-9b8c-b6dbb6c3c8f6",
   "metadata": {},
   "source": [
    "Before start load packages"
   ]
  },
  {
   "cell_type": "code",
   "execution_count": 2,
   "id": "4c9a28ab-9102-4b94-96eb-cd2543ebf4d9",
   "metadata": {},
   "outputs": [],
   "source": [
    "library(dplyr) # for demos\n",
    "#install.packages(\"gapminder\")\n",
    "library(gapminder)  # load package and dataset"
   ]
  },
  {
   "cell_type": "markdown",
   "id": "62be0748",
   "metadata": {},
   "source": [
    "## **`group_by()`** + **`summarise()`**"
   ]
  },
  {
   "cell_type": "markdown",
   "id": "329500f2",
   "metadata": {},
   "source": [
    "`group_by(.data, ..., add = FALSE)` returns copy of table grouped by defined columns."
   ]
  },
  {
   "cell_type": "markdown",
   "id": "7bf9daf6",
   "metadata": {},
   "source": [
    "Let's find average by `lifeExp` for each `continent` in `2002` (ouput is `continent`, `lifeExpAvg2002`, `countriesCount`, `year = 2002`):"
   ]
  },
  {
   "cell_type": "code",
   "execution_count": 5,
   "id": "7191cd13",
   "metadata": {
    "vscode": {
     "languageId": "r"
    }
   },
   "outputs": [
    {
     "data": {
      "text/html": [
       "<table class=\"dataframe\">\n",
       "<caption>A tibble: 5 × 3</caption>\n",
       "<thead>\n",
       "\t<tr><th scope=col>continent</th><th scope=col>lifeExpAvg2002</th><th scope=col>countriesCount</th></tr>\n",
       "\t<tr><th scope=col>&lt;fct&gt;</th><th scope=col>&lt;dbl&gt;</th><th scope=col>&lt;int&gt;</th></tr>\n",
       "</thead>\n",
       "<tbody>\n",
       "\t<tr><td>Africa  </td><td>53.32523</td><td>52</td></tr>\n",
       "\t<tr><td>Americas</td><td>72.42204</td><td>25</td></tr>\n",
       "\t<tr><td>Asia    </td><td>69.23388</td><td>33</td></tr>\n",
       "\t<tr><td>Europe  </td><td>76.70060</td><td>30</td></tr>\n",
       "\t<tr><td>Oceania </td><td>79.74000</td><td> 2</td></tr>\n",
       "</tbody>\n",
       "</table>\n"
      ],
      "text/latex": [
       "A tibble: 5 × 3\n",
       "\\begin{tabular}{lll}\n",
       " continent & lifeExpAvg2002 & countriesCount\\\\\n",
       " <fct> & <dbl> & <int>\\\\\n",
       "\\hline\n",
       "\t Africa   & 53.32523 & 52\\\\\n",
       "\t Americas & 72.42204 & 25\\\\\n",
       "\t Asia     & 69.23388 & 33\\\\\n",
       "\t Europe   & 76.70060 & 30\\\\\n",
       "\t Oceania  & 79.74000 &  2\\\\\n",
       "\\end{tabular}\n"
      ],
      "text/markdown": [
       "\n",
       "A tibble: 5 × 3\n",
       "\n",
       "| continent &lt;fct&gt; | lifeExpAvg2002 &lt;dbl&gt; | countriesCount &lt;int&gt; |\n",
       "|---|---|---|\n",
       "| Africa   | 53.32523 | 52 |\n",
       "| Americas | 72.42204 | 25 |\n",
       "| Asia     | 69.23388 | 33 |\n",
       "| Europe   | 76.70060 | 30 |\n",
       "| Oceania  | 79.74000 |  2 |\n",
       "\n"
      ],
      "text/plain": [
       "  continent lifeExpAvg2002 countriesCount\n",
       "1 Africa    53.32523       52            \n",
       "2 Americas  72.42204       25            \n",
       "3 Asia      69.23388       33            \n",
       "4 Europe    76.70060       30            \n",
       "5 Oceania   79.74000        2            "
      ]
     },
     "metadata": {},
     "output_type": "display_data"
    }
   ],
   "source": [
    "gapminder |>\n",
    "    filter(year == 2002) |> # year\n",
    "    group_by(continent) |> # grouping condition, you ca\n",
    "    summarise(\n",
    "        lifeExpAvg2002 = mean(lifeExp),\n",
    "        countriesCount = n() # n() count of rows in group  \n",
    "        ) "
   ]
  },
  {
   "cell_type": "markdown",
   "id": "5be4ebec",
   "metadata": {},
   "source": [
    "Let's find total `population` for each `continent` in `2002` (ouput is `continent`, `totalPop`, `year`):"
   ]
  },
  {
   "cell_type": "code",
   "execution_count": 6,
   "id": "bdeeb49d",
   "metadata": {
    "vscode": {
     "languageId": "r"
    }
   },
   "outputs": [
    {
     "data": {
      "text/html": [
       "<table class=\"dataframe\">\n",
       "<caption>A grouped_df: 5 × 3</caption>\n",
       "<thead>\n",
       "\t<tr><th scope=col>continent</th><th scope=col>year</th><th scope=col>totalPop</th></tr>\n",
       "\t<tr><th scope=col>&lt;fct&gt;</th><th scope=col>&lt;int&gt;</th><th scope=col>&lt;dbl&gt;</th></tr>\n",
       "</thead>\n",
       "<tbody>\n",
       "\t<tr><td>Africa  </td><td>2002</td><td> 833723916</td></tr>\n",
       "\t<tr><td>Americas</td><td>2002</td><td> 849772762</td></tr>\n",
       "\t<tr><td>Asia    </td><td>2002</td><td>3601802203</td></tr>\n",
       "\t<tr><td>Europe  </td><td>2002</td><td> 578223869</td></tr>\n",
       "\t<tr><td>Oceania </td><td>2002</td><td>  23454829</td></tr>\n",
       "</tbody>\n",
       "</table>\n"
      ],
      "text/latex": [
       "A grouped\\_df: 5 × 3\n",
       "\\begin{tabular}{lll}\n",
       " continent & year & totalPop\\\\\n",
       " <fct> & <int> & <dbl>\\\\\n",
       "\\hline\n",
       "\t Africa   & 2002 &  833723916\\\\\n",
       "\t Americas & 2002 &  849772762\\\\\n",
       "\t Asia     & 2002 & 3601802203\\\\\n",
       "\t Europe   & 2002 &  578223869\\\\\n",
       "\t Oceania  & 2002 &   23454829\\\\\n",
       "\\end{tabular}\n"
      ],
      "text/markdown": [
       "\n",
       "A grouped_df: 5 × 3\n",
       "\n",
       "| continent &lt;fct&gt; | year &lt;int&gt; | totalPop &lt;dbl&gt; |\n",
       "|---|---|---|\n",
       "| Africa   | 2002 |  833723916 |\n",
       "| Americas | 2002 |  849772762 |\n",
       "| Asia     | 2002 | 3601802203 |\n",
       "| Europe   | 2002 |  578223869 |\n",
       "| Oceania  | 2002 |   23454829 |\n",
       "\n"
      ],
      "text/plain": [
       "  continent year totalPop  \n",
       "1 Africa    2002  833723916\n",
       "2 Americas  2002  849772762\n",
       "3 Asia      2002 3601802203\n",
       "4 Europe    2002  578223869\n",
       "5 Oceania   2002   23454829"
      ]
     },
     "metadata": {},
     "output_type": "display_data"
    }
   ],
   "source": [
    "gapminder |>\n",
    "    filter(year == 2002) |> # year\n",
    "    group_by(continent, year) |> # grouping condition\n",
    "    summarise(totalPop = sum(pop), .groups = \"keep\") "
   ]
  },
  {
   "cell_type": "markdown",
   "id": "aa693c0d",
   "metadata": {},
   "source": [
    "There are additional variations of `summarise()`:\n",
    "\n",
    "- [x] `summarise_all()` - Apply funs to every column. \n",
    "- [x] `summarise_at()` - Apply funs to specific columns.  \n",
    "- [x] `summarise_if()` - Apply funs to all cols of one type."
   ]
  },
  {
   "cell_type": "markdown",
   "id": "b049fc77-4167-4e93-984e-3cfad3445061",
   "metadata": {},
   "source": [
    "---"
   ]
  },
  {
   "cell_type": "markdown",
   "id": "07e3ec24-796f-46a6-a496-4f06fdb8ad23",
   "metadata": {},
   "source": [
    "### Task on Credits (rewrite it)"
   ]
  },
  {
   "cell_type": "code",
   "execution_count": 171,
   "id": "ab4a2edd-4c44-4c9b-bcdb-2ce4c08844c7",
   "metadata": {
    "vscode": {
     "languageId": "r"
    }
   },
   "outputs": [
    {
     "data": {
      "text/html": [
       "63"
      ],
      "text/latex": [
       "63"
      ],
      "text/markdown": [
       "63"
      ],
      "text/plain": [
       "[1] 63"
      ]
     },
     "metadata": {},
     "output_type": "display_data"
    },
    {
     "data": {
      "text/html": [
       "62"
      ],
      "text/latex": [
       "62"
      ],
      "text/markdown": [
       "62"
      ],
      "text/plain": [
       "[1] 62"
      ]
     },
     "metadata": {},
     "output_type": "display_data"
    },
    {
     "data": {
      "image/png": "[encoded data removed]",
      "text/plain": [
       "plot without title"
      ]
     },
     "metadata": {
      "image/png": {
       "height": 420,
       "width": 420
      }
     },
     "output_type": "display_data"
    }
   ],
   "source": [
    "library(ISLR)\n",
    "\n",
    "group_inc <- aggregate(Income ~ Age + Gender, data = Credit, mean)\n",
    "\n",
    "m_data <- group_inc[group_inc$Gender == \" Male\", ]\n",
    "nrow(m_data)\n",
    "\n",
    "f_data <- group_inc[group_inc$Gender == \"Female\", ]\n",
    "nrow(f_data)\n",
    "with(m_data, plot(Age, Income, type = \"l\", col=\"red\"))\n",
    "with(f_data, lines(Age, Income, type = \"l\", col =\"blue\"))"
   ]
  },
  {
   "cell_type": "code",
   "execution_count": 172,
   "id": "31e256a4-3712-43b7-8a56-45f30bef612f",
   "metadata": {
    "vscode": {
     "languageId": "r"
    }
   },
   "outputs": [
    {
     "name": "stderr",
     "output_type": "stream",
     "text": [
      "\u001b[1m\u001b[22m`summarise()` has grouped output by 'Age'. You can override using the `.groups`\n",
      "argument.\n"
     ]
    },
    {
     "data": {
      "text/html": [
       "63"
      ],
      "text/latex": [
       "63"
      ],
      "text/markdown": [
       "63"
      ],
      "text/plain": [
       "[1] 63"
      ]
     },
     "metadata": {},
     "output_type": "display_data"
    },
    {
     "data": {
      "text/html": [
       "62"
      ],
      "text/latex": [
       "62"
      ],
      "text/markdown": [
       "62"
      ],
      "text/plain": [
       "[1] 62"
      ]
     },
     "metadata": {},
     "output_type": "display_data"
    },
    {
     "data": {
      "image/png": "[encoded data removed]",
      "text/plain": [
       "plot without title"
      ]
     },
     "metadata": {
      "image/png": {
       "height": 420,
       "width": 420
      }
     },
     "output_type": "display_data"
    }
   ],
   "source": [
    "cd <- Credit %>%\n",
    "select(Income, Age, Gender) %>%\n",
    "group_by(Age, Gender) %>%\n",
    "summarize(Income = mean(Income))\n",
    "\n",
    "m_data <- cd %>% filter(Gender == \" Male\")\n",
    "nrow(m_data)\n",
    "\n",
    "f_data <- cd %>% filter(Gender == \"Female\")\n",
    "nrow(f_data)\n",
    "\n",
    "with(m_data, plot(Age, Income, type = \"l\", col=\"red\"))\n",
    "with(f_data, lines(Age, Income, type = \"l\", col =\"blue\"))\n"
   ]
  },
  {
   "cell_type": "markdown",
   "id": "f8de5135",
   "metadata": {},
   "source": [
    "---"
   ]
  },
  {
   "cell_type": "markdown",
   "id": "9592bda1",
   "metadata": {},
   "source": [
    "## Refences"
   ]
  },
  {
   "cell_type": "markdown",
   "id": "ae226f5e",
   "metadata": {},
   "source": [
    "1. [dplyr: A Grammar of Data Manipulation](https://cran.r-project.org/web/packages/dplyr/index.html) on https://cran.r-project.org/.\n",
    "2. [Data Transformation with splyr::cheat sheet](https://github.com/rstudio/cheatsheets/blob/master/data-transformation.pdf).\n",
    "3. [DPLYR TUTORIAL : DATA MANIPULATION (50 EXAMPLES)](https://www.listendata.com/2016/08/dplyr-tutorial.html) by Deepanshu Bhalla.\n",
    "5. [Dplyr Intro](https://stat545.com/dplyr-intro.html) by Stat 545.\n",
    "6.[R Dplyr Tutorial: Data Manipulation(Join) & Cleaning(Spread)](https://www.guru99.com/r-dplyr-tutorial.html). Introduction to Data Analysis\n",
    "7. [Loan Default Prediction. Beginners data set for financial analytics Kaggle](https://www.kaggle.com/kmldas/loan-default-prediction)"
   ]
  }
 ],
 "metadata": {
  "kernelspec": {
   "display_name": "R",
   "language": "R",
   "name": "ir"
  },
  "language_info": {
   "codemirror_mode": "r",
   "file_extension": ".r",
   "mimetype": "text/x-r-source",
   "name": "R",
   "pygments_lexer": "r",
   "version": "4.1.3"
  }
 },
 "nbformat": 4,
 "nbformat_minor": 5
}
