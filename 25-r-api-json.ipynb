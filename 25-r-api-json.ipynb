{
 "cells": [
  {
   "cell_type": "code",
   "execution_count": null,
   "id": "9b1fdc2d-3d74-48d7-92bf-bf2ab89e142d",
   "metadata": {},
   "outputs": [],
   "source": []
  },
  {
   "cell_type": "markdown",
   "id": "c2414ff5",
   "metadata": {},
   "source": [
    "# JSON and API"
   ]
  },
  {
   "cell_type": "markdown",
   "id": "28945018",
   "metadata": {
    "tags": []
   },
   "source": [
    "## What is JSON?"
   ]
  },
  {
   "cell_type": "markdown",
   "id": "482c8486",
   "metadata": {},
   "source": [
    "`JSON` (`JavaScript Object Notation`) is a lightweight data-interchange format. It is easy for humans to read and write. It is easy for machines to parse and generate. It is based on a subset of the JavaScript Programming Language Standard.\n",
    "\n",
    "`API` is the acronym for `Application Programming Interface`, which is a software intermediary that allows two applications to talk to each other. "
   ]
  },
  {
   "cell_type": "markdown",
   "id": "fd4979c1",
   "metadata": {},
   "source": [
    "One of the most popular packages for `json` is `jsonlite`."
   ]
  },
  {
   "cell_type": "code",
   "execution_count": 151,
   "id": "e3072dae",
   "metadata": {},
   "outputs": [],
   "source": [
    "#install.packages(\"jsonlite\")\n",
    "library(jsonlite)"
   ]
  },
  {
   "cell_type": "markdown",
   "id": "79e54d0f",
   "metadata": {},
   "source": [
    "Let's use readinginformation about BTC and USDT crypro currencies from Binance"
   ]
  },
  {
   "cell_type": "code",
   "execution_count": 152,
   "id": "3fc75779",
   "metadata": {},
   "outputs": [
    {
     "name": "stdout",
     "output_type": "stream",
     "text": [
      "[1] \"https://api.binance.com/api/v3/klines?symbol=BTCUSDT&interval=1h&limit=100\"\n"
     ]
    }
   ],
   "source": [
    "market = 'BTCUSDT'\n",
    "interval = '1h'\n",
    "limit = 100\n",
    "\n",
    "url <- paste0(url = \"https://api.binance.com/api/v3/klines?symbol=\", market ,\"&interval=\", interval,\"&limit=\", limit)\n",
    "print(url) # complete request URL"
   ]
  },
  {
   "cell_type": "markdown",
   "id": "1d32da24",
   "metadata": {},
   "source": [
    "On the next stage you need use fromJSON() function to get data.\n",
    "\n",
    "More details about requests to Binanace at https://github.com/binance/binance-spot-api-docs/blob/master/rest-api.md#klinecandlestick-data\n",
    "\n",
    "If you enter 'url' value at browser response is going to be like this:"
   ]
  },
  {
   "cell_type": "markdown",
   "id": "de2a47a6",
   "metadata": {},
   "source": [
    "```json\n",
    "[\n",
    "  [\n",
    "    1499040000000,      // Open time\n",
    "    \"0.01634790\",       // Open\n",
    "    \"0.80000000\",       // High\n",
    "    \"0.01575800\",       // Low\n",
    "    \"0.01577100\",       // Close\n",
    "    \"148976.11427815\",  // Volume\n",
    "    1499644799999,      // Close time\n",
    "    \"2434.19055334\",    // Quote asset volume\n",
    "    308,                // Number of trades\n",
    "    \"1756.87402397\",    // Taker buy base asset volume\n",
    "    \"28.46694368\",      // Taker buy quote asset volume\n",
    "    \"17928899.62484339\" // Ignore.\n",
    "  ]\n",
    "]\n",
    "```"
   ]
  },
  {
   "cell_type": "code",
   "execution_count": 153,
   "id": "865705ec",
   "metadata": {},
   "outputs": [
    {
     "data": {
      "text/html": [
       "<table class=\"dataframe\">\n",
       "<caption>A matrix: 6 × 7 of type chr</caption>\n",
       "<tbody>\n",
       "\t<tr><td>1650513600000</td><td>41693.58000000</td><td>41750.00000000</td><td>41525.00000000</td><td>41610.01000000</td><td>1138.64337000</td><td>1650517199999</td></tr>\n",
       "\t<tr><td>1650517200000</td><td>41610.01000000</td><td>41699.00000000</td><td>41434.44000000</td><td>41462.76000000</td><td>1229.25936000</td><td>1650520799999</td></tr>\n",
       "\t<tr><td>1650520800000</td><td>41462.75000000</td><td>41600.00000000</td><td>41419.20000000</td><td>41522.38000000</td><td>1049.71244000</td><td>1650524399999</td></tr>\n",
       "\t<tr><td>1650524400000</td><td>41522.38000000</td><td>41940.00000000</td><td>41451.00000000</td><td>41855.69000000</td><td>1928.48091000</td><td>1650527999999</td></tr>\n",
       "\t<tr><td>1.650528e+12 </td><td>41855.69000000</td><td>42050.30000000</td><td>41741.10000000</td><td>41922.97000000</td><td>2518.04090000</td><td>1650531599999</td></tr>\n",
       "\t<tr><td>1650531600000</td><td>41922.96000000</td><td>41971.90000000</td><td>41743.96000000</td><td>41803.70000000</td><td>1655.76993000</td><td>1650535199999</td></tr>\n",
       "</tbody>\n",
       "</table>\n"
      ],
      "text/latex": [
       "A matrix: 6 × 7 of type chr\n",
       "\\begin{tabular}{lllllll}\n",
       "\t 1650513600000 & 41693.58000000 & 41750.00000000 & 41525.00000000 & 41610.01000000 & 1138.64337000 & 1650517199999\\\\\n",
       "\t 1650517200000 & 41610.01000000 & 41699.00000000 & 41434.44000000 & 41462.76000000 & 1229.25936000 & 1650520799999\\\\\n",
       "\t 1650520800000 & 41462.75000000 & 41600.00000000 & 41419.20000000 & 41522.38000000 & 1049.71244000 & 1650524399999\\\\\n",
       "\t 1650524400000 & 41522.38000000 & 41940.00000000 & 41451.00000000 & 41855.69000000 & 1928.48091000 & 1650527999999\\\\\n",
       "\t 1.650528e+12  & 41855.69000000 & 42050.30000000 & 41741.10000000 & 41922.97000000 & 2518.04090000 & 1650531599999\\\\\n",
       "\t 1650531600000 & 41922.96000000 & 41971.90000000 & 41743.96000000 & 41803.70000000 & 1655.76993000 & 1650535199999\\\\\n",
       "\\end{tabular}\n"
      ],
      "text/markdown": [
       "\n",
       "A matrix: 6 × 7 of type chr\n",
       "\n",
       "| 1650513600000 | 41693.58000000 | 41750.00000000 | 41525.00000000 | 41610.01000000 | 1138.64337000 | 1650517199999 |\n",
       "| 1650517200000 | 41610.01000000 | 41699.00000000 | 41434.44000000 | 41462.76000000 | 1229.25936000 | 1650520799999 |\n",
       "| 1650520800000 | 41462.75000000 | 41600.00000000 | 41419.20000000 | 41522.38000000 | 1049.71244000 | 1650524399999 |\n",
       "| 1650524400000 | 41522.38000000 | 41940.00000000 | 41451.00000000 | 41855.69000000 | 1928.48091000 | 1650527999999 |\n",
       "| 1.650528e+12  | 41855.69000000 | 42050.30000000 | 41741.10000000 | 41922.97000000 | 2518.04090000 | 1650531599999 |\n",
       "| 1650531600000 | 41922.96000000 | 41971.90000000 | 41743.96000000 | 41803.70000000 | 1655.76993000 | 1650535199999 |\n",
       "\n"
      ],
      "text/plain": [
       "     [,1]          [,2]           [,3]           [,4]           [,5]          \n",
       "[1,] 1650513600000 41693.58000000 41750.00000000 41525.00000000 41610.01000000\n",
       "[2,] 1650517200000 41610.01000000 41699.00000000 41434.44000000 41462.76000000\n",
       "[3,] 1650520800000 41462.75000000 41600.00000000 41419.20000000 41522.38000000\n",
       "[4,] 1650524400000 41522.38000000 41940.00000000 41451.00000000 41855.69000000\n",
       "[5,] 1.650528e+12  41855.69000000 42050.30000000 41741.10000000 41922.97000000\n",
       "[6,] 1650531600000 41922.96000000 41971.90000000 41743.96000000 41803.70000000\n",
       "     [,6]          [,7]         \n",
       "[1,] 1138.64337000 1650517199999\n",
       "[2,] 1229.25936000 1650520799999\n",
       "[3,] 1049.71244000 1650524399999\n",
       "[4,] 1928.48091000 1650527999999\n",
       "[5,] 2518.04090000 1650531599999\n",
       "[6,] 1655.76993000 1650535199999"
      ]
     },
     "metadata": {},
     "output_type": "display_data"
    }
   ],
   "source": [
    "data <- fromJSON(url) # get json and transform it to list()\n",
    "data <- data[, 1:7] # let's left only 1:7 columns (from Open time to Close time)\n",
    "head(data)"
   ]
  },
  {
   "cell_type": "code",
   "execution_count": 154,
   "id": "f76208c6",
   "metadata": {},
   "outputs": [
    {
     "data": {
      "text/html": [
       "'character'"
      ],
      "text/latex": [
       "'character'"
      ],
      "text/markdown": [
       "'character'"
      ],
      "text/plain": [
       "[1] \"character\""
      ]
     },
     "metadata": {},
     "output_type": "display_data"
    },
    {
     "data": {
      "text/html": [
       "<table class=\"dataframe\">\n",
       "<caption>A data.frame: 6 × 7</caption>\n",
       "<thead>\n",
       "\t<tr><th></th><th scope=col>V1</th><th scope=col>V2</th><th scope=col>V3</th><th scope=col>V4</th><th scope=col>V5</th><th scope=col>V6</th><th scope=col>V7</th></tr>\n",
       "\t<tr><th></th><th scope=col>&lt;chr&gt;</th><th scope=col>&lt;chr&gt;</th><th scope=col>&lt;chr&gt;</th><th scope=col>&lt;chr&gt;</th><th scope=col>&lt;chr&gt;</th><th scope=col>&lt;chr&gt;</th><th scope=col>&lt;chr&gt;</th></tr>\n",
       "</thead>\n",
       "<tbody>\n",
       "\t<tr><th scope=row>1</th><td>1650513600000</td><td>41693.58000000</td><td>41750.00000000</td><td>41525.00000000</td><td>41610.01000000</td><td>1138.64337000</td><td>1650517199999</td></tr>\n",
       "\t<tr><th scope=row>2</th><td>1650517200000</td><td>41610.01000000</td><td>41699.00000000</td><td>41434.44000000</td><td>41462.76000000</td><td>1229.25936000</td><td>1650520799999</td></tr>\n",
       "\t<tr><th scope=row>3</th><td>1650520800000</td><td>41462.75000000</td><td>41600.00000000</td><td>41419.20000000</td><td>41522.38000000</td><td>1049.71244000</td><td>1650524399999</td></tr>\n",
       "\t<tr><th scope=row>4</th><td>1650524400000</td><td>41522.38000000</td><td>41940.00000000</td><td>41451.00000000</td><td>41855.69000000</td><td>1928.48091000</td><td>1650527999999</td></tr>\n",
       "\t<tr><th scope=row>5</th><td>1.650528e+12 </td><td>41855.69000000</td><td>42050.30000000</td><td>41741.10000000</td><td>41922.97000000</td><td>2518.04090000</td><td>1650531599999</td></tr>\n",
       "\t<tr><th scope=row>6</th><td>1650531600000</td><td>41922.96000000</td><td>41971.90000000</td><td>41743.96000000</td><td>41803.70000000</td><td>1655.76993000</td><td>1650535199999</td></tr>\n",
       "</tbody>\n",
       "</table>\n"
      ],
      "text/latex": [
       "A data.frame: 6 × 7\n",
       "\\begin{tabular}{r|lllllll}\n",
       "  & V1 & V2 & V3 & V4 & V5 & V6 & V7\\\\\n",
       "  & <chr> & <chr> & <chr> & <chr> & <chr> & <chr> & <chr>\\\\\n",
       "\\hline\n",
       "\t1 & 1650513600000 & 41693.58000000 & 41750.00000000 & 41525.00000000 & 41610.01000000 & 1138.64337000 & 1650517199999\\\\\n",
       "\t2 & 1650517200000 & 41610.01000000 & 41699.00000000 & 41434.44000000 & 41462.76000000 & 1229.25936000 & 1650520799999\\\\\n",
       "\t3 & 1650520800000 & 41462.75000000 & 41600.00000000 & 41419.20000000 & 41522.38000000 & 1049.71244000 & 1650524399999\\\\\n",
       "\t4 & 1650524400000 & 41522.38000000 & 41940.00000000 & 41451.00000000 & 41855.69000000 & 1928.48091000 & 1650527999999\\\\\n",
       "\t5 & 1.650528e+12  & 41855.69000000 & 42050.30000000 & 41741.10000000 & 41922.97000000 & 2518.04090000 & 1650531599999\\\\\n",
       "\t6 & 1650531600000 & 41922.96000000 & 41971.90000000 & 41743.96000000 & 41803.70000000 & 1655.76993000 & 1650535199999\\\\\n",
       "\\end{tabular}\n"
      ],
      "text/markdown": [
       "\n",
       "A data.frame: 6 × 7\n",
       "\n",
       "| <!--/--> | V1 &lt;chr&gt; | V2 &lt;chr&gt; | V3 &lt;chr&gt; | V4 &lt;chr&gt; | V5 &lt;chr&gt; | V6 &lt;chr&gt; | V7 &lt;chr&gt; |\n",
       "|---|---|---|---|---|---|---|---|\n",
       "| 1 | 1650513600000 | 41693.58000000 | 41750.00000000 | 41525.00000000 | 41610.01000000 | 1138.64337000 | 1650517199999 |\n",
       "| 2 | 1650517200000 | 41610.01000000 | 41699.00000000 | 41434.44000000 | 41462.76000000 | 1229.25936000 | 1650520799999 |\n",
       "| 3 | 1650520800000 | 41462.75000000 | 41600.00000000 | 41419.20000000 | 41522.38000000 | 1049.71244000 | 1650524399999 |\n",
       "| 4 | 1650524400000 | 41522.38000000 | 41940.00000000 | 41451.00000000 | 41855.69000000 | 1928.48091000 | 1650527999999 |\n",
       "| 5 | 1.650528e+12  | 41855.69000000 | 42050.30000000 | 41741.10000000 | 41922.97000000 | 2518.04090000 | 1650531599999 |\n",
       "| 6 | 1650531600000 | 41922.96000000 | 41971.90000000 | 41743.96000000 | 41803.70000000 | 1655.76993000 | 1650535199999 |\n",
       "\n"
      ],
      "text/plain": [
       "  V1            V2             V3             V4             V5            \n",
       "1 1650513600000 41693.58000000 41750.00000000 41525.00000000 41610.01000000\n",
       "2 1650517200000 41610.01000000 41699.00000000 41434.44000000 41462.76000000\n",
       "3 1650520800000 41462.75000000 41600.00000000 41419.20000000 41522.38000000\n",
       "4 1650524400000 41522.38000000 41940.00000000 41451.00000000 41855.69000000\n",
       "5 1.650528e+12  41855.69000000 42050.30000000 41741.10000000 41922.97000000\n",
       "6 1650531600000 41922.96000000 41971.90000000 41743.96000000 41803.70000000\n",
       "  V6            V7           \n",
       "1 1138.64337000 1650517199999\n",
       "2 1229.25936000 1650520799999\n",
       "3 1049.71244000 1650524399999\n",
       "4 1928.48091000 1650527999999\n",
       "5 2518.04090000 1650531599999\n",
       "6 1655.76993000 1650535199999"
      ]
     },
     "metadata": {},
     "output_type": "display_data"
    }
   ],
   "source": [
    "typeof(data) # check data type\n",
    "data <- as.data.frame(data) # convert to dataframe\n",
    "head(data)"
   ]
  },
  {
   "cell_type": "code",
   "execution_count": 155,
   "id": "eac7f170",
   "metadata": {},
   "outputs": [
    {
     "data": {
      "text/html": [
       "<table class=\"dataframe\">\n",
       "<caption>A data.frame: 6 × 7</caption>\n",
       "<thead>\n",
       "\t<tr><th></th><th scope=col>Open_time</th><th scope=col>Open</th><th scope=col>High</th><th scope=col>Low</th><th scope=col>Close</th><th scope=col>Volume</th><th scope=col>Close_time</th></tr>\n",
       "\t<tr><th></th><th scope=col>&lt;chr&gt;</th><th scope=col>&lt;chr&gt;</th><th scope=col>&lt;chr&gt;</th><th scope=col>&lt;chr&gt;</th><th scope=col>&lt;chr&gt;</th><th scope=col>&lt;chr&gt;</th><th scope=col>&lt;chr&gt;</th></tr>\n",
       "</thead>\n",
       "<tbody>\n",
       "\t<tr><th scope=row>1</th><td>1650513600000</td><td>41693.58000000</td><td>41750.00000000</td><td>41525.00000000</td><td>41610.01000000</td><td>1138.64337000</td><td>1650517199999</td></tr>\n",
       "\t<tr><th scope=row>2</th><td>1650517200000</td><td>41610.01000000</td><td>41699.00000000</td><td>41434.44000000</td><td>41462.76000000</td><td>1229.25936000</td><td>1650520799999</td></tr>\n",
       "\t<tr><th scope=row>3</th><td>1650520800000</td><td>41462.75000000</td><td>41600.00000000</td><td>41419.20000000</td><td>41522.38000000</td><td>1049.71244000</td><td>1650524399999</td></tr>\n",
       "\t<tr><th scope=row>4</th><td>1650524400000</td><td>41522.38000000</td><td>41940.00000000</td><td>41451.00000000</td><td>41855.69000000</td><td>1928.48091000</td><td>1650527999999</td></tr>\n",
       "\t<tr><th scope=row>5</th><td>1.650528e+12 </td><td>41855.69000000</td><td>42050.30000000</td><td>41741.10000000</td><td>41922.97000000</td><td>2518.04090000</td><td>1650531599999</td></tr>\n",
       "\t<tr><th scope=row>6</th><td>1650531600000</td><td>41922.96000000</td><td>41971.90000000</td><td>41743.96000000</td><td>41803.70000000</td><td>1655.76993000</td><td>1650535199999</td></tr>\n",
       "</tbody>\n",
       "</table>\n"
      ],
      "text/latex": [
       "A data.frame: 6 × 7\n",
       "\\begin{tabular}{r|lllllll}\n",
       "  & Open\\_time & Open & High & Low & Close & Volume & Close\\_time\\\\\n",
       "  & <chr> & <chr> & <chr> & <chr> & <chr> & <chr> & <chr>\\\\\n",
       "\\hline\n",
       "\t1 & 1650513600000 & 41693.58000000 & 41750.00000000 & 41525.00000000 & 41610.01000000 & 1138.64337000 & 1650517199999\\\\\n",
       "\t2 & 1650517200000 & 41610.01000000 & 41699.00000000 & 41434.44000000 & 41462.76000000 & 1229.25936000 & 1650520799999\\\\\n",
       "\t3 & 1650520800000 & 41462.75000000 & 41600.00000000 & 41419.20000000 & 41522.38000000 & 1049.71244000 & 1650524399999\\\\\n",
       "\t4 & 1650524400000 & 41522.38000000 & 41940.00000000 & 41451.00000000 & 41855.69000000 & 1928.48091000 & 1650527999999\\\\\n",
       "\t5 & 1.650528e+12  & 41855.69000000 & 42050.30000000 & 41741.10000000 & 41922.97000000 & 2518.04090000 & 1650531599999\\\\\n",
       "\t6 & 1650531600000 & 41922.96000000 & 41971.90000000 & 41743.96000000 & 41803.70000000 & 1655.76993000 & 1650535199999\\\\\n",
       "\\end{tabular}\n"
      ],
      "text/markdown": [
       "\n",
       "A data.frame: 6 × 7\n",
       "\n",
       "| <!--/--> | Open_time &lt;chr&gt; | Open &lt;chr&gt; | High &lt;chr&gt; | Low &lt;chr&gt; | Close &lt;chr&gt; | Volume &lt;chr&gt; | Close_time &lt;chr&gt; |\n",
       "|---|---|---|---|---|---|---|---|\n",
       "| 1 | 1650513600000 | 41693.58000000 | 41750.00000000 | 41525.00000000 | 41610.01000000 | 1138.64337000 | 1650517199999 |\n",
       "| 2 | 1650517200000 | 41610.01000000 | 41699.00000000 | 41434.44000000 | 41462.76000000 | 1229.25936000 | 1650520799999 |\n",
       "| 3 | 1650520800000 | 41462.75000000 | 41600.00000000 | 41419.20000000 | 41522.38000000 | 1049.71244000 | 1650524399999 |\n",
       "| 4 | 1650524400000 | 41522.38000000 | 41940.00000000 | 41451.00000000 | 41855.69000000 | 1928.48091000 | 1650527999999 |\n",
       "| 5 | 1.650528e+12  | 41855.69000000 | 42050.30000000 | 41741.10000000 | 41922.97000000 | 2518.04090000 | 1650531599999 |\n",
       "| 6 | 1650531600000 | 41922.96000000 | 41971.90000000 | 41743.96000000 | 41803.70000000 | 1655.76993000 | 1650535199999 |\n",
       "\n"
      ],
      "text/plain": [
       "  Open_time     Open           High           Low            Close         \n",
       "1 1650513600000 41693.58000000 41750.00000000 41525.00000000 41610.01000000\n",
       "2 1650517200000 41610.01000000 41699.00000000 41434.44000000 41462.76000000\n",
       "3 1650520800000 41462.75000000 41600.00000000 41419.20000000 41522.38000000\n",
       "4 1650524400000 41522.38000000 41940.00000000 41451.00000000 41855.69000000\n",
       "5 1.650528e+12  41855.69000000 42050.30000000 41741.10000000 41922.97000000\n",
       "6 1650531600000 41922.96000000 41971.90000000 41743.96000000 41803.70000000\n",
       "  Volume        Close_time   \n",
       "1 1138.64337000 1650517199999\n",
       "2 1229.25936000 1650520799999\n",
       "3 1049.71244000 1650524399999\n",
       "4 1928.48091000 1650527999999\n",
       "5 2518.04090000 1650531599999\n",
       "6 1655.76993000 1650535199999"
      ]
     },
     "metadata": {},
     "output_type": "display_data"
    }
   ],
   "source": [
    "# fix columns names\n",
    "colnames(data) <- c(\"Open_time\", \"Open\", \"High\", \"Low\", \"Close\", \"Volume\", \"Close_time\")\n",
    "head(data) # looks better, but columns are characters still"
   ]
  },
  {
   "cell_type": "code",
   "execution_count": 156,
   "id": "6a20a927",
   "metadata": {},
   "outputs": [
    {
     "data": {
      "text/html": [
       "FALSE"
      ],
      "text/latex": [
       "FALSE"
      ],
      "text/markdown": [
       "FALSE"
      ],
      "text/plain": [
       "[1] FALSE"
      ]
     },
     "metadata": {},
     "output_type": "display_data"
    },
    {
     "data": {
      "text/html": [
       "FALSE"
      ],
      "text/latex": [
       "FALSE"
      ],
      "text/markdown": [
       "FALSE"
      ],
      "text/plain": [
       "[1] FALSE"
      ]
     },
     "metadata": {},
     "output_type": "display_data"
    }
   ],
   "source": [
    "is.numeric(data[,1]) # check 1st column type is numeric\n",
    "is.numeric(data[,2]) # check 2nd column type is numeric"
   ]
  },
  {
   "cell_type": "code",
   "execution_count": 157,
   "id": "43574c0c",
   "metadata": {},
   "outputs": [
    {
     "data": {
      "text/html": [
       "<table class=\"dataframe\">\n",
       "<caption>A data.frame: 6 × 7</caption>\n",
       "<thead>\n",
       "\t<tr><th></th><th scope=col>Open_time</th><th scope=col>Open</th><th scope=col>High</th><th scope=col>Low</th><th scope=col>Close</th><th scope=col>Volume</th><th scope=col>Close_time</th></tr>\n",
       "\t<tr><th></th><th scope=col>&lt;dbl&gt;</th><th scope=col>&lt;dbl&gt;</th><th scope=col>&lt;dbl&gt;</th><th scope=col>&lt;dbl&gt;</th><th scope=col>&lt;dbl&gt;</th><th scope=col>&lt;dbl&gt;</th><th scope=col>&lt;dbl&gt;</th></tr>\n",
       "</thead>\n",
       "<tbody>\n",
       "\t<tr><th scope=row>1</th><td>1.650514e+12</td><td>41693.58</td><td>41750.0</td><td>41525.00</td><td>41610.01</td><td>1138.643</td><td>1.650517e+12</td></tr>\n",
       "\t<tr><th scope=row>2</th><td>1.650517e+12</td><td>41610.01</td><td>41699.0</td><td>41434.44</td><td>41462.76</td><td>1229.259</td><td>1.650521e+12</td></tr>\n",
       "\t<tr><th scope=row>3</th><td>1.650521e+12</td><td>41462.75</td><td>41600.0</td><td>41419.20</td><td>41522.38</td><td>1049.712</td><td>1.650524e+12</td></tr>\n",
       "\t<tr><th scope=row>4</th><td>1.650524e+12</td><td>41522.38</td><td>41940.0</td><td>41451.00</td><td>41855.69</td><td>1928.481</td><td>1.650528e+12</td></tr>\n",
       "\t<tr><th scope=row>5</th><td>1.650528e+12</td><td>41855.69</td><td>42050.3</td><td>41741.10</td><td>41922.97</td><td>2518.041</td><td>1.650532e+12</td></tr>\n",
       "\t<tr><th scope=row>6</th><td>1.650532e+12</td><td>41922.96</td><td>41971.9</td><td>41743.96</td><td>41803.70</td><td>1655.770</td><td>1.650535e+12</td></tr>\n",
       "</tbody>\n",
       "</table>\n"
      ],
      "text/latex": [
       "A data.frame: 6 × 7\n",
       "\\begin{tabular}{r|lllllll}\n",
       "  & Open\\_time & Open & High & Low & Close & Volume & Close\\_time\\\\\n",
       "  & <dbl> & <dbl> & <dbl> & <dbl> & <dbl> & <dbl> & <dbl>\\\\\n",
       "\\hline\n",
       "\t1 & 1.650514e+12 & 41693.58 & 41750.0 & 41525.00 & 41610.01 & 1138.643 & 1.650517e+12\\\\\n",
       "\t2 & 1.650517e+12 & 41610.01 & 41699.0 & 41434.44 & 41462.76 & 1229.259 & 1.650521e+12\\\\\n",
       "\t3 & 1.650521e+12 & 41462.75 & 41600.0 & 41419.20 & 41522.38 & 1049.712 & 1.650524e+12\\\\\n",
       "\t4 & 1.650524e+12 & 41522.38 & 41940.0 & 41451.00 & 41855.69 & 1928.481 & 1.650528e+12\\\\\n",
       "\t5 & 1.650528e+12 & 41855.69 & 42050.3 & 41741.10 & 41922.97 & 2518.041 & 1.650532e+12\\\\\n",
       "\t6 & 1.650532e+12 & 41922.96 & 41971.9 & 41743.96 & 41803.70 & 1655.770 & 1.650535e+12\\\\\n",
       "\\end{tabular}\n"
      ],
      "text/markdown": [
       "\n",
       "A data.frame: 6 × 7\n",
       "\n",
       "| <!--/--> | Open_time &lt;dbl&gt; | Open &lt;dbl&gt; | High &lt;dbl&gt; | Low &lt;dbl&gt; | Close &lt;dbl&gt; | Volume &lt;dbl&gt; | Close_time &lt;dbl&gt; |\n",
       "|---|---|---|---|---|---|---|---|\n",
       "| 1 | 1.650514e+12 | 41693.58 | 41750.0 | 41525.00 | 41610.01 | 1138.643 | 1.650517e+12 |\n",
       "| 2 | 1.650517e+12 | 41610.01 | 41699.0 | 41434.44 | 41462.76 | 1229.259 | 1.650521e+12 |\n",
       "| 3 | 1.650521e+12 | 41462.75 | 41600.0 | 41419.20 | 41522.38 | 1049.712 | 1.650524e+12 |\n",
       "| 4 | 1.650524e+12 | 41522.38 | 41940.0 | 41451.00 | 41855.69 | 1928.481 | 1.650528e+12 |\n",
       "| 5 | 1.650528e+12 | 41855.69 | 42050.3 | 41741.10 | 41922.97 | 2518.041 | 1.650532e+12 |\n",
       "| 6 | 1.650532e+12 | 41922.96 | 41971.9 | 41743.96 | 41803.70 | 1655.770 | 1.650535e+12 |\n",
       "\n"
      ],
      "text/plain": [
       "  Open_time    Open     High    Low      Close    Volume   Close_time  \n",
       "1 1.650514e+12 41693.58 41750.0 41525.00 41610.01 1138.643 1.650517e+12\n",
       "2 1.650517e+12 41610.01 41699.0 41434.44 41462.76 1229.259 1.650521e+12\n",
       "3 1.650521e+12 41462.75 41600.0 41419.20 41522.38 1049.712 1.650524e+12\n",
       "4 1.650524e+12 41522.38 41940.0 41451.00 41855.69 1928.481 1.650528e+12\n",
       "5 1.650528e+12 41855.69 42050.3 41741.10 41922.97 2518.041 1.650532e+12\n",
       "6 1.650532e+12 41922.96 41971.9 41743.96 41803.70 1655.770 1.650535e+12"
      ]
     },
     "metadata": {},
     "output_type": "display_data"
    }
   ],
   "source": [
    "data <- as.data.frame(sapply(data, as.numeric)) # convert all columns to numeric\n",
    "head(data) # good, its double now"
   ]
  },
  {
   "cell_type": "markdown",
   "id": "99a2fb44",
   "metadata": {},
   "source": [
    "Final stage is to convert `Open_time` and `Close_time` to dates."
   ]
  },
  {
   "cell_type": "code",
   "execution_count": 158,
   "id": "ff468404",
   "metadata": {},
   "outputs": [
    {
     "data": {
      "text/html": [
       "<table class=\"dataframe\">\n",
       "<caption>A data.frame: 6 × 7</caption>\n",
       "<thead>\n",
       "\t<tr><th></th><th scope=col>Open_time</th><th scope=col>Open</th><th scope=col>High</th><th scope=col>Low</th><th scope=col>Close</th><th scope=col>Volume</th><th scope=col>Close_time</th></tr>\n",
       "\t<tr><th></th><th scope=col>&lt;dttm&gt;</th><th scope=col>&lt;dbl&gt;</th><th scope=col>&lt;dbl&gt;</th><th scope=col>&lt;dbl&gt;</th><th scope=col>&lt;dbl&gt;</th><th scope=col>&lt;dbl&gt;</th><th scope=col>&lt;dttm&gt;</th></tr>\n",
       "</thead>\n",
       "<tbody>\n",
       "\t<tr><th scope=row>1</th><td>2022-04-21 07:00:00</td><td>41693.58</td><td>41750.0</td><td>41525.00</td><td>41610.01</td><td>1138.643</td><td>2022-04-21 07:59:59</td></tr>\n",
       "\t<tr><th scope=row>2</th><td>2022-04-21 08:00:00</td><td>41610.01</td><td>41699.0</td><td>41434.44</td><td>41462.76</td><td>1229.259</td><td>2022-04-21 08:59:59</td></tr>\n",
       "\t<tr><th scope=row>3</th><td>2022-04-21 09:00:00</td><td>41462.75</td><td>41600.0</td><td>41419.20</td><td>41522.38</td><td>1049.712</td><td>2022-04-21 09:59:59</td></tr>\n",
       "\t<tr><th scope=row>4</th><td>2022-04-21 10:00:00</td><td>41522.38</td><td>41940.0</td><td>41451.00</td><td>41855.69</td><td>1928.481</td><td>2022-04-21 10:59:59</td></tr>\n",
       "\t<tr><th scope=row>5</th><td>2022-04-21 11:00:00</td><td>41855.69</td><td>42050.3</td><td>41741.10</td><td>41922.97</td><td>2518.041</td><td>2022-04-21 11:59:59</td></tr>\n",
       "\t<tr><th scope=row>6</th><td>2022-04-21 12:00:00</td><td>41922.96</td><td>41971.9</td><td>41743.96</td><td>41803.70</td><td>1655.770</td><td>2022-04-21 12:59:59</td></tr>\n",
       "</tbody>\n",
       "</table>\n"
      ],
      "text/latex": [
       "A data.frame: 6 × 7\n",
       "\\begin{tabular}{r|lllllll}\n",
       "  & Open\\_time & Open & High & Low & Close & Volume & Close\\_time\\\\\n",
       "  & <dttm> & <dbl> & <dbl> & <dbl> & <dbl> & <dbl> & <dttm>\\\\\n",
       "\\hline\n",
       "\t1 & 2022-04-21 07:00:00 & 41693.58 & 41750.0 & 41525.00 & 41610.01 & 1138.643 & 2022-04-21 07:59:59\\\\\n",
       "\t2 & 2022-04-21 08:00:00 & 41610.01 & 41699.0 & 41434.44 & 41462.76 & 1229.259 & 2022-04-21 08:59:59\\\\\n",
       "\t3 & 2022-04-21 09:00:00 & 41462.75 & 41600.0 & 41419.20 & 41522.38 & 1049.712 & 2022-04-21 09:59:59\\\\\n",
       "\t4 & 2022-04-21 10:00:00 & 41522.38 & 41940.0 & 41451.00 & 41855.69 & 1928.481 & 2022-04-21 10:59:59\\\\\n",
       "\t5 & 2022-04-21 11:00:00 & 41855.69 & 42050.3 & 41741.10 & 41922.97 & 2518.041 & 2022-04-21 11:59:59\\\\\n",
       "\t6 & 2022-04-21 12:00:00 & 41922.96 & 41971.9 & 41743.96 & 41803.70 & 1655.770 & 2022-04-21 12:59:59\\\\\n",
       "\\end{tabular}\n"
      ],
      "text/markdown": [
       "\n",
       "A data.frame: 6 × 7\n",
       "\n",
       "| <!--/--> | Open_time &lt;dttm&gt; | Open &lt;dbl&gt; | High &lt;dbl&gt; | Low &lt;dbl&gt; | Close &lt;dbl&gt; | Volume &lt;dbl&gt; | Close_time &lt;dttm&gt; |\n",
       "|---|---|---|---|---|---|---|---|\n",
       "| 1 | 2022-04-21 07:00:00 | 41693.58 | 41750.0 | 41525.00 | 41610.01 | 1138.643 | 2022-04-21 07:59:59 |\n",
       "| 2 | 2022-04-21 08:00:00 | 41610.01 | 41699.0 | 41434.44 | 41462.76 | 1229.259 | 2022-04-21 08:59:59 |\n",
       "| 3 | 2022-04-21 09:00:00 | 41462.75 | 41600.0 | 41419.20 | 41522.38 | 1049.712 | 2022-04-21 09:59:59 |\n",
       "| 4 | 2022-04-21 10:00:00 | 41522.38 | 41940.0 | 41451.00 | 41855.69 | 1928.481 | 2022-04-21 10:59:59 |\n",
       "| 5 | 2022-04-21 11:00:00 | 41855.69 | 42050.3 | 41741.10 | 41922.97 | 2518.041 | 2022-04-21 11:59:59 |\n",
       "| 6 | 2022-04-21 12:00:00 | 41922.96 | 41971.9 | 41743.96 | 41803.70 | 1655.770 | 2022-04-21 12:59:59 |\n",
       "\n"
      ],
      "text/plain": [
       "  Open_time           Open     High    Low      Close    Volume  \n",
       "1 2022-04-21 07:00:00 41693.58 41750.0 41525.00 41610.01 1138.643\n",
       "2 2022-04-21 08:00:00 41610.01 41699.0 41434.44 41462.76 1229.259\n",
       "3 2022-04-21 09:00:00 41462.75 41600.0 41419.20 41522.38 1049.712\n",
       "4 2022-04-21 10:00:00 41522.38 41940.0 41451.00 41855.69 1928.481\n",
       "5 2022-04-21 11:00:00 41855.69 42050.3 41741.10 41922.97 2518.041\n",
       "6 2022-04-21 12:00:00 41922.96 41971.9 41743.96 41803.70 1655.770\n",
       "  Close_time         \n",
       "1 2022-04-21 07:59:59\n",
       "2 2022-04-21 08:59:59\n",
       "3 2022-04-21 09:59:59\n",
       "4 2022-04-21 10:59:59\n",
       "5 2022-04-21 11:59:59\n",
       "6 2022-04-21 12:59:59"
      ]
     },
     "metadata": {},
     "output_type": "display_data"
    }
   ],
   "source": [
    "data$Open_time <- as.POSIXct(data$Open_time/1e3, origin = '1970-01-01')\n",
    "data$Close_time <- as.POSIXct(data$Close_time/1e3, origin = '1970-01-01')\n",
    "\n",
    "head(data) "
   ]
  },
  {
   "cell_type": "code",
   "execution_count": 159,
   "id": "d15735de",
   "metadata": {},
   "outputs": [
    {
     "data": {
      "text/html": [
       "<table class=\"dataframe\">\n",
       "<caption>A data.frame: 6 × 7</caption>\n",
       "<thead>\n",
       "\t<tr><th></th><th scope=col>Open_time</th><th scope=col>Open</th><th scope=col>High</th><th scope=col>Low</th><th scope=col>Close</th><th scope=col>Volume</th><th scope=col>Close_time</th></tr>\n",
       "\t<tr><th></th><th scope=col>&lt;dttm&gt;</th><th scope=col>&lt;dbl&gt;</th><th scope=col>&lt;dbl&gt;</th><th scope=col>&lt;dbl&gt;</th><th scope=col>&lt;dbl&gt;</th><th scope=col>&lt;dbl&gt;</th><th scope=col>&lt;dttm&gt;</th></tr>\n",
       "</thead>\n",
       "<tbody>\n",
       "\t<tr><th scope=row>95</th><td>2022-04-25 05:00:00</td><td>39095.81</td><td>39153.94</td><td>38961.64</td><td>39091.17</td><td>1205.5158</td><td>2022-04-25 05:59:59</td></tr>\n",
       "\t<tr><th scope=row>96</th><td>2022-04-25 06:00:00</td><td>39091.17</td><td>39294.76</td><td>39086.37</td><td>39253.71</td><td>1443.3318</td><td>2022-04-25 06:59:59</td></tr>\n",
       "\t<tr><th scope=row>97</th><td>2022-04-25 07:00:00</td><td>39253.70</td><td>39256.28</td><td>39055.71</td><td>39139.74</td><td> 896.8554</td><td>2022-04-25 07:59:59</td></tr>\n",
       "\t<tr><th scope=row>98</th><td>2022-04-25 08:00:00</td><td>39139.74</td><td>39230.50</td><td>38947.42</td><td>38975.22</td><td>1057.4900</td><td>2022-04-25 08:59:59</td></tr>\n",
       "\t<tr><th scope=row>99</th><td>2022-04-25 09:00:00</td><td>38975.21</td><td>39057.97</td><td>38590.00</td><td>38636.35</td><td>2814.9716</td><td>2022-04-25 09:59:59</td></tr>\n",
       "\t<tr><th scope=row>100</th><td>2022-04-25 10:00:00</td><td>38636.35</td><td>38675.68</td><td>38200.00</td><td>38534.99</td><td>3528.2355</td><td>2022-04-25 10:59:59</td></tr>\n",
       "</tbody>\n",
       "</table>\n"
      ],
      "text/latex": [
       "A data.frame: 6 × 7\n",
       "\\begin{tabular}{r|lllllll}\n",
       "  & Open\\_time & Open & High & Low & Close & Volume & Close\\_time\\\\\n",
       "  & <dttm> & <dbl> & <dbl> & <dbl> & <dbl> & <dbl> & <dttm>\\\\\n",
       "\\hline\n",
       "\t95 & 2022-04-25 05:00:00 & 39095.81 & 39153.94 & 38961.64 & 39091.17 & 1205.5158 & 2022-04-25 05:59:59\\\\\n",
       "\t96 & 2022-04-25 06:00:00 & 39091.17 & 39294.76 & 39086.37 & 39253.71 & 1443.3318 & 2022-04-25 06:59:59\\\\\n",
       "\t97 & 2022-04-25 07:00:00 & 39253.70 & 39256.28 & 39055.71 & 39139.74 &  896.8554 & 2022-04-25 07:59:59\\\\\n",
       "\t98 & 2022-04-25 08:00:00 & 39139.74 & 39230.50 & 38947.42 & 38975.22 & 1057.4900 & 2022-04-25 08:59:59\\\\\n",
       "\t99 & 2022-04-25 09:00:00 & 38975.21 & 39057.97 & 38590.00 & 38636.35 & 2814.9716 & 2022-04-25 09:59:59\\\\\n",
       "\t100 & 2022-04-25 10:00:00 & 38636.35 & 38675.68 & 38200.00 & 38534.99 & 3528.2355 & 2022-04-25 10:59:59\\\\\n",
       "\\end{tabular}\n"
      ],
      "text/markdown": [
       "\n",
       "A data.frame: 6 × 7\n",
       "\n",
       "| <!--/--> | Open_time &lt;dttm&gt; | Open &lt;dbl&gt; | High &lt;dbl&gt; | Low &lt;dbl&gt; | Close &lt;dbl&gt; | Volume &lt;dbl&gt; | Close_time &lt;dttm&gt; |\n",
       "|---|---|---|---|---|---|---|---|\n",
       "| 95 | 2022-04-25 05:00:00 | 39095.81 | 39153.94 | 38961.64 | 39091.17 | 1205.5158 | 2022-04-25 05:59:59 |\n",
       "| 96 | 2022-04-25 06:00:00 | 39091.17 | 39294.76 | 39086.37 | 39253.71 | 1443.3318 | 2022-04-25 06:59:59 |\n",
       "| 97 | 2022-04-25 07:00:00 | 39253.70 | 39256.28 | 39055.71 | 39139.74 |  896.8554 | 2022-04-25 07:59:59 |\n",
       "| 98 | 2022-04-25 08:00:00 | 39139.74 | 39230.50 | 38947.42 | 38975.22 | 1057.4900 | 2022-04-25 08:59:59 |\n",
       "| 99 | 2022-04-25 09:00:00 | 38975.21 | 39057.97 | 38590.00 | 38636.35 | 2814.9716 | 2022-04-25 09:59:59 |\n",
       "| 100 | 2022-04-25 10:00:00 | 38636.35 | 38675.68 | 38200.00 | 38534.99 | 3528.2355 | 2022-04-25 10:59:59 |\n",
       "\n"
      ],
      "text/plain": [
       "    Open_time           Open     High     Low      Close    Volume   \n",
       "95  2022-04-25 05:00:00 39095.81 39153.94 38961.64 39091.17 1205.5158\n",
       "96  2022-04-25 06:00:00 39091.17 39294.76 39086.37 39253.71 1443.3318\n",
       "97  2022-04-25 07:00:00 39253.70 39256.28 39055.71 39139.74  896.8554\n",
       "98  2022-04-25 08:00:00 39139.74 39230.50 38947.42 38975.22 1057.4900\n",
       "99  2022-04-25 09:00:00 38975.21 39057.97 38590.00 38636.35 2814.9716\n",
       "100 2022-04-25 10:00:00 38636.35 38675.68 38200.00 38534.99 3528.2355\n",
       "    Close_time         \n",
       "95  2022-04-25 05:59:59\n",
       "96  2022-04-25 06:59:59\n",
       "97  2022-04-25 07:59:59\n",
       "98  2022-04-25 08:59:59\n",
       "99  2022-04-25 09:59:59\n",
       "100 2022-04-25 10:59:59"
      ]
     },
     "metadata": {},
     "output_type": "display_data"
    }
   ],
   "source": [
    "tail(data) # check last records"
   ]
  },
  {
   "cell_type": "markdown",
   "id": "a136ea00-b865-4ab3-8c14-148ecb23601d",
   "metadata": {},
   "source": [
    "## Набори даних"
   ]
  },
  {
   "cell_type": "markdown",
   "id": "a2203039-029b-4de2-a70e-b36feba50c05",
   "metadata": {},
   "source": [
    "1. https://github.com/kleban/r-book-published/tree/main/datasets/telecom_users.csv\n",
    "2. https://github.com/kleban/r-book-published/tree/main/datasets/telecom_sers.xlsx\n",
    "3. https://github.com/kleban/r-book-published/tree/main/datasets/Default_Fin.csv\n",
    "4. https://github.com/kleban/r-book-published/tree/main/datasets/employes.xml"
   ]
  },
  {
   "cell_type": "markdown",
   "id": "3c4e296e-7434-454a-ab2e-a3fe95f4de05",
   "metadata": {},
   "source": [
    "---"
   ]
  },
  {
   "cell_type": "markdown",
   "id": "e5f6def2",
   "metadata": {},
   "source": [
    "## References"
   ]
  },
  {
   "cell_type": "markdown",
   "id": "c158f38a",
   "metadata": {},
   "source": [
    "1. [SQLite in R. Datacamp](https://www.datacamp.com/community/tutorials/sqlite-in-r)\n",
    "2. [Tidyverse googlesheets4 0.2.0](https://www.tidyverse.org/blog/2020/05/googlesheets4-0-2-0/)\n",
    "<!-- 3. [Telecom users dataset. Practice classification with a telco dataset.Kaggle](https://www.kaggle.com/radmirzosimov/telecom-users-dataset) -->\n",
    "4. [Binanace spot Api Docs](https://github.com/binance/binance-spot-api-docs/blob/master/rest-api.md#klinecandlestick-data)\n",
    "5. [Web Scraping in R: rvest Tutorial](https://www.datacamp.com/community/tutorials/r-web-scraping-rvest) by Arvid Kingl"
   ]
  }
 ],
 "metadata": {
  "kernelspec": {
   "display_name": "R",
   "language": "R",
   "name": "ir"
  },
  "language_info": {
   "codemirror_mode": "r",
   "file_extension": ".r",
   "mimetype": "text/x-r-source",
   "name": "R",
   "pygments_lexer": "r",
   "version": "4.1.3"
  }
 },
 "nbformat": 4,
 "nbformat_minor": 5
}
