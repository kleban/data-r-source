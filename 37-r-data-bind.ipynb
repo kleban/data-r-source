{
 "cells": [
  {
   "cell_type": "markdown",
   "id": "98a5853a-1190-4fac-8cd4-5da1462c2e88",
   "metadata": {},
   "source": [
    "---\n",
    "\n",
    "author: Юрій Клебан\n",
    "\n",
    "---"
   ]
  },
  {
   "cell_type": "markdown",
   "id": "45318bbc",
   "metadata": {},
   "source": [
    "# Binding rows and columns"
   ]
  },
  {
   "cell_type": "markdown",
   "id": "4c63f4e2-5c06-4962-9b8c-b6dbb6c3c8f6",
   "metadata": {},
   "source": [
    "Before start load packages"
   ]
  },
  {
   "cell_type": "code",
   "execution_count": 12,
   "id": "4c9a28ab-9102-4b94-96eb-cd2543ebf4d9",
   "metadata": {},
   "outputs": [],
   "source": [
    "library(dplyr) # for demos\n",
    "#install.packages(\"gapminder\")\n",
    "library(gapminder)  # load package and dataset"
   ]
  },
  {
   "cell_type": "markdown",
   "id": "9bfa98c2-4145-488f-ae80-9e2f4018c7dd",
   "metadata": {},
   "source": [
    "## `bind_rows`"
   ]
  },
  {
   "cell_type": "markdown",
   "id": "a7488f2d",
   "metadata": {},
   "source": [
    "`bind_rows(.data, …)` helps to unite two dataframes with the same columns order and names. "
   ]
  },
  {
   "cell_type": "markdown",
   "id": "c87bfefc",
   "metadata": {},
   "source": [
    "So, if we need add one data frame to an other vertically (bind rows) we shoul use `bind_rows`:"
   ]
  },
  {
   "cell_type": "code",
   "execution_count": 9,
   "id": "23fe4993",
   "metadata": {
    "vscode": {
     "languageId": "r"
    }
   },
   "outputs": [
    {
     "data": {
      "text/html": [
       "<table class=\"dataframe\">\n",
       "<caption>A tibble: 5 × 4</caption>\n",
       "<thead>\n",
       "\t<tr><th scope=col>continent</th><th scope=col>year</th><th scope=col>lifeExpAvg</th><th scope=col>countriesCount</th></tr>\n",
       "\t<tr><th scope=col>&lt;fct&gt;</th><th scope=col>&lt;int&gt;</th><th scope=col>&lt;dbl&gt;</th><th scope=col>&lt;int&gt;</th></tr>\n",
       "</thead>\n",
       "<tbody>\n",
       "\t<tr><td>Africa  </td><td>2002</td><td>53.32523</td><td>52</td></tr>\n",
       "\t<tr><td>Americas</td><td>2002</td><td>72.42204</td><td>25</td></tr>\n",
       "\t<tr><td>Asia    </td><td>2002</td><td>69.23388</td><td>33</td></tr>\n",
       "\t<tr><td>Europe  </td><td>2002</td><td>76.70060</td><td>30</td></tr>\n",
       "\t<tr><td>Oceania </td><td>2002</td><td>79.74000</td><td> 2</td></tr>\n",
       "</tbody>\n",
       "</table>\n"
      ],
      "text/latex": [
       "A tibble: 5 × 4\n",
       "\\begin{tabular}{llll}\n",
       " continent & year & lifeExpAvg & countriesCount\\\\\n",
       " <fct> & <int> & <dbl> & <int>\\\\\n",
       "\\hline\n",
       "\t Africa   & 2002 & 53.32523 & 52\\\\\n",
       "\t Americas & 2002 & 72.42204 & 25\\\\\n",
       "\t Asia     & 2002 & 69.23388 & 33\\\\\n",
       "\t Europe   & 2002 & 76.70060 & 30\\\\\n",
       "\t Oceania  & 2002 & 79.74000 &  2\\\\\n",
       "\\end{tabular}\n"
      ],
      "text/markdown": [
       "\n",
       "A tibble: 5 × 4\n",
       "\n",
       "| continent &lt;fct&gt; | year &lt;int&gt; | lifeExpAvg &lt;dbl&gt; | countriesCount &lt;int&gt; |\n",
       "|---|---|---|---|\n",
       "| Africa   | 2002 | 53.32523 | 52 |\n",
       "| Americas | 2002 | 72.42204 | 25 |\n",
       "| Asia     | 2002 | 69.23388 | 33 |\n",
       "| Europe   | 2002 | 76.70060 | 30 |\n",
       "| Oceania  | 2002 | 79.74000 |  2 |\n",
       "\n"
      ],
      "text/plain": [
       "  continent year lifeExpAvg countriesCount\n",
       "1 Africa    2002 53.32523   52            \n",
       "2 Americas  2002 72.42204   25            \n",
       "3 Asia      2002 69.23388   33            \n",
       "4 Europe    2002 76.70060   30            \n",
       "5 Oceania   2002 79.74000    2            "
      ]
     },
     "metadata": {},
     "output_type": "display_data"
    }
   ],
   "source": [
    "d2002 <- gapminder %>%\n",
    "            filter(year == 2002) %>% # year\n",
    "            group_by(continent, year) %>% # grouping condition\n",
    "            summarise(\n",
    "                lifeExpAvg = mean(lifeExp),\n",
    "                countriesCount = n(), # n() count of rows in group \n",
    "                .groups = 'drop'\n",
    "            )\n",
    "head(d2002)"
   ]
  },
  {
   "cell_type": "code",
   "execution_count": 10,
   "id": "9f5d6f5b",
   "metadata": {
    "vscode": {
     "languageId": "r"
    }
   },
   "outputs": [
    {
     "name": "stderr",
     "output_type": "stream",
     "text": [
      "\u001b[1m\u001b[22m`summarise()` has grouped output by 'continent'. You can override using the `.groups` argument.\n"
     ]
    },
    {
     "data": {
      "text/html": [
       "<table class=\"dataframe\">\n",
       "<caption>A grouped_df: 5 × 4</caption>\n",
       "<thead>\n",
       "\t<tr><th scope=col>continent</th><th scope=col>year</th><th scope=col>lifeExpAvg</th><th scope=col>countriesCount</th></tr>\n",
       "\t<tr><th scope=col>&lt;fct&gt;</th><th scope=col>&lt;int&gt;</th><th scope=col>&lt;dbl&gt;</th><th scope=col>&lt;int&gt;</th></tr>\n",
       "</thead>\n",
       "<tbody>\n",
       "\t<tr><td>Africa  </td><td>2007</td><td>54.80604</td><td>52</td></tr>\n",
       "\t<tr><td>Americas</td><td>2007</td><td>73.60812</td><td>25</td></tr>\n",
       "\t<tr><td>Asia    </td><td>2007</td><td>70.72848</td><td>33</td></tr>\n",
       "\t<tr><td>Europe  </td><td>2007</td><td>77.64860</td><td>30</td></tr>\n",
       "\t<tr><td>Oceania </td><td>2007</td><td>80.71950</td><td> 2</td></tr>\n",
       "</tbody>\n",
       "</table>\n"
      ],
      "text/latex": [
       "A grouped\\_df: 5 × 4\n",
       "\\begin{tabular}{llll}\n",
       " continent & year & lifeExpAvg & countriesCount\\\\\n",
       " <fct> & <int> & <dbl> & <int>\\\\\n",
       "\\hline\n",
       "\t Africa   & 2007 & 54.80604 & 52\\\\\n",
       "\t Americas & 2007 & 73.60812 & 25\\\\\n",
       "\t Asia     & 2007 & 70.72848 & 33\\\\\n",
       "\t Europe   & 2007 & 77.64860 & 30\\\\\n",
       "\t Oceania  & 2007 & 80.71950 &  2\\\\\n",
       "\\end{tabular}\n"
      ],
      "text/markdown": [
       "\n",
       "A grouped_df: 5 × 4\n",
       "\n",
       "| continent &lt;fct&gt; | year &lt;int&gt; | lifeExpAvg &lt;dbl&gt; | countriesCount &lt;int&gt; |\n",
       "|---|---|---|---|\n",
       "| Africa   | 2007 | 54.80604 | 52 |\n",
       "| Americas | 2007 | 73.60812 | 25 |\n",
       "| Asia     | 2007 | 70.72848 | 33 |\n",
       "| Europe   | 2007 | 77.64860 | 30 |\n",
       "| Oceania  | 2007 | 80.71950 |  2 |\n",
       "\n"
      ],
      "text/plain": [
       "  continent year lifeExpAvg countriesCount\n",
       "1 Africa    2007 54.80604   52            \n",
       "2 Americas  2007 73.60812   25            \n",
       "3 Asia      2007 70.72848   33            \n",
       "4 Europe    2007 77.64860   30            \n",
       "5 Oceania   2007 80.71950    2            "
      ]
     },
     "metadata": {},
     "output_type": "display_data"
    }
   ],
   "source": [
    "d2007 <- gapminder %>%\n",
    "            filter(year == 2007) %>% # year\n",
    "            group_by(continent, year) %>% # grouping condition\n",
    "            summarise(\n",
    "                lifeExpAvg = mean(lifeExp),\n",
    "                countriesCount = n() # n() count of rows in group                \n",
    "            )\n",
    "head(d2007)"
   ]
  },
  {
   "cell_type": "markdown",
   "id": "04709e04",
   "metadata": {},
   "source": [
    "Unite them:"
   ]
  },
  {
   "cell_type": "code",
   "execution_count": 13,
   "id": "8ac1424d",
   "metadata": {
    "vscode": {
     "languageId": "r"
    }
   },
   "outputs": [
    {
     "data": {
      "text/html": [
       "<table class=\"dataframe\">\n",
       "<caption>A tibble: 10 × 4</caption>\n",
       "<thead>\n",
       "\t<tr><th scope=col>continent</th><th scope=col>year</th><th scope=col>lifeExpAvg</th><th scope=col>countriesCount</th></tr>\n",
       "\t<tr><th scope=col>&lt;fct&gt;</th><th scope=col>&lt;int&gt;</th><th scope=col>&lt;dbl&gt;</th><th scope=col>&lt;int&gt;</th></tr>\n",
       "</thead>\n",
       "<tbody>\n",
       "\t<tr><td>Africa  </td><td>2002</td><td>53.32523</td><td>52</td></tr>\n",
       "\t<tr><td>Americas</td><td>2002</td><td>72.42204</td><td>25</td></tr>\n",
       "\t<tr><td>Asia    </td><td>2002</td><td>69.23388</td><td>33</td></tr>\n",
       "\t<tr><td>Europe  </td><td>2002</td><td>76.70060</td><td>30</td></tr>\n",
       "\t<tr><td>Oceania </td><td>2002</td><td>79.74000</td><td> 2</td></tr>\n",
       "\t<tr><td>Africa  </td><td>2007</td><td>54.80604</td><td>52</td></tr>\n",
       "\t<tr><td>Americas</td><td>2007</td><td>73.60812</td><td>25</td></tr>\n",
       "\t<tr><td>Asia    </td><td>2007</td><td>70.72848</td><td>33</td></tr>\n",
       "\t<tr><td>Europe  </td><td>2007</td><td>77.64860</td><td>30</td></tr>\n",
       "\t<tr><td>Oceania </td><td>2007</td><td>80.71950</td><td> 2</td></tr>\n",
       "</tbody>\n",
       "</table>\n"
      ],
      "text/latex": [
       "A tibble: 10 × 4\n",
       "\\begin{tabular}{llll}\n",
       " continent & year & lifeExpAvg & countriesCount\\\\\n",
       " <fct> & <int> & <dbl> & <int>\\\\\n",
       "\\hline\n",
       "\t Africa   & 2002 & 53.32523 & 52\\\\\n",
       "\t Americas & 2002 & 72.42204 & 25\\\\\n",
       "\t Asia     & 2002 & 69.23388 & 33\\\\\n",
       "\t Europe   & 2002 & 76.70060 & 30\\\\\n",
       "\t Oceania  & 2002 & 79.74000 &  2\\\\\n",
       "\t Africa   & 2007 & 54.80604 & 52\\\\\n",
       "\t Americas & 2007 & 73.60812 & 25\\\\\n",
       "\t Asia     & 2007 & 70.72848 & 33\\\\\n",
       "\t Europe   & 2007 & 77.64860 & 30\\\\\n",
       "\t Oceania  & 2007 & 80.71950 &  2\\\\\n",
       "\\end{tabular}\n"
      ],
      "text/markdown": [
       "\n",
       "A tibble: 10 × 4\n",
       "\n",
       "| continent &lt;fct&gt; | year &lt;int&gt; | lifeExpAvg &lt;dbl&gt; | countriesCount &lt;int&gt; |\n",
       "|---|---|---|---|\n",
       "| Africa   | 2002 | 53.32523 | 52 |\n",
       "| Americas | 2002 | 72.42204 | 25 |\n",
       "| Asia     | 2002 | 69.23388 | 33 |\n",
       "| Europe   | 2002 | 76.70060 | 30 |\n",
       "| Oceania  | 2002 | 79.74000 |  2 |\n",
       "| Africa   | 2007 | 54.80604 | 52 |\n",
       "| Americas | 2007 | 73.60812 | 25 |\n",
       "| Asia     | 2007 | 70.72848 | 33 |\n",
       "| Europe   | 2007 | 77.64860 | 30 |\n",
       "| Oceania  | 2007 | 80.71950 |  2 |\n",
       "\n"
      ],
      "text/plain": [
       "   continent year lifeExpAvg countriesCount\n",
       "1  Africa    2002 53.32523   52            \n",
       "2  Americas  2002 72.42204   25            \n",
       "3  Asia      2002 69.23388   33            \n",
       "4  Europe    2002 76.70060   30            \n",
       "5  Oceania   2002 79.74000    2            \n",
       "6  Africa    2007 54.80604   52            \n",
       "7  Americas  2007 73.60812   25            \n",
       "8  Asia      2007 70.72848   33            \n",
       "9  Europe    2007 77.64860   30            \n",
       "10 Oceania   2007 80.71950    2            "
      ]
     },
     "metadata": {},
     "output_type": "display_data"
    }
   ],
   "source": [
    "d2002 %>% bind_rows(d2007) ## bind rows"
   ]
  },
  {
   "cell_type": "markdown",
   "id": "eeebf16a-a52b-43cc-aa86-ea799e496c6f",
   "metadata": {},
   "source": [
    "---"
   ]
  },
  {
   "cell_type": "markdown",
   "id": "63551ab8-c0cc-4291-bfa7-338cf3494fe5",
   "metadata": {},
   "source": [
    "## `bind_cols`"
   ]
  },
  {
   "cell_type": "markdown",
   "id": "7e91fab3",
   "metadata": {},
   "source": [
    "`bind_cols(.data, …)` helps to unite two dataframes with the same rows count. "
   ]
  },
  {
   "cell_type": "code",
   "execution_count": 14,
   "id": "e4c74f91",
   "metadata": {
    "vscode": {
     "languageId": "r"
    }
   },
   "outputs": [
    {
     "data": {
      "text/html": [
       "<table class=\"dataframe\">\n",
       "<caption>A tibble: 5 × 3</caption>\n",
       "<thead>\n",
       "\t<tr><th scope=col>continent</th><th scope=col>totalPop</th><th scope=col>year</th></tr>\n",
       "\t<tr><th scope=col>&lt;fct&gt;</th><th scope=col>&lt;dbl&gt;</th><th scope=col>&lt;dbl&gt;</th></tr>\n",
       "</thead>\n",
       "<tbody>\n",
       "\t<tr><td>Africa  </td><td> 833723916</td><td>2002</td></tr>\n",
       "\t<tr><td>Americas</td><td> 849772762</td><td>2002</td></tr>\n",
       "\t<tr><td>Asia    </td><td>3601802203</td><td>2002</td></tr>\n",
       "\t<tr><td>Europe  </td><td> 578223869</td><td>2002</td></tr>\n",
       "\t<tr><td>Oceania </td><td>  23454829</td><td>2002</td></tr>\n",
       "</tbody>\n",
       "</table>\n"
      ],
      "text/latex": [
       "A tibble: 5 × 3\n",
       "\\begin{tabular}{lll}\n",
       " continent & totalPop & year\\\\\n",
       " <fct> & <dbl> & <dbl>\\\\\n",
       "\\hline\n",
       "\t Africa   &  833723916 & 2002\\\\\n",
       "\t Americas &  849772762 & 2002\\\\\n",
       "\t Asia     & 3601802203 & 2002\\\\\n",
       "\t Europe   &  578223869 & 2002\\\\\n",
       "\t Oceania  &   23454829 & 2002\\\\\n",
       "\\end{tabular}\n"
      ],
      "text/markdown": [
       "\n",
       "A tibble: 5 × 3\n",
       "\n",
       "| continent &lt;fct&gt; | totalPop &lt;dbl&gt; | year &lt;dbl&gt; |\n",
       "|---|---|---|\n",
       "| Africa   |  833723916 | 2002 |\n",
       "| Americas |  849772762 | 2002 |\n",
       "| Asia     | 3601802203 | 2002 |\n",
       "| Europe   |  578223869 | 2002 |\n",
       "| Oceania  |   23454829 | 2002 |\n",
       "\n"
      ],
      "text/plain": [
       "  continent totalPop   year\n",
       "1 Africa     833723916 2002\n",
       "2 Americas   849772762 2002\n",
       "3 Asia      3601802203 2002\n",
       "4 Europe     578223869 2002\n",
       "5 Oceania     23454829 2002"
      ]
     },
     "metadata": {},
     "output_type": "display_data"
    }
   ],
   "source": [
    "grouped_data2002pop <- gapminder %>%\n",
    "    filter(year == 2002) %>% # year\n",
    "    group_by(continent) %>% # grouping condition\n",
    "    summarise(totalPop = sum(pop)) %>%\n",
    "    mutate(year = 2002)\n",
    "grouped_data2002pop"
   ]
  },
  {
   "cell_type": "markdown",
   "id": "5a34ea9e",
   "metadata": {},
   "source": [
    "Let's combine `d2002` and `grouped_data2002pop`:"
   ]
  },
  {
   "cell_type": "code",
   "execution_count": 15,
   "id": "91e20ef8",
   "metadata": {
    "vscode": {
     "languageId": "r"
    }
   },
   "outputs": [
    {
     "name": "stderr",
     "output_type": "stream",
     "text": [
      "\u001b[1m\u001b[22mNew names:\n",
      "\u001b[36m*\u001b[39m `continent` -> `continent...1`\n",
      "\u001b[36m*\u001b[39m `year` -> `year...2`\n",
      "\u001b[36m*\u001b[39m `continent` -> `continent...5`\n",
      "\u001b[36m*\u001b[39m `year` -> `year...7`\n"
     ]
    },
    {
     "data": {
      "text/html": [
       "<table class=\"dataframe\">\n",
       "<caption>A tibble: 5 × 7</caption>\n",
       "<thead>\n",
       "\t<tr><th scope=col>continent...1</th><th scope=col>year...2</th><th scope=col>lifeExpAvg</th><th scope=col>countriesCount</th><th scope=col>continent...5</th><th scope=col>totalPop</th><th scope=col>year...7</th></tr>\n",
       "\t<tr><th scope=col>&lt;fct&gt;</th><th scope=col>&lt;int&gt;</th><th scope=col>&lt;dbl&gt;</th><th scope=col>&lt;int&gt;</th><th scope=col>&lt;fct&gt;</th><th scope=col>&lt;dbl&gt;</th><th scope=col>&lt;dbl&gt;</th></tr>\n",
       "</thead>\n",
       "<tbody>\n",
       "\t<tr><td>Africa  </td><td>2002</td><td>53.32523</td><td>52</td><td>Africa  </td><td> 833723916</td><td>2002</td></tr>\n",
       "\t<tr><td>Americas</td><td>2002</td><td>72.42204</td><td>25</td><td>Americas</td><td> 849772762</td><td>2002</td></tr>\n",
       "\t<tr><td>Asia    </td><td>2002</td><td>69.23388</td><td>33</td><td>Asia    </td><td>3601802203</td><td>2002</td></tr>\n",
       "\t<tr><td>Europe  </td><td>2002</td><td>76.70060</td><td>30</td><td>Europe  </td><td> 578223869</td><td>2002</td></tr>\n",
       "\t<tr><td>Oceania </td><td>2002</td><td>79.74000</td><td> 2</td><td>Oceania </td><td>  23454829</td><td>2002</td></tr>\n",
       "</tbody>\n",
       "</table>\n"
      ],
      "text/latex": [
       "A tibble: 5 × 7\n",
       "\\begin{tabular}{lllllll}\n",
       " continent...1 & year...2 & lifeExpAvg & countriesCount & continent...5 & totalPop & year...7\\\\\n",
       " <fct> & <int> & <dbl> & <int> & <fct> & <dbl> & <dbl>\\\\\n",
       "\\hline\n",
       "\t Africa   & 2002 & 53.32523 & 52 & Africa   &  833723916 & 2002\\\\\n",
       "\t Americas & 2002 & 72.42204 & 25 & Americas &  849772762 & 2002\\\\\n",
       "\t Asia     & 2002 & 69.23388 & 33 & Asia     & 3601802203 & 2002\\\\\n",
       "\t Europe   & 2002 & 76.70060 & 30 & Europe   &  578223869 & 2002\\\\\n",
       "\t Oceania  & 2002 & 79.74000 &  2 & Oceania  &   23454829 & 2002\\\\\n",
       "\\end{tabular}\n"
      ],
      "text/markdown": [
       "\n",
       "A tibble: 5 × 7\n",
       "\n",
       "| continent...1 &lt;fct&gt; | year...2 &lt;int&gt; | lifeExpAvg &lt;dbl&gt; | countriesCount &lt;int&gt; | continent...5 &lt;fct&gt; | totalPop &lt;dbl&gt; | year...7 &lt;dbl&gt; |\n",
       "|---|---|---|---|---|---|---|\n",
       "| Africa   | 2002 | 53.32523 | 52 | Africa   |  833723916 | 2002 |\n",
       "| Americas | 2002 | 72.42204 | 25 | Americas |  849772762 | 2002 |\n",
       "| Asia     | 2002 | 69.23388 | 33 | Asia     | 3601802203 | 2002 |\n",
       "| Europe   | 2002 | 76.70060 | 30 | Europe   |  578223869 | 2002 |\n",
       "| Oceania  | 2002 | 79.74000 |  2 | Oceania  |   23454829 | 2002 |\n",
       "\n"
      ],
      "text/plain": [
       "  continent...1 year...2 lifeExpAvg countriesCount continent...5 totalPop  \n",
       "1 Africa        2002     53.32523   52             Africa         833723916\n",
       "2 Americas      2002     72.42204   25             Americas       849772762\n",
       "3 Asia          2002     69.23388   33             Asia          3601802203\n",
       "4 Europe        2002     76.70060   30             Europe         578223869\n",
       "5 Oceania       2002     79.74000    2             Oceania         23454829\n",
       "  year...7\n",
       "1 2002    \n",
       "2 2002    \n",
       "3 2002    \n",
       "4 2002    \n",
       "5 2002    "
      ]
     },
     "metadata": {},
     "output_type": "display_data"
    }
   ],
   "source": [
    "grouped_data <- d2002 %>% \n",
    "    bind_cols(grouped_data2002pop)\n",
    "grouped_data\n",
    "\n",
    "# columns with the same name were renamed!"
   ]
  },
  {
   "cell_type": "markdown",
   "id": "d7fb7da1",
   "metadata": {},
   "source": [
    "You can remove same named variables before binding:"
   ]
  },
  {
   "cell_type": "code",
   "execution_count": 18,
   "id": "0ca5c734",
   "metadata": {
    "vscode": {
     "languageId": "r"
    }
   },
   "outputs": [
    {
     "data": {
      "text/html": [
       "<table class=\"dataframe\">\n",
       "<caption>A tibble: 5 × 5</caption>\n",
       "<thead>\n",
       "\t<tr><th scope=col>continent</th><th scope=col>year</th><th scope=col>lifeExpAvg</th><th scope=col>countriesCount</th><th scope=col>totalPop</th></tr>\n",
       "\t<tr><th scope=col>&lt;fct&gt;</th><th scope=col>&lt;int&gt;</th><th scope=col>&lt;dbl&gt;</th><th scope=col>&lt;int&gt;</th><th scope=col>&lt;dbl&gt;</th></tr>\n",
       "</thead>\n",
       "<tbody>\n",
       "\t<tr><td>Africa  </td><td>2002</td><td>53.32523</td><td>52</td><td> 833723916</td></tr>\n",
       "\t<tr><td>Americas</td><td>2002</td><td>72.42204</td><td>25</td><td> 849772762</td></tr>\n",
       "\t<tr><td>Asia    </td><td>2002</td><td>69.23388</td><td>33</td><td>3601802203</td></tr>\n",
       "\t<tr><td>Europe  </td><td>2002</td><td>76.70060</td><td>30</td><td> 578223869</td></tr>\n",
       "\t<tr><td>Oceania </td><td>2002</td><td>79.74000</td><td> 2</td><td>  23454829</td></tr>\n",
       "</tbody>\n",
       "</table>\n"
      ],
      "text/latex": [
       "A tibble: 5 × 5\n",
       "\\begin{tabular}{lllll}\n",
       " continent & year & lifeExpAvg & countriesCount & totalPop\\\\\n",
       " <fct> & <int> & <dbl> & <int> & <dbl>\\\\\n",
       "\\hline\n",
       "\t Africa   & 2002 & 53.32523 & 52 &  833723916\\\\\n",
       "\t Americas & 2002 & 72.42204 & 25 &  849772762\\\\\n",
       "\t Asia     & 2002 & 69.23388 & 33 & 3601802203\\\\\n",
       "\t Europe   & 2002 & 76.70060 & 30 &  578223869\\\\\n",
       "\t Oceania  & 2002 & 79.74000 &  2 &   23454829\\\\\n",
       "\\end{tabular}\n"
      ],
      "text/markdown": [
       "\n",
       "A tibble: 5 × 5\n",
       "\n",
       "| continent &lt;fct&gt; | year &lt;int&gt; | lifeExpAvg &lt;dbl&gt; | countriesCount &lt;int&gt; | totalPop &lt;dbl&gt; |\n",
       "|---|---|---|---|---|\n",
       "| Africa   | 2002 | 53.32523 | 52 |  833723916 |\n",
       "| Americas | 2002 | 72.42204 | 25 |  849772762 |\n",
       "| Asia     | 2002 | 69.23388 | 33 | 3601802203 |\n",
       "| Europe   | 2002 | 76.70060 | 30 |  578223869 |\n",
       "| Oceania  | 2002 | 79.74000 |  2 |   23454829 |\n",
       "\n"
      ],
      "text/plain": [
       "  continent year lifeExpAvg countriesCount totalPop  \n",
       "1 Africa    2002 53.32523   52              833723916\n",
       "2 Americas  2002 72.42204   25              849772762\n",
       "3 Asia      2002 69.23388   33             3601802203\n",
       "4 Europe    2002 76.70060   30              578223869\n",
       "5 Oceania   2002 79.74000    2               23454829"
      ]
     },
     "metadata": {},
     "output_type": "display_data"
    }
   ],
   "source": [
    "grouped_data <- d2002 %>% \n",
    "    bind_cols(grouped_data2002pop %>%\n",
    "              select(-continent, -year))\n",
    "grouped_data\n",
    "\n",
    "# better, but continents order is not the same in both frames \n",
    "# your data is going to be damaged"
   ]
  },
  {
   "cell_type": "code",
   "execution_count": 20,
   "id": "3b988106",
   "metadata": {
    "vscode": {
     "languageId": "r"
    }
   },
   "outputs": [
    {
     "name": "stderr",
     "output_type": "stream",
     "text": [
      "\u001b[1m\u001b[22mNew names:\n",
      "\u001b[36m*\u001b[39m `continent` -> `continent...1`\n",
      "\u001b[36m*\u001b[39m `year` -> `year...2`\n",
      "\u001b[36m*\u001b[39m `continent` -> `continent...5`\n",
      "\u001b[36m*\u001b[39m `year` -> `year...7`\n"
     ]
    },
    {
     "data": {
      "text/html": [
       "<table class=\"dataframe\">\n",
       "<caption>A tibble: 5 × 7</caption>\n",
       "<thead>\n",
       "\t<tr><th scope=col>continent...1</th><th scope=col>year...2</th><th scope=col>lifeExpAvg</th><th scope=col>countriesCount</th><th scope=col>continent...5</th><th scope=col>totalPop</th><th scope=col>year...7</th></tr>\n",
       "\t<tr><th scope=col>&lt;fct&gt;</th><th scope=col>&lt;int&gt;</th><th scope=col>&lt;dbl&gt;</th><th scope=col>&lt;int&gt;</th><th scope=col>&lt;fct&gt;</th><th scope=col>&lt;dbl&gt;</th><th scope=col>&lt;dbl&gt;</th></tr>\n",
       "</thead>\n",
       "<tbody>\n",
       "\t<tr><td>Africa  </td><td>2002</td><td>53.32523</td><td>52</td><td>Oceania </td><td>  23454829</td><td>2002</td></tr>\n",
       "\t<tr><td>Americas</td><td>2002</td><td>72.42204</td><td>25</td><td>Europe  </td><td> 578223869</td><td>2002</td></tr>\n",
       "\t<tr><td>Asia    </td><td>2002</td><td>69.23388</td><td>33</td><td>Africa  </td><td> 833723916</td><td>2002</td></tr>\n",
       "\t<tr><td>Europe  </td><td>2002</td><td>76.70060</td><td>30</td><td>Americas</td><td> 849772762</td><td>2002</td></tr>\n",
       "\t<tr><td>Oceania </td><td>2002</td><td>79.74000</td><td> 2</td><td>Asia    </td><td>3601802203</td><td>2002</td></tr>\n",
       "</tbody>\n",
       "</table>\n"
      ],
      "text/latex": [
       "A tibble: 5 × 7\n",
       "\\begin{tabular}{lllllll}\n",
       " continent...1 & year...2 & lifeExpAvg & countriesCount & continent...5 & totalPop & year...7\\\\\n",
       " <fct> & <int> & <dbl> & <int> & <fct> & <dbl> & <dbl>\\\\\n",
       "\\hline\n",
       "\t Africa   & 2002 & 53.32523 & 52 & Oceania  &   23454829 & 2002\\\\\n",
       "\t Americas & 2002 & 72.42204 & 25 & Europe   &  578223869 & 2002\\\\\n",
       "\t Asia     & 2002 & 69.23388 & 33 & Africa   &  833723916 & 2002\\\\\n",
       "\t Europe   & 2002 & 76.70060 & 30 & Americas &  849772762 & 2002\\\\\n",
       "\t Oceania  & 2002 & 79.74000 &  2 & Asia     & 3601802203 & 2002\\\\\n",
       "\\end{tabular}\n"
      ],
      "text/markdown": [
       "\n",
       "A tibble: 5 × 7\n",
       "\n",
       "| continent...1 &lt;fct&gt; | year...2 &lt;int&gt; | lifeExpAvg &lt;dbl&gt; | countriesCount &lt;int&gt; | continent...5 &lt;fct&gt; | totalPop &lt;dbl&gt; | year...7 &lt;dbl&gt; |\n",
       "|---|---|---|---|---|---|---|\n",
       "| Africa   | 2002 | 53.32523 | 52 | Oceania  |   23454829 | 2002 |\n",
       "| Americas | 2002 | 72.42204 | 25 | Europe   |  578223869 | 2002 |\n",
       "| Asia     | 2002 | 69.23388 | 33 | Africa   |  833723916 | 2002 |\n",
       "| Europe   | 2002 | 76.70060 | 30 | Americas |  849772762 | 2002 |\n",
       "| Oceania  | 2002 | 79.74000 |  2 | Asia     | 3601802203 | 2002 |\n",
       "\n"
      ],
      "text/plain": [
       "  continent...1 year...2 lifeExpAvg countriesCount continent...5 totalPop  \n",
       "1 Africa        2002     53.32523   52             Oceania         23454829\n",
       "2 Americas      2002     72.42204   25             Europe         578223869\n",
       "3 Asia          2002     69.23388   33             Africa         833723916\n",
       "4 Europe        2002     76.70060   30             Americas       849772762\n",
       "5 Oceania       2002     79.74000    2             Asia          3601802203\n",
       "  year...7\n",
       "1 2002    \n",
       "2 2002    \n",
       "3 2002    \n",
       "4 2002    \n",
       "5 2002    "
      ]
     },
     "metadata": {},
     "output_type": "display_data"
    }
   ],
   "source": [
    "grouped_data2002pop <- grouped_data2002pop %>% \n",
    "    arrange(totalPop)\n",
    "\n",
    "grouped_data <- d2002 %>% \n",
    "    bind_cols(grouped_data2002pop)\n",
    "grouped_data\n",
    "\n",
    "# you can see that continent fields different in the same row"
   ]
  },
  {
   "cell_type": "markdown",
   "id": "91c3e85e-705a-4af8-9d42-b613482f4440",
   "metadata": {},
   "source": [
    "How to solve this? **`Join`** functions issolution."
   ]
  },
  {
   "cell_type": "markdown",
   "id": "f8de5135",
   "metadata": {},
   "source": [
    "---"
   ]
  },
  {
   "cell_type": "markdown",
   "id": "9592bda1",
   "metadata": {},
   "source": [
    "## Refences"
   ]
  },
  {
   "cell_type": "markdown",
   "id": "ae226f5e",
   "metadata": {},
   "source": [
    "1. [dplyr: A Grammar of Data Manipulation](https://cran.r-project.org/web/packages/dplyr/index.html) on https://cran.r-project.org/.\n",
    "2. [Data Transformation with splyr::cheat sheet](https://github.com/rstudio/cheatsheets/blob/master/data-transformation.pdf).\n",
    "3. [DPLYR TUTORIAL : DATA MANIPULATION (50 EXAMPLES)](https://www.listendata.com/2016/08/dplyr-tutorial.html) by Deepanshu Bhalla.\n",
    "5. [Dplyr Intro](https://stat545.com/dplyr-intro.html) by Stat 545.\n",
    "6.[R Dplyr Tutorial: Data Manipulation(Join) & Cleaning(Spread)](https://www.guru99.com/r-dplyr-tutorial.html). Introduction to Data Analysis\n",
    "7. [Loan Default Prediction. Beginners data set for financial analytics Kaggle](https://www.kaggle.com/kmldas/loan-default-prediction)"
   ]
  }
 ],
 "metadata": {
  "kernelspec": {
   "display_name": "R",
   "language": "R",
   "name": "ir"
  },
  "language_info": {
   "codemirror_mode": "r",
   "file_extension": ".r",
   "mimetype": "text/x-r-source",
   "name": "R",
   "pygments_lexer": "r",
   "version": "4.1.3"
  }
 },
 "nbformat": 4,
 "nbformat_minor": 5
}
