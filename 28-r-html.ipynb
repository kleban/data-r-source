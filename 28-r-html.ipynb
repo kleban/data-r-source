{
 "cells": [
  {
   "cell_type": "markdown",
   "id": "c2414ff5",
   "metadata": {},
   "source": [
    "---\n",
    "author: \"Юрій Клебан\"\n",
    "---"
   ]
  },
  {
   "cell_type": "markdown",
   "id": "24545e2f",
   "metadata": {},
   "source": [
    "# Web-pages (HTML)"
   ]
  },
  {
   "cell_type": "markdown",
   "id": "9d8293a7",
   "metadata": {},
   "source": [
    "Sometimes decision making needs scrap data from web sources and pages.\n",
    "\n",
    "Let's try to parse data from `Wikipedia` as table. \n",
    "\n"
   ]
  },
  {
   "cell_type": "code",
   "execution_count": 170,
   "id": "8150d2a1",
   "metadata": {},
   "outputs": [],
   "source": [
    "#install.packages(\"rvest\")\n",
    "library(rvest) # Parsing of HTML/XML files"
   ]
  },
  {
   "cell_type": "markdown",
   "id": "8d14e476",
   "metadata": {},
   "source": [
    "Go to web page https://en.wikipedia.org/wiki/List_of_largest_banks and check it."
   ]
  },
  {
   "cell_type": "code",
   "execution_count": 171,
   "id": "ece191fc",
   "metadata": {},
   "outputs": [],
   "source": [
    "# fix URL\n",
    "url <- \"https://en.wikipedia.org/wiki/List_of_largest_banks\"\n",
    "#url <- \"data/List of largest banks - Wikipedia_.html\""
   ]
  },
  {
   "cell_type": "code",
   "execution_count": 172,
   "id": "3227cd88",
   "metadata": {},
   "outputs": [
    {
     "data": {
      "text/plain": [
       "{html_document}\n",
       "<html class=\"client-nojs\" lang=\"en\" dir=\"ltr\">\n",
       "[1] <head>\\n<meta http-equiv=\"Content-Type\" content=\"text/html; charset=UTF-8 ...\n",
       "[2] <body class=\"mediawiki ltr sitedir-ltr mw-hide-empty-elt ns-0 ns-subject  ..."
      ]
     },
     "metadata": {},
     "output_type": "display_data"
    }
   ],
   "source": [
    "# read html content of the page\n",
    "page <- read_html(url)\n",
    "page"
   ]
  },
  {
   "cell_type": "code",
   "execution_count": 173,
   "id": "e6b936b8",
   "metadata": {},
   "outputs": [
    {
     "data": {
      "text/plain": [
       "{xml_nodeset (4)}\n",
       "[1] <table class=\"box-Missing_information plainlinks metadata ambox ambox-con ...\n",
       "[2] <table class=\"wikitable sortable mw-collapsible\"><tbody>\\n<tr>\\n<th data- ...\n",
       "[3] <table class=\"wikitable sortable mw-collapsible\">\\n<caption>Number of ban ...\n",
       "[4] <table class=\"wikitable sortable mw-collapsible\"><tbody>\\n<tr>\\n<th data- ..."
      ]
     },
     "metadata": {},
     "output_type": "display_data"
    }
   ],
   "source": [
    "# read all yables on page\n",
    "tables <- html_nodes(page, \"table\")\n",
    "tables"
   ]
  },
  {
   "cell_type": "markdown",
   "id": "3be6c448",
   "metadata": {},
   "source": [
    "For now, let's read a table of Total Assets in US Billion"
   ]
  },
  {
   "cell_type": "code",
   "execution_count": 174,
   "id": "899f507b",
   "metadata": {},
   "outputs": [
    {
     "data": {
      "text/html": [
       "<table class=\"dataframe\">\n",
       "<caption>A data.frame: 6 × 3</caption>\n",
       "<thead>\n",
       "\t<tr><th></th><th scope=col>Rank</th><th scope=col>Bank.name</th><th scope=col>Total.assets.2020..US..billion.</th></tr>\n",
       "\t<tr><th></th><th scope=col>&lt;int&gt;</th><th scope=col>&lt;chr&gt;</th><th scope=col>&lt;chr&gt;</th></tr>\n",
       "</thead>\n",
       "<tbody>\n",
       "\t<tr><th scope=row>1</th><td>1</td><td>Industrial and Commercial Bank of China</td><td>5,518.00</td></tr>\n",
       "\t<tr><th scope=row>2</th><td>2</td><td>China Construction Bank                </td><td>4,400.00</td></tr>\n",
       "\t<tr><th scope=row>3</th><td>3</td><td>Agricultural Bank of China             </td><td>4,300.00</td></tr>\n",
       "\t<tr><th scope=row>4</th><td>4</td><td>Bank of China                          </td><td>4,200.00</td></tr>\n",
       "\t<tr><th scope=row>5</th><td>5</td><td>JPMorgan Chase                         </td><td>3,831.65</td></tr>\n",
       "\t<tr><th scope=row>6</th><td>6</td><td>Mitsubishi UFJ Financial Group         </td><td>3,175.21</td></tr>\n",
       "</tbody>\n",
       "</table>\n"
      ],
      "text/latex": [
       "A data.frame: 6 × 3\n",
       "\\begin{tabular}{r|lll}\n",
       "  & Rank & Bank.name & Total.assets.2020..US..billion.\\\\\n",
       "  & <int> & <chr> & <chr>\\\\\n",
       "\\hline\n",
       "\t1 & 1 & Industrial and Commercial Bank of China & 5,518.00\\\\\n",
       "\t2 & 2 & China Construction Bank                 & 4,400.00\\\\\n",
       "\t3 & 3 & Agricultural Bank of China              & 4,300.00\\\\\n",
       "\t4 & 4 & Bank of China                           & 4,200.00\\\\\n",
       "\t5 & 5 & JPMorgan Chase                          & 3,831.65\\\\\n",
       "\t6 & 6 & Mitsubishi UFJ Financial Group          & 3,175.21\\\\\n",
       "\\end{tabular}\n"
      ],
      "text/markdown": [
       "\n",
       "A data.frame: 6 × 3\n",
       "\n",
       "| <!--/--> | Rank &lt;int&gt; | Bank.name &lt;chr&gt; | Total.assets.2020..US..billion. &lt;chr&gt; |\n",
       "|---|---|---|---|\n",
       "| 1 | 1 | Industrial and Commercial Bank of China | 5,518.00 |\n",
       "| 2 | 2 | China Construction Bank                 | 4,400.00 |\n",
       "| 3 | 3 | Agricultural Bank of China              | 4,300.00 |\n",
       "| 4 | 4 | Bank of China                           | 4,200.00 |\n",
       "| 5 | 5 | JPMorgan Chase                          | 3,831.65 |\n",
       "| 6 | 6 | Mitsubishi UFJ Financial Group          | 3,175.21 |\n",
       "\n"
      ],
      "text/plain": [
       "  Rank Bank.name                               Total.assets.2020..US..billion.\n",
       "1 1    Industrial and Commercial Bank of China 5,518.00                       \n",
       "2 2    China Construction Bank                 4,400.00                       \n",
       "3 3    Agricultural Bank of China              4,300.00                       \n",
       "4 4    Bank of China                           4,200.00                       \n",
       "5 5    JPMorgan Chase                          3,831.65                       \n",
       "6 6    Mitsubishi UFJ Financial Group          3,175.21                       "
      ]
     },
     "metadata": {},
     "output_type": "display_data"
    }
   ],
   "source": [
    "# with pipe operator\n",
    "#tables[2] %>% \n",
    " #   html_table(fill = TRUE) %>% \n",
    " #   as.data.frame()\n",
    "#without pipe operator\n",
    "assets_table <- as.data.frame(html_table(tables[2], fill = TRUE))   \n",
    "head(assets_table)"
   ]
  },
  {
   "cell_type": "markdown",
   "id": "94922e0a",
   "metadata": {},
   "source": [
    "Next is reading data of market capitalization table (4th):"
   ]
  },
  {
   "cell_type": "code",
   "execution_count": 175,
   "id": "2e8081a0",
   "metadata": {},
   "outputs": [
    {
     "data": {
      "text/html": [
       "<table class=\"dataframe\">\n",
       "<caption>A data.frame: 6 × 3</caption>\n",
       "<thead>\n",
       "\t<tr><th></th><th scope=col>Rank</th><th scope=col>Bank.name</th><th scope=col>Market.cap.US..billion.</th></tr>\n",
       "\t<tr><th></th><th scope=col>&lt;int&gt;</th><th scope=col>&lt;chr&gt;</th><th scope=col>&lt;dbl&gt;</th></tr>\n",
       "</thead>\n",
       "<tbody>\n",
       "\t<tr><th scope=row>1</th><td>1</td><td>JPMorgan Chase                         </td><td>368.78</td></tr>\n",
       "\t<tr><th scope=row>2</th><td>2</td><td>Industrial and Commercial Bank of China</td><td>295.65</td></tr>\n",
       "\t<tr><th scope=row>3</th><td>3</td><td>Bank of America                        </td><td>279.73</td></tr>\n",
       "\t<tr><th scope=row>4</th><td>4</td><td>Wells Fargo                            </td><td>214.34</td></tr>\n",
       "\t<tr><th scope=row>5</th><td>5</td><td>China Construction Bank                </td><td>207.98</td></tr>\n",
       "\t<tr><th scope=row>6</th><td>6</td><td>Agricultural Bank of China             </td><td>181.49</td></tr>\n",
       "</tbody>\n",
       "</table>\n"
      ],
      "text/latex": [
       "A data.frame: 6 × 3\n",
       "\\begin{tabular}{r|lll}\n",
       "  & Rank & Bank.name & Market.cap.US..billion.\\\\\n",
       "  & <int> & <chr> & <dbl>\\\\\n",
       "\\hline\n",
       "\t1 & 1 & JPMorgan Chase                          & 368.78\\\\\n",
       "\t2 & 2 & Industrial and Commercial Bank of China & 295.65\\\\\n",
       "\t3 & 3 & Bank of America                         & 279.73\\\\\n",
       "\t4 & 4 & Wells Fargo                             & 214.34\\\\\n",
       "\t5 & 5 & China Construction Bank                 & 207.98\\\\\n",
       "\t6 & 6 & Agricultural Bank of China              & 181.49\\\\\n",
       "\\end{tabular}\n"
      ],
      "text/markdown": [
       "\n",
       "A data.frame: 6 × 3\n",
       "\n",
       "| <!--/--> | Rank &lt;int&gt; | Bank.name &lt;chr&gt; | Market.cap.US..billion. &lt;dbl&gt; |\n",
       "|---|---|---|---|\n",
       "| 1 | 1 | JPMorgan Chase                          | 368.78 |\n",
       "| 2 | 2 | Industrial and Commercial Bank of China | 295.65 |\n",
       "| 3 | 3 | Bank of America                         | 279.73 |\n",
       "| 4 | 4 | Wells Fargo                             | 214.34 |\n",
       "| 5 | 5 | China Construction Bank                 | 207.98 |\n",
       "| 6 | 6 | Agricultural Bank of China              | 181.49 |\n",
       "\n"
      ],
      "text/plain": [
       "  Rank Bank.name                               Market.cap.US..billion.\n",
       "1 1    JPMorgan Chase                          368.78                 \n",
       "2 2    Industrial and Commercial Bank of China 295.65                 \n",
       "3 3    Bank of America                         279.73                 \n",
       "4 4    Wells Fargo                             214.34                 \n",
       "5 5    China Construction Bank                 207.98                 \n",
       "6 6    Agricultural Bank of China              181.49                 "
      ]
     },
     "metadata": {},
     "output_type": "display_data"
    }
   ],
   "source": [
    "capital_table <- as.data.frame(html_table(tables[4], fill = TRUE))   \n",
    "head(capital_table)"
   ]
  },
  {
   "cell_type": "markdown",
   "id": "7594ba87",
   "metadata": {},
   "source": [
    "And now let's `merge()` this two datasets:"
   ]
  },
  {
   "cell_type": "code",
   "execution_count": 176,
   "id": "a140775f",
   "metadata": {},
   "outputs": [
    {
     "data": {
      "text/html": [
       "<table class=\"dataframe\">\n",
       "<caption>A data.frame: 6 × 5</caption>\n",
       "<thead>\n",
       "\t<tr><th></th><th scope=col>Bank.name</th><th scope=col>Rank.x</th><th scope=col>Total.assets.2020..US..billion.</th><th scope=col>Rank.y</th><th scope=col>Market.cap.US..billion.</th></tr>\n",
       "\t<tr><th></th><th scope=col>&lt;chr&gt;</th><th scope=col>&lt;int&gt;</th><th scope=col>&lt;chr&gt;</th><th scope=col>&lt;int&gt;</th><th scope=col>&lt;dbl&gt;</th></tr>\n",
       "</thead>\n",
       "<tbody>\n",
       "\t<tr><th scope=row>1</th><td>Agricultural Bank of China             </td><td> 3</td><td>4,300.00</td><td> 6</td><td>181.49</td></tr>\n",
       "\t<tr><th scope=row>2</th><td>Australia and New Zealand Banking Group</td><td>48</td><td>661.72  </td><td>26</td><td> 54.88</td></tr>\n",
       "\t<tr><th scope=row>3</th><td>Banco Bilbao Vizcaya Argentaria        </td><td>42</td><td>782.16  </td><td>37</td><td> 37.42</td></tr>\n",
       "\t<tr><th scope=row>4</th><td>Banco Bradesco                         </td><td>79</td><td>345.21  </td><td>18</td><td> 74.67</td></tr>\n",
       "\t<tr><th scope=row>5</th><td>Banco Santander                        </td><td>16</td><td>1,702.61</td><td>17</td><td> 75.47</td></tr>\n",
       "\t<tr><th scope=row>6</th><td>Bank of America                        </td><td> 8</td><td>2,434.08</td><td> 3</td><td>279.73</td></tr>\n",
       "</tbody>\n",
       "</table>\n"
      ],
      "text/latex": [
       "A data.frame: 6 × 5\n",
       "\\begin{tabular}{r|lllll}\n",
       "  & Bank.name & Rank.x & Total.assets.2020..US..billion. & Rank.y & Market.cap.US..billion.\\\\\n",
       "  & <chr> & <int> & <chr> & <int> & <dbl>\\\\\n",
       "\\hline\n",
       "\t1 & Agricultural Bank of China              &  3 & 4,300.00 &  6 & 181.49\\\\\n",
       "\t2 & Australia and New Zealand Banking Group & 48 & 661.72   & 26 &  54.88\\\\\n",
       "\t3 & Banco Bilbao Vizcaya Argentaria         & 42 & 782.16   & 37 &  37.42\\\\\n",
       "\t4 & Banco Bradesco                          & 79 & 345.21   & 18 &  74.67\\\\\n",
       "\t5 & Banco Santander                         & 16 & 1,702.61 & 17 &  75.47\\\\\n",
       "\t6 & Bank of America                         &  8 & 2,434.08 &  3 & 279.73\\\\\n",
       "\\end{tabular}\n"
      ],
      "text/markdown": [
       "\n",
       "A data.frame: 6 × 5\n",
       "\n",
       "| <!--/--> | Bank.name &lt;chr&gt; | Rank.x &lt;int&gt; | Total.assets.2020..US..billion. &lt;chr&gt; | Rank.y &lt;int&gt; | Market.cap.US..billion. &lt;dbl&gt; |\n",
       "|---|---|---|---|---|---|\n",
       "| 1 | Agricultural Bank of China              |  3 | 4,300.00 |  6 | 181.49 |\n",
       "| 2 | Australia and New Zealand Banking Group | 48 | 661.72   | 26 |  54.88 |\n",
       "| 3 | Banco Bilbao Vizcaya Argentaria         | 42 | 782.16   | 37 |  37.42 |\n",
       "| 4 | Banco Bradesco                          | 79 | 345.21   | 18 |  74.67 |\n",
       "| 5 | Banco Santander                         | 16 | 1,702.61 | 17 |  75.47 |\n",
       "| 6 | Bank of America                         |  8 | 2,434.08 |  3 | 279.73 |\n",
       "\n"
      ],
      "text/plain": [
       "  Bank.name                               Rank.x\n",
       "1 Agricultural Bank of China               3    \n",
       "2 Australia and New Zealand Banking Group 48    \n",
       "3 Banco Bilbao Vizcaya Argentaria         42    \n",
       "4 Banco Bradesco                          79    \n",
       "5 Banco Santander                         16    \n",
       "6 Bank of America                          8    \n",
       "  Total.assets.2020..US..billion. Rank.y Market.cap.US..billion.\n",
       "1 4,300.00                         6     181.49                 \n",
       "2 661.72                          26      54.88                 \n",
       "3 782.16                          37      37.42                 \n",
       "4 345.21                          18      74.67                 \n",
       "5 1,702.61                        17      75.47                 \n",
       "6 2,434.08                         3     279.73                 "
      ]
     },
     "metadata": {},
     "output_type": "display_data"
    }
   ],
   "source": [
    "merged_data <- merge(assets_table, capital_table, by = \"Bank.name\")\n",
    "head(merged_data)"
   ]
  },
  {
   "cell_type": "markdown",
   "id": "6f26a8d1",
   "metadata": {},
   "source": [
    "## Task 3"
   ]
  },
  {
   "cell_type": "markdown",
   "id": "16e086a8",
   "metadata": {},
   "source": [
    "From a page https://en.wikipedia.org/wiki/List_of_largest_banks read and `merge by country` named tables:\n",
    "\n",
    "- [x] Number of banks in the top 100 by total assets\n",
    "- [x] Total market capital (US$ billion) across the top 70 banks by country"
   ]
  },
  {
   "cell_type": "markdown",
   "id": "63a922e1",
   "metadata": {},
   "source": [
    "**Solution**"
   ]
  },
  {
   "cell_type": "code",
   "execution_count": 178,
   "id": "982899f2",
   "metadata": {},
   "outputs": [
    {
     "data": {
      "text/html": [
       "<ol>\n",
       "\t<li><table class=\"dataframe\">\n",
       "<caption>A tibble: 1 <U+00D7> 2</caption>\n",
       "<thead>\n",
       "\t<tr><th scope=col>X1</th><th scope=col>X2</th></tr>\n",
       "\t<tr><th scope=col>&lt;lgl&gt;</th><th scope=col>&lt;chr&gt;</th></tr>\n",
       "</thead>\n",
       "<tbody>\n",
       "\t<tr><td>NA</td><td>This article is missing information about Revenue and Employment. Please expand the article to include this information. Further details may exist on the talk page.  (September 2020)</td></tr>\n",
       "</tbody>\n",
       "</table>\n",
       "</li>\n",
       "</ol>\n"
      ],
      "text/latex": [
       "\\begin{enumerate}\n",
       "\\item A tibble: 1 <U+00D7> 2\n",
       "\\begin{tabular}{ll}\n",
       " X1 & X2\\\\\n",
       " <lgl> & <chr>\\\\\n",
       "\\hline\n",
       "\t NA & This article is missing information about Revenue and Employment. Please expand the article to include this information. Further details may exist on the talk page.  (September 2020)\\\\\n",
       "\\end{tabular}\n",
       "\n",
       "\\end{enumerate}\n"
      ],
      "text/markdown": [
       "1. \n",
       "A tibble: 1 <U+00D7> 2\n",
       "\n",
       "| X1 &lt;lgl&gt; | X2 &lt;chr&gt; |\n",
       "|---|---|\n",
       "| NA | This article is missing information about Revenue and Employment. Please expand the article to include this information. Further details may exist on the talk page.  (September 2020) |\n",
       "\n",
       "\n",
       "\n",
       "\n"
      ],
      "text/plain": [
       "[[1]]\n",
       "\u001b[90m# A tibble: 1 x 2\u001b[39m\n",
       "  X1    X2                                                                      \n",
       "  \u001b[3m\u001b[90m<lgl>\u001b[39m\u001b[23m \u001b[3m\u001b[90m<chr>\u001b[39m\u001b[23m                                                                   \n",
       "\u001b[90m1\u001b[39m \u001b[31mNA\u001b[39m    This article is missing information about Revenue and Employment. Pleas~\n"
      ]
     },
     "metadata": {},
     "output_type": "display_data"
    }
   ],
   "source": [
    "library(rvest)\n",
    "url <- \"https://en.wikipedia.org/wiki/List_of_largest_banks\" # got to url in other tab\n",
    "#url <- \"data/List of largest banks - Wikipedia_.html\"\n",
    "page_data <- read_html(url) # read html content\n",
    "\n",
    "tables <- html_nodes(page_data, \"table\")\n",
    "html_table(tables[1]) #its not needed table"
   ]
  },
  {
   "cell_type": "code",
   "execution_count": 179,
   "id": "8a9a5a7d",
   "metadata": {},
   "outputs": [
    {
     "data": {
      "text/html": [
       "<ol>\n",
       "\t<li><table class=\"dataframe\">\n",
       "<caption>A tibble: 26 <U+00D7> 3</caption>\n",
       "<thead>\n",
       "\t<tr><th scope=col>Rank</th><th scope=col>Country</th><th scope=col>Number</th></tr>\n",
       "\t<tr><th scope=col>&lt;int&gt;</th><th scope=col>&lt;chr&gt;</th><th scope=col>&lt;int&gt;</th></tr>\n",
       "</thead>\n",
       "<tbody>\n",
       "\t<tr><td>1</td><td>China         </td><td>19</td></tr>\n",
       "\t<tr><td>2</td><td>United States </td><td>11</td></tr>\n",
       "\t<tr><td>3</td><td>Japan         </td><td> 8</td></tr>\n",
       "\t<tr><td>4</td><td>United Kingdom</td><td> 6</td></tr>\n",
       "\t<tr><td>4</td><td>France        </td><td> 6</td></tr>\n",
       "\t<tr><td>4</td><td>South Korea   </td><td> 6</td></tr>\n",
       "\t<tr><td>5</td><td>Canada        </td><td> 5</td></tr>\n",
       "\t<tr><td>5</td><td>Germany       </td><td> 5</td></tr>\n",
       "\t<tr><td>6</td><td>Australia     </td><td> 4</td></tr>\n",
       "\t<tr><td>6</td><td>Brazil        </td><td> 4</td></tr>\n",
       "\t<tr><td>6</td><td>Spain         </td><td> 4</td></tr>\n",
       "\t<tr><td>7</td><td>Netherlands   </td><td> 3</td></tr>\n",
       "\t<tr><td>7</td><td>Singapore     </td><td> 3</td></tr>\n",
       "\t<tr><td>7</td><td>Sweden        </td><td> 3</td></tr>\n",
       "\t<tr><td>7</td><td>Switzerland   </td><td> 3</td></tr>\n",
       "\t<tr><td>8</td><td>Italy         </td><td> 2</td></tr>\n",
       "\t<tr><td>9</td><td>India         </td><td> 1</td></tr>\n",
       "\t<tr><td>9</td><td>Austria       </td><td> 1</td></tr>\n",
       "\t<tr><td>9</td><td>Belgium       </td><td> 1</td></tr>\n",
       "\t<tr><td>9</td><td>Denmark       </td><td> 1</td></tr>\n",
       "\t<tr><td>9</td><td>Finland       </td><td> 1</td></tr>\n",
       "\t<tr><td>9</td><td>Norway        </td><td> 1</td></tr>\n",
       "\t<tr><td>9</td><td>Russia        </td><td> 1</td></tr>\n",
       "\t<tr><td>9</td><td>Qatar         </td><td> 1</td></tr>\n",
       "\t<tr><td>9</td><td>NA            </td><td>NA</td></tr>\n",
       "\t<tr><td>9</td><td>NA            </td><td>NA</td></tr>\n",
       "</tbody>\n",
       "</table>\n",
       "</li>\n",
       "</ol>\n"
      ],
      "text/latex": [
       "\\begin{enumerate}\n",
       "\\item A tibble: 26 <U+00D7> 3\n",
       "\\begin{tabular}{lll}\n",
       " Rank & Country & Number\\\\\n",
       " <int> & <chr> & <int>\\\\\n",
       "\\hline\n",
       "\t 1 & China          & 19\\\\\n",
       "\t 2 & United States  & 11\\\\\n",
       "\t 3 & Japan          &  8\\\\\n",
       "\t 4 & United Kingdom &  6\\\\\n",
       "\t 4 & France         &  6\\\\\n",
       "\t 4 & South Korea    &  6\\\\\n",
       "\t 5 & Canada         &  5\\\\\n",
       "\t 5 & Germany        &  5\\\\\n",
       "\t 6 & Australia      &  4\\\\\n",
       "\t 6 & Brazil         &  4\\\\\n",
       "\t 6 & Spain          &  4\\\\\n",
       "\t 7 & Netherlands    &  3\\\\\n",
       "\t 7 & Singapore      &  3\\\\\n",
       "\t 7 & Sweden         &  3\\\\\n",
       "\t 7 & Switzerland    &  3\\\\\n",
       "\t 8 & Italy          &  2\\\\\n",
       "\t 9 & India          &  1\\\\\n",
       "\t 9 & Austria        &  1\\\\\n",
       "\t 9 & Belgium        &  1\\\\\n",
       "\t 9 & Denmark        &  1\\\\\n",
       "\t 9 & Finland        &  1\\\\\n",
       "\t 9 & Norway         &  1\\\\\n",
       "\t 9 & Russia         &  1\\\\\n",
       "\t 9 & Qatar          &  1\\\\\n",
       "\t 9 & NA             & NA\\\\\n",
       "\t 9 & NA             & NA\\\\\n",
       "\\end{tabular}\n",
       "\n",
       "\\end{enumerate}\n"
      ],
      "text/markdown": [
       "1. \n",
       "A tibble: 26 <U+00D7> 3\n",
       "\n",
       "| Rank &lt;int&gt; | Country &lt;chr&gt; | Number &lt;int&gt; |\n",
       "|---|---|---|\n",
       "| 1 | China          | 19 |\n",
       "| 2 | United States  | 11 |\n",
       "| 3 | Japan          |  8 |\n",
       "| 4 | United Kingdom |  6 |\n",
       "| 4 | France         |  6 |\n",
       "| 4 | South Korea    |  6 |\n",
       "| 5 | Canada         |  5 |\n",
       "| 5 | Germany        |  5 |\n",
       "| 6 | Australia      |  4 |\n",
       "| 6 | Brazil         |  4 |\n",
       "| 6 | Spain          |  4 |\n",
       "| 7 | Netherlands    |  3 |\n",
       "| 7 | Singapore      |  3 |\n",
       "| 7 | Sweden         |  3 |\n",
       "| 7 | Switzerland    |  3 |\n",
       "| 8 | Italy          |  2 |\n",
       "| 9 | India          |  1 |\n",
       "| 9 | Austria        |  1 |\n",
       "| 9 | Belgium        |  1 |\n",
       "| 9 | Denmark        |  1 |\n",
       "| 9 | Finland        |  1 |\n",
       "| 9 | Norway         |  1 |\n",
       "| 9 | Russia         |  1 |\n",
       "| 9 | Qatar          |  1 |\n",
       "| 9 | NA             | NA |\n",
       "| 9 | NA             | NA |\n",
       "\n",
       "\n",
       "\n",
       "\n"
      ],
      "text/plain": [
       "[[1]]\n",
       "\u001b[90m# A tibble: 26 x 3\u001b[39m\n",
       "    Rank Country        Number\n",
       "   \u001b[3m\u001b[90m<int>\u001b[39m\u001b[23m \u001b[3m\u001b[90m<chr>\u001b[39m\u001b[23m           \u001b[3m\u001b[90m<int>\u001b[39m\u001b[23m\n",
       "\u001b[90m 1\u001b[39m     1 China              19\n",
       "\u001b[90m 2\u001b[39m     2 United States      11\n",
       "\u001b[90m 3\u001b[39m     3 Japan               8\n",
       "\u001b[90m 4\u001b[39m     4 United Kingdom      6\n",
       "\u001b[90m 5\u001b[39m     4 France              6\n",
       "\u001b[90m 6\u001b[39m     4 South Korea         6\n",
       "\u001b[90m 7\u001b[39m     5 Canada              5\n",
       "\u001b[90m 8\u001b[39m     5 Germany             5\n",
       "\u001b[90m 9\u001b[39m     6 Australia           4\n",
       "\u001b[90m10\u001b[39m     6 Brazil              4\n",
       "\u001b[90m# ... with 16 more rows\u001b[39m\n"
      ]
     },
     "metadata": {},
     "output_type": "display_data"
    }
   ],
   "source": [
    "html_table(tables[3]) # thats solution for \"Number of banks in the top 100 by total assets\"\n",
    "#check the end of table. There are NA record\n",
    "# lets remove it"
   ]
  },
  {
   "cell_type": "code",
   "execution_count": 180,
   "id": "1670e8a2",
   "metadata": {},
   "outputs": [
    {
     "data": {
      "text/html": [
       "<table class=\"dataframe\">\n",
       "<caption>A data.frame: 24 × 3</caption>\n",
       "<thead>\n",
       "\t<tr><th></th><th scope=col>Rank</th><th scope=col>Country</th><th scope=col>Number</th></tr>\n",
       "\t<tr><th></th><th scope=col>&lt;int&gt;</th><th scope=col>&lt;chr&gt;</th><th scope=col>&lt;int&gt;</th></tr>\n",
       "</thead>\n",
       "<tbody>\n",
       "\t<tr><th scope=row>1</th><td>1</td><td>China         </td><td>19</td></tr>\n",
       "\t<tr><th scope=row>2</th><td>2</td><td>United States </td><td>11</td></tr>\n",
       "\t<tr><th scope=row>3</th><td>3</td><td>Japan         </td><td> 8</td></tr>\n",
       "\t<tr><th scope=row>4</th><td>4</td><td>United Kingdom</td><td> 6</td></tr>\n",
       "\t<tr><th scope=row>5</th><td>4</td><td>France        </td><td> 6</td></tr>\n",
       "\t<tr><th scope=row>6</th><td>4</td><td>South Korea   </td><td> 6</td></tr>\n",
       "\t<tr><th scope=row>7</th><td>5</td><td>Canada        </td><td> 5</td></tr>\n",
       "\t<tr><th scope=row>8</th><td>5</td><td>Germany       </td><td> 5</td></tr>\n",
       "\t<tr><th scope=row>9</th><td>6</td><td>Australia     </td><td> 4</td></tr>\n",
       "\t<tr><th scope=row>10</th><td>6</td><td>Brazil        </td><td> 4</td></tr>\n",
       "\t<tr><th scope=row>11</th><td>6</td><td>Spain         </td><td> 4</td></tr>\n",
       "\t<tr><th scope=row>12</th><td>7</td><td>Netherlands   </td><td> 3</td></tr>\n",
       "\t<tr><th scope=row>13</th><td>7</td><td>Singapore     </td><td> 3</td></tr>\n",
       "\t<tr><th scope=row>14</th><td>7</td><td>Sweden        </td><td> 3</td></tr>\n",
       "\t<tr><th scope=row>15</th><td>7</td><td>Switzerland   </td><td> 3</td></tr>\n",
       "\t<tr><th scope=row>16</th><td>8</td><td>Italy         </td><td> 2</td></tr>\n",
       "\t<tr><th scope=row>17</th><td>9</td><td>India         </td><td> 1</td></tr>\n",
       "\t<tr><th scope=row>18</th><td>9</td><td>Austria       </td><td> 1</td></tr>\n",
       "\t<tr><th scope=row>19</th><td>9</td><td>Belgium       </td><td> 1</td></tr>\n",
       "\t<tr><th scope=row>20</th><td>9</td><td>Denmark       </td><td> 1</td></tr>\n",
       "\t<tr><th scope=row>21</th><td>9</td><td>Finland       </td><td> 1</td></tr>\n",
       "\t<tr><th scope=row>22</th><td>9</td><td>Norway        </td><td> 1</td></tr>\n",
       "\t<tr><th scope=row>23</th><td>9</td><td>Russia        </td><td> 1</td></tr>\n",
       "\t<tr><th scope=row>24</th><td>9</td><td>Qatar         </td><td> 1</td></tr>\n",
       "</tbody>\n",
       "</table>\n"
      ],
      "text/latex": [
       "A data.frame: 24 × 3\n",
       "\\begin{tabular}{r|lll}\n",
       "  & Rank & Country & Number\\\\\n",
       "  & <int> & <chr> & <int>\\\\\n",
       "\\hline\n",
       "\t1 & 1 & China          & 19\\\\\n",
       "\t2 & 2 & United States  & 11\\\\\n",
       "\t3 & 3 & Japan          &  8\\\\\n",
       "\t4 & 4 & United Kingdom &  6\\\\\n",
       "\t5 & 4 & France         &  6\\\\\n",
       "\t6 & 4 & South Korea    &  6\\\\\n",
       "\t7 & 5 & Canada         &  5\\\\\n",
       "\t8 & 5 & Germany        &  5\\\\\n",
       "\t9 & 6 & Australia      &  4\\\\\n",
       "\t10 & 6 & Brazil         &  4\\\\\n",
       "\t11 & 6 & Spain          &  4\\\\\n",
       "\t12 & 7 & Netherlands    &  3\\\\\n",
       "\t13 & 7 & Singapore      &  3\\\\\n",
       "\t14 & 7 & Sweden         &  3\\\\\n",
       "\t15 & 7 & Switzerland    &  3\\\\\n",
       "\t16 & 8 & Italy          &  2\\\\\n",
       "\t17 & 9 & India          &  1\\\\\n",
       "\t18 & 9 & Austria        &  1\\\\\n",
       "\t19 & 9 & Belgium        &  1\\\\\n",
       "\t20 & 9 & Denmark        &  1\\\\\n",
       "\t21 & 9 & Finland        &  1\\\\\n",
       "\t22 & 9 & Norway         &  1\\\\\n",
       "\t23 & 9 & Russia         &  1\\\\\n",
       "\t24 & 9 & Qatar          &  1\\\\\n",
       "\\end{tabular}\n"
      ],
      "text/markdown": [
       "\n",
       "A data.frame: 24 × 3\n",
       "\n",
       "| <!--/--> | Rank &lt;int&gt; | Country &lt;chr&gt; | Number &lt;int&gt; |\n",
       "|---|---|---|---|\n",
       "| 1 | 1 | China          | 19 |\n",
       "| 2 | 2 | United States  | 11 |\n",
       "| 3 | 3 | Japan          |  8 |\n",
       "| 4 | 4 | United Kingdom |  6 |\n",
       "| 5 | 4 | France         |  6 |\n",
       "| 6 | 4 | South Korea    |  6 |\n",
       "| 7 | 5 | Canada         |  5 |\n",
       "| 8 | 5 | Germany        |  5 |\n",
       "| 9 | 6 | Australia      |  4 |\n",
       "| 10 | 6 | Brazil         |  4 |\n",
       "| 11 | 6 | Spain          |  4 |\n",
       "| 12 | 7 | Netherlands    |  3 |\n",
       "| 13 | 7 | Singapore      |  3 |\n",
       "| 14 | 7 | Sweden         |  3 |\n",
       "| 15 | 7 | Switzerland    |  3 |\n",
       "| 16 | 8 | Italy          |  2 |\n",
       "| 17 | 9 | India          |  1 |\n",
       "| 18 | 9 | Austria        |  1 |\n",
       "| 19 | 9 | Belgium        |  1 |\n",
       "| 20 | 9 | Denmark        |  1 |\n",
       "| 21 | 9 | Finland        |  1 |\n",
       "| 22 | 9 | Norway         |  1 |\n",
       "| 23 | 9 | Russia         |  1 |\n",
       "| 24 | 9 | Qatar          |  1 |\n",
       "\n"
      ],
      "text/plain": [
       "   Rank Country        Number\n",
       "1  1    China          19    \n",
       "2  2    United States  11    \n",
       "3  3    Japan           8    \n",
       "4  4    United Kingdom  6    \n",
       "5  4    France          6    \n",
       "6  4    South Korea     6    \n",
       "7  5    Canada          5    \n",
       "8  5    Germany         5    \n",
       "9  6    Australia       4    \n",
       "10 6    Brazil          4    \n",
       "11 6    Spain           4    \n",
       "12 7    Netherlands     3    \n",
       "13 7    Singapore       3    \n",
       "14 7    Sweden          3    \n",
       "15 7    Switzerland     3    \n",
       "16 8    Italy           2    \n",
       "17 9    India           1    \n",
       "18 9    Austria         1    \n",
       "19 9    Belgium         1    \n",
       "20 9    Denmark         1    \n",
       "21 9    Finland         1    \n",
       "22 9    Norway          1    \n",
       "23 9    Russia          1    \n",
       "24 9    Qatar           1    "
      ]
     },
     "metadata": {},
     "output_type": "display_data"
    }
   ],
   "source": [
    "table1 <- as.data.frame(html_table(tables[3]))\n",
    "table1 <- table1[!is.na(table1$Country), ]\n",
    "table1 # now it OK!"
   ]
  },
  {
   "cell_type": "code",
   "execution_count": 183,
   "id": "20e9a05d",
   "metadata": {},
   "outputs": [
    {
     "data": {
      "text/html": [
       "<table class=\"dataframe\">\n",
       "<caption>A data.frame: 50 × 3</caption>\n",
       "<thead>\n",
       "\t<tr><th scope=col>Rank</th><th scope=col>Bank.name</th><th scope=col>Market.cap.US..billion.</th></tr>\n",
       "\t<tr><th scope=col>&lt;int&gt;</th><th scope=col>&lt;chr&gt;</th><th scope=col>&lt;dbl&gt;</th></tr>\n",
       "</thead>\n",
       "<tbody>\n",
       "\t<tr><td> 1</td><td>JPMorgan Chase                         </td><td>368.78</td></tr>\n",
       "\t<tr><td> 2</td><td>Industrial and Commercial Bank of China</td><td>295.65</td></tr>\n",
       "\t<tr><td> 3</td><td>Bank of America                        </td><td>279.73</td></tr>\n",
       "\t<tr><td> 4</td><td>Wells Fargo                            </td><td>214.34</td></tr>\n",
       "\t<tr><td> 5</td><td>China Construction Bank                </td><td>207.98</td></tr>\n",
       "\t<tr><td> 6</td><td>Agricultural Bank of China             </td><td>181.49</td></tr>\n",
       "\t<tr><td> 7</td><td>HSBC Holdings PLC                      </td><td>169.47</td></tr>\n",
       "\t<tr><td> 8</td><td>Citigroup Inc.                         </td><td>163.58</td></tr>\n",
       "\t<tr><td> 9</td><td>Bank of China                          </td><td>151.15</td></tr>\n",
       "\t<tr><td>10</td><td>China Merchants Bank                   </td><td>133.37</td></tr>\n",
       "\t<tr><td>11</td><td>Royal Bank of Canada                   </td><td>113.80</td></tr>\n",
       "\t<tr><td>12</td><td>Toronto-Dominion Bank                  </td><td>106.61</td></tr>\n",
       "\t<tr><td>13</td><td>Commonwealth Bank                      </td><td> 99.77</td></tr>\n",
       "\t<tr><td>14</td><td>HDFC Bank                              </td><td>105.90</td></tr>\n",
       "\t<tr><td>15</td><td>U.S. Bancorp                           </td><td> 84.40</td></tr>\n",
       "\t<tr><td>16</td><td>Goldman Sachs                          </td><td> 78.70</td></tr>\n",
       "\t<tr><td>17</td><td>Banco Santander                        </td><td> 75.47</td></tr>\n",
       "\t<tr><td>18</td><td>Banco Bradesco                         </td><td> 74.67</td></tr>\n",
       "\t<tr><td>19</td><td>Morgan Stanley                         </td><td> 73.93</td></tr>\n",
       "\t<tr><td>20</td><td>Westpac                                </td><td> 67.84</td></tr>\n",
       "\t<tr><td>21</td><td>Mitsubishi UFJ Financial Group         </td><td> 66.20</td></tr>\n",
       "\t<tr><td>22</td><td>Scotiabank                             </td><td> 65.48</td></tr>\n",
       "\t<tr><td>23</td><td>PNC Financial Services                 </td><td> 63.11</td></tr>\n",
       "\t<tr><td>24</td><td>Bank of Communications                 </td><td> 61.85</td></tr>\n",
       "\t<tr><td>25</td><td>BNP Paribas                            </td><td> 59.36</td></tr>\n",
       "\t<tr><td>26</td><td>Australia and New Zealand Banking Group</td><td> 54.88</td></tr>\n",
       "\t<tr><td>27</td><td>National Australia Bank                </td><td> 51.68</td></tr>\n",
       "\t<tr><td>28</td><td>Lloyds Banking Group                   </td><td> 51.19</td></tr>\n",
       "\t<tr><td>29</td><td>Sumitomo Mitsui Financial Group        </td><td> 49.85</td></tr>\n",
       "\t<tr><td>30</td><td>Bank of Montreal                       </td><td> 48.12</td></tr>\n",
       "\t<tr><td>31</td><td>UBS                                    </td><td> 45.92</td></tr>\n",
       "\t<tr><td>32</td><td>ING Group                              </td><td> 44.97</td></tr>\n",
       "\t<tr><td>33</td><td>Capital One                            </td><td> 43.22</td></tr>\n",
       "\t<tr><td>34</td><td>The Bank of New York Mellon            </td><td> 42.58</td></tr>\n",
       "\t<tr><td>35</td><td>China Minsheng Bank                    </td><td> 39.13</td></tr>\n",
       "\t<tr><td>36</td><td>China CITIC Bank                       </td><td> 38.55</td></tr>\n",
       "\t<tr><td>37</td><td>Banco Bilbao Vizcaya Argentaria        </td><td> 37.42</td></tr>\n",
       "\t<tr><td>38</td><td>Mizuho Financial Group                 </td><td> 36.95</td></tr>\n",
       "\t<tr><td>39</td><td>Intesa Sanpaolo                        </td><td> 36.90</td></tr>\n",
       "\t<tr><td>40</td><td>Credit Agricole                        </td><td> 34.89</td></tr>\n",
       "\t<tr><td>41</td><td>Canadian Imperial Bank of Commerce     </td><td> 34.87</td></tr>\n",
       "\t<tr><td>42</td><td>Royal Bank of Scotland                 </td><td> 33.95</td></tr>\n",
       "\t<tr><td>43</td><td>Barclays                               </td><td> 33.26</td></tr>\n",
       "\t<tr><td>44</td><td>Credit Suisse                          </td><td> 30.75</td></tr>\n",
       "\t<tr><td>45</td><td>Nordea                                 </td><td> 29.59</td></tr>\n",
       "\t<tr><td>46</td><td>Standard Chartered                     </td><td> 29.37</td></tr>\n",
       "\t<tr><td>47</td><td>KBC Bank                               </td><td> 27.40</td></tr>\n",
       "\t<tr><td>48</td><td>UniCredit                              </td><td> 26.88</td></tr>\n",
       "\t<tr><td>49</td><td>Societe Generale                       </td><td> 21.27</td></tr>\n",
       "\t<tr><td>50</td><td>Deutsche Bank                          </td><td> 15.77</td></tr>\n",
       "</tbody>\n",
       "</table>\n"
      ],
      "text/latex": [
       "A data.frame: 50 × 3\n",
       "\\begin{tabular}{lll}\n",
       " Rank & Bank.name & Market.cap.US..billion.\\\\\n",
       " <int> & <chr> & <dbl>\\\\\n",
       "\\hline\n",
       "\t  1 & JPMorgan Chase                          & 368.78\\\\\n",
       "\t  2 & Industrial and Commercial Bank of China & 295.65\\\\\n",
       "\t  3 & Bank of America                         & 279.73\\\\\n",
       "\t  4 & Wells Fargo                             & 214.34\\\\\n",
       "\t  5 & China Construction Bank                 & 207.98\\\\\n",
       "\t  6 & Agricultural Bank of China              & 181.49\\\\\n",
       "\t  7 & HSBC Holdings PLC                       & 169.47\\\\\n",
       "\t  8 & Citigroup Inc.                          & 163.58\\\\\n",
       "\t  9 & Bank of China                           & 151.15\\\\\n",
       "\t 10 & China Merchants Bank                    & 133.37\\\\\n",
       "\t 11 & Royal Bank of Canada                    & 113.80\\\\\n",
       "\t 12 & Toronto-Dominion Bank                   & 106.61\\\\\n",
       "\t 13 & Commonwealth Bank                       &  99.77\\\\\n",
       "\t 14 & HDFC Bank                               & 105.90\\\\\n",
       "\t 15 & U.S. Bancorp                            &  84.40\\\\\n",
       "\t 16 & Goldman Sachs                           &  78.70\\\\\n",
       "\t 17 & Banco Santander                         &  75.47\\\\\n",
       "\t 18 & Banco Bradesco                          &  74.67\\\\\n",
       "\t 19 & Morgan Stanley                          &  73.93\\\\\n",
       "\t 20 & Westpac                                 &  67.84\\\\\n",
       "\t 21 & Mitsubishi UFJ Financial Group          &  66.20\\\\\n",
       "\t 22 & Scotiabank                              &  65.48\\\\\n",
       "\t 23 & PNC Financial Services                  &  63.11\\\\\n",
       "\t 24 & Bank of Communications                  &  61.85\\\\\n",
       "\t 25 & BNP Paribas                             &  59.36\\\\\n",
       "\t 26 & Australia and New Zealand Banking Group &  54.88\\\\\n",
       "\t 27 & National Australia Bank                 &  51.68\\\\\n",
       "\t 28 & Lloyds Banking Group                    &  51.19\\\\\n",
       "\t 29 & Sumitomo Mitsui Financial Group         &  49.85\\\\\n",
       "\t 30 & Bank of Montreal                        &  48.12\\\\\n",
       "\t 31 & UBS                                     &  45.92\\\\\n",
       "\t 32 & ING Group                               &  44.97\\\\\n",
       "\t 33 & Capital One                             &  43.22\\\\\n",
       "\t 34 & The Bank of New York Mellon             &  42.58\\\\\n",
       "\t 35 & China Minsheng Bank                     &  39.13\\\\\n",
       "\t 36 & China CITIC Bank                        &  38.55\\\\\n",
       "\t 37 & Banco Bilbao Vizcaya Argentaria         &  37.42\\\\\n",
       "\t 38 & Mizuho Financial Group                  &  36.95\\\\\n",
       "\t 39 & Intesa Sanpaolo                         &  36.90\\\\\n",
       "\t 40 & Credit Agricole                         &  34.89\\\\\n",
       "\t 41 & Canadian Imperial Bank of Commerce      &  34.87\\\\\n",
       "\t 42 & Royal Bank of Scotland                  &  33.95\\\\\n",
       "\t 43 & Barclays                                &  33.26\\\\\n",
       "\t 44 & Credit Suisse                           &  30.75\\\\\n",
       "\t 45 & Nordea                                  &  29.59\\\\\n",
       "\t 46 & Standard Chartered                      &  29.37\\\\\n",
       "\t 47 & KBC Bank                                &  27.40\\\\\n",
       "\t 48 & UniCredit                               &  26.88\\\\\n",
       "\t 49 & Societe Generale                        &  21.27\\\\\n",
       "\t 50 & Deutsche Bank                           &  15.77\\\\\n",
       "\\end{tabular}\n"
      ],
      "text/markdown": [
       "\n",
       "A data.frame: 50 × 3\n",
       "\n",
       "| Rank &lt;int&gt; | Bank.name &lt;chr&gt; | Market.cap.US..billion. &lt;dbl&gt; |\n",
       "|---|---|---|\n",
       "|  1 | JPMorgan Chase                          | 368.78 |\n",
       "|  2 | Industrial and Commercial Bank of China | 295.65 |\n",
       "|  3 | Bank of America                         | 279.73 |\n",
       "|  4 | Wells Fargo                             | 214.34 |\n",
       "|  5 | China Construction Bank                 | 207.98 |\n",
       "|  6 | Agricultural Bank of China              | 181.49 |\n",
       "|  7 | HSBC Holdings PLC                       | 169.47 |\n",
       "|  8 | Citigroup Inc.                          | 163.58 |\n",
       "|  9 | Bank of China                           | 151.15 |\n",
       "| 10 | China Merchants Bank                    | 133.37 |\n",
       "| 11 | Royal Bank of Canada                    | 113.80 |\n",
       "| 12 | Toronto-Dominion Bank                   | 106.61 |\n",
       "| 13 | Commonwealth Bank                       |  99.77 |\n",
       "| 14 | HDFC Bank                               | 105.90 |\n",
       "| 15 | U.S. Bancorp                            |  84.40 |\n",
       "| 16 | Goldman Sachs                           |  78.70 |\n",
       "| 17 | Banco Santander                         |  75.47 |\n",
       "| 18 | Banco Bradesco                          |  74.67 |\n",
       "| 19 | Morgan Stanley                          |  73.93 |\n",
       "| 20 | Westpac                                 |  67.84 |\n",
       "| 21 | Mitsubishi UFJ Financial Group          |  66.20 |\n",
       "| 22 | Scotiabank                              |  65.48 |\n",
       "| 23 | PNC Financial Services                  |  63.11 |\n",
       "| 24 | Bank of Communications                  |  61.85 |\n",
       "| 25 | BNP Paribas                             |  59.36 |\n",
       "| 26 | Australia and New Zealand Banking Group |  54.88 |\n",
       "| 27 | National Australia Bank                 |  51.68 |\n",
       "| 28 | Lloyds Banking Group                    |  51.19 |\n",
       "| 29 | Sumitomo Mitsui Financial Group         |  49.85 |\n",
       "| 30 | Bank of Montreal                        |  48.12 |\n",
       "| 31 | UBS                                     |  45.92 |\n",
       "| 32 | ING Group                               |  44.97 |\n",
       "| 33 | Capital One                             |  43.22 |\n",
       "| 34 | The Bank of New York Mellon             |  42.58 |\n",
       "| 35 | China Minsheng Bank                     |  39.13 |\n",
       "| 36 | China CITIC Bank                        |  38.55 |\n",
       "| 37 | Banco Bilbao Vizcaya Argentaria         |  37.42 |\n",
       "| 38 | Mizuho Financial Group                  |  36.95 |\n",
       "| 39 | Intesa Sanpaolo                         |  36.90 |\n",
       "| 40 | Credit Agricole                         |  34.89 |\n",
       "| 41 | Canadian Imperial Bank of Commerce      |  34.87 |\n",
       "| 42 | Royal Bank of Scotland                  |  33.95 |\n",
       "| 43 | Barclays                                |  33.26 |\n",
       "| 44 | Credit Suisse                           |  30.75 |\n",
       "| 45 | Nordea                                  |  29.59 |\n",
       "| 46 | Standard Chartered                      |  29.37 |\n",
       "| 47 | KBC Bank                                |  27.40 |\n",
       "| 48 | UniCredit                               |  26.88 |\n",
       "| 49 | Societe Generale                        |  21.27 |\n",
       "| 50 | Deutsche Bank                           |  15.77 |\n",
       "\n"
      ],
      "text/plain": [
       "   Rank Bank.name                               Market.cap.US..billion.\n",
       "1   1   JPMorgan Chase                          368.78                 \n",
       "2   2   Industrial and Commercial Bank of China 295.65                 \n",
       "3   3   Bank of America                         279.73                 \n",
       "4   4   Wells Fargo                             214.34                 \n",
       "5   5   China Construction Bank                 207.98                 \n",
       "6   6   Agricultural Bank of China              181.49                 \n",
       "7   7   HSBC Holdings PLC                       169.47                 \n",
       "8   8   Citigroup Inc.                          163.58                 \n",
       "9   9   Bank of China                           151.15                 \n",
       "10 10   China Merchants Bank                    133.37                 \n",
       "11 11   Royal Bank of Canada                    113.80                 \n",
       "12 12   Toronto-Dominion Bank                   106.61                 \n",
       "13 13   Commonwealth Bank                        99.77                 \n",
       "14 14   HDFC Bank                               105.90                 \n",
       "15 15   U.S. Bancorp                             84.40                 \n",
       "16 16   Goldman Sachs                            78.70                 \n",
       "17 17   Banco Santander                          75.47                 \n",
       "18 18   Banco Bradesco                           74.67                 \n",
       "19 19   Morgan Stanley                           73.93                 \n",
       "20 20   Westpac                                  67.84                 \n",
       "21 21   Mitsubishi UFJ Financial Group           66.20                 \n",
       "22 22   Scotiabank                               65.48                 \n",
       "23 23   PNC Financial Services                   63.11                 \n",
       "24 24   Bank of Communications                   61.85                 \n",
       "25 25   BNP Paribas                              59.36                 \n",
       "26 26   Australia and New Zealand Banking Group  54.88                 \n",
       "27 27   National Australia Bank                  51.68                 \n",
       "28 28   Lloyds Banking Group                     51.19                 \n",
       "29 29   Sumitomo Mitsui Financial Group          49.85                 \n",
       "30 30   Bank of Montreal                         48.12                 \n",
       "31 31   UBS                                      45.92                 \n",
       "32 32   ING Group                                44.97                 \n",
       "33 33   Capital One                              43.22                 \n",
       "34 34   The Bank of New York Mellon              42.58                 \n",
       "35 35   China Minsheng Bank                      39.13                 \n",
       "36 36   China CITIC Bank                         38.55                 \n",
       "37 37   Banco Bilbao Vizcaya Argentaria          37.42                 \n",
       "38 38   Mizuho Financial Group                   36.95                 \n",
       "39 39   Intesa Sanpaolo                          36.90                 \n",
       "40 40   Credit Agricole                          34.89                 \n",
       "41 41   Canadian Imperial Bank of Commerce       34.87                 \n",
       "42 42   Royal Bank of Scotland                   33.95                 \n",
       "43 43   Barclays                                 33.26                 \n",
       "44 44   Credit Suisse                            30.75                 \n",
       "45 45   Nordea                                   29.59                 \n",
       "46 46   Standard Chartered                       29.37                 \n",
       "47 47   KBC Bank                                 27.40                 \n",
       "48 48   UniCredit                                26.88                 \n",
       "49 49   Societe Generale                         21.27                 \n",
       "50 50   Deutsche Bank                            15.77                 "
      ]
     },
     "metadata": {},
     "output_type": "display_data"
    }
   ],
   "source": [
    "# SOlution for \"Total market capital (US$ billion) across the top 70 banks by country\"\n",
    "# compare this with table on a given page\n",
    "table2 <- as.data.frame(html_table(tables[4]))\n",
    "table2 # now it OK!"
   ]
  },
  {
   "cell_type": "markdown",
   "id": "44b4185e",
   "metadata": {},
   "source": [
    "---"
   ]
  },
  {
   "cell_type": "markdown",
   "id": "a136ea00-b865-4ab3-8c14-148ecb23601d",
   "metadata": {},
   "source": [
    "## Набори даних"
   ]
  },
  {
   "cell_type": "markdown",
   "id": "a2203039-029b-4de2-a70e-b36feba50c05",
   "metadata": {},
   "source": [
    "1. https://github.com/kleban/r-book-published/tree/main/datasets/telecom_users.csv\n",
    "2. https://github.com/kleban/r-book-published/tree/main/datasets/telecom_sers.xlsx\n",
    "3. https://github.com/kleban/r-book-published/tree/main/datasets/Default_Fin.csv\n",
    "4. https://github.com/kleban/r-book-published/tree/main/datasets/employes.xml"
   ]
  },
  {
   "cell_type": "markdown",
   "id": "3c4e296e-7434-454a-ab2e-a3fe95f4de05",
   "metadata": {},
   "source": [
    "---"
   ]
  },
  {
   "cell_type": "markdown",
   "id": "e5f6def2",
   "metadata": {},
   "source": [
    "## References"
   ]
  },
  {
   "cell_type": "markdown",
   "id": "c158f38a",
   "metadata": {},
   "source": [
    "1. [SQLite in R. Datacamp](https://www.datacamp.com/community/tutorials/sqlite-in-r)\n",
    "2. [Tidyverse googlesheets4 0.2.0](https://www.tidyverse.org/blog/2020/05/googlesheets4-0-2-0/)\n",
    "<!-- 3. [Telecom users dataset. Practice classification with a telco dataset.Kaggle](https://www.kaggle.com/radmirzosimov/telecom-users-dataset) -->\n",
    "4. [Binanace spot Api Docs](https://github.com/binance/binance-spot-api-docs/blob/master/rest-api.md#klinecandlestick-data)\n",
    "5. [Web Scraping in R: rvest Tutorial](https://www.datacamp.com/community/tutorials/r-web-scraping-rvest) by Arvid Kingl"
   ]
  }
 ],
 "metadata": {
  "kernelspec": {
   "display_name": "R",
   "language": "R",
   "name": "ir"
  },
  "language_info": {
   "codemirror_mode": "r",
   "file_extension": ".r",
   "mimetype": "text/x-r-source",
   "name": "R",
   "pygments_lexer": "r",
   "version": "4.1.3"
  }
 },
 "nbformat": 4,
 "nbformat_minor": 5
}
