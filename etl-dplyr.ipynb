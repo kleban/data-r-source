{
 "cells": [
  {
   "cell_type": "markdown",
   "id": "d8f5fa6d",
   "metadata": {
    "tags": []
   },
   "source": [
    "# Manipulate data with `dplyr`"
   ]
  },
  {
   "cell_type": "markdown",
   "id": "438560fd",
   "metadata": {},
   "source": [
    "---"
   ]
  },
  {
   "cell_type": "markdown",
   "id": "2285fc6a-3442-4982-90ab-c64c400f354f",
   "metadata": {},
   "source": [
    "You need this packages for code execution:"
   ]
  },
  {
   "cell_type": "code",
   "execution_count": 127,
   "id": "54d3be2e-27d6-4796-8492-95299e0da47b",
   "metadata": {},
   "outputs": [],
   "source": [
    "# install.packages(\"dplyr\")\n",
    "# install.packages(\"tidyverse\")\n",
    "# install.packages(\"gapminder\")\n",
    "# install.packages(\"magrittr\")\n",
    "# install.packages(\"ISLR\")"
   ]
  },
  {
   "cell_type": "code",
   "execution_count": 128,
   "id": "62f4b0c9-16af-4f79-8df5-2926c80b1e55",
   "metadata": {},
   "outputs": [],
   "source": [
    "invisible(Sys.setlocale(\"LC_ALL\", \"Ukrainian\"))\n",
    "invisible(options(warn=-1))"
   ]
  },
  {
   "cell_type": "markdown",
   "id": "c185cd62",
   "metadata": {},
   "source": [
    "---"
   ]
  },
  {
   "cell_type": "markdown",
   "id": "eccac509",
   "metadata": {},
   "source": [
    "## What's `dplyr` package"
   ]
  },
  {
   "cell_type": "markdown",
   "id": "f1b97e0f",
   "metadata": {},
   "source": [
    "The `dplyr` package is one of the most powerful and popular package in `R` for data manipulation. "
   ]
  },
  {
   "cell_type": "markdown",
   "id": "e2b4afc4",
   "metadata": {},
   "source": [
    "Working with data:\n",
    "\n",
    "- [x] Figure out what you want to do.\n",
    "- [x] Describe those tasks in the form of a computer program.\n",
    "- [x] Execute the program.\n",
    "\n",
    "The `dplyr` package makes these steps fast and easy:\n",
    "\n",
    "- [x] By constraining your options, it helps you think about your data manipulation challenges.\n",
    "- [x] It provides simple `verbs`, functions that correspond to the most common data manipulation tasks, to help you translate your thoughts into code.\n",
    "- [x] It uses efficient backends, so you spend less time waiting for the computer."
   ]
  },
  {
   "cell_type": "markdown",
   "id": "ccbefa41",
   "metadata": {},
   "source": [
    "Before use you should install package:"
   ]
  },
  {
   "cell_type": "code",
   "execution_count": 129,
   "id": "90b6d8ae",
   "metadata": {
    "vscode": {
     "languageId": "r"
    }
   },
   "outputs": [],
   "source": [
    "# install.packages(\"dplyr\")"
   ]
  },
  {
   "cell_type": "markdown",
   "id": "3b55de01",
   "metadata": {},
   "source": [
    "Next step is loading package:"
   ]
  },
  {
   "cell_type": "code",
   "execution_count": 130,
   "id": "ee3606bf",
   "metadata": {
    "vscode": {
     "languageId": "r"
    }
   },
   "outputs": [],
   "source": [
    "library(dplyr)"
   ]
  },
  {
   "cell_type": "markdown",
   "id": "e85404d9",
   "metadata": {},
   "source": [
    "`dplyr` functions work with pipes and expect `tidy data`. In tidy data:"
   ]
  },
  {
   "cell_type": "markdown",
   "id": "8944807e",
   "metadata": {},
   "source": [
    "![](../../_static/da-dplyr/dplyr1.png)"
   ]
  },
  {
   "cell_type": "markdown",
   "id": "1b3dfa8c",
   "metadata": {},
   "source": [
    "Alternative way is to load `tidyverse` package with other attached:"
   ]
  },
  {
   "cell_type": "code",
   "execution_count": 131,
   "id": "c440732f",
   "metadata": {
    "vscode": {
     "languageId": "r"
    }
   },
   "outputs": [],
   "source": [
    "# install.packages(\"tidyverse\")\n",
    "library(tidyverse)"
   ]
  },
  {
   "cell_type": "markdown",
   "id": "5835bccf",
   "metadata": {},
   "source": [
    "---"
   ]
  },
  {
   "cell_type": "markdown",
   "id": "61b6688f",
   "metadata": {},
   "source": [
    "## Exploring data with `dplyr`"
   ]
  },
  {
   "cell_type": "markdown",
   "id": "40db79f3",
   "metadata": {},
   "source": [
    "### Basic funtions and dataset explore"
   ]
  },
  {
   "cell_type": "markdown",
   "id": "1e476780",
   "metadata": {},
   "source": [
    "There are most popular functions in `dplyr` is listed in table."
   ]
  },
  {
   "cell_type": "markdown",
   "id": "acaf3c6f",
   "metadata": {},
   "source": [
    "|dplyr Function|Description\t| Equivalent SQL|\n",
    "|---|---|---|\n",
    "|select()\t|Selecting columns (variables)\t|SELECT|\n",
    "|filter()\t|Filter (subset) rows.\t|WHERE|\n",
    "|group_by()|\tGroup the data\t|GROUP BY|\n",
    "|summarise()|\tSummarise (or aggregate) data|\t-|\n",
    "|arrange()|\tSort the data\t|ORDER BY\n",
    "|join()|\tJoining data frames (tables)|\tJOIN|\n",
    "|mutate()\t|Creating New Variables|\tCOLUMN ALIAS|"
   ]
  },
  {
   "cell_type": "markdown",
   "id": "8175b589",
   "metadata": {},
   "source": [
    "For the next sample we are going to use `gapminder` dataset. [Go to gapminder dataset description](00_Datasets.ipynb#gapminder)"
   ]
  },
  {
   "cell_type": "markdown",
   "id": "7c67ca02",
   "metadata": {},
   "source": [
    "The `gapminder` data frame include six variables:\n",
    "\n",
    "\n",
    "|variable|meaning|\n",
    "|---|---|\n",
    "|country| - |\t\n",
    "|continent| - |\t\t\n",
    "|year| - |\t\n",
    "|lifeExp|\tlife expectancy at birth|\n",
    "|pop\t|total population|\n",
    "|gdpPercap|\tper-capita GDP|\n",
    "\n",
    "`Per-capita GDP` (Gross domestic product) is given in units of international dollars, `a hypothetical unit of currency that has the same purchasing power parity that the U.S. dollar had in the United States at a given point in time` – 2005, in this case."
   ]
  },
  {
   "cell_type": "markdown",
   "id": "511571df",
   "metadata": {},
   "source": [
    "The `gapminder` data frame is a special kind of data frame: a `tibble`. "
   ]
  },
  {
   "cell_type": "code",
   "execution_count": 132,
   "id": "125c52a8",
   "metadata": {
    "vscode": {
     "languageId": "r"
    }
   },
   "outputs": [
    {
     "data": {
      "text/html": [
       "<style>\n",
       ".list-inline {list-style: none; margin:0; padding: 0}\n",
       ".list-inline>li {display: inline-block}\n",
       ".list-inline>li:not(:last-child)::after {content: \"\\00b7\"; padding: 0 .5ex}\n",
       "</style>\n",
       "<ol class=list-inline><li>'tbl_df'</li><li>'tbl'</li><li>'data.frame'</li></ol>\n"
      ],
      "text/latex": [
       "\\begin{enumerate*}\n",
       "\\item 'tbl\\_df'\n",
       "\\item 'tbl'\n",
       "\\item 'data.frame'\n",
       "\\end{enumerate*}\n"
      ],
      "text/markdown": [
       "1. 'tbl_df'\n",
       "2. 'tbl'\n",
       "3. 'data.frame'\n",
       "\n",
       "\n"
      ],
      "text/plain": [
       "[1] \"tbl_df\"     \"tbl\"        \"data.frame\""
      ]
     },
     "metadata": {},
     "output_type": "display_data"
    }
   ],
   "source": [
    "# install.packages(\"gapminder\")\n",
    "library(gapminder)  # load package and dataset\n",
    "class(gapminder)"
   ]
  },
  {
   "cell_type": "markdown",
   "id": "5e94e915",
   "metadata": {},
   "source": [
    "Let's preview it with functions `str()`, `glimpse()`, `head()`, `tail()`, `summary()`."
   ]
  },
  {
   "cell_type": "code",
   "execution_count": 133,
   "id": "d05dfa11",
   "metadata": {
    "scrolled": true,
    "vscode": {
     "languageId": "r"
    }
   },
   "outputs": [
    {
     "name": "stdout",
     "output_type": "stream",
     "text": [
      "tibble [1,704 x 6] (S3: tbl_df/tbl/data.frame)\n",
      " $ country  : Factor w/ 142 levels \"Afghanistan\",..: 1 1 1 1 1 1 1 1 1 1 ...\n",
      " $ continent: Factor w/ 5 levels \"Africa\",\"Americas\",..: 3 3 3 3 3 3 3 3 3 3 ...\n",
      " $ year     : int [1:1704] 1952 1957 1962 1967 1972 1977 1982 1987 1992 1997 ...\n",
      " $ lifeExp  : num [1:1704] 28.8 30.3 32 34 36.1 ...\n",
      " $ pop      : int [1:1704] 8425333 9240934 10267083 11537966 13079460 14880372 12881816 13867957 16317921 22227415 ...\n",
      " $ gdpPercap: num [1:1704] 779 821 853 836 740 ...\n"
     ]
    }
   ],
   "source": [
    "str(gapminder)"
   ]
  },
  {
   "cell_type": "code",
   "execution_count": 134,
   "id": "26ffa02b",
   "metadata": {
    "vscode": {
     "languageId": "r"
    }
   },
   "outputs": [
    {
     "name": "stdout",
     "output_type": "stream",
     "text": [
      "Rows: 1,704\n",
      "Columns: 6\n",
      "$ country   \u001b[3m\u001b[90m<fct>\u001b[39m\u001b[23m \"Afghanistan\", \"Afghanistan\", \"Afghanistan\", \"Afghanistan\", ~\n",
      "$ continent \u001b[3m\u001b[90m<fct>\u001b[39m\u001b[23m Asia, Asia, Asia, Asia, Asia, Asia, Asia, Asia, Asia, Asia, ~\n",
      "$ year      \u001b[3m\u001b[90m<int>\u001b[39m\u001b[23m 1952, 1957, 1962, 1967, 1972, 1977, 1982, 1987, 1992, 1997, ~\n",
      "$ lifeExp   \u001b[3m\u001b[90m<dbl>\u001b[39m\u001b[23m 28.801, 30.332, 31.997, 34.020, 36.088, 38.438, 39.854, 40.8~\n",
      "$ pop       \u001b[3m\u001b[90m<int>\u001b[39m\u001b[23m 8425333, 9240934, 10267083, 11537966, 13079460, 14880372, 12~\n",
      "$ gdpPercap \u001b[3m\u001b[90m<dbl>\u001b[39m\u001b[23m 779.4453, 820.8530, 853.1007, 836.1971, 739.9811, 786.1134, ~\n"
     ]
    }
   ],
   "source": [
    "glimpse(gapminder)"
   ]
  },
  {
   "cell_type": "code",
   "execution_count": 135,
   "id": "c7a358b2",
   "metadata": {
    "vscode": {
     "languageId": "r"
    }
   },
   "outputs": [
    {
     "data": {
      "text/html": [
       "<table class=\"dataframe\">\n",
       "<caption>A tibble: 6 × 6</caption>\n",
       "<thead>\n",
       "\t<tr><th scope=col>country</th><th scope=col>continent</th><th scope=col>year</th><th scope=col>lifeExp</th><th scope=col>pop</th><th scope=col>gdpPercap</th></tr>\n",
       "\t<tr><th scope=col>&lt;fct&gt;</th><th scope=col>&lt;fct&gt;</th><th scope=col>&lt;int&gt;</th><th scope=col>&lt;dbl&gt;</th><th scope=col>&lt;int&gt;</th><th scope=col>&lt;dbl&gt;</th></tr>\n",
       "</thead>\n",
       "<tbody>\n",
       "\t<tr><td>Afghanistan</td><td>Asia</td><td>1952</td><td>28.801</td><td> 8425333</td><td>779.4453</td></tr>\n",
       "\t<tr><td>Afghanistan</td><td>Asia</td><td>1957</td><td>30.332</td><td> 9240934</td><td>820.8530</td></tr>\n",
       "\t<tr><td>Afghanistan</td><td>Asia</td><td>1962</td><td>31.997</td><td>10267083</td><td>853.1007</td></tr>\n",
       "\t<tr><td>Afghanistan</td><td>Asia</td><td>1967</td><td>34.020</td><td>11537966</td><td>836.1971</td></tr>\n",
       "\t<tr><td>Afghanistan</td><td>Asia</td><td>1972</td><td>36.088</td><td>13079460</td><td>739.9811</td></tr>\n",
       "\t<tr><td>Afghanistan</td><td>Asia</td><td>1977</td><td>38.438</td><td>14880372</td><td>786.1134</td></tr>\n",
       "</tbody>\n",
       "</table>\n"
      ],
      "text/latex": [
       "A tibble: 6 × 6\n",
       "\\begin{tabular}{llllll}\n",
       " country & continent & year & lifeExp & pop & gdpPercap\\\\\n",
       " <fct> & <fct> & <int> & <dbl> & <int> & <dbl>\\\\\n",
       "\\hline\n",
       "\t Afghanistan & Asia & 1952 & 28.801 &  8425333 & 779.4453\\\\\n",
       "\t Afghanistan & Asia & 1957 & 30.332 &  9240934 & 820.8530\\\\\n",
       "\t Afghanistan & Asia & 1962 & 31.997 & 10267083 & 853.1007\\\\\n",
       "\t Afghanistan & Asia & 1967 & 34.020 & 11537966 & 836.1971\\\\\n",
       "\t Afghanistan & Asia & 1972 & 36.088 & 13079460 & 739.9811\\\\\n",
       "\t Afghanistan & Asia & 1977 & 38.438 & 14880372 & 786.1134\\\\\n",
       "\\end{tabular}\n"
      ],
      "text/markdown": [
       "\n",
       "A tibble: 6 × 6\n",
       "\n",
       "| country &lt;fct&gt; | continent &lt;fct&gt; | year &lt;int&gt; | lifeExp &lt;dbl&gt; | pop &lt;int&gt; | gdpPercap &lt;dbl&gt; |\n",
       "|---|---|---|---|---|---|\n",
       "| Afghanistan | Asia | 1952 | 28.801 |  8425333 | 779.4453 |\n",
       "| Afghanistan | Asia | 1957 | 30.332 |  9240934 | 820.8530 |\n",
       "| Afghanistan | Asia | 1962 | 31.997 | 10267083 | 853.1007 |\n",
       "| Afghanistan | Asia | 1967 | 34.020 | 11537966 | 836.1971 |\n",
       "| Afghanistan | Asia | 1972 | 36.088 | 13079460 | 739.9811 |\n",
       "| Afghanistan | Asia | 1977 | 38.438 | 14880372 | 786.1134 |\n",
       "\n"
      ],
      "text/plain": [
       "  country     continent year lifeExp pop      gdpPercap\n",
       "1 Afghanistan Asia      1952 28.801   8425333 779.4453 \n",
       "2 Afghanistan Asia      1957 30.332   9240934 820.8530 \n",
       "3 Afghanistan Asia      1962 31.997  10267083 853.1007 \n",
       "4 Afghanistan Asia      1967 34.020  11537966 836.1971 \n",
       "5 Afghanistan Asia      1972 36.088  13079460 739.9811 \n",
       "6 Afghanistan Asia      1977 38.438  14880372 786.1134 "
      ]
     },
     "metadata": {},
     "output_type": "display_data"
    }
   ],
   "source": [
    "head(gapminder) #shows first n-rows, 6 by default"
   ]
  },
  {
   "cell_type": "code",
   "execution_count": 136,
   "id": "1ae762e4",
   "metadata": {
    "vscode": {
     "languageId": "r"
    }
   },
   "outputs": [
    {
     "data": {
      "text/html": [
       "<table class=\"dataframe\">\n",
       "<caption>A tibble: 6 × 6</caption>\n",
       "<thead>\n",
       "\t<tr><th scope=col>country</th><th scope=col>continent</th><th scope=col>year</th><th scope=col>lifeExp</th><th scope=col>pop</th><th scope=col>gdpPercap</th></tr>\n",
       "\t<tr><th scope=col>&lt;fct&gt;</th><th scope=col>&lt;fct&gt;</th><th scope=col>&lt;int&gt;</th><th scope=col>&lt;dbl&gt;</th><th scope=col>&lt;int&gt;</th><th scope=col>&lt;dbl&gt;</th></tr>\n",
       "</thead>\n",
       "<tbody>\n",
       "\t<tr><td>Zimbabwe</td><td>Africa</td><td>1982</td><td>60.363</td><td> 7636524</td><td>788.8550</td></tr>\n",
       "\t<tr><td>Zimbabwe</td><td>Africa</td><td>1987</td><td>62.351</td><td> 9216418</td><td>706.1573</td></tr>\n",
       "\t<tr><td>Zimbabwe</td><td>Africa</td><td>1992</td><td>60.377</td><td>10704340</td><td>693.4208</td></tr>\n",
       "\t<tr><td>Zimbabwe</td><td>Africa</td><td>1997</td><td>46.809</td><td>11404948</td><td>792.4500</td></tr>\n",
       "\t<tr><td>Zimbabwe</td><td>Africa</td><td>2002</td><td>39.989</td><td>11926563</td><td>672.0386</td></tr>\n",
       "\t<tr><td>Zimbabwe</td><td>Africa</td><td>2007</td><td>43.487</td><td>12311143</td><td>469.7093</td></tr>\n",
       "</tbody>\n",
       "</table>\n"
      ],
      "text/latex": [
       "A tibble: 6 × 6\n",
       "\\begin{tabular}{llllll}\n",
       " country & continent & year & lifeExp & pop & gdpPercap\\\\\n",
       " <fct> & <fct> & <int> & <dbl> & <int> & <dbl>\\\\\n",
       "\\hline\n",
       "\t Zimbabwe & Africa & 1982 & 60.363 &  7636524 & 788.8550\\\\\n",
       "\t Zimbabwe & Africa & 1987 & 62.351 &  9216418 & 706.1573\\\\\n",
       "\t Zimbabwe & Africa & 1992 & 60.377 & 10704340 & 693.4208\\\\\n",
       "\t Zimbabwe & Africa & 1997 & 46.809 & 11404948 & 792.4500\\\\\n",
       "\t Zimbabwe & Africa & 2002 & 39.989 & 11926563 & 672.0386\\\\\n",
       "\t Zimbabwe & Africa & 2007 & 43.487 & 12311143 & 469.7093\\\\\n",
       "\\end{tabular}\n"
      ],
      "text/markdown": [
       "\n",
       "A tibble: 6 × 6\n",
       "\n",
       "| country &lt;fct&gt; | continent &lt;fct&gt; | year &lt;int&gt; | lifeExp &lt;dbl&gt; | pop &lt;int&gt; | gdpPercap &lt;dbl&gt; |\n",
       "|---|---|---|---|---|---|\n",
       "| Zimbabwe | Africa | 1982 | 60.363 |  7636524 | 788.8550 |\n",
       "| Zimbabwe | Africa | 1987 | 62.351 |  9216418 | 706.1573 |\n",
       "| Zimbabwe | Africa | 1992 | 60.377 | 10704340 | 693.4208 |\n",
       "| Zimbabwe | Africa | 1997 | 46.809 | 11404948 | 792.4500 |\n",
       "| Zimbabwe | Africa | 2002 | 39.989 | 11926563 | 672.0386 |\n",
       "| Zimbabwe | Africa | 2007 | 43.487 | 12311143 | 469.7093 |\n",
       "\n"
      ],
      "text/plain": [
       "  country  continent year lifeExp pop      gdpPercap\n",
       "1 Zimbabwe Africa    1982 60.363   7636524 788.8550 \n",
       "2 Zimbabwe Africa    1987 62.351   9216418 706.1573 \n",
       "3 Zimbabwe Africa    1992 60.377  10704340 693.4208 \n",
       "4 Zimbabwe Africa    1997 46.809  11404948 792.4500 \n",
       "5 Zimbabwe Africa    2002 39.989  11926563 672.0386 \n",
       "6 Zimbabwe Africa    2007 43.487  12311143 469.7093 "
      ]
     },
     "metadata": {},
     "output_type": "display_data"
    }
   ],
   "source": [
    "tail(gapminder) #shows last n-rows, 6 by default"
   ]
  },
  {
   "cell_type": "code",
   "execution_count": 137,
   "id": "61171b8f",
   "metadata": {
    "vscode": {
     "languageId": "r"
    }
   },
   "outputs": [
    {
     "data": {
      "text/plain": [
       "        country        continent        year         lifeExp     \n",
       " Afghanistan:  12   Africa  :624   Min.   :1952   Min.   :23.60  \n",
       " Albania    :  12   Americas:300   1st Qu.:1966   1st Qu.:48.20  \n",
       " Algeria    :  12   Asia    :396   Median :1980   Median :60.71  \n",
       " Angola     :  12   Europe  :360   Mean   :1980   Mean   :59.47  \n",
       " Argentina  :  12   Oceania : 24   3rd Qu.:1993   3rd Qu.:70.85  \n",
       " Australia  :  12                  Max.   :2007   Max.   :82.60  \n",
       " (Other)    :1632                                                \n",
       "      pop              gdpPercap       \n",
       " Min.   :6.001e+04   Min.   :   241.2  \n",
       " 1st Qu.:2.794e+06   1st Qu.:  1202.1  \n",
       " Median :7.024e+06   Median :  3531.8  \n",
       " Mean   :2.960e+07   Mean   :  7215.3  \n",
       " 3rd Qu.:1.959e+07   3rd Qu.:  9325.5  \n",
       " Max.   :1.319e+09   Max.   :113523.1  \n",
       "                                       "
      ]
     },
     "metadata": {},
     "output_type": "display_data"
    }
   ],
   "source": [
    "summary(gapminder)"
   ]
  },
  {
   "cell_type": "markdown",
   "id": "dbdb0345",
   "metadata": {},
   "source": [
    "### `filter()` function"
   ]
  },
  {
   "cell_type": "code",
   "execution_count": 138,
   "id": "735af8df",
   "metadata": {
    "vscode": {
     "languageId": "r"
    }
   },
   "outputs": [
    {
     "data": {
      "text/html": [
       "<table class=\"dataframe\">\n",
       "<caption>A tibble: 12 × 6</caption>\n",
       "<thead>\n",
       "\t<tr><th scope=col>country</th><th scope=col>continent</th><th scope=col>year</th><th scope=col>lifeExp</th><th scope=col>pop</th><th scope=col>gdpPercap</th></tr>\n",
       "\t<tr><th scope=col>&lt;fct&gt;</th><th scope=col>&lt;fct&gt;</th><th scope=col>&lt;int&gt;</th><th scope=col>&lt;dbl&gt;</th><th scope=col>&lt;int&gt;</th><th scope=col>&lt;dbl&gt;</th></tr>\n",
       "</thead>\n",
       "<tbody>\n",
       "\t<tr><td>Austria</td><td>Europe</td><td>1952</td><td>66.800</td><td>6927772</td><td> 6137.076</td></tr>\n",
       "\t<tr><td>Austria</td><td>Europe</td><td>1957</td><td>67.480</td><td>6965860</td><td> 8842.598</td></tr>\n",
       "\t<tr><td>Austria</td><td>Europe</td><td>1962</td><td>69.540</td><td>7129864</td><td>10750.721</td></tr>\n",
       "\t<tr><td>Austria</td><td>Europe</td><td>1967</td><td>70.140</td><td>7376998</td><td>12834.602</td></tr>\n",
       "\t<tr><td>Austria</td><td>Europe</td><td>1972</td><td>70.630</td><td>7544201</td><td>16661.626</td></tr>\n",
       "\t<tr><td>Austria</td><td>Europe</td><td>1977</td><td>72.170</td><td>7568430</td><td>19749.422</td></tr>\n",
       "\t<tr><td>Austria</td><td>Europe</td><td>1982</td><td>73.180</td><td>7574613</td><td>21597.084</td></tr>\n",
       "\t<tr><td>Austria</td><td>Europe</td><td>1987</td><td>74.940</td><td>7578903</td><td>23687.826</td></tr>\n",
       "\t<tr><td>Austria</td><td>Europe</td><td>1992</td><td>76.040</td><td>7914969</td><td>27042.019</td></tr>\n",
       "\t<tr><td>Austria</td><td>Europe</td><td>1997</td><td>77.510</td><td>8069876</td><td>29095.921</td></tr>\n",
       "\t<tr><td>Austria</td><td>Europe</td><td>2002</td><td>78.980</td><td>8148312</td><td>32417.608</td></tr>\n",
       "\t<tr><td>Austria</td><td>Europe</td><td>2007</td><td>79.829</td><td>8199783</td><td>36126.493</td></tr>\n",
       "</tbody>\n",
       "</table>\n"
      ],
      "text/latex": [
       "A tibble: 12 × 6\n",
       "\\begin{tabular}{llllll}\n",
       " country & continent & year & lifeExp & pop & gdpPercap\\\\\n",
       " <fct> & <fct> & <int> & <dbl> & <int> & <dbl>\\\\\n",
       "\\hline\n",
       "\t Austria & Europe & 1952 & 66.800 & 6927772 &  6137.076\\\\\n",
       "\t Austria & Europe & 1957 & 67.480 & 6965860 &  8842.598\\\\\n",
       "\t Austria & Europe & 1962 & 69.540 & 7129864 & 10750.721\\\\\n",
       "\t Austria & Europe & 1967 & 70.140 & 7376998 & 12834.602\\\\\n",
       "\t Austria & Europe & 1972 & 70.630 & 7544201 & 16661.626\\\\\n",
       "\t Austria & Europe & 1977 & 72.170 & 7568430 & 19749.422\\\\\n",
       "\t Austria & Europe & 1982 & 73.180 & 7574613 & 21597.084\\\\\n",
       "\t Austria & Europe & 1987 & 74.940 & 7578903 & 23687.826\\\\\n",
       "\t Austria & Europe & 1992 & 76.040 & 7914969 & 27042.019\\\\\n",
       "\t Austria & Europe & 1997 & 77.510 & 8069876 & 29095.921\\\\\n",
       "\t Austria & Europe & 2002 & 78.980 & 8148312 & 32417.608\\\\\n",
       "\t Austria & Europe & 2007 & 79.829 & 8199783 & 36126.493\\\\\n",
       "\\end{tabular}\n"
      ],
      "text/markdown": [
       "\n",
       "A tibble: 12 × 6\n",
       "\n",
       "| country &lt;fct&gt; | continent &lt;fct&gt; | year &lt;int&gt; | lifeExp &lt;dbl&gt; | pop &lt;int&gt; | gdpPercap &lt;dbl&gt; |\n",
       "|---|---|---|---|---|---|\n",
       "| Austria | Europe | 1952 | 66.800 | 6927772 |  6137.076 |\n",
       "| Austria | Europe | 1957 | 67.480 | 6965860 |  8842.598 |\n",
       "| Austria | Europe | 1962 | 69.540 | 7129864 | 10750.721 |\n",
       "| Austria | Europe | 1967 | 70.140 | 7376998 | 12834.602 |\n",
       "| Austria | Europe | 1972 | 70.630 | 7544201 | 16661.626 |\n",
       "| Austria | Europe | 1977 | 72.170 | 7568430 | 19749.422 |\n",
       "| Austria | Europe | 1982 | 73.180 | 7574613 | 21597.084 |\n",
       "| Austria | Europe | 1987 | 74.940 | 7578903 | 23687.826 |\n",
       "| Austria | Europe | 1992 | 76.040 | 7914969 | 27042.019 |\n",
       "| Austria | Europe | 1997 | 77.510 | 8069876 | 29095.921 |\n",
       "| Austria | Europe | 2002 | 78.980 | 8148312 | 32417.608 |\n",
       "| Austria | Europe | 2007 | 79.829 | 8199783 | 36126.493 |\n",
       "\n"
      ],
      "text/plain": [
       "   country continent year lifeExp pop     gdpPercap\n",
       "1  Austria Europe    1952 66.800  6927772  6137.076\n",
       "2  Austria Europe    1957 67.480  6965860  8842.598\n",
       "3  Austria Europe    1962 69.540  7129864 10750.721\n",
       "4  Austria Europe    1967 70.140  7376998 12834.602\n",
       "5  Austria Europe    1972 70.630  7544201 16661.626\n",
       "6  Austria Europe    1977 72.170  7568430 19749.422\n",
       "7  Austria Europe    1982 73.180  7574613 21597.084\n",
       "8  Austria Europe    1987 74.940  7578903 23687.826\n",
       "9  Austria Europe    1992 76.040  7914969 27042.019\n",
       "10 Austria Europe    1997 77.510  8069876 29095.921\n",
       "11 Austria Europe    2002 78.980  8148312 32417.608\n",
       "12 Austria Europe    2007 79.829  8199783 36126.493"
      ]
     },
     "metadata": {},
     "output_type": "display_data"
    }
   ],
   "source": [
    "austria <- filter(gapminder, country == \"Austria\")\n",
    "austria"
   ]
  },
  {
   "cell_type": "markdown",
   "id": "87c68a65",
   "metadata": {},
   "source": [
    "`filter()` takes logical expressions and returns the rows for which all are TRUE."
   ]
  },
  {
   "cell_type": "code",
   "execution_count": 139,
   "id": "55871f93",
   "metadata": {
    "vscode": {
     "languageId": "r"
    }
   },
   "outputs": [
    {
     "data": {
      "text/html": [
       "<table class=\"dataframe\">\n",
       "<caption>A tibble: 6 × 6</caption>\n",
       "<thead>\n",
       "\t<tr><th scope=col>country</th><th scope=col>continent</th><th scope=col>year</th><th scope=col>lifeExp</th><th scope=col>pop</th><th scope=col>gdpPercap</th></tr>\n",
       "\t<tr><th scope=col>&lt;fct&gt;</th><th scope=col>&lt;fct&gt;</th><th scope=col>&lt;int&gt;</th><th scope=col>&lt;dbl&gt;</th><th scope=col>&lt;int&gt;</th><th scope=col>&lt;dbl&gt;</th></tr>\n",
       "</thead>\n",
       "<tbody>\n",
       "\t<tr><td>Afghanistan </td><td>Asia  </td><td>1952</td><td>28.801</td><td>8425333</td><td> 779.4453</td></tr>\n",
       "\t<tr><td>Afghanistan </td><td>Asia  </td><td>1957</td><td>30.332</td><td>9240934</td><td> 820.8530</td></tr>\n",
       "\t<tr><td>Angola      </td><td>Africa</td><td>1952</td><td>30.015</td><td>4232095</td><td>3520.6103</td></tr>\n",
       "\t<tr><td>Gambia      </td><td>Africa</td><td>1952</td><td>30.000</td><td> 284320</td><td> 485.2307</td></tr>\n",
       "\t<tr><td>Rwanda      </td><td>Africa</td><td>1992</td><td>23.599</td><td>7290203</td><td> 737.0686</td></tr>\n",
       "\t<tr><td>Sierra Leone</td><td>Africa</td><td>1952</td><td>30.331</td><td>2143249</td><td> 879.7877</td></tr>\n",
       "</tbody>\n",
       "</table>\n"
      ],
      "text/latex": [
       "A tibble: 6 × 6\n",
       "\\begin{tabular}{llllll}\n",
       " country & continent & year & lifeExp & pop & gdpPercap\\\\\n",
       " <fct> & <fct> & <int> & <dbl> & <int> & <dbl>\\\\\n",
       "\\hline\n",
       "\t Afghanistan  & Asia   & 1952 & 28.801 & 8425333 &  779.4453\\\\\n",
       "\t Afghanistan  & Asia   & 1957 & 30.332 & 9240934 &  820.8530\\\\\n",
       "\t Angola       & Africa & 1952 & 30.015 & 4232095 & 3520.6103\\\\\n",
       "\t Gambia       & Africa & 1952 & 30.000 &  284320 &  485.2307\\\\\n",
       "\t Rwanda       & Africa & 1992 & 23.599 & 7290203 &  737.0686\\\\\n",
       "\t Sierra Leone & Africa & 1952 & 30.331 & 2143249 &  879.7877\\\\\n",
       "\\end{tabular}\n"
      ],
      "text/markdown": [
       "\n",
       "A tibble: 6 × 6\n",
       "\n",
       "| country &lt;fct&gt; | continent &lt;fct&gt; | year &lt;int&gt; | lifeExp &lt;dbl&gt; | pop &lt;int&gt; | gdpPercap &lt;dbl&gt; |\n",
       "|---|---|---|---|---|---|\n",
       "| Afghanistan  | Asia   | 1952 | 28.801 | 8425333 |  779.4453 |\n",
       "| Afghanistan  | Asia   | 1957 | 30.332 | 9240934 |  820.8530 |\n",
       "| Angola       | Africa | 1952 | 30.015 | 4232095 | 3520.6103 |\n",
       "| Gambia       | Africa | 1952 | 30.000 |  284320 |  485.2307 |\n",
       "| Rwanda       | Africa | 1992 | 23.599 | 7290203 |  737.0686 |\n",
       "| Sierra Leone | Africa | 1952 | 30.331 | 2143249 |  879.7877 |\n",
       "\n"
      ],
      "text/plain": [
       "  country      continent year lifeExp pop     gdpPercap\n",
       "1 Afghanistan  Asia      1952 28.801  8425333  779.4453\n",
       "2 Afghanistan  Asia      1957 30.332  9240934  820.8530\n",
       "3 Angola       Africa    1952 30.015  4232095 3520.6103\n",
       "4 Gambia       Africa    1952 30.000   284320  485.2307\n",
       "5 Rwanda       Africa    1992 23.599  7290203  737.0686\n",
       "6 Sierra Leone Africa    1952 30.331  2143249  879.7877"
      ]
     },
     "metadata": {},
     "output_type": "display_data"
    }
   ],
   "source": [
    "# task: select rows with lifeExp less than 31\n",
    "filter(gapminder, lifeExp < 31)"
   ]
  },
  {
   "cell_type": "code",
   "execution_count": 140,
   "id": "fb3ff8c3",
   "metadata": {
    "vscode": {
     "languageId": "r"
    }
   },
   "outputs": [
    {
     "data": {
      "text/html": [
       "<table class=\"dataframe\">\n",
       "<caption>A tibble: 6 × 6</caption>\n",
       "<thead>\n",
       "\t<tr><th scope=col>country</th><th scope=col>continent</th><th scope=col>year</th><th scope=col>lifeExp</th><th scope=col>pop</th><th scope=col>gdpPercap</th></tr>\n",
       "\t<tr><th scope=col>&lt;fct&gt;</th><th scope=col>&lt;fct&gt;</th><th scope=col>&lt;int&gt;</th><th scope=col>&lt;dbl&gt;</th><th scope=col>&lt;int&gt;</th><th scope=col>&lt;dbl&gt;</th></tr>\n",
       "</thead>\n",
       "<tbody>\n",
       "\t<tr><td>Austria</td><td>Europe</td><td>1982</td><td>73.180</td><td>7574613</td><td>21597.08</td></tr>\n",
       "\t<tr><td>Austria</td><td>Europe</td><td>1987</td><td>74.940</td><td>7578903</td><td>23687.83</td></tr>\n",
       "\t<tr><td>Austria</td><td>Europe</td><td>1992</td><td>76.040</td><td>7914969</td><td>27042.02</td></tr>\n",
       "\t<tr><td>Austria</td><td>Europe</td><td>1997</td><td>77.510</td><td>8069876</td><td>29095.92</td></tr>\n",
       "\t<tr><td>Austria</td><td>Europe</td><td>2002</td><td>78.980</td><td>8148312</td><td>32417.61</td></tr>\n",
       "\t<tr><td>Austria</td><td>Europe</td><td>2007</td><td>79.829</td><td>8199783</td><td>36126.49</td></tr>\n",
       "</tbody>\n",
       "</table>\n"
      ],
      "text/latex": [
       "A tibble: 6 × 6\n",
       "\\begin{tabular}{llllll}\n",
       " country & continent & year & lifeExp & pop & gdpPercap\\\\\n",
       " <fct> & <fct> & <int> & <dbl> & <int> & <dbl>\\\\\n",
       "\\hline\n",
       "\t Austria & Europe & 1982 & 73.180 & 7574613 & 21597.08\\\\\n",
       "\t Austria & Europe & 1987 & 74.940 & 7578903 & 23687.83\\\\\n",
       "\t Austria & Europe & 1992 & 76.040 & 7914969 & 27042.02\\\\\n",
       "\t Austria & Europe & 1997 & 77.510 & 8069876 & 29095.92\\\\\n",
       "\t Austria & Europe & 2002 & 78.980 & 8148312 & 32417.61\\\\\n",
       "\t Austria & Europe & 2007 & 79.829 & 8199783 & 36126.49\\\\\n",
       "\\end{tabular}\n"
      ],
      "text/markdown": [
       "\n",
       "A tibble: 6 × 6\n",
       "\n",
       "| country &lt;fct&gt; | continent &lt;fct&gt; | year &lt;int&gt; | lifeExp &lt;dbl&gt; | pop &lt;int&gt; | gdpPercap &lt;dbl&gt; |\n",
       "|---|---|---|---|---|---|\n",
       "| Austria | Europe | 1982 | 73.180 | 7574613 | 21597.08 |\n",
       "| Austria | Europe | 1987 | 74.940 | 7578903 | 23687.83 |\n",
       "| Austria | Europe | 1992 | 76.040 | 7914969 | 27042.02 |\n",
       "| Austria | Europe | 1997 | 77.510 | 8069876 | 29095.92 |\n",
       "| Austria | Europe | 2002 | 78.980 | 8148312 | 32417.61 |\n",
       "| Austria | Europe | 2007 | 79.829 | 8199783 | 36126.49 |\n",
       "\n"
      ],
      "text/plain": [
       "  country continent year lifeExp pop     gdpPercap\n",
       "1 Austria Europe    1982 73.180  7574613 21597.08 \n",
       "2 Austria Europe    1987 74.940  7578903 23687.83 \n",
       "3 Austria Europe    1992 76.040  7914969 27042.02 \n",
       "4 Austria Europe    1997 77.510  8069876 29095.92 \n",
       "5 Austria Europe    2002 78.980  8148312 32417.61 \n",
       "6 Austria Europe    2007 79.829  8199783 36126.49 "
      ]
     },
     "metadata": {},
     "output_type": "display_data"
    }
   ],
   "source": [
    "# task: select Austria only and year after 1980\n",
    "filter(gapminder, country == \"Austria\", year > 1980)"
   ]
  },
  {
   "cell_type": "code",
   "execution_count": 141,
   "id": "4899843c",
   "metadata": {
    "vscode": {
     "languageId": "r"
    }
   },
   "outputs": [
    {
     "data": {
      "text/html": [
       "<table class=\"dataframe\">\n",
       "<caption>A tibble: 24 × 6</caption>\n",
       "<thead>\n",
       "\t<tr><th scope=col>country</th><th scope=col>continent</th><th scope=col>year</th><th scope=col>lifeExp</th><th scope=col>pop</th><th scope=col>gdpPercap</th></tr>\n",
       "\t<tr><th scope=col>&lt;fct&gt;</th><th scope=col>&lt;fct&gt;</th><th scope=col>&lt;int&gt;</th><th scope=col>&lt;dbl&gt;</th><th scope=col>&lt;int&gt;</th><th scope=col>&lt;dbl&gt;</th></tr>\n",
       "</thead>\n",
       "<tbody>\n",
       "\t<tr><td>Austria</td><td>Europe</td><td>1952</td><td>66.800</td><td> 6927772</td><td> 6137.076</td></tr>\n",
       "\t<tr><td>Austria</td><td>Europe</td><td>1957</td><td>67.480</td><td> 6965860</td><td> 8842.598</td></tr>\n",
       "\t<tr><td>Austria</td><td>Europe</td><td>1962</td><td>69.540</td><td> 7129864</td><td>10750.721</td></tr>\n",
       "\t<tr><td>Austria</td><td>Europe</td><td>1967</td><td>70.140</td><td> 7376998</td><td>12834.602</td></tr>\n",
       "\t<tr><td>Austria</td><td>Europe</td><td>1972</td><td>70.630</td><td> 7544201</td><td>16661.626</td></tr>\n",
       "\t<tr><td>Austria</td><td>Europe</td><td>1977</td><td>72.170</td><td> 7568430</td><td>19749.422</td></tr>\n",
       "\t<tr><td>Austria</td><td>Europe</td><td>1982</td><td>73.180</td><td> 7574613</td><td>21597.084</td></tr>\n",
       "\t<tr><td>Austria</td><td>Europe</td><td>1987</td><td>74.940</td><td> 7578903</td><td>23687.826</td></tr>\n",
       "\t<tr><td>Austria</td><td>Europe</td><td>1992</td><td>76.040</td><td> 7914969</td><td>27042.019</td></tr>\n",
       "\t<tr><td>Austria</td><td>Europe</td><td>1997</td><td>77.510</td><td> 8069876</td><td>29095.921</td></tr>\n",
       "\t<tr><td>Austria</td><td>Europe</td><td>2002</td><td>78.980</td><td> 8148312</td><td>32417.608</td></tr>\n",
       "\t<tr><td>Austria</td><td>Europe</td><td>2007</td><td>79.829</td><td> 8199783</td><td>36126.493</td></tr>\n",
       "\t<tr><td>Belgium</td><td>Europe</td><td>1952</td><td>68.000</td><td> 8730405</td><td> 8343.105</td></tr>\n",
       "\t<tr><td>Belgium</td><td>Europe</td><td>1957</td><td>69.240</td><td> 8989111</td><td> 9714.961</td></tr>\n",
       "\t<tr><td>Belgium</td><td>Europe</td><td>1962</td><td>70.250</td><td> 9218400</td><td>10991.207</td></tr>\n",
       "\t<tr><td>Belgium</td><td>Europe</td><td>1967</td><td>70.940</td><td> 9556500</td><td>13149.041</td></tr>\n",
       "\t<tr><td>Belgium</td><td>Europe</td><td>1972</td><td>71.440</td><td> 9709100</td><td>16672.144</td></tr>\n",
       "\t<tr><td>Belgium</td><td>Europe</td><td>1977</td><td>72.800</td><td> 9821800</td><td>19117.974</td></tr>\n",
       "\t<tr><td>Belgium</td><td>Europe</td><td>1982</td><td>73.930</td><td> 9856303</td><td>20979.846</td></tr>\n",
       "\t<tr><td>Belgium</td><td>Europe</td><td>1987</td><td>75.350</td><td> 9870200</td><td>22525.563</td></tr>\n",
       "\t<tr><td>Belgium</td><td>Europe</td><td>1992</td><td>76.460</td><td>10045622</td><td>25575.571</td></tr>\n",
       "\t<tr><td>Belgium</td><td>Europe</td><td>1997</td><td>77.530</td><td>10199787</td><td>27561.197</td></tr>\n",
       "\t<tr><td>Belgium</td><td>Europe</td><td>2002</td><td>78.320</td><td>10311970</td><td>30485.884</td></tr>\n",
       "\t<tr><td>Belgium</td><td>Europe</td><td>2007</td><td>79.441</td><td>10392226</td><td>33692.605</td></tr>\n",
       "</tbody>\n",
       "</table>\n"
      ],
      "text/latex": [
       "A tibble: 24 × 6\n",
       "\\begin{tabular}{llllll}\n",
       " country & continent & year & lifeExp & pop & gdpPercap\\\\\n",
       " <fct> & <fct> & <int> & <dbl> & <int> & <dbl>\\\\\n",
       "\\hline\n",
       "\t Austria & Europe & 1952 & 66.800 &  6927772 &  6137.076\\\\\n",
       "\t Austria & Europe & 1957 & 67.480 &  6965860 &  8842.598\\\\\n",
       "\t Austria & Europe & 1962 & 69.540 &  7129864 & 10750.721\\\\\n",
       "\t Austria & Europe & 1967 & 70.140 &  7376998 & 12834.602\\\\\n",
       "\t Austria & Europe & 1972 & 70.630 &  7544201 & 16661.626\\\\\n",
       "\t Austria & Europe & 1977 & 72.170 &  7568430 & 19749.422\\\\\n",
       "\t Austria & Europe & 1982 & 73.180 &  7574613 & 21597.084\\\\\n",
       "\t Austria & Europe & 1987 & 74.940 &  7578903 & 23687.826\\\\\n",
       "\t Austria & Europe & 1992 & 76.040 &  7914969 & 27042.019\\\\\n",
       "\t Austria & Europe & 1997 & 77.510 &  8069876 & 29095.921\\\\\n",
       "\t Austria & Europe & 2002 & 78.980 &  8148312 & 32417.608\\\\\n",
       "\t Austria & Europe & 2007 & 79.829 &  8199783 & 36126.493\\\\\n",
       "\t Belgium & Europe & 1952 & 68.000 &  8730405 &  8343.105\\\\\n",
       "\t Belgium & Europe & 1957 & 69.240 &  8989111 &  9714.961\\\\\n",
       "\t Belgium & Europe & 1962 & 70.250 &  9218400 & 10991.207\\\\\n",
       "\t Belgium & Europe & 1967 & 70.940 &  9556500 & 13149.041\\\\\n",
       "\t Belgium & Europe & 1972 & 71.440 &  9709100 & 16672.144\\\\\n",
       "\t Belgium & Europe & 1977 & 72.800 &  9821800 & 19117.974\\\\\n",
       "\t Belgium & Europe & 1982 & 73.930 &  9856303 & 20979.846\\\\\n",
       "\t Belgium & Europe & 1987 & 75.350 &  9870200 & 22525.563\\\\\n",
       "\t Belgium & Europe & 1992 & 76.460 & 10045622 & 25575.571\\\\\n",
       "\t Belgium & Europe & 1997 & 77.530 & 10199787 & 27561.197\\\\\n",
       "\t Belgium & Europe & 2002 & 78.320 & 10311970 & 30485.884\\\\\n",
       "\t Belgium & Europe & 2007 & 79.441 & 10392226 & 33692.605\\\\\n",
       "\\end{tabular}\n"
      ],
      "text/markdown": [
       "\n",
       "A tibble: 24 × 6\n",
       "\n",
       "| country &lt;fct&gt; | continent &lt;fct&gt; | year &lt;int&gt; | lifeExp &lt;dbl&gt; | pop &lt;int&gt; | gdpPercap &lt;dbl&gt; |\n",
       "|---|---|---|---|---|---|\n",
       "| Austria | Europe | 1952 | 66.800 |  6927772 |  6137.076 |\n",
       "| Austria | Europe | 1957 | 67.480 |  6965860 |  8842.598 |\n",
       "| Austria | Europe | 1962 | 69.540 |  7129864 | 10750.721 |\n",
       "| Austria | Europe | 1967 | 70.140 |  7376998 | 12834.602 |\n",
       "| Austria | Europe | 1972 | 70.630 |  7544201 | 16661.626 |\n",
       "| Austria | Europe | 1977 | 72.170 |  7568430 | 19749.422 |\n",
       "| Austria | Europe | 1982 | 73.180 |  7574613 | 21597.084 |\n",
       "| Austria | Europe | 1987 | 74.940 |  7578903 | 23687.826 |\n",
       "| Austria | Europe | 1992 | 76.040 |  7914969 | 27042.019 |\n",
       "| Austria | Europe | 1997 | 77.510 |  8069876 | 29095.921 |\n",
       "| Austria | Europe | 2002 | 78.980 |  8148312 | 32417.608 |\n",
       "| Austria | Europe | 2007 | 79.829 |  8199783 | 36126.493 |\n",
       "| Belgium | Europe | 1952 | 68.000 |  8730405 |  8343.105 |\n",
       "| Belgium | Europe | 1957 | 69.240 |  8989111 |  9714.961 |\n",
       "| Belgium | Europe | 1962 | 70.250 |  9218400 | 10991.207 |\n",
       "| Belgium | Europe | 1967 | 70.940 |  9556500 | 13149.041 |\n",
       "| Belgium | Europe | 1972 | 71.440 |  9709100 | 16672.144 |\n",
       "| Belgium | Europe | 1977 | 72.800 |  9821800 | 19117.974 |\n",
       "| Belgium | Europe | 1982 | 73.930 |  9856303 | 20979.846 |\n",
       "| Belgium | Europe | 1987 | 75.350 |  9870200 | 22525.563 |\n",
       "| Belgium | Europe | 1992 | 76.460 | 10045622 | 25575.571 |\n",
       "| Belgium | Europe | 1997 | 77.530 | 10199787 | 27561.197 |\n",
       "| Belgium | Europe | 2002 | 78.320 | 10311970 | 30485.884 |\n",
       "| Belgium | Europe | 2007 | 79.441 | 10392226 | 33692.605 |\n",
       "\n"
      ],
      "text/plain": [
       "   country continent year lifeExp pop      gdpPercap\n",
       "1  Austria Europe    1952 66.800   6927772  6137.076\n",
       "2  Austria Europe    1957 67.480   6965860  8842.598\n",
       "3  Austria Europe    1962 69.540   7129864 10750.721\n",
       "4  Austria Europe    1967 70.140   7376998 12834.602\n",
       "5  Austria Europe    1972 70.630   7544201 16661.626\n",
       "6  Austria Europe    1977 72.170   7568430 19749.422\n",
       "7  Austria Europe    1982 73.180   7574613 21597.084\n",
       "8  Austria Europe    1987 74.940   7578903 23687.826\n",
       "9  Austria Europe    1992 76.040   7914969 27042.019\n",
       "10 Austria Europe    1997 77.510   8069876 29095.921\n",
       "11 Austria Europe    2002 78.980   8148312 32417.608\n",
       "12 Austria Europe    2007 79.829   8199783 36126.493\n",
       "13 Belgium Europe    1952 68.000   8730405  8343.105\n",
       "14 Belgium Europe    1957 69.240   8989111  9714.961\n",
       "15 Belgium Europe    1962 70.250   9218400 10991.207\n",
       "16 Belgium Europe    1967 70.940   9556500 13149.041\n",
       "17 Belgium Europe    1972 71.440   9709100 16672.144\n",
       "18 Belgium Europe    1977 72.800   9821800 19117.974\n",
       "19 Belgium Europe    1982 73.930   9856303 20979.846\n",
       "20 Belgium Europe    1987 75.350   9870200 22525.563\n",
       "21 Belgium Europe    1992 76.460  10045622 25575.571\n",
       "22 Belgium Europe    1997 77.530  10199787 27561.197\n",
       "23 Belgium Europe    2002 78.320  10311970 30485.884\n",
       "24 Belgium Europe    2007 79.441  10392226 33692.605"
      ]
     },
     "metadata": {},
     "output_type": "display_data"
    }
   ],
   "source": [
    "# task: select Austria and Belgium\n",
    "filter(gapminder, country %in% c(\"Austria\", \"Belgium\"))"
   ]
  },
  {
   "cell_type": "markdown",
   "id": "e9ea19a4",
   "metadata": {},
   "source": [
    "Lets rewrite initial code and record it to the variable/data.frame:"
   ]
  },
  {
   "cell_type": "markdown",
   "id": "d07423e3",
   "metadata": {},
   "source": [
    "### Pipe (%>%) operator"
   ]
  },
  {
   "cell_type": "markdown",
   "id": "21c761d8",
   "metadata": {},
   "source": [
    "`%>%` is `pipe` operator. The pipe operator takes the thing on the left-hand-side and pipes it into the function call on the right-hand-side – literally, drops it in as the first argument.\n",
    "\n",
    "`head()` function without pipe and top 4 items:"
   ]
  },
  {
   "cell_type": "markdown",
   "id": "524fcf8b",
   "metadata": {},
   "source": [
    "> In R version before 4.1.0 `pipe` `%>%` operator is not a language build-in and you should install `magrittr` package:"
   ]
  },
  {
   "cell_type": "markdown",
   "id": "d01005ac-0f45-483f-80dc-6040427d92b1",
   "metadata": {},
   "source": [
    "> Pipe opertor in R 4.1+ `|>`, using this is preferable"
   ]
  },
  {
   "cell_type": "code",
   "execution_count": 142,
   "id": "0e046121",
   "metadata": {
    "vscode": {
     "languageId": "r"
    }
   },
   "outputs": [],
   "source": [
    "#install.packages(\"magrittr\") # for pipe %>% operator\n",
    "library(magrittr)"
   ]
  },
  {
   "cell_type": "code",
   "execution_count": 143,
   "id": "f199611f",
   "metadata": {
    "vscode": {
     "languageId": "r"
    }
   },
   "outputs": [
    {
     "data": {
      "text/html": [
       "<table class=\"dataframe\">\n",
       "<caption>A tibble: 4 × 6</caption>\n",
       "<thead>\n",
       "\t<tr><th scope=col>country</th><th scope=col>continent</th><th scope=col>year</th><th scope=col>lifeExp</th><th scope=col>pop</th><th scope=col>gdpPercap</th></tr>\n",
       "\t<tr><th scope=col>&lt;fct&gt;</th><th scope=col>&lt;fct&gt;</th><th scope=col>&lt;int&gt;</th><th scope=col>&lt;dbl&gt;</th><th scope=col>&lt;int&gt;</th><th scope=col>&lt;dbl&gt;</th></tr>\n",
       "</thead>\n",
       "<tbody>\n",
       "\t<tr><td>Afghanistan</td><td>Asia</td><td>1952</td><td>28.801</td><td> 8425333</td><td>779.4453</td></tr>\n",
       "\t<tr><td>Afghanistan</td><td>Asia</td><td>1957</td><td>30.332</td><td> 9240934</td><td>820.8530</td></tr>\n",
       "\t<tr><td>Afghanistan</td><td>Asia</td><td>1962</td><td>31.997</td><td>10267083</td><td>853.1007</td></tr>\n",
       "\t<tr><td>Afghanistan</td><td>Asia</td><td>1967</td><td>34.020</td><td>11537966</td><td>836.1971</td></tr>\n",
       "</tbody>\n",
       "</table>\n"
      ],
      "text/latex": [
       "A tibble: 4 × 6\n",
       "\\begin{tabular}{llllll}\n",
       " country & continent & year & lifeExp & pop & gdpPercap\\\\\n",
       " <fct> & <fct> & <int> & <dbl> & <int> & <dbl>\\\\\n",
       "\\hline\n",
       "\t Afghanistan & Asia & 1952 & 28.801 &  8425333 & 779.4453\\\\\n",
       "\t Afghanistan & Asia & 1957 & 30.332 &  9240934 & 820.8530\\\\\n",
       "\t Afghanistan & Asia & 1962 & 31.997 & 10267083 & 853.1007\\\\\n",
       "\t Afghanistan & Asia & 1967 & 34.020 & 11537966 & 836.1971\\\\\n",
       "\\end{tabular}\n"
      ],
      "text/markdown": [
       "\n",
       "A tibble: 4 × 6\n",
       "\n",
       "| country &lt;fct&gt; | continent &lt;fct&gt; | year &lt;int&gt; | lifeExp &lt;dbl&gt; | pop &lt;int&gt; | gdpPercap &lt;dbl&gt; |\n",
       "|---|---|---|---|---|---|\n",
       "| Afghanistan | Asia | 1952 | 28.801 |  8425333 | 779.4453 |\n",
       "| Afghanistan | Asia | 1957 | 30.332 |  9240934 | 820.8530 |\n",
       "| Afghanistan | Asia | 1962 | 31.997 | 10267083 | 853.1007 |\n",
       "| Afghanistan | Asia | 1967 | 34.020 | 11537966 | 836.1971 |\n",
       "\n"
      ],
      "text/plain": [
       "  country     continent year lifeExp pop      gdpPercap\n",
       "1 Afghanistan Asia      1952 28.801   8425333 779.4453 \n",
       "2 Afghanistan Asia      1957 30.332   9240934 820.8530 \n",
       "3 Afghanistan Asia      1962 31.997  10267083 853.1007 \n",
       "4 Afghanistan Asia      1967 34.020  11537966 836.1971 "
      ]
     },
     "metadata": {},
     "output_type": "display_data"
    }
   ],
   "source": [
    "head(gapminder, n = 4)"
   ]
  },
  {
   "cell_type": "markdown",
   "id": "96f74ca1",
   "metadata": {},
   "source": [
    "`head()` function with pipe and top 4 items:"
   ]
  },
  {
   "cell_type": "code",
   "execution_count": 144,
   "id": "fcdf55c5",
   "metadata": {
    "vscode": {
     "languageId": "r"
    }
   },
   "outputs": [
    {
     "data": {
      "text/html": [
       "<table class=\"dataframe\">\n",
       "<caption>A tibble: 4 × 6</caption>\n",
       "<thead>\n",
       "\t<tr><th scope=col>country</th><th scope=col>continent</th><th scope=col>year</th><th scope=col>lifeExp</th><th scope=col>pop</th><th scope=col>gdpPercap</th></tr>\n",
       "\t<tr><th scope=col>&lt;fct&gt;</th><th scope=col>&lt;fct&gt;</th><th scope=col>&lt;int&gt;</th><th scope=col>&lt;dbl&gt;</th><th scope=col>&lt;int&gt;</th><th scope=col>&lt;dbl&gt;</th></tr>\n",
       "</thead>\n",
       "<tbody>\n",
       "\t<tr><td>Afghanistan</td><td>Asia</td><td>1952</td><td>28.801</td><td> 8425333</td><td>779.4453</td></tr>\n",
       "\t<tr><td>Afghanistan</td><td>Asia</td><td>1957</td><td>30.332</td><td> 9240934</td><td>820.8530</td></tr>\n",
       "\t<tr><td>Afghanistan</td><td>Asia</td><td>1962</td><td>31.997</td><td>10267083</td><td>853.1007</td></tr>\n",
       "\t<tr><td>Afghanistan</td><td>Asia</td><td>1967</td><td>34.020</td><td>11537966</td><td>836.1971</td></tr>\n",
       "</tbody>\n",
       "</table>\n"
      ],
      "text/latex": [
       "A tibble: 4 × 6\n",
       "\\begin{tabular}{llllll}\n",
       " country & continent & year & lifeExp & pop & gdpPercap\\\\\n",
       " <fct> & <fct> & <int> & <dbl> & <int> & <dbl>\\\\\n",
       "\\hline\n",
       "\t Afghanistan & Asia & 1952 & 28.801 &  8425333 & 779.4453\\\\\n",
       "\t Afghanistan & Asia & 1957 & 30.332 &  9240934 & 820.8530\\\\\n",
       "\t Afghanistan & Asia & 1962 & 31.997 & 10267083 & 853.1007\\\\\n",
       "\t Afghanistan & Asia & 1967 & 34.020 & 11537966 & 836.1971\\\\\n",
       "\\end{tabular}\n"
      ],
      "text/markdown": [
       "\n",
       "A tibble: 4 × 6\n",
       "\n",
       "| country &lt;fct&gt; | continent &lt;fct&gt; | year &lt;int&gt; | lifeExp &lt;dbl&gt; | pop &lt;int&gt; | gdpPercap &lt;dbl&gt; |\n",
       "|---|---|---|---|---|---|\n",
       "| Afghanistan | Asia | 1952 | 28.801 |  8425333 | 779.4453 |\n",
       "| Afghanistan | Asia | 1957 | 30.332 |  9240934 | 820.8530 |\n",
       "| Afghanistan | Asia | 1962 | 31.997 | 10267083 | 853.1007 |\n",
       "| Afghanistan | Asia | 1967 | 34.020 | 11537966 | 836.1971 |\n",
       "\n"
      ],
      "text/plain": [
       "  country     continent year lifeExp pop      gdpPercap\n",
       "1 Afghanistan Asia      1952 28.801   8425333 779.4453 \n",
       "2 Afghanistan Asia      1957 30.332   9240934 820.8530 \n",
       "3 Afghanistan Asia      1962 31.997  10267083 853.1007 \n",
       "4 Afghanistan Asia      1967 34.020  11537966 836.1971 "
      ]
     },
     "metadata": {},
     "output_type": "display_data"
    }
   ],
   "source": [
    "gapminder %>% head(4)"
   ]
  },
  {
   "cell_type": "markdown",
   "id": "3503df04",
   "metadata": {},
   "source": [
    "Output is the same. So, let's rewrire filtering for `Austria` with pipe:"
   ]
  },
  {
   "cell_type": "code",
   "execution_count": 145,
   "id": "e8104b6f",
   "metadata": {
    "vscode": {
     "languageId": "r"
    }
   },
   "outputs": [
    {
     "data": {
      "text/html": [
       "<table class=\"dataframe\">\n",
       "<caption>A tibble: 12 × 6</caption>\n",
       "<thead>\n",
       "\t<tr><th scope=col>country</th><th scope=col>continent</th><th scope=col>year</th><th scope=col>lifeExp</th><th scope=col>pop</th><th scope=col>gdpPercap</th></tr>\n",
       "\t<tr><th scope=col>&lt;fct&gt;</th><th scope=col>&lt;fct&gt;</th><th scope=col>&lt;int&gt;</th><th scope=col>&lt;dbl&gt;</th><th scope=col>&lt;int&gt;</th><th scope=col>&lt;dbl&gt;</th></tr>\n",
       "</thead>\n",
       "<tbody>\n",
       "\t<tr><td>Austria</td><td>Europe</td><td>1952</td><td>66.800</td><td>6927772</td><td> 6137.076</td></tr>\n",
       "\t<tr><td>Austria</td><td>Europe</td><td>1957</td><td>67.480</td><td>6965860</td><td> 8842.598</td></tr>\n",
       "\t<tr><td>Austria</td><td>Europe</td><td>1962</td><td>69.540</td><td>7129864</td><td>10750.721</td></tr>\n",
       "\t<tr><td>Austria</td><td>Europe</td><td>1967</td><td>70.140</td><td>7376998</td><td>12834.602</td></tr>\n",
       "\t<tr><td>Austria</td><td>Europe</td><td>1972</td><td>70.630</td><td>7544201</td><td>16661.626</td></tr>\n",
       "\t<tr><td>Austria</td><td>Europe</td><td>1977</td><td>72.170</td><td>7568430</td><td>19749.422</td></tr>\n",
       "\t<tr><td>Austria</td><td>Europe</td><td>1982</td><td>73.180</td><td>7574613</td><td>21597.084</td></tr>\n",
       "\t<tr><td>Austria</td><td>Europe</td><td>1987</td><td>74.940</td><td>7578903</td><td>23687.826</td></tr>\n",
       "\t<tr><td>Austria</td><td>Europe</td><td>1992</td><td>76.040</td><td>7914969</td><td>27042.019</td></tr>\n",
       "\t<tr><td>Austria</td><td>Europe</td><td>1997</td><td>77.510</td><td>8069876</td><td>29095.921</td></tr>\n",
       "\t<tr><td>Austria</td><td>Europe</td><td>2002</td><td>78.980</td><td>8148312</td><td>32417.608</td></tr>\n",
       "\t<tr><td>Austria</td><td>Europe</td><td>2007</td><td>79.829</td><td>8199783</td><td>36126.493</td></tr>\n",
       "</tbody>\n",
       "</table>\n"
      ],
      "text/latex": [
       "A tibble: 12 × 6\n",
       "\\begin{tabular}{llllll}\n",
       " country & continent & year & lifeExp & pop & gdpPercap\\\\\n",
       " <fct> & <fct> & <int> & <dbl> & <int> & <dbl>\\\\\n",
       "\\hline\n",
       "\t Austria & Europe & 1952 & 66.800 & 6927772 &  6137.076\\\\\n",
       "\t Austria & Europe & 1957 & 67.480 & 6965860 &  8842.598\\\\\n",
       "\t Austria & Europe & 1962 & 69.540 & 7129864 & 10750.721\\\\\n",
       "\t Austria & Europe & 1967 & 70.140 & 7376998 & 12834.602\\\\\n",
       "\t Austria & Europe & 1972 & 70.630 & 7544201 & 16661.626\\\\\n",
       "\t Austria & Europe & 1977 & 72.170 & 7568430 & 19749.422\\\\\n",
       "\t Austria & Europe & 1982 & 73.180 & 7574613 & 21597.084\\\\\n",
       "\t Austria & Europe & 1987 & 74.940 & 7578903 & 23687.826\\\\\n",
       "\t Austria & Europe & 1992 & 76.040 & 7914969 & 27042.019\\\\\n",
       "\t Austria & Europe & 1997 & 77.510 & 8069876 & 29095.921\\\\\n",
       "\t Austria & Europe & 2002 & 78.980 & 8148312 & 32417.608\\\\\n",
       "\t Austria & Europe & 2007 & 79.829 & 8199783 & 36126.493\\\\\n",
       "\\end{tabular}\n"
      ],
      "text/markdown": [
       "\n",
       "A tibble: 12 × 6\n",
       "\n",
       "| country &lt;fct&gt; | continent &lt;fct&gt; | year &lt;int&gt; | lifeExp &lt;dbl&gt; | pop &lt;int&gt; | gdpPercap &lt;dbl&gt; |\n",
       "|---|---|---|---|---|---|\n",
       "| Austria | Europe | 1952 | 66.800 | 6927772 |  6137.076 |\n",
       "| Austria | Europe | 1957 | 67.480 | 6965860 |  8842.598 |\n",
       "| Austria | Europe | 1962 | 69.540 | 7129864 | 10750.721 |\n",
       "| Austria | Europe | 1967 | 70.140 | 7376998 | 12834.602 |\n",
       "| Austria | Europe | 1972 | 70.630 | 7544201 | 16661.626 |\n",
       "| Austria | Europe | 1977 | 72.170 | 7568430 | 19749.422 |\n",
       "| Austria | Europe | 1982 | 73.180 | 7574613 | 21597.084 |\n",
       "| Austria | Europe | 1987 | 74.940 | 7578903 | 23687.826 |\n",
       "| Austria | Europe | 1992 | 76.040 | 7914969 | 27042.019 |\n",
       "| Austria | Europe | 1997 | 77.510 | 8069876 | 29095.921 |\n",
       "| Austria | Europe | 2002 | 78.980 | 8148312 | 32417.608 |\n",
       "| Austria | Europe | 2007 | 79.829 | 8199783 | 36126.493 |\n",
       "\n"
      ],
      "text/plain": [
       "   country continent year lifeExp pop     gdpPercap\n",
       "1  Austria Europe    1952 66.800  6927772  6137.076\n",
       "2  Austria Europe    1957 67.480  6965860  8842.598\n",
       "3  Austria Europe    1962 69.540  7129864 10750.721\n",
       "4  Austria Europe    1967 70.140  7376998 12834.602\n",
       "5  Austria Europe    1972 70.630  7544201 16661.626\n",
       "6  Austria Europe    1977 72.170  7568430 19749.422\n",
       "7  Austria Europe    1982 73.180  7574613 21597.084\n",
       "8  Austria Europe    1987 74.940  7578903 23687.826\n",
       "9  Austria Europe    1992 76.040  7914969 27042.019\n",
       "10 Austria Europe    1997 77.510  8069876 29095.921\n",
       "11 Austria Europe    2002 78.980  8148312 32417.608\n",
       "12 Austria Europe    2007 79.829  8199783 36126.493"
      ]
     },
     "metadata": {},
     "output_type": "display_data"
    }
   ],
   "source": [
    "austria <- gapminder %>% filter(country == \"Austria\")\n",
    "austria"
   ]
  },
  {
   "cell_type": "code",
   "execution_count": 146,
   "id": "2b1acb6a",
   "metadata": {
    "vscode": {
     "languageId": "r"
    }
   },
   "outputs": [
    {
     "data": {
      "text/html": [
       "<table class=\"dataframe\">\n",
       "<caption>A tibble: 2 × 6</caption>\n",
       "<thead>\n",
       "\t<tr><th scope=col>country</th><th scope=col>continent</th><th scope=col>year</th><th scope=col>lifeExp</th><th scope=col>pop</th><th scope=col>gdpPercap</th></tr>\n",
       "\t<tr><th scope=col>&lt;fct&gt;</th><th scope=col>&lt;fct&gt;</th><th scope=col>&lt;int&gt;</th><th scope=col>&lt;dbl&gt;</th><th scope=col>&lt;int&gt;</th><th scope=col>&lt;dbl&gt;</th></tr>\n",
       "</thead>\n",
       "<tbody>\n",
       "\t<tr><td>Austria</td><td>Europe</td><td>2002</td><td>78.980</td><td>8148312</td><td>32417.61</td></tr>\n",
       "\t<tr><td>Austria</td><td>Europe</td><td>2007</td><td>79.829</td><td>8199783</td><td>36126.49</td></tr>\n",
       "</tbody>\n",
       "</table>\n"
      ],
      "text/latex": [
       "A tibble: 2 × 6\n",
       "\\begin{tabular}{llllll}\n",
       " country & continent & year & lifeExp & pop & gdpPercap\\\\\n",
       " <fct> & <fct> & <int> & <dbl> & <int> & <dbl>\\\\\n",
       "\\hline\n",
       "\t Austria & Europe & 2002 & 78.980 & 8148312 & 32417.61\\\\\n",
       "\t Austria & Europe & 2007 & 79.829 & 8199783 & 36126.49\\\\\n",
       "\\end{tabular}\n"
      ],
      "text/markdown": [
       "\n",
       "A tibble: 2 × 6\n",
       "\n",
       "| country &lt;fct&gt; | continent &lt;fct&gt; | year &lt;int&gt; | lifeExp &lt;dbl&gt; | pop &lt;int&gt; | gdpPercap &lt;dbl&gt; |\n",
       "|---|---|---|---|---|---|\n",
       "| Austria | Europe | 2002 | 78.980 | 8148312 | 32417.61 |\n",
       "| Austria | Europe | 2007 | 79.829 | 8199783 | 36126.49 |\n",
       "\n"
      ],
      "text/plain": [
       "  country continent year lifeExp pop     gdpPercap\n",
       "1 Austria Europe    2002 78.980  8148312 32417.61 \n",
       "2 Austria Europe    2007 79.829  8199783 36126.49 "
      ]
     },
     "metadata": {},
     "output_type": "display_data"
    }
   ],
   "source": [
    "# add more conditions in filter\n",
    "austria <- gapminder %>% filter(country == \"Austria\", year > 2000)\n",
    "austria"
   ]
  },
  {
   "cell_type": "markdown",
   "id": "5e8f3ee0",
   "metadata": {},
   "source": [
    "---"
   ]
  },
  {
   "cell_type": "markdown",
   "id": "10ff15f6",
   "metadata": {},
   "source": [
    "### `select()` function"
   ]
  },
  {
   "cell_type": "markdown",
   "id": "af3e3ec9",
   "metadata": {},
   "source": [
    "Use `select()` to subset the data on variables/columns by `names` or `index`. You also can define order of columns with `select()`."
   ]
  },
  {
   "cell_type": "code",
   "execution_count": 147,
   "id": "4d8e74f2",
   "metadata": {
    "vscode": {
     "languageId": "r"
    }
   },
   "outputs": [
    {
     "data": {
      "text/html": [
       "<table class=\"dataframe\">\n",
       "<caption>A tibble: 10 × 3</caption>\n",
       "<thead>\n",
       "\t<tr><th scope=col>year</th><th scope=col>country</th><th scope=col>pop</th></tr>\n",
       "\t<tr><th scope=col>&lt;int&gt;</th><th scope=col>&lt;fct&gt;</th><th scope=col>&lt;int&gt;</th></tr>\n",
       "</thead>\n",
       "<tbody>\n",
       "\t<tr><td>1952</td><td>Afghanistan</td><td> 8425333</td></tr>\n",
       "\t<tr><td>1957</td><td>Afghanistan</td><td> 9240934</td></tr>\n",
       "\t<tr><td>1962</td><td>Afghanistan</td><td>10267083</td></tr>\n",
       "\t<tr><td>1967</td><td>Afghanistan</td><td>11537966</td></tr>\n",
       "\t<tr><td>1972</td><td>Afghanistan</td><td>13079460</td></tr>\n",
       "\t<tr><td>1977</td><td>Afghanistan</td><td>14880372</td></tr>\n",
       "\t<tr><td>1982</td><td>Afghanistan</td><td>12881816</td></tr>\n",
       "\t<tr><td>1987</td><td>Afghanistan</td><td>13867957</td></tr>\n",
       "\t<tr><td>1992</td><td>Afghanistan</td><td>16317921</td></tr>\n",
       "\t<tr><td>1997</td><td>Afghanistan</td><td>22227415</td></tr>\n",
       "</tbody>\n",
       "</table>\n"
      ],
      "text/latex": [
       "A tibble: 10 × 3\n",
       "\\begin{tabular}{lll}\n",
       " year & country & pop\\\\\n",
       " <int> & <fct> & <int>\\\\\n",
       "\\hline\n",
       "\t 1952 & Afghanistan &  8425333\\\\\n",
       "\t 1957 & Afghanistan &  9240934\\\\\n",
       "\t 1962 & Afghanistan & 10267083\\\\\n",
       "\t 1967 & Afghanistan & 11537966\\\\\n",
       "\t 1972 & Afghanistan & 13079460\\\\\n",
       "\t 1977 & Afghanistan & 14880372\\\\\n",
       "\t 1982 & Afghanistan & 12881816\\\\\n",
       "\t 1987 & Afghanistan & 13867957\\\\\n",
       "\t 1992 & Afghanistan & 16317921\\\\\n",
       "\t 1997 & Afghanistan & 22227415\\\\\n",
       "\\end{tabular}\n"
      ],
      "text/markdown": [
       "\n",
       "A tibble: 10 × 3\n",
       "\n",
       "| year &lt;int&gt; | country &lt;fct&gt; | pop &lt;int&gt; |\n",
       "|---|---|---|\n",
       "| 1952 | Afghanistan |  8425333 |\n",
       "| 1957 | Afghanistan |  9240934 |\n",
       "| 1962 | Afghanistan | 10267083 |\n",
       "| 1967 | Afghanistan | 11537966 |\n",
       "| 1972 | Afghanistan | 13079460 |\n",
       "| 1977 | Afghanistan | 14880372 |\n",
       "| 1982 | Afghanistan | 12881816 |\n",
       "| 1987 | Afghanistan | 13867957 |\n",
       "| 1992 | Afghanistan | 16317921 |\n",
       "| 1997 | Afghanistan | 22227415 |\n",
       "\n"
      ],
      "text/plain": [
       "   year country     pop     \n",
       "1  1952 Afghanistan  8425333\n",
       "2  1957 Afghanistan  9240934\n",
       "3  1962 Afghanistan 10267083\n",
       "4  1967 Afghanistan 11537966\n",
       "5  1972 Afghanistan 13079460\n",
       "6  1977 Afghanistan 14880372\n",
       "7  1982 Afghanistan 12881816\n",
       "8  1987 Afghanistan 13867957\n",
       "9  1992 Afghanistan 16317921\n",
       "10 1997 Afghanistan 22227415"
      ]
     },
     "metadata": {},
     "output_type": "display_data"
    }
   ],
   "source": [
    "gapminder %>% \n",
    "select(year, country, pop) %>%\n",
    "slice(1: 10)"
   ]
  },
  {
   "cell_type": "markdown",
   "id": "9de97bfe",
   "metadata": {},
   "source": [
    "Lets combine few functions with `pipe` (`%>%`):"
   ]
  },
  {
   "cell_type": "markdown",
   "id": "576fef4c",
   "metadata": {},
   "source": [
    "Finally, lest extend our filtering:"
   ]
  },
  {
   "cell_type": "code",
   "execution_count": 148,
   "id": "2336666b",
   "metadata": {
    "vscode": {
     "languageId": "r"
    }
   },
   "outputs": [
    {
     "data": {
      "text/html": [
       "<table class=\"dataframe\">\n",
       "<caption>A tibble: 12 × 3</caption>\n",
       "<thead>\n",
       "\t<tr><th scope=col>year</th><th scope=col>pop</th><th scope=col>lifeExp</th></tr>\n",
       "\t<tr><th scope=col>&lt;int&gt;</th><th scope=col>&lt;int&gt;</th><th scope=col>&lt;dbl&gt;</th></tr>\n",
       "</thead>\n",
       "<tbody>\n",
       "\t<tr><td>1952</td><td>6927772</td><td>66.800</td></tr>\n",
       "\t<tr><td>1957</td><td>6965860</td><td>67.480</td></tr>\n",
       "\t<tr><td>1962</td><td>7129864</td><td>69.540</td></tr>\n",
       "\t<tr><td>1967</td><td>7376998</td><td>70.140</td></tr>\n",
       "\t<tr><td>1972</td><td>7544201</td><td>70.630</td></tr>\n",
       "\t<tr><td>1977</td><td>7568430</td><td>72.170</td></tr>\n",
       "\t<tr><td>1982</td><td>7574613</td><td>73.180</td></tr>\n",
       "\t<tr><td>1987</td><td>7578903</td><td>74.940</td></tr>\n",
       "\t<tr><td>1992</td><td>7914969</td><td>76.040</td></tr>\n",
       "\t<tr><td>1997</td><td>8069876</td><td>77.510</td></tr>\n",
       "\t<tr><td>2002</td><td>8148312</td><td>78.980</td></tr>\n",
       "\t<tr><td>2007</td><td>8199783</td><td>79.829</td></tr>\n",
       "</tbody>\n",
       "</table>\n"
      ],
      "text/latex": [
       "A tibble: 12 × 3\n",
       "\\begin{tabular}{lll}\n",
       " year & pop & lifeExp\\\\\n",
       " <int> & <int> & <dbl>\\\\\n",
       "\\hline\n",
       "\t 1952 & 6927772 & 66.800\\\\\n",
       "\t 1957 & 6965860 & 67.480\\\\\n",
       "\t 1962 & 7129864 & 69.540\\\\\n",
       "\t 1967 & 7376998 & 70.140\\\\\n",
       "\t 1972 & 7544201 & 70.630\\\\\n",
       "\t 1977 & 7568430 & 72.170\\\\\n",
       "\t 1982 & 7574613 & 73.180\\\\\n",
       "\t 1987 & 7578903 & 74.940\\\\\n",
       "\t 1992 & 7914969 & 76.040\\\\\n",
       "\t 1997 & 8069876 & 77.510\\\\\n",
       "\t 2002 & 8148312 & 78.980\\\\\n",
       "\t 2007 & 8199783 & 79.829\\\\\n",
       "\\end{tabular}\n"
      ],
      "text/markdown": [
       "\n",
       "A tibble: 12 × 3\n",
       "\n",
       "| year &lt;int&gt; | pop &lt;int&gt; | lifeExp &lt;dbl&gt; |\n",
       "|---|---|---|\n",
       "| 1952 | 6927772 | 66.800 |\n",
       "| 1957 | 6965860 | 67.480 |\n",
       "| 1962 | 7129864 | 69.540 |\n",
       "| 1967 | 7376998 | 70.140 |\n",
       "| 1972 | 7544201 | 70.630 |\n",
       "| 1977 | 7568430 | 72.170 |\n",
       "| 1982 | 7574613 | 73.180 |\n",
       "| 1987 | 7578903 | 74.940 |\n",
       "| 1992 | 7914969 | 76.040 |\n",
       "| 1997 | 8069876 | 77.510 |\n",
       "| 2002 | 8148312 | 78.980 |\n",
       "| 2007 | 8199783 | 79.829 |\n",
       "\n"
      ],
      "text/plain": [
       "   year pop     lifeExp\n",
       "1  1952 6927772 66.800 \n",
       "2  1957 6965860 67.480 \n",
       "3  1962 7129864 69.540 \n",
       "4  1967 7376998 70.140 \n",
       "5  1972 7544201 70.630 \n",
       "6  1977 7568430 72.170 \n",
       "7  1982 7574613 73.180 \n",
       "8  1987 7578903 74.940 \n",
       "9  1992 7914969 76.040 \n",
       "10 1997 8069876 77.510 \n",
       "11 2002 8148312 78.980 \n",
       "12 2007 8199783 79.829 "
      ]
     },
     "metadata": {},
     "output_type": "display_data"
    },
    {
     "data": {
      "text/html": [
       "<table class=\"dataframe\">\n",
       "<caption>A tibble: 12 × 3</caption>\n",
       "<thead>\n",
       "\t<tr><th scope=col>year</th><th scope=col>pop</th><th scope=col>lifeExp</th></tr>\n",
       "\t<tr><th scope=col>&lt;int&gt;</th><th scope=col>&lt;int&gt;</th><th scope=col>&lt;dbl&gt;</th></tr>\n",
       "</thead>\n",
       "<tbody>\n",
       "\t<tr><td>1952</td><td>6927772</td><td>66.800</td></tr>\n",
       "\t<tr><td>1957</td><td>6965860</td><td>67.480</td></tr>\n",
       "\t<tr><td>1962</td><td>7129864</td><td>69.540</td></tr>\n",
       "\t<tr><td>1967</td><td>7376998</td><td>70.140</td></tr>\n",
       "\t<tr><td>1972</td><td>7544201</td><td>70.630</td></tr>\n",
       "\t<tr><td>1977</td><td>7568430</td><td>72.170</td></tr>\n",
       "\t<tr><td>1982</td><td>7574613</td><td>73.180</td></tr>\n",
       "\t<tr><td>1987</td><td>7578903</td><td>74.940</td></tr>\n",
       "\t<tr><td>1992</td><td>7914969</td><td>76.040</td></tr>\n",
       "\t<tr><td>1997</td><td>8069876</td><td>77.510</td></tr>\n",
       "\t<tr><td>2002</td><td>8148312</td><td>78.980</td></tr>\n",
       "\t<tr><td>2007</td><td>8199783</td><td>79.829</td></tr>\n",
       "</tbody>\n",
       "</table>\n"
      ],
      "text/latex": [
       "A tibble: 12 × 3\n",
       "\\begin{tabular}{lll}\n",
       " year & pop & lifeExp\\\\\n",
       " <int> & <int> & <dbl>\\\\\n",
       "\\hline\n",
       "\t 1952 & 6927772 & 66.800\\\\\n",
       "\t 1957 & 6965860 & 67.480\\\\\n",
       "\t 1962 & 7129864 & 69.540\\\\\n",
       "\t 1967 & 7376998 & 70.140\\\\\n",
       "\t 1972 & 7544201 & 70.630\\\\\n",
       "\t 1977 & 7568430 & 72.170\\\\\n",
       "\t 1982 & 7574613 & 73.180\\\\\n",
       "\t 1987 & 7578903 & 74.940\\\\\n",
       "\t 1992 & 7914969 & 76.040\\\\\n",
       "\t 1997 & 8069876 & 77.510\\\\\n",
       "\t 2002 & 8148312 & 78.980\\\\\n",
       "\t 2007 & 8199783 & 79.829\\\\\n",
       "\\end{tabular}\n"
      ],
      "text/markdown": [
       "\n",
       "A tibble: 12 × 3\n",
       "\n",
       "| year &lt;int&gt; | pop &lt;int&gt; | lifeExp &lt;dbl&gt; |\n",
       "|---|---|---|\n",
       "| 1952 | 6927772 | 66.800 |\n",
       "| 1957 | 6965860 | 67.480 |\n",
       "| 1962 | 7129864 | 69.540 |\n",
       "| 1967 | 7376998 | 70.140 |\n",
       "| 1972 | 7544201 | 70.630 |\n",
       "| 1977 | 7568430 | 72.170 |\n",
       "| 1982 | 7574613 | 73.180 |\n",
       "| 1987 | 7578903 | 74.940 |\n",
       "| 1992 | 7914969 | 76.040 |\n",
       "| 1997 | 8069876 | 77.510 |\n",
       "| 2002 | 8148312 | 78.980 |\n",
       "| 2007 | 8199783 | 79.829 |\n",
       "\n"
      ],
      "text/plain": [
       "   year pop     lifeExp\n",
       "1  1952 6927772 66.800 \n",
       "2  1957 6965860 67.480 \n",
       "3  1962 7129864 69.540 \n",
       "4  1967 7376998 70.140 \n",
       "5  1972 7544201 70.630 \n",
       "6  1977 7568430 72.170 \n",
       "7  1982 7574613 73.180 \n",
       "8  1987 7578903 74.940 \n",
       "9  1992 7914969 76.040 \n",
       "10 1997 8069876 77.510 \n",
       "11 2002 8148312 78.980 \n",
       "12 2007 8199783 79.829 "
      ]
     },
     "metadata": {},
     "output_type": "display_data"
    }
   ],
   "source": [
    "# compare dplyr syntax with base R call\n",
    "gapminder[gapminder$country == \"Austria\", c(\"year\", \"pop\", \"lifeExp\")]\n",
    "\n",
    "gapminder %>% \n",
    "filter(country == \"Austria\") %>%\n",
    "select(year, pop, lifeExp)"
   ]
  },
  {
   "cell_type": "markdown",
   "id": "00d8ab00",
   "metadata": {},
   "source": [
    "You can remove some columns using `minus`(operator) and add few filter conditions:"
   ]
  },
  {
   "cell_type": "code",
   "execution_count": 149,
   "id": "b9162dd9",
   "metadata": {
    "vscode": {
     "languageId": "r"
    }
   },
   "outputs": [
    {
     "data": {
      "text/html": [
       "<table class=\"dataframe\">\n",
       "<caption>A tibble: 2 × 4</caption>\n",
       "<thead>\n",
       "\t<tr><th scope=col>country</th><th scope=col>year</th><th scope=col>lifeExp</th><th scope=col>pop</th></tr>\n",
       "\t<tr><th scope=col>&lt;fct&gt;</th><th scope=col>&lt;int&gt;</th><th scope=col>&lt;dbl&gt;</th><th scope=col>&lt;int&gt;</th></tr>\n",
       "</thead>\n",
       "<tbody>\n",
       "\t<tr><td>Austria</td><td>2002</td><td>78.980</td><td>8148312</td></tr>\n",
       "\t<tr><td>Austria</td><td>2007</td><td>79.829</td><td>8199783</td></tr>\n",
       "</tbody>\n",
       "</table>\n"
      ],
      "text/latex": [
       "A tibble: 2 × 4\n",
       "\\begin{tabular}{llll}\n",
       " country & year & lifeExp & pop\\\\\n",
       " <fct> & <int> & <dbl> & <int>\\\\\n",
       "\\hline\n",
       "\t Austria & 2002 & 78.980 & 8148312\\\\\n",
       "\t Austria & 2007 & 79.829 & 8199783\\\\\n",
       "\\end{tabular}\n"
      ],
      "text/markdown": [
       "\n",
       "A tibble: 2 × 4\n",
       "\n",
       "| country &lt;fct&gt; | year &lt;int&gt; | lifeExp &lt;dbl&gt; | pop &lt;int&gt; |\n",
       "|---|---|---|---|\n",
       "| Austria | 2002 | 78.980 | 8148312 |\n",
       "| Austria | 2007 | 79.829 | 8199783 |\n",
       "\n"
      ],
      "text/plain": [
       "  country year lifeExp pop    \n",
       "1 Austria 2002 78.980  8148312\n",
       "2 Austria 2007 79.829  8199783"
      ]
     },
     "metadata": {},
     "output_type": "display_data"
    }
   ],
   "source": [
    "austria <- gapminder %>% \n",
    "                filter(country == \"Austria\", year > 2000) %>%\n",
    "                select(-continent, -gdpPercap) %>%\n",
    "                head()\n",
    "austria"
   ]
  },
  {
   "cell_type": "markdown",
   "id": "4db5f6ad",
   "metadata": {},
   "source": [
    "You can insert different conditions about columns you need to `select`. "
   ]
  },
  {
   "cell_type": "code",
   "execution_count": 150,
   "id": "fc64c708",
   "metadata": {
    "vscode": {
     "languageId": "r"
    }
   },
   "outputs": [
    {
     "data": {
      "text/html": [
       "<table class=\"dataframe\">\n",
       "<caption>A tibble: 5 × 2</caption>\n",
       "<thead>\n",
       "\t<tr><th scope=col>country</th><th scope=col>continent</th></tr>\n",
       "\t<tr><th scope=col>&lt;fct&gt;</th><th scope=col>&lt;fct&gt;</th></tr>\n",
       "</thead>\n",
       "<tbody>\n",
       "\t<tr><td>Afghanistan</td><td>Asia</td></tr>\n",
       "\t<tr><td>Afghanistan</td><td>Asia</td></tr>\n",
       "\t<tr><td>Afghanistan</td><td>Asia</td></tr>\n",
       "\t<tr><td>Afghanistan</td><td>Asia</td></tr>\n",
       "\t<tr><td>Afghanistan</td><td>Asia</td></tr>\n",
       "</tbody>\n",
       "</table>\n"
      ],
      "text/latex": [
       "A tibble: 5 × 2\n",
       "\\begin{tabular}{ll}\n",
       " country & continent\\\\\n",
       " <fct> & <fct>\\\\\n",
       "\\hline\n",
       "\t Afghanistan & Asia\\\\\n",
       "\t Afghanistan & Asia\\\\\n",
       "\t Afghanistan & Asia\\\\\n",
       "\t Afghanistan & Asia\\\\\n",
       "\t Afghanistan & Asia\\\\\n",
       "\\end{tabular}\n"
      ],
      "text/markdown": [
       "\n",
       "A tibble: 5 × 2\n",
       "\n",
       "| country &lt;fct&gt; | continent &lt;fct&gt; |\n",
       "|---|---|\n",
       "| Afghanistan | Asia |\n",
       "| Afghanistan | Asia |\n",
       "| Afghanistan | Asia |\n",
       "| Afghanistan | Asia |\n",
       "| Afghanistan | Asia |\n",
       "\n"
      ],
      "text/plain": [
       "  country     continent\n",
       "1 Afghanistan Asia     \n",
       "2 Afghanistan Asia     \n",
       "3 Afghanistan Asia     \n",
       "4 Afghanistan Asia     \n",
       "5 Afghanistan Asia     "
      ]
     },
     "metadata": {},
     "output_type": "display_data"
    }
   ],
   "source": [
    "gapminder %>%\n",
    "    select(!where(is.numeric)) %>%  # its 1704 records, because of repeating some records\n",
    "    slice(1:5)"
   ]
  },
  {
   "cell_type": "markdown",
   "id": "c821ef8c",
   "metadata": {},
   "source": [
    "Let's output all unique pairs `continent -> country` with `distinct()` function:"
   ]
  },
  {
   "cell_type": "code",
   "execution_count": 151,
   "id": "3ca3faed",
   "metadata": {
    "vscode": {
     "languageId": "r"
    }
   },
   "outputs": [
    {
     "data": {
      "text/html": [
       "<table class=\"dataframe\">\n",
       "<caption>A tibble: 142 × 1</caption>\n",
       "<thead>\n",
       "\t<tr><th scope=col>country</th></tr>\n",
       "\t<tr><th scope=col>&lt;fct&gt;</th></tr>\n",
       "</thead>\n",
       "<tbody>\n",
       "\t<tr><td>Afghanistan             </td></tr>\n",
       "\t<tr><td>Albania                 </td></tr>\n",
       "\t<tr><td>Algeria                 </td></tr>\n",
       "\t<tr><td>Angola                  </td></tr>\n",
       "\t<tr><td>Argentina               </td></tr>\n",
       "\t<tr><td>Australia               </td></tr>\n",
       "\t<tr><td>Austria                 </td></tr>\n",
       "\t<tr><td>Bahrain                 </td></tr>\n",
       "\t<tr><td>Bangladesh              </td></tr>\n",
       "\t<tr><td>Belgium                 </td></tr>\n",
       "\t<tr><td>Benin                   </td></tr>\n",
       "\t<tr><td>Bolivia                 </td></tr>\n",
       "\t<tr><td>Bosnia and Herzegovina  </td></tr>\n",
       "\t<tr><td>Botswana                </td></tr>\n",
       "\t<tr><td>Brazil                  </td></tr>\n",
       "\t<tr><td>Bulgaria                </td></tr>\n",
       "\t<tr><td>Burkina Faso            </td></tr>\n",
       "\t<tr><td>Burundi                 </td></tr>\n",
       "\t<tr><td>Cambodia                </td></tr>\n",
       "\t<tr><td>Cameroon                </td></tr>\n",
       "\t<tr><td>Canada                  </td></tr>\n",
       "\t<tr><td>Central African Republic</td></tr>\n",
       "\t<tr><td>Chad                    </td></tr>\n",
       "\t<tr><td>Chile                   </td></tr>\n",
       "\t<tr><td>China                   </td></tr>\n",
       "\t<tr><td>Colombia                </td></tr>\n",
       "\t<tr><td>Comoros                 </td></tr>\n",
       "\t<tr><td>Congo, Dem. Rep.        </td></tr>\n",
       "\t<tr><td>Congo, Rep.             </td></tr>\n",
       "\t<tr><td>Costa Rica              </td></tr>\n",
       "\t<tr><td>...</td></tr>\n",
       "\t<tr><td>Sierra Leone       </td></tr>\n",
       "\t<tr><td>Singapore          </td></tr>\n",
       "\t<tr><td>Slovak Republic    </td></tr>\n",
       "\t<tr><td>Slovenia           </td></tr>\n",
       "\t<tr><td>Somalia            </td></tr>\n",
       "\t<tr><td>South Africa       </td></tr>\n",
       "\t<tr><td>Spain              </td></tr>\n",
       "\t<tr><td>Sri Lanka          </td></tr>\n",
       "\t<tr><td>Sudan              </td></tr>\n",
       "\t<tr><td>Swaziland          </td></tr>\n",
       "\t<tr><td>Sweden             </td></tr>\n",
       "\t<tr><td>Switzerland        </td></tr>\n",
       "\t<tr><td>Syria              </td></tr>\n",
       "\t<tr><td>Taiwan             </td></tr>\n",
       "\t<tr><td>Tanzania           </td></tr>\n",
       "\t<tr><td>Thailand           </td></tr>\n",
       "\t<tr><td>Togo               </td></tr>\n",
       "\t<tr><td>Trinidad and Tobago</td></tr>\n",
       "\t<tr><td>Tunisia            </td></tr>\n",
       "\t<tr><td>Turkey             </td></tr>\n",
       "\t<tr><td>Uganda             </td></tr>\n",
       "\t<tr><td>United Kingdom     </td></tr>\n",
       "\t<tr><td>United States      </td></tr>\n",
       "\t<tr><td>Uruguay            </td></tr>\n",
       "\t<tr><td>Venezuela          </td></tr>\n",
       "\t<tr><td>Vietnam            </td></tr>\n",
       "\t<tr><td>West Bank and Gaza </td></tr>\n",
       "\t<tr><td>Yemen, Rep.        </td></tr>\n",
       "\t<tr><td>Zambia             </td></tr>\n",
       "\t<tr><td>Zimbabwe           </td></tr>\n",
       "</tbody>\n",
       "</table>\n"
      ],
      "text/latex": [
       "A tibble: 142 × 1\n",
       "\\begin{tabular}{l}\n",
       " country\\\\\n",
       " <fct>\\\\\n",
       "\\hline\n",
       "\t Afghanistan             \\\\\n",
       "\t Albania                 \\\\\n",
       "\t Algeria                 \\\\\n",
       "\t Angola                  \\\\\n",
       "\t Argentina               \\\\\n",
       "\t Australia               \\\\\n",
       "\t Austria                 \\\\\n",
       "\t Bahrain                 \\\\\n",
       "\t Bangladesh              \\\\\n",
       "\t Belgium                 \\\\\n",
       "\t Benin                   \\\\\n",
       "\t Bolivia                 \\\\\n",
       "\t Bosnia and Herzegovina  \\\\\n",
       "\t Botswana                \\\\\n",
       "\t Brazil                  \\\\\n",
       "\t Bulgaria                \\\\\n",
       "\t Burkina Faso            \\\\\n",
       "\t Burundi                 \\\\\n",
       "\t Cambodia                \\\\\n",
       "\t Cameroon                \\\\\n",
       "\t Canada                  \\\\\n",
       "\t Central African Republic\\\\\n",
       "\t Chad                    \\\\\n",
       "\t Chile                   \\\\\n",
       "\t China                   \\\\\n",
       "\t Colombia                \\\\\n",
       "\t Comoros                 \\\\\n",
       "\t Congo, Dem. Rep.        \\\\\n",
       "\t Congo, Rep.             \\\\\n",
       "\t Costa Rica              \\\\\n",
       "\t ...\\\\\n",
       "\t Sierra Leone       \\\\\n",
       "\t Singapore          \\\\\n",
       "\t Slovak Republic    \\\\\n",
       "\t Slovenia           \\\\\n",
       "\t Somalia            \\\\\n",
       "\t South Africa       \\\\\n",
       "\t Spain              \\\\\n",
       "\t Sri Lanka          \\\\\n",
       "\t Sudan              \\\\\n",
       "\t Swaziland          \\\\\n",
       "\t Sweden             \\\\\n",
       "\t Switzerland        \\\\\n",
       "\t Syria              \\\\\n",
       "\t Taiwan             \\\\\n",
       "\t Tanzania           \\\\\n",
       "\t Thailand           \\\\\n",
       "\t Togo               \\\\\n",
       "\t Trinidad and Tobago\\\\\n",
       "\t Tunisia            \\\\\n",
       "\t Turkey             \\\\\n",
       "\t Uganda             \\\\\n",
       "\t United Kingdom     \\\\\n",
       "\t United States      \\\\\n",
       "\t Uruguay            \\\\\n",
       "\t Venezuela          \\\\\n",
       "\t Vietnam            \\\\\n",
       "\t West Bank and Gaza \\\\\n",
       "\t Yemen, Rep.        \\\\\n",
       "\t Zambia             \\\\\n",
       "\t Zimbabwe           \\\\\n",
       "\\end{tabular}\n"
      ],
      "text/markdown": [
       "\n",
       "A tibble: 142 × 1\n",
       "\n",
       "| country &lt;fct&gt; |\n",
       "|---|\n",
       "| Afghanistan              |\n",
       "| Albania                  |\n",
       "| Algeria                  |\n",
       "| Angola                   |\n",
       "| Argentina                |\n",
       "| Australia                |\n",
       "| Austria                  |\n",
       "| Bahrain                  |\n",
       "| Bangladesh               |\n",
       "| Belgium                  |\n",
       "| Benin                    |\n",
       "| Bolivia                  |\n",
       "| Bosnia and Herzegovina   |\n",
       "| Botswana                 |\n",
       "| Brazil                   |\n",
       "| Bulgaria                 |\n",
       "| Burkina Faso             |\n",
       "| Burundi                  |\n",
       "| Cambodia                 |\n",
       "| Cameroon                 |\n",
       "| Canada                   |\n",
       "| Central African Republic |\n",
       "| Chad                     |\n",
       "| Chile                    |\n",
       "| China                    |\n",
       "| Colombia                 |\n",
       "| Comoros                  |\n",
       "| Congo, Dem. Rep.         |\n",
       "| Congo, Rep.              |\n",
       "| Costa Rica               |\n",
       "| ... |\n",
       "| Sierra Leone        |\n",
       "| Singapore           |\n",
       "| Slovak Republic     |\n",
       "| Slovenia            |\n",
       "| Somalia             |\n",
       "| South Africa        |\n",
       "| Spain               |\n",
       "| Sri Lanka           |\n",
       "| Sudan               |\n",
       "| Swaziland           |\n",
       "| Sweden              |\n",
       "| Switzerland         |\n",
       "| Syria               |\n",
       "| Taiwan              |\n",
       "| Tanzania            |\n",
       "| Thailand            |\n",
       "| Togo                |\n",
       "| Trinidad and Tobago |\n",
       "| Tunisia             |\n",
       "| Turkey              |\n",
       "| Uganda              |\n",
       "| United Kingdom      |\n",
       "| United States       |\n",
       "| Uruguay             |\n",
       "| Venezuela           |\n",
       "| Vietnam             |\n",
       "| West Bank and Gaza  |\n",
       "| Yemen, Rep.         |\n",
       "| Zambia              |\n",
       "| Zimbabwe            |\n",
       "\n"
      ],
      "text/plain": [
       "    country                 \n",
       "1   Afghanistan             \n",
       "2   Albania                 \n",
       "3   Algeria                 \n",
       "4   Angola                  \n",
       "5   Argentina               \n",
       "6   Australia               \n",
       "7   Austria                 \n",
       "8   Bahrain                 \n",
       "9   Bangladesh              \n",
       "10  Belgium                 \n",
       "11  Benin                   \n",
       "12  Bolivia                 \n",
       "13  Bosnia and Herzegovina  \n",
       "14  Botswana                \n",
       "15  Brazil                  \n",
       "16  Bulgaria                \n",
       "17  Burkina Faso            \n",
       "18  Burundi                 \n",
       "19  Cambodia                \n",
       "20  Cameroon                \n",
       "21  Canada                  \n",
       "22  Central African Republic\n",
       "23  Chad                    \n",
       "24  Chile                   \n",
       "25  China                   \n",
       "26  Colombia                \n",
       "27  Comoros                 \n",
       "28  Congo, Dem. Rep.        \n",
       "29  Congo, Rep.             \n",
       "30  Costa Rica              \n",
       "... ...                     \n",
       "113 Sierra Leone            \n",
       "114 Singapore               \n",
       "115 Slovak Republic         \n",
       "116 Slovenia                \n",
       "117 Somalia                 \n",
       "118 South Africa            \n",
       "119 Spain                   \n",
       "120 Sri Lanka               \n",
       "121 Sudan                   \n",
       "122 Swaziland               \n",
       "123 Sweden                  \n",
       "124 Switzerland             \n",
       "125 Syria                   \n",
       "126 Taiwan                  \n",
       "127 Tanzania                \n",
       "128 Thailand                \n",
       "129 Togo                    \n",
       "130 Trinidad and Tobago     \n",
       "131 Tunisia                 \n",
       "132 Turkey                  \n",
       "133 Uganda                  \n",
       "134 United Kingdom          \n",
       "135 United States           \n",
       "136 Uruguay                 \n",
       "137 Venezuela               \n",
       "138 Vietnam                 \n",
       "139 West Bank and Gaza      \n",
       "140 Yemen, Rep.             \n",
       "141 Zambia                  \n",
       "142 Zimbabwe                "
      ]
     },
     "metadata": {},
     "output_type": "display_data"
    }
   ],
   "source": [
    "gapminder %>%\n",
    "    select(country) %>%\n",
    "    distinct() # its 142 records now"
   ]
  },
  {
   "cell_type": "markdown",
   "id": "27215fc5",
   "metadata": {},
   "source": [
    "---"
   ]
  },
  {
   "cell_type": "markdown",
   "id": "701d9111",
   "metadata": {},
   "source": [
    "### Selecting random $N$ rows"
   ]
  },
  {
   "cell_type": "markdown",
   "id": "e5c3c313",
   "metadata": {},
   "source": [
    "The `sample_n()` function selects random rows from a data frame"
   ]
  },
  {
   "cell_type": "code",
   "execution_count": 152,
   "id": "8b08e3c5",
   "metadata": {
    "vscode": {
     "languageId": "r"
    }
   },
   "outputs": [
    {
     "data": {
      "text/html": [
       "<table class=\"dataframe\">\n",
       "<caption>A tibble: 5 × 6</caption>\n",
       "<thead>\n",
       "\t<tr><th scope=col>country</th><th scope=col>continent</th><th scope=col>year</th><th scope=col>lifeExp</th><th scope=col>pop</th><th scope=col>gdpPercap</th></tr>\n",
       "\t<tr><th scope=col>&lt;fct&gt;</th><th scope=col>&lt;fct&gt;</th><th scope=col>&lt;int&gt;</th><th scope=col>&lt;dbl&gt;</th><th scope=col>&lt;int&gt;</th><th scope=col>&lt;dbl&gt;</th></tr>\n",
       "</thead>\n",
       "<tbody>\n",
       "\t<tr><td>Norway          </td><td>Europe  </td><td>1972</td><td>74.340</td><td>3933004</td><td>18965.0555</td></tr>\n",
       "\t<tr><td>Liberia         </td><td>Africa  </td><td>1977</td><td>43.764</td><td>1703617</td><td>  640.3224</td></tr>\n",
       "\t<tr><td>Jamaica         </td><td>Americas</td><td>1997</td><td>72.262</td><td>2531311</td><td> 7121.9247</td></tr>\n",
       "\t<tr><td>Jamaica         </td><td>Americas</td><td>1957</td><td>62.610</td><td>1535090</td><td> 4756.5258</td></tr>\n",
       "\t<tr><td>Hong Kong, China</td><td>Asia    </td><td>2002</td><td>81.495</td><td>6762476</td><td>30209.0152</td></tr>\n",
       "</tbody>\n",
       "</table>\n"
      ],
      "text/latex": [
       "A tibble: 5 × 6\n",
       "\\begin{tabular}{llllll}\n",
       " country & continent & year & lifeExp & pop & gdpPercap\\\\\n",
       " <fct> & <fct> & <int> & <dbl> & <int> & <dbl>\\\\\n",
       "\\hline\n",
       "\t Norway           & Europe   & 1972 & 74.340 & 3933004 & 18965.0555\\\\\n",
       "\t Liberia          & Africa   & 1977 & 43.764 & 1703617 &   640.3224\\\\\n",
       "\t Jamaica          & Americas & 1997 & 72.262 & 2531311 &  7121.9247\\\\\n",
       "\t Jamaica          & Americas & 1957 & 62.610 & 1535090 &  4756.5258\\\\\n",
       "\t Hong Kong, China & Asia     & 2002 & 81.495 & 6762476 & 30209.0152\\\\\n",
       "\\end{tabular}\n"
      ],
      "text/markdown": [
       "\n",
       "A tibble: 5 × 6\n",
       "\n",
       "| country &lt;fct&gt; | continent &lt;fct&gt; | year &lt;int&gt; | lifeExp &lt;dbl&gt; | pop &lt;int&gt; | gdpPercap &lt;dbl&gt; |\n",
       "|---|---|---|---|---|---|\n",
       "| Norway           | Europe   | 1972 | 74.340 | 3933004 | 18965.0555 |\n",
       "| Liberia          | Africa   | 1977 | 43.764 | 1703617 |   640.3224 |\n",
       "| Jamaica          | Americas | 1997 | 72.262 | 2531311 |  7121.9247 |\n",
       "| Jamaica          | Americas | 1957 | 62.610 | 1535090 |  4756.5258 |\n",
       "| Hong Kong, China | Asia     | 2002 | 81.495 | 6762476 | 30209.0152 |\n",
       "\n"
      ],
      "text/plain": [
       "  country          continent year lifeExp pop     gdpPercap \n",
       "1 Norway           Europe    1972 74.340  3933004 18965.0555\n",
       "2 Liberia          Africa    1977 43.764  1703617   640.3224\n",
       "3 Jamaica          Americas  1997 72.262  2531311  7121.9247\n",
       "4 Jamaica          Americas  1957 62.610  1535090  4756.5258\n",
       "5 Hong Kong, China Asia      2002 81.495  6762476 30209.0152"
      ]
     },
     "metadata": {},
     "output_type": "display_data"
    }
   ],
   "source": [
    "gapminder %>% sample_n(5)"
   ]
  },
  {
   "cell_type": "markdown",
   "id": "f956316e",
   "metadata": {},
   "source": [
    "If you want make `pseudo-random generation` reprodusable use `set.seed()`. Seed is start point of random generation. Different seeds give different output."
   ]
  },
  {
   "cell_type": "code",
   "execution_count": 153,
   "id": "a99842ab",
   "metadata": {
    "vscode": {
     "languageId": "r"
    }
   },
   "outputs": [],
   "source": [
    "set.seed(2021) # example, seed = 2021"
   ]
  },
  {
   "cell_type": "markdown",
   "id": "7808b67f",
   "metadata": {},
   "source": [
    "The `sample_frac()` function selects random fraction rows from a data frame.\n",
    "Let's select $1\\%$ of data"
   ]
  },
  {
   "cell_type": "code",
   "execution_count": 154,
   "id": "7cc90832",
   "metadata": {
    "vscode": {
     "languageId": "r"
    }
   },
   "outputs": [
    {
     "data": {
      "text/html": [
       "<table class=\"dataframe\">\n",
       "<caption>A tibble: 170 × 6</caption>\n",
       "<thead>\n",
       "\t<tr><th scope=col>country</th><th scope=col>continent</th><th scope=col>year</th><th scope=col>lifeExp</th><th scope=col>pop</th><th scope=col>gdpPercap</th></tr>\n",
       "\t<tr><th scope=col>&lt;fct&gt;</th><th scope=col>&lt;fct&gt;</th><th scope=col>&lt;int&gt;</th><th scope=col>&lt;dbl&gt;</th><th scope=col>&lt;int&gt;</th><th scope=col>&lt;dbl&gt;</th></tr>\n",
       "</thead>\n",
       "<tbody>\n",
       "\t<tr><td>Libya              </td><td>Africa  </td><td>1962</td><td>47.808</td><td> 1441863</td><td> 6757.0308</td></tr>\n",
       "\t<tr><td>Botswana           </td><td>Africa  </td><td>1997</td><td>52.556</td><td> 1536536</td><td> 8647.1423</td></tr>\n",
       "\t<tr><td>Swaziland          </td><td>Africa  </td><td>1957</td><td>43.424</td><td>  326741</td><td> 1244.7084</td></tr>\n",
       "\t<tr><td>Dominican Republic </td><td>Americas</td><td>1997</td><td>69.957</td><td> 7992357</td><td> 3614.1013</td></tr>\n",
       "\t<tr><td>Iraq               </td><td>Asia    </td><td>2002</td><td>57.046</td><td>24001816</td><td> 4390.7173</td></tr>\n",
       "\t<tr><td>Libya              </td><td>Africa  </td><td>1987</td><td>66.234</td><td> 3799845</td><td>11770.5898</td></tr>\n",
       "\t<tr><td>Montenegro         </td><td>Europe  </td><td>1967</td><td>67.178</td><td>  501035</td><td> 5907.8509</td></tr>\n",
       "\t<tr><td>New Zealand        </td><td>Oceania </td><td>1957</td><td>70.260</td><td> 2229407</td><td>12247.3953</td></tr>\n",
       "\t<tr><td>Bulgaria           </td><td>Europe  </td><td>2007</td><td>73.005</td><td> 7322858</td><td>10680.7928</td></tr>\n",
       "\t<tr><td>Malawi             </td><td>Africa  </td><td>1997</td><td>47.495</td><td>10419991</td><td>  692.2758</td></tr>\n",
       "\t<tr><td>Venezuela          </td><td>Americas</td><td>1977</td><td>67.456</td><td>13503563</td><td>13143.9510</td></tr>\n",
       "\t<tr><td>Guinea             </td><td>Africa  </td><td>1997</td><td>51.455</td><td> 8048834</td><td>  869.4498</td></tr>\n",
       "\t<tr><td>Congo, Dem. Rep.   </td><td>Africa  </td><td>1952</td><td>39.143</td><td>14100005</td><td>  780.5423</td></tr>\n",
       "\t<tr><td>Eritrea            </td><td>Africa  </td><td>1962</td><td>40.158</td><td> 1666618</td><td>  380.9958</td></tr>\n",
       "\t<tr><td>Bangladesh         </td><td>Asia    </td><td>1982</td><td>50.009</td><td>93074406</td><td>  676.9819</td></tr>\n",
       "\t<tr><td>Cote d'Ivoire      </td><td>Africa  </td><td>1952</td><td>40.477</td><td> 2977019</td><td> 1388.5947</td></tr>\n",
       "\t<tr><td>Trinidad and Tobago</td><td>Americas</td><td>2002</td><td>68.976</td><td> 1101832</td><td>11460.6002</td></tr>\n",
       "\t<tr><td>Sierra Leone       </td><td>Africa  </td><td>2007</td><td>42.568</td><td> 6144562</td><td>  862.5408</td></tr>\n",
       "\t<tr><td>Malaysia           </td><td>Asia    </td><td>2002</td><td>73.044</td><td>22662365</td><td>10206.9779</td></tr>\n",
       "\t<tr><td>Mali               </td><td>Africa  </td><td>1987</td><td>46.364</td><td> 7634008</td><td>  684.1716</td></tr>\n",
       "\t<tr><td>Pakistan           </td><td>Asia    </td><td>1977</td><td>54.043</td><td>78152686</td><td> 1175.9212</td></tr>\n",
       "\t<tr><td>Norway             </td><td>Europe  </td><td>1982</td><td>75.970</td><td> 4114787</td><td>26298.6353</td></tr>\n",
       "\t<tr><td>Peru               </td><td>Americas</td><td>2007</td><td>71.421</td><td>28674757</td><td> 7408.9056</td></tr>\n",
       "\t<tr><td>Haiti              </td><td>Americas</td><td>1952</td><td>37.579</td><td> 3201488</td><td> 1840.3669</td></tr>\n",
       "\t<tr><td>Cuba               </td><td>Americas</td><td>1962</td><td>65.246</td><td> 7254373</td><td> 5180.7559</td></tr>\n",
       "\t<tr><td>Costa Rica         </td><td>Americas</td><td>2007</td><td>78.782</td><td> 4133884</td><td> 9645.0614</td></tr>\n",
       "\t<tr><td>France             </td><td>Europe  </td><td>1997</td><td>78.640</td><td>58623428</td><td>25889.7849</td></tr>\n",
       "\t<tr><td>Botswana           </td><td>Africa  </td><td>1987</td><td>63.622</td><td> 1151184</td><td> 6205.8839</td></tr>\n",
       "\t<tr><td>Bangladesh         </td><td>Asia    </td><td>1972</td><td>45.252</td><td>70759295</td><td>  630.2336</td></tr>\n",
       "\t<tr><td>Congo, Rep.        </td><td>Africa  </td><td>1977</td><td>55.625</td><td> 1536769</td><td> 3259.1790</td></tr>\n",
       "\t<tr><td>...</td><td>...</td><td>...</td><td>...</td><td>...</td><td>...</td></tr>\n",
       "\t<tr><td>Mozambique </td><td>Africa  </td><td>1972</td><td>40.328</td><td>  9809596</td><td>  724.9178</td></tr>\n",
       "\t<tr><td>Nicaragua  </td><td>Americas</td><td>1972</td><td>55.151</td><td>  2182908</td><td> 4688.5933</td></tr>\n",
       "\t<tr><td>Turkey     </td><td>Europe  </td><td>1972</td><td>57.005</td><td> 37492953</td><td> 3450.6964</td></tr>\n",
       "\t<tr><td>Gabon      </td><td>Africa  </td><td>2002</td><td>56.761</td><td>  1299304</td><td>12521.7139</td></tr>\n",
       "\t<tr><td>Ecuador    </td><td>Americas</td><td>1957</td><td>51.356</td><td>  4058385</td><td> 3780.5467</td></tr>\n",
       "\t<tr><td>Honduras   </td><td>Americas</td><td>1972</td><td>53.884</td><td>  2965146</td><td> 2529.8423</td></tr>\n",
       "\t<tr><td>Paraguay   </td><td>Americas</td><td>1952</td><td>62.649</td><td>  1555876</td><td> 1952.3087</td></tr>\n",
       "\t<tr><td>Guinea     </td><td>Africa  </td><td>2007</td><td>56.007</td><td>  9947814</td><td>  942.6542</td></tr>\n",
       "\t<tr><td>Switzerland</td><td>Europe  </td><td>1977</td><td>75.390</td><td>  6316424</td><td>26982.2905</td></tr>\n",
       "\t<tr><td>Honduras   </td><td>Americas</td><td>1962</td><td>48.041</td><td>  2090162</td><td> 2291.1568</td></tr>\n",
       "\t<tr><td>Thailand   </td><td>Asia    </td><td>1952</td><td>50.848</td><td> 21289402</td><td>  757.7974</td></tr>\n",
       "\t<tr><td>Portugal   </td><td>Europe  </td><td>1957</td><td>61.510</td><td>  8817650</td><td> 3774.5717</td></tr>\n",
       "\t<tr><td>Cuba       </td><td>Americas</td><td>1987</td><td>74.174</td><td> 10239839</td><td> 7532.9248</td></tr>\n",
       "\t<tr><td>Brazil     </td><td>Americas</td><td>1997</td><td>69.388</td><td>168546719</td><td> 7957.9808</td></tr>\n",
       "\t<tr><td>Madagascar </td><td>Africa  </td><td>1962</td><td>40.848</td><td>  5703324</td><td> 1643.3871</td></tr>\n",
       "\t<tr><td>Mauritius  </td><td>Africa  </td><td>1982</td><td>66.711</td><td>   992040</td><td> 3688.0377</td></tr>\n",
       "\t<tr><td>Ghana      </td><td>Africa  </td><td>1982</td><td>53.744</td><td> 11400338</td><td>  876.0326</td></tr>\n",
       "\t<tr><td>Congo, Rep.</td><td>Africa  </td><td>1987</td><td>57.470</td><td>  2064095</td><td> 4201.1949</td></tr>\n",
       "\t<tr><td>Haiti      </td><td>Americas</td><td>1977</td><td>49.923</td><td>  4908554</td><td> 1874.2989</td></tr>\n",
       "\t<tr><td>Portugal   </td><td>Europe  </td><td>1952</td><td>59.820</td><td>  8526050</td><td> 3068.3199</td></tr>\n",
       "\t<tr><td>Angola     </td><td>Africa  </td><td>1982</td><td>39.942</td><td>  7016384</td><td> 2756.9537</td></tr>\n",
       "\t<tr><td>Swaziland  </td><td>Africa  </td><td>1997</td><td>54.289</td><td>  1054486</td><td> 3876.7685</td></tr>\n",
       "\t<tr><td>Norway     </td><td>Europe  </td><td>1992</td><td>77.320</td><td>  4286357</td><td>33965.6611</td></tr>\n",
       "\t<tr><td>Austria    </td><td>Europe  </td><td>1972</td><td>70.630</td><td>  7544201</td><td>16661.6256</td></tr>\n",
       "\t<tr><td>Croatia    </td><td>Europe  </td><td>1957</td><td>64.770</td><td>  3991242</td><td> 4338.2316</td></tr>\n",
       "\t<tr><td>New Zealand</td><td>Oceania </td><td>1952</td><td>69.390</td><td>  1994794</td><td>10556.5757</td></tr>\n",
       "\t<tr><td>Angola     </td><td>Africa  </td><td>2007</td><td>42.731</td><td> 12420476</td><td> 4797.2313</td></tr>\n",
       "\t<tr><td>Sudan      </td><td>Africa  </td><td>2007</td><td>58.556</td><td> 42292929</td><td> 2602.3950</td></tr>\n",
       "\t<tr><td>Poland     </td><td>Europe  </td><td>1962</td><td>67.640</td><td> 30329617</td><td> 5338.7521</td></tr>\n",
       "\t<tr><td>Japan      </td><td>Asia    </td><td>1972</td><td>73.420</td><td>107188273</td><td>14778.7864</td></tr>\n",
       "</tbody>\n",
       "</table>\n"
      ],
      "text/latex": [
       "A tibble: 170 × 6\n",
       "\\begin{tabular}{llllll}\n",
       " country & continent & year & lifeExp & pop & gdpPercap\\\\\n",
       " <fct> & <fct> & <int> & <dbl> & <int> & <dbl>\\\\\n",
       "\\hline\n",
       "\t Libya               & Africa   & 1962 & 47.808 &  1441863 &  6757.0308\\\\\n",
       "\t Botswana            & Africa   & 1997 & 52.556 &  1536536 &  8647.1423\\\\\n",
       "\t Swaziland           & Africa   & 1957 & 43.424 &   326741 &  1244.7084\\\\\n",
       "\t Dominican Republic  & Americas & 1997 & 69.957 &  7992357 &  3614.1013\\\\\n",
       "\t Iraq                & Asia     & 2002 & 57.046 & 24001816 &  4390.7173\\\\\n",
       "\t Libya               & Africa   & 1987 & 66.234 &  3799845 & 11770.5898\\\\\n",
       "\t Montenegro          & Europe   & 1967 & 67.178 &   501035 &  5907.8509\\\\\n",
       "\t New Zealand         & Oceania  & 1957 & 70.260 &  2229407 & 12247.3953\\\\\n",
       "\t Bulgaria            & Europe   & 2007 & 73.005 &  7322858 & 10680.7928\\\\\n",
       "\t Malawi              & Africa   & 1997 & 47.495 & 10419991 &   692.2758\\\\\n",
       "\t Venezuela           & Americas & 1977 & 67.456 & 13503563 & 13143.9510\\\\\n",
       "\t Guinea              & Africa   & 1997 & 51.455 &  8048834 &   869.4498\\\\\n",
       "\t Congo, Dem. Rep.    & Africa   & 1952 & 39.143 & 14100005 &   780.5423\\\\\n",
       "\t Eritrea             & Africa   & 1962 & 40.158 &  1666618 &   380.9958\\\\\n",
       "\t Bangladesh          & Asia     & 1982 & 50.009 & 93074406 &   676.9819\\\\\n",
       "\t Cote d'Ivoire       & Africa   & 1952 & 40.477 &  2977019 &  1388.5947\\\\\n",
       "\t Trinidad and Tobago & Americas & 2002 & 68.976 &  1101832 & 11460.6002\\\\\n",
       "\t Sierra Leone        & Africa   & 2007 & 42.568 &  6144562 &   862.5408\\\\\n",
       "\t Malaysia            & Asia     & 2002 & 73.044 & 22662365 & 10206.9779\\\\\n",
       "\t Mali                & Africa   & 1987 & 46.364 &  7634008 &   684.1716\\\\\n",
       "\t Pakistan            & Asia     & 1977 & 54.043 & 78152686 &  1175.9212\\\\\n",
       "\t Norway              & Europe   & 1982 & 75.970 &  4114787 & 26298.6353\\\\\n",
       "\t Peru                & Americas & 2007 & 71.421 & 28674757 &  7408.9056\\\\\n",
       "\t Haiti               & Americas & 1952 & 37.579 &  3201488 &  1840.3669\\\\\n",
       "\t Cuba                & Americas & 1962 & 65.246 &  7254373 &  5180.7559\\\\\n",
       "\t Costa Rica          & Americas & 2007 & 78.782 &  4133884 &  9645.0614\\\\\n",
       "\t France              & Europe   & 1997 & 78.640 & 58623428 & 25889.7849\\\\\n",
       "\t Botswana            & Africa   & 1987 & 63.622 &  1151184 &  6205.8839\\\\\n",
       "\t Bangladesh          & Asia     & 1972 & 45.252 & 70759295 &   630.2336\\\\\n",
       "\t Congo, Rep.         & Africa   & 1977 & 55.625 &  1536769 &  3259.1790\\\\\n",
       "\t ... & ... & ... & ... & ... & ...\\\\\n",
       "\t Mozambique  & Africa   & 1972 & 40.328 &   9809596 &   724.9178\\\\\n",
       "\t Nicaragua   & Americas & 1972 & 55.151 &   2182908 &  4688.5933\\\\\n",
       "\t Turkey      & Europe   & 1972 & 57.005 &  37492953 &  3450.6964\\\\\n",
       "\t Gabon       & Africa   & 2002 & 56.761 &   1299304 & 12521.7139\\\\\n",
       "\t Ecuador     & Americas & 1957 & 51.356 &   4058385 &  3780.5467\\\\\n",
       "\t Honduras    & Americas & 1972 & 53.884 &   2965146 &  2529.8423\\\\\n",
       "\t Paraguay    & Americas & 1952 & 62.649 &   1555876 &  1952.3087\\\\\n",
       "\t Guinea      & Africa   & 2007 & 56.007 &   9947814 &   942.6542\\\\\n",
       "\t Switzerland & Europe   & 1977 & 75.390 &   6316424 & 26982.2905\\\\\n",
       "\t Honduras    & Americas & 1962 & 48.041 &   2090162 &  2291.1568\\\\\n",
       "\t Thailand    & Asia     & 1952 & 50.848 &  21289402 &   757.7974\\\\\n",
       "\t Portugal    & Europe   & 1957 & 61.510 &   8817650 &  3774.5717\\\\\n",
       "\t Cuba        & Americas & 1987 & 74.174 &  10239839 &  7532.9248\\\\\n",
       "\t Brazil      & Americas & 1997 & 69.388 & 168546719 &  7957.9808\\\\\n",
       "\t Madagascar  & Africa   & 1962 & 40.848 &   5703324 &  1643.3871\\\\\n",
       "\t Mauritius   & Africa   & 1982 & 66.711 &    992040 &  3688.0377\\\\\n",
       "\t Ghana       & Africa   & 1982 & 53.744 &  11400338 &   876.0326\\\\\n",
       "\t Congo, Rep. & Africa   & 1987 & 57.470 &   2064095 &  4201.1949\\\\\n",
       "\t Haiti       & Americas & 1977 & 49.923 &   4908554 &  1874.2989\\\\\n",
       "\t Portugal    & Europe   & 1952 & 59.820 &   8526050 &  3068.3199\\\\\n",
       "\t Angola      & Africa   & 1982 & 39.942 &   7016384 &  2756.9537\\\\\n",
       "\t Swaziland   & Africa   & 1997 & 54.289 &   1054486 &  3876.7685\\\\\n",
       "\t Norway      & Europe   & 1992 & 77.320 &   4286357 & 33965.6611\\\\\n",
       "\t Austria     & Europe   & 1972 & 70.630 &   7544201 & 16661.6256\\\\\n",
       "\t Croatia     & Europe   & 1957 & 64.770 &   3991242 &  4338.2316\\\\\n",
       "\t New Zealand & Oceania  & 1952 & 69.390 &   1994794 & 10556.5757\\\\\n",
       "\t Angola      & Africa   & 2007 & 42.731 &  12420476 &  4797.2313\\\\\n",
       "\t Sudan       & Africa   & 2007 & 58.556 &  42292929 &  2602.3950\\\\\n",
       "\t Poland      & Europe   & 1962 & 67.640 &  30329617 &  5338.7521\\\\\n",
       "\t Japan       & Asia     & 1972 & 73.420 & 107188273 & 14778.7864\\\\\n",
       "\\end{tabular}\n"
      ],
      "text/markdown": [
       "\n",
       "A tibble: 170 × 6\n",
       "\n",
       "| country &lt;fct&gt; | continent &lt;fct&gt; | year &lt;int&gt; | lifeExp &lt;dbl&gt; | pop &lt;int&gt; | gdpPercap &lt;dbl&gt; |\n",
       "|---|---|---|---|---|---|\n",
       "| Libya               | Africa   | 1962 | 47.808 |  1441863 |  6757.0308 |\n",
       "| Botswana            | Africa   | 1997 | 52.556 |  1536536 |  8647.1423 |\n",
       "| Swaziland           | Africa   | 1957 | 43.424 |   326741 |  1244.7084 |\n",
       "| Dominican Republic  | Americas | 1997 | 69.957 |  7992357 |  3614.1013 |\n",
       "| Iraq                | Asia     | 2002 | 57.046 | 24001816 |  4390.7173 |\n",
       "| Libya               | Africa   | 1987 | 66.234 |  3799845 | 11770.5898 |\n",
       "| Montenegro          | Europe   | 1967 | 67.178 |   501035 |  5907.8509 |\n",
       "| New Zealand         | Oceania  | 1957 | 70.260 |  2229407 | 12247.3953 |\n",
       "| Bulgaria            | Europe   | 2007 | 73.005 |  7322858 | 10680.7928 |\n",
       "| Malawi              | Africa   | 1997 | 47.495 | 10419991 |   692.2758 |\n",
       "| Venezuela           | Americas | 1977 | 67.456 | 13503563 | 13143.9510 |\n",
       "| Guinea              | Africa   | 1997 | 51.455 |  8048834 |   869.4498 |\n",
       "| Congo, Dem. Rep.    | Africa   | 1952 | 39.143 | 14100005 |   780.5423 |\n",
       "| Eritrea             | Africa   | 1962 | 40.158 |  1666618 |   380.9958 |\n",
       "| Bangladesh          | Asia     | 1982 | 50.009 | 93074406 |   676.9819 |\n",
       "| Cote d'Ivoire       | Africa   | 1952 | 40.477 |  2977019 |  1388.5947 |\n",
       "| Trinidad and Tobago | Americas | 2002 | 68.976 |  1101832 | 11460.6002 |\n",
       "| Sierra Leone        | Africa   | 2007 | 42.568 |  6144562 |   862.5408 |\n",
       "| Malaysia            | Asia     | 2002 | 73.044 | 22662365 | 10206.9779 |\n",
       "| Mali                | Africa   | 1987 | 46.364 |  7634008 |   684.1716 |\n",
       "| Pakistan            | Asia     | 1977 | 54.043 | 78152686 |  1175.9212 |\n",
       "| Norway              | Europe   | 1982 | 75.970 |  4114787 | 26298.6353 |\n",
       "| Peru                | Americas | 2007 | 71.421 | 28674757 |  7408.9056 |\n",
       "| Haiti               | Americas | 1952 | 37.579 |  3201488 |  1840.3669 |\n",
       "| Cuba                | Americas | 1962 | 65.246 |  7254373 |  5180.7559 |\n",
       "| Costa Rica          | Americas | 2007 | 78.782 |  4133884 |  9645.0614 |\n",
       "| France              | Europe   | 1997 | 78.640 | 58623428 | 25889.7849 |\n",
       "| Botswana            | Africa   | 1987 | 63.622 |  1151184 |  6205.8839 |\n",
       "| Bangladesh          | Asia     | 1972 | 45.252 | 70759295 |   630.2336 |\n",
       "| Congo, Rep.         | Africa   | 1977 | 55.625 |  1536769 |  3259.1790 |\n",
       "| ... | ... | ... | ... | ... | ... |\n",
       "| Mozambique  | Africa   | 1972 | 40.328 |   9809596 |   724.9178 |\n",
       "| Nicaragua   | Americas | 1972 | 55.151 |   2182908 |  4688.5933 |\n",
       "| Turkey      | Europe   | 1972 | 57.005 |  37492953 |  3450.6964 |\n",
       "| Gabon       | Africa   | 2002 | 56.761 |   1299304 | 12521.7139 |\n",
       "| Ecuador     | Americas | 1957 | 51.356 |   4058385 |  3780.5467 |\n",
       "| Honduras    | Americas | 1972 | 53.884 |   2965146 |  2529.8423 |\n",
       "| Paraguay    | Americas | 1952 | 62.649 |   1555876 |  1952.3087 |\n",
       "| Guinea      | Africa   | 2007 | 56.007 |   9947814 |   942.6542 |\n",
       "| Switzerland | Europe   | 1977 | 75.390 |   6316424 | 26982.2905 |\n",
       "| Honduras    | Americas | 1962 | 48.041 |   2090162 |  2291.1568 |\n",
       "| Thailand    | Asia     | 1952 | 50.848 |  21289402 |   757.7974 |\n",
       "| Portugal    | Europe   | 1957 | 61.510 |   8817650 |  3774.5717 |\n",
       "| Cuba        | Americas | 1987 | 74.174 |  10239839 |  7532.9248 |\n",
       "| Brazil      | Americas | 1997 | 69.388 | 168546719 |  7957.9808 |\n",
       "| Madagascar  | Africa   | 1962 | 40.848 |   5703324 |  1643.3871 |\n",
       "| Mauritius   | Africa   | 1982 | 66.711 |    992040 |  3688.0377 |\n",
       "| Ghana       | Africa   | 1982 | 53.744 |  11400338 |   876.0326 |\n",
       "| Congo, Rep. | Africa   | 1987 | 57.470 |   2064095 |  4201.1949 |\n",
       "| Haiti       | Americas | 1977 | 49.923 |   4908554 |  1874.2989 |\n",
       "| Portugal    | Europe   | 1952 | 59.820 |   8526050 |  3068.3199 |\n",
       "| Angola      | Africa   | 1982 | 39.942 |   7016384 |  2756.9537 |\n",
       "| Swaziland   | Africa   | 1997 | 54.289 |   1054486 |  3876.7685 |\n",
       "| Norway      | Europe   | 1992 | 77.320 |   4286357 | 33965.6611 |\n",
       "| Austria     | Europe   | 1972 | 70.630 |   7544201 | 16661.6256 |\n",
       "| Croatia     | Europe   | 1957 | 64.770 |   3991242 |  4338.2316 |\n",
       "| New Zealand | Oceania  | 1952 | 69.390 |   1994794 | 10556.5757 |\n",
       "| Angola      | Africa   | 2007 | 42.731 |  12420476 |  4797.2313 |\n",
       "| Sudan       | Africa   | 2007 | 58.556 |  42292929 |  2602.3950 |\n",
       "| Poland      | Europe   | 1962 | 67.640 |  30329617 |  5338.7521 |\n",
       "| Japan       | Asia     | 1972 | 73.420 | 107188273 | 14778.7864 |\n",
       "\n"
      ],
      "text/plain": [
       "    country             continent year lifeExp pop       gdpPercap \n",
       "1   Libya               Africa    1962 47.808   1441863   6757.0308\n",
       "2   Botswana            Africa    1997 52.556   1536536   8647.1423\n",
       "3   Swaziland           Africa    1957 43.424    326741   1244.7084\n",
       "4   Dominican Republic  Americas  1997 69.957   7992357   3614.1013\n",
       "5   Iraq                Asia      2002 57.046  24001816   4390.7173\n",
       "6   Libya               Africa    1987 66.234   3799845  11770.5898\n",
       "7   Montenegro          Europe    1967 67.178    501035   5907.8509\n",
       "8   New Zealand         Oceania   1957 70.260   2229407  12247.3953\n",
       "9   Bulgaria            Europe    2007 73.005   7322858  10680.7928\n",
       "10  Malawi              Africa    1997 47.495  10419991    692.2758\n",
       "11  Venezuela           Americas  1977 67.456  13503563  13143.9510\n",
       "12  Guinea              Africa    1997 51.455   8048834    869.4498\n",
       "13  Congo, Dem. Rep.    Africa    1952 39.143  14100005    780.5423\n",
       "14  Eritrea             Africa    1962 40.158   1666618    380.9958\n",
       "15  Bangladesh          Asia      1982 50.009  93074406    676.9819\n",
       "16  Cote d'Ivoire       Africa    1952 40.477   2977019   1388.5947\n",
       "17  Trinidad and Tobago Americas  2002 68.976   1101832  11460.6002\n",
       "18  Sierra Leone        Africa    2007 42.568   6144562    862.5408\n",
       "19  Malaysia            Asia      2002 73.044  22662365  10206.9779\n",
       "20  Mali                Africa    1987 46.364   7634008    684.1716\n",
       "21  Pakistan            Asia      1977 54.043  78152686   1175.9212\n",
       "22  Norway              Europe    1982 75.970   4114787  26298.6353\n",
       "23  Peru                Americas  2007 71.421  28674757   7408.9056\n",
       "24  Haiti               Americas  1952 37.579   3201488   1840.3669\n",
       "25  Cuba                Americas  1962 65.246   7254373   5180.7559\n",
       "26  Costa Rica          Americas  2007 78.782   4133884   9645.0614\n",
       "27  France              Europe    1997 78.640  58623428  25889.7849\n",
       "28  Botswana            Africa    1987 63.622   1151184   6205.8839\n",
       "29  Bangladesh          Asia      1972 45.252  70759295    630.2336\n",
       "30  Congo, Rep.         Africa    1977 55.625   1536769   3259.1790\n",
       "... ...                 ...       ...  ...     ...       ...       \n",
       "141 Mozambique          Africa    1972 40.328    9809596   724.9178\n",
       "142 Nicaragua           Americas  1972 55.151    2182908  4688.5933\n",
       "143 Turkey              Europe    1972 57.005   37492953  3450.6964\n",
       "144 Gabon               Africa    2002 56.761    1299304 12521.7139\n",
       "145 Ecuador             Americas  1957 51.356    4058385  3780.5467\n",
       "146 Honduras            Americas  1972 53.884    2965146  2529.8423\n",
       "147 Paraguay            Americas  1952 62.649    1555876  1952.3087\n",
       "148 Guinea              Africa    2007 56.007    9947814   942.6542\n",
       "149 Switzerland         Europe    1977 75.390    6316424 26982.2905\n",
       "150 Honduras            Americas  1962 48.041    2090162  2291.1568\n",
       "151 Thailand            Asia      1952 50.848   21289402   757.7974\n",
       "152 Portugal            Europe    1957 61.510    8817650  3774.5717\n",
       "153 Cuba                Americas  1987 74.174   10239839  7532.9248\n",
       "154 Brazil              Americas  1997 69.388  168546719  7957.9808\n",
       "155 Madagascar          Africa    1962 40.848    5703324  1643.3871\n",
       "156 Mauritius           Africa    1982 66.711     992040  3688.0377\n",
       "157 Ghana               Africa    1982 53.744   11400338   876.0326\n",
       "158 Congo, Rep.         Africa    1987 57.470    2064095  4201.1949\n",
       "159 Haiti               Americas  1977 49.923    4908554  1874.2989\n",
       "160 Portugal            Europe    1952 59.820    8526050  3068.3199\n",
       "161 Angola              Africa    1982 39.942    7016384  2756.9537\n",
       "162 Swaziland           Africa    1997 54.289    1054486  3876.7685\n",
       "163 Norway              Europe    1992 77.320    4286357 33965.6611\n",
       "164 Austria             Europe    1972 70.630    7544201 16661.6256\n",
       "165 Croatia             Europe    1957 64.770    3991242  4338.2316\n",
       "166 New Zealand         Oceania   1952 69.390    1994794 10556.5757\n",
       "167 Angola              Africa    2007 42.731   12420476  4797.2313\n",
       "168 Sudan               Africa    2007 58.556   42292929  2602.3950\n",
       "169 Poland              Europe    1962 67.640   30329617  5338.7521\n",
       "170 Japan               Asia      1972 73.420  107188273 14778.7864"
      ]
     },
     "metadata": {},
     "output_type": "display_data"
    }
   ],
   "source": [
    "set.seed(2021) # output not changing, uncomment it \n",
    "gapminder %>% sample_frac(0.1)"
   ]
  },
  {
   "cell_type": "markdown",
   "id": "2dedf36a-acbd-44e0-b7a4-dce7e3a3d6a4",
   "metadata": {},
   "source": [
    "---"
   ]
  },
  {
   "cell_type": "markdown",
   "id": "45318bbc",
   "metadata": {},
   "source": [
    "### Subset rows using their positions with `slice()`"
   ]
  },
  {
   "cell_type": "markdown",
   "id": "c3964fd0",
   "metadata": {},
   "source": [
    "**Description**\n",
    "\n",
    "- [x] `slice()` lets you index rows by their (integer) locations. It allows you to select, remove, and duplicate rows. It is accompanied by a number of helpers for common use cases:\n",
    "- [x] `slice_head()` and `slice_tail()` select the first or last rows.\n",
    "- [x] `slice_sample()` randomly selects rows.\n",
    "- [x] `slice_min()` and `slice_max()` select rows with highest or lowest values of a variable.\n",
    "\n",
    "If `.data` is a grouped_df, the operation will be performed on each group, so that (e.g.) `slice_head(df, n = 5)` will select the first five rows in each group."
   ]
  },
  {
   "cell_type": "markdown",
   "id": "35b6b2be",
   "metadata": {},
   "source": [
    "**Samples**"
   ]
  },
  {
   "cell_type": "code",
   "execution_count": 155,
   "id": "375c5fd9",
   "metadata": {
    "vscode": {
     "languageId": "r"
    }
   },
   "outputs": [
    {
     "data": {
      "text/html": [
       "<table class=\"dataframe\">\n",
       "<caption>A tibble: 1 × 6</caption>\n",
       "<thead>\n",
       "\t<tr><th scope=col>country</th><th scope=col>continent</th><th scope=col>year</th><th scope=col>lifeExp</th><th scope=col>pop</th><th scope=col>gdpPercap</th></tr>\n",
       "\t<tr><th scope=col>&lt;fct&gt;</th><th scope=col>&lt;fct&gt;</th><th scope=col>&lt;int&gt;</th><th scope=col>&lt;dbl&gt;</th><th scope=col>&lt;int&gt;</th><th scope=col>&lt;dbl&gt;</th></tr>\n",
       "</thead>\n",
       "<tbody>\n",
       "\t<tr><td>Afghanistan</td><td>Asia</td><td>1952</td><td>28.801</td><td>8425333</td><td>779.4453</td></tr>\n",
       "</tbody>\n",
       "</table>\n"
      ],
      "text/latex": [
       "A tibble: 1 × 6\n",
       "\\begin{tabular}{llllll}\n",
       " country & continent & year & lifeExp & pop & gdpPercap\\\\\n",
       " <fct> & <fct> & <int> & <dbl> & <int> & <dbl>\\\\\n",
       "\\hline\n",
       "\t Afghanistan & Asia & 1952 & 28.801 & 8425333 & 779.4453\\\\\n",
       "\\end{tabular}\n"
      ],
      "text/markdown": [
       "\n",
       "A tibble: 1 × 6\n",
       "\n",
       "| country &lt;fct&gt; | continent &lt;fct&gt; | year &lt;int&gt; | lifeExp &lt;dbl&gt; | pop &lt;int&gt; | gdpPercap &lt;dbl&gt; |\n",
       "|---|---|---|---|---|---|\n",
       "| Afghanistan | Asia | 1952 | 28.801 | 8425333 | 779.4453 |\n",
       "\n"
      ],
      "text/plain": [
       "  country     continent year lifeExp pop     gdpPercap\n",
       "1 Afghanistan Asia      1952 28.801  8425333 779.4453 "
      ]
     },
     "metadata": {},
     "output_type": "display_data"
    }
   ],
   "source": [
    "gapminder %>% slice(1) # top 1 row"
   ]
  },
  {
   "cell_type": "code",
   "execution_count": 156,
   "id": "b1d54c0a",
   "metadata": {
    "vscode": {
     "languageId": "r"
    }
   },
   "outputs": [
    {
     "data": {
      "text/html": [
       "<table class=\"dataframe\">\n",
       "<caption>A tibble: 6 × 6</caption>\n",
       "<thead>\n",
       "\t<tr><th scope=col>country</th><th scope=col>continent</th><th scope=col>year</th><th scope=col>lifeExp</th><th scope=col>pop</th><th scope=col>gdpPercap</th></tr>\n",
       "\t<tr><th scope=col>&lt;fct&gt;</th><th scope=col>&lt;fct&gt;</th><th scope=col>&lt;int&gt;</th><th scope=col>&lt;dbl&gt;</th><th scope=col>&lt;int&gt;</th><th scope=col>&lt;dbl&gt;</th></tr>\n",
       "</thead>\n",
       "<tbody>\n",
       "\t<tr><td>Afghanistan</td><td>Asia</td><td>1952</td><td>28.801</td><td> 8425333</td><td>779.4453</td></tr>\n",
       "\t<tr><td>Afghanistan</td><td>Asia</td><td>1957</td><td>30.332</td><td> 9240934</td><td>820.8530</td></tr>\n",
       "\t<tr><td>Afghanistan</td><td>Asia</td><td>1962</td><td>31.997</td><td>10267083</td><td>853.1007</td></tr>\n",
       "\t<tr><td>Afghanistan</td><td>Asia</td><td>1967</td><td>34.020</td><td>11537966</td><td>836.1971</td></tr>\n",
       "\t<tr><td>Afghanistan</td><td>Asia</td><td>1972</td><td>36.088</td><td>13079460</td><td>739.9811</td></tr>\n",
       "\t<tr><td>Afghanistan</td><td>Asia</td><td>1977</td><td>38.438</td><td>14880372</td><td>786.1134</td></tr>\n",
       "</tbody>\n",
       "</table>\n"
      ],
      "text/latex": [
       "A tibble: 6 × 6\n",
       "\\begin{tabular}{llllll}\n",
       " country & continent & year & lifeExp & pop & gdpPercap\\\\\n",
       " <fct> & <fct> & <int> & <dbl> & <int> & <dbl>\\\\\n",
       "\\hline\n",
       "\t Afghanistan & Asia & 1952 & 28.801 &  8425333 & 779.4453\\\\\n",
       "\t Afghanistan & Asia & 1957 & 30.332 &  9240934 & 820.8530\\\\\n",
       "\t Afghanistan & Asia & 1962 & 31.997 & 10267083 & 853.1007\\\\\n",
       "\t Afghanistan & Asia & 1967 & 34.020 & 11537966 & 836.1971\\\\\n",
       "\t Afghanistan & Asia & 1972 & 36.088 & 13079460 & 739.9811\\\\\n",
       "\t Afghanistan & Asia & 1977 & 38.438 & 14880372 & 786.1134\\\\\n",
       "\\end{tabular}\n"
      ],
      "text/markdown": [
       "\n",
       "A tibble: 6 × 6\n",
       "\n",
       "| country &lt;fct&gt; | continent &lt;fct&gt; | year &lt;int&gt; | lifeExp &lt;dbl&gt; | pop &lt;int&gt; | gdpPercap &lt;dbl&gt; |\n",
       "|---|---|---|---|---|---|\n",
       "| Afghanistan | Asia | 1952 | 28.801 |  8425333 | 779.4453 |\n",
       "| Afghanistan | Asia | 1957 | 30.332 |  9240934 | 820.8530 |\n",
       "| Afghanistan | Asia | 1962 | 31.997 | 10267083 | 853.1007 |\n",
       "| Afghanistan | Asia | 1967 | 34.020 | 11537966 | 836.1971 |\n",
       "| Afghanistan | Asia | 1972 | 36.088 | 13079460 | 739.9811 |\n",
       "| Afghanistan | Asia | 1977 | 38.438 | 14880372 | 786.1134 |\n",
       "\n"
      ],
      "text/plain": [
       "  country     continent year lifeExp pop      gdpPercap\n",
       "1 Afghanistan Asia      1952 28.801   8425333 779.4453 \n",
       "2 Afghanistan Asia      1957 30.332   9240934 820.8530 \n",
       "3 Afghanistan Asia      1962 31.997  10267083 853.1007 \n",
       "4 Afghanistan Asia      1967 34.020  11537966 836.1971 \n",
       "5 Afghanistan Asia      1972 36.088  13079460 739.9811 \n",
       "6 Afghanistan Asia      1977 38.438  14880372 786.1134 "
      ]
     },
     "metadata": {},
     "output_type": "display_data"
    }
   ],
   "source": [
    "gapminder %>% slice(1:6) # top n = 6"
   ]
  },
  {
   "cell_type": "code",
   "execution_count": 157,
   "id": "121842f7",
   "metadata": {
    "vscode": {
     "languageId": "r"
    }
   },
   "outputs": [
    {
     "data": {
      "text/html": [
       "<table class=\"dataframe\">\n",
       "<caption>A tibble: 6 × 6</caption>\n",
       "<thead>\n",
       "\t<tr><th scope=col>country</th><th scope=col>continent</th><th scope=col>year</th><th scope=col>lifeExp</th><th scope=col>pop</th><th scope=col>gdpPercap</th></tr>\n",
       "\t<tr><th scope=col>&lt;fct&gt;</th><th scope=col>&lt;fct&gt;</th><th scope=col>&lt;int&gt;</th><th scope=col>&lt;dbl&gt;</th><th scope=col>&lt;int&gt;</th><th scope=col>&lt;dbl&gt;</th></tr>\n",
       "</thead>\n",
       "<tbody>\n",
       "\t<tr><td>Afghanistan</td><td>Asia</td><td>1952</td><td>28.801</td><td> 8425333</td><td>779.4453</td></tr>\n",
       "\t<tr><td>Afghanistan</td><td>Asia</td><td>1957</td><td>30.332</td><td> 9240934</td><td>820.8530</td></tr>\n",
       "\t<tr><td>Afghanistan</td><td>Asia</td><td>1962</td><td>31.997</td><td>10267083</td><td>853.1007</td></tr>\n",
       "\t<tr><td>Afghanistan</td><td>Asia</td><td>1967</td><td>34.020</td><td>11537966</td><td>836.1971</td></tr>\n",
       "\t<tr><td>Afghanistan</td><td>Asia</td><td>1972</td><td>36.088</td><td>13079460</td><td>739.9811</td></tr>\n",
       "\t<tr><td>Afghanistan</td><td>Asia</td><td>1977</td><td>38.438</td><td>14880372</td><td>786.1134</td></tr>\n",
       "</tbody>\n",
       "</table>\n"
      ],
      "text/latex": [
       "A tibble: 6 × 6\n",
       "\\begin{tabular}{llllll}\n",
       " country & continent & year & lifeExp & pop & gdpPercap\\\\\n",
       " <fct> & <fct> & <int> & <dbl> & <int> & <dbl>\\\\\n",
       "\\hline\n",
       "\t Afghanistan & Asia & 1952 & 28.801 &  8425333 & 779.4453\\\\\n",
       "\t Afghanistan & Asia & 1957 & 30.332 &  9240934 & 820.8530\\\\\n",
       "\t Afghanistan & Asia & 1962 & 31.997 & 10267083 & 853.1007\\\\\n",
       "\t Afghanistan & Asia & 1967 & 34.020 & 11537966 & 836.1971\\\\\n",
       "\t Afghanistan & Asia & 1972 & 36.088 & 13079460 & 739.9811\\\\\n",
       "\t Afghanistan & Asia & 1977 & 38.438 & 14880372 & 786.1134\\\\\n",
       "\\end{tabular}\n"
      ],
      "text/markdown": [
       "\n",
       "A tibble: 6 × 6\n",
       "\n",
       "| country &lt;fct&gt; | continent &lt;fct&gt; | year &lt;int&gt; | lifeExp &lt;dbl&gt; | pop &lt;int&gt; | gdpPercap &lt;dbl&gt; |\n",
       "|---|---|---|---|---|---|\n",
       "| Afghanistan | Asia | 1952 | 28.801 |  8425333 | 779.4453 |\n",
       "| Afghanistan | Asia | 1957 | 30.332 |  9240934 | 820.8530 |\n",
       "| Afghanistan | Asia | 1962 | 31.997 | 10267083 | 853.1007 |\n",
       "| Afghanistan | Asia | 1967 | 34.020 | 11537966 | 836.1971 |\n",
       "| Afghanistan | Asia | 1972 | 36.088 | 13079460 | 739.9811 |\n",
       "| Afghanistan | Asia | 1977 | 38.438 | 14880372 | 786.1134 |\n",
       "\n"
      ],
      "text/plain": [
       "  country     continent year lifeExp pop      gdpPercap\n",
       "1 Afghanistan Asia      1952 28.801   8425333 779.4453 \n",
       "2 Afghanistan Asia      1957 30.332   9240934 820.8530 \n",
       "3 Afghanistan Asia      1962 31.997  10267083 853.1007 \n",
       "4 Afghanistan Asia      1967 34.020  11537966 836.1971 \n",
       "5 Afghanistan Asia      1972 36.088  13079460 739.9811 \n",
       "6 Afghanistan Asia      1977 38.438  14880372 786.1134 "
      ]
     },
     "metadata": {},
     "output_type": "display_data"
    }
   ],
   "source": [
    "gapminder %>% slice_head(n = 6) # works like head()"
   ]
  },
  {
   "cell_type": "code",
   "execution_count": 158,
   "id": "e870c6b0",
   "metadata": {
    "vscode": {
     "languageId": "r"
    }
   },
   "outputs": [
    {
     "data": {
      "text/html": [
       "<table class=\"dataframe\">\n",
       "<caption>A tibble: 5 × 6</caption>\n",
       "<thead>\n",
       "\t<tr><th scope=col>country</th><th scope=col>continent</th><th scope=col>year</th><th scope=col>lifeExp</th><th scope=col>pop</th><th scope=col>gdpPercap</th></tr>\n",
       "\t<tr><th scope=col>&lt;fct&gt;</th><th scope=col>&lt;fct&gt;</th><th scope=col>&lt;int&gt;</th><th scope=col>&lt;dbl&gt;</th><th scope=col>&lt;int&gt;</th><th scope=col>&lt;dbl&gt;</th></tr>\n",
       "</thead>\n",
       "<tbody>\n",
       "\t<tr><td>Zimbabwe</td><td>Africa</td><td>1987</td><td>62.351</td><td> 9216418</td><td>706.1573</td></tr>\n",
       "\t<tr><td>Zimbabwe</td><td>Africa</td><td>1992</td><td>60.377</td><td>10704340</td><td>693.4208</td></tr>\n",
       "\t<tr><td>Zimbabwe</td><td>Africa</td><td>1997</td><td>46.809</td><td>11404948</td><td>792.4500</td></tr>\n",
       "\t<tr><td>Zimbabwe</td><td>Africa</td><td>2002</td><td>39.989</td><td>11926563</td><td>672.0386</td></tr>\n",
       "\t<tr><td>Zimbabwe</td><td>Africa</td><td>2007</td><td>43.487</td><td>12311143</td><td>469.7093</td></tr>\n",
       "</tbody>\n",
       "</table>\n"
      ],
      "text/latex": [
       "A tibble: 5 × 6\n",
       "\\begin{tabular}{llllll}\n",
       " country & continent & year & lifeExp & pop & gdpPercap\\\\\n",
       " <fct> & <fct> & <int> & <dbl> & <int> & <dbl>\\\\\n",
       "\\hline\n",
       "\t Zimbabwe & Africa & 1987 & 62.351 &  9216418 & 706.1573\\\\\n",
       "\t Zimbabwe & Africa & 1992 & 60.377 & 10704340 & 693.4208\\\\\n",
       "\t Zimbabwe & Africa & 1997 & 46.809 & 11404948 & 792.4500\\\\\n",
       "\t Zimbabwe & Africa & 2002 & 39.989 & 11926563 & 672.0386\\\\\n",
       "\t Zimbabwe & Africa & 2007 & 43.487 & 12311143 & 469.7093\\\\\n",
       "\\end{tabular}\n"
      ],
      "text/markdown": [
       "\n",
       "A tibble: 5 × 6\n",
       "\n",
       "| country &lt;fct&gt; | continent &lt;fct&gt; | year &lt;int&gt; | lifeExp &lt;dbl&gt; | pop &lt;int&gt; | gdpPercap &lt;dbl&gt; |\n",
       "|---|---|---|---|---|---|\n",
       "| Zimbabwe | Africa | 1987 | 62.351 |  9216418 | 706.1573 |\n",
       "| Zimbabwe | Africa | 1992 | 60.377 | 10704340 | 693.4208 |\n",
       "| Zimbabwe | Africa | 1997 | 46.809 | 11404948 | 792.4500 |\n",
       "| Zimbabwe | Africa | 2002 | 39.989 | 11926563 | 672.0386 |\n",
       "| Zimbabwe | Africa | 2007 | 43.487 | 12311143 | 469.7093 |\n",
       "\n"
      ],
      "text/plain": [
       "  country  continent year lifeExp pop      gdpPercap\n",
       "1 Zimbabwe Africa    1987 62.351   9216418 706.1573 \n",
       "2 Zimbabwe Africa    1992 60.377  10704340 693.4208 \n",
       "3 Zimbabwe Africa    1997 46.809  11404948 792.4500 \n",
       "4 Zimbabwe Africa    2002 39.989  11926563 672.0386 \n",
       "5 Zimbabwe Africa    2007 43.487  12311143 469.7093 "
      ]
     },
     "metadata": {},
     "output_type": "display_data"
    }
   ],
   "source": [
    "gapminder %>% slice_tail(n = 5) # works like tail()"
   ]
  },
  {
   "cell_type": "markdown",
   "id": "565aa20d",
   "metadata": {},
   "source": [
    "**You can drop some recods with negative indexes:**"
   ]
  },
  {
   "cell_type": "code",
   "execution_count": 159,
   "id": "47cb55db",
   "metadata": {
    "vscode": {
     "languageId": "r"
    }
   },
   "outputs": [
    {
     "data": {
      "text/html": [
       "<table class=\"dataframe\">\n",
       "<caption>A tibble: 6 × 6</caption>\n",
       "<thead>\n",
       "\t<tr><th scope=col>country</th><th scope=col>continent</th><th scope=col>year</th><th scope=col>lifeExp</th><th scope=col>pop</th><th scope=col>gdpPercap</th></tr>\n",
       "\t<tr><th scope=col>&lt;fct&gt;</th><th scope=col>&lt;fct&gt;</th><th scope=col>&lt;int&gt;</th><th scope=col>&lt;dbl&gt;</th><th scope=col>&lt;int&gt;</th><th scope=col>&lt;dbl&gt;</th></tr>\n",
       "</thead>\n",
       "<tbody>\n",
       "\t<tr><td>Afghanistan</td><td>Asia</td><td>1967</td><td>34.020</td><td>11537966</td><td>836.1971</td></tr>\n",
       "\t<tr><td>Afghanistan</td><td>Asia</td><td>1977</td><td>38.438</td><td>14880372</td><td>786.1134</td></tr>\n",
       "\t<tr><td>Afghanistan</td><td>Asia</td><td>1982</td><td>39.854</td><td>12881816</td><td>978.0114</td></tr>\n",
       "\t<tr><td>Afghanistan</td><td>Asia</td><td>1987</td><td>40.822</td><td>13867957</td><td>852.3959</td></tr>\n",
       "\t<tr><td>Afghanistan</td><td>Asia</td><td>1992</td><td>41.674</td><td>16317921</td><td>649.3414</td></tr>\n",
       "\t<tr><td>Afghanistan</td><td>Asia</td><td>1997</td><td>41.763</td><td>22227415</td><td>635.3414</td></tr>\n",
       "</tbody>\n",
       "</table>\n"
      ],
      "text/latex": [
       "A tibble: 6 × 6\n",
       "\\begin{tabular}{llllll}\n",
       " country & continent & year & lifeExp & pop & gdpPercap\\\\\n",
       " <fct> & <fct> & <int> & <dbl> & <int> & <dbl>\\\\\n",
       "\\hline\n",
       "\t Afghanistan & Asia & 1967 & 34.020 & 11537966 & 836.1971\\\\\n",
       "\t Afghanistan & Asia & 1977 & 38.438 & 14880372 & 786.1134\\\\\n",
       "\t Afghanistan & Asia & 1982 & 39.854 & 12881816 & 978.0114\\\\\n",
       "\t Afghanistan & Asia & 1987 & 40.822 & 13867957 & 852.3959\\\\\n",
       "\t Afghanistan & Asia & 1992 & 41.674 & 16317921 & 649.3414\\\\\n",
       "\t Afghanistan & Asia & 1997 & 41.763 & 22227415 & 635.3414\\\\\n",
       "\\end{tabular}\n"
      ],
      "text/markdown": [
       "\n",
       "A tibble: 6 × 6\n",
       "\n",
       "| country &lt;fct&gt; | continent &lt;fct&gt; | year &lt;int&gt; | lifeExp &lt;dbl&gt; | pop &lt;int&gt; | gdpPercap &lt;dbl&gt; |\n",
       "|---|---|---|---|---|---|\n",
       "| Afghanistan | Asia | 1967 | 34.020 | 11537966 | 836.1971 |\n",
       "| Afghanistan | Asia | 1977 | 38.438 | 14880372 | 786.1134 |\n",
       "| Afghanistan | Asia | 1982 | 39.854 | 12881816 | 978.0114 |\n",
       "| Afghanistan | Asia | 1987 | 40.822 | 13867957 | 852.3959 |\n",
       "| Afghanistan | Asia | 1992 | 41.674 | 16317921 | 649.3414 |\n",
       "| Afghanistan | Asia | 1997 | 41.763 | 22227415 | 635.3414 |\n",
       "\n"
      ],
      "text/plain": [
       "  country     continent year lifeExp pop      gdpPercap\n",
       "1 Afghanistan Asia      1967 34.020  11537966 836.1971 \n",
       "2 Afghanistan Asia      1977 38.438  14880372 786.1134 \n",
       "3 Afghanistan Asia      1982 39.854  12881816 978.0114 \n",
       "4 Afghanistan Asia      1987 40.822  13867957 852.3959 \n",
       "5 Afghanistan Asia      1992 41.674  16317921 649.3414 \n",
       "6 Afghanistan Asia      1997 41.763  22227415 635.3414 "
      ]
     },
     "metadata": {},
     "output_type": "display_data"
    }
   ],
   "source": [
    "gapminder %>% slice(-c(1:3,5)) %>% # remove Afganistan years 1952, 1957, 1962 and 1972 \n",
    "    head(6)"
   ]
  },
  {
   "cell_type": "code",
   "execution_count": 160,
   "id": "41beab22",
   "metadata": {
    "vscode": {
     "languageId": "r"
    }
   },
   "outputs": [
    {
     "data": {
      "text/html": [
       "<table class=\"dataframe\">\n",
       "<caption>A tibble: 5 × 6</caption>\n",
       "<thead>\n",
       "\t<tr><th scope=col>country</th><th scope=col>continent</th><th scope=col>year</th><th scope=col>lifeExp</th><th scope=col>pop</th><th scope=col>gdpPercap</th></tr>\n",
       "\t<tr><th scope=col>&lt;fct&gt;</th><th scope=col>&lt;fct&gt;</th><th scope=col>&lt;int&gt;</th><th scope=col>&lt;dbl&gt;</th><th scope=col>&lt;int&gt;</th><th scope=col>&lt;dbl&gt;</th></tr>\n",
       "</thead>\n",
       "<tbody>\n",
       "\t<tr><td>Cambodia        </td><td>Asia  </td><td>2002</td><td>56.752</td><td>12926707</td><td>  896.2260</td></tr>\n",
       "\t<tr><td>Poland          </td><td>Europe</td><td>2002</td><td>74.670</td><td>38625976</td><td>12002.2391</td></tr>\n",
       "\t<tr><td>Bulgaria        </td><td>Europe</td><td>1972</td><td>70.900</td><td> 8576200</td><td> 6597.4944</td></tr>\n",
       "\t<tr><td>Congo, Dem. Rep.</td><td>Africa</td><td>1952</td><td>39.143</td><td>14100005</td><td>  780.5423</td></tr>\n",
       "\t<tr><td>Chad            </td><td>Africa</td><td>2002</td><td>50.525</td><td> 8835739</td><td> 1156.1819</td></tr>\n",
       "</tbody>\n",
       "</table>\n"
      ],
      "text/latex": [
       "A tibble: 5 × 6\n",
       "\\begin{tabular}{llllll}\n",
       " country & continent & year & lifeExp & pop & gdpPercap\\\\\n",
       " <fct> & <fct> & <int> & <dbl> & <int> & <dbl>\\\\\n",
       "\\hline\n",
       "\t Cambodia         & Asia   & 2002 & 56.752 & 12926707 &   896.2260\\\\\n",
       "\t Poland           & Europe & 2002 & 74.670 & 38625976 & 12002.2391\\\\\n",
       "\t Bulgaria         & Europe & 1972 & 70.900 &  8576200 &  6597.4944\\\\\n",
       "\t Congo, Dem. Rep. & Africa & 1952 & 39.143 & 14100005 &   780.5423\\\\\n",
       "\t Chad             & Africa & 2002 & 50.525 &  8835739 &  1156.1819\\\\\n",
       "\\end{tabular}\n"
      ],
      "text/markdown": [
       "\n",
       "A tibble: 5 × 6\n",
       "\n",
       "| country &lt;fct&gt; | continent &lt;fct&gt; | year &lt;int&gt; | lifeExp &lt;dbl&gt; | pop &lt;int&gt; | gdpPercap &lt;dbl&gt; |\n",
       "|---|---|---|---|---|---|\n",
       "| Cambodia         | Asia   | 2002 | 56.752 | 12926707 |   896.2260 |\n",
       "| Poland           | Europe | 2002 | 74.670 | 38625976 | 12002.2391 |\n",
       "| Bulgaria         | Europe | 1972 | 70.900 |  8576200 |  6597.4944 |\n",
       "| Congo, Dem. Rep. | Africa | 1952 | 39.143 | 14100005 |   780.5423 |\n",
       "| Chad             | Africa | 2002 | 50.525 |  8835739 |  1156.1819 |\n",
       "\n"
      ],
      "text/plain": [
       "  country          continent year lifeExp pop      gdpPercap \n",
       "1 Cambodia         Asia      2002 56.752  12926707   896.2260\n",
       "2 Poland           Europe    2002 74.670  38625976 12002.2391\n",
       "3 Bulgaria         Europe    1972 70.900   8576200  6597.4944\n",
       "4 Congo, Dem. Rep. Africa    1952 39.143  14100005   780.5423\n",
       "5 Chad             Africa    2002 50.525   8835739  1156.1819"
      ]
     },
     "metadata": {},
     "output_type": "display_data"
    }
   ],
   "source": [
    "# Random rows selection with slice_sample()\n",
    "gapminder %>% slice_sample(n = 5) #use set.seed() to fix random"
   ]
  },
  {
   "cell_type": "code",
   "execution_count": 161,
   "id": "de929f12",
   "metadata": {
    "vscode": {
     "languageId": "r"
    }
   },
   "outputs": [
    {
     "data": {
      "text/html": [
       "<table class=\"dataframe\">\n",
       "<caption>A tibble: 5 × 6</caption>\n",
       "<thead>\n",
       "\t<tr><th scope=col>country</th><th scope=col>continent</th><th scope=col>year</th><th scope=col>lifeExp</th><th scope=col>pop</th><th scope=col>gdpPercap</th></tr>\n",
       "\t<tr><th scope=col>&lt;fct&gt;</th><th scope=col>&lt;fct&gt;</th><th scope=col>&lt;int&gt;</th><th scope=col>&lt;dbl&gt;</th><th scope=col>&lt;int&gt;</th><th scope=col>&lt;dbl&gt;</th></tr>\n",
       "</thead>\n",
       "<tbody>\n",
       "\t<tr><td>Rwanda      </td><td>Africa</td><td>1992</td><td>23.599</td><td>7290203</td><td> 737.0686</td></tr>\n",
       "\t<tr><td>Afghanistan </td><td>Asia  </td><td>1952</td><td>28.801</td><td>8425333</td><td> 779.4453</td></tr>\n",
       "\t<tr><td>Gambia      </td><td>Africa</td><td>1952</td><td>30.000</td><td> 284320</td><td> 485.2307</td></tr>\n",
       "\t<tr><td>Angola      </td><td>Africa</td><td>1952</td><td>30.015</td><td>4232095</td><td>3520.6103</td></tr>\n",
       "\t<tr><td>Sierra Leone</td><td>Africa</td><td>1952</td><td>30.331</td><td>2143249</td><td> 879.7877</td></tr>\n",
       "</tbody>\n",
       "</table>\n"
      ],
      "text/latex": [
       "A tibble: 5 × 6\n",
       "\\begin{tabular}{llllll}\n",
       " country & continent & year & lifeExp & pop & gdpPercap\\\\\n",
       " <fct> & <fct> & <int> & <dbl> & <int> & <dbl>\\\\\n",
       "\\hline\n",
       "\t Rwanda       & Africa & 1992 & 23.599 & 7290203 &  737.0686\\\\\n",
       "\t Afghanistan  & Asia   & 1952 & 28.801 & 8425333 &  779.4453\\\\\n",
       "\t Gambia       & Africa & 1952 & 30.000 &  284320 &  485.2307\\\\\n",
       "\t Angola       & Africa & 1952 & 30.015 & 4232095 & 3520.6103\\\\\n",
       "\t Sierra Leone & Africa & 1952 & 30.331 & 2143249 &  879.7877\\\\\n",
       "\\end{tabular}\n"
      ],
      "text/markdown": [
       "\n",
       "A tibble: 5 × 6\n",
       "\n",
       "| country &lt;fct&gt; | continent &lt;fct&gt; | year &lt;int&gt; | lifeExp &lt;dbl&gt; | pop &lt;int&gt; | gdpPercap &lt;dbl&gt; |\n",
       "|---|---|---|---|---|---|\n",
       "| Rwanda       | Africa | 1992 | 23.599 | 7290203 |  737.0686 |\n",
       "| Afghanistan  | Asia   | 1952 | 28.801 | 8425333 |  779.4453 |\n",
       "| Gambia       | Africa | 1952 | 30.000 |  284320 |  485.2307 |\n",
       "| Angola       | Africa | 1952 | 30.015 | 4232095 | 3520.6103 |\n",
       "| Sierra Leone | Africa | 1952 | 30.331 | 2143249 |  879.7877 |\n",
       "\n"
      ],
      "text/plain": [
       "  country      continent year lifeExp pop     gdpPercap\n",
       "1 Rwanda       Africa    1992 23.599  7290203  737.0686\n",
       "2 Afghanistan  Asia      1952 28.801  8425333  779.4453\n",
       "3 Gambia       Africa    1952 30.000   284320  485.2307\n",
       "4 Angola       Africa    1952 30.015  4232095 3520.6103\n",
       "5 Sierra Leone Africa    1952 30.331  2143249  879.7877"
      ]
     },
     "metadata": {},
     "output_type": "display_data"
    },
    {
     "data": {
      "text/html": [
       "<table class=\"dataframe\">\n",
       "<caption>A tibble: 5 × 6</caption>\n",
       "<thead>\n",
       "\t<tr><th scope=col>country</th><th scope=col>continent</th><th scope=col>year</th><th scope=col>lifeExp</th><th scope=col>pop</th><th scope=col>gdpPercap</th></tr>\n",
       "\t<tr><th scope=col>&lt;fct&gt;</th><th scope=col>&lt;fct&gt;</th><th scope=col>&lt;int&gt;</th><th scope=col>&lt;dbl&gt;</th><th scope=col>&lt;int&gt;</th><th scope=col>&lt;dbl&gt;</th></tr>\n",
       "</thead>\n",
       "<tbody>\n",
       "\t<tr><td>Japan           </td><td>Asia  </td><td>2007</td><td>82.603</td><td>127467972</td><td>31656.07</td></tr>\n",
       "\t<tr><td>Hong Kong, China</td><td>Asia  </td><td>2007</td><td>82.208</td><td>  6980412</td><td>39724.98</td></tr>\n",
       "\t<tr><td>Japan           </td><td>Asia  </td><td>2002</td><td>82.000</td><td>127065841</td><td>28604.59</td></tr>\n",
       "\t<tr><td>Iceland         </td><td>Europe</td><td>2007</td><td>81.757</td><td>   301931</td><td>36180.79</td></tr>\n",
       "\t<tr><td>Switzerland     </td><td>Europe</td><td>2007</td><td>81.701</td><td>  7554661</td><td>37506.42</td></tr>\n",
       "</tbody>\n",
       "</table>\n"
      ],
      "text/latex": [
       "A tibble: 5 × 6\n",
       "\\begin{tabular}{llllll}\n",
       " country & continent & year & lifeExp & pop & gdpPercap\\\\\n",
       " <fct> & <fct> & <int> & <dbl> & <int> & <dbl>\\\\\n",
       "\\hline\n",
       "\t Japan            & Asia   & 2007 & 82.603 & 127467972 & 31656.07\\\\\n",
       "\t Hong Kong, China & Asia   & 2007 & 82.208 &   6980412 & 39724.98\\\\\n",
       "\t Japan            & Asia   & 2002 & 82.000 & 127065841 & 28604.59\\\\\n",
       "\t Iceland          & Europe & 2007 & 81.757 &    301931 & 36180.79\\\\\n",
       "\t Switzerland      & Europe & 2007 & 81.701 &   7554661 & 37506.42\\\\\n",
       "\\end{tabular}\n"
      ],
      "text/markdown": [
       "\n",
       "A tibble: 5 × 6\n",
       "\n",
       "| country &lt;fct&gt; | continent &lt;fct&gt; | year &lt;int&gt; | lifeExp &lt;dbl&gt; | pop &lt;int&gt; | gdpPercap &lt;dbl&gt; |\n",
       "|---|---|---|---|---|---|\n",
       "| Japan            | Asia   | 2007 | 82.603 | 127467972 | 31656.07 |\n",
       "| Hong Kong, China | Asia   | 2007 | 82.208 |   6980412 | 39724.98 |\n",
       "| Japan            | Asia   | 2002 | 82.000 | 127065841 | 28604.59 |\n",
       "| Iceland          | Europe | 2007 | 81.757 |    301931 | 36180.79 |\n",
       "| Switzerland      | Europe | 2007 | 81.701 |   7554661 | 37506.42 |\n",
       "\n"
      ],
      "text/plain": [
       "  country          continent year lifeExp pop       gdpPercap\n",
       "1 Japan            Asia      2007 82.603  127467972 31656.07 \n",
       "2 Hong Kong, China Asia      2007 82.208    6980412 39724.98 \n",
       "3 Japan            Asia      2002 82.000  127065841 28604.59 \n",
       "4 Iceland          Europe    2007 81.757     301931 36180.79 \n",
       "5 Switzerland      Europe    2007 81.701    7554661 37506.42 "
      ]
     },
     "metadata": {},
     "output_type": "display_data"
    }
   ],
   "source": [
    "# Rows with minimum and maximum values of a variable\n",
    "# Lets find top 5 records with minimum and maximum lifeExp in all dataset\n",
    "gapminder %>% slice_min(lifeExp, n = 5)\n",
    "gapminder %>% slice_max(lifeExp, n = 5)"
   ]
  },
  {
   "cell_type": "markdown",
   "id": "a9f4e3f0",
   "metadata": {},
   "source": [
    "---"
   ]
  },
  {
   "cell_type": "markdown",
   "id": "72f849ba",
   "metadata": {},
   "source": [
    "### Sorting with  **`arrange()`**"
   ]
  },
  {
   "cell_type": "markdown",
   "id": "54b415b2",
   "metadata": {},
   "source": [
    "`arrange(.data, …)` function order rows by values of a column or columns (low to high)You can use with `desc()` to order from high to low. \n",
    "\n",
    "For example, we need to select top 10 countries in 2002  by lifeExp variable."
   ]
  },
  {
   "cell_type": "code",
   "execution_count": 162,
   "id": "9a2f273e",
   "metadata": {
    "vscode": {
     "languageId": "r"
    }
   },
   "outputs": [
    {
     "data": {
      "text/html": [
       "<table class=\"dataframe\">\n",
       "<caption>A tibble: 10 × 6</caption>\n",
       "<thead>\n",
       "\t<tr><th scope=col>country</th><th scope=col>continent</th><th scope=col>year</th><th scope=col>lifeExp</th><th scope=col>pop</th><th scope=col>gdpPercap</th></tr>\n",
       "\t<tr><th scope=col>&lt;fct&gt;</th><th scope=col>&lt;fct&gt;</th><th scope=col>&lt;int&gt;</th><th scope=col>&lt;dbl&gt;</th><th scope=col>&lt;int&gt;</th><th scope=col>&lt;dbl&gt;</th></tr>\n",
       "</thead>\n",
       "<tbody>\n",
       "\t<tr><td>Australia       </td><td>Oceania </td><td>2002</td><td>80.370</td><td> 19546792</td><td>30687.75</td></tr>\n",
       "\t<tr><td>Canada          </td><td>Americas</td><td>2002</td><td>79.770</td><td> 31902268</td><td>33328.97</td></tr>\n",
       "\t<tr><td>Hong Kong, China</td><td>Asia    </td><td>2002</td><td>81.495</td><td>  6762476</td><td>30209.02</td></tr>\n",
       "\t<tr><td>Iceland         </td><td>Europe  </td><td>2002</td><td>80.500</td><td>   288030</td><td>31163.20</td></tr>\n",
       "\t<tr><td>Israel          </td><td>Asia    </td><td>2002</td><td>79.696</td><td>  6029529</td><td>21905.60</td></tr>\n",
       "\t<tr><td>Italy           </td><td>Europe  </td><td>2002</td><td>80.240</td><td> 57926999</td><td>27968.10</td></tr>\n",
       "\t<tr><td>Japan           </td><td>Asia    </td><td>2002</td><td>82.000</td><td>127065841</td><td>28604.59</td></tr>\n",
       "\t<tr><td>Spain           </td><td>Europe  </td><td>2002</td><td>79.780</td><td> 40152517</td><td>24835.47</td></tr>\n",
       "\t<tr><td>Sweden          </td><td>Europe  </td><td>2002</td><td>80.040</td><td>  8954175</td><td>29341.63</td></tr>\n",
       "\t<tr><td>Switzerland     </td><td>Europe  </td><td>2002</td><td>80.620</td><td>  7361757</td><td>34480.96</td></tr>\n",
       "</tbody>\n",
       "</table>\n"
      ],
      "text/latex": [
       "A tibble: 10 × 6\n",
       "\\begin{tabular}{llllll}\n",
       " country & continent & year & lifeExp & pop & gdpPercap\\\\\n",
       " <fct> & <fct> & <int> & <dbl> & <int> & <dbl>\\\\\n",
       "\\hline\n",
       "\t Australia        & Oceania  & 2002 & 80.370 &  19546792 & 30687.75\\\\\n",
       "\t Canada           & Americas & 2002 & 79.770 &  31902268 & 33328.97\\\\\n",
       "\t Hong Kong, China & Asia     & 2002 & 81.495 &   6762476 & 30209.02\\\\\n",
       "\t Iceland          & Europe   & 2002 & 80.500 &    288030 & 31163.20\\\\\n",
       "\t Israel           & Asia     & 2002 & 79.696 &   6029529 & 21905.60\\\\\n",
       "\t Italy            & Europe   & 2002 & 80.240 &  57926999 & 27968.10\\\\\n",
       "\t Japan            & Asia     & 2002 & 82.000 & 127065841 & 28604.59\\\\\n",
       "\t Spain            & Europe   & 2002 & 79.780 &  40152517 & 24835.47\\\\\n",
       "\t Sweden           & Europe   & 2002 & 80.040 &   8954175 & 29341.63\\\\\n",
       "\t Switzerland      & Europe   & 2002 & 80.620 &   7361757 & 34480.96\\\\\n",
       "\\end{tabular}\n"
      ],
      "text/markdown": [
       "\n",
       "A tibble: 10 × 6\n",
       "\n",
       "| country &lt;fct&gt; | continent &lt;fct&gt; | year &lt;int&gt; | lifeExp &lt;dbl&gt; | pop &lt;int&gt; | gdpPercap &lt;dbl&gt; |\n",
       "|---|---|---|---|---|---|\n",
       "| Australia        | Oceania  | 2002 | 80.370 |  19546792 | 30687.75 |\n",
       "| Canada           | Americas | 2002 | 79.770 |  31902268 | 33328.97 |\n",
       "| Hong Kong, China | Asia     | 2002 | 81.495 |   6762476 | 30209.02 |\n",
       "| Iceland          | Europe   | 2002 | 80.500 |    288030 | 31163.20 |\n",
       "| Israel           | Asia     | 2002 | 79.696 |   6029529 | 21905.60 |\n",
       "| Italy            | Europe   | 2002 | 80.240 |  57926999 | 27968.10 |\n",
       "| Japan            | Asia     | 2002 | 82.000 | 127065841 | 28604.59 |\n",
       "| Spain            | Europe   | 2002 | 79.780 |  40152517 | 24835.47 |\n",
       "| Sweden           | Europe   | 2002 | 80.040 |   8954175 | 29341.63 |\n",
       "| Switzerland      | Europe   | 2002 | 80.620 |   7361757 | 34480.96 |\n",
       "\n"
      ],
      "text/plain": [
       "   country          continent year lifeExp pop       gdpPercap\n",
       "1  Australia        Oceania   2002 80.370   19546792 30687.75 \n",
       "2  Canada           Americas  2002 79.770   31902268 33328.97 \n",
       "3  Hong Kong, China Asia      2002 81.495    6762476 30209.02 \n",
       "4  Iceland          Europe    2002 80.500     288030 31163.20 \n",
       "5  Israel           Asia      2002 79.696    6029529 21905.60 \n",
       "6  Italy            Europe    2002 80.240   57926999 27968.10 \n",
       "7  Japan            Asia      2002 82.000  127065841 28604.59 \n",
       "8  Spain            Europe    2002 79.780   40152517 24835.47 \n",
       "9  Sweden           Europe    2002 80.040    8954175 29341.63 \n",
       "10 Switzerland      Europe    2002 80.620    7361757 34480.96 "
      ]
     },
     "metadata": {},
     "output_type": "display_data"
    }
   ],
   "source": [
    "data2002 <- gapminder %>% \n",
    "                filter(year == 2002) %>%\n",
    "                top_n(10, lifeExp) # select top 10 by lifeExp value\n",
    "data2002"
   ]
  },
  {
   "cell_type": "code",
   "execution_count": 163,
   "id": "86736fe0",
   "metadata": {
    "vscode": {
     "languageId": "r"
    }
   },
   "outputs": [
    {
     "data": {
      "text/html": [
       "<table class=\"dataframe\">\n",
       "<caption>A tibble: 6 × 6</caption>\n",
       "<thead>\n",
       "\t<tr><th scope=col>country</th><th scope=col>continent</th><th scope=col>year</th><th scope=col>lifeExp</th><th scope=col>pop</th><th scope=col>gdpPercap</th></tr>\n",
       "\t<tr><th scope=col>&lt;fct&gt;</th><th scope=col>&lt;fct&gt;</th><th scope=col>&lt;int&gt;</th><th scope=col>&lt;dbl&gt;</th><th scope=col>&lt;int&gt;</th><th scope=col>&lt;dbl&gt;</th></tr>\n",
       "</thead>\n",
       "<tbody>\n",
       "\t<tr><td>Zimbabwe</td><td>Africa</td><td>1952</td><td>48.451</td><td>3080907</td><td>406.8841</td></tr>\n",
       "\t<tr><td>Zimbabwe</td><td>Africa</td><td>1957</td><td>50.469</td><td>3646340</td><td>518.7643</td></tr>\n",
       "\t<tr><td>Zimbabwe</td><td>Africa</td><td>1962</td><td>52.358</td><td>4277736</td><td>527.2722</td></tr>\n",
       "\t<tr><td>Zimbabwe</td><td>Africa</td><td>1967</td><td>53.995</td><td>4995432</td><td>569.7951</td></tr>\n",
       "\t<tr><td>Zimbabwe</td><td>Africa</td><td>1972</td><td>55.635</td><td>5861135</td><td>799.3622</td></tr>\n",
       "\t<tr><td>Zimbabwe</td><td>Africa</td><td>1977</td><td>57.674</td><td>6642107</td><td>685.5877</td></tr>\n",
       "</tbody>\n",
       "</table>\n"
      ],
      "text/latex": [
       "A tibble: 6 × 6\n",
       "\\begin{tabular}{llllll}\n",
       " country & continent & year & lifeExp & pop & gdpPercap\\\\\n",
       " <fct> & <fct> & <int> & <dbl> & <int> & <dbl>\\\\\n",
       "\\hline\n",
       "\t Zimbabwe & Africa & 1952 & 48.451 & 3080907 & 406.8841\\\\\n",
       "\t Zimbabwe & Africa & 1957 & 50.469 & 3646340 & 518.7643\\\\\n",
       "\t Zimbabwe & Africa & 1962 & 52.358 & 4277736 & 527.2722\\\\\n",
       "\t Zimbabwe & Africa & 1967 & 53.995 & 4995432 & 569.7951\\\\\n",
       "\t Zimbabwe & Africa & 1972 & 55.635 & 5861135 & 799.3622\\\\\n",
       "\t Zimbabwe & Africa & 1977 & 57.674 & 6642107 & 685.5877\\\\\n",
       "\\end{tabular}\n"
      ],
      "text/markdown": [
       "\n",
       "A tibble: 6 × 6\n",
       "\n",
       "| country &lt;fct&gt; | continent &lt;fct&gt; | year &lt;int&gt; | lifeExp &lt;dbl&gt; | pop &lt;int&gt; | gdpPercap &lt;dbl&gt; |\n",
       "|---|---|---|---|---|---|\n",
       "| Zimbabwe | Africa | 1952 | 48.451 | 3080907 | 406.8841 |\n",
       "| Zimbabwe | Africa | 1957 | 50.469 | 3646340 | 518.7643 |\n",
       "| Zimbabwe | Africa | 1962 | 52.358 | 4277736 | 527.2722 |\n",
       "| Zimbabwe | Africa | 1967 | 53.995 | 4995432 | 569.7951 |\n",
       "| Zimbabwe | Africa | 1972 | 55.635 | 5861135 | 799.3622 |\n",
       "| Zimbabwe | Africa | 1977 | 57.674 | 6642107 | 685.5877 |\n",
       "\n"
      ],
      "text/plain": [
       "  country  continent year lifeExp pop     gdpPercap\n",
       "1 Zimbabwe Africa    1952 48.451  3080907 406.8841 \n",
       "2 Zimbabwe Africa    1957 50.469  3646340 518.7643 \n",
       "3 Zimbabwe Africa    1962 52.358  4277736 527.2722 \n",
       "4 Zimbabwe Africa    1967 53.995  4995432 569.7951 \n",
       "5 Zimbabwe Africa    1972 55.635  5861135 799.3622 \n",
       "6 Zimbabwe Africa    1977 57.674  6642107 685.5877 "
      ]
     },
     "metadata": {},
     "output_type": "display_data"
    }
   ],
   "source": [
    "# sort by pop\n",
    "t <- gapminder %>% arrange(continent)\n",
    "t <- gapminder %>% arrange(continent,  country)\n",
    "t <- gapminder %>% arrange(continent, desc( country))\n",
    "head(t)"
   ]
  },
  {
   "cell_type": "markdown",
   "id": "9026c3ce",
   "metadata": {},
   "source": [
    "---"
   ]
  },
  {
   "cell_type": "markdown",
   "id": "656b5a94",
   "metadata": {},
   "source": [
    "### Create new variables with **`mutate()`**"
   ]
  },
  {
   "cell_type": "markdown",
   "id": "836d2b56",
   "metadata": {},
   "source": [
    "`mutate(.data, …)` compute new column(s). \n",
    "Lets compute new column for `data2002` $gdpTotal = gdpPercap * pop / 1000000$.\n"
   ]
  },
  {
   "cell_type": "code",
   "execution_count": 164,
   "id": "525ac7f0",
   "metadata": {
    "vscode": {
     "languageId": "r"
    }
   },
   "outputs": [
    {
     "data": {
      "text/html": [
       "<table class=\"dataframe\">\n",
       "<caption>A tibble: 10 × 7</caption>\n",
       "<thead>\n",
       "\t<tr><th scope=col>country</th><th scope=col>continent</th><th scope=col>year</th><th scope=col>lifeExp</th><th scope=col>pop</th><th scope=col>gdpPercap</th><th scope=col>gdpTotal</th></tr>\n",
       "\t<tr><th scope=col>&lt;fct&gt;</th><th scope=col>&lt;fct&gt;</th><th scope=col>&lt;int&gt;</th><th scope=col>&lt;dbl&gt;</th><th scope=col>&lt;int&gt;</th><th scope=col>&lt;dbl&gt;</th><th scope=col>&lt;dbl&gt;</th></tr>\n",
       "</thead>\n",
       "<tbody>\n",
       "\t<tr><td>Afghanistan</td><td>Asia</td><td>1952</td><td>28.801</td><td> 8425333</td><td>779.4453</td><td> 6567086330</td></tr>\n",
       "\t<tr><td>Afghanistan</td><td>Asia</td><td>1957</td><td>30.332</td><td> 9240934</td><td>820.8530</td><td> 7585448670</td></tr>\n",
       "\t<tr><td>Afghanistan</td><td>Asia</td><td>1962</td><td>31.997</td><td>10267083</td><td>853.1007</td><td> 8758855797</td></tr>\n",
       "\t<tr><td>Afghanistan</td><td>Asia</td><td>1967</td><td>34.020</td><td>11537966</td><td>836.1971</td><td> 9648014150</td></tr>\n",
       "\t<tr><td>Afghanistan</td><td>Asia</td><td>1972</td><td>36.088</td><td>13079460</td><td>739.9811</td><td> 9678553274</td></tr>\n",
       "\t<tr><td>Afghanistan</td><td>Asia</td><td>1977</td><td>38.438</td><td>14880372</td><td>786.1134</td><td>11697659231</td></tr>\n",
       "\t<tr><td>Afghanistan</td><td>Asia</td><td>1982</td><td>39.854</td><td>12881816</td><td>978.0114</td><td>12598563401</td></tr>\n",
       "\t<tr><td>Afghanistan</td><td>Asia</td><td>1987</td><td>40.822</td><td>13867957</td><td>852.3959</td><td>11820990309</td></tr>\n",
       "\t<tr><td>Afghanistan</td><td>Asia</td><td>1992</td><td>41.674</td><td>16317921</td><td>649.3414</td><td>10595901589</td></tr>\n",
       "\t<tr><td>Afghanistan</td><td>Asia</td><td>1997</td><td>41.763</td><td>22227415</td><td>635.3414</td><td>14121995875</td></tr>\n",
       "</tbody>\n",
       "</table>\n"
      ],
      "text/latex": [
       "A tibble: 10 × 7\n",
       "\\begin{tabular}{lllllll}\n",
       " country & continent & year & lifeExp & pop & gdpPercap & gdpTotal\\\\\n",
       " <fct> & <fct> & <int> & <dbl> & <int> & <dbl> & <dbl>\\\\\n",
       "\\hline\n",
       "\t Afghanistan & Asia & 1952 & 28.801 &  8425333 & 779.4453 &  6567086330\\\\\n",
       "\t Afghanistan & Asia & 1957 & 30.332 &  9240934 & 820.8530 &  7585448670\\\\\n",
       "\t Afghanistan & Asia & 1962 & 31.997 & 10267083 & 853.1007 &  8758855797\\\\\n",
       "\t Afghanistan & Asia & 1967 & 34.020 & 11537966 & 836.1971 &  9648014150\\\\\n",
       "\t Afghanistan & Asia & 1972 & 36.088 & 13079460 & 739.9811 &  9678553274\\\\\n",
       "\t Afghanistan & Asia & 1977 & 38.438 & 14880372 & 786.1134 & 11697659231\\\\\n",
       "\t Afghanistan & Asia & 1982 & 39.854 & 12881816 & 978.0114 & 12598563401\\\\\n",
       "\t Afghanistan & Asia & 1987 & 40.822 & 13867957 & 852.3959 & 11820990309\\\\\n",
       "\t Afghanistan & Asia & 1992 & 41.674 & 16317921 & 649.3414 & 10595901589\\\\\n",
       "\t Afghanistan & Asia & 1997 & 41.763 & 22227415 & 635.3414 & 14121995875\\\\\n",
       "\\end{tabular}\n"
      ],
      "text/markdown": [
       "\n",
       "A tibble: 10 × 7\n",
       "\n",
       "| country &lt;fct&gt; | continent &lt;fct&gt; | year &lt;int&gt; | lifeExp &lt;dbl&gt; | pop &lt;int&gt; | gdpPercap &lt;dbl&gt; | gdpTotal &lt;dbl&gt; |\n",
       "|---|---|---|---|---|---|---|\n",
       "| Afghanistan | Asia | 1952 | 28.801 |  8425333 | 779.4453 |  6567086330 |\n",
       "| Afghanistan | Asia | 1957 | 30.332 |  9240934 | 820.8530 |  7585448670 |\n",
       "| Afghanistan | Asia | 1962 | 31.997 | 10267083 | 853.1007 |  8758855797 |\n",
       "| Afghanistan | Asia | 1967 | 34.020 | 11537966 | 836.1971 |  9648014150 |\n",
       "| Afghanistan | Asia | 1972 | 36.088 | 13079460 | 739.9811 |  9678553274 |\n",
       "| Afghanistan | Asia | 1977 | 38.438 | 14880372 | 786.1134 | 11697659231 |\n",
       "| Afghanistan | Asia | 1982 | 39.854 | 12881816 | 978.0114 | 12598563401 |\n",
       "| Afghanistan | Asia | 1987 | 40.822 | 13867957 | 852.3959 | 11820990309 |\n",
       "| Afghanistan | Asia | 1992 | 41.674 | 16317921 | 649.3414 | 10595901589 |\n",
       "| Afghanistan | Asia | 1997 | 41.763 | 22227415 | 635.3414 | 14121995875 |\n",
       "\n"
      ],
      "text/plain": [
       "   country     continent year lifeExp pop      gdpPercap gdpTotal   \n",
       "1  Afghanistan Asia      1952 28.801   8425333 779.4453   6567086330\n",
       "2  Afghanistan Asia      1957 30.332   9240934 820.8530   7585448670\n",
       "3  Afghanistan Asia      1962 31.997  10267083 853.1007   8758855797\n",
       "4  Afghanistan Asia      1967 34.020  11537966 836.1971   9648014150\n",
       "5  Afghanistan Asia      1972 36.088  13079460 739.9811   9678553274\n",
       "6  Afghanistan Asia      1977 38.438  14880372 786.1134  11697659231\n",
       "7  Afghanistan Asia      1982 39.854  12881816 978.0114  12598563401\n",
       "8  Afghanistan Asia      1987 40.822  13867957 852.3959  11820990309\n",
       "9  Afghanistan Asia      1992 41.674  16317921 649.3414  10595901589\n",
       "10 Afghanistan Asia      1997 41.763  22227415 635.3414  14121995875"
      ]
     },
     "metadata": {},
     "output_type": "display_data"
    }
   ],
   "source": [
    "gapminder %>% \n",
    "    mutate(gdpTotal = gdpPercap * pop) %>%\n",
    "    head(10)"
   ]
  },
  {
   "cell_type": "markdown",
   "id": "13ec3900",
   "metadata": {},
   "source": [
    "`transmute(.data, …)` compute new column(s), drop others."
   ]
  },
  {
   "cell_type": "code",
   "execution_count": 165,
   "id": "a7b641a5",
   "metadata": {
    "vscode": {
     "languageId": "r"
    }
   },
   "outputs": [
    {
     "data": {
      "text/html": [
       "<table class=\"dataframe\">\n",
       "<caption>A tibble: 10 × 1</caption>\n",
       "<thead>\n",
       "\t<tr><th scope=col>gdpTotal</th></tr>\n",
       "\t<tr><th scope=col>&lt;dbl&gt;</th></tr>\n",
       "</thead>\n",
       "<tbody>\n",
       "\t<tr><td> 6567086330</td></tr>\n",
       "\t<tr><td> 7585448670</td></tr>\n",
       "\t<tr><td> 8758855797</td></tr>\n",
       "\t<tr><td> 9648014150</td></tr>\n",
       "\t<tr><td> 9678553274</td></tr>\n",
       "\t<tr><td>11697659231</td></tr>\n",
       "\t<tr><td>12598563401</td></tr>\n",
       "\t<tr><td>11820990309</td></tr>\n",
       "\t<tr><td>10595901589</td></tr>\n",
       "\t<tr><td>14121995875</td></tr>\n",
       "</tbody>\n",
       "</table>\n"
      ],
      "text/latex": [
       "A tibble: 10 × 1\n",
       "\\begin{tabular}{l}\n",
       " gdpTotal\\\\\n",
       " <dbl>\\\\\n",
       "\\hline\n",
       "\t  6567086330\\\\\n",
       "\t  7585448670\\\\\n",
       "\t  8758855797\\\\\n",
       "\t  9648014150\\\\\n",
       "\t  9678553274\\\\\n",
       "\t 11697659231\\\\\n",
       "\t 12598563401\\\\\n",
       "\t 11820990309\\\\\n",
       "\t 10595901589\\\\\n",
       "\t 14121995875\\\\\n",
       "\\end{tabular}\n"
      ],
      "text/markdown": [
       "\n",
       "A tibble: 10 × 1\n",
       "\n",
       "| gdpTotal &lt;dbl&gt; |\n",
       "|---|\n",
       "|  6567086330 |\n",
       "|  7585448670 |\n",
       "|  8758855797 |\n",
       "|  9648014150 |\n",
       "|  9678553274 |\n",
       "| 11697659231 |\n",
       "| 12598563401 |\n",
       "| 11820990309 |\n",
       "| 10595901589 |\n",
       "| 14121995875 |\n",
       "\n"
      ],
      "text/plain": [
       "   gdpTotal   \n",
       "1   6567086330\n",
       "2   7585448670\n",
       "3   8758855797\n",
       "4   9648014150\n",
       "5   9678553274\n",
       "6  11697659231\n",
       "7  12598563401\n",
       "8  11820990309\n",
       "9  10595901589\n",
       "10 14121995875"
      ]
     },
     "metadata": {},
     "output_type": "display_data"
    }
   ],
   "source": [
    "gapminder %>% \n",
    "    transmute(gdpTotal = gdpPercap * pop) %>%\n",
    "    head(10)"
   ]
  },
  {
   "cell_type": "markdown",
   "id": "029b3560",
   "metadata": {},
   "source": [
    "You can `mutate` many columns at once:"
   ]
  },
  {
   "cell_type": "code",
   "execution_count": 166,
   "id": "33f91f87",
   "metadata": {
    "scrolled": true,
    "vscode": {
     "languageId": "r"
    }
   },
   "outputs": [
    {
     "data": {
      "text/html": [
       "<table class=\"dataframe\">\n",
       "<caption>A tibble: 10 × 9</caption>\n",
       "<thead>\n",
       "\t<tr><th scope=col>country</th><th scope=col>continent</th><th scope=col>year</th><th scope=col>lifeExp</th><th scope=col>pop</th><th scope=col>gdpPercap</th><th scope=col>gdpTotal</th><th scope=col>countryUpper</th><th scope=col>lifeExpRounded</th></tr>\n",
       "\t<tr><th scope=col>&lt;fct&gt;</th><th scope=col>&lt;fct&gt;</th><th scope=col>&lt;int&gt;</th><th scope=col>&lt;dbl&gt;</th><th scope=col>&lt;int&gt;</th><th scope=col>&lt;dbl&gt;</th><th scope=col>&lt;dbl&gt;</th><th scope=col>&lt;chr&gt;</th><th scope=col>&lt;dbl&gt;</th></tr>\n",
       "</thead>\n",
       "<tbody>\n",
       "\t<tr><td>Afghanistan</td><td>Asia</td><td>1952</td><td>28.801</td><td> 8425333</td><td>779.4453</td><td> 6567086330</td><td>AFGHANISTAN</td><td>29</td></tr>\n",
       "\t<tr><td>Afghanistan</td><td>Asia</td><td>1957</td><td>30.332</td><td> 9240934</td><td>820.8530</td><td> 7585448670</td><td>AFGHANISTAN</td><td>30</td></tr>\n",
       "\t<tr><td>Afghanistan</td><td>Asia</td><td>1962</td><td>31.997</td><td>10267083</td><td>853.1007</td><td> 8758855797</td><td>AFGHANISTAN</td><td>32</td></tr>\n",
       "\t<tr><td>Afghanistan</td><td>Asia</td><td>1967</td><td>34.020</td><td>11537966</td><td>836.1971</td><td> 9648014150</td><td>AFGHANISTAN</td><td>34</td></tr>\n",
       "\t<tr><td>Afghanistan</td><td>Asia</td><td>1972</td><td>36.088</td><td>13079460</td><td>739.9811</td><td> 9678553274</td><td>AFGHANISTAN</td><td>36</td></tr>\n",
       "\t<tr><td>Afghanistan</td><td>Asia</td><td>1977</td><td>38.438</td><td>14880372</td><td>786.1134</td><td>11697659231</td><td>AFGHANISTAN</td><td>38</td></tr>\n",
       "\t<tr><td>Afghanistan</td><td>Asia</td><td>1982</td><td>39.854</td><td>12881816</td><td>978.0114</td><td>12598563401</td><td>AFGHANISTAN</td><td>40</td></tr>\n",
       "\t<tr><td>Afghanistan</td><td>Asia</td><td>1987</td><td>40.822</td><td>13867957</td><td>852.3959</td><td>11820990309</td><td>AFGHANISTAN</td><td>41</td></tr>\n",
       "\t<tr><td>Afghanistan</td><td>Asia</td><td>1992</td><td>41.674</td><td>16317921</td><td>649.3414</td><td>10595901589</td><td>AFGHANISTAN</td><td>42</td></tr>\n",
       "\t<tr><td>Afghanistan</td><td>Asia</td><td>1997</td><td>41.763</td><td>22227415</td><td>635.3414</td><td>14121995875</td><td>AFGHANISTAN</td><td>42</td></tr>\n",
       "</tbody>\n",
       "</table>\n"
      ],
      "text/latex": [
       "A tibble: 10 × 9\n",
       "\\begin{tabular}{lllllllll}\n",
       " country & continent & year & lifeExp & pop & gdpPercap & gdpTotal & countryUpper & lifeExpRounded\\\\\n",
       " <fct> & <fct> & <int> & <dbl> & <int> & <dbl> & <dbl> & <chr> & <dbl>\\\\\n",
       "\\hline\n",
       "\t Afghanistan & Asia & 1952 & 28.801 &  8425333 & 779.4453 &  6567086330 & AFGHANISTAN & 29\\\\\n",
       "\t Afghanistan & Asia & 1957 & 30.332 &  9240934 & 820.8530 &  7585448670 & AFGHANISTAN & 30\\\\\n",
       "\t Afghanistan & Asia & 1962 & 31.997 & 10267083 & 853.1007 &  8758855797 & AFGHANISTAN & 32\\\\\n",
       "\t Afghanistan & Asia & 1967 & 34.020 & 11537966 & 836.1971 &  9648014150 & AFGHANISTAN & 34\\\\\n",
       "\t Afghanistan & Asia & 1972 & 36.088 & 13079460 & 739.9811 &  9678553274 & AFGHANISTAN & 36\\\\\n",
       "\t Afghanistan & Asia & 1977 & 38.438 & 14880372 & 786.1134 & 11697659231 & AFGHANISTAN & 38\\\\\n",
       "\t Afghanistan & Asia & 1982 & 39.854 & 12881816 & 978.0114 & 12598563401 & AFGHANISTAN & 40\\\\\n",
       "\t Afghanistan & Asia & 1987 & 40.822 & 13867957 & 852.3959 & 11820990309 & AFGHANISTAN & 41\\\\\n",
       "\t Afghanistan & Asia & 1992 & 41.674 & 16317921 & 649.3414 & 10595901589 & AFGHANISTAN & 42\\\\\n",
       "\t Afghanistan & Asia & 1997 & 41.763 & 22227415 & 635.3414 & 14121995875 & AFGHANISTAN & 42\\\\\n",
       "\\end{tabular}\n"
      ],
      "text/markdown": [
       "\n",
       "A tibble: 10 × 9\n",
       "\n",
       "| country &lt;fct&gt; | continent &lt;fct&gt; | year &lt;int&gt; | lifeExp &lt;dbl&gt; | pop &lt;int&gt; | gdpPercap &lt;dbl&gt; | gdpTotal &lt;dbl&gt; | countryUpper &lt;chr&gt; | lifeExpRounded &lt;dbl&gt; |\n",
       "|---|---|---|---|---|---|---|---|---|\n",
       "| Afghanistan | Asia | 1952 | 28.801 |  8425333 | 779.4453 |  6567086330 | AFGHANISTAN | 29 |\n",
       "| Afghanistan | Asia | 1957 | 30.332 |  9240934 | 820.8530 |  7585448670 | AFGHANISTAN | 30 |\n",
       "| Afghanistan | Asia | 1962 | 31.997 | 10267083 | 853.1007 |  8758855797 | AFGHANISTAN | 32 |\n",
       "| Afghanistan | Asia | 1967 | 34.020 | 11537966 | 836.1971 |  9648014150 | AFGHANISTAN | 34 |\n",
       "| Afghanistan | Asia | 1972 | 36.088 | 13079460 | 739.9811 |  9678553274 | AFGHANISTAN | 36 |\n",
       "| Afghanistan | Asia | 1977 | 38.438 | 14880372 | 786.1134 | 11697659231 | AFGHANISTAN | 38 |\n",
       "| Afghanistan | Asia | 1982 | 39.854 | 12881816 | 978.0114 | 12598563401 | AFGHANISTAN | 40 |\n",
       "| Afghanistan | Asia | 1987 | 40.822 | 13867957 | 852.3959 | 11820990309 | AFGHANISTAN | 41 |\n",
       "| Afghanistan | Asia | 1992 | 41.674 | 16317921 | 649.3414 | 10595901589 | AFGHANISTAN | 42 |\n",
       "| Afghanistan | Asia | 1997 | 41.763 | 22227415 | 635.3414 | 14121995875 | AFGHANISTAN | 42 |\n",
       "\n"
      ],
      "text/plain": [
       "   country     continent year lifeExp pop      gdpPercap gdpTotal   \n",
       "1  Afghanistan Asia      1952 28.801   8425333 779.4453   6567086330\n",
       "2  Afghanistan Asia      1957 30.332   9240934 820.8530   7585448670\n",
       "3  Afghanistan Asia      1962 31.997  10267083 853.1007   8758855797\n",
       "4  Afghanistan Asia      1967 34.020  11537966 836.1971   9648014150\n",
       "5  Afghanistan Asia      1972 36.088  13079460 739.9811   9678553274\n",
       "6  Afghanistan Asia      1977 38.438  14880372 786.1134  11697659231\n",
       "7  Afghanistan Asia      1982 39.854  12881816 978.0114  12598563401\n",
       "8  Afghanistan Asia      1987 40.822  13867957 852.3959  11820990309\n",
       "9  Afghanistan Asia      1992 41.674  16317921 649.3414  10595901589\n",
       "10 Afghanistan Asia      1997 41.763  22227415 635.3414  14121995875\n",
       "   countryUpper lifeExpRounded\n",
       "1  AFGHANISTAN  29            \n",
       "2  AFGHANISTAN  30            \n",
       "3  AFGHANISTAN  32            \n",
       "4  AFGHANISTAN  34            \n",
       "5  AFGHANISTAN  36            \n",
       "6  AFGHANISTAN  38            \n",
       "7  AFGHANISTAN  40            \n",
       "8  AFGHANISTAN  41            \n",
       "9  AFGHANISTAN  42            \n",
       "10 AFGHANISTAN  42            "
      ]
     },
     "metadata": {},
     "output_type": "display_data"
    }
   ],
   "source": [
    "gapminder %>% \n",
    "    mutate(gdpTotal = gdpPercap * pop,\n",
    "           countryUpper = toupper(country), # uppercase country\n",
    "           lifeExpRounded = round(lifeExp)) %>%\n",
    "    head(10)"
   ]
  },
  {
   "cell_type": "markdown",
   "id": "975ae088",
   "metadata": {},
   "source": [
    "You also can edit existing column (let's change `continent Europe` to `EU` in dataframe):"
   ]
  },
  {
   "cell_type": "code",
   "execution_count": 167,
   "id": "05ea5162",
   "metadata": {
    "vscode": {
     "languageId": "r"
    }
   },
   "outputs": [
    {
     "data": {
      "text/html": [
       "<table class=\"dataframe\">\n",
       "<caption>A tibble: 10 × 6</caption>\n",
       "<thead>\n",
       "\t<tr><th scope=col>country</th><th scope=col>continent</th><th scope=col>year</th><th scope=col>lifeExp</th><th scope=col>pop</th><th scope=col>gdpPercap</th></tr>\n",
       "\t<tr><th scope=col>&lt;fct&gt;</th><th scope=col>&lt;chr&gt;</th><th scope=col>&lt;int&gt;</th><th scope=col>&lt;dbl&gt;</th><th scope=col>&lt;int&gt;</th><th scope=col>&lt;dbl&gt;</th></tr>\n",
       "</thead>\n",
       "<tbody>\n",
       "\t<tr><td>Australia       </td><td>Oceania </td><td>2002</td><td>80.370</td><td> 19546792</td><td>30687.75</td></tr>\n",
       "\t<tr><td>Canada          </td><td>Americas</td><td>2002</td><td>79.770</td><td> 31902268</td><td>33328.97</td></tr>\n",
       "\t<tr><td>Hong Kong, China</td><td>Asia    </td><td>2002</td><td>81.495</td><td>  6762476</td><td>30209.02</td></tr>\n",
       "\t<tr><td>Iceland         </td><td>EU      </td><td>2002</td><td>80.500</td><td>   288030</td><td>31163.20</td></tr>\n",
       "\t<tr><td>Israel          </td><td>Asia    </td><td>2002</td><td>79.696</td><td>  6029529</td><td>21905.60</td></tr>\n",
       "\t<tr><td>Italy           </td><td>EU      </td><td>2002</td><td>80.240</td><td> 57926999</td><td>27968.10</td></tr>\n",
       "\t<tr><td>Japan           </td><td>Asia    </td><td>2002</td><td>82.000</td><td>127065841</td><td>28604.59</td></tr>\n",
       "\t<tr><td>Spain           </td><td>EU      </td><td>2002</td><td>79.780</td><td> 40152517</td><td>24835.47</td></tr>\n",
       "\t<tr><td>Sweden          </td><td>EU      </td><td>2002</td><td>80.040</td><td>  8954175</td><td>29341.63</td></tr>\n",
       "\t<tr><td>Switzerland     </td><td>EU      </td><td>2002</td><td>80.620</td><td>  7361757</td><td>34480.96</td></tr>\n",
       "</tbody>\n",
       "</table>\n"
      ],
      "text/latex": [
       "A tibble: 10 × 6\n",
       "\\begin{tabular}{llllll}\n",
       " country & continent & year & lifeExp & pop & gdpPercap\\\\\n",
       " <fct> & <chr> & <int> & <dbl> & <int> & <dbl>\\\\\n",
       "\\hline\n",
       "\t Australia        & Oceania  & 2002 & 80.370 &  19546792 & 30687.75\\\\\n",
       "\t Canada           & Americas & 2002 & 79.770 &  31902268 & 33328.97\\\\\n",
       "\t Hong Kong, China & Asia     & 2002 & 81.495 &   6762476 & 30209.02\\\\\n",
       "\t Iceland          & EU       & 2002 & 80.500 &    288030 & 31163.20\\\\\n",
       "\t Israel           & Asia     & 2002 & 79.696 &   6029529 & 21905.60\\\\\n",
       "\t Italy            & EU       & 2002 & 80.240 &  57926999 & 27968.10\\\\\n",
       "\t Japan            & Asia     & 2002 & 82.000 & 127065841 & 28604.59\\\\\n",
       "\t Spain            & EU       & 2002 & 79.780 &  40152517 & 24835.47\\\\\n",
       "\t Sweden           & EU       & 2002 & 80.040 &   8954175 & 29341.63\\\\\n",
       "\t Switzerland      & EU       & 2002 & 80.620 &   7361757 & 34480.96\\\\\n",
       "\\end{tabular}\n"
      ],
      "text/markdown": [
       "\n",
       "A tibble: 10 × 6\n",
       "\n",
       "| country &lt;fct&gt; | continent &lt;chr&gt; | year &lt;int&gt; | lifeExp &lt;dbl&gt; | pop &lt;int&gt; | gdpPercap &lt;dbl&gt; |\n",
       "|---|---|---|---|---|---|\n",
       "| Australia        | Oceania  | 2002 | 80.370 |  19546792 | 30687.75 |\n",
       "| Canada           | Americas | 2002 | 79.770 |  31902268 | 33328.97 |\n",
       "| Hong Kong, China | Asia     | 2002 | 81.495 |   6762476 | 30209.02 |\n",
       "| Iceland          | EU       | 2002 | 80.500 |    288030 | 31163.20 |\n",
       "| Israel           | Asia     | 2002 | 79.696 |   6029529 | 21905.60 |\n",
       "| Italy            | EU       | 2002 | 80.240 |  57926999 | 27968.10 |\n",
       "| Japan            | Asia     | 2002 | 82.000 | 127065841 | 28604.59 |\n",
       "| Spain            | EU       | 2002 | 79.780 |  40152517 | 24835.47 |\n",
       "| Sweden           | EU       | 2002 | 80.040 |   8954175 | 29341.63 |\n",
       "| Switzerland      | EU       | 2002 | 80.620 |   7361757 | 34480.96 |\n",
       "\n"
      ],
      "text/plain": [
       "   country          continent year lifeExp pop       gdpPercap\n",
       "1  Australia        Oceania   2002 80.370   19546792 30687.75 \n",
       "2  Canada           Americas  2002 79.770   31902268 33328.97 \n",
       "3  Hong Kong, China Asia      2002 81.495    6762476 30209.02 \n",
       "4  Iceland          EU        2002 80.500     288030 31163.20 \n",
       "5  Israel           Asia      2002 79.696    6029529 21905.60 \n",
       "6  Italy            EU        2002 80.240   57926999 27968.10 \n",
       "7  Japan            Asia      2002 82.000  127065841 28604.59 \n",
       "8  Spain            EU        2002 79.780   40152517 24835.47 \n",
       "9  Sweden           EU        2002 80.040    8954175 29341.63 \n",
       "10 Switzerland      EU        2002 80.620    7361757 34480.96 "
      ]
     },
     "metadata": {},
     "output_type": "display_data"
    }
   ],
   "source": [
    "data2002 %>%\n",
    "    mutate(continent = as.character(continent), # convert factor -> character \n",
    "           continent = ifelse(continent == \"Europe\", \"EU\", continent))"
   ]
  },
  {
   "cell_type": "markdown",
   "id": "d965f0a9-3e1a-41a1-8559-60e4ca7d1317",
   "metadata": {},
   "source": [
    "---"
   ]
  },
  {
   "cell_type": "markdown",
   "id": "56fe42e7",
   "metadata": {},
   "source": [
    "### Renaming columns with **`rename()`**"
   ]
  },
  {
   "cell_type": "markdown",
   "id": "c321e07c",
   "metadata": {},
   "source": [
    "`rename(.data, …)` rename columns.\n",
    "Let's rename column `pop` to poulation:"
   ]
  },
  {
   "cell_type": "code",
   "execution_count": 168,
   "id": "df58542c",
   "metadata": {
    "vscode": {
     "languageId": "r"
    }
   },
   "outputs": [
    {
     "data": {
      "text/html": [
       "<table class=\"dataframe\">\n",
       "<caption>A tibble: 10 × 6</caption>\n",
       "<thead>\n",
       "\t<tr><th scope=col>country</th><th scope=col>continent</th><th scope=col>year</th><th scope=col>lifeExp</th><th scope=col>population</th><th scope=col>gdpPercap</th></tr>\n",
       "\t<tr><th scope=col>&lt;fct&gt;</th><th scope=col>&lt;fct&gt;</th><th scope=col>&lt;int&gt;</th><th scope=col>&lt;dbl&gt;</th><th scope=col>&lt;int&gt;</th><th scope=col>&lt;dbl&gt;</th></tr>\n",
       "</thead>\n",
       "<tbody>\n",
       "\t<tr><td>Afghanistan</td><td>Asia</td><td>1952</td><td>28.801</td><td> 8425333</td><td>779.4453</td></tr>\n",
       "\t<tr><td>Afghanistan</td><td>Asia</td><td>1957</td><td>30.332</td><td> 9240934</td><td>820.8530</td></tr>\n",
       "\t<tr><td>Afghanistan</td><td>Asia</td><td>1962</td><td>31.997</td><td>10267083</td><td>853.1007</td></tr>\n",
       "\t<tr><td>Afghanistan</td><td>Asia</td><td>1967</td><td>34.020</td><td>11537966</td><td>836.1971</td></tr>\n",
       "\t<tr><td>Afghanistan</td><td>Asia</td><td>1972</td><td>36.088</td><td>13079460</td><td>739.9811</td></tr>\n",
       "\t<tr><td>Afghanistan</td><td>Asia</td><td>1977</td><td>38.438</td><td>14880372</td><td>786.1134</td></tr>\n",
       "\t<tr><td>Afghanistan</td><td>Asia</td><td>1982</td><td>39.854</td><td>12881816</td><td>978.0114</td></tr>\n",
       "\t<tr><td>Afghanistan</td><td>Asia</td><td>1987</td><td>40.822</td><td>13867957</td><td>852.3959</td></tr>\n",
       "\t<tr><td>Afghanistan</td><td>Asia</td><td>1992</td><td>41.674</td><td>16317921</td><td>649.3414</td></tr>\n",
       "\t<tr><td>Afghanistan</td><td>Asia</td><td>1997</td><td>41.763</td><td>22227415</td><td>635.3414</td></tr>\n",
       "</tbody>\n",
       "</table>\n"
      ],
      "text/latex": [
       "A tibble: 10 × 6\n",
       "\\begin{tabular}{llllll}\n",
       " country & continent & year & lifeExp & population & gdpPercap\\\\\n",
       " <fct> & <fct> & <int> & <dbl> & <int> & <dbl>\\\\\n",
       "\\hline\n",
       "\t Afghanistan & Asia & 1952 & 28.801 &  8425333 & 779.4453\\\\\n",
       "\t Afghanistan & Asia & 1957 & 30.332 &  9240934 & 820.8530\\\\\n",
       "\t Afghanistan & Asia & 1962 & 31.997 & 10267083 & 853.1007\\\\\n",
       "\t Afghanistan & Asia & 1967 & 34.020 & 11537966 & 836.1971\\\\\n",
       "\t Afghanistan & Asia & 1972 & 36.088 & 13079460 & 739.9811\\\\\n",
       "\t Afghanistan & Asia & 1977 & 38.438 & 14880372 & 786.1134\\\\\n",
       "\t Afghanistan & Asia & 1982 & 39.854 & 12881816 & 978.0114\\\\\n",
       "\t Afghanistan & Asia & 1987 & 40.822 & 13867957 & 852.3959\\\\\n",
       "\t Afghanistan & Asia & 1992 & 41.674 & 16317921 & 649.3414\\\\\n",
       "\t Afghanistan & Asia & 1997 & 41.763 & 22227415 & 635.3414\\\\\n",
       "\\end{tabular}\n"
      ],
      "text/markdown": [
       "\n",
       "A tibble: 10 × 6\n",
       "\n",
       "| country &lt;fct&gt; | continent &lt;fct&gt; | year &lt;int&gt; | lifeExp &lt;dbl&gt; | population &lt;int&gt; | gdpPercap &lt;dbl&gt; |\n",
       "|---|---|---|---|---|---|\n",
       "| Afghanistan | Asia | 1952 | 28.801 |  8425333 | 779.4453 |\n",
       "| Afghanistan | Asia | 1957 | 30.332 |  9240934 | 820.8530 |\n",
       "| Afghanistan | Asia | 1962 | 31.997 | 10267083 | 853.1007 |\n",
       "| Afghanistan | Asia | 1967 | 34.020 | 11537966 | 836.1971 |\n",
       "| Afghanistan | Asia | 1972 | 36.088 | 13079460 | 739.9811 |\n",
       "| Afghanistan | Asia | 1977 | 38.438 | 14880372 | 786.1134 |\n",
       "| Afghanistan | Asia | 1982 | 39.854 | 12881816 | 978.0114 |\n",
       "| Afghanistan | Asia | 1987 | 40.822 | 13867957 | 852.3959 |\n",
       "| Afghanistan | Asia | 1992 | 41.674 | 16317921 | 649.3414 |\n",
       "| Afghanistan | Asia | 1997 | 41.763 | 22227415 | 635.3414 |\n",
       "\n"
      ],
      "text/plain": [
       "   country     continent year lifeExp population gdpPercap\n",
       "1  Afghanistan Asia      1952 28.801   8425333   779.4453 \n",
       "2  Afghanistan Asia      1957 30.332   9240934   820.8530 \n",
       "3  Afghanistan Asia      1962 31.997  10267083   853.1007 \n",
       "4  Afghanistan Asia      1967 34.020  11537966   836.1971 \n",
       "5  Afghanistan Asia      1972 36.088  13079460   739.9811 \n",
       "6  Afghanistan Asia      1977 38.438  14880372   786.1134 \n",
       "7  Afghanistan Asia      1982 39.854  12881816   978.0114 \n",
       "8  Afghanistan Asia      1987 40.822  13867957   852.3959 \n",
       "9  Afghanistan Asia      1992 41.674  16317921   649.3414 \n",
       "10 Afghanistan Asia      1997 41.763  22227415   635.3414 "
      ]
     },
     "metadata": {},
     "output_type": "display_data"
    }
   ],
   "source": [
    "gapminder %>% \n",
    "    rename(population = pop) %>%\n",
    "    head(10)"
   ]
  },
  {
   "cell_type": "markdown",
   "id": "734a6a3a",
   "metadata": {},
   "source": [
    "---"
   ]
  },
  {
   "cell_type": "markdown",
   "id": "62be0748",
   "metadata": {},
   "source": [
    "### Calculations with **`group_by()`** + **`summarise()`**"
   ]
  },
  {
   "cell_type": "markdown",
   "id": "329500f2",
   "metadata": {},
   "source": [
    "`group_by(.data, ..., add = FALSE)` returns copy of table grouped by defined columns."
   ]
  },
  {
   "cell_type": "markdown",
   "id": "7bf9daf6",
   "metadata": {},
   "source": [
    "Let's find average by `lifeExp` for each `continent` in `2002` (ouput is `continent`, `lifeExpAvg2002`, `countriesCount`, `year = 2002`):"
   ]
  },
  {
   "cell_type": "code",
   "execution_count": 169,
   "id": "7191cd13",
   "metadata": {
    "vscode": {
     "languageId": "r"
    }
   },
   "outputs": [
    {
     "name": "stderr",
     "output_type": "stream",
     "text": [
      "\u001b[1m\u001b[22m`summarise()` has grouped output by 'continent'. You can override using the\n",
      "`.groups` argument.\n"
     ]
    },
    {
     "data": {
      "text/html": [
       "<table class=\"dataframe\">\n",
       "<caption>A grouped_df: 5 × 4</caption>\n",
       "<thead>\n",
       "\t<tr><th scope=col>continent</th><th scope=col>year</th><th scope=col>lifeExpAvg2002</th><th scope=col>countriesCount</th></tr>\n",
       "\t<tr><th scope=col>&lt;fct&gt;</th><th scope=col>&lt;int&gt;</th><th scope=col>&lt;dbl&gt;</th><th scope=col>&lt;int&gt;</th></tr>\n",
       "</thead>\n",
       "<tbody>\n",
       "\t<tr><td>Africa  </td><td>2002</td><td>53.32523</td><td>52</td></tr>\n",
       "\t<tr><td>Americas</td><td>2002</td><td>72.42204</td><td>25</td></tr>\n",
       "\t<tr><td>Asia    </td><td>2002</td><td>69.23388</td><td>33</td></tr>\n",
       "\t<tr><td>Europe  </td><td>2002</td><td>76.70060</td><td>30</td></tr>\n",
       "\t<tr><td>Oceania </td><td>2002</td><td>79.74000</td><td> 2</td></tr>\n",
       "</tbody>\n",
       "</table>\n"
      ],
      "text/latex": [
       "A grouped\\_df: 5 × 4\n",
       "\\begin{tabular}{llll}\n",
       " continent & year & lifeExpAvg2002 & countriesCount\\\\\n",
       " <fct> & <int> & <dbl> & <int>\\\\\n",
       "\\hline\n",
       "\t Africa   & 2002 & 53.32523 & 52\\\\\n",
       "\t Americas & 2002 & 72.42204 & 25\\\\\n",
       "\t Asia     & 2002 & 69.23388 & 33\\\\\n",
       "\t Europe   & 2002 & 76.70060 & 30\\\\\n",
       "\t Oceania  & 2002 & 79.74000 &  2\\\\\n",
       "\\end{tabular}\n"
      ],
      "text/markdown": [
       "\n",
       "A grouped_df: 5 × 4\n",
       "\n",
       "| continent &lt;fct&gt; | year &lt;int&gt; | lifeExpAvg2002 &lt;dbl&gt; | countriesCount &lt;int&gt; |\n",
       "|---|---|---|---|\n",
       "| Africa   | 2002 | 53.32523 | 52 |\n",
       "| Americas | 2002 | 72.42204 | 25 |\n",
       "| Asia     | 2002 | 69.23388 | 33 |\n",
       "| Europe   | 2002 | 76.70060 | 30 |\n",
       "| Oceania  | 2002 | 79.74000 |  2 |\n",
       "\n"
      ],
      "text/plain": [
       "  continent year lifeExpAvg2002 countriesCount\n",
       "1 Africa    2002 53.32523       52            \n",
       "2 Americas  2002 72.42204       25            \n",
       "3 Asia      2002 69.23388       33            \n",
       "4 Europe    2002 76.70060       30            \n",
       "5 Oceania   2002 79.74000        2            "
      ]
     },
     "metadata": {},
     "output_type": "display_data"
    }
   ],
   "source": [
    "gapminder %>%\n",
    "    filter(year == 2002) %>% # year\n",
    "    group_by(continent, year) %>% # grouping condition\n",
    "    summarise(\n",
    "        lifeExpAvg2002 = mean(lifeExp),\n",
    "        countriesCount = n() # n() count of rows in group  \n",
    "        ) "
   ]
  },
  {
   "cell_type": "markdown",
   "id": "5be4ebec",
   "metadata": {},
   "source": [
    "Let's find total `population` for each `continent` in `2002` (ouput is `continent`, `totalPop`, `year`):"
   ]
  },
  {
   "cell_type": "code",
   "execution_count": 170,
   "id": "bdeeb49d",
   "metadata": {
    "vscode": {
     "languageId": "r"
    }
   },
   "outputs": [
    {
     "data": {
      "text/html": [
       "<table class=\"dataframe\">\n",
       "<caption>A grouped_df: 5 × 3</caption>\n",
       "<thead>\n",
       "\t<tr><th scope=col>continent</th><th scope=col>year</th><th scope=col>totalPop</th></tr>\n",
       "\t<tr><th scope=col>&lt;fct&gt;</th><th scope=col>&lt;int&gt;</th><th scope=col>&lt;dbl&gt;</th></tr>\n",
       "</thead>\n",
       "<tbody>\n",
       "\t<tr><td>Africa  </td><td>2002</td><td> 833723916</td></tr>\n",
       "\t<tr><td>Americas</td><td>2002</td><td> 849772762</td></tr>\n",
       "\t<tr><td>Asia    </td><td>2002</td><td>3601802203</td></tr>\n",
       "\t<tr><td>Europe  </td><td>2002</td><td> 578223869</td></tr>\n",
       "\t<tr><td>Oceania </td><td>2002</td><td>  23454829</td></tr>\n",
       "</tbody>\n",
       "</table>\n"
      ],
      "text/latex": [
       "A grouped\\_df: 5 × 3\n",
       "\\begin{tabular}{lll}\n",
       " continent & year & totalPop\\\\\n",
       " <fct> & <int> & <dbl>\\\\\n",
       "\\hline\n",
       "\t Africa   & 2002 &  833723916\\\\\n",
       "\t Americas & 2002 &  849772762\\\\\n",
       "\t Asia     & 2002 & 3601802203\\\\\n",
       "\t Europe   & 2002 &  578223869\\\\\n",
       "\t Oceania  & 2002 &   23454829\\\\\n",
       "\\end{tabular}\n"
      ],
      "text/markdown": [
       "\n",
       "A grouped_df: 5 × 3\n",
       "\n",
       "| continent &lt;fct&gt; | year &lt;int&gt; | totalPop &lt;dbl&gt; |\n",
       "|---|---|---|\n",
       "| Africa   | 2002 |  833723916 |\n",
       "| Americas | 2002 |  849772762 |\n",
       "| Asia     | 2002 | 3601802203 |\n",
       "| Europe   | 2002 |  578223869 |\n",
       "| Oceania  | 2002 |   23454829 |\n",
       "\n"
      ],
      "text/plain": [
       "  continent year totalPop  \n",
       "1 Africa    2002  833723916\n",
       "2 Americas  2002  849772762\n",
       "3 Asia      2002 3601802203\n",
       "4 Europe    2002  578223869\n",
       "5 Oceania   2002   23454829"
      ]
     },
     "metadata": {},
     "output_type": "display_data"
    }
   ],
   "source": [
    "gapminder %>%\n",
    "    filter(year == 2002) %>% # year\n",
    "    group_by(continent, year) %>% # grouping condition\n",
    "    summarise(totalPop = sum(pop), .groups = \"keep\") "
   ]
  },
  {
   "cell_type": "markdown",
   "id": "aa693c0d",
   "metadata": {},
   "source": [
    "There are additional variations of `summarise()`:\n",
    "\n",
    "- [x] `summarise_all()` - Apply funs to every column. \n",
    "- [x] `summarise_at()` - Apply funs to specific columns.  \n",
    "- [x] `summarise_if()` - Apply funs to all cols of one type."
   ]
  },
  {
   "cell_type": "markdown",
   "id": "b049fc77-4167-4e93-984e-3cfad3445061",
   "metadata": {},
   "source": [
    "---"
   ]
  },
  {
   "cell_type": "markdown",
   "id": "07e3ec24-796f-46a6-a496-4f06fdb8ad23",
   "metadata": {},
   "source": [
    "### Task on Credits"
   ]
  },
  {
   "cell_type": "code",
   "execution_count": 171,
   "id": "ab4a2edd-4c44-4c9b-bcdb-2ce4c08844c7",
   "metadata": {
    "vscode": {
     "languageId": "r"
    }
   },
   "outputs": [
    {
     "data": {
      "text/html": [
       "63"
      ],
      "text/latex": [
       "63"
      ],
      "text/markdown": [
       "63"
      ],
      "text/plain": [
       "[1] 63"
      ]
     },
     "metadata": {},
     "output_type": "display_data"
    },
    {
     "data": {
      "text/html": [
       "62"
      ],
      "text/latex": [
       "62"
      ],
      "text/markdown": [
       "62"
      ],
      "text/plain": [
       "[1] 62"
      ]
     },
     "metadata": {},
     "output_type": "display_data"
    },
    {
     "data": {
      "image/png": "[encoded data removed]",
      "text/plain": [
       "plot without title"
      ]
     },
     "metadata": {
      "image/png": {
       "height": 420,
       "width": 420
      }
     },
     "output_type": "display_data"
    }
   ],
   "source": [
    "library(ISLR)\n",
    "\n",
    "group_inc <- aggregate(Income ~ Age + Gender, data = Credit, mean)\n",
    "\n",
    "m_data <- group_inc[group_inc$Gender == \" Male\", ]\n",
    "nrow(m_data)\n",
    "\n",
    "f_data <- group_inc[group_inc$Gender == \"Female\", ]\n",
    "nrow(f_data)\n",
    "with(m_data, plot(Age, Income, type = \"l\", col=\"red\"))\n",
    "with(f_data, lines(Age, Income, type = \"l\", col =\"blue\"))"
   ]
  },
  {
   "cell_type": "code",
   "execution_count": 172,
   "id": "31e256a4-3712-43b7-8a56-45f30bef612f",
   "metadata": {
    "vscode": {
     "languageId": "r"
    }
   },
   "outputs": [
    {
     "name": "stderr",
     "output_type": "stream",
     "text": [
      "\u001b[1m\u001b[22m`summarise()` has grouped output by 'Age'. You can override using the `.groups`\n",
      "argument.\n"
     ]
    },
    {
     "data": {
      "text/html": [
       "63"
      ],
      "text/latex": [
       "63"
      ],
      "text/markdown": [
       "63"
      ],
      "text/plain": [
       "[1] 63"
      ]
     },
     "metadata": {},
     "output_type": "display_data"
    },
    {
     "data": {
      "text/html": [
       "62"
      ],
      "text/latex": [
       "62"
      ],
      "text/markdown": [
       "62"
      ],
      "text/plain": [
       "[1] 62"
      ]
     },
     "metadata": {},
     "output_type": "display_data"
    },
    {
     "data": {
      "image/png": "[encoded data removed]",
      "text/plain": [
       "plot without title"
      ]
     },
     "metadata": {
      "image/png": {
       "height": 420,
       "width": 420
      }
     },
     "output_type": "display_data"
    }
   ],
   "source": [
    "cd <- Credit %>%\n",
    "select(Income, Age, Gender) %>%\n",
    "group_by(Age, Gender) %>%\n",
    "summarize(Income = mean(Income))\n",
    "\n",
    "m_data <- cd %>% filter(Gender == \" Male\")\n",
    "nrow(m_data)\n",
    "\n",
    "f_data <- cd %>% filter(Gender == \"Female\")\n",
    "nrow(f_data)\n",
    "\n",
    "with(m_data, plot(Age, Income, type = \"l\", col=\"red\"))\n",
    "with(f_data, lines(Age, Income, type = \"l\", col =\"blue\"))\n"
   ]
  },
  {
   "cell_type": "markdown",
   "id": "4e7df1df",
   "metadata": {},
   "source": [
    "---"
   ]
  },
  {
   "cell_type": "markdown",
   "id": "2ba3999d",
   "metadata": {},
   "source": [
    "### Binding rows and columns"
   ]
  },
  {
   "cell_type": "markdown",
   "id": "a7488f2d",
   "metadata": {},
   "source": [
    "`bind_rows(.data, …)` helps to unite two dataframes with the same columns order and names. "
   ]
  },
  {
   "cell_type": "markdown",
   "id": "c87bfefc",
   "metadata": {},
   "source": [
    "So, if we need add one data frame to an other vertically (bind rows) we shoul use `bind_rows`:"
   ]
  },
  {
   "cell_type": "code",
   "execution_count": 173,
   "id": "23fe4993",
   "metadata": {
    "vscode": {
     "languageId": "r"
    }
   },
   "outputs": [
    {
     "name": "stderr",
     "output_type": "stream",
     "text": [
      "\u001b[1m\u001b[22m`summarise()` has grouped output by 'continent'. You can override using the\n",
      "`.groups` argument.\n"
     ]
    },
    {
     "data": {
      "text/html": [
       "<table class=\"dataframe\">\n",
       "<caption>A grouped_df: 5 × 4</caption>\n",
       "<thead>\n",
       "\t<tr><th scope=col>continent</th><th scope=col>year</th><th scope=col>lifeExpAvg</th><th scope=col>countriesCount</th></tr>\n",
       "\t<tr><th scope=col>&lt;fct&gt;</th><th scope=col>&lt;int&gt;</th><th scope=col>&lt;dbl&gt;</th><th scope=col>&lt;int&gt;</th></tr>\n",
       "</thead>\n",
       "<tbody>\n",
       "\t<tr><td>Africa  </td><td>2002</td><td>53.32523</td><td>52</td></tr>\n",
       "\t<tr><td>Americas</td><td>2002</td><td>72.42204</td><td>25</td></tr>\n",
       "\t<tr><td>Asia    </td><td>2002</td><td>69.23388</td><td>33</td></tr>\n",
       "\t<tr><td>Europe  </td><td>2002</td><td>76.70060</td><td>30</td></tr>\n",
       "\t<tr><td>Oceania </td><td>2002</td><td>79.74000</td><td> 2</td></tr>\n",
       "</tbody>\n",
       "</table>\n"
      ],
      "text/latex": [
       "A grouped\\_df: 5 × 4\n",
       "\\begin{tabular}{llll}\n",
       " continent & year & lifeExpAvg & countriesCount\\\\\n",
       " <fct> & <int> & <dbl> & <int>\\\\\n",
       "\\hline\n",
       "\t Africa   & 2002 & 53.32523 & 52\\\\\n",
       "\t Americas & 2002 & 72.42204 & 25\\\\\n",
       "\t Asia     & 2002 & 69.23388 & 33\\\\\n",
       "\t Europe   & 2002 & 76.70060 & 30\\\\\n",
       "\t Oceania  & 2002 & 79.74000 &  2\\\\\n",
       "\\end{tabular}\n"
      ],
      "text/markdown": [
       "\n",
       "A grouped_df: 5 × 4\n",
       "\n",
       "| continent &lt;fct&gt; | year &lt;int&gt; | lifeExpAvg &lt;dbl&gt; | countriesCount &lt;int&gt; |\n",
       "|---|---|---|---|\n",
       "| Africa   | 2002 | 53.32523 | 52 |\n",
       "| Americas | 2002 | 72.42204 | 25 |\n",
       "| Asia     | 2002 | 69.23388 | 33 |\n",
       "| Europe   | 2002 | 76.70060 | 30 |\n",
       "| Oceania  | 2002 | 79.74000 |  2 |\n",
       "\n"
      ],
      "text/plain": [
       "  continent year lifeExpAvg countriesCount\n",
       "1 Africa    2002 53.32523   52            \n",
       "2 Americas  2002 72.42204   25            \n",
       "3 Asia      2002 69.23388   33            \n",
       "4 Europe    2002 76.70060   30            \n",
       "5 Oceania   2002 79.74000    2            "
      ]
     },
     "metadata": {},
     "output_type": "display_data"
    }
   ],
   "source": [
    "d2002 <- gapminder %>%\n",
    "            filter(year == 2002) %>% # year\n",
    "            group_by(continent, year) %>% # grouping condition\n",
    "            summarise(\n",
    "                lifeExpAvg = mean(lifeExp),\n",
    "                countriesCount = n() # n() count of rows in group                \n",
    "            )\n",
    "head(d2002)"
   ]
  },
  {
   "cell_type": "code",
   "execution_count": 174,
   "id": "9f5d6f5b",
   "metadata": {
    "vscode": {
     "languageId": "r"
    }
   },
   "outputs": [
    {
     "name": "stderr",
     "output_type": "stream",
     "text": [
      "\u001b[1m\u001b[22m`summarise()` has grouped output by 'continent'. You can override using the\n",
      "`.groups` argument.\n"
     ]
    },
    {
     "data": {
      "text/html": [
       "<table class=\"dataframe\">\n",
       "<caption>A grouped_df: 5 × 4</caption>\n",
       "<thead>\n",
       "\t<tr><th scope=col>continent</th><th scope=col>year</th><th scope=col>lifeExpAvg</th><th scope=col>countriesCount</th></tr>\n",
       "\t<tr><th scope=col>&lt;fct&gt;</th><th scope=col>&lt;int&gt;</th><th scope=col>&lt;dbl&gt;</th><th scope=col>&lt;int&gt;</th></tr>\n",
       "</thead>\n",
       "<tbody>\n",
       "\t<tr><td>Africa  </td><td>2007</td><td>54.80604</td><td>52</td></tr>\n",
       "\t<tr><td>Americas</td><td>2007</td><td>73.60812</td><td>25</td></tr>\n",
       "\t<tr><td>Asia    </td><td>2007</td><td>70.72848</td><td>33</td></tr>\n",
       "\t<tr><td>Europe  </td><td>2007</td><td>77.64860</td><td>30</td></tr>\n",
       "\t<tr><td>Oceania </td><td>2007</td><td>80.71950</td><td> 2</td></tr>\n",
       "</tbody>\n",
       "</table>\n"
      ],
      "text/latex": [
       "A grouped\\_df: 5 × 4\n",
       "\\begin{tabular}{llll}\n",
       " continent & year & lifeExpAvg & countriesCount\\\\\n",
       " <fct> & <int> & <dbl> & <int>\\\\\n",
       "\\hline\n",
       "\t Africa   & 2007 & 54.80604 & 52\\\\\n",
       "\t Americas & 2007 & 73.60812 & 25\\\\\n",
       "\t Asia     & 2007 & 70.72848 & 33\\\\\n",
       "\t Europe   & 2007 & 77.64860 & 30\\\\\n",
       "\t Oceania  & 2007 & 80.71950 &  2\\\\\n",
       "\\end{tabular}\n"
      ],
      "text/markdown": [
       "\n",
       "A grouped_df: 5 × 4\n",
       "\n",
       "| continent &lt;fct&gt; | year &lt;int&gt; | lifeExpAvg &lt;dbl&gt; | countriesCount &lt;int&gt; |\n",
       "|---|---|---|---|\n",
       "| Africa   | 2007 | 54.80604 | 52 |\n",
       "| Americas | 2007 | 73.60812 | 25 |\n",
       "| Asia     | 2007 | 70.72848 | 33 |\n",
       "| Europe   | 2007 | 77.64860 | 30 |\n",
       "| Oceania  | 2007 | 80.71950 |  2 |\n",
       "\n"
      ],
      "text/plain": [
       "  continent year lifeExpAvg countriesCount\n",
       "1 Africa    2007 54.80604   52            \n",
       "2 Americas  2007 73.60812   25            \n",
       "3 Asia      2007 70.72848   33            \n",
       "4 Europe    2007 77.64860   30            \n",
       "5 Oceania   2007 80.71950    2            "
      ]
     },
     "metadata": {},
     "output_type": "display_data"
    }
   ],
   "source": [
    "d2007 <- gapminder %>%\n",
    "            filter(year == 2007) %>% # year\n",
    "            group_by(continent, year) %>% # grouping condition\n",
    "            summarise(\n",
    "                lifeExpAvg = mean(lifeExp),\n",
    "                countriesCount = n() # n() count of rows in group                \n",
    "            )\n",
    "head(d2007)"
   ]
  },
  {
   "cell_type": "markdown",
   "id": "04709e04",
   "metadata": {},
   "source": [
    "Unite them:"
   ]
  },
  {
   "cell_type": "code",
   "execution_count": 175,
   "id": "8ac1424d",
   "metadata": {
    "vscode": {
     "languageId": "r"
    }
   },
   "outputs": [
    {
     "data": {
      "text/html": [
       "<table class=\"dataframe\">\n",
       "<caption>A grouped_df: 10 × 4</caption>\n",
       "<thead>\n",
       "\t<tr><th scope=col>continent</th><th scope=col>year</th><th scope=col>lifeExpAvg</th><th scope=col>countriesCount</th></tr>\n",
       "\t<tr><th scope=col>&lt;fct&gt;</th><th scope=col>&lt;int&gt;</th><th scope=col>&lt;dbl&gt;</th><th scope=col>&lt;int&gt;</th></tr>\n",
       "</thead>\n",
       "<tbody>\n",
       "\t<tr><td>Africa  </td><td>2002</td><td>53.32523</td><td>52</td></tr>\n",
       "\t<tr><td>Americas</td><td>2002</td><td>72.42204</td><td>25</td></tr>\n",
       "\t<tr><td>Asia    </td><td>2002</td><td>69.23388</td><td>33</td></tr>\n",
       "\t<tr><td>Europe  </td><td>2002</td><td>76.70060</td><td>30</td></tr>\n",
       "\t<tr><td>Oceania </td><td>2002</td><td>79.74000</td><td> 2</td></tr>\n",
       "\t<tr><td>Africa  </td><td>2007</td><td>54.80604</td><td>52</td></tr>\n",
       "\t<tr><td>Americas</td><td>2007</td><td>73.60812</td><td>25</td></tr>\n",
       "\t<tr><td>Asia    </td><td>2007</td><td>70.72848</td><td>33</td></tr>\n",
       "\t<tr><td>Europe  </td><td>2007</td><td>77.64860</td><td>30</td></tr>\n",
       "\t<tr><td>Oceania </td><td>2007</td><td>80.71950</td><td> 2</td></tr>\n",
       "</tbody>\n",
       "</table>\n"
      ],
      "text/latex": [
       "A grouped\\_df: 10 × 4\n",
       "\\begin{tabular}{llll}\n",
       " continent & year & lifeExpAvg & countriesCount\\\\\n",
       " <fct> & <int> & <dbl> & <int>\\\\\n",
       "\\hline\n",
       "\t Africa   & 2002 & 53.32523 & 52\\\\\n",
       "\t Americas & 2002 & 72.42204 & 25\\\\\n",
       "\t Asia     & 2002 & 69.23388 & 33\\\\\n",
       "\t Europe   & 2002 & 76.70060 & 30\\\\\n",
       "\t Oceania  & 2002 & 79.74000 &  2\\\\\n",
       "\t Africa   & 2007 & 54.80604 & 52\\\\\n",
       "\t Americas & 2007 & 73.60812 & 25\\\\\n",
       "\t Asia     & 2007 & 70.72848 & 33\\\\\n",
       "\t Europe   & 2007 & 77.64860 & 30\\\\\n",
       "\t Oceania  & 2007 & 80.71950 &  2\\\\\n",
       "\\end{tabular}\n"
      ],
      "text/markdown": [
       "\n",
       "A grouped_df: 10 × 4\n",
       "\n",
       "| continent &lt;fct&gt; | year &lt;int&gt; | lifeExpAvg &lt;dbl&gt; | countriesCount &lt;int&gt; |\n",
       "|---|---|---|---|\n",
       "| Africa   | 2002 | 53.32523 | 52 |\n",
       "| Americas | 2002 | 72.42204 | 25 |\n",
       "| Asia     | 2002 | 69.23388 | 33 |\n",
       "| Europe   | 2002 | 76.70060 | 30 |\n",
       "| Oceania  | 2002 | 79.74000 |  2 |\n",
       "| Africa   | 2007 | 54.80604 | 52 |\n",
       "| Americas | 2007 | 73.60812 | 25 |\n",
       "| Asia     | 2007 | 70.72848 | 33 |\n",
       "| Europe   | 2007 | 77.64860 | 30 |\n",
       "| Oceania  | 2007 | 80.71950 |  2 |\n",
       "\n"
      ],
      "text/plain": [
       "   continent year lifeExpAvg countriesCount\n",
       "1  Africa    2002 53.32523   52            \n",
       "2  Americas  2002 72.42204   25            \n",
       "3  Asia      2002 69.23388   33            \n",
       "4  Europe    2002 76.70060   30            \n",
       "5  Oceania   2002 79.74000    2            \n",
       "6  Africa    2007 54.80604   52            \n",
       "7  Americas  2007 73.60812   25            \n",
       "8  Asia      2007 70.72848   33            \n",
       "9  Europe    2007 77.64860   30            \n",
       "10 Oceania   2007 80.71950    2            "
      ]
     },
     "metadata": {},
     "output_type": "display_data"
    }
   ],
   "source": [
    "d2002 %>% bind_rows(d2007) ## bind rows"
   ]
  },
  {
   "cell_type": "markdown",
   "id": "7e91fab3",
   "metadata": {},
   "source": [
    "`bind_cols(.data, …)` helps to unite two dataframes with the same rows count. "
   ]
  },
  {
   "cell_type": "code",
   "execution_count": 176,
   "id": "e4c74f91",
   "metadata": {
    "vscode": {
     "languageId": "r"
    }
   },
   "outputs": [
    {
     "data": {
      "text/html": [
       "<table class=\"dataframe\">\n",
       "<caption>A tibble: 5 × 3</caption>\n",
       "<thead>\n",
       "\t<tr><th scope=col>continent</th><th scope=col>totalPop</th><th scope=col>year</th></tr>\n",
       "\t<tr><th scope=col>&lt;fct&gt;</th><th scope=col>&lt;dbl&gt;</th><th scope=col>&lt;dbl&gt;</th></tr>\n",
       "</thead>\n",
       "<tbody>\n",
       "\t<tr><td>Africa  </td><td> 833723916</td><td>2002</td></tr>\n",
       "\t<tr><td>Americas</td><td> 849772762</td><td>2002</td></tr>\n",
       "\t<tr><td>Asia    </td><td>3601802203</td><td>2002</td></tr>\n",
       "\t<tr><td>Europe  </td><td> 578223869</td><td>2002</td></tr>\n",
       "\t<tr><td>Oceania </td><td>  23454829</td><td>2002</td></tr>\n",
       "</tbody>\n",
       "</table>\n"
      ],
      "text/latex": [
       "A tibble: 5 × 3\n",
       "\\begin{tabular}{lll}\n",
       " continent & totalPop & year\\\\\n",
       " <fct> & <dbl> & <dbl>\\\\\n",
       "\\hline\n",
       "\t Africa   &  833723916 & 2002\\\\\n",
       "\t Americas &  849772762 & 2002\\\\\n",
       "\t Asia     & 3601802203 & 2002\\\\\n",
       "\t Europe   &  578223869 & 2002\\\\\n",
       "\t Oceania  &   23454829 & 2002\\\\\n",
       "\\end{tabular}\n"
      ],
      "text/markdown": [
       "\n",
       "A tibble: 5 × 3\n",
       "\n",
       "| continent &lt;fct&gt; | totalPop &lt;dbl&gt; | year &lt;dbl&gt; |\n",
       "|---|---|---|\n",
       "| Africa   |  833723916 | 2002 |\n",
       "| Americas |  849772762 | 2002 |\n",
       "| Asia     | 3601802203 | 2002 |\n",
       "| Europe   |  578223869 | 2002 |\n",
       "| Oceania  |   23454829 | 2002 |\n",
       "\n"
      ],
      "text/plain": [
       "  continent totalPop   year\n",
       "1 Africa     833723916 2002\n",
       "2 Americas   849772762 2002\n",
       "3 Asia      3601802203 2002\n",
       "4 Europe     578223869 2002\n",
       "5 Oceania     23454829 2002"
      ]
     },
     "metadata": {},
     "output_type": "display_data"
    }
   ],
   "source": [
    "grouped_data2002pop <- gapminder %>%\n",
    "    filter(year == 2002) %>% # year\n",
    "    group_by(continent) %>% # grouping condition\n",
    "    summarise(totalPop = sum(pop)) %>%\n",
    "    mutate(year = 2002)\n",
    "grouped_data2002pop"
   ]
  },
  {
   "cell_type": "markdown",
   "id": "5a34ea9e",
   "metadata": {},
   "source": [
    "Let's combine `d2002` and `grouped_data2002pop`:"
   ]
  },
  {
   "cell_type": "code",
   "execution_count": 177,
   "id": "91e20ef8",
   "metadata": {
    "vscode": {
     "languageId": "r"
    }
   },
   "outputs": [
    {
     "name": "stderr",
     "output_type": "stream",
     "text": [
      "\u001b[1m\u001b[22mNew names:\n",
      "\u001b[36m*\u001b[39m `continent` -> `continent...1`\n",
      "\u001b[36m*\u001b[39m `year` -> `year...2`\n",
      "\u001b[36m*\u001b[39m `continent` -> `continent...5`\n",
      "\u001b[36m*\u001b[39m `year` -> `year...7`\n"
     ]
    },
    {
     "data": {
      "text/html": [
       "<table class=\"dataframe\">\n",
       "<caption>A tibble: 5 × 7</caption>\n",
       "<thead>\n",
       "\t<tr><th scope=col>continent...1</th><th scope=col>year...2</th><th scope=col>lifeExpAvg</th><th scope=col>countriesCount</th><th scope=col>continent...5</th><th scope=col>totalPop</th><th scope=col>year...7</th></tr>\n",
       "\t<tr><th scope=col>&lt;fct&gt;</th><th scope=col>&lt;int&gt;</th><th scope=col>&lt;dbl&gt;</th><th scope=col>&lt;int&gt;</th><th scope=col>&lt;fct&gt;</th><th scope=col>&lt;dbl&gt;</th><th scope=col>&lt;dbl&gt;</th></tr>\n",
       "</thead>\n",
       "<tbody>\n",
       "\t<tr><td>Africa  </td><td>2002</td><td>53.32523</td><td>52</td><td>Africa  </td><td> 833723916</td><td>2002</td></tr>\n",
       "\t<tr><td>Americas</td><td>2002</td><td>72.42204</td><td>25</td><td>Americas</td><td> 849772762</td><td>2002</td></tr>\n",
       "\t<tr><td>Asia    </td><td>2002</td><td>69.23388</td><td>33</td><td>Asia    </td><td>3601802203</td><td>2002</td></tr>\n",
       "\t<tr><td>Europe  </td><td>2002</td><td>76.70060</td><td>30</td><td>Europe  </td><td> 578223869</td><td>2002</td></tr>\n",
       "\t<tr><td>Oceania </td><td>2002</td><td>79.74000</td><td> 2</td><td>Oceania </td><td>  23454829</td><td>2002</td></tr>\n",
       "</tbody>\n",
       "</table>\n"
      ],
      "text/latex": [
       "A tibble: 5 × 7\n",
       "\\begin{tabular}{lllllll}\n",
       " continent...1 & year...2 & lifeExpAvg & countriesCount & continent...5 & totalPop & year...7\\\\\n",
       " <fct> & <int> & <dbl> & <int> & <fct> & <dbl> & <dbl>\\\\\n",
       "\\hline\n",
       "\t Africa   & 2002 & 53.32523 & 52 & Africa   &  833723916 & 2002\\\\\n",
       "\t Americas & 2002 & 72.42204 & 25 & Americas &  849772762 & 2002\\\\\n",
       "\t Asia     & 2002 & 69.23388 & 33 & Asia     & 3601802203 & 2002\\\\\n",
       "\t Europe   & 2002 & 76.70060 & 30 & Europe   &  578223869 & 2002\\\\\n",
       "\t Oceania  & 2002 & 79.74000 &  2 & Oceania  &   23454829 & 2002\\\\\n",
       "\\end{tabular}\n"
      ],
      "text/markdown": [
       "\n",
       "A tibble: 5 × 7\n",
       "\n",
       "| continent...1 &lt;fct&gt; | year...2 &lt;int&gt; | lifeExpAvg &lt;dbl&gt; | countriesCount &lt;int&gt; | continent...5 &lt;fct&gt; | totalPop &lt;dbl&gt; | year...7 &lt;dbl&gt; |\n",
       "|---|---|---|---|---|---|---|\n",
       "| Africa   | 2002 | 53.32523 | 52 | Africa   |  833723916 | 2002 |\n",
       "| Americas | 2002 | 72.42204 | 25 | Americas |  849772762 | 2002 |\n",
       "| Asia     | 2002 | 69.23388 | 33 | Asia     | 3601802203 | 2002 |\n",
       "| Europe   | 2002 | 76.70060 | 30 | Europe   |  578223869 | 2002 |\n",
       "| Oceania  | 2002 | 79.74000 |  2 | Oceania  |   23454829 | 2002 |\n",
       "\n"
      ],
      "text/plain": [
       "  continent...1 year...2 lifeExpAvg countriesCount continent...5 totalPop  \n",
       "1 Africa        2002     53.32523   52             Africa         833723916\n",
       "2 Americas      2002     72.42204   25             Americas       849772762\n",
       "3 Asia          2002     69.23388   33             Asia          3601802203\n",
       "4 Europe        2002     76.70060   30             Europe         578223869\n",
       "5 Oceania       2002     79.74000    2             Oceania         23454829\n",
       "  year...7\n",
       "1 2002    \n",
       "2 2002    \n",
       "3 2002    \n",
       "4 2002    \n",
       "5 2002    "
      ]
     },
     "metadata": {},
     "output_type": "display_data"
    }
   ],
   "source": [
    "grouped_data <- d2002 %>% \n",
    "    bind_cols(grouped_data2002pop)\n",
    "grouped_data\n",
    "\n",
    "# columns with the same name were renamed!"
   ]
  },
  {
   "cell_type": "markdown",
   "id": "d7fb7da1",
   "metadata": {},
   "source": [
    "You can remove same named variables before binding:"
   ]
  },
  {
   "cell_type": "code",
   "execution_count": 178,
   "id": "0ca5c734",
   "metadata": {
    "vscode": {
     "languageId": "r"
    }
   },
   "outputs": [
    {
     "data": {
      "text/html": [
       "<table class=\"dataframe\">\n",
       "<caption>A grouped_df: 5 × 5</caption>\n",
       "<thead>\n",
       "\t<tr><th scope=col>continent</th><th scope=col>year</th><th scope=col>lifeExpAvg</th><th scope=col>countriesCount</th><th scope=col>totalPop</th></tr>\n",
       "\t<tr><th scope=col>&lt;fct&gt;</th><th scope=col>&lt;int&gt;</th><th scope=col>&lt;dbl&gt;</th><th scope=col>&lt;int&gt;</th><th scope=col>&lt;dbl&gt;</th></tr>\n",
       "</thead>\n",
       "<tbody>\n",
       "\t<tr><td>Africa  </td><td>2002</td><td>53.32523</td><td>52</td><td> 833723916</td></tr>\n",
       "\t<tr><td>Americas</td><td>2002</td><td>72.42204</td><td>25</td><td> 849772762</td></tr>\n",
       "\t<tr><td>Asia    </td><td>2002</td><td>69.23388</td><td>33</td><td>3601802203</td></tr>\n",
       "\t<tr><td>Europe  </td><td>2002</td><td>76.70060</td><td>30</td><td> 578223869</td></tr>\n",
       "\t<tr><td>Oceania </td><td>2002</td><td>79.74000</td><td> 2</td><td>  23454829</td></tr>\n",
       "</tbody>\n",
       "</table>\n"
      ],
      "text/latex": [
       "A grouped\\_df: 5 × 5\n",
       "\\begin{tabular}{lllll}\n",
       " continent & year & lifeExpAvg & countriesCount & totalPop\\\\\n",
       " <fct> & <int> & <dbl> & <int> & <dbl>\\\\\n",
       "\\hline\n",
       "\t Africa   & 2002 & 53.32523 & 52 &  833723916\\\\\n",
       "\t Americas & 2002 & 72.42204 & 25 &  849772762\\\\\n",
       "\t Asia     & 2002 & 69.23388 & 33 & 3601802203\\\\\n",
       "\t Europe   & 2002 & 76.70060 & 30 &  578223869\\\\\n",
       "\t Oceania  & 2002 & 79.74000 &  2 &   23454829\\\\\n",
       "\\end{tabular}\n"
      ],
      "text/markdown": [
       "\n",
       "A grouped_df: 5 × 5\n",
       "\n",
       "| continent &lt;fct&gt; | year &lt;int&gt; | lifeExpAvg &lt;dbl&gt; | countriesCount &lt;int&gt; | totalPop &lt;dbl&gt; |\n",
       "|---|---|---|---|---|\n",
       "| Africa   | 2002 | 53.32523 | 52 |  833723916 |\n",
       "| Americas | 2002 | 72.42204 | 25 |  849772762 |\n",
       "| Asia     | 2002 | 69.23388 | 33 | 3601802203 |\n",
       "| Europe   | 2002 | 76.70060 | 30 |  578223869 |\n",
       "| Oceania  | 2002 | 79.74000 |  2 |   23454829 |\n",
       "\n"
      ],
      "text/plain": [
       "  continent year lifeExpAvg countriesCount totalPop  \n",
       "1 Africa    2002 53.32523   52              833723916\n",
       "2 Americas  2002 72.42204   25              849772762\n",
       "3 Asia      2002 69.23388   33             3601802203\n",
       "4 Europe    2002 76.70060   30              578223869\n",
       "5 Oceania   2002 79.74000    2               23454829"
      ]
     },
     "metadata": {},
     "output_type": "display_data"
    }
   ],
   "source": [
    "grouped_data <- d2002 %>% \n",
    "    bind_cols(grouped_data2002pop %>%\n",
    "              select(-continent, -year))\n",
    "grouped_data\n",
    "\n",
    "# better, but continents order is not the same in both frames \n",
    "# your data is going to be damaged"
   ]
  },
  {
   "cell_type": "code",
   "execution_count": 179,
   "id": "3b988106",
   "metadata": {
    "vscode": {
     "languageId": "r"
    }
   },
   "outputs": [
    {
     "name": "stderr",
     "output_type": "stream",
     "text": [
      "\u001b[1m\u001b[22mNew names:\n",
      "\u001b[36m*\u001b[39m `continent` -> `continent...1`\n",
      "\u001b[36m*\u001b[39m `year` -> `year...2`\n",
      "\u001b[36m*\u001b[39m `continent` -> `continent...5`\n",
      "\u001b[36m*\u001b[39m `year` -> `year...7`\n"
     ]
    },
    {
     "data": {
      "text/html": [
       "<table class=\"dataframe\">\n",
       "<caption>A tibble: 5 × 7</caption>\n",
       "<thead>\n",
       "\t<tr><th scope=col>continent...1</th><th scope=col>year...2</th><th scope=col>lifeExpAvg</th><th scope=col>countriesCount</th><th scope=col>continent...5</th><th scope=col>totalPop</th><th scope=col>year...7</th></tr>\n",
       "\t<tr><th scope=col>&lt;fct&gt;</th><th scope=col>&lt;int&gt;</th><th scope=col>&lt;dbl&gt;</th><th scope=col>&lt;int&gt;</th><th scope=col>&lt;fct&gt;</th><th scope=col>&lt;dbl&gt;</th><th scope=col>&lt;dbl&gt;</th></tr>\n",
       "</thead>\n",
       "<tbody>\n",
       "\t<tr><td>Africa  </td><td>2002</td><td>53.32523</td><td>52</td><td>Oceania </td><td>  23454829</td><td>2002</td></tr>\n",
       "\t<tr><td>Americas</td><td>2002</td><td>72.42204</td><td>25</td><td>Europe  </td><td> 578223869</td><td>2002</td></tr>\n",
       "\t<tr><td>Asia    </td><td>2002</td><td>69.23388</td><td>33</td><td>Africa  </td><td> 833723916</td><td>2002</td></tr>\n",
       "\t<tr><td>Europe  </td><td>2002</td><td>76.70060</td><td>30</td><td>Americas</td><td> 849772762</td><td>2002</td></tr>\n",
       "\t<tr><td>Oceania </td><td>2002</td><td>79.74000</td><td> 2</td><td>Asia    </td><td>3601802203</td><td>2002</td></tr>\n",
       "</tbody>\n",
       "</table>\n"
      ],
      "text/latex": [
       "A tibble: 5 × 7\n",
       "\\begin{tabular}{lllllll}\n",
       " continent...1 & year...2 & lifeExpAvg & countriesCount & continent...5 & totalPop & year...7\\\\\n",
       " <fct> & <int> & <dbl> & <int> & <fct> & <dbl> & <dbl>\\\\\n",
       "\\hline\n",
       "\t Africa   & 2002 & 53.32523 & 52 & Oceania  &   23454829 & 2002\\\\\n",
       "\t Americas & 2002 & 72.42204 & 25 & Europe   &  578223869 & 2002\\\\\n",
       "\t Asia     & 2002 & 69.23388 & 33 & Africa   &  833723916 & 2002\\\\\n",
       "\t Europe   & 2002 & 76.70060 & 30 & Americas &  849772762 & 2002\\\\\n",
       "\t Oceania  & 2002 & 79.74000 &  2 & Asia     & 3601802203 & 2002\\\\\n",
       "\\end{tabular}\n"
      ],
      "text/markdown": [
       "\n",
       "A tibble: 5 × 7\n",
       "\n",
       "| continent...1 &lt;fct&gt; | year...2 &lt;int&gt; | lifeExpAvg &lt;dbl&gt; | countriesCount &lt;int&gt; | continent...5 &lt;fct&gt; | totalPop &lt;dbl&gt; | year...7 &lt;dbl&gt; |\n",
       "|---|---|---|---|---|---|---|\n",
       "| Africa   | 2002 | 53.32523 | 52 | Oceania  |   23454829 | 2002 |\n",
       "| Americas | 2002 | 72.42204 | 25 | Europe   |  578223869 | 2002 |\n",
       "| Asia     | 2002 | 69.23388 | 33 | Africa   |  833723916 | 2002 |\n",
       "| Europe   | 2002 | 76.70060 | 30 | Americas |  849772762 | 2002 |\n",
       "| Oceania  | 2002 | 79.74000 |  2 | Asia     | 3601802203 | 2002 |\n",
       "\n"
      ],
      "text/plain": [
       "  continent...1 year...2 lifeExpAvg countriesCount continent...5 totalPop  \n",
       "1 Africa        2002     53.32523   52             Oceania         23454829\n",
       "2 Americas      2002     72.42204   25             Europe         578223869\n",
       "3 Asia          2002     69.23388   33             Africa         833723916\n",
       "4 Europe        2002     76.70060   30             Americas       849772762\n",
       "5 Oceania       2002     79.74000    2             Asia          3601802203\n",
       "  year...7\n",
       "1 2002    \n",
       "2 2002    \n",
       "3 2002    \n",
       "4 2002    \n",
       "5 2002    "
      ]
     },
     "metadata": {},
     "output_type": "display_data"
    }
   ],
   "source": [
    "grouped_data2002pop <- grouped_data2002pop %>% \n",
    "    arrange(totalPop)\n",
    "\n",
    "grouped_data <- d2002 %>% \n",
    "    bind_cols(grouped_data2002pop)\n",
    "grouped_data\n",
    "\n",
    "# you can see that continent fields different in the same row"
   ]
  },
  {
   "cell_type": "markdown",
   "id": "5c40c594",
   "metadata": {},
   "source": [
    "---"
   ]
  },
  {
   "cell_type": "markdown",
   "id": "eb70ab03",
   "metadata": {},
   "source": [
    "### `Join()`ing data"
   ]
  },
  {
   "cell_type": "markdown",
   "id": "8f814d68",
   "metadata": {},
   "source": [
    "To solve previous problem you can use set of `join()`-functions. `left_join()` can solve our previous example:"
   ]
  },
  {
   "cell_type": "code",
   "execution_count": 180,
   "id": "7826cb94",
   "metadata": {
    "vscode": {
     "languageId": "r"
    }
   },
   "outputs": [
    {
     "data": {
      "text/html": [
       "<table class=\"dataframe\">\n",
       "<caption>A grouped_df: 5 × 6</caption>\n",
       "<thead>\n",
       "\t<tr><th scope=col>continent</th><th scope=col>year.x</th><th scope=col>lifeExpAvg</th><th scope=col>countriesCount</th><th scope=col>totalPop</th><th scope=col>year.y</th></tr>\n",
       "\t<tr><th scope=col>&lt;fct&gt;</th><th scope=col>&lt;int&gt;</th><th scope=col>&lt;dbl&gt;</th><th scope=col>&lt;int&gt;</th><th scope=col>&lt;dbl&gt;</th><th scope=col>&lt;dbl&gt;</th></tr>\n",
       "</thead>\n",
       "<tbody>\n",
       "\t<tr><td>Africa  </td><td>2002</td><td>53.32523</td><td>52</td><td> 833723916</td><td>2002</td></tr>\n",
       "\t<tr><td>Americas</td><td>2002</td><td>72.42204</td><td>25</td><td> 849772762</td><td>2002</td></tr>\n",
       "\t<tr><td>Asia    </td><td>2002</td><td>69.23388</td><td>33</td><td>3601802203</td><td>2002</td></tr>\n",
       "\t<tr><td>Europe  </td><td>2002</td><td>76.70060</td><td>30</td><td> 578223869</td><td>2002</td></tr>\n",
       "\t<tr><td>Oceania </td><td>2002</td><td>79.74000</td><td> 2</td><td>  23454829</td><td>2002</td></tr>\n",
       "</tbody>\n",
       "</table>\n"
      ],
      "text/latex": [
       "A grouped\\_df: 5 × 6\n",
       "\\begin{tabular}{llllll}\n",
       " continent & year.x & lifeExpAvg & countriesCount & totalPop & year.y\\\\\n",
       " <fct> & <int> & <dbl> & <int> & <dbl> & <dbl>\\\\\n",
       "\\hline\n",
       "\t Africa   & 2002 & 53.32523 & 52 &  833723916 & 2002\\\\\n",
       "\t Americas & 2002 & 72.42204 & 25 &  849772762 & 2002\\\\\n",
       "\t Asia     & 2002 & 69.23388 & 33 & 3601802203 & 2002\\\\\n",
       "\t Europe   & 2002 & 76.70060 & 30 &  578223869 & 2002\\\\\n",
       "\t Oceania  & 2002 & 79.74000 &  2 &   23454829 & 2002\\\\\n",
       "\\end{tabular}\n"
      ],
      "text/markdown": [
       "\n",
       "A grouped_df: 5 × 6\n",
       "\n",
       "| continent &lt;fct&gt; | year.x &lt;int&gt; | lifeExpAvg &lt;dbl&gt; | countriesCount &lt;int&gt; | totalPop &lt;dbl&gt; | year.y &lt;dbl&gt; |\n",
       "|---|---|---|---|---|---|\n",
       "| Africa   | 2002 | 53.32523 | 52 |  833723916 | 2002 |\n",
       "| Americas | 2002 | 72.42204 | 25 |  849772762 | 2002 |\n",
       "| Asia     | 2002 | 69.23388 | 33 | 3601802203 | 2002 |\n",
       "| Europe   | 2002 | 76.70060 | 30 |  578223869 | 2002 |\n",
       "| Oceania  | 2002 | 79.74000 |  2 |   23454829 | 2002 |\n",
       "\n"
      ],
      "text/plain": [
       "  continent year.x lifeExpAvg countriesCount totalPop   year.y\n",
       "1 Africa    2002   53.32523   52              833723916 2002  \n",
       "2 Americas  2002   72.42204   25              849772762 2002  \n",
       "3 Asia      2002   69.23388   33             3601802203 2002  \n",
       "4 Europe    2002   76.70060   30              578223869 2002  \n",
       "5 Oceania   2002   79.74000    2               23454829 2002  "
      ]
     },
     "metadata": {},
     "output_type": "display_data"
    }
   ],
   "source": [
    "grouped_data2002pop <- grouped_data2002pop %>% \n",
    "    arrange(totalPop)\n",
    "\n",
    "grouped_data <- d2002 %>% \n",
    "    left_join(grouped_data2002pop, by = \"continent\")\n",
    "grouped_data\n",
    "\n",
    "# but we have duplicated year"
   ]
  },
  {
   "cell_type": "code",
   "execution_count": 181,
   "id": "2a7ffed3",
   "metadata": {
    "vscode": {
     "languageId": "r"
    }
   },
   "outputs": [
    {
     "data": {
      "text/html": [
       "<table class=\"dataframe\">\n",
       "<caption>A grouped_df: 5 × 5</caption>\n",
       "<thead>\n",
       "\t<tr><th scope=col>continent</th><th scope=col>year</th><th scope=col>lifeExpAvg</th><th scope=col>countriesCount</th><th scope=col>totalPop</th></tr>\n",
       "\t<tr><th scope=col>&lt;fct&gt;</th><th scope=col>&lt;dbl&gt;</th><th scope=col>&lt;dbl&gt;</th><th scope=col>&lt;int&gt;</th><th scope=col>&lt;dbl&gt;</th></tr>\n",
       "</thead>\n",
       "<tbody>\n",
       "\t<tr><td>Africa  </td><td>2002</td><td>53.32523</td><td>52</td><td> 833723916</td></tr>\n",
       "\t<tr><td>Americas</td><td>2002</td><td>72.42204</td><td>25</td><td> 849772762</td></tr>\n",
       "\t<tr><td>Asia    </td><td>2002</td><td>69.23388</td><td>33</td><td>3601802203</td></tr>\n",
       "\t<tr><td>Europe  </td><td>2002</td><td>76.70060</td><td>30</td><td> 578223869</td></tr>\n",
       "\t<tr><td>Oceania </td><td>2002</td><td>79.74000</td><td> 2</td><td>  23454829</td></tr>\n",
       "</tbody>\n",
       "</table>\n"
      ],
      "text/latex": [
       "A grouped\\_df: 5 × 5\n",
       "\\begin{tabular}{lllll}\n",
       " continent & year & lifeExpAvg & countriesCount & totalPop\\\\\n",
       " <fct> & <dbl> & <dbl> & <int> & <dbl>\\\\\n",
       "\\hline\n",
       "\t Africa   & 2002 & 53.32523 & 52 &  833723916\\\\\n",
       "\t Americas & 2002 & 72.42204 & 25 &  849772762\\\\\n",
       "\t Asia     & 2002 & 69.23388 & 33 & 3601802203\\\\\n",
       "\t Europe   & 2002 & 76.70060 & 30 &  578223869\\\\\n",
       "\t Oceania  & 2002 & 79.74000 &  2 &   23454829\\\\\n",
       "\\end{tabular}\n"
      ],
      "text/markdown": [
       "\n",
       "A grouped_df: 5 × 5\n",
       "\n",
       "| continent &lt;fct&gt; | year &lt;dbl&gt; | lifeExpAvg &lt;dbl&gt; | countriesCount &lt;int&gt; | totalPop &lt;dbl&gt; |\n",
       "|---|---|---|---|---|\n",
       "| Africa   | 2002 | 53.32523 | 52 |  833723916 |\n",
       "| Americas | 2002 | 72.42204 | 25 |  849772762 |\n",
       "| Asia     | 2002 | 69.23388 | 33 | 3601802203 |\n",
       "| Europe   | 2002 | 76.70060 | 30 |  578223869 |\n",
       "| Oceania  | 2002 | 79.74000 |  2 |   23454829 |\n",
       "\n"
      ],
      "text/plain": [
       "  continent year lifeExpAvg countriesCount totalPop  \n",
       "1 Africa    2002 53.32523   52              833723916\n",
       "2 Americas  2002 72.42204   25              849772762\n",
       "3 Asia      2002 69.23388   33             3601802203\n",
       "4 Europe    2002 76.70060   30              578223869\n",
       "5 Oceania   2002 79.74000    2               23454829"
      ]
     },
     "metadata": {},
     "output_type": "display_data"
    }
   ],
   "source": [
    "grouped_data2002pop <- grouped_data2002pop %>% \n",
    "    arrange(totalPop)\n",
    "\n",
    "grouped_data <- d2002 %>% \n",
    "    left_join(grouped_data2002pop, by = c(\"continent\", \"year\"))\n",
    "grouped_data\n",
    "\n",
    "#ok"
   ]
  },
  {
   "cell_type": "markdown",
   "id": "f4c3a805",
   "metadata": {},
   "source": [
    "Let's make a different data sets for testing `join()` fucntions:"
   ]
  },
  {
   "cell_type": "code",
   "execution_count": 182,
   "id": "f290a6ee",
   "metadata": {
    "vscode": {
     "languageId": "r"
    }
   },
   "outputs": [
    {
     "data": {
      "text/html": [
       "<table class=\"dataframe\">\n",
       "<caption>A data.frame: 5 × 2</caption>\n",
       "<thead>\n",
       "\t<tr><th scope=col>Letter</th><th scope=col>Value</th></tr>\n",
       "\t<tr><th scope=col>&lt;chr&gt;</th><th scope=col>&lt;int&gt;</th></tr>\n",
       "</thead>\n",
       "<tbody>\n",
       "\t<tr><td>A</td><td>1</td></tr>\n",
       "\t<tr><td>B</td><td>2</td></tr>\n",
       "\t<tr><td>C</td><td>3</td></tr>\n",
       "\t<tr><td>D</td><td>4</td></tr>\n",
       "\t<tr><td>E</td><td>5</td></tr>\n",
       "</tbody>\n",
       "</table>\n"
      ],
      "text/latex": [
       "A data.frame: 5 × 2\n",
       "\\begin{tabular}{ll}\n",
       " Letter & Value\\\\\n",
       " <chr> & <int>\\\\\n",
       "\\hline\n",
       "\t A & 1\\\\\n",
       "\t B & 2\\\\\n",
       "\t C & 3\\\\\n",
       "\t D & 4\\\\\n",
       "\t E & 5\\\\\n",
       "\\end{tabular}\n"
      ],
      "text/markdown": [
       "\n",
       "A data.frame: 5 × 2\n",
       "\n",
       "| Letter &lt;chr&gt; | Value &lt;int&gt; |\n",
       "|---|---|\n",
       "| A | 1 |\n",
       "| B | 2 |\n",
       "| C | 3 |\n",
       "| D | 4 |\n",
       "| E | 5 |\n",
       "\n"
      ],
      "text/plain": [
       "  Letter Value\n",
       "1 A      1    \n",
       "2 B      2    \n",
       "3 C      3    \n",
       "4 D      4    \n",
       "5 E      5    "
      ]
     },
     "metadata": {},
     "output_type": "display_data"
    },
    {
     "data": {
      "text/html": [
       "<table class=\"dataframe\">\n",
       "<caption>A data.frame: 5 × 2</caption>\n",
       "<thead>\n",
       "\t<tr><th scope=col>Letter</th><th scope=col>Value</th></tr>\n",
       "\t<tr><th scope=col>&lt;chr&gt;</th><th scope=col>&lt;dbl&gt;</th></tr>\n",
       "</thead>\n",
       "<tbody>\n",
       "\t<tr><td>A</td><td>12</td></tr>\n",
       "\t<tr><td>B</td><td> 7</td></tr>\n",
       "\t<tr><td>C</td><td> 4</td></tr>\n",
       "\t<tr><td>D</td><td> 1</td></tr>\n",
       "\t<tr><td>F</td><td> 5</td></tr>\n",
       "</tbody>\n",
       "</table>\n"
      ],
      "text/latex": [
       "A data.frame: 5 × 2\n",
       "\\begin{tabular}{ll}\n",
       " Letter & Value\\\\\n",
       " <chr> & <dbl>\\\\\n",
       "\\hline\n",
       "\t A & 12\\\\\n",
       "\t B &  7\\\\\n",
       "\t C &  4\\\\\n",
       "\t D &  1\\\\\n",
       "\t F &  5\\\\\n",
       "\\end{tabular}\n"
      ],
      "text/markdown": [
       "\n",
       "A data.frame: 5 × 2\n",
       "\n",
       "| Letter &lt;chr&gt; | Value &lt;dbl&gt; |\n",
       "|---|---|\n",
       "| A | 12 |\n",
       "| B |  7 |\n",
       "| C |  4 |\n",
       "| D |  1 |\n",
       "| F |  5 |\n",
       "\n"
      ],
      "text/plain": [
       "  Letter Value\n",
       "1 A      12   \n",
       "2 B       7   \n",
       "3 C       4   \n",
       "4 D       1   \n",
       "5 F       5   "
      ]
     },
     "metadata": {},
     "output_type": "display_data"
    }
   ],
   "source": [
    "first_df <- data.frame(Letter = c(\"A\", \"B\", \"C\", \"D\", \"E\"),\n",
    "                      Value = c(1:5))\n",
    "\n",
    "second_df <- data.frame(Letter = c(\"A\", \"B\", \"C\", \"D\", \"F\"),\n",
    "                      Value = c(12, 7, 4, 1, 5))\n",
    "first_df\n",
    "second_df "
   ]
  },
  {
   "cell_type": "markdown",
   "id": "d050a8b1",
   "metadata": {},
   "source": [
    "You can see that the last row `Letter` is different in dataframes. `left_join()` test is next."
   ]
  },
  {
   "cell_type": "code",
   "execution_count": 183,
   "id": "f706d67e",
   "metadata": {
    "vscode": {
     "languageId": "r"
    }
   },
   "outputs": [
    {
     "data": {
      "text/html": [
       "<table class=\"dataframe\">\n",
       "<caption>A data.frame: 5 × 3</caption>\n",
       "<thead>\n",
       "\t<tr><th scope=col>Letter</th><th scope=col>Value.x</th><th scope=col>Value.y</th></tr>\n",
       "\t<tr><th scope=col>&lt;chr&gt;</th><th scope=col>&lt;int&gt;</th><th scope=col>&lt;dbl&gt;</th></tr>\n",
       "</thead>\n",
       "<tbody>\n",
       "\t<tr><td>A</td><td>1</td><td>12</td></tr>\n",
       "\t<tr><td>B</td><td>2</td><td> 7</td></tr>\n",
       "\t<tr><td>C</td><td>3</td><td> 4</td></tr>\n",
       "\t<tr><td>D</td><td>4</td><td> 1</td></tr>\n",
       "\t<tr><td>E</td><td>5</td><td>NA</td></tr>\n",
       "</tbody>\n",
       "</table>\n"
      ],
      "text/latex": [
       "A data.frame: 5 × 3\n",
       "\\begin{tabular}{lll}\n",
       " Letter & Value.x & Value.y\\\\\n",
       " <chr> & <int> & <dbl>\\\\\n",
       "\\hline\n",
       "\t A & 1 & 12\\\\\n",
       "\t B & 2 &  7\\\\\n",
       "\t C & 3 &  4\\\\\n",
       "\t D & 4 &  1\\\\\n",
       "\t E & 5 & NA\\\\\n",
       "\\end{tabular}\n"
      ],
      "text/markdown": [
       "\n",
       "A data.frame: 5 × 3\n",
       "\n",
       "| Letter &lt;chr&gt; | Value.x &lt;int&gt; | Value.y &lt;dbl&gt; |\n",
       "|---|---|---|\n",
       "| A | 1 | 12 |\n",
       "| B | 2 |  7 |\n",
       "| C | 3 |  4 |\n",
       "| D | 4 |  1 |\n",
       "| E | 5 | NA |\n",
       "\n"
      ],
      "text/plain": [
       "  Letter Value.x Value.y\n",
       "1 A      1       12     \n",
       "2 B      2        7     \n",
       "3 C      3        4     \n",
       "4 D      4        1     \n",
       "5 E      5       NA     "
      ]
     },
     "metadata": {},
     "output_type": "display_data"
    }
   ],
   "source": [
    "first_df %>% \n",
    "    left_join(second_df, by = \"Letter\")\n",
    "# there is no F letter, becouse first_db joined only known first_df Letters."
   ]
  },
  {
   "cell_type": "code",
   "execution_count": 184,
   "id": "432e45a9",
   "metadata": {
    "vscode": {
     "languageId": "r"
    }
   },
   "outputs": [
    {
     "data": {
      "text/html": [
       "<table class=\"dataframe\">\n",
       "<caption>A data.frame: 5 × 3</caption>\n",
       "<thead>\n",
       "\t<tr><th scope=col>Letter</th><th scope=col>Value.x</th><th scope=col>Value.y</th></tr>\n",
       "\t<tr><th scope=col>&lt;chr&gt;</th><th scope=col>&lt;int&gt;</th><th scope=col>&lt;dbl&gt;</th></tr>\n",
       "</thead>\n",
       "<tbody>\n",
       "\t<tr><td>A</td><td> 1</td><td>12</td></tr>\n",
       "\t<tr><td>B</td><td> 2</td><td> 7</td></tr>\n",
       "\t<tr><td>C</td><td> 3</td><td> 4</td></tr>\n",
       "\t<tr><td>D</td><td> 4</td><td> 1</td></tr>\n",
       "\t<tr><td>F</td><td>NA</td><td> 5</td></tr>\n",
       "</tbody>\n",
       "</table>\n"
      ],
      "text/latex": [
       "A data.frame: 5 × 3\n",
       "\\begin{tabular}{lll}\n",
       " Letter & Value.x & Value.y\\\\\n",
       " <chr> & <int> & <dbl>\\\\\n",
       "\\hline\n",
       "\t A &  1 & 12\\\\\n",
       "\t B &  2 &  7\\\\\n",
       "\t C &  3 &  4\\\\\n",
       "\t D &  4 &  1\\\\\n",
       "\t F & NA &  5\\\\\n",
       "\\end{tabular}\n"
      ],
      "text/markdown": [
       "\n",
       "A data.frame: 5 × 3\n",
       "\n",
       "| Letter &lt;chr&gt; | Value.x &lt;int&gt; | Value.y &lt;dbl&gt; |\n",
       "|---|---|---|\n",
       "| A |  1 | 12 |\n",
       "| B |  2 |  7 |\n",
       "| C |  3 |  4 |\n",
       "| D |  4 |  1 |\n",
       "| F | NA |  5 |\n",
       "\n"
      ],
      "text/plain": [
       "  Letter Value.x Value.y\n",
       "1 A       1      12     \n",
       "2 B       2       7     \n",
       "3 C       3       4     \n",
       "4 D       4       1     \n",
       "5 F      NA       5     "
      ]
     },
     "metadata": {},
     "output_type": "display_data"
    }
   ],
   "source": [
    "first_df %>% \n",
    "    right_join(second_df, by = \"Letter\")\n",
    "# right_join! there is no E letter, becouse first_db joined only known second_df Letters."
   ]
  },
  {
   "cell_type": "code",
   "execution_count": 185,
   "id": "d6ed8223",
   "metadata": {
    "vscode": {
     "languageId": "r"
    }
   },
   "outputs": [
    {
     "data": {
      "text/html": [
       "<table class=\"dataframe\">\n",
       "<caption>A data.frame: 4 × 3</caption>\n",
       "<thead>\n",
       "\t<tr><th scope=col>Letter</th><th scope=col>Value.x</th><th scope=col>Value.y</th></tr>\n",
       "\t<tr><th scope=col>&lt;chr&gt;</th><th scope=col>&lt;int&gt;</th><th scope=col>&lt;dbl&gt;</th></tr>\n",
       "</thead>\n",
       "<tbody>\n",
       "\t<tr><td>A</td><td>1</td><td>12</td></tr>\n",
       "\t<tr><td>B</td><td>2</td><td> 7</td></tr>\n",
       "\t<tr><td>C</td><td>3</td><td> 4</td></tr>\n",
       "\t<tr><td>D</td><td>4</td><td> 1</td></tr>\n",
       "</tbody>\n",
       "</table>\n"
      ],
      "text/latex": [
       "A data.frame: 4 × 3\n",
       "\\begin{tabular}{lll}\n",
       " Letter & Value.x & Value.y\\\\\n",
       " <chr> & <int> & <dbl>\\\\\n",
       "\\hline\n",
       "\t A & 1 & 12\\\\\n",
       "\t B & 2 &  7\\\\\n",
       "\t C & 3 &  4\\\\\n",
       "\t D & 4 &  1\\\\\n",
       "\\end{tabular}\n"
      ],
      "text/markdown": [
       "\n",
       "A data.frame: 4 × 3\n",
       "\n",
       "| Letter &lt;chr&gt; | Value.x &lt;int&gt; | Value.y &lt;dbl&gt; |\n",
       "|---|---|---|\n",
       "| A | 1 | 12 |\n",
       "| B | 2 |  7 |\n",
       "| C | 3 |  4 |\n",
       "| D | 4 |  1 |\n",
       "\n"
      ],
      "text/plain": [
       "  Letter Value.x Value.y\n",
       "1 A      1       12     \n",
       "2 B      2        7     \n",
       "3 C      3        4     \n",
       "4 D      4        1     "
      ]
     },
     "metadata": {},
     "output_type": "display_data"
    }
   ],
   "source": [
    "first_df %>% \n",
    "    inner_join(second_df, by = \"Letter\")\n",
    "# inner_join! there is no E and F Letters, \n",
    "# only known both first_df and second_df are left here."
   ]
  },
  {
   "cell_type": "code",
   "execution_count": 186,
   "id": "78da6481",
   "metadata": {
    "vscode": {
     "languageId": "r"
    }
   },
   "outputs": [
    {
     "data": {
      "text/html": [
       "<table class=\"dataframe\">\n",
       "<caption>A data.frame: 6 × 3</caption>\n",
       "<thead>\n",
       "\t<tr><th scope=col>Letter</th><th scope=col>Value.x</th><th scope=col>Value.y</th></tr>\n",
       "\t<tr><th scope=col>&lt;chr&gt;</th><th scope=col>&lt;int&gt;</th><th scope=col>&lt;dbl&gt;</th></tr>\n",
       "</thead>\n",
       "<tbody>\n",
       "\t<tr><td>A</td><td> 1</td><td>12</td></tr>\n",
       "\t<tr><td>B</td><td> 2</td><td> 7</td></tr>\n",
       "\t<tr><td>C</td><td> 3</td><td> 4</td></tr>\n",
       "\t<tr><td>D</td><td> 4</td><td> 1</td></tr>\n",
       "\t<tr><td>E</td><td> 5</td><td>NA</td></tr>\n",
       "\t<tr><td>F</td><td>NA</td><td> 5</td></tr>\n",
       "</tbody>\n",
       "</table>\n"
      ],
      "text/latex": [
       "A data.frame: 6 × 3\n",
       "\\begin{tabular}{lll}\n",
       " Letter & Value.x & Value.y\\\\\n",
       " <chr> & <int> & <dbl>\\\\\n",
       "\\hline\n",
       "\t A &  1 & 12\\\\\n",
       "\t B &  2 &  7\\\\\n",
       "\t C &  3 &  4\\\\\n",
       "\t D &  4 &  1\\\\\n",
       "\t E &  5 & NA\\\\\n",
       "\t F & NA &  5\\\\\n",
       "\\end{tabular}\n"
      ],
      "text/markdown": [
       "\n",
       "A data.frame: 6 × 3\n",
       "\n",
       "| Letter &lt;chr&gt; | Value.x &lt;int&gt; | Value.y &lt;dbl&gt; |\n",
       "|---|---|---|\n",
       "| A |  1 | 12 |\n",
       "| B |  2 |  7 |\n",
       "| C |  3 |  4 |\n",
       "| D |  4 |  1 |\n",
       "| E |  5 | NA |\n",
       "| F | NA |  5 |\n",
       "\n"
      ],
      "text/plain": [
       "  Letter Value.x Value.y\n",
       "1 A       1      12     \n",
       "2 B       2       7     \n",
       "3 C       3       4     \n",
       "4 D       4       1     \n",
       "5 E       5      NA     \n",
       "6 F      NA       5     "
      ]
     },
     "metadata": {},
     "output_type": "display_data"
    }
   ],
   "source": [
    "first_df %>% \n",
    "    full_join(second_df, by = \"Letter\")\n",
    "# all are here, but unknown values replaced by NA, it's ok."
   ]
  },
  {
   "cell_type": "markdown",
   "id": "558d30b2",
   "metadata": {},
   "source": [
    "Short description of reviewed functions:\n",
    "\n",
    "|Function|Objectives|Arguments|Multiple keys|\n",
    "|---|---|---|---|\n",
    "|`left_join()`|Merge two datasets. Keep all observations from the origin table|\tdata, origin, destination, by = \"ID\" |\torigin, destination, by = c(\"ID\", \"ID2\")|\n",
    "|`right_join()`|Merge two datasets. Keep all observations from the destination table\t|data, origin, destination, by = \"ID\"\t|origin, destination, by = c(\"ID\", \"ID2\")|\n",
    "|`inner_join()`|Merge two datasets. Excludes all unmatched rows\t|data, origin, destination, by = \"ID\"|\torigin, destination, by = c(\"ID\", \"ID2\")|\n",
    "|`full_join()`|Merge two datasets. Keeps all observations|\tdata, origin, destination, by = \"ID\"\t|origin, destination, by = c(\"ID\", \"ID2\")|"
   ]
  },
  {
   "cell_type": "markdown",
   "id": "ecdfcfd8",
   "metadata": {},
   "source": [
    "---"
   ]
  },
  {
   "cell_type": "markdown",
   "id": "9c451692",
   "metadata": {},
   "source": [
    "### Data cleaning with `gather()`"
   ]
  },
  {
   "cell_type": "markdown",
   "id": "5b2bffd6",
   "metadata": {},
   "source": [
    "Some times your data is not in tidy format. Peole can collect data year by year in each column. It's problem to use such data for feature engeniering and building prediction models. Let's generate such data sample (quaterly salary of some people)."
   ]
  },
  {
   "cell_type": "code",
   "execution_count": 187,
   "id": "ee9431db",
   "metadata": {
    "vscode": {
     "languageId": "r"
    }
   },
   "outputs": [
    {
     "data": {
      "text/html": [
       "<table class=\"dataframe\">\n",
       "<caption>A data.frame: 5 × 5</caption>\n",
       "<thead>\n",
       "\t<tr><th scope=col>Name</th><th scope=col>q1_2021</th><th scope=col>q2_2021</th><th scope=col>q3_2021</th><th scope=col>q4_2021</th></tr>\n",
       "\t<tr><th scope=col>&lt;chr&gt;</th><th scope=col>&lt;dbl&gt;</th><th scope=col>&lt;dbl&gt;</th><th scope=col>&lt;dbl&gt;</th><th scope=col>&lt;dbl&gt;</th></tr>\n",
       "</thead>\n",
       "<tbody>\n",
       "\t<tr><td>Nick</td><td>12442</td><td>13442</td><td>15482</td><td>14511</td></tr>\n",
       "\t<tr><td>Jake</td><td>22131</td><td>22871</td><td>22031</td><td>20031</td></tr>\n",
       "\t<tr><td>Anna</td><td>21343</td><td>20343</td><td>22456</td><td>21741</td></tr>\n",
       "\t<tr><td>Jane</td><td>22111</td><td>22222</td><td>22444</td><td>22333</td></tr>\n",
       "\t<tr><td>Dina</td><td>14123</td><td>14456</td><td>14533</td><td>14511</td></tr>\n",
       "</tbody>\n",
       "</table>\n"
      ],
      "text/latex": [
       "A data.frame: 5 × 5\n",
       "\\begin{tabular}{lllll}\n",
       " Name & q1\\_2021 & q2\\_2021 & q3\\_2021 & q4\\_2021\\\\\n",
       " <chr> & <dbl> & <dbl> & <dbl> & <dbl>\\\\\n",
       "\\hline\n",
       "\t Nick & 12442 & 13442 & 15482 & 14511\\\\\n",
       "\t Jake & 22131 & 22871 & 22031 & 20031\\\\\n",
       "\t Anna & 21343 & 20343 & 22456 & 21741\\\\\n",
       "\t Jane & 22111 & 22222 & 22444 & 22333\\\\\n",
       "\t Dina & 14123 & 14456 & 14533 & 14511\\\\\n",
       "\\end{tabular}\n"
      ],
      "text/markdown": [
       "\n",
       "A data.frame: 5 × 5\n",
       "\n",
       "| Name &lt;chr&gt; | q1_2021 &lt;dbl&gt; | q2_2021 &lt;dbl&gt; | q3_2021 &lt;dbl&gt; | q4_2021 &lt;dbl&gt; |\n",
       "|---|---|---|---|---|\n",
       "| Nick | 12442 | 13442 | 15482 | 14511 |\n",
       "| Jake | 22131 | 22871 | 22031 | 20031 |\n",
       "| Anna | 21343 | 20343 | 22456 | 21741 |\n",
       "| Jane | 22111 | 22222 | 22444 | 22333 |\n",
       "| Dina | 14123 | 14456 | 14533 | 14511 |\n",
       "\n"
      ],
      "text/plain": [
       "  Name q1_2021 q2_2021 q3_2021 q4_2021\n",
       "1 Nick 12442   13442   15482   14511  \n",
       "2 Jake 22131   22871   22031   20031  \n",
       "3 Anna 21343   20343   22456   21741  \n",
       "4 Jane 22111   22222   22444   22333  \n",
       "5 Dina 14123   14456   14533   14511  "
      ]
     },
     "metadata": {},
     "output_type": "display_data"
    }
   ],
   "source": [
    "not_good_data <- data.frame(Name = c(\"Nick\", \"Jake\", \"Anna\", \"Jane\", \"Dina\"),\n",
    "                           q1_2021 = c(12442, 22131, 21343, 22111, 14123),\n",
    "                           q2_2021 = c(13442, 22871, 20343, 22222, 14456),\n",
    "                           q3_2021 = c(15482, 22031, 22456, 22444, 14533),\n",
    "                           q4_2021 = c(14511, 20031, 21741, 22333, 14511))\n",
    "not_good_data"
   ]
  },
  {
   "cell_type": "code",
   "execution_count": 188,
   "id": "537aa6ac",
   "metadata": {
    "vscode": {
     "languageId": "r"
    }
   },
   "outputs": [
    {
     "data": {
      "text/html": [
       "<table class=\"dataframe\">\n",
       "<caption>A data.frame: 20 × 3</caption>\n",
       "<thead>\n",
       "\t<tr><th scope=col>Name</th><th scope=col>quater</th><th scope=col>salary</th></tr>\n",
       "\t<tr><th scope=col>&lt;chr&gt;</th><th scope=col>&lt;chr&gt;</th><th scope=col>&lt;dbl&gt;</th></tr>\n",
       "</thead>\n",
       "<tbody>\n",
       "\t<tr><td>Nick</td><td>q1_2021</td><td>12442</td></tr>\n",
       "\t<tr><td>Jake</td><td>q1_2021</td><td>22131</td></tr>\n",
       "\t<tr><td>Anna</td><td>q1_2021</td><td>21343</td></tr>\n",
       "\t<tr><td>Jane</td><td>q1_2021</td><td>22111</td></tr>\n",
       "\t<tr><td>Dina</td><td>q1_2021</td><td>14123</td></tr>\n",
       "\t<tr><td>Nick</td><td>q2_2021</td><td>13442</td></tr>\n",
       "\t<tr><td>Jake</td><td>q2_2021</td><td>22871</td></tr>\n",
       "\t<tr><td>Anna</td><td>q2_2021</td><td>20343</td></tr>\n",
       "\t<tr><td>Jane</td><td>q2_2021</td><td>22222</td></tr>\n",
       "\t<tr><td>Dina</td><td>q2_2021</td><td>14456</td></tr>\n",
       "\t<tr><td>Nick</td><td>q3_2021</td><td>15482</td></tr>\n",
       "\t<tr><td>Jake</td><td>q3_2021</td><td>22031</td></tr>\n",
       "\t<tr><td>Anna</td><td>q3_2021</td><td>22456</td></tr>\n",
       "\t<tr><td>Jane</td><td>q3_2021</td><td>22444</td></tr>\n",
       "\t<tr><td>Dina</td><td>q3_2021</td><td>14533</td></tr>\n",
       "\t<tr><td>Nick</td><td>q4_2021</td><td>14511</td></tr>\n",
       "\t<tr><td>Jake</td><td>q4_2021</td><td>20031</td></tr>\n",
       "\t<tr><td>Anna</td><td>q4_2021</td><td>21741</td></tr>\n",
       "\t<tr><td>Jane</td><td>q4_2021</td><td>22333</td></tr>\n",
       "\t<tr><td>Dina</td><td>q4_2021</td><td>14511</td></tr>\n",
       "</tbody>\n",
       "</table>\n"
      ],
      "text/latex": [
       "A data.frame: 20 × 3\n",
       "\\begin{tabular}{lll}\n",
       " Name & quater & salary\\\\\n",
       " <chr> & <chr> & <dbl>\\\\\n",
       "\\hline\n",
       "\t Nick & q1\\_2021 & 12442\\\\\n",
       "\t Jake & q1\\_2021 & 22131\\\\\n",
       "\t Anna & q1\\_2021 & 21343\\\\\n",
       "\t Jane & q1\\_2021 & 22111\\\\\n",
       "\t Dina & q1\\_2021 & 14123\\\\\n",
       "\t Nick & q2\\_2021 & 13442\\\\\n",
       "\t Jake & q2\\_2021 & 22871\\\\\n",
       "\t Anna & q2\\_2021 & 20343\\\\\n",
       "\t Jane & q2\\_2021 & 22222\\\\\n",
       "\t Dina & q2\\_2021 & 14456\\\\\n",
       "\t Nick & q3\\_2021 & 15482\\\\\n",
       "\t Jake & q3\\_2021 & 22031\\\\\n",
       "\t Anna & q3\\_2021 & 22456\\\\\n",
       "\t Jane & q3\\_2021 & 22444\\\\\n",
       "\t Dina & q3\\_2021 & 14533\\\\\n",
       "\t Nick & q4\\_2021 & 14511\\\\\n",
       "\t Jake & q4\\_2021 & 20031\\\\\n",
       "\t Anna & q4\\_2021 & 21741\\\\\n",
       "\t Jane & q4\\_2021 & 22333\\\\\n",
       "\t Dina & q4\\_2021 & 14511\\\\\n",
       "\\end{tabular}\n"
      ],
      "text/markdown": [
       "\n",
       "A data.frame: 20 × 3\n",
       "\n",
       "| Name &lt;chr&gt; | quater &lt;chr&gt; | salary &lt;dbl&gt; |\n",
       "|---|---|---|\n",
       "| Nick | q1_2021 | 12442 |\n",
       "| Jake | q1_2021 | 22131 |\n",
       "| Anna | q1_2021 | 21343 |\n",
       "| Jane | q1_2021 | 22111 |\n",
       "| Dina | q1_2021 | 14123 |\n",
       "| Nick | q2_2021 | 13442 |\n",
       "| Jake | q2_2021 | 22871 |\n",
       "| Anna | q2_2021 | 20343 |\n",
       "| Jane | q2_2021 | 22222 |\n",
       "| Dina | q2_2021 | 14456 |\n",
       "| Nick | q3_2021 | 15482 |\n",
       "| Jake | q3_2021 | 22031 |\n",
       "| Anna | q3_2021 | 22456 |\n",
       "| Jane | q3_2021 | 22444 |\n",
       "| Dina | q3_2021 | 14533 |\n",
       "| Nick | q4_2021 | 14511 |\n",
       "| Jake | q4_2021 | 20031 |\n",
       "| Anna | q4_2021 | 21741 |\n",
       "| Jane | q4_2021 | 22333 |\n",
       "| Dina | q4_2021 | 14511 |\n",
       "\n"
      ],
      "text/plain": [
       "   Name quater  salary\n",
       "1  Nick q1_2021 12442 \n",
       "2  Jake q1_2021 22131 \n",
       "3  Anna q1_2021 21343 \n",
       "4  Jane q1_2021 22111 \n",
       "5  Dina q1_2021 14123 \n",
       "6  Nick q2_2021 13442 \n",
       "7  Jake q2_2021 22871 \n",
       "8  Anna q2_2021 20343 \n",
       "9  Jane q2_2021 22222 \n",
       "10 Dina q2_2021 14456 \n",
       "11 Nick q3_2021 15482 \n",
       "12 Jake q3_2021 22031 \n",
       "13 Anna q3_2021 22456 \n",
       "14 Jane q3_2021 22444 \n",
       "15 Dina q3_2021 14533 \n",
       "16 Nick q4_2021 14511 \n",
       "17 Jake q4_2021 20031 \n",
       "18 Anna q4_2021 21741 \n",
       "19 Jane q4_2021 22333 \n",
       "20 Dina q4_2021 14511 "
      ]
     },
     "metadata": {},
     "output_type": "display_data"
    }
   ],
   "source": [
    "better_data <- not_good_data %>%\n",
    "                gather(quater, salary, 2:5)\n",
    "                # gather(quater, salary, q1_2021:q4_2021) possible code too\n",
    "better_data"
   ]
  },
  {
   "cell_type": "markdown",
   "id": "53cd7b4a",
   "metadata": {},
   "source": [
    "To make our data tidier `separate()` can split quater column into 2 (`quater` and `year`):"
   ]
  },
  {
   "cell_type": "code",
   "execution_count": 189,
   "id": "962bf5bb",
   "metadata": {
    "vscode": {
     "languageId": "r"
    }
   },
   "outputs": [
    {
     "data": {
      "text/html": [
       "<table class=\"dataframe\">\n",
       "<caption>A data.frame: 10 × 4</caption>\n",
       "<thead>\n",
       "\t<tr><th></th><th scope=col>Name</th><th scope=col>quater</th><th scope=col>year</th><th scope=col>salary</th></tr>\n",
       "\t<tr><th></th><th scope=col>&lt;chr&gt;</th><th scope=col>&lt;int&gt;</th><th scope=col>&lt;int&gt;</th><th scope=col>&lt;dbl&gt;</th></tr>\n",
       "</thead>\n",
       "<tbody>\n",
       "\t<tr><th scope=row>1</th><td>Nick</td><td>1</td><td>2021</td><td>12442</td></tr>\n",
       "\t<tr><th scope=row>2</th><td>Jake</td><td>1</td><td>2021</td><td>22131</td></tr>\n",
       "\t<tr><th scope=row>3</th><td>Anna</td><td>1</td><td>2021</td><td>21343</td></tr>\n",
       "\t<tr><th scope=row>4</th><td>Jane</td><td>1</td><td>2021</td><td>22111</td></tr>\n",
       "\t<tr><th scope=row>5</th><td>Dina</td><td>1</td><td>2021</td><td>14123</td></tr>\n",
       "\t<tr><th scope=row>6</th><td>Nick</td><td>2</td><td>2021</td><td>13442</td></tr>\n",
       "\t<tr><th scope=row>7</th><td>Jake</td><td>2</td><td>2021</td><td>22871</td></tr>\n",
       "\t<tr><th scope=row>8</th><td>Anna</td><td>2</td><td>2021</td><td>20343</td></tr>\n",
       "\t<tr><th scope=row>9</th><td>Jane</td><td>2</td><td>2021</td><td>22222</td></tr>\n",
       "\t<tr><th scope=row>10</th><td>Dina</td><td>2</td><td>2021</td><td>14456</td></tr>\n",
       "</tbody>\n",
       "</table>\n"
      ],
      "text/latex": [
       "A data.frame: 10 × 4\n",
       "\\begin{tabular}{r|llll}\n",
       "  & Name & quater & year & salary\\\\\n",
       "  & <chr> & <int> & <int> & <dbl>\\\\\n",
       "\\hline\n",
       "\t1 & Nick & 1 & 2021 & 12442\\\\\n",
       "\t2 & Jake & 1 & 2021 & 22131\\\\\n",
       "\t3 & Anna & 1 & 2021 & 21343\\\\\n",
       "\t4 & Jane & 1 & 2021 & 22111\\\\\n",
       "\t5 & Dina & 1 & 2021 & 14123\\\\\n",
       "\t6 & Nick & 2 & 2021 & 13442\\\\\n",
       "\t7 & Jake & 2 & 2021 & 22871\\\\\n",
       "\t8 & Anna & 2 & 2021 & 20343\\\\\n",
       "\t9 & Jane & 2 & 2021 & 22222\\\\\n",
       "\t10 & Dina & 2 & 2021 & 14456\\\\\n",
       "\\end{tabular}\n"
      ],
      "text/markdown": [
       "\n",
       "A data.frame: 10 × 4\n",
       "\n",
       "| <!--/--> | Name &lt;chr&gt; | quater &lt;int&gt; | year &lt;int&gt; | salary &lt;dbl&gt; |\n",
       "|---|---|---|---|---|\n",
       "| 1 | Nick | 1 | 2021 | 12442 |\n",
       "| 2 | Jake | 1 | 2021 | 22131 |\n",
       "| 3 | Anna | 1 | 2021 | 21343 |\n",
       "| 4 | Jane | 1 | 2021 | 22111 |\n",
       "| 5 | Dina | 1 | 2021 | 14123 |\n",
       "| 6 | Nick | 2 | 2021 | 13442 |\n",
       "| 7 | Jake | 2 | 2021 | 22871 |\n",
       "| 8 | Anna | 2 | 2021 | 20343 |\n",
       "| 9 | Jane | 2 | 2021 | 22222 |\n",
       "| 10 | Dina | 2 | 2021 | 14456 |\n",
       "\n"
      ],
      "text/plain": [
       "   Name quater year salary\n",
       "1  Nick 1      2021 12442 \n",
       "2  Jake 1      2021 22131 \n",
       "3  Anna 1      2021 21343 \n",
       "4  Jane 1      2021 22111 \n",
       "5  Dina 1      2021 14123 \n",
       "6  Nick 2      2021 13442 \n",
       "7  Jake 2      2021 22871 \n",
       "8  Anna 2      2021 20343 \n",
       "9  Jane 2      2021 22222 \n",
       "10 Dina 2      2021 14456 "
      ]
     },
     "metadata": {},
     "output_type": "display_data"
    }
   ],
   "source": [
    "best_data <- better_data %>%\n",
    "    separate(quater, c(\"quater\", \"year\"), sep = \"_\") %>% # separate\n",
    "    mutate(year = as.integer(year), # convert year to integer\n",
    "           quater = substr(better_data$quater, 2,2), # trim `q` from start\n",
    "           quater = as.integer(quater), # convert quater to integer\n",
    "          ) %>%\n",
    "    head(10)\n",
    "best_data"
   ]
  },
  {
   "cell_type": "markdown",
   "id": "a55e4b66",
   "metadata": {},
   "source": [
    "The `unite()` function concanates two columns into one:"
   ]
  },
  {
   "cell_type": "code",
   "execution_count": 190,
   "id": "975f28d0",
   "metadata": {
    "vscode": {
     "languageId": "r"
    }
   },
   "outputs": [
    {
     "data": {
      "text/html": [
       "<table class=\"dataframe\">\n",
       "<caption>A data.frame: 10 × 3</caption>\n",
       "<thead>\n",
       "\t<tr><th></th><th scope=col>Name</th><th scope=col>Qt</th><th scope=col>salary</th></tr>\n",
       "\t<tr><th></th><th scope=col>&lt;chr&gt;</th><th scope=col>&lt;chr&gt;</th><th scope=col>&lt;dbl&gt;</th></tr>\n",
       "</thead>\n",
       "<tbody>\n",
       "\t<tr><th scope=row>1</th><td>Nick</td><td>1#2021</td><td>12442</td></tr>\n",
       "\t<tr><th scope=row>2</th><td>Jake</td><td>1#2021</td><td>22131</td></tr>\n",
       "\t<tr><th scope=row>3</th><td>Anna</td><td>1#2021</td><td>21343</td></tr>\n",
       "\t<tr><th scope=row>4</th><td>Jane</td><td>1#2021</td><td>22111</td></tr>\n",
       "\t<tr><th scope=row>5</th><td>Dina</td><td>1#2021</td><td>14123</td></tr>\n",
       "\t<tr><th scope=row>6</th><td>Nick</td><td>2#2021</td><td>13442</td></tr>\n",
       "\t<tr><th scope=row>7</th><td>Jake</td><td>2#2021</td><td>22871</td></tr>\n",
       "\t<tr><th scope=row>8</th><td>Anna</td><td>2#2021</td><td>20343</td></tr>\n",
       "\t<tr><th scope=row>9</th><td>Jane</td><td>2#2021</td><td>22222</td></tr>\n",
       "\t<tr><th scope=row>10</th><td>Dina</td><td>2#2021</td><td>14456</td></tr>\n",
       "</tbody>\n",
       "</table>\n"
      ],
      "text/latex": [
       "A data.frame: 10 × 3\n",
       "\\begin{tabular}{r|lll}\n",
       "  & Name & Qt & salary\\\\\n",
       "  & <chr> & <chr> & <dbl>\\\\\n",
       "\\hline\n",
       "\t1 & Nick & 1\\#2021 & 12442\\\\\n",
       "\t2 & Jake & 1\\#2021 & 22131\\\\\n",
       "\t3 & Anna & 1\\#2021 & 21343\\\\\n",
       "\t4 & Jane & 1\\#2021 & 22111\\\\\n",
       "\t5 & Dina & 1\\#2021 & 14123\\\\\n",
       "\t6 & Nick & 2\\#2021 & 13442\\\\\n",
       "\t7 & Jake & 2\\#2021 & 22871\\\\\n",
       "\t8 & Anna & 2\\#2021 & 20343\\\\\n",
       "\t9 & Jane & 2\\#2021 & 22222\\\\\n",
       "\t10 & Dina & 2\\#2021 & 14456\\\\\n",
       "\\end{tabular}\n"
      ],
      "text/markdown": [
       "\n",
       "A data.frame: 10 × 3\n",
       "\n",
       "| <!--/--> | Name &lt;chr&gt; | Qt &lt;chr&gt; | salary &lt;dbl&gt; |\n",
       "|---|---|---|---|\n",
       "| 1 | Nick | 1#2021 | 12442 |\n",
       "| 2 | Jake | 1#2021 | 22131 |\n",
       "| 3 | Anna | 1#2021 | 21343 |\n",
       "| 4 | Jane | 1#2021 | 22111 |\n",
       "| 5 | Dina | 1#2021 | 14123 |\n",
       "| 6 | Nick | 2#2021 | 13442 |\n",
       "| 7 | Jake | 2#2021 | 22871 |\n",
       "| 8 | Anna | 2#2021 | 20343 |\n",
       "| 9 | Jane | 2#2021 | 22222 |\n",
       "| 10 | Dina | 2#2021 | 14456 |\n",
       "\n"
      ],
      "text/plain": [
       "   Name Qt     salary\n",
       "1  Nick 1#2021 12442 \n",
       "2  Jake 1#2021 22131 \n",
       "3  Anna 1#2021 21343 \n",
       "4  Jane 1#2021 22111 \n",
       "5  Dina 1#2021 14123 \n",
       "6  Nick 2#2021 13442 \n",
       "7  Jake 2#2021 22871 \n",
       "8  Anna 2#2021 20343 \n",
       "9  Jane 2#2021 22222 \n",
       "10 Dina 2#2021 14456 "
      ]
     },
     "metadata": {},
     "output_type": "display_data"
    }
   ],
   "source": [
    "united_data <- best_data %>%\n",
    "                unite(Qt, quater, year, sep = \"#\")\n",
    "united_data"
   ]
  },
  {
   "cell_type": "code",
   "execution_count": 191,
   "id": "4cfef661",
   "metadata": {
    "vscode": {
     "languageId": "r"
    }
   },
   "outputs": [
    {
     "data": {
      "text/html": [
       "<table class=\"dataframe\">\n",
       "<caption>A data.frame: 10 × 5</caption>\n",
       "<thead>\n",
       "\t<tr><th></th><th scope=col>Name</th><th scope=col>Qt</th><th scope=col>quater</th><th scope=col>year</th><th scope=col>salary</th></tr>\n",
       "\t<tr><th></th><th scope=col>&lt;chr&gt;</th><th scope=col>&lt;chr&gt;</th><th scope=col>&lt;int&gt;</th><th scope=col>&lt;int&gt;</th><th scope=col>&lt;dbl&gt;</th></tr>\n",
       "</thead>\n",
       "<tbody>\n",
       "\t<tr><th scope=row>1</th><td>Nick</td><td>1#2021</td><td>1</td><td>2021</td><td>12442</td></tr>\n",
       "\t<tr><th scope=row>2</th><td>Jake</td><td>1#2021</td><td>1</td><td>2021</td><td>22131</td></tr>\n",
       "\t<tr><th scope=row>3</th><td>Anna</td><td>1#2021</td><td>1</td><td>2021</td><td>21343</td></tr>\n",
       "\t<tr><th scope=row>4</th><td>Jane</td><td>1#2021</td><td>1</td><td>2021</td><td>22111</td></tr>\n",
       "\t<tr><th scope=row>5</th><td>Dina</td><td>1#2021</td><td>1</td><td>2021</td><td>14123</td></tr>\n",
       "\t<tr><th scope=row>6</th><td>Nick</td><td>2#2021</td><td>2</td><td>2021</td><td>13442</td></tr>\n",
       "\t<tr><th scope=row>7</th><td>Jake</td><td>2#2021</td><td>2</td><td>2021</td><td>22871</td></tr>\n",
       "\t<tr><th scope=row>8</th><td>Anna</td><td>2#2021</td><td>2</td><td>2021</td><td>20343</td></tr>\n",
       "\t<tr><th scope=row>9</th><td>Jane</td><td>2#2021</td><td>2</td><td>2021</td><td>22222</td></tr>\n",
       "\t<tr><th scope=row>10</th><td>Dina</td><td>2#2021</td><td>2</td><td>2021</td><td>14456</td></tr>\n",
       "</tbody>\n",
       "</table>\n"
      ],
      "text/latex": [
       "A data.frame: 10 × 5\n",
       "\\begin{tabular}{r|lllll}\n",
       "  & Name & Qt & quater & year & salary\\\\\n",
       "  & <chr> & <chr> & <int> & <int> & <dbl>\\\\\n",
       "\\hline\n",
       "\t1 & Nick & 1\\#2021 & 1 & 2021 & 12442\\\\\n",
       "\t2 & Jake & 1\\#2021 & 1 & 2021 & 22131\\\\\n",
       "\t3 & Anna & 1\\#2021 & 1 & 2021 & 21343\\\\\n",
       "\t4 & Jane & 1\\#2021 & 1 & 2021 & 22111\\\\\n",
       "\t5 & Dina & 1\\#2021 & 1 & 2021 & 14123\\\\\n",
       "\t6 & Nick & 2\\#2021 & 2 & 2021 & 13442\\\\\n",
       "\t7 & Jake & 2\\#2021 & 2 & 2021 & 22871\\\\\n",
       "\t8 & Anna & 2\\#2021 & 2 & 2021 & 20343\\\\\n",
       "\t9 & Jane & 2\\#2021 & 2 & 2021 & 22222\\\\\n",
       "\t10 & Dina & 2\\#2021 & 2 & 2021 & 14456\\\\\n",
       "\\end{tabular}\n"
      ],
      "text/markdown": [
       "\n",
       "A data.frame: 10 × 5\n",
       "\n",
       "| <!--/--> | Name &lt;chr&gt; | Qt &lt;chr&gt; | quater &lt;int&gt; | year &lt;int&gt; | salary &lt;dbl&gt; |\n",
       "|---|---|---|---|---|---|\n",
       "| 1 | Nick | 1#2021 | 1 | 2021 | 12442 |\n",
       "| 2 | Jake | 1#2021 | 1 | 2021 | 22131 |\n",
       "| 3 | Anna | 1#2021 | 1 | 2021 | 21343 |\n",
       "| 4 | Jane | 1#2021 | 1 | 2021 | 22111 |\n",
       "| 5 | Dina | 1#2021 | 1 | 2021 | 14123 |\n",
       "| 6 | Nick | 2#2021 | 2 | 2021 | 13442 |\n",
       "| 7 | Jake | 2#2021 | 2 | 2021 | 22871 |\n",
       "| 8 | Anna | 2#2021 | 2 | 2021 | 20343 |\n",
       "| 9 | Jane | 2#2021 | 2 | 2021 | 22222 |\n",
       "| 10 | Dina | 2#2021 | 2 | 2021 | 14456 |\n",
       "\n"
      ],
      "text/plain": [
       "   Name Qt     quater year salary\n",
       "1  Nick 1#2021 1      2021 12442 \n",
       "2  Jake 1#2021 1      2021 22131 \n",
       "3  Anna 1#2021 1      2021 21343 \n",
       "4  Jane 1#2021 1      2021 22111 \n",
       "5  Dina 1#2021 1      2021 14123 \n",
       "6  Nick 2#2021 2      2021 13442 \n",
       "7  Jake 2#2021 2      2021 22871 \n",
       "8  Anna 2#2021 2      2021 20343 \n",
       "9  Jane 2#2021 2      2021 22222 \n",
       "10 Dina 2#2021 2      2021 14456 "
      ]
     },
     "metadata": {},
     "output_type": "display_data"
    }
   ],
   "source": [
    "# if dont want remove old columns use remove param\n",
    "united_data <- best_data %>%\n",
    "                unite(Qt, quater, year, sep = \"#\", remove = F)\n",
    "united_data"
   ]
  },
  {
   "cell_type": "markdown",
   "id": "623852f3",
   "metadata": {},
   "source": [
    "If you need to make table like initial use `spread()` function:"
   ]
  },
  {
   "cell_type": "code",
   "execution_count": 192,
   "id": "a40dbe74",
   "metadata": {
    "vscode": {
     "languageId": "r"
    }
   },
   "outputs": [
    {
     "data": {
      "text/html": [
       "<table class=\"dataframe\">\n",
       "<caption>A data.frame: 5 × 5</caption>\n",
       "<thead>\n",
       "\t<tr><th scope=col>Name</th><th scope=col>q1_2021</th><th scope=col>q2_2021</th><th scope=col>q3_2021</th><th scope=col>q4_2021</th></tr>\n",
       "\t<tr><th scope=col>&lt;chr&gt;</th><th scope=col>&lt;dbl&gt;</th><th scope=col>&lt;dbl&gt;</th><th scope=col>&lt;dbl&gt;</th><th scope=col>&lt;dbl&gt;</th></tr>\n",
       "</thead>\n",
       "<tbody>\n",
       "\t<tr><td>Anna</td><td>21343</td><td>20343</td><td>22456</td><td>21741</td></tr>\n",
       "\t<tr><td>Dina</td><td>14123</td><td>14456</td><td>14533</td><td>14511</td></tr>\n",
       "\t<tr><td>Jake</td><td>22131</td><td>22871</td><td>22031</td><td>20031</td></tr>\n",
       "\t<tr><td>Jane</td><td>22111</td><td>22222</td><td>22444</td><td>22333</td></tr>\n",
       "\t<tr><td>Nick</td><td>12442</td><td>13442</td><td>15482</td><td>14511</td></tr>\n",
       "</tbody>\n",
       "</table>\n"
      ],
      "text/latex": [
       "A data.frame: 5 × 5\n",
       "\\begin{tabular}{lllll}\n",
       " Name & q1\\_2021 & q2\\_2021 & q3\\_2021 & q4\\_2021\\\\\n",
       " <chr> & <dbl> & <dbl> & <dbl> & <dbl>\\\\\n",
       "\\hline\n",
       "\t Anna & 21343 & 20343 & 22456 & 21741\\\\\n",
       "\t Dina & 14123 & 14456 & 14533 & 14511\\\\\n",
       "\t Jake & 22131 & 22871 & 22031 & 20031\\\\\n",
       "\t Jane & 22111 & 22222 & 22444 & 22333\\\\\n",
       "\t Nick & 12442 & 13442 & 15482 & 14511\\\\\n",
       "\\end{tabular}\n"
      ],
      "text/markdown": [
       "\n",
       "A data.frame: 5 × 5\n",
       "\n",
       "| Name &lt;chr&gt; | q1_2021 &lt;dbl&gt; | q2_2021 &lt;dbl&gt; | q3_2021 &lt;dbl&gt; | q4_2021 &lt;dbl&gt; |\n",
       "|---|---|---|---|---|\n",
       "| Anna | 21343 | 20343 | 22456 | 21741 |\n",
       "| Dina | 14123 | 14456 | 14533 | 14511 |\n",
       "| Jake | 22131 | 22871 | 22031 | 20031 |\n",
       "| Jane | 22111 | 22222 | 22444 | 22333 |\n",
       "| Nick | 12442 | 13442 | 15482 | 14511 |\n",
       "\n"
      ],
      "text/plain": [
       "  Name q1_2021 q2_2021 q3_2021 q4_2021\n",
       "1 Anna 21343   20343   22456   21741  \n",
       "2 Dina 14123   14456   14533   14511  \n",
       "3 Jake 22131   22871   22031   20031  \n",
       "4 Jane 22111   22222   22444   22333  \n",
       "5 Nick 12442   13442   15482   14511  "
      ]
     },
     "metadata": {},
     "output_type": "display_data"
    }
   ],
   "source": [
    "not_good_data2 <- better_data %>%\n",
    "                    spread(quater, salary)\n",
    "not_good_data2"
   ]
  },
  {
   "cell_type": "markdown",
   "id": "c90b6712",
   "metadata": {},
   "source": [
    "Let's try to `spread()` feild `pop` of `gapminder` by year:"
   ]
  },
  {
   "cell_type": "code",
   "execution_count": 193,
   "id": "060dc2cc",
   "metadata": {
    "vscode": {
     "languageId": "r"
    }
   },
   "outputs": [
    {
     "data": {
      "text/html": [
       "<table class=\"dataframe\">\n",
       "<caption>A tibble: 6 × 13</caption>\n",
       "<thead>\n",
       "\t<tr><th scope=col>country</th><th scope=col>1952</th><th scope=col>1957</th><th scope=col>1962</th><th scope=col>1967</th><th scope=col>1972</th><th scope=col>1977</th><th scope=col>1982</th><th scope=col>1987</th><th scope=col>1992</th><th scope=col>1997</th><th scope=col>2002</th><th scope=col>2007</th></tr>\n",
       "\t<tr><th scope=col>&lt;fct&gt;</th><th scope=col>&lt;int&gt;</th><th scope=col>&lt;int&gt;</th><th scope=col>&lt;int&gt;</th><th scope=col>&lt;int&gt;</th><th scope=col>&lt;int&gt;</th><th scope=col>&lt;int&gt;</th><th scope=col>&lt;int&gt;</th><th scope=col>&lt;int&gt;</th><th scope=col>&lt;int&gt;</th><th scope=col>&lt;int&gt;</th><th scope=col>&lt;int&gt;</th><th scope=col>&lt;int&gt;</th></tr>\n",
       "</thead>\n",
       "<tbody>\n",
       "\t<tr><td>Afghanistan</td><td> 8425333</td><td> 9240934</td><td>10267083</td><td>11537966</td><td>13079460</td><td>14880372</td><td>12881816</td><td>13867957</td><td>16317921</td><td>22227415</td><td>25268405</td><td>31889923</td></tr>\n",
       "\t<tr><td>Albania    </td><td> 1282697</td><td> 1476505</td><td> 1728137</td><td> 1984060</td><td> 2263554</td><td> 2509048</td><td> 2780097</td><td> 3075321</td><td> 3326498</td><td> 3428038</td><td> 3508512</td><td> 3600523</td></tr>\n",
       "\t<tr><td>Algeria    </td><td> 9279525</td><td>10270856</td><td>11000948</td><td>12760499</td><td>14760787</td><td>17152804</td><td>20033753</td><td>23254956</td><td>26298373</td><td>29072015</td><td>31287142</td><td>33333216</td></tr>\n",
       "\t<tr><td>Angola     </td><td> 4232095</td><td> 4561361</td><td> 4826015</td><td> 5247469</td><td> 5894858</td><td> 6162675</td><td> 7016384</td><td> 7874230</td><td> 8735988</td><td> 9875024</td><td>10866106</td><td>12420476</td></tr>\n",
       "\t<tr><td>Argentina  </td><td>17876956</td><td>19610538</td><td>21283783</td><td>22934225</td><td>24779799</td><td>26983828</td><td>29341374</td><td>31620918</td><td>33958947</td><td>36203463</td><td>38331121</td><td>40301927</td></tr>\n",
       "\t<tr><td>Australia  </td><td> 8691212</td><td> 9712569</td><td>10794968</td><td>11872264</td><td>13177000</td><td>14074100</td><td>15184200</td><td>16257249</td><td>17481977</td><td>18565243</td><td>19546792</td><td>20434176</td></tr>\n",
       "</tbody>\n",
       "</table>\n"
      ],
      "text/latex": [
       "A tibble: 6 × 13\n",
       "\\begin{tabular}{lllllllllllll}\n",
       " country & 1952 & 1957 & 1962 & 1967 & 1972 & 1977 & 1982 & 1987 & 1992 & 1997 & 2002 & 2007\\\\\n",
       " <fct> & <int> & <int> & <int> & <int> & <int> & <int> & <int> & <int> & <int> & <int> & <int> & <int>\\\\\n",
       "\\hline\n",
       "\t Afghanistan &  8425333 &  9240934 & 10267083 & 11537966 & 13079460 & 14880372 & 12881816 & 13867957 & 16317921 & 22227415 & 25268405 & 31889923\\\\\n",
       "\t Albania     &  1282697 &  1476505 &  1728137 &  1984060 &  2263554 &  2509048 &  2780097 &  3075321 &  3326498 &  3428038 &  3508512 &  3600523\\\\\n",
       "\t Algeria     &  9279525 & 10270856 & 11000948 & 12760499 & 14760787 & 17152804 & 20033753 & 23254956 & 26298373 & 29072015 & 31287142 & 33333216\\\\\n",
       "\t Angola      &  4232095 &  4561361 &  4826015 &  5247469 &  5894858 &  6162675 &  7016384 &  7874230 &  8735988 &  9875024 & 10866106 & 12420476\\\\\n",
       "\t Argentina   & 17876956 & 19610538 & 21283783 & 22934225 & 24779799 & 26983828 & 29341374 & 31620918 & 33958947 & 36203463 & 38331121 & 40301927\\\\\n",
       "\t Australia   &  8691212 &  9712569 & 10794968 & 11872264 & 13177000 & 14074100 & 15184200 & 16257249 & 17481977 & 18565243 & 19546792 & 20434176\\\\\n",
       "\\end{tabular}\n"
      ],
      "text/markdown": [
       "\n",
       "A tibble: 6 × 13\n",
       "\n",
       "| country &lt;fct&gt; | 1952 &lt;int&gt; | 1957 &lt;int&gt; | 1962 &lt;int&gt; | 1967 &lt;int&gt; | 1972 &lt;int&gt; | 1977 &lt;int&gt; | 1982 &lt;int&gt; | 1987 &lt;int&gt; | 1992 &lt;int&gt; | 1997 &lt;int&gt; | 2002 &lt;int&gt; | 2007 &lt;int&gt; |\n",
       "|---|---|---|---|---|---|---|---|---|---|---|---|---|\n",
       "| Afghanistan |  8425333 |  9240934 | 10267083 | 11537966 | 13079460 | 14880372 | 12881816 | 13867957 | 16317921 | 22227415 | 25268405 | 31889923 |\n",
       "| Albania     |  1282697 |  1476505 |  1728137 |  1984060 |  2263554 |  2509048 |  2780097 |  3075321 |  3326498 |  3428038 |  3508512 |  3600523 |\n",
       "| Algeria     |  9279525 | 10270856 | 11000948 | 12760499 | 14760787 | 17152804 | 20033753 | 23254956 | 26298373 | 29072015 | 31287142 | 33333216 |\n",
       "| Angola      |  4232095 |  4561361 |  4826015 |  5247469 |  5894858 |  6162675 |  7016384 |  7874230 |  8735988 |  9875024 | 10866106 | 12420476 |\n",
       "| Argentina   | 17876956 | 19610538 | 21283783 | 22934225 | 24779799 | 26983828 | 29341374 | 31620918 | 33958947 | 36203463 | 38331121 | 40301927 |\n",
       "| Australia   |  8691212 |  9712569 | 10794968 | 11872264 | 13177000 | 14074100 | 15184200 | 16257249 | 17481977 | 18565243 | 19546792 | 20434176 |\n",
       "\n"
      ],
      "text/plain": [
       "  country     1952     1957     1962     1967     1972     1977     1982    \n",
       "1 Afghanistan  8425333  9240934 10267083 11537966 13079460 14880372 12881816\n",
       "2 Albania      1282697  1476505  1728137  1984060  2263554  2509048  2780097\n",
       "3 Algeria      9279525 10270856 11000948 12760499 14760787 17152804 20033753\n",
       "4 Angola       4232095  4561361  4826015  5247469  5894858  6162675  7016384\n",
       "5 Argentina   17876956 19610538 21283783 22934225 24779799 26983828 29341374\n",
       "6 Australia    8691212  9712569 10794968 11872264 13177000 14074100 15184200\n",
       "  1987     1992     1997     2002     2007    \n",
       "1 13867957 16317921 22227415 25268405 31889923\n",
       "2  3075321  3326498  3428038  3508512  3600523\n",
       "3 23254956 26298373 29072015 31287142 33333216\n",
       "4  7874230  8735988  9875024 10866106 12420476\n",
       "5 31620918 33958947 36203463 38331121 40301927\n",
       "6 16257249 17481977 18565243 19546792 20434176"
      ]
     },
     "metadata": {},
     "output_type": "display_data"
    }
   ],
   "source": [
    "gapminder %>% select(country, pop, year) %>%\n",
    "                spread(year, pop) %>%\n",
    "                head() # for shorter code\n",
    "\n",
    "# now you can easy send data to your director in excel :)"
   ]
  },
  {
   "cell_type": "markdown",
   "id": "49734693",
   "metadata": {},
   "source": [
    "Functions table:\n",
    "\n",
    "|Function|Objectives|Arguments|\n",
    "|---|---|---|\n",
    "|`gather()`|Transform the data from wide to long|(data, key, value, na.rm = FALSE)|\n",
    "|`spread()`|Transform the data from long to wide|(data, key, value)|\n",
    "|`separate()`|Split one variables into two|(data, col, into, sep= \"\", remove = TRUE)|\n",
    "|`unite()`|Unite two variables into one|(data, col, conc ,sep= \"\", remove = TRUE)|"
   ]
  },
  {
   "cell_type": "markdown",
   "id": "f8de5135",
   "metadata": {},
   "source": [
    "---"
   ]
  },
  {
   "cell_type": "markdown",
   "id": "9592bda1",
   "metadata": {},
   "source": [
    "## Refences"
   ]
  },
  {
   "cell_type": "markdown",
   "id": "ae226f5e",
   "metadata": {},
   "source": [
    "1. [dplyr: A Grammar of Data Manipulation](https://cran.r-project.org/web/packages/dplyr/index.html) on https://cran.r-project.org/.\n",
    "2. [Data Transformation with splyr::cheat sheet](https://github.com/rstudio/cheatsheets/blob/master/data-transformation.pdf).\n",
    "3. [DPLYR TUTORIAL : DATA MANIPULATION (50 EXAMPLES)](https://www.listendata.com/2016/08/dplyr-tutorial.html) by Deepanshu Bhalla.\n",
    "5. [Dplyr Intro](https://stat545.com/dplyr-intro.html) by Stat 545.\n",
    "6.[R Dplyr Tutorial: Data Manipulation(Join) & Cleaning(Spread)](https://www.guru99.com/r-dplyr-tutorial.html). Introduction to Data Analysis\n",
    "7. [Loan Default Prediction. Beginners data set for financial analytics Kaggle](https://www.kaggle.com/kmldas/loan-default-prediction)"
   ]
  }
 ],
 "metadata": {
  "kernelspec": {
   "display_name": "R",
   "language": "R",
   "name": "ir"
  },
  "language_info": {
   "codemirror_mode": "r",
   "file_extension": ".r",
   "mimetype": "text/x-r-source",
   "name": "R",
   "pygments_lexer": "r",
   "version": "4.1.2"
  }
 },
 "nbformat": 4,
 "nbformat_minor": 5
}
