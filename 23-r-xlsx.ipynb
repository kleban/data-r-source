{
 "cells": [
  {
   "cell_type": "markdown",
   "id": "c2414ff5",
   "metadata": {},
   "source": [
    "---\n",
    "author: \"Юрій Клебан\"\n",
    "---"
   ]
  },
  {
   "cell_type": "markdown",
   "id": "ae020424-6829-4ae8-ae56-2cc20edab3eb",
   "metadata": {},
   "source": [
    "# MS Excel (xlsx)"
   ]
  },
  {
   "cell_type": "markdown",
   "id": "698a3007-b996-4d72-9057-29d633da76f1",
   "metadata": {},
   "source": [
    "You need this packages for code execution:"
   ]
  },
  {
   "cell_type": "code",
   "execution_count": 78,
   "id": "d7c1f74f-e061-4f0c-9908-905ab7713267",
   "metadata": {},
   "outputs": [],
   "source": [
    "# install.packages(\"xlsx\")"
   ]
  },
  {
   "cell_type": "code",
   "execution_count": 79,
   "id": "13b036d6-61db-434e-b97d-bd419e7ba620",
   "metadata": {},
   "outputs": [],
   "source": [
    "invisible(Sys.setlocale(\"LC_ALL\", \"Ukrainian\"))\n",
    "invisible(options(warn=-1))"
   ]
  },
  {
   "cell_type": "markdown",
   "id": "c7ced297",
   "metadata": {},
   "source": [
    "---"
   ]
  },
  {
   "cell_type": "markdown",
   "id": "f237d20f",
   "metadata": {
    "tags": []
   },
   "source": [
    "## XLSX-format"
   ]
  },
  {
   "cell_type": "markdown",
   "id": "9b062cf3",
   "metadata": {},
   "source": [
    "There are many packages to read/write MS Excel files. `xlsx` one of the most useful."
   ]
  },
  {
   "cell_type": "code",
   "execution_count": 96,
   "id": "9472bfa3",
   "metadata": {},
   "outputs": [],
   "source": [
    "# install.packages(\"xlsx\") #install before use it"
   ]
  },
  {
   "cell_type": "code",
   "execution_count": 185,
   "id": "e33704ea-d24f-4d28-9b02-b7bbab156043",
   "metadata": {},
   "outputs": [],
   "source": [
    "library(xlsx)"
   ]
  },
  {
   "cell_type": "code",
   "execution_count": 186,
   "id": "8ce43124",
   "metadata": {},
   "outputs": [
    {
     "data": {
      "text/html": [
       "TRUE"
      ],
      "text/latex": [
       "TRUE"
      ],
      "text/markdown": [
       "TRUE"
      ],
      "text/plain": [
       "[1] TRUE"
      ]
     },
     "metadata": {},
     "output_type": "display_data"
    }
   ],
   "source": [
    "any(grepl(\"xlsx\", installed.packages())) # check if package installed"
   ]
  },
  {
   "cell_type": "markdown",
   "id": "50297c32",
   "metadata": {},
   "source": [
    "**`?read.xlsx`** - review package functions and params"
   ]
  },
  {
   "cell_type": "markdown",
   "id": "885baabc",
   "metadata": {},
   "source": [
    "Let's read the data `telecom_users.xlsx`: "
   ]
  },
  {
   "cell_type": "code",
   "execution_count": 189,
   "id": "49fa6be8",
   "metadata": {},
   "outputs": [
    {
     "data": {
      "text/html": [
       "<table class=\"dataframe\">\n",
       "<caption>A data.frame: 6 × 21</caption>\n",
       "<thead>\n",
       "\t<tr><th></th><th scope=col>customerID</th><th scope=col>gender</th><th scope=col>SeniorCitizen</th><th scope=col>Partner</th><th scope=col>Dependents</th><th scope=col>tenure</th><th scope=col>PhoneService</th><th scope=col>MultipleLines</th><th scope=col>InternetService</th><th scope=col>OnlineSecurity</th><th scope=col>...</th><th scope=col>DeviceProtection</th><th scope=col>TechSupport</th><th scope=col>StreamingTV</th><th scope=col>StreamingMovies</th><th scope=col>Contract</th><th scope=col>PaperlessBilling</th><th scope=col>PaymentMethod</th><th scope=col>MonthlyCharges</th><th scope=col>TotalCharges</th><th scope=col>Churn</th></tr>\n",
       "\t<tr><th></th><th scope=col>&lt;chr&gt;</th><th scope=col>&lt;chr&gt;</th><th scope=col>&lt;dbl&gt;</th><th scope=col>&lt;chr&gt;</th><th scope=col>&lt;chr&gt;</th><th scope=col>&lt;dbl&gt;</th><th scope=col>&lt;chr&gt;</th><th scope=col>&lt;chr&gt;</th><th scope=col>&lt;chr&gt;</th><th scope=col>&lt;chr&gt;</th><th scope=col>...</th><th scope=col>&lt;chr&gt;</th><th scope=col>&lt;chr&gt;</th><th scope=col>&lt;chr&gt;</th><th scope=col>&lt;chr&gt;</th><th scope=col>&lt;chr&gt;</th><th scope=col>&lt;chr&gt;</th><th scope=col>&lt;chr&gt;</th><th scope=col>&lt;dbl&gt;</th><th scope=col>&lt;dbl&gt;</th><th scope=col>&lt;chr&gt;</th></tr>\n",
       "</thead>\n",
       "<tbody>\n",
       "\t<tr><th scope=row>1</th><td>7010-BRBUU</td><td>Male  </td><td>0</td><td>Yes</td><td>Yes</td><td>72</td><td>Yes</td><td>Yes             </td><td>No         </td><td>No internet service</td><td>...</td><td>No internet service</td><td>No internet service</td><td>No internet service</td><td>No internet service</td><td>Two year      </td><td>No </td><td>Credit card (automatic)  </td><td>24.10</td><td>1734.65</td><td>No </td></tr>\n",
       "\t<tr><th scope=row>2</th><td>9688-YGXVR</td><td>Female</td><td>0</td><td>No </td><td>No </td><td>44</td><td>Yes</td><td>No              </td><td>Fiber optic</td><td>No                 </td><td>...</td><td>Yes                </td><td>No                 </td><td>Yes                </td><td>No                 </td><td>Month-to-month</td><td>Yes</td><td>Credit card (automatic)  </td><td>88.15</td><td>3973.20</td><td>No </td></tr>\n",
       "\t<tr><th scope=row>3</th><td>9286-DOJGF</td><td>Female</td><td>1</td><td>Yes</td><td>No </td><td>38</td><td>Yes</td><td>Yes             </td><td>Fiber optic</td><td>No                 </td><td>...</td><td>No                 </td><td>No                 </td><td>No                 </td><td>No                 </td><td>Month-to-month</td><td>Yes</td><td>Bank transfer (automatic)</td><td>74.95</td><td>2869.85</td><td>Yes</td></tr>\n",
       "\t<tr><th scope=row>4</th><td>6994-KERXL</td><td>Male  </td><td>0</td><td>No </td><td>No </td><td> 4</td><td>Yes</td><td>No              </td><td>DSL        </td><td>No                 </td><td>...</td><td>No                 </td><td>No                 </td><td>No                 </td><td>Yes                </td><td>Month-to-month</td><td>Yes</td><td>Electronic check         </td><td>55.90</td><td> 238.50</td><td>No </td></tr>\n",
       "\t<tr><th scope=row>5</th><td>2181-UAESM</td><td>Male  </td><td>0</td><td>No </td><td>No </td><td> 2</td><td>Yes</td><td>No              </td><td>DSL        </td><td>Yes                </td><td>...</td><td>Yes                </td><td>No                 </td><td>No                 </td><td>No                 </td><td>Month-to-month</td><td>No </td><td>Electronic check         </td><td>53.45</td><td> 119.50</td><td>No </td></tr>\n",
       "\t<tr><th scope=row>6</th><td>4312-GVYNH</td><td>Female</td><td>0</td><td>Yes</td><td>No </td><td>70</td><td>No </td><td>No phone service</td><td>DSL        </td><td>Yes                </td><td>...</td><td>Yes                </td><td>Yes                </td><td>No                 </td><td>Yes                </td><td>Two year      </td><td>Yes</td><td>Bank transfer (automatic)</td><td>49.85</td><td>3370.20</td><td>No </td></tr>\n",
       "</tbody>\n",
       "</table>\n"
      ],
      "text/latex": [
       "A data.frame: 6 × 21\n",
       "\\begin{tabular}{r|lllllllllllllllllllll}\n",
       "  & customerID & gender & SeniorCitizen & Partner & Dependents & tenure & PhoneService & MultipleLines & InternetService & OnlineSecurity & ... & DeviceProtection & TechSupport & StreamingTV & StreamingMovies & Contract & PaperlessBilling & PaymentMethod & MonthlyCharges & TotalCharges & Churn\\\\\n",
       "  & <chr> & <chr> & <dbl> & <chr> & <chr> & <dbl> & <chr> & <chr> & <chr> & <chr> & ... & <chr> & <chr> & <chr> & <chr> & <chr> & <chr> & <chr> & <dbl> & <dbl> & <chr>\\\\\n",
       "\\hline\n",
       "\t1 & 7010-BRBUU & Male   & 0 & Yes & Yes & 72 & Yes & Yes              & No          & No internet service & ... & No internet service & No internet service & No internet service & No internet service & Two year       & No  & Credit card (automatic)   & 24.10 & 1734.65 & No \\\\\n",
       "\t2 & 9688-YGXVR & Female & 0 & No  & No  & 44 & Yes & No               & Fiber optic & No                  & ... & Yes                 & No                  & Yes                 & No                  & Month-to-month & Yes & Credit card (automatic)   & 88.15 & 3973.20 & No \\\\\n",
       "\t3 & 9286-DOJGF & Female & 1 & Yes & No  & 38 & Yes & Yes              & Fiber optic & No                  & ... & No                  & No                  & No                  & No                  & Month-to-month & Yes & Bank transfer (automatic) & 74.95 & 2869.85 & Yes\\\\\n",
       "\t4 & 6994-KERXL & Male   & 0 & No  & No  &  4 & Yes & No               & DSL         & No                  & ... & No                  & No                  & No                  & Yes                 & Month-to-month & Yes & Electronic check          & 55.90 &  238.50 & No \\\\\n",
       "\t5 & 2181-UAESM & Male   & 0 & No  & No  &  2 & Yes & No               & DSL         & Yes                 & ... & Yes                 & No                  & No                  & No                  & Month-to-month & No  & Electronic check          & 53.45 &  119.50 & No \\\\\n",
       "\t6 & 4312-GVYNH & Female & 0 & Yes & No  & 70 & No  & No phone service & DSL         & Yes                 & ... & Yes                 & Yes                 & No                  & Yes                 & Two year       & Yes & Bank transfer (automatic) & 49.85 & 3370.20 & No \\\\\n",
       "\\end{tabular}\n"
      ],
      "text/markdown": [
       "\n",
       "A data.frame: 6 × 21\n",
       "\n",
       "| <!--/--> | customerID &lt;chr&gt; | gender &lt;chr&gt; | SeniorCitizen &lt;dbl&gt; | Partner &lt;chr&gt; | Dependents &lt;chr&gt; | tenure &lt;dbl&gt; | PhoneService &lt;chr&gt; | MultipleLines &lt;chr&gt; | InternetService &lt;chr&gt; | OnlineSecurity &lt;chr&gt; | ... ... | DeviceProtection &lt;chr&gt; | TechSupport &lt;chr&gt; | StreamingTV &lt;chr&gt; | StreamingMovies &lt;chr&gt; | Contract &lt;chr&gt; | PaperlessBilling &lt;chr&gt; | PaymentMethod &lt;chr&gt; | MonthlyCharges &lt;dbl&gt; | TotalCharges &lt;dbl&gt; | Churn &lt;chr&gt; |\n",
       "|---|---|---|---|---|---|---|---|---|---|---|---|---|---|---|---|---|---|---|---|---|---|\n",
       "| 1 | 7010-BRBUU | Male   | 0 | Yes | Yes | 72 | Yes | Yes              | No          | No internet service | ... | No internet service | No internet service | No internet service | No internet service | Two year       | No  | Credit card (automatic)   | 24.10 | 1734.65 | No  |\n",
       "| 2 | 9688-YGXVR | Female | 0 | No  | No  | 44 | Yes | No               | Fiber optic | No                  | ... | Yes                 | No                  | Yes                 | No                  | Month-to-month | Yes | Credit card (automatic)   | 88.15 | 3973.20 | No  |\n",
       "| 3 | 9286-DOJGF | Female | 1 | Yes | No  | 38 | Yes | Yes              | Fiber optic | No                  | ... | No                  | No                  | No                  | No                  | Month-to-month | Yes | Bank transfer (automatic) | 74.95 | 2869.85 | Yes |\n",
       "| 4 | 6994-KERXL | Male   | 0 | No  | No  |  4 | Yes | No               | DSL         | No                  | ... | No                  | No                  | No                  | Yes                 | Month-to-month | Yes | Electronic check          | 55.90 |  238.50 | No  |\n",
       "| 5 | 2181-UAESM | Male   | 0 | No  | No  |  2 | Yes | No               | DSL         | Yes                 | ... | Yes                 | No                  | No                  | No                  | Month-to-month | No  | Electronic check          | 53.45 |  119.50 | No  |\n",
       "| 6 | 4312-GVYNH | Female | 0 | Yes | No  | 70 | No  | No phone service | DSL         | Yes                 | ... | Yes                 | Yes                 | No                  | Yes                 | Two year       | Yes | Bank transfer (automatic) | 49.85 | 3370.20 | No  |\n",
       "\n"
      ],
      "text/plain": [
       "  customerID gender SeniorCitizen Partner Dependents tenure PhoneService\n",
       "1 7010-BRBUU Male   0             Yes     Yes        72     Yes         \n",
       "2 9688-YGXVR Female 0             No      No         44     Yes         \n",
       "3 9286-DOJGF Female 1             Yes     No         38     Yes         \n",
       "4 6994-KERXL Male   0             No      No          4     Yes         \n",
       "5 2181-UAESM Male   0             No      No          2     Yes         \n",
       "6 4312-GVYNH Female 0             Yes     No         70     No          \n",
       "  MultipleLines    InternetService OnlineSecurity      ... DeviceProtection   \n",
       "1 Yes              No              No internet service ... No internet service\n",
       "2 No               Fiber optic     No                  ... Yes                \n",
       "3 Yes              Fiber optic     No                  ... No                 \n",
       "4 No               DSL             No                  ... No                 \n",
       "5 No               DSL             Yes                 ... Yes                \n",
       "6 No phone service DSL             Yes                 ... Yes                \n",
       "  TechSupport         StreamingTV         StreamingMovies     Contract      \n",
       "1 No internet service No internet service No internet service Two year      \n",
       "2 No                  Yes                 No                  Month-to-month\n",
       "3 No                  No                  No                  Month-to-month\n",
       "4 No                  No                  Yes                 Month-to-month\n",
       "5 No                  No                  No                  Month-to-month\n",
       "6 Yes                 No                  Yes                 Two year      \n",
       "  PaperlessBilling PaymentMethod             MonthlyCharges TotalCharges Churn\n",
       "1 No               Credit card (automatic)   24.10          1734.65      No   \n",
       "2 Yes              Credit card (automatic)   88.15          3973.20      No   \n",
       "3 Yes              Bank transfer (automatic) 74.95          2869.85      Yes  \n",
       "4 Yes              Electronic check          55.90           238.50      No   \n",
       "5 No               Electronic check          53.45           119.50      No   \n",
       "6 Yes              Bank transfer (automatic) 49.85          3370.20      No   "
      ]
     },
     "metadata": {},
     "output_type": "display_data"
    }
   ],
   "source": [
    "data <- read.xlsx(\"../../data/telecom_users.xlsx\", sheetIndex = 1)\n",
    "# sheetIndex = 1 - select sheet to read, or use sheetName = \"sheet1\" to read by Name\n",
    "head(data)"
   ]
  },
  {
   "cell_type": "code",
   "execution_count": 190,
   "id": "bb1dab60",
   "metadata": {},
   "outputs": [
    {
     "data": {
      "text/html": [
       "<table class=\"dataframe\">\n",
       "<caption>A data.frame: 6 × 21</caption>\n",
       "<thead>\n",
       "\t<tr><th></th><th scope=col>customerID</th><th scope=col>gender</th><th scope=col>SeniorCitizen</th><th scope=col>Partner</th><th scope=col>Dependents</th><th scope=col>tenure</th><th scope=col>PhoneService</th><th scope=col>MultipleLines</th><th scope=col>InternetService</th><th scope=col>OnlineSecurity</th><th scope=col>...</th><th scope=col>DeviceProtection</th><th scope=col>TechSupport</th><th scope=col>StreamingTV</th><th scope=col>StreamingMovies</th><th scope=col>Contract</th><th scope=col>PaperlessBilling</th><th scope=col>PaymentMethod</th><th scope=col>MonthlyCharges</th><th scope=col>TotalCharges</th><th scope=col>Churn</th></tr>\n",
       "\t<tr><th></th><th scope=col>&lt;chr&gt;</th><th scope=col>&lt;chr&gt;</th><th scope=col>&lt;dbl&gt;</th><th scope=col>&lt;chr&gt;</th><th scope=col>&lt;chr&gt;</th><th scope=col>&lt;dbl&gt;</th><th scope=col>&lt;chr&gt;</th><th scope=col>&lt;chr&gt;</th><th scope=col>&lt;chr&gt;</th><th scope=col>&lt;chr&gt;</th><th scope=col>...</th><th scope=col>&lt;chr&gt;</th><th scope=col>&lt;chr&gt;</th><th scope=col>&lt;chr&gt;</th><th scope=col>&lt;chr&gt;</th><th scope=col>&lt;chr&gt;</th><th scope=col>&lt;chr&gt;</th><th scope=col>&lt;chr&gt;</th><th scope=col>&lt;dbl&gt;</th><th scope=col>&lt;dbl&gt;</th><th scope=col>&lt;chr&gt;</th></tr>\n",
       "</thead>\n",
       "<tbody>\n",
       "\t<tr><th scope=row>1</th><td>7010-BRBUU</td><td>Male  </td><td>0</td><td>Yes</td><td>Yes</td><td>72</td><td>Yes</td><td>Yes             </td><td>No         </td><td>No internet service</td><td>...</td><td>No internet service</td><td>No internet service</td><td>No internet service</td><td>No internet service</td><td>Two year      </td><td>No </td><td>Credit card (automatic)  </td><td>24.10</td><td>1734.65</td><td>No </td></tr>\n",
       "\t<tr><th scope=row>2</th><td>9688-YGXVR</td><td>Female</td><td>0</td><td>No </td><td>No </td><td>44</td><td>Yes</td><td>No              </td><td>Fiber optic</td><td>No                 </td><td>...</td><td>Yes                </td><td>No                 </td><td>Yes                </td><td>No                 </td><td>Month-to-month</td><td>Yes</td><td>Credit card (automatic)  </td><td>88.15</td><td>3973.20</td><td>No </td></tr>\n",
       "\t<tr><th scope=row>3</th><td>9286-DOJGF</td><td>Female</td><td>1</td><td>Yes</td><td>No </td><td>38</td><td>Yes</td><td>Yes             </td><td>Fiber optic</td><td>No                 </td><td>...</td><td>No                 </td><td>No                 </td><td>No                 </td><td>No                 </td><td>Month-to-month</td><td>Yes</td><td>Bank transfer (automatic)</td><td>74.95</td><td>2869.85</td><td>Yes</td></tr>\n",
       "\t<tr><th scope=row>4</th><td>6994-KERXL</td><td>Male  </td><td>0</td><td>No </td><td>No </td><td> 4</td><td>Yes</td><td>No              </td><td>DSL        </td><td>No                 </td><td>...</td><td>No                 </td><td>No                 </td><td>No                 </td><td>Yes                </td><td>Month-to-month</td><td>Yes</td><td>Electronic check         </td><td>55.90</td><td> 238.50</td><td>No </td></tr>\n",
       "\t<tr><th scope=row>5</th><td>2181-UAESM</td><td>Male  </td><td>0</td><td>No </td><td>No </td><td> 2</td><td>Yes</td><td>No              </td><td>DSL        </td><td>Yes                </td><td>...</td><td>Yes                </td><td>No                 </td><td>No                 </td><td>No                 </td><td>Month-to-month</td><td>No </td><td>Electronic check         </td><td>53.45</td><td> 119.50</td><td>No </td></tr>\n",
       "\t<tr><th scope=row>6</th><td>4312-GVYNH</td><td>Female</td><td>0</td><td>Yes</td><td>No </td><td>70</td><td>No </td><td>No phone service</td><td>DSL        </td><td>Yes                </td><td>...</td><td>Yes                </td><td>Yes                </td><td>No                 </td><td>Yes                </td><td>Two year      </td><td>Yes</td><td>Bank transfer (automatic)</td><td>49.85</td><td>3370.20</td><td>No </td></tr>\n",
       "</tbody>\n",
       "</table>\n"
      ],
      "text/latex": [
       "A data.frame: 6 × 21\n",
       "\\begin{tabular}{r|lllllllllllllllllllll}\n",
       "  & customerID & gender & SeniorCitizen & Partner & Dependents & tenure & PhoneService & MultipleLines & InternetService & OnlineSecurity & ... & DeviceProtection & TechSupport & StreamingTV & StreamingMovies & Contract & PaperlessBilling & PaymentMethod & MonthlyCharges & TotalCharges & Churn\\\\\n",
       "  & <chr> & <chr> & <dbl> & <chr> & <chr> & <dbl> & <chr> & <chr> & <chr> & <chr> & ... & <chr> & <chr> & <chr> & <chr> & <chr> & <chr> & <chr> & <dbl> & <dbl> & <chr>\\\\\n",
       "\\hline\n",
       "\t1 & 7010-BRBUU & Male   & 0 & Yes & Yes & 72 & Yes & Yes              & No          & No internet service & ... & No internet service & No internet service & No internet service & No internet service & Two year       & No  & Credit card (automatic)   & 24.10 & 1734.65 & No \\\\\n",
       "\t2 & 9688-YGXVR & Female & 0 & No  & No  & 44 & Yes & No               & Fiber optic & No                  & ... & Yes                 & No                  & Yes                 & No                  & Month-to-month & Yes & Credit card (automatic)   & 88.15 & 3973.20 & No \\\\\n",
       "\t3 & 9286-DOJGF & Female & 1 & Yes & No  & 38 & Yes & Yes              & Fiber optic & No                  & ... & No                  & No                  & No                  & No                  & Month-to-month & Yes & Bank transfer (automatic) & 74.95 & 2869.85 & Yes\\\\\n",
       "\t4 & 6994-KERXL & Male   & 0 & No  & No  &  4 & Yes & No               & DSL         & No                  & ... & No                  & No                  & No                  & Yes                 & Month-to-month & Yes & Electronic check          & 55.90 &  238.50 & No \\\\\n",
       "\t5 & 2181-UAESM & Male   & 0 & No  & No  &  2 & Yes & No               & DSL         & Yes                 & ... & Yes                 & No                  & No                  & No                  & Month-to-month & No  & Electronic check          & 53.45 &  119.50 & No \\\\\n",
       "\t6 & 4312-GVYNH & Female & 0 & Yes & No  & 70 & No  & No phone service & DSL         & Yes                 & ... & Yes                 & Yes                 & No                  & Yes                 & Two year       & Yes & Bank transfer (automatic) & 49.85 & 3370.20 & No \\\\\n",
       "\\end{tabular}\n"
      ],
      "text/markdown": [
       "\n",
       "A data.frame: 6 × 21\n",
       "\n",
       "| <!--/--> | customerID &lt;chr&gt; | gender &lt;chr&gt; | SeniorCitizen &lt;dbl&gt; | Partner &lt;chr&gt; | Dependents &lt;chr&gt; | tenure &lt;dbl&gt; | PhoneService &lt;chr&gt; | MultipleLines &lt;chr&gt; | InternetService &lt;chr&gt; | OnlineSecurity &lt;chr&gt; | ... ... | DeviceProtection &lt;chr&gt; | TechSupport &lt;chr&gt; | StreamingTV &lt;chr&gt; | StreamingMovies &lt;chr&gt; | Contract &lt;chr&gt; | PaperlessBilling &lt;chr&gt; | PaymentMethod &lt;chr&gt; | MonthlyCharges &lt;dbl&gt; | TotalCharges &lt;dbl&gt; | Churn &lt;chr&gt; |\n",
       "|---|---|---|---|---|---|---|---|---|---|---|---|---|---|---|---|---|---|---|---|---|---|\n",
       "| 1 | 7010-BRBUU | Male   | 0 | Yes | Yes | 72 | Yes | Yes              | No          | No internet service | ... | No internet service | No internet service | No internet service | No internet service | Two year       | No  | Credit card (automatic)   | 24.10 | 1734.65 | No  |\n",
       "| 2 | 9688-YGXVR | Female | 0 | No  | No  | 44 | Yes | No               | Fiber optic | No                  | ... | Yes                 | No                  | Yes                 | No                  | Month-to-month | Yes | Credit card (automatic)   | 88.15 | 3973.20 | No  |\n",
       "| 3 | 9286-DOJGF | Female | 1 | Yes | No  | 38 | Yes | Yes              | Fiber optic | No                  | ... | No                  | No                  | No                  | No                  | Month-to-month | Yes | Bank transfer (automatic) | 74.95 | 2869.85 | Yes |\n",
       "| 4 | 6994-KERXL | Male   | 0 | No  | No  |  4 | Yes | No               | DSL         | No                  | ... | No                  | No                  | No                  | Yes                 | Month-to-month | Yes | Electronic check          | 55.90 |  238.50 | No  |\n",
       "| 5 | 2181-UAESM | Male   | 0 | No  | No  |  2 | Yes | No               | DSL         | Yes                 | ... | Yes                 | No                  | No                  | No                  | Month-to-month | No  | Electronic check          | 53.45 |  119.50 | No  |\n",
       "| 6 | 4312-GVYNH | Female | 0 | Yes | No  | 70 | No  | No phone service | DSL         | Yes                 | ... | Yes                 | Yes                 | No                  | Yes                 | Two year       | Yes | Bank transfer (automatic) | 49.85 | 3370.20 | No  |\n",
       "\n"
      ],
      "text/plain": [
       "  customerID gender SeniorCitizen Partner Dependents tenure PhoneService\n",
       "1 7010-BRBUU Male   0             Yes     Yes        72     Yes         \n",
       "2 9688-YGXVR Female 0             No      No         44     Yes         \n",
       "3 9286-DOJGF Female 1             Yes     No         38     Yes         \n",
       "4 6994-KERXL Male   0             No      No          4     Yes         \n",
       "5 2181-UAESM Male   0             No      No          2     Yes         \n",
       "6 4312-GVYNH Female 0             Yes     No         70     No          \n",
       "  MultipleLines    InternetService OnlineSecurity      ... DeviceProtection   \n",
       "1 Yes              No              No internet service ... No internet service\n",
       "2 No               Fiber optic     No                  ... Yes                \n",
       "3 Yes              Fiber optic     No                  ... No                 \n",
       "4 No               DSL             No                  ... No                 \n",
       "5 No               DSL             Yes                 ... Yes                \n",
       "6 No phone service DSL             Yes                 ... Yes                \n",
       "  TechSupport         StreamingTV         StreamingMovies     Contract      \n",
       "1 No internet service No internet service No internet service Two year      \n",
       "2 No                  Yes                 No                  Month-to-month\n",
       "3 No                  No                  No                  Month-to-month\n",
       "4 No                  No                  Yes                 Month-to-month\n",
       "5 No                  No                  No                  Month-to-month\n",
       "6 Yes                 No                  Yes                 Two year      \n",
       "  PaperlessBilling PaymentMethod             MonthlyCharges TotalCharges Churn\n",
       "1 No               Credit card (automatic)   24.10          1734.65      No   \n",
       "2 Yes              Credit card (automatic)   88.15          3973.20      No   \n",
       "3 Yes              Bank transfer (automatic) 74.95          2869.85      Yes  \n",
       "4 Yes              Electronic check          55.90           238.50      No   \n",
       "5 No               Electronic check          53.45           119.50      No   \n",
       "6 Yes              Bank transfer (automatic) 49.85          3370.20      No   "
      ]
     },
     "metadata": {},
     "output_type": "display_data"
    }
   ],
   "source": [
    "# You can also use startRow, endRow and other params to define how much data read\n",
    "data <- read.xlsx(\"../../data/telecom_users.xlsx\", sheetIndex = 1, endRow = 100)\n",
    "head(data)"
   ]
  },
  {
   "cell_type": "markdown",
   "id": "8630aece",
   "metadata": {},
   "source": [
    "Let's replace `Churn` values `Yes`/`No` by `1`/`0`: "
   ]
  },
  {
   "cell_type": "code",
   "execution_count": 101,
   "id": "f548ac60",
   "metadata": {},
   "outputs": [
    {
     "data": {
      "text/html": [
       "<style>\n",
       ".list-inline {list-style: none; margin:0; padding: 0}\n",
       ".list-inline>li {display: inline-block}\n",
       ".list-inline>li:not(:last-child)::after {content: \"\\00b7\"; padding: 0 .5ex}\n",
       "</style>\n",
       "<ol class=list-inline><li>'No'</li><li>'No'</li><li>'Yes'</li><li>'No'</li><li>'No'</li><li>'No'</li></ol>\n"
      ],
      "text/latex": [
       "\\begin{enumerate*}\n",
       "\\item 'No'\n",
       "\\item 'No'\n",
       "\\item 'Yes'\n",
       "\\item 'No'\n",
       "\\item 'No'\n",
       "\\item 'No'\n",
       "\\end{enumerate*}\n"
      ],
      "text/markdown": [
       "1. 'No'\n",
       "2. 'No'\n",
       "3. 'Yes'\n",
       "4. 'No'\n",
       "5. 'No'\n",
       "6. 'No'\n",
       "\n",
       "\n"
      ],
      "text/plain": [
       "[1] \"No\"  \"No\"  \"Yes\" \"No\"  \"No\"  \"No\" "
      ]
     },
     "metadata": {},
     "output_type": "display_data"
    }
   ],
   "source": [
    "head(data$Churn)"
   ]
  },
  {
   "cell_type": "code",
   "execution_count": 102,
   "id": "96af56ad",
   "metadata": {},
   "outputs": [],
   "source": [
    "data$Churn <- ifelse(data$Churn == \"Yes\", 1, 0)"
   ]
  },
  {
   "cell_type": "code",
   "execution_count": 103,
   "id": "84ce2e1c",
   "metadata": {},
   "outputs": [
    {
     "data": {
      "text/html": [
       "<style>\n",
       ".list-inline {list-style: none; margin:0; padding: 0}\n",
       ".list-inline>li {display: inline-block}\n",
       ".list-inline>li:not(:last-child)::after {content: \"\\00b7\"; padding: 0 .5ex}\n",
       "</style>\n",
       "<ol class=list-inline><li>0</li><li>0</li><li>1</li><li>0</li><li>0</li><li>0</li></ol>\n"
      ],
      "text/latex": [
       "\\begin{enumerate*}\n",
       "\\item 0\n",
       "\\item 0\n",
       "\\item 1\n",
       "\\item 0\n",
       "\\item 0\n",
       "\\item 0\n",
       "\\end{enumerate*}\n"
      ],
      "text/markdown": [
       "1. 0\n",
       "2. 0\n",
       "3. 1\n",
       "4. 0\n",
       "5. 0\n",
       "6. 0\n",
       "\n",
       "\n"
      ],
      "text/plain": [
       "[1] 0 0 1 0 0 0"
      ]
     },
     "metadata": {},
     "output_type": "display_data"
    }
   ],
   "source": [
    "head(data$Churn)"
   ]
  },
  {
   "cell_type": "markdown",
   "id": "bbae3bbc",
   "metadata": {},
   "source": [
    "Write final data to excel:"
   ]
  },
  {
   "cell_type": "code",
   "execution_count": 191,
   "id": "bc88652a",
   "metadata": {},
   "outputs": [],
   "source": [
    "write.xlsx(data, file = \"../../data/final_telecom_data.xlsx\")"
   ]
  },
  {
   "cell_type": "markdown",
   "id": "9cdb10a5-59ad-4146-81d8-e73946c61a16",
   "metadata": {},
   "source": [
    "---"
   ]
  },
  {
   "cell_type": "markdown",
   "id": "ae322a14",
   "metadata": {},
   "source": [
    "## Task 1"
   ]
  },
  {
   "cell_type": "markdown",
   "id": "341bc74d",
   "metadata": {},
   "source": [
    "Download from kaggle.com and read dataset `Default_Fin.csv`: \n",
    "https://www.kaggle.com/kmldas/loan-default-prediction"
   ]
  },
  {
   "cell_type": "markdown",
   "id": "0aacc804",
   "metadata": {},
   "source": [
    "_Description:_"
   ]
  },
  {
   "cell_type": "markdown",
   "id": "19fab065",
   "metadata": {},
   "source": [
    "This is a synthetic dataset created using actual data from a financial institution. The data has been modified to remove identifiable features and the numbers transformed to ensure they do not link to original source (financial institution).\n",
    "\n",
    "This is intended to be used for academic purposes for beginners who want to practice financial analytics from a simple financial dataset"
   ]
  },
  {
   "cell_type": "markdown",
   "id": "9ac89d18",
   "metadata": {},
   "source": [
    "- [x] `Index` - This is the serial number or unique identifier of the loan taker\n",
    "- [x] `Employed`     - This is a Boolean 1= employed 0= unemployed \n",
    "- [x] `Bank.Balance` - Bank Balance of the loan taker\n",
    "- [x] `Annual.Salary` - Annual salary of the loan taker  \n",
    "- [x] `Defaulted` - This is a Boolean 1= defaulted 0= not defaulted"
   ]
  },
  {
   "cell_type": "markdown",
   "id": "6cd5473b-2f06-4b49-a2f7-5b2f651f3fc0",
   "metadata": {},
   "source": [
    "1. Check what columns has missing values\n",
    "2. Count default and non-default clients / and parts of total clients in %\n",
    "3. Count Employed clients\n",
    "4. Count Employed Default clients\n",
    "5. Average salary by Employed clients\n",
    "6. Rename columns to \"id\", \"empl\", \"balance\", \"salary\", \"default\""
   ]
  },
  {
   "cell_type": "markdown",
   "id": "dd72d62b",
   "metadata": {},
   "source": [
    "---"
   ]
  },
  {
   "cell_type": "markdown",
   "id": "5269727a",
   "metadata": {},
   "source": [
    "**Solution for Task 1**"
   ]
  },
  {
   "cell_type": "code",
   "execution_count": 145,
   "id": "b1669883",
   "metadata": {},
   "outputs": [
    {
     "data": {
      "text/html": [
       "<table class=\"dataframe\">\n",
       "<caption>A data.frame: 6 × 5</caption>\n",
       "<thead>\n",
       "\t<tr><th></th><th scope=col>Index</th><th scope=col>Employed</th><th scope=col>Bank.Balance</th><th scope=col>Annual.Salary</th><th scope=col>Defaulted.</th></tr>\n",
       "\t<tr><th></th><th scope=col>&lt;int&gt;</th><th scope=col>&lt;int&gt;</th><th scope=col>&lt;dbl&gt;</th><th scope=col>&lt;dbl&gt;</th><th scope=col>&lt;int&gt;</th></tr>\n",
       "</thead>\n",
       "<tbody>\n",
       "\t<tr><th scope=row>1</th><td>1</td><td>1</td><td> 8754.36</td><td>532339.56</td><td>0</td></tr>\n",
       "\t<tr><th scope=row>2</th><td>2</td><td>0</td><td> 9806.16</td><td>145273.56</td><td>0</td></tr>\n",
       "\t<tr><th scope=row>3</th><td>3</td><td>1</td><td>12882.60</td><td>381205.68</td><td>0</td></tr>\n",
       "\t<tr><th scope=row>4</th><td>4</td><td>1</td><td> 6351.00</td><td>428453.88</td><td>0</td></tr>\n",
       "\t<tr><th scope=row>5</th><td>5</td><td>1</td><td> 9427.92</td><td>461562.00</td><td>0</td></tr>\n",
       "\t<tr><th scope=row>6</th><td>6</td><td>0</td><td>11035.08</td><td> 89898.72</td><td>0</td></tr>\n",
       "</tbody>\n",
       "</table>\n"
      ],
      "text/latex": [
       "A data.frame: 6 × 5\n",
       "\\begin{tabular}{r|lllll}\n",
       "  & Index & Employed & Bank.Balance & Annual.Salary & Defaulted.\\\\\n",
       "  & <int> & <int> & <dbl> & <dbl> & <int>\\\\\n",
       "\\hline\n",
       "\t1 & 1 & 1 &  8754.36 & 532339.56 & 0\\\\\n",
       "\t2 & 2 & 0 &  9806.16 & 145273.56 & 0\\\\\n",
       "\t3 & 3 & 1 & 12882.60 & 381205.68 & 0\\\\\n",
       "\t4 & 4 & 1 &  6351.00 & 428453.88 & 0\\\\\n",
       "\t5 & 5 & 1 &  9427.92 & 461562.00 & 0\\\\\n",
       "\t6 & 6 & 0 & 11035.08 &  89898.72 & 0\\\\\n",
       "\\end{tabular}\n"
      ],
      "text/markdown": [
       "\n",
       "A data.frame: 6 × 5\n",
       "\n",
       "| <!--/--> | Index &lt;int&gt; | Employed &lt;int&gt; | Bank.Balance &lt;dbl&gt; | Annual.Salary &lt;dbl&gt; | Defaulted. &lt;int&gt; |\n",
       "|---|---|---|---|---|---|\n",
       "| 1 | 1 | 1 |  8754.36 | 532339.56 | 0 |\n",
       "| 2 | 2 | 0 |  9806.16 | 145273.56 | 0 |\n",
       "| 3 | 3 | 1 | 12882.60 | 381205.68 | 0 |\n",
       "| 4 | 4 | 1 |  6351.00 | 428453.88 | 0 |\n",
       "| 5 | 5 | 1 |  9427.92 | 461562.00 | 0 |\n",
       "| 6 | 6 | 0 | 11035.08 |  89898.72 | 0 |\n",
       "\n"
      ],
      "text/plain": [
       "  Index Employed Bank.Balance Annual.Salary Defaulted.\n",
       "1 1     1         8754.36     532339.56     0         \n",
       "2 2     0         9806.16     145273.56     0         \n",
       "3 3     1        12882.60     381205.68     0         \n",
       "4 4     1         6351.00     428453.88     0         \n",
       "5 5     1         9427.92     461562.00     0         \n",
       "6 6     0        11035.08      89898.72     0         "
      ]
     },
     "metadata": {},
     "output_type": "display_data"
    }
   ],
   "source": [
    "data <- read.csv(\"../../data/Default_Fin.csv\")\n",
    "head(data)"
   ]
  },
  {
   "cell_type": "markdown",
   "id": "16c65bae",
   "metadata": {},
   "source": [
    "> 1. Check what columns has missing values"
   ]
  },
  {
   "cell_type": "code",
   "execution_count": 106,
   "id": "02750084",
   "metadata": {},
   "outputs": [
    {
     "data": {
      "text/html": [
       "FALSE"
      ],
      "text/latex": [
       "FALSE"
      ],
      "text/markdown": [
       "FALSE"
      ],
      "text/plain": [
       "[1] FALSE"
      ]
     },
     "metadata": {},
     "output_type": "display_data"
    }
   ],
   "source": [
    "anyNA(data)"
   ]
  },
  {
   "cell_type": "markdown",
   "id": "37f27776",
   "metadata": {},
   "source": [
    "> 2. Count default and non-default clients / and parts of total clients in %"
   ]
  },
  {
   "cell_type": "code",
   "execution_count": 107,
   "id": "2c67be65",
   "metadata": {},
   "outputs": [
    {
     "data": {
      "text/html": [
       "333"
      ],
      "text/latex": [
       "333"
      ],
      "text/markdown": [
       "333"
      ],
      "text/plain": [
       "[1] 333"
      ]
     },
     "metadata": {},
     "output_type": "display_data"
    },
    {
     "data": {
      "text/html": [
       "9667"
      ],
      "text/latex": [
       "9667"
      ],
      "text/markdown": [
       "9667"
      ],
      "text/plain": [
       "[1] 9667"
      ]
     },
     "metadata": {},
     "output_type": "display_data"
    }
   ],
   "source": [
    "def_count <- nrow(data[data$Defaulted. == 1, ])\n",
    "no_def_count <- nrow(data[data$Defaulted. == 0, ])\n",
    "def_count\n",
    "no_def_count "
   ]
  },
  {
   "cell_type": "code",
   "execution_count": 108,
   "id": "33ed5769",
   "metadata": {},
   "outputs": [
    {
     "data": {
      "text/html": [
       "3.33"
      ],
      "text/latex": [
       "3.33"
      ],
      "text/markdown": [
       "3.33"
      ],
      "text/plain": [
       "[1] 3.33"
      ]
     },
     "metadata": {},
     "output_type": "display_data"
    },
    {
     "data": {
      "text/html": [
       "96.67"
      ],
      "text/latex": [
       "96.67"
      ],
      "text/markdown": [
       "96.67"
      ],
      "text/plain": [
       "[1] 96.67"
      ]
     },
     "metadata": {},
     "output_type": "display_data"
    }
   ],
   "source": [
    "def_count / nrow(data) * 100 # part defaults\n",
    "no_def_count / nrow(data) * 100 # part non-defaults"
   ]
  },
  {
   "cell_type": "markdown",
   "id": "5f7b6bc5",
   "metadata": {},
   "source": [
    "> 3. Count Employed clients"
   ]
  },
  {
   "cell_type": "code",
   "execution_count": 109,
   "id": "4fbe158e",
   "metadata": {},
   "outputs": [
    {
     "data": {
      "text/html": [
       "7056"
      ],
      "text/latex": [
       "7056"
      ],
      "text/markdown": [
       "7056"
      ],
      "text/plain": [
       "[1] 7056"
      ]
     },
     "metadata": {},
     "output_type": "display_data"
    }
   ],
   "source": [
    "empl <- data[data$Employed == 1, ]\n",
    "nrow(empl)"
   ]
  },
  {
   "cell_type": "markdown",
   "id": "3ea76019",
   "metadata": {},
   "source": [
    "> 4. Count Employed Default clients"
   ]
  },
  {
   "cell_type": "code",
   "execution_count": 110,
   "id": "a385dcbc",
   "metadata": {},
   "outputs": [
    {
     "data": {
      "text/html": [
       "206"
      ],
      "text/latex": [
       "206"
      ],
      "text/markdown": [
       "206"
      ],
      "text/plain": [
       "[1] 206"
      ]
     },
     "metadata": {},
     "output_type": "display_data"
    }
   ],
   "source": [
    "empl <- data[data$Employed == 1 & data$Defaulted. == 1, ]\n",
    "nrow(empl)"
   ]
  },
  {
   "cell_type": "markdown",
   "id": "c844a7ca",
   "metadata": {},
   "source": [
    "> 5. Average salary by Employed clients"
   ]
  },
  {
   "cell_type": "code",
   "execution_count": 111,
   "id": "65075cd7",
   "metadata": {},
   "outputs": [
    {
     "data": {
      "text/html": [
       "480143.43414966"
      ],
      "text/latex": [
       "480143.43414966"
      ],
      "text/markdown": [
       "480143.43414966"
      ],
      "text/plain": [
       "[1] 480143.4"
      ]
     },
     "metadata": {},
     "output_type": "display_data"
    }
   ],
   "source": [
    "empl <- data[data$Employed == 1, ]\n",
    "mean(empl$Annual.Salary)"
   ]
  },
  {
   "cell_type": "markdown",
   "id": "c10a7c1b",
   "metadata": {},
   "source": [
    "> 6. Rename columns to \"id\", \"empl\", \"balance\", \"salary\", \"default\":"
   ]
  },
  {
   "cell_type": "code",
   "execution_count": 112,
   "id": "8029feb6",
   "metadata": {},
   "outputs": [
    {
     "data": {
      "text/html": [
       "<table class=\"dataframe\">\n",
       "<caption>A data.frame: 6 × 5</caption>\n",
       "<thead>\n",
       "\t<tr><th></th><th scope=col>id</th><th scope=col>empl</th><th scope=col>balance</th><th scope=col>salary</th><th scope=col>default</th></tr>\n",
       "\t<tr><th></th><th scope=col>&lt;int&gt;</th><th scope=col>&lt;int&gt;</th><th scope=col>&lt;dbl&gt;</th><th scope=col>&lt;dbl&gt;</th><th scope=col>&lt;int&gt;</th></tr>\n",
       "</thead>\n",
       "<tbody>\n",
       "\t<tr><th scope=row>1</th><td>1</td><td>1</td><td> 8754.36</td><td>532339.56</td><td>0</td></tr>\n",
       "\t<tr><th scope=row>2</th><td>2</td><td>0</td><td> 9806.16</td><td>145273.56</td><td>0</td></tr>\n",
       "\t<tr><th scope=row>3</th><td>3</td><td>1</td><td>12882.60</td><td>381205.68</td><td>0</td></tr>\n",
       "\t<tr><th scope=row>4</th><td>4</td><td>1</td><td> 6351.00</td><td>428453.88</td><td>0</td></tr>\n",
       "\t<tr><th scope=row>5</th><td>5</td><td>1</td><td> 9427.92</td><td>461562.00</td><td>0</td></tr>\n",
       "\t<tr><th scope=row>6</th><td>6</td><td>0</td><td>11035.08</td><td> 89898.72</td><td>0</td></tr>\n",
       "</tbody>\n",
       "</table>\n"
      ],
      "text/latex": [
       "A data.frame: 6 × 5\n",
       "\\begin{tabular}{r|lllll}\n",
       "  & id & empl & balance & salary & default\\\\\n",
       "  & <int> & <int> & <dbl> & <dbl> & <int>\\\\\n",
       "\\hline\n",
       "\t1 & 1 & 1 &  8754.36 & 532339.56 & 0\\\\\n",
       "\t2 & 2 & 0 &  9806.16 & 145273.56 & 0\\\\\n",
       "\t3 & 3 & 1 & 12882.60 & 381205.68 & 0\\\\\n",
       "\t4 & 4 & 1 &  6351.00 & 428453.88 & 0\\\\\n",
       "\t5 & 5 & 1 &  9427.92 & 461562.00 & 0\\\\\n",
       "\t6 & 6 & 0 & 11035.08 &  89898.72 & 0\\\\\n",
       "\\end{tabular}\n"
      ],
      "text/markdown": [
       "\n",
       "A data.frame: 6 × 5\n",
       "\n",
       "| <!--/--> | id &lt;int&gt; | empl &lt;int&gt; | balance &lt;dbl&gt; | salary &lt;dbl&gt; | default &lt;int&gt; |\n",
       "|---|---|---|---|---|---|\n",
       "| 1 | 1 | 1 |  8754.36 | 532339.56 | 0 |\n",
       "| 2 | 2 | 0 |  9806.16 | 145273.56 | 0 |\n",
       "| 3 | 3 | 1 | 12882.60 | 381205.68 | 0 |\n",
       "| 4 | 4 | 1 |  6351.00 | 428453.88 | 0 |\n",
       "| 5 | 5 | 1 |  9427.92 | 461562.00 | 0 |\n",
       "| 6 | 6 | 0 | 11035.08 |  89898.72 | 0 |\n",
       "\n"
      ],
      "text/plain": [
       "  id empl balance  salary    default\n",
       "1 1  1     8754.36 532339.56 0      \n",
       "2 2  0     9806.16 145273.56 0      \n",
       "3 3  1    12882.60 381205.68 0      \n",
       "4 4  1     6351.00 428453.88 0      \n",
       "5 5  1     9427.92 461562.00 0      \n",
       "6 6  0    11035.08  89898.72 0      "
      ]
     },
     "metadata": {},
     "output_type": "display_data"
    }
   ],
   "source": [
    "colnames(data) <- c(\"id\", \"empl\", \"balance\", \"salary\", \"default\")\n",
    "head(data)"
   ]
  },
  {
   "cell_type": "markdown",
   "id": "44b4185e",
   "metadata": {},
   "source": [
    "---"
   ]
  },
  {
   "cell_type": "markdown",
   "id": "a136ea00-b865-4ab3-8c14-148ecb23601d",
   "metadata": {},
   "source": [
    "## Набори даних"
   ]
  },
  {
   "cell_type": "markdown",
   "id": "a2203039-029b-4de2-a70e-b36feba50c05",
   "metadata": {},
   "source": [
    "1. https://github.com/kleban/r-book-published/tree/main/datasets/telecom_users.csv\n",
    "2. https://github.com/kleban/r-book-published/tree/main/datasets/telecom_sers.xlsx\n",
    "3. https://github.com/kleban/r-book-published/tree/main/datasets/Default_Fin.csv\n",
    "4. https://github.com/kleban/r-book-published/tree/main/datasets/employes.xml"
   ]
  },
  {
   "cell_type": "markdown",
   "id": "3c4e296e-7434-454a-ab2e-a3fe95f4de05",
   "metadata": {},
   "source": [
    "---"
   ]
  },
  {
   "cell_type": "markdown",
   "id": "e5f6def2",
   "metadata": {},
   "source": [
    "## References"
   ]
  },
  {
   "cell_type": "markdown",
   "id": "c158f38a",
   "metadata": {},
   "source": [
    "1. [SQLite in R. Datacamp](https://www.datacamp.com/community/tutorials/sqlite-in-r)\n",
    "2. [Tidyverse googlesheets4 0.2.0](https://www.tidyverse.org/blog/2020/05/googlesheets4-0-2-0/)\n",
    "<!-- 3. [Telecom users dataset. Practice classification with a telco dataset.Kaggle](https://www.kaggle.com/radmirzosimov/telecom-users-dataset) -->\n",
    "4. [Binanace spot Api Docs](https://github.com/binance/binance-spot-api-docs/blob/master/rest-api.md#klinecandlestick-data)\n",
    "5. [Web Scraping in R: rvest Tutorial](https://www.datacamp.com/community/tutorials/r-web-scraping-rvest) by Arvid Kingl"
   ]
  }
 ],
 "metadata": {
  "kernelspec": {
   "display_name": "R",
   "language": "R",
   "name": "ir"
  },
  "language_info": {
   "codemirror_mode": "r",
   "file_extension": ".r",
   "mimetype": "text/x-r-source",
   "name": "R",
   "pygments_lexer": "r",
   "version": "4.1.3"
  }
 },
 "nbformat": 4,
 "nbformat_minor": 5
}
