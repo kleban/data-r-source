{
 "cells": [
  {
   "cell_type": "markdown",
   "id": "98a5853a-1190-4fac-8cd4-5da1462c2e88",
   "metadata": {},
   "source": [
    "---\n",
    "\n",
    "author: Юрій Клебан\n",
    "\n",
    "---"
   ]
  },
  {
   "cell_type": "markdown",
   "id": "eccac509",
   "metadata": {},
   "source": [
    "# What's `dplyr` package [EN]"
   ]
  },
  {
   "cell_type": "markdown",
   "id": "f1b97e0f",
   "metadata": {},
   "source": [
    "The `dplyr` package is one of the most powerful and popular package in `R` for data manipulation. "
   ]
  },
  {
   "cell_type": "markdown",
   "id": "e2b4afc4",
   "metadata": {},
   "source": [
    "Working with data:\n",
    "\n",
    "- [x] Figure out what you want to do.\n",
    "- [x] Describe those tasks in the form of a computer program.\n",
    "- [x] Execute the program.\n",
    "\n",
    "The `dplyr` package makes these steps fast and easy:\n",
    "\n",
    "- [x] By constraining your options, it helps you think about your data manipulation challenges.\n",
    "- [x] It provides simple `verbs`, functions that correspond to the most common data manipulation tasks, to help you translate your thoughts into code.\n",
    "- [x] It uses efficient backends, so you spend less time waiting for the computer."
   ]
  },
  {
   "cell_type": "markdown",
   "id": "ccbefa41",
   "metadata": {},
   "source": [
    "Before use you should install package:"
   ]
  },
  {
   "cell_type": "code",
   "execution_count": 129,
   "id": "90b6d8ae",
   "metadata": {
    "vscode": {
     "languageId": "r"
    }
   },
   "outputs": [],
   "source": [
    "# install.packages(\"dplyr\")"
   ]
  },
  {
   "cell_type": "markdown",
   "id": "3b55de01",
   "metadata": {},
   "source": [
    "Next step is loading package:"
   ]
  },
  {
   "cell_type": "code",
   "execution_count": 130,
   "id": "ee3606bf",
   "metadata": {
    "vscode": {
     "languageId": "r"
    }
   },
   "outputs": [],
   "source": [
    "library(dplyr)"
   ]
  },
  {
   "cell_type": "markdown",
   "id": "e85404d9",
   "metadata": {},
   "source": [
    "`dplyr` functions work with pipes and expect `tidy data`. In tidy data:"
   ]
  },
  {
   "cell_type": "markdown",
   "id": "8944807e",
   "metadata": {},
   "source": [
    "![](img/da-dplyr/dplyr1.png)"
   ]
  },
  {
   "cell_type": "markdown",
   "id": "1b3dfa8c",
   "metadata": {},
   "source": [
    "Alternative way is to load `tidyverse` package with other attached:"
   ]
  },
  {
   "cell_type": "code",
   "execution_count": 131,
   "id": "c440732f",
   "metadata": {
    "vscode": {
     "languageId": "r"
    }
   },
   "outputs": [],
   "source": [
    "# install.packages(\"tidyverse\")\n",
    "library(tidyverse)"
   ]
  },
  {
   "cell_type": "markdown",
   "id": "5835bccf",
   "metadata": {},
   "source": [
    "---"
   ]
  },
  {
   "cell_type": "markdown",
   "id": "9592bda1",
   "metadata": {},
   "source": [
    "## Refences"
   ]
  },
  {
   "cell_type": "markdown",
   "id": "ae226f5e",
   "metadata": {},
   "source": [
    "1. [dplyr: A Grammar of Data Manipulation](https://cran.r-project.org/web/packages/dplyr/index.html) on https://cran.r-project.org/.\n",
    "2. [Data Transformation with splyr::cheat sheet](https://github.com/rstudio/cheatsheets/blob/master/data-transformation.pdf).\n",
    "3. [DPLYR TUTORIAL : DATA MANIPULATION (50 EXAMPLES)](https://www.listendata.com/2016/08/dplyr-tutorial.html) by Deepanshu Bhalla.\n",
    "5. [Dplyr Intro](https://stat545.com/dplyr-intro.html) by Stat 545.\n",
    "6.[R Dplyr Tutorial: Data Manipulation(Join) & Cleaning(Spread)](https://www.guru99.com/r-dplyr-tutorial.html). Introduction to Data Analysis\n",
    "7. [Loan Default Prediction. Beginners data set for financial analytics Kaggle](https://www.kaggle.com/kmldas/loan-default-prediction)"
   ]
  }
 ],
 "metadata": {
  "kernelspec": {
   "display_name": "R",
   "language": "R",
   "name": "ir"
  },
  "language_info": {
   "codemirror_mode": "r",
   "file_extension": ".r",
   "mimetype": "text/x-r-source",
   "name": "R",
   "pygments_lexer": "r",
   "version": "4.1.3"
  }
 },
 "nbformat": 4,
 "nbformat_minor": 5
}
