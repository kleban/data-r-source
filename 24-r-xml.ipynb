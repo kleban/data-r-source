{
 "cells": [
  {
   "cell_type": "markdown",
   "id": "49390754-3143-4350-863c-81e6444cc271",
   "metadata": {},
   "source": [
    "---\n",
    "author: \"Юрій Клебан\"\n",
    "---"
   ]
  },
  {
   "cell_type": "markdown",
   "id": "c2414ff5",
   "metadata": {},
   "source": [
    "# XML\n"
   ]
  },
  {
   "cell_type": "markdown",
   "id": "bfbdc29e-9921-4c08-994f-c1578b304e34",
   "metadata": {},
   "source": [
    "---"
   ]
  },
  {
   "cell_type": "markdown",
   "id": "698a3007-b996-4d72-9057-29d633da76f1",
   "metadata": {},
   "source": [
    "You need this packages for code execution:"
   ]
  },
  {
   "cell_type": "code",
   "execution_count": 78,
   "id": "d7c1f74f-e061-4f0c-9908-905ab7713267",
   "metadata": {},
   "outputs": [],
   "source": [
    "# install.packages(\"XML\")"
   ]
  },
  {
   "cell_type": "code",
   "execution_count": 79,
   "id": "13b036d6-61db-434e-b97d-bd419e7ba620",
   "metadata": {},
   "outputs": [],
   "source": [
    "invisible(Sys.setlocale(\"LC_ALL\", \"Ukrainian\"))\n",
    "invisible(options(warn=-1))"
   ]
  },
  {
   "cell_type": "markdown",
   "id": "ea0ff810",
   "metadata": {
    "tags": []
   },
   "source": [
    "## XML (eXtensible Markup Language)"
   ]
  },
  {
   "cell_type": "markdown",
   "id": "b895488b",
   "metadata": {},
   "source": [
    "For our example we will use data from `data/employes.xml`. File contains records with info:"
   ]
  },
  {
   "cell_type": "markdown",
   "id": "2d6bc62b",
   "metadata": {},
   "source": [
    "```\n",
    "<RECORDS>\n",
    "   <EMPLOYEE>\n",
    "      <ID>1</ID>\n",
    "      <NAME>Rick</NAME>\n",
    "      <SALARY>623.3</SALARY>\n",
    "      <STARTDATE>1/1/2012</STARTDATE>\n",
    "      <DEPT>IT</DEPT>\n",
    "   </EMPLOYEE>\n",
    "   ...\n",
    "</RECORDS>\n",
    "```"
   ]
  },
  {
   "cell_type": "code",
   "execution_count": 146,
   "id": "3296aa36",
   "metadata": {},
   "outputs": [],
   "source": [
    "#install.packages(\"XML\")\n",
    "library(\"XML\")\n",
    "#install.packages(\"methods\")\n",
    "library(\"methods\")"
   ]
  },
  {
   "cell_type": "code",
   "execution_count": 147,
   "id": "79f36c2b",
   "metadata": {},
   "outputs": [
    {
     "name": "stdout",
     "output_type": "stream",
     "text": [
      "<?xml version=\"1.0\"?>\n",
      "<RECORDS>\n",
      "  <EMPLOYEE>\n",
      "    <ID>1</ID>\n",
      "    <NAME>Rick</NAME>\n",
      "    <SALARY>623.3</SALARY>\n",
      "    <STARTDATE>1/1/2012</STARTDATE>\n",
      "    <DEPT>IT</DEPT>\n",
      "  </EMPLOYEE>\n",
      "  <EMPLOYEE>\n",
      "    <ID>2</ID>\n",
      "    <NAME>Dan</NAME>\n",
      "    <SALARY>515.2</SALARY>\n",
      "    <STARTDATE>9/23/2013</STARTDATE>\n",
      "    <DEPT>Operations</DEPT>\n",
      "  </EMPLOYEE>\n",
      "  <EMPLOYEE>\n",
      "    <ID>3</ID>\n",
      "    <NAME>Michelle</NAME>\n",
      "    <SALARY>611</SALARY>\n",
      "    <STARTDATE>11/15/2014</STARTDATE>\n",
      "    <DEPT>IT</DEPT>\n",
      "  </EMPLOYEE>\n",
      "  <EMPLOYEE>\n",
      "    <ID>4</ID>\n",
      "    <NAME>Ryan</NAME>\n",
      "    <SALARY>729</SALARY>\n",
      "    <STARTDATE>5/11/2014</STARTDATE>\n",
      "    <DEPT>HR</DEPT>\n",
      "  </EMPLOYEE>\n",
      "  <EMPLOYEE>\n",
      "    <ID>5</ID>\n",
      "    <NAME>Gary</NAME>\n",
      "    <SALARY>843.25</SALARY>\n",
      "    <STARTDATE>3/27/2015</STARTDATE>\n",
      "    <DEPT>Finance</DEPT>\n",
      "  </EMPLOYEE>\n",
      "  <EMPLOYEE>\n",
      "    <ID>6</ID>\n",
      "    <NAME>Nina</NAME>\n",
      "    <SALARY>578</SALARY>\n",
      "    <STARTDATE>5/21/2013</STARTDATE>\n",
      "    <DEPT>IT</DEPT>\n",
      "  </EMPLOYEE>\n",
      "  <EMPLOYEE>\n",
      "    <ID>7</ID>\n",
      "    <NAME>Simon</NAME>\n",
      "    <SALARY>632.8</SALARY>\n",
      "    <STARTDATE>7/30/2013</STARTDATE>\n",
      "    <DEPT>Operations</DEPT>\n",
      "  </EMPLOYEE>\n",
      "  <EMPLOYEE>\n",
      "    <ID>8</ID>\n",
      "    <NAME>Guru</NAME>\n",
      "    <SALARY>722.5</SALARY>\n",
      "    <STARTDATE>6/17/2014</STARTDATE>\n",
      "    <DEPT>Finance</DEPT>\n",
      "  </EMPLOYEE>\n",
      "</RECORDS>\n",
      " \n"
     ]
    }
   ],
   "source": [
    "result <- xmlParse(file = \"../../data/employes.xml\")\n",
    "print(result)"
   ]
  },
  {
   "cell_type": "code",
   "execution_count": 148,
   "id": "edf73e0d",
   "metadata": {},
   "outputs": [
    {
     "data": {
      "text/plain": [
       "<EMPLOYEE>\n",
       "  <ID>1</ID>\n",
       "  <NAME>Rick</NAME>\n",
       "  <SALARY>623.3</SALARY>\n",
       "  <STARTDATE>1/1/2012</STARTDATE>\n",
       "  <DEPT>IT</DEPT>\n",
       "</EMPLOYEE> "
      ]
     },
     "metadata": {},
     "output_type": "display_data"
    }
   ],
   "source": [
    "rootnode <- xmlRoot(result) # reading rootnode of xml document\n",
    "rootnode[[1]] # reading first record"
   ]
  },
  {
   "cell_type": "code",
   "execution_count": 149,
   "id": "ee90870e",
   "metadata": {},
   "outputs": [
    {
     "data": {
      "text/plain": [
       "<NAME>Rick</NAME> "
      ]
     },
     "metadata": {},
     "output_type": "display_data"
    }
   ],
   "source": [
    "rootnode[[1]][[2]] # reading first record in root node and second tag, its <NAME>"
   ]
  },
  {
   "cell_type": "markdown",
   "id": "1b7bc632",
   "metadata": {},
   "source": [
    "For us the best way is to get dataframe:"
   ]
  },
  {
   "cell_type": "code",
   "execution_count": 150,
   "id": "e0b82f06",
   "metadata": {},
   "outputs": [
    {
     "data": {
      "text/html": [
       "<table class=\"dataframe\">\n",
       "<caption>A data.frame: 8 × 5</caption>\n",
       "<thead>\n",
       "\t<tr><th scope=col>ID</th><th scope=col>NAME</th><th scope=col>SALARY</th><th scope=col>STARTDATE</th><th scope=col>DEPT</th></tr>\n",
       "\t<tr><th scope=col>&lt;chr&gt;</th><th scope=col>&lt;chr&gt;</th><th scope=col>&lt;chr&gt;</th><th scope=col>&lt;chr&gt;</th><th scope=col>&lt;chr&gt;</th></tr>\n",
       "</thead>\n",
       "<tbody>\n",
       "\t<tr><td>1</td><td>Rick    </td><td>623.3 </td><td>1/1/2012  </td><td>IT        </td></tr>\n",
       "\t<tr><td>2</td><td>Dan     </td><td>515.2 </td><td>9/23/2013 </td><td>Operations</td></tr>\n",
       "\t<tr><td>3</td><td>Michelle</td><td>611   </td><td>11/15/2014</td><td>IT        </td></tr>\n",
       "\t<tr><td>4</td><td>Ryan    </td><td>729   </td><td>5/11/2014 </td><td>HR        </td></tr>\n",
       "\t<tr><td>5</td><td>Gary    </td><td>843.25</td><td>3/27/2015 </td><td>Finance   </td></tr>\n",
       "\t<tr><td>6</td><td>Nina    </td><td>578   </td><td>5/21/2013 </td><td>IT        </td></tr>\n",
       "\t<tr><td>7</td><td>Simon   </td><td>632.8 </td><td>7/30/2013 </td><td>Operations</td></tr>\n",
       "\t<tr><td>8</td><td>Guru    </td><td>722.5 </td><td>6/17/2014 </td><td>Finance   </td></tr>\n",
       "</tbody>\n",
       "</table>\n"
      ],
      "text/latex": [
       "A data.frame: 8 × 5\n",
       "\\begin{tabular}{lllll}\n",
       " ID & NAME & SALARY & STARTDATE & DEPT\\\\\n",
       " <chr> & <chr> & <chr> & <chr> & <chr>\\\\\n",
       "\\hline\n",
       "\t 1 & Rick     & 623.3  & 1/1/2012   & IT        \\\\\n",
       "\t 2 & Dan      & 515.2  & 9/23/2013  & Operations\\\\\n",
       "\t 3 & Michelle & 611    & 11/15/2014 & IT        \\\\\n",
       "\t 4 & Ryan     & 729    & 5/11/2014  & HR        \\\\\n",
       "\t 5 & Gary     & 843.25 & 3/27/2015  & Finance   \\\\\n",
       "\t 6 & Nina     & 578    & 5/21/2013  & IT        \\\\\n",
       "\t 7 & Simon    & 632.8  & 7/30/2013  & Operations\\\\\n",
       "\t 8 & Guru     & 722.5  & 6/17/2014  & Finance   \\\\\n",
       "\\end{tabular}\n"
      ],
      "text/markdown": [
       "\n",
       "A data.frame: 8 × 5\n",
       "\n",
       "| ID &lt;chr&gt; | NAME &lt;chr&gt; | SALARY &lt;chr&gt; | STARTDATE &lt;chr&gt; | DEPT &lt;chr&gt; |\n",
       "|---|---|---|---|---|\n",
       "| 1 | Rick     | 623.3  | 1/1/2012   | IT         |\n",
       "| 2 | Dan      | 515.2  | 9/23/2013  | Operations |\n",
       "| 3 | Michelle | 611    | 11/15/2014 | IT         |\n",
       "| 4 | Ryan     | 729    | 5/11/2014  | HR         |\n",
       "| 5 | Gary     | 843.25 | 3/27/2015  | Finance    |\n",
       "| 6 | Nina     | 578    | 5/21/2013  | IT         |\n",
       "| 7 | Simon    | 632.8  | 7/30/2013  | Operations |\n",
       "| 8 | Guru     | 722.5  | 6/17/2014  | Finance    |\n",
       "\n"
      ],
      "text/plain": [
       "  ID NAME     SALARY STARTDATE  DEPT      \n",
       "1 1  Rick     623.3  1/1/2012   IT        \n",
       "2 2  Dan      515.2  9/23/2013  Operations\n",
       "3 3  Michelle 611    11/15/2014 IT        \n",
       "4 4  Ryan     729    5/11/2014  HR        \n",
       "5 5  Gary     843.25 3/27/2015  Finance   \n",
       "6 6  Nina     578    5/21/2013  IT        \n",
       "7 7  Simon    632.8  7/30/2013  Operations\n",
       "8 8  Guru     722.5  6/17/2014  Finance   "
      ]
     },
     "metadata": {},
     "output_type": "display_data"
    }
   ],
   "source": [
    "xmldataframe <- xmlToDataFrame(\"../../data/employes.xml\")\n",
    "xmldataframe"
   ]
  },
  {
   "cell_type": "markdown",
   "id": "b78adeea-b48c-460a-b8e7-ddfc0f885c78",
   "metadata": {},
   "source": [
    "---"
   ]
  },
  {
   "cell_type": "markdown",
   "id": "a136ea00-b865-4ab3-8c14-148ecb23601d",
   "metadata": {},
   "source": [
    "## Набори даних"
   ]
  },
  {
   "cell_type": "markdown",
   "id": "a2203039-029b-4de2-a70e-b36feba50c05",
   "metadata": {},
   "source": [
    "1. https://github.com/kleban/r-book-published/tree/main/datasets/telecom_users.csv\n",
    "2. https://github.com/kleban/r-book-published/tree/main/datasets/telecom_sers.xlsx\n",
    "3. https://github.com/kleban/r-book-published/tree/main/datasets/Default_Fin.csv\n",
    "4. https://github.com/kleban/r-book-published/tree/main/datasets/employes.xml"
   ]
  },
  {
   "cell_type": "markdown",
   "id": "3c4e296e-7434-454a-ab2e-a3fe95f4de05",
   "metadata": {},
   "source": [
    "---"
   ]
  },
  {
   "cell_type": "markdown",
   "id": "e5f6def2",
   "metadata": {},
   "source": [
    "## References"
   ]
  },
  {
   "cell_type": "markdown",
   "id": "c158f38a",
   "metadata": {},
   "source": [
    "1. [SQLite in R. Datacamp](https://www.datacamp.com/community/tutorials/sqlite-in-r)\n",
    "2. [Tidyverse googlesheets4 0.2.0](https://www.tidyverse.org/blog/2020/05/googlesheets4-0-2-0/)\n",
    "<!-- 3. [Telecom users dataset. Practice classification with a telco dataset.Kaggle](https://www.kaggle.com/radmirzosimov/telecom-users-dataset) -->\n",
    "4. [Binanace spot Api Docs](https://github.com/binance/binance-spot-api-docs/blob/master/rest-api.md#klinecandlestick-data)\n",
    "5. [Web Scraping in R: rvest Tutorial](https://www.datacamp.com/community/tutorials/r-web-scraping-rvest) by Arvid Kingl"
   ]
  }
 ],
 "metadata": {
  "kernelspec": {
   "display_name": "R",
   "language": "R",
   "name": "ir"
  },
  "language_info": {
   "codemirror_mode": "r",
   "file_extension": ".r",
   "mimetype": "text/x-r-source",
   "name": "R",
   "pygments_lexer": "r",
   "version": "4.1.3"
  }
 },
 "nbformat": 4,
 "nbformat_minor": 5
}
